{
 "cells": [
  {
   "cell_type": "code",
   "execution_count": null,
   "metadata": {},
   "outputs": [],
   "source": [
    "import numpy as np\n",
    "import pandas as pd\n",
    "from io import StringIO"
   ]
  },
  {
   "cell_type": "code",
   "execution_count": null,
   "metadata": {},
   "outputs": [],
   "source": [
    "file_path = 'E:\\arrayexpress.txt'\n",
    "\n",
    "with open(file_path, 'r') as file:\n",
    "    lines = file.readlines()\n",
    "\n",
    "sample_title = []\n",
    "sample_geo_accession = []\n",
    "\n",
    "for line in lines:\n",
    "    if line.startswith(\"!Sample_title\"):\n",
    "        sample_title = line.split(\"\\t\")[0:]\n",
    "    elif line.startswith(\"!Sample_geo_accession\"):\n",
    "        sample_geo_accession = line.split(\"\\t\")[0:]\n",
    "        \n",
    "data = pd.DataFrame({\n",
    "    'Sample_title': sample_title[1:],\n",
    "    'Sample_geo_accession': sample_geo_accession[1:]\n",
    "})\n",
    "\n",
    "print(data)\n",
    "\n"
   ]
  },
  {
   "cell_type": "code",
   "execution_count": null,
   "metadata": {},
   "outputs": [],
   "source": [
    "data['status'] = data['Sample_title'].apply(lambda x: 0 if 'normal' in x else (1 if 'CRC' in x else None))\n",
    "\n",
    "# delete'adenoma'\n",
    "data = data[data['status'] != None]\n",
    "# delete 'Sample_title'\n",
    "data.drop(columns=['Sample_title'], inplace=True)\n",
    "\n",
    "print(data.head())\n",
    "\n",
    "\n"
   ]
  },
  {
   "cell_type": "code",
   "execution_count": null,
   "metadata": {},
   "outputs": [],
   "source": [
    "with open(file_path, 'r') as file:\n",
    "    lines = file.readlines()\n",
    "\n",
    "\n",
    "filtered_lines = [line for line in lines if not line.startswith('!')]\n",
    "\n",
    "data2 = pd.read_csv(StringIO('\\n'.join(filtered_lines)), sep='\\t', header=None, index_col=0)\n",
    "data2=data2.T\n",
    "\n",
    "data2.head()"
   ]
  },
  {
   "cell_type": "code",
   "execution_count": null,
   "metadata": {},
   "outputs": [],
   "source": [
    "merged_data = pd.concat([data, data2],axis=1)\n",
    "merged_data.head()"
   ]
  },
  {
   "cell_type": "code",
   "execution_count": null,
   "metadata": {},
   "outputs": [],
   "source": [
    "CG = ['cg06551493', 'cg01419670', 'cg16530981', 'cg18022036','cg12691488', 'cg17292758', 'cg16170495',\n",
    "      'cg11240062', 'cg21585512', 'cg24702253', 'cg17187762', 'cg05983326', 'cg06825163',\n",
    "      'cg11885357', 'cg08829299', 'cg07044115']\n",
    "beta= [-0.41, 0.4332, 0.2895, -0.5172, -0.3915, -0.3246, -0.2886, 0.2451, -0.5651, \n",
    "             0.3615, -0.2445, -0.3951, -0.5089, -0.2504, -0.2357,-0.3607]\n",
    "\n",
    "\n",
    "result_data = data[data['TargetID'].isin(CG)]\n",
    "    \n",
    "result_data = result_data.set_index('TargetID').loc[CG].reset_index()\n",
    "result_data = result_data[result_data.columns[result_data.columns.str.endswith('Beta')].insert(0, 'TargetID')]\n",
    "display(result_data)\n",
    "\n",
    "\n",
    "\n",
    "\n",
    "\n",
    "result_data.iloc[:, 1:] = result_data.iloc[:, 1:].replace(\" \", np.nan).apply(pd.to_numeric)\n",
    "result_matrix = np.matmul(beta, result_data.iloc[:, 1:].values)\n",
    "\n",
    "print(\"矩阵乘法结果：\", result_matrix)"
   ]
  }
 ],
 "metadata": {
  "language_info": {
   "name": "python"
  }
 },
 "nbformat": 4,
 "nbformat_minor": 2
}

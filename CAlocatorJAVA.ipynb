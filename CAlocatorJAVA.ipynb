{
 "cells": [
  {
   "cell_type": "markdown",
   "metadata": {},
   "source": [
    "### EWAS disease sample"
   ]
  },
  {
   "cell_type": "code",
   "execution_count": null,
   "metadata": {},
   "outputs": [],
   "source": [
    "import warnings\n",
    "warnings.filterwarnings('ignore')\n",
    "\n",
    "import pandas as pd\n",
    "import numpy as np\n",
    "import matplotlib.pyplot as plt\n",
    "import seaborn as sbn\n",
    "sbn.set(style=\"white\",context='notebook')\n",
    "\n",
    "train=pd.read_csv('C://Users/LSY/Desktop/sample_disease.txt', delimiter=' ')\n",
    "display(train.head())\n",
    "\n",
    "unique_categories = train.disease.unique()\n",
    "display(unique_categories)"
   ]
  },
  {
   "cell_type": "markdown",
   "metadata": {},
   "source": [
    "### CancerLocator Explore\n",
    "info:\n",
    "General cancer \n",
    "5mC Methylation 450k microarray/BS-seq\n",
    "87 Probalistic model for tumor burden\n",
    "Kang et al. \n"
   ]
  },
  {
   "cell_type": "code",
   "execution_count": null,
   "metadata": {},
   "outputs": [],
   "source": [
    "from scipy.stats import beta, describe\n",
    "\n",
    "train1=pd.read_csv(\"D:/000Archive/ResearchProjects/DNAm_predictor/CancerLocator-v1.0.1/jasminezhoulab-CancerLocator-e5367a2/example/example_train\", delimiter='\\t', header=None)\n",
    "display(train1.head())\n",
    "test1=pd.read_csv(\"D:/000Archive/ResearchProjects/DNAm_predictor/CancerLocator-v1.0.1/jasminezhoulab-CancerLocator-e5367a2/example/example_test_methy\", delimiter='\\t', header=None)\n",
    "display(test1.head())\n",
    "cancerstatus = train1[0].unique()\n",
    "display(cancerstatus)\n"
   ]
  },
  {
   "cell_type": "code",
   "execution_count": 20,
   "metadata": {},
   "outputs": [],
   "source": [
    "class CancerPrediction:\n",
    "    def __init__(self, dens, thetas, cancer_pos):\n",
    "        n_theta = dens.shape[1]\n",
    "        n_type = dens.shape[0]\n",
    "        \n",
    "        self.theta_preds = np.zeros(n_type)\n",
    "        self.max_dens = np.zeros(n_type)\n",
    "        base_dens = dens[:, 0]  # the likelihoods if the sample is normal\n",
    "\n",
    "        for i in range(n_type):\n",
    "            row_dens = dens[i, 1:] if cancer_pos else dens[i]\n",
    "            self.theta_preds[i] = self.theta_pred(row_dens, thetas[1:] if cancer_pos else thetas)\n",
    "            self.max_dens[i] = np.max(row_dens)\n",
    "\n",
    "        # sort type by maxDens - baseDens\n",
    "        self.type_ranks = np.argsort(self.max_dens - base_dens)[::-1]\n",
    "        self.best_theta = self.theta_preds[self.type_ranks[0]]\n",
    "        self.best_dens = self.max_dens[self.type_ranks[0]]\n",
    "        self.best_ratio = self.best_dens - base_dens[self.type_ranks[0]]\n",
    "\n",
    "    @staticmethod\n",
    "    def theta_pred(sum_log_dens, thetas):\n",
    "        theta_index = np.argmax(sum_log_dens)\n",
    "        if theta_index == -1 or np.max(sum_log_dens) == np.min(sum_log_dens):\n",
    "            pred = np.nan\n",
    "        else:\n",
    "            pred = thetas[theta_index]\n",
    "        return pred\n",
    "\n",
    "    def get_best_theta(self):\n",
    "        return self.best_theta\n",
    "\n",
    "    def set_best_theta(self, best_theta):\n",
    "        self.best_theta = best_theta\n",
    "\n",
    "    def get_theta_preds(self):\n",
    "        return self.theta_preds\n",
    "\n",
    "    def set_theta_preds(self, thetas):\n",
    "        self.theta_preds = thetas\n",
    "\n",
    "    def get_max_dens(self):\n",
    "        return self.max_dens\n",
    "\n",
    "    def set_max_dens(self, max_dens):\n",
    "        self.max_dens = max_dens\n",
    "\n",
    "    def get_type_ranks(self):\n",
    "        return self.type_ranks\n",
    "\n",
    "    def set_type_ranks(self, type_ranks):\n",
    "        self.type_ranks = type_ranks\n",
    "\n",
    "    def get_best_dens(self):\n",
    "        return self.best_dens\n",
    "\n",
    "    def set_best_dens(self, best_dens):\n",
    "        self.best_dens = best_dens\n",
    "\n",
    "    def get_best_ratio(self):\n",
    "        return self.best_ratio\n",
    "\n",
    "    def set_best_ratio(self, best_ratio):\n",
    "        self.best_ratio = best_ratio\n"
   ]
  },
  {
   "cell_type": "code",
   "execution_count": 65,
   "metadata": {},
   "outputs": [],
   "source": [
    "class MethyModel:\n",
    "    def __init__(self, m):\n",
    "        self.n_feature = m.shape[1]\n",
    "        self.n_sample = m.shape[0]\n",
    "        self.alpha = np.zeros(self.n_feature)\n",
    "        self.beta = np.zeros(self.n_feature)\n",
    "        self.mean = np.zeros(self.n_feature)\n",
    "        self.sd = np.zeros(self.n_feature)\n",
    "        self.na_ratio = np.zeros(self.n_feature)\n",
    "\n",
    "        \n",
    "\n",
    "        for i in range(1,self.n_feature):\n",
    "            values = m.iloc[:, i]\n",
    "            display(values)\n",
    "            non_na = values[~pd.isna(values)]\n",
    "            non_na_count = len(non_na)\n",
    "\n",
    "            para = [np.nan, np.nan, np.nan, np.nan]\n",
    "            if non_na_count >= 2:\n",
    "                para = est_beta_dist(non_na)\n",
    "\n",
    "            self.alpha[i] = para[0]\n",
    "            self.beta[i] = para[1]\n",
    "            self.mean[i] = para[2]\n",
    "            self.sd[i] = para[3]\n",
    "            self.na_ratio[i] = (self.n_sample - non_na_count) / self.n_sample\n",
    "\n",
    "    def select_feature(self, selected_features):\n",
    "        new_model = MethyModel()\n",
    "        selected_indices = np.where(selected_features)[0]\n",
    "\n",
    "        new_model.alpha = np.copy(self.alpha[selected_indices])\n",
    "        new_model.beta = np.copy(self.beta[selected_indices])\n",
    "        new_model.mean = np.copy(self.mean[selected_indices])\n",
    "        new_model.sd = np.copy(self.sd[selected_indices])\n",
    "        new_model.na_ratio = np.copy(self.na_ratio[selected_indices])\n",
    "\n",
    "        new_model.n_feature = len(selected_indices)\n",
    "        new_model.n_sample = self.n_sample\n",
    "\n",
    "        return new_model\n",
    "\n",
    "    def get_n_sample(self):\n",
    "        return self.n_sample\n",
    "\n",
    "    def set_n_sample(self, n_sample):\n",
    "        self.n_sample = n_sample\n",
    "\n",
    "    def get_n_feature(self):\n",
    "        return self.n_feature\n",
    "\n",
    "    def set_n_feature(self, n_feature):\n",
    "        self.n_feature = n_feature\n",
    "\n",
    "    def get_alpha(self):\n",
    "        return self.alpha\n",
    "\n",
    "    def get_beta(self):\n",
    "        return self.beta\n",
    "\n",
    "    def get_mean(self):\n",
    "        return self.mean\n",
    "\n",
    "    def get_sd(self):\n",
    "        return self.sd\n",
    "\n",
    "    def get_na_ratio(self):\n",
    "        return self.na_ratio\n",
    "\n",
    "    def set_alpha(self, alpha):\n",
    "        self.alpha = alpha\n",
    "\n",
    "    def set_beta(self, beta):\n",
    "        self.beta = beta\n",
    "\n",
    "    def set_mean(self, mean):\n",
    "        self.mean = mean\n",
    "\n",
    "    def set_sd(self, sd):\n",
    "        self.sd = sd\n",
    "\n",
    "    def set_na_ratio(self, na_ratio):\n",
    "        self.na_ratio = na_ratio\n",
    "\n",
    "def est_beta_dist(beta_values):\n",
    "    mu = np.mean(beta_values)\n",
    "    var = np.var(beta_values, ddof=1)\n",
    "    alpha = -mu * (var + mu**2 - mu) / var\n",
    "    beta_param = (mu - 1) * (var + mu**2 - mu) / var\n",
    "    return [alpha, beta_param, mu, np.sqrt(var)]"
   ]
  },
  {
   "cell_type": "code",
   "execution_count": 22,
   "metadata": {},
   "outputs": [],
   "source": [
    "class MethySample:\n",
    "    def __init__(self, sample_id, sample_type, index, theta, real_data):\n",
    "        self.id = sample_id\n",
    "        self.type = sample_type\n",
    "        self.index = index\n",
    "        self.theta = theta\n",
    "        self.real_data = real_data\n",
    "        self.depth = None\n",
    "        self.methy = None\n",
    "        self.dens_ratio = None\n",
    "\n",
    "    def self_select_feature(self, selected_features):\n",
    "        \n",
    "        new_methy = [self.methy[i] for i in range(len(selected_features)) if selected_features[i]]\n",
    "        \n",
    "        self.set_methy(new_methy)\n",
    "\n",
    "    def select_feature(self, selected_features):\n",
    "        new_sample = MethySample(self.id, self.type, self.index, self.theta, self.real_data)\n",
    "        \n",
    "        new_methy = [self.methy[i] for i in range(len(selected_features)) if selected_features[i]]\n",
    "    \n",
    "        new_sample.set_methy(new_methy)\n",
    "        return new_sample\n",
    "\n",
    "    def get_feature_num(self):\n",
    "        return len(self.methy)\n",
    "\n",
    "    def set_type(self, sample_type):\n",
    "        self.type = sample_type\n",
    "\n",
    "    def get_type(self):\n",
    "        return self.type\n",
    "\n",
    "    def set_index(self, index):\n",
    "        self.index = index\n",
    "\n",
    "    def get_index(self):\n",
    "        return self.index\n",
    "\n",
    "    def set_theta(self, theta):\n",
    "        self.theta = theta\n",
    "\n",
    "    def get_theta(self):\n",
    "        return self.theta\n",
    "\n",
    "    def is_real_data(self):\n",
    "        return self.real_data\n",
    "\n",
    "    def set_depth(self, depth):\n",
    "        self.depth = depth\n",
    "\n",
    "    def get_depth(self):\n",
    "        return self.depth\n",
    "\n",
    "    def set_methy(self, methy):\n",
    "        self.methy = methy\n",
    "\n",
    "    def get_methy(self):\n",
    "        return self.methy\n",
    "\n",
    "    def get_id(self):\n",
    "        return self.id\n",
    "\n",
    "    def set_dens_ratio(self, dens_ratio):\n",
    "        self.dens_ratio = dens_ratio\n",
    "\n",
    "    def get_dens_ratio(self):\n",
    "        return self.dens_ratio\n"
   ]
  },
  {
   "cell_type": "code",
   "execution_count": 35,
   "metadata": {},
   "outputs": [],
   "source": [
    "class MixModel:\n",
    "    def __init__(self, tumor, normal, thetas, n_betas, my_threads):\n",
    "        n_features = tumor.get_na_ratio().shape[0]\n",
    "        self.n_betas = n_betas\n",
    "        betas = np.linspace(0, 1, n_betas)\n",
    "        self.mix_dens = [None] * n_features\n",
    "\n",
    "        def worker(i):\n",
    "            tumor_alpha = tumor.get_alpha()[i]\n",
    "            tumor_beta = tumor.get_beta()[i]\n",
    "            tumor_dist = beta(tumor_alpha, tumor_beta)\n",
    "\n",
    "            normal_alpha = normal.get_alpha()[i]\n",
    "            normal_beta = normal.get_beta()[i]\n",
    "            normal_dist = beta(normal_alpha, normal_beta)\n",
    "\n",
    "            mix_dens_i = np.zeros((n_betas, len(thetas)))\n",
    "            for j, theta in enumerate(thetas):\n",
    "                beta_dens = np.zeros(n_betas)\n",
    "                for k, beta_val in enumerate(betas):\n",
    "                    lower_bound = max(0, (beta_val - 1 + theta) / theta)\n",
    "                    upper_bound = min(1, beta_val / theta)\n",
    "                    points = np.linspace(lower_bound, upper_bound, 201)\n",
    "\n",
    "                    all_tumor_dens = tumor_dist.pdf(points)\n",
    "                    cal_prob = tumor_dist.cdf(upper_bound) - tumor_dist.cdf(lower_bound)\n",
    "                    est_prob = simps(all_tumor_dens, points)\n",
    "                    if est_prob != 0:\n",
    "                        all_tumor_dens *= cal_prob / est_prob\n",
    "                    else:\n",
    "                        all_tumor_dens += 1.0 / len(all_tumor_dens)\n",
    "\n",
    "                    normal_points = (beta_val - theta * points) / (1 - theta)\n",
    "                    all_normal_dens = normal_dist.pdf(normal_points[::-1])\n",
    "                    cal_prob = normal_dist.cdf((beta_val - theta * upper_bound) / (1 - theta)) - \\\n",
    "                               normal_dist.cdf((beta_val - theta * lower_bound) / (1 - theta))\n",
    "                    est_prob = simps(all_normal_dens[::-1], normal_points)\n",
    "                    if est_prob != 0:\n",
    "                        all_normal_dens *= cal_prob / est_prob\n",
    "                    else:\n",
    "                        all_normal_dens += 1.0 / len(all_normal_dens)\n",
    "\n",
    "                    dens = all_tumor_dens * all_normal_dens\n",
    "                    beta_dens[k] = simps(dens, points)\n",
    "\n",
    "                norm_term = simps(beta_dens, betas)\n",
    "                if norm_term != 0:\n",
    "                    beta_dens /= norm_term\n",
    "                else:\n",
    "                    beta_dens += 1.0 / len(beta_dens)\n",
    "\n",
    "                mix_dens_i[:, j] = beta_dens\n",
    "\n",
    "            self.mix_dens[i] = mix_dens_i\n",
    "\n",
    "        with Pool(my_threads) as pool:\n",
    "            pool.map(worker, range(n_features))\n",
    "\n",
    "    def select_feature(self, selected_features):\n",
    "        new_model = MixModel()\n",
    "        n_selected_feature = np.sum(selected_features)\n",
    "        new_mix_dens = [self.mix_dens[i] for i in range(len(selected_features)) if selected_features[i]]\n",
    "        new_model.set_mix_dens(new_mix_dens)\n",
    "        return new_model\n",
    "\n",
    "    def get_mix_dens(self):\n",
    "        return self.mix_dens\n",
    "\n",
    "    def set_mix_dens(self, mix_dens):\n",
    "        self.mix_dens = mix_dens\n",
    "\n",
    "    def get_feature_num(self):\n",
    "        return len(self.mix_dens)\n",
    "\n",
    "    def get_theta_num(self):\n",
    "        return len(self.mix_dens[0][0])\n",
    "\n",
    "    def get_n_betas(self):\n",
    "        return self.n_betas\n",
    "\n",
    "    def set_n_betas(self, n_betas):\n",
    "        self.n_betas = n_betas\n",
    "\n",
    "    def __init__(self):\n",
    "        pass\n"
   ]
  },
  {
   "cell_type": "code",
   "execution_count": null,
   "metadata": {},
   "outputs": [],
   "source": [
    "import numpy as np\n",
    "from scipy.stats import norm\n",
    "from scipy.special import comb\n",
    "\n",
    "class MethyModel:\n",
    "    def __init__(self, data_matrix):\n",
    "        self.data_matrix = data_matrix\n",
    "        self.alpha = np.zeros(data_matrix.shape[1])\n",
    "        self.beta = np.zeros(data_matrix.shape[1])\n",
    "\n",
    "    def get_alpha(self):\n",
    "        return self.alpha\n",
    "\n",
    "    def get_beta(self):\n",
    "        return self.beta\n",
    "\n",
    "    def select_feature(self, selected_features):\n",
    "        return self.data_matrix[:, selected_features]\n",
    "\n",
    "class MixModel:\n",
    "    def __init__(self, disease_model, ctr_model, thetas_dna, n_betas, n_threads):\n",
    "        self.disease_model = disease_model\n",
    "        self.ctr_model = ctr_model\n",
    "        self.thetas_dna = thetas_dna\n",
    "        self.n_betas = n_betas\n",
    "        self.n_threads = n_threads\n",
    "        self.mix_dens = np.zeros((len(thetas_dna), n_betas, 1))\n",
    "\n",
    "    def get_mix_dens(self):\n",
    "        return self.mix_dens\n",
    "\n",
    "def cal_thetas_dna(thetas, copy_num):\n",
    "    return thetas\n",
    "\n",
    "def main():\n",
    "    # command line args\n",
    "    config_file = sys.argv[1]\n",
    "\n",
    "    # read the config file\n",
    "    prop = {}\n",
    "    with open(config_file) as config:\n",
    "        for line in config:\n",
    "            key, value = line.strip().split('=')\n",
    "            prop[key] = value\n",
    "\n",
    "import sys\n",
    "from scipy.stats import norm\n",
    "from scipy.special import comb\n",
    "from concurrent.futures import ThreadPoolExecutor\n",
    "import time\n",
    "from decimal import Decimal\n",
    "\n",
    "class MethyModel:\n",
    "    def __init__(self, data_matrix):\n",
    "        self.data_matrix = data_matrix\n",
    "        self.alpha = np.zeros(data_matrix.shape[1])\n",
    "        self.beta = np.zeros(data_matrix.shape[1])\n",
    "\n",
    "    def get_alpha(self):\n",
    "        return self.alpha\n",
    "\n",
    "    def get_beta(self):\n",
    "        return self.beta\n",
    "\n",
    "    def select_feature(self, selected_features):\n",
    "        return self.data_matrix[:, selected_features]\n",
    "\n",
    "class MixModel:\n",
    "    def __init__(self, disease_model, ctr_model, thetas_dna, n_betas, n_threads):\n",
    "        self.disease_model = disease_model\n",
    "        self.ctr_model = ctr_model\n",
    "        self.thetas_dna = thetas_dna\n",
    "        self.n_betas = n_betas\n",
    "        self.n_threads = n_threads\n",
    "        self.mix_dens = np.zeros((len(thetas_dna), n_betas, 1))\n",
    "\n",
    "    def get_mix_dens(self):\n",
    "        return self.mix_dens\n",
    "\n",
    "def cal_thetas_dna(thetas, copy_num):\n",
    "    return thetas\n",
    "\n",
    "def cal_mean(values):\n",
    "    non_na = [v for v in values if not np.isnan(v)]\n",
    "    return np.mean(non_na)\n",
    "\n",
    "def cal_sample_dens(sample, model):\n",
    "    beta_values = sample.get_methy()\n",
    "    depths = sample.get_depth()\n",
    "    mix_dens = model.get_mix_dens()\n",
    "    n_feature = sample.get_feature_num()\n",
    "    n_theta = model.get_theta_num()\n",
    "    n_betas = mix_dens[0].shape[0]\n",
    "    betas = np.arange(n_betas) / (n_betas - 1.0)\n",
    "    dens = np.zeros((n_feature, n_theta))\n",
    "\n",
    "    for i in range(n_feature):\n",
    "        for j in range(n_theta):\n",
    "            beta_dens = mix_dens[i][:, j]\n",
    "            methy_counts = int(round(depths[i] * beta_values[i]))\n",
    "            dens[i, j] = cal_log_compound_dens(betas, beta_dens, depths[i], methy_counts)\n",
    "\n",
    "    return dens\n",
    "\n",
    "def cal_log_compound_dens(betas, beta_dens, n, k):\n",
    "    log_comb = comb(n, k, exact=True)\n",
    "    dens = beta_dens * np.power(betas, k) * np.power(1 - betas, n - k)\n",
    "    prob = integ_simpson(betas, dens)\n",
    "    log_prob = np.log(prob) if prob != 0 else -1000\n",
    "    return log_comb + log_prob\n",
    "\n",
    "def cal_sum_log_dens(theta_dists):\n",
    "    n_feature, n_theta = theta_dists.shape\n",
    "    sum_log_dens = np.zeros(n_theta)\n",
    "\n",
    "    for i in range(n_theta):\n",
    "        s = 0\n",
    "        non_na_feature = 0\n",
    "        for j in range(n_feature):\n",
    "            log_den = theta_dists[j, i]\n",
    "            if not np.isnan(log_den):\n",
    "                non_na_feature += 1\n",
    "                s += log_den\n",
    "\n",
    "        if non_na_feature != 0:\n",
    "            sum_log_dens[i] = s / non_na_feature\n",
    "        else:\n",
    "            sum_log_dens[i] = np.nan\n",
    "\n",
    "    return sum_log_dens\n",
    "\n",
    "def integ_simpson(points, dens):\n",
    "    s = 0\n",
    "    n = len(points) - 1\n",
    "    h = points[1] - points[0]\n",
    "\n",
    "    if n == 2:\n",
    "        s = dens[0] + 4 * dens[1] + dens[2]\n",
    "    else:\n",
    "        s = dens[0] + dens[n]\n",
    "        s += 2 * np.sum(dens[1:n:2])\n",
    "        s += 4 * np.sum(dens[2:n-1:2])\n",
    "\n",
    "    s = s * h / 3\n",
    "    return s\n",
    "\n",
    "def str_to_int(strings):\n",
    "    return [0 if s == \"NA\" else int(s) for s in strings]\n",
    "\n",
    "def str_to_double(strings):\n",
    "    return [np.nan if s == \"NA\" else float(s) for s in strings]\n",
    "\n",
    "def join(strings, delim):\n",
    "    return delim.join(strings)\n",
    "\n",
    "class MethySample:\n",
    "    def __init__(self, sample_id, depth, methy, features):\n",
    "        self.sample_id = sample_id\n",
    "        self.depth = depth\n",
    "        self.methy = methy\n",
    "        self.features = features\n",
    "\n",
    "    def set_depth(self, depth):\n",
    "        self.depth = depth\n",
    "\n",
    "    def set_methy(self, methy):\n",
    "        self.methy = methy\n",
    "\n",
    "    def self_select_feature(self, selected_features):\n",
    "        self.features = np.array(selected_features)\n",
    "\n",
    "    def get_id(self):\n",
    "        return self.sample_id\n",
    "\n",
    "    def get_depth(self):\n",
    "        return self.depth\n",
    "\n",
    "    def get_methy(self):\n",
    "        return self.methy\n",
    "\n",
    "    def get_feature_num(self):\n",
    "        return len(self.features)\n",
    "\n",
    "def sample_pred(sub_test_sample, sub_mix_models, disease_types, thetas):\n",
    "    sample_id = sub_test_sample.get_id()\n",
    "    n_theta = sub_mix_models[disease_types[0]][2].get_theta_num()\n",
    "\n",
    "    dens = np.zeros((len(disease_types), n_theta))\n",
    "    for i, disease_type in enumerate(disease_types):\n",
    "        type_sub_mix_models = sub_mix_models[disease_type]\n",
    "        theta_dists = cal_sample_dens(sub_test_sample, type_sub_mix_models[2])\n",
    "        dens[i, :] = cal_sum_log_dens(theta_dists)\n",
    "\n",
    "    type_ranks = np.argsort(dens.mean(axis=1))[::-1]\n",
    "    type_pred = disease_types[type_ranks[0]]\n",
    "    pred_sample = MethySample(type_pred, thetas[type_ranks[0]])\n",
    "    pred_sample.set_id(sample_id)\n",
    "    pred_sample.set_dens_ratio(np.mean(dens[type_ranks[0], :]) / len(sub_test_sample.features))\n",
    "    return pred_sample\n",
    "\n",
    "class Predictor:\n",
    "    def __init__(self, sub_test_sample, sub_mix_models, predictions, disease_types, thetas):\n",
    "        self.sub_test_sample = sub_test_sample\n",
    "        self.sub_mix_models = sub_mix_models\n",
    "        self.predictions = predictions\n",
    "        self.disease_types = disease_types\n",
    "        self.thetas = thetas\n",
    "\n",
    "    def run(self):\n",
    "        sample_id = self.sub_test_sample.get_id()\n",
    "        pred_sample = sample_pred(self.sub_test_sample, self.sub_mix_models, self.disease_types, self.thetas)\n",
    "        self.predictions[sample_id] = pred_sample\n",
    "\n"
   ]
  },
  {
   "cell_type": "code",
   "execution_count": 66,
   "metadata": {},
   "outputs": [
    {
     "data": {
      "text/plain": [
       "0         NaN\n",
       "1         NaN\n",
       "2         NaN\n",
       "3         NaN\n",
       "4         NaN\n",
       "        ...  \n",
       "495    0.0516\n",
       "496    0.0326\n",
       "497    0.0523\n",
       "498    0.0911\n",
       "499    0.0660\n",
       "Name: 1, Length: 500, dtype: float64"
      ]
     },
     "metadata": {},
     "output_type": "display_data"
    },
    {
     "data": {
      "text/plain": [
       "0         NaN\n",
       "1         NaN\n",
       "2         NaN\n",
       "3         NaN\n",
       "4         NaN\n",
       "        ...  \n",
       "495    0.1271\n",
       "496    0.1325\n",
       "497    0.1122\n",
       "498    0.1909\n",
       "499    0.1846\n",
       "Name: 2, Length: 500, dtype: float64"
      ]
     },
     "metadata": {},
     "output_type": "display_data"
    },
    {
     "data": {
      "text/plain": [
       "0         NaN\n",
       "1      0.9016\n",
       "2         NaN\n",
       "3      0.9016\n",
       "4         NaN\n",
       "        ...  \n",
       "495    0.2396\n",
       "496    0.2519\n",
       "497    0.2762\n",
       "498    0.2396\n",
       "499    0.2592\n",
       "Name: 3, Length: 500, dtype: float64"
      ]
     },
     "metadata": {},
     "output_type": "display_data"
    },
    {
     "data": {
      "text/plain": [
       "0      0.0125\n",
       "1      0.0000\n",
       "2      0.0000\n",
       "3      0.0000\n",
       "4      0.0000\n",
       "        ...  \n",
       "495    0.0432\n",
       "496    0.0432\n",
       "497    0.0375\n",
       "498    0.0323\n",
       "499    0.0954\n",
       "Name: 4, Length: 500, dtype: float64"
      ]
     },
     "metadata": {},
     "output_type": "display_data"
    },
    {
     "data": {
      "text/plain": [
       "0         NaN\n",
       "1      0.0000\n",
       "2      0.0345\n",
       "3         NaN\n",
       "4         NaN\n",
       "        ...  \n",
       "495    0.0168\n",
       "496    0.0219\n",
       "497    0.0165\n",
       "498    0.0205\n",
       "499    0.0265\n",
       "Name: 5, Length: 500, dtype: float64"
      ]
     },
     "metadata": {},
     "output_type": "display_data"
    },
    {
     "data": {
      "text/plain": [
       "0      0.0000\n",
       "1      0.0513\n",
       "2         NaN\n",
       "3         NaN\n",
       "4         NaN\n",
       "        ...  \n",
       "495    0.1152\n",
       "496    0.0218\n",
       "497    0.0177\n",
       "498    0.0230\n",
       "499    0.0178\n",
       "Name: 6, Length: 500, dtype: float64"
      ]
     },
     "metadata": {},
     "output_type": "display_data"
    },
    {
     "data": {
      "text/plain": [
       "0      0.0287\n",
       "1      0.0226\n",
       "2      0.0512\n",
       "3      0.0189\n",
       "4      0.1915\n",
       "        ...  \n",
       "495    0.3009\n",
       "496    0.3354\n",
       "497    0.2467\n",
       "498    0.2871\n",
       "499    0.3674\n",
       "Name: 7, Length: 500, dtype: float64"
      ]
     },
     "metadata": {},
     "output_type": "display_data"
    },
    {
     "data": {
      "text/plain": [
       "0         NaN\n",
       "1      0.9714\n",
       "2         NaN\n",
       "3         NaN\n",
       "4         NaN\n",
       "        ...  \n",
       "495    0.6351\n",
       "496    0.6351\n",
       "497    0.5431\n",
       "498    0.2752\n",
       "499    0.6156\n",
       "Name: 8, Length: 500, dtype: float64"
      ]
     },
     "metadata": {},
     "output_type": "display_data"
    },
    {
     "data": {
      "text/plain": [
       "0      0.7101\n",
       "1      0.7632\n",
       "2      0.6562\n",
       "3      0.6667\n",
       "4      0.5682\n",
       "        ...  \n",
       "495    0.6045\n",
       "496    0.5497\n",
       "497    0.2114\n",
       "498    0.2571\n",
       "499    0.1941\n",
       "Name: 9, Length: 500, dtype: float64"
      ]
     },
     "metadata": {},
     "output_type": "display_data"
    },
    {
     "data": {
      "text/plain": [
       "0      0.8000\n",
       "1      0.7632\n",
       "2      0.6500\n",
       "3      0.6500\n",
       "4      0.7264\n",
       "        ...  \n",
       "495    0.5209\n",
       "496    0.2467\n",
       "497    0.3331\n",
       "498    0.2670\n",
       "499    0.4532\n",
       "Name: 10, Length: 500, dtype: float64"
      ]
     },
     "metadata": {},
     "output_type": "display_data"
    },
    {
     "data": {
      "text/plain": [
       "0      0.3670\n",
       "1      0.3125\n",
       "2      0.5288\n",
       "3      0.4932\n",
       "4      0.4095\n",
       "        ...  \n",
       "495    0.2346\n",
       "496    0.2624\n",
       "497    0.3521\n",
       "498    0.5661\n",
       "499    0.3657\n",
       "Name: 11, Length: 500, dtype: float64"
      ]
     },
     "metadata": {},
     "output_type": "display_data"
    },
    {
     "data": {
      "text/plain": [
       "0      0.8672\n",
       "1      0.8618\n",
       "2      0.8421\n",
       "3      0.8295\n",
       "4      0.8485\n",
       "        ...  \n",
       "495    0.6241\n",
       "496    0.5612\n",
       "497    0.4857\n",
       "498    0.5497\n",
       "499    0.6267\n",
       "Name: 12, Length: 500, dtype: float64"
      ]
     },
     "metadata": {},
     "output_type": "display_data"
    },
    {
     "data": {
      "text/plain": [
       "0      0.6695\n",
       "1      0.6909\n",
       "2      0.7532\n",
       "3      0.7727\n",
       "4      0.6695\n",
       "        ...  \n",
       "495    0.3652\n",
       "496    0.3652\n",
       "497    0.3268\n",
       "498    0.3886\n",
       "499    0.3740\n",
       "Name: 13, Length: 500, dtype: float64"
      ]
     },
     "metadata": {},
     "output_type": "display_data"
    },
    {
     "data": {
      "text/plain": [
       "0      0.0000\n",
       "1      0.0013\n",
       "2      0.0016\n",
       "3      0.0000\n",
       "4      0.0019\n",
       "        ...  \n",
       "495    0.1036\n",
       "496    0.0731\n",
       "497    0.0985\n",
       "498    0.1023\n",
       "499    0.1184\n",
       "Name: 14, Length: 500, dtype: float64"
      ]
     },
     "metadata": {},
     "output_type": "display_data"
    },
    {
     "data": {
      "text/plain": [
       "0      0.0000\n",
       "1      0.0326\n",
       "2      0.0000\n",
       "3      0.0583\n",
       "4      0.0000\n",
       "        ...  \n",
       "495    0.0976\n",
       "496    0.0715\n",
       "497    0.1178\n",
       "498    0.0558\n",
       "499    0.1190\n",
       "Name: 15, Length: 500, dtype: float64"
      ]
     },
     "metadata": {},
     "output_type": "display_data"
    },
    {
     "data": {
      "text/plain": [
       "0      0.1797\n",
       "1      0.3481\n",
       "2      0.2870\n",
       "3      0.2199\n",
       "4      0.3538\n",
       "        ...  \n",
       "495    0.3198\n",
       "496    0.4123\n",
       "497    0.3443\n",
       "498    0.3201\n",
       "499    0.3581\n",
       "Name: 16, Length: 500, dtype: float64"
      ]
     },
     "metadata": {},
     "output_type": "display_data"
    },
    {
     "data": {
      "text/plain": [
       "0      0.3208\n",
       "1      0.2642\n",
       "2      0.1792\n",
       "3      0.2040\n",
       "4      0.5827\n",
       "        ...  \n",
       "495    0.3462\n",
       "496    0.3237\n",
       "497    0.2119\n",
       "498    0.2824\n",
       "499    0.2371\n",
       "Name: 17, Length: 500, dtype: float64"
      ]
     },
     "metadata": {},
     "output_type": "display_data"
    },
    {
     "data": {
      "text/plain": [
       "0      0.0000\n",
       "1      0.0000\n",
       "2      0.0164\n",
       "3      0.0000\n",
       "4      0.0000\n",
       "        ...  \n",
       "495    0.0392\n",
       "496    0.0492\n",
       "497    0.0499\n",
       "498    0.0493\n",
       "499    0.0483\n",
       "Name: 18, Length: 500, dtype: float64"
      ]
     },
     "metadata": {},
     "output_type": "display_data"
    },
    {
     "data": {
      "text/plain": [
       "0      0.9091\n",
       "1      0.8814\n",
       "2      0.9208\n",
       "3      0.8690\n",
       "4      0.9508\n",
       "        ...  \n",
       "495    0.7862\n",
       "496    0.8691\n",
       "497    0.8190\n",
       "498    0.8500\n",
       "499    0.7556\n",
       "Name: 19, Length: 500, dtype: float64"
      ]
     },
     "metadata": {},
     "output_type": "display_data"
    },
    {
     "data": {
      "text/plain": [
       "0      0.8972\n",
       "1      0.9762\n",
       "2      0.9268\n",
       "3      0.9125\n",
       "4      0.9420\n",
       "        ...  \n",
       "495    0.8851\n",
       "496    0.8637\n",
       "497    0.9109\n",
       "498    0.8773\n",
       "499    0.8822\n",
       "Name: 20, Length: 500, dtype: float64"
      ]
     },
     "metadata": {},
     "output_type": "display_data"
    },
    {
     "data": {
      "text/plain": [
       "0      0.9385\n",
       "1      0.8352\n",
       "2      0.9077\n",
       "3         NaN\n",
       "4      0.8101\n",
       "        ...  \n",
       "495    0.8709\n",
       "496    0.8392\n",
       "497    0.9104\n",
       "498    0.8731\n",
       "499    0.8867\n",
       "Name: 21, Length: 500, dtype: float64"
      ]
     },
     "metadata": {},
     "output_type": "display_data"
    },
    {
     "data": {
      "text/plain": [
       "0      0.0000\n",
       "1      0.0000\n",
       "2      0.0000\n",
       "3      0.0000\n",
       "4      0.0000\n",
       "        ...  \n",
       "495    0.0326\n",
       "496    0.0340\n",
       "497    0.0446\n",
       "498    0.0352\n",
       "499    0.0323\n",
       "Name: 22, Length: 500, dtype: float64"
      ]
     },
     "metadata": {},
     "output_type": "display_data"
    },
    {
     "data": {
      "text/plain": [
       "0      0.0000\n",
       "1      0.0000\n",
       "2      0.0000\n",
       "3      0.0000\n",
       "4      0.0000\n",
       "        ...  \n",
       "495    0.0250\n",
       "496    0.0268\n",
       "497    0.0564\n",
       "498    0.0172\n",
       "499    0.0284\n",
       "Name: 23, Length: 500, dtype: float64"
      ]
     },
     "metadata": {},
     "output_type": "display_data"
    },
    {
     "data": {
      "text/plain": [
       "0      0.8933\n",
       "1      0.9167\n",
       "2      0.9722\n",
       "3      0.9176\n",
       "4      0.9722\n",
       "        ...  \n",
       "495    0.8021\n",
       "496    0.7303\n",
       "497    0.8507\n",
       "498    0.7667\n",
       "499    0.7277\n",
       "Name: 24, Length: 500, dtype: float64"
      ]
     },
     "metadata": {},
     "output_type": "display_data"
    },
    {
     "data": {
      "text/plain": [
       "0      0.8966\n",
       "1      0.9351\n",
       "2      0.9432\n",
       "3      0.9174\n",
       "4      0.9167\n",
       "        ...  \n",
       "495    0.7590\n",
       "496    0.8190\n",
       "497    0.8233\n",
       "498    0.2513\n",
       "499       NaN\n",
       "Name: 25, Length: 500, dtype: float64"
      ]
     },
     "metadata": {},
     "output_type": "display_data"
    },
    {
     "data": {
      "text/plain": [
       "0      0.9405\n",
       "1      0.8649\n",
       "2      0.8605\n",
       "3      0.9000\n",
       "4         NaN\n",
       "        ...  \n",
       "495    0.7962\n",
       "496    0.8587\n",
       "497    0.8822\n",
       "498    0.8497\n",
       "499    0.8380\n",
       "Name: 26, Length: 500, dtype: float64"
      ]
     },
     "metadata": {},
     "output_type": "display_data"
    },
    {
     "data": {
      "text/plain": [
       "0      0.0251\n",
       "1      0.0160\n",
       "2      0.0825\n",
       "3      0.0168\n",
       "4      0.0000\n",
       "        ...  \n",
       "495    0.1191\n",
       "496    0.0977\n",
       "497    0.1041\n",
       "498    0.0969\n",
       "499    0.0732\n",
       "Name: 27, Length: 500, dtype: float64"
      ]
     },
     "metadata": {},
     "output_type": "display_data"
    },
    {
     "data": {
      "text/plain": [
       "0      0.8082\n",
       "1      0.8033\n",
       "2      0.8438\n",
       "3      0.8438\n",
       "4      0.8105\n",
       "        ...  \n",
       "495    0.8953\n",
       "496    0.9761\n",
       "497    0.2782\n",
       "498    0.9576\n",
       "499    0.9266\n",
       "Name: 28, Length: 500, dtype: float64"
      ]
     },
     "metadata": {},
     "output_type": "display_data"
    },
    {
     "data": {
      "text/plain": [
       "0      0.6000\n",
       "1      0.6104\n",
       "2      0.6471\n",
       "3      0.6218\n",
       "4      0.7488\n",
       "        ...  \n",
       "495    0.4329\n",
       "496    0.3303\n",
       "497    0.4109\n",
       "498    0.4552\n",
       "499    0.4274\n",
       "Name: 29, Length: 500, dtype: float64"
      ]
     },
     "metadata": {},
     "output_type": "display_data"
    },
    {
     "data": {
      "text/plain": [
       "0      0.0211\n",
       "1      0.0078\n",
       "2      0.0248\n",
       "3      0.0000\n",
       "4      0.0000\n",
       "        ...  \n",
       "495    0.0707\n",
       "496    0.0575\n",
       "497    0.0867\n",
       "498    0.0847\n",
       "499    0.0771\n",
       "Name: 30, Length: 500, dtype: float64"
      ]
     },
     "metadata": {},
     "output_type": "display_data"
    },
    {
     "data": {
      "text/plain": [
       "0      0.0344\n",
       "1      0.0207\n",
       "2      0.0116\n",
       "3      0.0150\n",
       "4      0.0127\n",
       "        ...  \n",
       "495    0.0708\n",
       "496    0.0444\n",
       "497    0.0674\n",
       "498    0.0479\n",
       "499    0.0338\n",
       "Name: 31, Length: 500, dtype: float64"
      ]
     },
     "metadata": {},
     "output_type": "display_data"
    },
    {
     "data": {
      "text/plain": [
       "0      0.0294\n",
       "1      0.0420\n",
       "2      0.0127\n",
       "3      0.0000\n",
       "4      0.0294\n",
       "        ...  \n",
       "495    0.0373\n",
       "496    0.0555\n",
       "497    0.0633\n",
       "498    0.1114\n",
       "499    0.0711\n",
       "Name: 32, Length: 500, dtype: float64"
      ]
     },
     "metadata": {},
     "output_type": "display_data"
    },
    {
     "data": {
      "text/plain": [
       "0      0.9252\n",
       "1      0.8520\n",
       "2      0.8393\n",
       "3      0.9279\n",
       "4      0.9252\n",
       "        ...  \n",
       "495    0.3779\n",
       "496    0.5796\n",
       "497    0.6887\n",
       "498    0.6175\n",
       "499    0.6123\n",
       "Name: 33, Length: 500, dtype: float64"
      ]
     },
     "metadata": {},
     "output_type": "display_data"
    },
    {
     "data": {
      "text/plain": [
       "0      0.9375\n",
       "1         NaN\n",
       "2      0.8378\n",
       "3      0.8158\n",
       "4      0.9524\n",
       "        ...  \n",
       "495    0.8483\n",
       "496    0.4217\n",
       "497    0.4642\n",
       "498    0.8046\n",
       "499    0.7475\n",
       "Name: 34, Length: 500, dtype: float64"
      ]
     },
     "metadata": {},
     "output_type": "display_data"
    },
    {
     "data": {
      "text/plain": [
       "0      0.6429\n",
       "1      0.6429\n",
       "2      0.6739\n",
       "3      0.6739\n",
       "4      0.7891\n",
       "        ...  \n",
       "495       NaN\n",
       "496       NaN\n",
       "497       NaN\n",
       "498       NaN\n",
       "499       NaN\n",
       "Name: 35, Length: 500, dtype: float64"
      ]
     },
     "metadata": {},
     "output_type": "display_data"
    },
    {
     "data": {
      "text/plain": [
       "0      0.0909\n",
       "1      0.0000\n",
       "2         NaN\n",
       "3      0.0000\n",
       "4         NaN\n",
       "        ...  \n",
       "495    0.0515\n",
       "496    0.0770\n",
       "497    0.0601\n",
       "498    0.0626\n",
       "499    0.0677\n",
       "Name: 36, Length: 500, dtype: float64"
      ]
     },
     "metadata": {},
     "output_type": "display_data"
    },
    {
     "data": {
      "text/plain": [
       "0      0.6915\n",
       "1      0.5116\n",
       "2      0.5507\n",
       "3      0.8154\n",
       "4      0.8509\n",
       "        ...  \n",
       "495    0.7267\n",
       "496    0.4716\n",
       "497    0.6392\n",
       "498    0.4860\n",
       "499    0.8068\n",
       "Name: 37, Length: 500, dtype: float64"
      ]
     },
     "metadata": {},
     "output_type": "display_data"
    },
    {
     "data": {
      "text/plain": [
       "0      0.0000\n",
       "1      0.0000\n",
       "2      0.0192\n",
       "3      0.0000\n",
       "4      0.0000\n",
       "        ...  \n",
       "495    0.0325\n",
       "496    0.0343\n",
       "497    0.0310\n",
       "498    0.0365\n",
       "499    0.0337\n",
       "Name: 38, Length: 500, dtype: float64"
      ]
     },
     "metadata": {},
     "output_type": "display_data"
    },
    {
     "data": {
      "text/plain": [
       "0      0.0000\n",
       "1      0.0175\n",
       "2      0.0175\n",
       "3      0.0000\n",
       "4      0.0000\n",
       "        ...  \n",
       "495    0.0276\n",
       "496    0.0202\n",
       "497    0.0314\n",
       "498    0.0287\n",
       "499    0.0272\n",
       "Name: 39, Length: 500, dtype: float64"
      ]
     },
     "metadata": {},
     "output_type": "display_data"
    },
    {
     "data": {
      "text/plain": [
       "0      0.0000\n",
       "1      0.0000\n",
       "2         NaN\n",
       "3      0.0000\n",
       "4      0.0000\n",
       "        ...  \n",
       "495    0.0212\n",
       "496    0.0177\n",
       "497    0.0163\n",
       "498    0.0177\n",
       "499    0.0220\n",
       "Name: 40, Length: 500, dtype: float64"
      ]
     },
     "metadata": {},
     "output_type": "display_data"
    },
    {
     "data": {
      "text/plain": [
       "0      0.0000\n",
       "1      0.0105\n",
       "2      0.0000\n",
       "3      0.0000\n",
       "4      0.0000\n",
       "        ...  \n",
       "495    0.2405\n",
       "496    0.1803\n",
       "497    0.3861\n",
       "498    0.0299\n",
       "499    0.0287\n",
       "Name: 41, Length: 500, dtype: float64"
      ]
     },
     "metadata": {},
     "output_type": "display_data"
    },
    {
     "data": {
      "text/plain": [
       "0      0.8880\n",
       "1      0.8621\n",
       "2      0.9572\n",
       "3      0.9643\n",
       "4      0.9510\n",
       "        ...  \n",
       "495    0.9270\n",
       "496    0.9075\n",
       "497    0.9267\n",
       "498    0.8949\n",
       "499    0.9316\n",
       "Name: 42, Length: 500, dtype: float64"
      ]
     },
     "metadata": {},
     "output_type": "display_data"
    },
    {
     "data": {
      "text/plain": [
       "0      0.9589\n",
       "1      0.8772\n",
       "2      0.8772\n",
       "3      0.9244\n",
       "4      0.9348\n",
       "        ...  \n",
       "495    0.7439\n",
       "496    0.8766\n",
       "497    0.8544\n",
       "498    0.8404\n",
       "499    0.8580\n",
       "Name: 43, Length: 500, dtype: float64"
      ]
     },
     "metadata": {},
     "output_type": "display_data"
    },
    {
     "data": {
      "text/plain": [
       "0      0.9244\n",
       "1      0.8964\n",
       "2      0.9386\n",
       "3      0.9024\n",
       "4      0.9468\n",
       "        ...  \n",
       "495    0.8845\n",
       "496    0.8519\n",
       "497    0.8692\n",
       "498    0.9220\n",
       "499    0.9052\n",
       "Name: 44, Length: 500, dtype: float64"
      ]
     },
     "metadata": {},
     "output_type": "display_data"
    },
    {
     "data": {
      "text/plain": [
       "0      0.8413\n",
       "1      0.8148\n",
       "2      0.8246\n",
       "3      0.8861\n",
       "4      0.7273\n",
       "        ...  \n",
       "495    0.8712\n",
       "496    0.9345\n",
       "497    0.7991\n",
       "498    0.9125\n",
       "499    0.9186\n",
       "Name: 45, Length: 500, dtype: float64"
      ]
     },
     "metadata": {},
     "output_type": "display_data"
    },
    {
     "data": {
      "text/plain": [
       "0      0.9000\n",
       "1      0.9365\n",
       "2      0.9759\n",
       "3      0.9623\n",
       "4      0.9121\n",
       "        ...  \n",
       "495    0.8513\n",
       "496    0.5223\n",
       "497    0.8539\n",
       "498    0.8564\n",
       "499    0.8250\n",
       "Name: 46, Length: 500, dtype: float64"
      ]
     },
     "metadata": {},
     "output_type": "display_data"
    },
    {
     "data": {
      "text/plain": [
       "0      0.9054\n",
       "1      0.8812\n",
       "2      0.8800\n",
       "3      0.8322\n",
       "4      0.8909\n",
       "        ...  \n",
       "495    0.7908\n",
       "496    0.8788\n",
       "497    0.8645\n",
       "498    0.8744\n",
       "499    0.8293\n",
       "Name: 47, Length: 500, dtype: float64"
      ]
     },
     "metadata": {},
     "output_type": "display_data"
    },
    {
     "data": {
      "text/plain": [
       "0      0.8679\n",
       "1      0.9219\n",
       "2      0.8472\n",
       "3      0.9403\n",
       "4      0.8571\n",
       "        ...  \n",
       "495    0.7172\n",
       "496    0.7150\n",
       "497    0.5366\n",
       "498    0.7366\n",
       "499    0.7804\n",
       "Name: 48, Length: 500, dtype: float64"
      ]
     },
     "metadata": {},
     "output_type": "display_data"
    },
    {
     "data": {
      "text/plain": [
       "0      0.0055\n",
       "1      0.0404\n",
       "2      0.0055\n",
       "3      0.0060\n",
       "4      0.0079\n",
       "        ...  \n",
       "495    0.0391\n",
       "496    0.0498\n",
       "497    0.0477\n",
       "498    0.0444\n",
       "499    0.0317\n",
       "Name: 49, Length: 500, dtype: float64"
      ]
     },
     "metadata": {},
     "output_type": "display_data"
    },
    {
     "data": {
      "text/plain": [
       "0      0.0231\n",
       "1      0.0034\n",
       "2      0.0034\n",
       "3      0.0040\n",
       "4      0.0192\n",
       "        ...  \n",
       "495    0.0348\n",
       "496    0.0419\n",
       "497    0.0425\n",
       "498    0.0365\n",
       "499    0.0493\n",
       "Name: 50, Length: 500, dtype: float64"
      ]
     },
     "metadata": {},
     "output_type": "display_data"
    },
    {
     "data": {
      "text/plain": [
       "0      0.0141\n",
       "1      0.1046\n",
       "2      0.0141\n",
       "3      0.0161\n",
       "4      0.1046\n",
       "        ...  \n",
       "495    0.0726\n",
       "496    0.0656\n",
       "497    0.0585\n",
       "498    0.0492\n",
       "499    0.0758\n",
       "Name: 51, Length: 500, dtype: float64"
      ]
     },
     "metadata": {},
     "output_type": "display_data"
    },
    {
     "data": {
      "text/plain": [
       "0      0.7344\n",
       "1         NaN\n",
       "2         NaN\n",
       "3      0.7266\n",
       "4         NaN\n",
       "        ...  \n",
       "495    0.3645\n",
       "496    0.3056\n",
       "497    0.6284\n",
       "498    0.2268\n",
       "499    0.4456\n",
       "Name: 52, Length: 500, dtype: float64"
      ]
     },
     "metadata": {},
     "output_type": "display_data"
    },
    {
     "data": {
      "text/plain": [
       "0      0.9133\n",
       "1      0.9133\n",
       "2      0.6724\n",
       "3      0.8704\n",
       "4      0.9065\n",
       "        ...  \n",
       "495    0.6340\n",
       "496    0.5515\n",
       "497    0.5416\n",
       "498    0.5846\n",
       "499    0.5477\n",
       "Name: 53, Length: 500, dtype: float64"
      ]
     },
     "metadata": {},
     "output_type": "display_data"
    },
    {
     "data": {
      "text/plain": [
       "0      0.9590\n",
       "1      0.9859\n",
       "2      0.9375\n",
       "3      0.9889\n",
       "4      0.9889\n",
       "        ...  \n",
       "495    0.8464\n",
       "496    0.6490\n",
       "497    0.8700\n",
       "498    0.8528\n",
       "499    0.8649\n",
       "Name: 54, Length: 500, dtype: float64"
      ]
     },
     "metadata": {},
     "output_type": "display_data"
    },
    {
     "data": {
      "text/plain": [
       "0      0.9074\n",
       "1      0.9538\n",
       "2      0.9304\n",
       "3      0.9454\n",
       "4      0.9538\n",
       "        ...  \n",
       "495    0.7253\n",
       "496    0.7992\n",
       "497    0.7544\n",
       "498    0.7722\n",
       "499    0.7230\n",
       "Name: 55, Length: 500, dtype: float64"
      ]
     },
     "metadata": {},
     "output_type": "display_data"
    },
    {
     "data": {
      "text/plain": [
       "0      0.9381\n",
       "1      0.9611\n",
       "2      0.9276\n",
       "3      0.9469\n",
       "4      0.8889\n",
       "        ...  \n",
       "495    0.9404\n",
       "496    0.8058\n",
       "497    0.9084\n",
       "498    0.7589\n",
       "499    0.9367\n",
       "Name: 56, Length: 500, dtype: float64"
      ]
     },
     "metadata": {},
     "output_type": "display_data"
    },
    {
     "data": {
      "text/plain": [
       "0      0.9708\n",
       "1      0.9708\n",
       "2      0.9459\n",
       "3      0.9356\n",
       "4      0.9683\n",
       "        ...  \n",
       "495    0.9031\n",
       "496    0.8938\n",
       "497    0.8611\n",
       "498    0.8963\n",
       "499    0.8433\n",
       "Name: 57, Length: 500, dtype: float64"
      ]
     },
     "metadata": {},
     "output_type": "display_data"
    },
    {
     "data": {
      "text/plain": [
       "0      0.9179\n",
       "1      0.8785\n",
       "2      0.9375\n",
       "3      0.9280\n",
       "4      0.9915\n",
       "        ...  \n",
       "495    0.9568\n",
       "496    0.9728\n",
       "497    0.9532\n",
       "498    0.9518\n",
       "499    0.9519\n",
       "Name: 58, Length: 500, dtype: float64"
      ]
     },
     "metadata": {},
     "output_type": "display_data"
    },
    {
     "data": {
      "text/plain": [
       "0      0.9792\n",
       "1      0.9604\n",
       "2      0.9596\n",
       "3      0.9528\n",
       "4      0.9307\n",
       "        ...  \n",
       "495    0.8824\n",
       "496    0.8440\n",
       "497    0.8220\n",
       "498    0.8370\n",
       "499    0.8824\n",
       "Name: 59, Length: 500, dtype: float64"
      ]
     },
     "metadata": {},
     "output_type": "display_data"
    },
    {
     "data": {
      "text/plain": [
       "0      0.0714\n",
       "1      0.0993\n",
       "2      0.2331\n",
       "3      0.1929\n",
       "4      0.0993\n",
       "        ...  \n",
       "495    0.1166\n",
       "496    0.1770\n",
       "497    0.0618\n",
       "498    0.0501\n",
       "499    0.0821\n",
       "Name: 60, Length: 500, dtype: float64"
      ]
     },
     "metadata": {},
     "output_type": "display_data"
    },
    {
     "data": {
      "text/plain": [
       "0      0.0000\n",
       "1      0.0000\n",
       "2      0.0036\n",
       "3      0.0000\n",
       "4      0.0036\n",
       "        ...  \n",
       "495    0.0236\n",
       "496    0.0243\n",
       "497    0.0222\n",
       "498    0.0289\n",
       "499    0.0272\n",
       "Name: 61, Length: 500, dtype: float64"
      ]
     },
     "metadata": {},
     "output_type": "display_data"
    },
    {
     "data": {
      "text/plain": [
       "0      0.7126\n",
       "1      0.4146\n",
       "2      0.7538\n",
       "3      0.5000\n",
       "4      0.7538\n",
       "        ...  \n",
       "495    0.6632\n",
       "496    0.6115\n",
       "497    0.5556\n",
       "498    0.5414\n",
       "499    0.4595\n",
       "Name: 62, Length: 500, dtype: float64"
      ]
     },
     "metadata": {},
     "output_type": "display_data"
    },
    {
     "data": {
      "text/plain": [
       "0      0.8060\n",
       "1      0.8276\n",
       "2      0.8873\n",
       "3      0.8729\n",
       "4      0.9247\n",
       "        ...  \n",
       "495    0.6836\n",
       "496    0.6136\n",
       "497    0.9423\n",
       "498    0.7991\n",
       "499    0.7880\n",
       "Name: 63, Length: 500, dtype: float64"
      ]
     },
     "metadata": {},
     "output_type": "display_data"
    },
    {
     "data": {
      "text/plain": [
       "0      0.8819\n",
       "1      0.9561\n",
       "2      0.9215\n",
       "3      0.8993\n",
       "4      0.9130\n",
       "        ...  \n",
       "495    0.7527\n",
       "496    0.7742\n",
       "497    0.8234\n",
       "498    0.7987\n",
       "499    0.8736\n",
       "Name: 64, Length: 500, dtype: float64"
      ]
     },
     "metadata": {},
     "output_type": "display_data"
    },
    {
     "data": {
      "text/plain": [
       "0      0.9000\n",
       "1      0.9000\n",
       "2      0.8333\n",
       "3      0.8571\n",
       "4      0.9000\n",
       "        ...  \n",
       "495    0.8332\n",
       "496    0.9079\n",
       "497    0.8396\n",
       "498    0.8166\n",
       "499    0.8948\n",
       "Name: 65, Length: 500, dtype: float64"
      ]
     },
     "metadata": {},
     "output_type": "display_data"
    },
    {
     "data": {
      "text/plain": [
       "0      0.0333\n",
       "1      0.0051\n",
       "2      0.0068\n",
       "3      0.0775\n",
       "4      0.0769\n",
       "        ...  \n",
       "495    0.0224\n",
       "496    0.0223\n",
       "497    0.0211\n",
       "498    0.0258\n",
       "499    0.0314\n",
       "Name: 66, Length: 500, dtype: float64"
      ]
     },
     "metadata": {},
     "output_type": "display_data"
    },
    {
     "data": {
      "text/plain": [
       "0      0.9412\n",
       "1      0.9412\n",
       "2      0.8919\n",
       "3      0.7333\n",
       "4      0.8919\n",
       "        ...  \n",
       "495    0.6312\n",
       "496    0.6364\n",
       "497    0.6842\n",
       "498    0.6266\n",
       "499    0.7101\n",
       "Name: 67, Length: 500, dtype: float64"
      ]
     },
     "metadata": {},
     "output_type": "display_data"
    },
    {
     "data": {
      "text/plain": [
       "0         NaN\n",
       "1      0.5385\n",
       "2      0.6494\n",
       "3         NaN\n",
       "4      0.7302\n",
       "        ...  \n",
       "495    0.6387\n",
       "496    0.5628\n",
       "497    0.5451\n",
       "498    0.5484\n",
       "499    0.4871\n",
       "Name: 68, Length: 500, dtype: float64"
      ]
     },
     "metadata": {},
     "output_type": "display_data"
    },
    {
     "data": {
      "text/plain": [
       "0      0.0278\n",
       "1      0.0203\n",
       "2      0.0278\n",
       "3      0.0882\n",
       "4      0.0000\n",
       "        ...  \n",
       "495    0.0731\n",
       "496    0.0462\n",
       "497    0.0644\n",
       "498    0.0631\n",
       "499    0.0489\n",
       "Name: 69, Length: 500, dtype: float64"
      ]
     },
     "metadata": {},
     "output_type": "display_data"
    },
    {
     "data": {
      "text/plain": [
       "0      0.9315\n",
       "1      0.9268\n",
       "2      0.8194\n",
       "3      0.8864\n",
       "4         NaN\n",
       "        ...  \n",
       "495    0.7119\n",
       "496    0.7595\n",
       "497    0.7025\n",
       "498    0.7840\n",
       "499    0.7411\n",
       "Name: 70, Length: 500, dtype: float64"
      ]
     },
     "metadata": {},
     "output_type": "display_data"
    },
    {
     "data": {
      "text/plain": [
       "0      0.9213\n",
       "1      0.9407\n",
       "2      0.9190\n",
       "3      0.9533\n",
       "4      0.9058\n",
       "        ...  \n",
       "495    0.3137\n",
       "496    0.3288\n",
       "497    0.5532\n",
       "498    0.3558\n",
       "499    0.4855\n",
       "Name: 71, Length: 500, dtype: float64"
      ]
     },
     "metadata": {},
     "output_type": "display_data"
    },
    {
     "data": {
      "text/plain": [
       "0      0.7647\n",
       "1         NaN\n",
       "2         NaN\n",
       "3      0.6923\n",
       "4      0.7419\n",
       "        ...  \n",
       "495    0.4525\n",
       "496    0.3243\n",
       "497    0.3747\n",
       "498    0.4753\n",
       "499    0.4605\n",
       "Name: 72, Length: 500, dtype: float64"
      ]
     },
     "metadata": {},
     "output_type": "display_data"
    },
    {
     "data": {
      "text/plain": [
       "0      0.8636\n",
       "1      0.9091\n",
       "2      0.7812\n",
       "3      0.8500\n",
       "4      0.7712\n",
       "        ...  \n",
       "495    0.4244\n",
       "496    0.3379\n",
       "497    0.2632\n",
       "498    0.4183\n",
       "499    0.6425\n",
       "Name: 73, Length: 500, dtype: float64"
      ]
     },
     "metadata": {},
     "output_type": "display_data"
    },
    {
     "data": {
      "text/plain": [
       "0      0.8586\n",
       "1      0.9268\n",
       "2      0.9024\n",
       "3      0.8421\n",
       "4      0.8421\n",
       "        ...  \n",
       "495    0.4217\n",
       "496    0.4001\n",
       "497    0.1994\n",
       "498    0.6918\n",
       "499    0.5540\n",
       "Name: 74, Length: 500, dtype: float64"
      ]
     },
     "metadata": {},
     "output_type": "display_data"
    },
    {
     "data": {
      "text/plain": [
       "0      0.9474\n",
       "1      0.8837\n",
       "2      0.8796\n",
       "3      0.9298\n",
       "4      0.9136\n",
       "        ...  \n",
       "495    0.3826\n",
       "496    0.7599\n",
       "497    0.8657\n",
       "498    0.8081\n",
       "499    0.8794\n",
       "Name: 75, Length: 500, dtype: float64"
      ]
     },
     "metadata": {},
     "output_type": "display_data"
    },
    {
     "data": {
      "text/plain": [
       "0      0.9444\n",
       "1      0.9426\n",
       "2      0.9444\n",
       "3      0.8943\n",
       "4      0.8182\n",
       "        ...  \n",
       "495    0.7872\n",
       "496    0.7181\n",
       "497    0.8244\n",
       "498    0.6174\n",
       "499    0.7672\n",
       "Name: 76, Length: 500, dtype: float64"
      ]
     },
     "metadata": {},
     "output_type": "display_data"
    },
    {
     "data": {
      "text/plain": [
       "0      0.8916\n",
       "1      0.9076\n",
       "2      0.9055\n",
       "3      0.9289\n",
       "4      0.9186\n",
       "        ...  \n",
       "495    0.6571\n",
       "496    0.8203\n",
       "497    0.7904\n",
       "498    0.8466\n",
       "499    0.6584\n",
       "Name: 77, Length: 500, dtype: float64"
      ]
     },
     "metadata": {},
     "output_type": "display_data"
    },
    {
     "data": {
      "text/plain": [
       "0      0.4543\n",
       "1      0.4189\n",
       "2      0.4349\n",
       "3      0.4336\n",
       "4      0.4336\n",
       "        ...  \n",
       "495    0.6902\n",
       "496    0.7872\n",
       "497    0.6823\n",
       "498    0.7592\n",
       "499    0.7529\n",
       "Name: 78, Length: 500, dtype: float64"
      ]
     },
     "metadata": {},
     "output_type": "display_data"
    },
    {
     "data": {
      "text/plain": [
       "0      0.9403\n",
       "1      0.9015\n",
       "2      0.9371\n",
       "3      0.9403\n",
       "4      0.9143\n",
       "        ...  \n",
       "495    0.7586\n",
       "496    0.6602\n",
       "497    0.7228\n",
       "498    0.7034\n",
       "499    0.7780\n",
       "Name: 79, Length: 500, dtype: float64"
      ]
     },
     "metadata": {},
     "output_type": "display_data"
    },
    {
     "data": {
      "text/plain": [
       "0      0.9474\n",
       "1      0.8276\n",
       "2      0.9605\n",
       "3      0.8864\n",
       "4      0.8393\n",
       "        ...  \n",
       "495    0.8222\n",
       "496    0.7270\n",
       "497    0.7831\n",
       "498    0.7584\n",
       "499    0.8481\n",
       "Name: 80, Length: 500, dtype: float64"
      ]
     },
     "metadata": {},
     "output_type": "display_data"
    },
    {
     "data": {
      "text/plain": [
       "0      0.8442\n",
       "1      0.9241\n",
       "2      0.8533\n",
       "3      0.8467\n",
       "4      0.8600\n",
       "        ...  \n",
       "495    0.8060\n",
       "496    0.8583\n",
       "497    0.8383\n",
       "498    0.8810\n",
       "499    0.6550\n",
       "Name: 81, Length: 500, dtype: float64"
      ]
     },
     "metadata": {},
     "output_type": "display_data"
    },
    {
     "data": {
      "text/plain": [
       "0      0.6848\n",
       "1      0.6571\n",
       "2      0.6964\n",
       "3      0.6825\n",
       "4      0.7900\n",
       "        ...  \n",
       "495    0.5134\n",
       "496    0.4567\n",
       "497    0.7008\n",
       "498    0.4531\n",
       "499    0.4813\n",
       "Name: 82, Length: 500, dtype: float64"
      ]
     },
     "metadata": {},
     "output_type": "display_data"
    },
    {
     "data": {
      "text/plain": [
       "0      0.2927\n",
       "1      0.2364\n",
       "2      0.0952\n",
       "3      0.2381\n",
       "4      0.2039\n",
       "        ...  \n",
       "495    0.6368\n",
       "496    0.6431\n",
       "497    0.6513\n",
       "498    0.6793\n",
       "499    0.5799\n",
       "Name: 83, Length: 500, dtype: float64"
      ]
     },
     "metadata": {},
     "output_type": "display_data"
    },
    {
     "data": {
      "text/plain": [
       "0      0.9444\n",
       "1      0.9289\n",
       "2      0.9661\n",
       "3      0.9524\n",
       "4      0.9121\n",
       "        ...  \n",
       "495    0.8555\n",
       "496    0.8779\n",
       "497    0.9062\n",
       "498    0.9133\n",
       "499    0.9460\n",
       "Name: 84, Length: 500, dtype: float64"
      ]
     },
     "metadata": {},
     "output_type": "display_data"
    },
    {
     "data": {
      "text/plain": [
       "0      0.0660\n",
       "1      0.0282\n",
       "2      0.0571\n",
       "3      0.0190\n",
       "4      0.0523\n",
       "        ...  \n",
       "495    0.0994\n",
       "496    0.0701\n",
       "497    0.0703\n",
       "498    0.0547\n",
       "499    0.1192\n",
       "Name: 85, Length: 500, dtype: float64"
      ]
     },
     "metadata": {},
     "output_type": "display_data"
    },
    {
     "data": {
      "text/plain": [
       "0      0.2346\n",
       "1      0.3913\n",
       "2      0.2523\n",
       "3      0.2586\n",
       "4      0.0708\n",
       "        ...  \n",
       "495    0.3787\n",
       "496    0.4923\n",
       "497    0.3647\n",
       "498    0.3833\n",
       "499    0.5359\n",
       "Name: 86, Length: 500, dtype: float64"
      ]
     },
     "metadata": {},
     "output_type": "display_data"
    },
    {
     "data": {
      "text/plain": [
       "0      0.0767\n",
       "1      0.1185\n",
       "2      0.0710\n",
       "3      0.1314\n",
       "4      0.0710\n",
       "        ...  \n",
       "495    0.4320\n",
       "496    0.5619\n",
       "497    0.1367\n",
       "498    0.3310\n",
       "499    0.2986\n",
       "Name: 87, Length: 500, dtype: float64"
      ]
     },
     "metadata": {},
     "output_type": "display_data"
    },
    {
     "data": {
      "text/plain": [
       "0      0.6190\n",
       "1         NaN\n",
       "2      0.6471\n",
       "3      0.8000\n",
       "4         NaN\n",
       "        ...  \n",
       "495    0.4402\n",
       "496    0.4079\n",
       "497    0.4274\n",
       "498    0.5654\n",
       "499    0.4425\n",
       "Name: 88, Length: 500, dtype: float64"
      ]
     },
     "metadata": {},
     "output_type": "display_data"
    },
    {
     "data": {
      "text/plain": [
       "0      0.8209\n",
       "1      0.9785\n",
       "2      0.9839\n",
       "3      0.9437\n",
       "4      0.9828\n",
       "        ...  \n",
       "495    0.9185\n",
       "496    0.9192\n",
       "497    0.9359\n",
       "498    0.9079\n",
       "499    0.9280\n",
       "Name: 89, Length: 500, dtype: float64"
      ]
     },
     "metadata": {},
     "output_type": "display_data"
    },
    {
     "data": {
      "text/plain": [
       "0      0.8049\n",
       "1      0.8852\n",
       "2      0.9000\n",
       "3      0.8701\n",
       "4      0.8984\n",
       "        ...  \n",
       "495    0.9242\n",
       "496    0.8916\n",
       "497    0.9444\n",
       "498    0.9469\n",
       "499    0.9529\n",
       "Name: 90, Length: 500, dtype: float64"
      ]
     },
     "metadata": {},
     "output_type": "display_data"
    },
    {
     "data": {
      "text/plain": [
       "0      0.9709\n",
       "1      0.9422\n",
       "2      0.8687\n",
       "3      0.8906\n",
       "4      0.9490\n",
       "        ...  \n",
       "495    0.9220\n",
       "496    0.9325\n",
       "497    0.9192\n",
       "498    0.9075\n",
       "499    0.9182\n",
       "Name: 91, Length: 500, dtype: float64"
      ]
     },
     "metadata": {},
     "output_type": "display_data"
    },
    {
     "data": {
      "text/plain": [
       "0      0.9250\n",
       "1      0.9346\n",
       "2      0.9783\n",
       "3      0.9783\n",
       "4      0.9455\n",
       "        ...  \n",
       "495    0.9739\n",
       "496    0.9675\n",
       "497    0.9691\n",
       "498    0.9765\n",
       "499    0.9500\n",
       "Name: 92, Length: 500, dtype: float64"
      ]
     },
     "metadata": {},
     "output_type": "display_data"
    },
    {
     "data": {
      "text/plain": [
       "0      0.9924\n",
       "1      0.8974\n",
       "2      1.0000\n",
       "3      0.9559\n",
       "4      0.9697\n",
       "        ...  \n",
       "495    0.9546\n",
       "496    0.9148\n",
       "497    0.9617\n",
       "498    0.9430\n",
       "499    0.9687\n",
       "Name: 93, Length: 500, dtype: float64"
      ]
     },
     "metadata": {},
     "output_type": "display_data"
    },
    {
     "data": {
      "text/plain": [
       "0      0.0000\n",
       "1      0.0088\n",
       "2      0.0000\n",
       "3      0.0106\n",
       "4      0.0000\n",
       "        ...  \n",
       "495    0.0112\n",
       "496    0.0108\n",
       "497    0.0167\n",
       "498    0.0178\n",
       "499    0.0110\n",
       "Name: 94, Length: 500, dtype: float64"
      ]
     },
     "metadata": {},
     "output_type": "display_data"
    },
    {
     "data": {
      "text/plain": [
       "0      0.8354\n",
       "1      0.9471\n",
       "2      0.9167\n",
       "3      0.8689\n",
       "4      0.7647\n",
       "        ...  \n",
       "495    0.9868\n",
       "496    0.9784\n",
       "497    0.9898\n",
       "498    0.9816\n",
       "499    0.9754\n",
       "Name: 95, Length: 500, dtype: float64"
      ]
     },
     "metadata": {},
     "output_type": "display_data"
    },
    {
     "data": {
      "text/plain": [
       "0      0.9651\n",
       "1      0.8935\n",
       "2      0.8935\n",
       "3      0.9343\n",
       "4      0.9553\n",
       "        ...  \n",
       "495    0.7542\n",
       "496    0.7113\n",
       "497    0.8140\n",
       "498    0.5235\n",
       "499    0.7983\n",
       "Name: 96, Length: 500, dtype: float64"
      ]
     },
     "metadata": {},
     "output_type": "display_data"
    },
    {
     "data": {
      "text/plain": [
       "0      0.0793\n",
       "1      0.0912\n",
       "2      0.0539\n",
       "3      0.0722\n",
       "4      0.0606\n",
       "        ...  \n",
       "495    0.1922\n",
       "496    0.8331\n",
       "497    0.1009\n",
       "498    0.3495\n",
       "499    0.1883\n",
       "Name: 97, Length: 500, dtype: float64"
      ]
     },
     "metadata": {},
     "output_type": "display_data"
    },
    {
     "data": {
      "text/plain": [
       "0      0.0565\n",
       "1      0.0175\n",
       "2      0.0175\n",
       "3      0.0657\n",
       "4      0.0588\n",
       "        ...  \n",
       "495    0.0344\n",
       "496    0.0389\n",
       "497    0.4341\n",
       "498    0.0441\n",
       "499    0.0236\n",
       "Name: 98, Length: 500, dtype: float64"
      ]
     },
     "metadata": {},
     "output_type": "display_data"
    },
    {
     "data": {
      "text/plain": [
       "0      0.9620\n",
       "1      0.9653\n",
       "2      0.9549\n",
       "3      0.9658\n",
       "4      0.9387\n",
       "        ...  \n",
       "495    0.9391\n",
       "496    0.9430\n",
       "497    0.9391\n",
       "498    0.9419\n",
       "499    0.9128\n",
       "Name: 99, Length: 500, dtype: float64"
      ]
     },
     "metadata": {},
     "output_type": "display_data"
    },
    {
     "data": {
      "text/plain": [
       "0      0.9238\n",
       "1      0.9204\n",
       "2      0.9493\n",
       "3      0.9421\n",
       "4      0.9204\n",
       "        ...  \n",
       "495    0.7228\n",
       "496    0.7300\n",
       "497    0.7254\n",
       "498    0.6852\n",
       "499    0.7274\n",
       "Name: 100, Length: 500, dtype: float64"
      ]
     },
     "metadata": {},
     "output_type": "display_data"
    },
    {
     "data": {
      "text/plain": [
       "0      0.9495\n",
       "1      0.9679\n",
       "2      0.9774\n",
       "3      0.9750\n",
       "4      0.9400\n",
       "        ...  \n",
       "495    0.9294\n",
       "496    0.9376\n",
       "497    0.9191\n",
       "498    0.9233\n",
       "499    0.9376\n",
       "Name: 101, Length: 500, dtype: float64"
      ]
     },
     "metadata": {},
     "output_type": "display_data"
    },
    {
     "data": {
      "text/plain": [
       "0      0.9743\n",
       "1      0.9762\n",
       "2      0.9574\n",
       "3      0.9859\n",
       "4      0.9762\n",
       "        ...  \n",
       "495    0.9302\n",
       "496    0.8426\n",
       "497    0.9252\n",
       "498    0.9156\n",
       "499    0.9346\n",
       "Name: 102, Length: 500, dtype: float64"
      ]
     },
     "metadata": {},
     "output_type": "display_data"
    },
    {
     "data": {
      "text/plain": [
       "0      0.0588\n",
       "1      0.0068\n",
       "2      0.0216\n",
       "3      0.0216\n",
       "4      0.0218\n",
       "        ...  \n",
       "495    0.0469\n",
       "496    0.0484\n",
       "497    0.0456\n",
       "498    0.0438\n",
       "499    0.0435\n",
       "Name: 103, Length: 500, dtype: float64"
      ]
     },
     "metadata": {},
     "output_type": "display_data"
    },
    {
     "data": {
      "text/plain": [
       "0         NaN\n",
       "1      0.0227\n",
       "2      0.0000\n",
       "3      0.0000\n",
       "4      0.0000\n",
       "        ...  \n",
       "495    0.0349\n",
       "496    0.0304\n",
       "497    0.0324\n",
       "498    0.0324\n",
       "499    0.0336\n",
       "Name: 104, Length: 500, dtype: float64"
      ]
     },
     "metadata": {},
     "output_type": "display_data"
    },
    {
     "data": {
      "text/plain": [
       "0      0.8627\n",
       "1      0.9091\n",
       "2      0.8824\n",
       "3         NaN\n",
       "4      0.7742\n",
       "        ...  \n",
       "495    0.4568\n",
       "496    0.4881\n",
       "497    0.3919\n",
       "498    0.5476\n",
       "499    0.4386\n",
       "Name: 105, Length: 500, dtype: float64"
      ]
     },
     "metadata": {},
     "output_type": "display_data"
    },
    {
     "data": {
      "text/plain": [
       "0      0.7297\n",
       "1      0.6792\n",
       "2      0.3333\n",
       "3      0.5192\n",
       "4         NaN\n",
       "        ...  \n",
       "495    0.4415\n",
       "496    0.4726\n",
       "497    0.4926\n",
       "498    0.4043\n",
       "499    0.4926\n",
       "Name: 106, Length: 500, dtype: float64"
      ]
     },
     "metadata": {},
     "output_type": "display_data"
    },
    {
     "data": {
      "text/plain": [
       "0      0.9839\n",
       "1      0.8992\n",
       "2      0.8621\n",
       "3      0.9839\n",
       "4      0.9018\n",
       "        ...  \n",
       "495       NaN\n",
       "496       NaN\n",
       "497       NaN\n",
       "498       NaN\n",
       "499       NaN\n",
       "Name: 107, Length: 500, dtype: float64"
      ]
     },
     "metadata": {},
     "output_type": "display_data"
    },
    {
     "data": {
      "text/plain": [
       "0      0.9291\n",
       "1      0.8583\n",
       "2      0.9091\n",
       "3      0.7748\n",
       "4      0.9219\n",
       "        ...  \n",
       "495    0.7622\n",
       "496    0.6328\n",
       "497    0.7891\n",
       "498    0.8625\n",
       "499    0.4687\n",
       "Name: 108, Length: 500, dtype: float64"
      ]
     },
     "metadata": {},
     "output_type": "display_data"
    },
    {
     "data": {
      "text/plain": [
       "0      0.7917\n",
       "1      0.7670\n",
       "2      0.8151\n",
       "3      0.8138\n",
       "4      0.8151\n",
       "        ...  \n",
       "495    0.7253\n",
       "496    0.3969\n",
       "497    0.4632\n",
       "498    0.5578\n",
       "499    0.4876\n",
       "Name: 109, Length: 500, dtype: float64"
      ]
     },
     "metadata": {},
     "output_type": "display_data"
    },
    {
     "data": {
      "text/plain": [
       "0      0.0061\n",
       "1      0.0115\n",
       "2      0.0198\n",
       "3      0.0115\n",
       "4      0.0000\n",
       "        ...  \n",
       "495    0.0371\n",
       "496    0.0410\n",
       "497    0.0395\n",
       "498    0.0430\n",
       "499    0.0372\n",
       "Name: 110, Length: 500, dtype: float64"
      ]
     },
     "metadata": {},
     "output_type": "display_data"
    },
    {
     "data": {
      "text/plain": [
       "0      0.0000\n",
       "1         NaN\n",
       "2      0.0000\n",
       "3      0.0039\n",
       "4      0.0270\n",
       "        ...  \n",
       "495    0.0373\n",
       "496    0.0308\n",
       "497    0.0311\n",
       "498    0.0257\n",
       "499    0.0256\n",
       "Name: 111, Length: 500, dtype: float64"
      ]
     },
     "metadata": {},
     "output_type": "display_data"
    },
    {
     "data": {
      "text/plain": [
       "0      0.8636\n",
       "1      0.5897\n",
       "2      0.7068\n",
       "3      0.7209\n",
       "4      0.6705\n",
       "        ...  \n",
       "495    0.3421\n",
       "496    0.4041\n",
       "497    0.6573\n",
       "498    0.4388\n",
       "499    0.3714\n",
       "Name: 112, Length: 500, dtype: float64"
      ]
     },
     "metadata": {},
     "output_type": "display_data"
    },
    {
     "data": {
      "text/plain": [
       "0      0.8966\n",
       "1      0.9526\n",
       "2      0.9184\n",
       "3      0.9590\n",
       "4      0.9339\n",
       "        ...  \n",
       "495    0.7006\n",
       "496    0.8110\n",
       "497    0.7684\n",
       "498    0.8005\n",
       "499    0.7782\n",
       "Name: 113, Length: 500, dtype: float64"
      ]
     },
     "metadata": {},
     "output_type": "display_data"
    },
    {
     "data": {
      "text/plain": [
       "0      0.0000\n",
       "1      0.0000\n",
       "2      0.0080\n",
       "3      0.0000\n",
       "4      0.0080\n",
       "        ...  \n",
       "495    0.0237\n",
       "496    0.0238\n",
       "497    0.0171\n",
       "498    0.0173\n",
       "499    0.0190\n",
       "Name: 114, Length: 500, dtype: float64"
      ]
     },
     "metadata": {},
     "output_type": "display_data"
    },
    {
     "data": {
      "text/plain": [
       "0      0.0000\n",
       "1      0.0000\n",
       "2      0.0000\n",
       "3      0.0000\n",
       "4      0.0095\n",
       "        ...  \n",
       "495    0.0284\n",
       "496    0.0329\n",
       "497    0.0281\n",
       "498    0.0255\n",
       "499    0.0307\n",
       "Name: 115, Length: 500, dtype: float64"
      ]
     },
     "metadata": {},
     "output_type": "display_data"
    },
    {
     "data": {
      "text/plain": [
       "0      0.8250\n",
       "1      0.7600\n",
       "2      0.7097\n",
       "3      0.8161\n",
       "4      0.8130\n",
       "        ...  \n",
       "495    0.3638\n",
       "496    0.2819\n",
       "497    0.4060\n",
       "498    0.4596\n",
       "499    0.4971\n",
       "Name: 116, Length: 500, dtype: float64"
      ]
     },
     "metadata": {},
     "output_type": "display_data"
    },
    {
     "data": {
      "text/plain": [
       "0      0.8658\n",
       "1      0.8925\n",
       "2      0.8720\n",
       "3      0.9077\n",
       "4      0.8850\n",
       "        ...  \n",
       "495    0.5095\n",
       "496    0.5679\n",
       "497    0.6594\n",
       "498    0.3564\n",
       "499    0.4714\n",
       "Name: 117, Length: 500, dtype: float64"
      ]
     },
     "metadata": {},
     "output_type": "display_data"
    },
    {
     "data": {
      "text/plain": [
       "0      0.9608\n",
       "1      1.0000\n",
       "2      0.9697\n",
       "3      0.9254\n",
       "4      0.9125\n",
       "        ...  \n",
       "495    0.9017\n",
       "496    0.9319\n",
       "497    0.9508\n",
       "498    0.9130\n",
       "499    0.9260\n",
       "Name: 118, Length: 500, dtype: float64"
      ]
     },
     "metadata": {},
     "output_type": "display_data"
    },
    {
     "data": {
      "text/plain": [
       "0      0.8103\n",
       "1      1.0000\n",
       "2      0.9655\n",
       "3      0.8810\n",
       "4         NaN\n",
       "        ...  \n",
       "495    0.9326\n",
       "496    0.8889\n",
       "497    0.9200\n",
       "498    0.9074\n",
       "499    0.8910\n",
       "Name: 119, Length: 500, dtype: float64"
      ]
     },
     "metadata": {},
     "output_type": "display_data"
    },
    {
     "data": {
      "text/plain": [
       "0      0.0000\n",
       "1      0.0000\n",
       "2      0.0000\n",
       "3      0.0000\n",
       "4      0.0000\n",
       "        ...  \n",
       "495    0.0646\n",
       "496    0.0659\n",
       "497    0.0648\n",
       "498    0.0666\n",
       "499    0.0495\n",
       "Name: 120, Length: 500, dtype: float64"
      ]
     },
     "metadata": {},
     "output_type": "display_data"
    },
    {
     "data": {
      "text/plain": [
       "0      0.0462\n",
       "1      0.1319\n",
       "2      0.0405\n",
       "3      0.0326\n",
       "4      0.0874\n",
       "        ...  \n",
       "495    0.2919\n",
       "496    0.3295\n",
       "497    0.5738\n",
       "498    0.3761\n",
       "499    0.3657\n",
       "Name: 121, Length: 500, dtype: float64"
      ]
     },
     "metadata": {},
     "output_type": "display_data"
    },
    {
     "data": {
      "text/plain": [
       "0      0.1351\n",
       "1      0.0795\n",
       "2      0.2800\n",
       "3      0.1367\n",
       "4      0.1237\n",
       "        ...  \n",
       "495    0.1950\n",
       "496    0.2263\n",
       "497    0.3077\n",
       "498    0.2867\n",
       "499    0.3386\n",
       "Name: 122, Length: 500, dtype: float64"
      ]
     },
     "metadata": {},
     "output_type": "display_data"
    },
    {
     "data": {
      "text/plain": [
       "0      0.7368\n",
       "1      0.8056\n",
       "2         NaN\n",
       "3         NaN\n",
       "4      0.7727\n",
       "        ...  \n",
       "495    0.6506\n",
       "496    0.6157\n",
       "497    0.6657\n",
       "498    0.6459\n",
       "499    0.6889\n",
       "Name: 123, Length: 500, dtype: float64"
      ]
     },
     "metadata": {},
     "output_type": "display_data"
    },
    {
     "data": {
      "text/plain": [
       "0      0.8047\n",
       "1      0.9130\n",
       "2      0.8405\n",
       "3      0.7444\n",
       "4      0.7500\n",
       "        ...  \n",
       "495    0.6299\n",
       "496    0.5611\n",
       "497    0.6563\n",
       "498    0.5640\n",
       "499    0.6290\n",
       "Name: 124, Length: 500, dtype: float64"
      ]
     },
     "metadata": {},
     "output_type": "display_data"
    },
    {
     "data": {
      "text/plain": [
       "0      0.0000\n",
       "1      0.0000\n",
       "2      0.0000\n",
       "3      0.0000\n",
       "4      0.0000\n",
       "        ...  \n",
       "495    0.0938\n",
       "496    0.0677\n",
       "497    0.0677\n",
       "498    0.0608\n",
       "499    0.1070\n",
       "Name: 125, Length: 500, dtype: float64"
      ]
     },
     "metadata": {},
     "output_type": "display_data"
    },
    {
     "data": {
      "text/plain": [
       "0      0.0000\n",
       "1      0.0000\n",
       "2      0.0000\n",
       "3      0.0000\n",
       "4      0.0000\n",
       "        ...  \n",
       "495    0.0607\n",
       "496    0.0469\n",
       "497    0.0538\n",
       "498    0.0486\n",
       "499    0.0560\n",
       "Name: 126, Length: 500, dtype: float64"
      ]
     },
     "metadata": {},
     "output_type": "display_data"
    },
    {
     "data": {
      "text/plain": [
       "0      0.9671\n",
       "1      0.9829\n",
       "2      0.9619\n",
       "3      0.9613\n",
       "4      0.9417\n",
       "        ...  \n",
       "495    0.9333\n",
       "496    0.9195\n",
       "497    0.9327\n",
       "498    0.8931\n",
       "499    0.9395\n",
       "Name: 127, Length: 500, dtype: float64"
      ]
     },
     "metadata": {},
     "output_type": "display_data"
    },
    {
     "data": {
      "text/plain": [
       "0      0.0000\n",
       "1      0.0000\n",
       "2      0.0000\n",
       "3      0.0000\n",
       "4      0.0000\n",
       "        ...  \n",
       "495    0.0667\n",
       "496    0.0524\n",
       "497    0.0586\n",
       "498    0.0593\n",
       "499    0.0433\n",
       "Name: 128, Length: 500, dtype: float64"
      ]
     },
     "metadata": {},
     "output_type": "display_data"
    },
    {
     "data": {
      "text/plain": [
       "0      0.0125\n",
       "1      0.0000\n",
       "2         NaN\n",
       "3      0.0000\n",
       "4      0.0000\n",
       "        ...  \n",
       "495    0.0156\n",
       "496    0.0147\n",
       "497    0.0142\n",
       "498    0.0118\n",
       "499    0.0150\n",
       "Name: 129, Length: 500, dtype: float64"
      ]
     },
     "metadata": {},
     "output_type": "display_data"
    },
    {
     "data": {
      "text/plain": [
       "0      0.0336\n",
       "1      0.0270\n",
       "2      0.0126\n",
       "3      0.0226\n",
       "4      0.0199\n",
       "        ...  \n",
       "495    0.0377\n",
       "496    0.0374\n",
       "497    0.0373\n",
       "498    0.0427\n",
       "499    0.0365\n",
       "Name: 130, Length: 500, dtype: float64"
      ]
     },
     "metadata": {},
     "output_type": "display_data"
    },
    {
     "data": {
      "text/plain": [
       "0      0.0000\n",
       "1      0.0000\n",
       "2      0.0034\n",
       "3      0.0000\n",
       "4      0.0000\n",
       "        ...  \n",
       "495    0.0368\n",
       "496    0.0444\n",
       "497    0.0267\n",
       "498    0.0250\n",
       "499    0.0283\n",
       "Name: 131, Length: 500, dtype: float64"
      ]
     },
     "metadata": {},
     "output_type": "display_data"
    },
    {
     "data": {
      "text/plain": [
       "0      0.0\n",
       "1      0.0\n",
       "2      0.0\n",
       "3      0.0\n",
       "4      0.0\n",
       "      ... \n",
       "495    NaN\n",
       "496    NaN\n",
       "497    NaN\n",
       "498    NaN\n",
       "499    NaN\n",
       "Name: 132, Length: 500, dtype: float64"
      ]
     },
     "metadata": {},
     "output_type": "display_data"
    },
    {
     "data": {
      "text/plain": [
       "0      0.8305\n",
       "1      0.8542\n",
       "2      0.8361\n",
       "3      0.8750\n",
       "4      0.8413\n",
       "        ...  \n",
       "495    0.4100\n",
       "496    0.5553\n",
       "497    0.5553\n",
       "498    0.5836\n",
       "499    0.4584\n",
       "Name: 133, Length: 500, dtype: float64"
      ]
     },
     "metadata": {},
     "output_type": "display_data"
    },
    {
     "data": {
      "text/plain": [
       "0      0.7429\n",
       "1      0.7600\n",
       "2      0.7123\n",
       "3      0.8000\n",
       "4      0.8806\n",
       "        ...  \n",
       "495    0.9160\n",
       "496    0.3053\n",
       "497    0.8975\n",
       "498    0.5930\n",
       "499    0.7640\n",
       "Name: 134, Length: 500, dtype: float64"
      ]
     },
     "metadata": {},
     "output_type": "display_data"
    },
    {
     "data": {
      "text/plain": [
       "0      0.7963\n",
       "1      0.8462\n",
       "2      0.8621\n",
       "3      0.7500\n",
       "4         NaN\n",
       "        ...  \n",
       "495    0.5680\n",
       "496    0.5753\n",
       "497    0.6894\n",
       "498    0.6851\n",
       "499    0.6408\n",
       "Name: 135, Length: 500, dtype: float64"
      ]
     },
     "metadata": {},
     "output_type": "display_data"
    },
    {
     "data": {
      "text/plain": [
       "0      0.5350\n",
       "1      0.4300\n",
       "2      0.4068\n",
       "3      0.4811\n",
       "4      0.4811\n",
       "        ...  \n",
       "495    0.4926\n",
       "496    0.7738\n",
       "497    0.4858\n",
       "498    0.5677\n",
       "499    0.5184\n",
       "Name: 136, Length: 500, dtype: float64"
      ]
     },
     "metadata": {},
     "output_type": "display_data"
    },
    {
     "data": {
      "text/plain": [
       "0      0.0424\n",
       "1      0.1429\n",
       "2      0.1453\n",
       "3      0.0323\n",
       "4      0.0192\n",
       "        ...  \n",
       "495    0.5007\n",
       "496    0.4033\n",
       "497    0.1250\n",
       "498    0.4189\n",
       "499    0.1599\n",
       "Name: 137, Length: 500, dtype: float64"
      ]
     },
     "metadata": {},
     "output_type": "display_data"
    },
    {
     "data": {
      "text/plain": [
       "0      0.4130\n",
       "1      0.1905\n",
       "2      0.2125\n",
       "3      0.1905\n",
       "4      0.0692\n",
       "        ...  \n",
       "495    0.0840\n",
       "496    0.0665\n",
       "497    0.0688\n",
       "498    0.0614\n",
       "499    0.0642\n",
       "Name: 138, Length: 500, dtype: float64"
      ]
     },
     "metadata": {},
     "output_type": "display_data"
    },
    {
     "data": {
      "text/plain": [
       "0      0.8369\n",
       "1      0.9197\n",
       "2      0.9077\n",
       "3      0.8796\n",
       "4      0.9114\n",
       "        ...  \n",
       "495    0.9190\n",
       "496    0.9101\n",
       "497    0.9215\n",
       "498    0.8902\n",
       "499    0.9076\n",
       "Name: 139, Length: 500, dtype: float64"
      ]
     },
     "metadata": {},
     "output_type": "display_data"
    },
    {
     "data": {
      "text/plain": [
       "0         NaN\n",
       "1         NaN\n",
       "2      0.7636\n",
       "3      0.7532\n",
       "4      0.5833\n",
       "        ...  \n",
       "495    0.7501\n",
       "496    0.7663\n",
       "497    0.6630\n",
       "498    0.7631\n",
       "499    0.7442\n",
       "Name: 140, Length: 500, dtype: float64"
      ]
     },
     "metadata": {},
     "output_type": "display_data"
    },
    {
     "data": {
      "text/plain": [
       "0         NaN\n",
       "1      0.9091\n",
       "2      0.9114\n",
       "3      0.9167\n",
       "4      0.8824\n",
       "        ...  \n",
       "495    0.7406\n",
       "496    0.5885\n",
       "497    0.8679\n",
       "498    0.2501\n",
       "499    0.7844\n",
       "Name: 141, Length: 500, dtype: float64"
      ]
     },
     "metadata": {},
     "output_type": "display_data"
    },
    {
     "data": {
      "text/plain": [
       "0      0.2727\n",
       "1      0.2043\n",
       "2      0.2638\n",
       "3      0.3415\n",
       "4      0.2695\n",
       "        ...  \n",
       "495    0.7536\n",
       "496    0.4254\n",
       "497    0.5459\n",
       "498    0.4367\n",
       "499    0.5905\n",
       "Name: 142, Length: 500, dtype: float64"
      ]
     },
     "metadata": {},
     "output_type": "display_data"
    },
    {
     "data": {
      "text/plain": [
       "0      0.6232\n",
       "1      0.7162\n",
       "2      0.8696\n",
       "3      0.6667\n",
       "4      0.6594\n",
       "        ...  \n",
       "495    0.5685\n",
       "496    0.5142\n",
       "497    0.5100\n",
       "498    0.4905\n",
       "499    0.4382\n",
       "Name: 143, Length: 500, dtype: float64"
      ]
     },
     "metadata": {},
     "output_type": "display_data"
    },
    {
     "data": {
      "text/plain": [
       "0      0.6818\n",
       "1      0.7105\n",
       "2      0.6970\n",
       "3      0.6818\n",
       "4      0.7024\n",
       "        ...  \n",
       "495    0.6361\n",
       "496    0.7214\n",
       "497    0.4727\n",
       "498    0.5411\n",
       "499    0.7425\n",
       "Name: 144, Length: 500, dtype: float64"
      ]
     },
     "metadata": {},
     "output_type": "display_data"
    },
    {
     "data": {
      "text/plain": [
       "0      0.0000\n",
       "1      0.0000\n",
       "2      0.0000\n",
       "3      0.0048\n",
       "4      0.0000\n",
       "        ...  \n",
       "495    0.0198\n",
       "496    0.0143\n",
       "497    0.0139\n",
       "498    0.0167\n",
       "499    0.0184\n",
       "Name: 145, Length: 500, dtype: float64"
      ]
     },
     "metadata": {},
     "output_type": "display_data"
    },
    {
     "data": {
      "text/plain": [
       "0      0.0000\n",
       "1      0.0000\n",
       "2      0.0000\n",
       "3      0.0000\n",
       "4      0.0000\n",
       "        ...  \n",
       "495    0.0404\n",
       "496    0.0580\n",
       "497    0.0491\n",
       "498    0.0554\n",
       "499    0.0509\n",
       "Name: 146, Length: 500, dtype: float64"
      ]
     },
     "metadata": {},
     "output_type": "display_data"
    },
    {
     "data": {
      "text/plain": [
       "0      0.8768\n",
       "1      0.9496\n",
       "2      0.9863\n",
       "3      0.8359\n",
       "4      0.9296\n",
       "        ...  \n",
       "495    0.9301\n",
       "496    0.9391\n",
       "497    0.9126\n",
       "498    0.9129\n",
       "499    0.9263\n",
       "Name: 147, Length: 500, dtype: float64"
      ]
     },
     "metadata": {},
     "output_type": "display_data"
    },
    {
     "data": {
      "text/plain": [
       "0      0.9402\n",
       "1      0.9504\n",
       "2      0.9402\n",
       "3      0.9224\n",
       "4      0.9565\n",
       "        ...  \n",
       "495    0.5348\n",
       "496    0.8715\n",
       "497    0.8182\n",
       "498    0.8632\n",
       "499    0.8556\n",
       "Name: 148, Length: 500, dtype: float64"
      ]
     },
     "metadata": {},
     "output_type": "display_data"
    },
    {
     "data": {
      "text/plain": [
       "0      0.8272\n",
       "1      0.8871\n",
       "2      0.8800\n",
       "3      0.8293\n",
       "4      0.8862\n",
       "        ...  \n",
       "495    0.7082\n",
       "496    0.4494\n",
       "497    0.7321\n",
       "498    0.5292\n",
       "499    0.7623\n",
       "Name: 149, Length: 500, dtype: float64"
      ]
     },
     "metadata": {},
     "output_type": "display_data"
    },
    {
     "data": {
      "text/plain": [
       "0      0.9394\n",
       "1      0.9412\n",
       "2      0.8859\n",
       "3      0.9503\n",
       "4      0.9600\n",
       "        ...  \n",
       "495    0.9240\n",
       "496    0.6667\n",
       "497    0.8743\n",
       "498    0.8618\n",
       "499    0.8534\n",
       "Name: 150, Length: 500, dtype: float64"
      ]
     },
     "metadata": {},
     "output_type": "display_data"
    },
    {
     "data": {
      "text/plain": [
       "0      0.2184\n",
       "1      0.0948\n",
       "2      0.1014\n",
       "3      0.0787\n",
       "4      0.1481\n",
       "        ...  \n",
       "495    0.5685\n",
       "496    0.1858\n",
       "497    0.1774\n",
       "498    0.5041\n",
       "499    0.1008\n",
       "Name: 151, Length: 500, dtype: float64"
      ]
     },
     "metadata": {},
     "output_type": "display_data"
    },
    {
     "data": {
      "text/plain": [
       "0      0.0000\n",
       "1      0.0000\n",
       "2      0.0040\n",
       "3      0.0000\n",
       "4      0.0000\n",
       "        ...  \n",
       "495    0.7222\n",
       "496    0.0458\n",
       "497    0.0360\n",
       "498    0.0835\n",
       "499    0.5189\n",
       "Name: 152, Length: 500, dtype: float64"
      ]
     },
     "metadata": {},
     "output_type": "display_data"
    },
    {
     "data": {
      "text/plain": [
       "0      0.9346\n",
       "1      0.8750\n",
       "2      0.8471\n",
       "3      0.8291\n",
       "4      0.9111\n",
       "        ...  \n",
       "495    0.8560\n",
       "496    0.7943\n",
       "497    0.3445\n",
       "498    0.8957\n",
       "499    0.8087\n",
       "Name: 153, Length: 500, dtype: float64"
      ]
     },
     "metadata": {},
     "output_type": "display_data"
    },
    {
     "data": {
      "text/plain": [
       "0      0.9242\n",
       "1      0.9130\n",
       "2         NaN\n",
       "3      0.8714\n",
       "4      0.9556\n",
       "        ...  \n",
       "495    0.9322\n",
       "496    0.9540\n",
       "497    0.9648\n",
       "498    0.9656\n",
       "499    0.8860\n",
       "Name: 154, Length: 500, dtype: float64"
      ]
     },
     "metadata": {},
     "output_type": "display_data"
    },
    {
     "data": {
      "text/plain": [
       "0      0.9264\n",
       "1      0.9043\n",
       "2      0.9576\n",
       "3      0.9756\n",
       "4      0.9264\n",
       "        ...  \n",
       "495    0.9383\n",
       "496    0.9388\n",
       "497    0.9523\n",
       "498    0.9377\n",
       "499    0.9678\n",
       "Name: 155, Length: 500, dtype: float64"
      ]
     },
     "metadata": {},
     "output_type": "display_data"
    },
    {
     "data": {
      "text/plain": [
       "0      0.8857\n",
       "1      0.9503\n",
       "2      0.8763\n",
       "3      0.8824\n",
       "4      0.9087\n",
       "        ...  \n",
       "495    0.8690\n",
       "496    0.6585\n",
       "497    0.8813\n",
       "498    0.8065\n",
       "499    0.9000\n",
       "Name: 156, Length: 500, dtype: float64"
      ]
     },
     "metadata": {},
     "output_type": "display_data"
    },
    {
     "data": {
      "text/plain": [
       "0      0.8095\n",
       "1      0.9362\n",
       "2      0.9630\n",
       "3      0.8406\n",
       "4         NaN\n",
       "        ...  \n",
       "495    0.8133\n",
       "496    0.7585\n",
       "497    0.7990\n",
       "498    0.5280\n",
       "499    0.4853\n",
       "Name: 157, Length: 500, dtype: float64"
      ]
     },
     "metadata": {},
     "output_type": "display_data"
    },
    {
     "data": {
      "text/plain": [
       "0      0.9429\n",
       "1      0.8780\n",
       "2      0.9024\n",
       "3      0.9024\n",
       "4      0.9890\n",
       "        ...  \n",
       "495    0.9039\n",
       "496    0.8843\n",
       "497    0.9041\n",
       "498    0.9026\n",
       "499    0.8713\n",
       "Name: 158, Length: 500, dtype: float64"
      ]
     },
     "metadata": {},
     "output_type": "display_data"
    },
    {
     "data": {
      "text/plain": [
       "0      0.0000\n",
       "1      0.0000\n",
       "2      0.0037\n",
       "3      0.0037\n",
       "4      0.0052\n",
       "        ...  \n",
       "495    0.0379\n",
       "496    0.0375\n",
       "497    0.0354\n",
       "498    0.0430\n",
       "499    0.0371\n",
       "Name: 159, Length: 500, dtype: float64"
      ]
     },
     "metadata": {},
     "output_type": "display_data"
    },
    {
     "data": {
      "text/plain": [
       "0      0.9714\n",
       "1      0.9455\n",
       "2      0.9048\n",
       "3      1.0000\n",
       "4      0.9211\n",
       "        ...  \n",
       "495    0.9087\n",
       "496    0.8543\n",
       "497    0.9225\n",
       "498    0.6864\n",
       "499    0.9064\n",
       "Name: 160, Length: 500, dtype: float64"
      ]
     },
     "metadata": {},
     "output_type": "display_data"
    },
    {
     "data": {
      "text/plain": [
       "0      0.1429\n",
       "1      0.1053\n",
       "2         NaN\n",
       "3         NaN\n",
       "4      0.1791\n",
       "        ...  \n",
       "495       NaN\n",
       "496       NaN\n",
       "497       NaN\n",
       "498       NaN\n",
       "499       NaN\n",
       "Name: 161, Length: 500, dtype: float64"
      ]
     },
     "metadata": {},
     "output_type": "display_data"
    },
    {
     "data": {
      "text/plain": [
       "0      0.0000\n",
       "1      0.0000\n",
       "2      0.0000\n",
       "3      0.0000\n",
       "4      0.0123\n",
       "        ...  \n",
       "495    0.0197\n",
       "496    0.0254\n",
       "497    0.0260\n",
       "498    0.0217\n",
       "499    0.0273\n",
       "Name: 162, Length: 500, dtype: float64"
      ]
     },
     "metadata": {},
     "output_type": "display_data"
    },
    {
     "data": {
      "text/plain": [
       "0      0.1667\n",
       "1      0.2727\n",
       "2      0.2500\n",
       "3      0.3878\n",
       "4      0.1333\n",
       "        ...  \n",
       "495    0.5980\n",
       "496    0.7391\n",
       "497    0.7299\n",
       "498    0.5772\n",
       "499    0.6249\n",
       "Name: 163, Length: 500, dtype: float64"
      ]
     },
     "metadata": {},
     "output_type": "display_data"
    },
    {
     "data": {
      "text/plain": [
       "0      0.1504\n",
       "1      0.0081\n",
       "2      0.0081\n",
       "3      0.1205\n",
       "4      0.2299\n",
       "        ...  \n",
       "495    0.4755\n",
       "496    0.5365\n",
       "497    0.4881\n",
       "498    0.6377\n",
       "499    0.6634\n",
       "Name: 164, Length: 500, dtype: float64"
      ]
     },
     "metadata": {},
     "output_type": "display_data"
    },
    {
     "data": {
      "text/plain": [
       "0      0.1776\n",
       "1      0.1275\n",
       "2      0.0779\n",
       "3      0.1570\n",
       "4      0.0638\n",
       "        ...  \n",
       "495    0.1828\n",
       "496    0.1367\n",
       "497    0.1498\n",
       "498    0.1833\n",
       "499    0.2146\n",
       "Name: 165, Length: 500, dtype: float64"
      ]
     },
     "metadata": {},
     "output_type": "display_data"
    },
    {
     "data": {
      "text/plain": [
       "0      0.0154\n",
       "1      0.0000\n",
       "2      0.0000\n",
       "3      0.0000\n",
       "4      0.0000\n",
       "        ...  \n",
       "495    0.0380\n",
       "496    0.0450\n",
       "497    0.0355\n",
       "498    0.0336\n",
       "499    0.0333\n",
       "Name: 166, Length: 500, dtype: float64"
      ]
     },
     "metadata": {},
     "output_type": "display_data"
    },
    {
     "data": {
      "text/plain": [
       "0      0.7917\n",
       "1      0.7917\n",
       "2      0.7917\n",
       "3      0.9211\n",
       "4      0.8301\n",
       "        ...  \n",
       "495    0.9445\n",
       "496    0.9489\n",
       "497    0.9302\n",
       "498    0.9506\n",
       "499    0.9650\n",
       "Name: 167, Length: 500, dtype: float64"
      ]
     },
     "metadata": {},
     "output_type": "display_data"
    },
    {
     "data": {
      "text/plain": [
       "0      0.9231\n",
       "1      0.9200\n",
       "2      0.9425\n",
       "3      0.8889\n",
       "4      0.9512\n",
       "        ...  \n",
       "495    0.8599\n",
       "496    0.8668\n",
       "497    0.8931\n",
       "498    0.9184\n",
       "499    0.8865\n",
       "Name: 168, Length: 500, dtype: float64"
      ]
     },
     "metadata": {},
     "output_type": "display_data"
    },
    {
     "data": {
      "text/plain": [
       "0      0.9692\n",
       "1      0.9787\n",
       "2      0.9604\n",
       "3      0.9292\n",
       "4      0.9470\n",
       "        ...  \n",
       "495    0.8776\n",
       "496    0.8475\n",
       "497    0.8720\n",
       "498    0.8965\n",
       "499    0.8963\n",
       "Name: 169, Length: 500, dtype: float64"
      ]
     },
     "metadata": {},
     "output_type": "display_data"
    },
    {
     "data": {
      "text/plain": [
       "0      0.8846\n",
       "1      0.9079\n",
       "2      0.8438\n",
       "3      0.8846\n",
       "4         NaN\n",
       "        ...  \n",
       "495    0.9470\n",
       "496    0.9366\n",
       "497    0.8654\n",
       "498    0.4797\n",
       "499    0.9143\n",
       "Name: 170, Length: 500, dtype: float64"
      ]
     },
     "metadata": {},
     "output_type": "display_data"
    },
    {
     "data": {
      "text/plain": [
       "0      0.9254\n",
       "1      0.9550\n",
       "2      0.9684\n",
       "3      0.8472\n",
       "4      0.9200\n",
       "        ...  \n",
       "495    0.9076\n",
       "496    0.9456\n",
       "497    0.9172\n",
       "498    0.9333\n",
       "499    0.9379\n",
       "Name: 171, Length: 500, dtype: float64"
      ]
     },
     "metadata": {},
     "output_type": "display_data"
    },
    {
     "data": {
      "text/plain": [
       "0      0.7500\n",
       "1      0.7778\n",
       "2      0.7778\n",
       "3         NaN\n",
       "4      0.8983\n",
       "        ...  \n",
       "495    0.5334\n",
       "496    0.6825\n",
       "497    0.7410\n",
       "498    0.7410\n",
       "499    0.7004\n",
       "Name: 172, Length: 500, dtype: float64"
      ]
     },
     "metadata": {},
     "output_type": "display_data"
    },
    {
     "data": {
      "text/plain": [
       "0      0.0000\n",
       "1      0.0000\n",
       "2      0.0000\n",
       "3      0.0000\n",
       "4      0.0000\n",
       "        ...  \n",
       "495    0.0496\n",
       "496    0.0498\n",
       "497    0.0497\n",
       "498    0.0419\n",
       "499    0.0431\n",
       "Name: 173, Length: 500, dtype: float64"
      ]
     },
     "metadata": {},
     "output_type": "display_data"
    },
    {
     "data": {
      "text/plain": [
       "0         NaN\n",
       "1      0.9048\n",
       "2      0.9048\n",
       "3      0.9348\n",
       "4      0.9479\n",
       "        ...  \n",
       "495    0.9194\n",
       "496    0.8972\n",
       "497    0.7600\n",
       "498    0.8771\n",
       "499    0.8318\n",
       "Name: 174, Length: 500, dtype: float64"
      ]
     },
     "metadata": {},
     "output_type": "display_data"
    },
    {
     "data": {
      "text/plain": [
       "0      0.0000\n",
       "1         NaN\n",
       "2      0.0000\n",
       "3         NaN\n",
       "4         NaN\n",
       "        ...  \n",
       "495    0.0204\n",
       "496    0.0225\n",
       "497    0.0187\n",
       "498    0.0258\n",
       "499    0.0209\n",
       "Name: 175, Length: 500, dtype: float64"
      ]
     },
     "metadata": {},
     "output_type": "display_data"
    },
    {
     "data": {
      "text/plain": [
       "0      0.0000\n",
       "1         NaN\n",
       "2         NaN\n",
       "3         NaN\n",
       "4         NaN\n",
       "        ...  \n",
       "495    0.0367\n",
       "496    0.0440\n",
       "497    0.0312\n",
       "498    0.0369\n",
       "499    0.0360\n",
       "Name: 176, Length: 500, dtype: float64"
      ]
     },
     "metadata": {},
     "output_type": "display_data"
    },
    {
     "data": {
      "text/plain": [
       "0      0.9464\n",
       "1      0.9077\n",
       "2      0.9583\n",
       "3      0.9278\n",
       "4      0.9077\n",
       "        ...  \n",
       "495    0.9199\n",
       "496    0.9294\n",
       "497    0.9296\n",
       "498    0.9389\n",
       "499    0.9186\n",
       "Name: 177, Length: 500, dtype: float64"
      ]
     },
     "metadata": {},
     "output_type": "display_data"
    },
    {
     "data": {
      "text/plain": [
       "0      0.9182\n",
       "1      0.9589\n",
       "2      0.9200\n",
       "3      0.9456\n",
       "4      0.9614\n",
       "        ...  \n",
       "495    0.9116\n",
       "496    0.8976\n",
       "497    0.8379\n",
       "498    0.8845\n",
       "499    0.8910\n",
       "Name: 178, Length: 500, dtype: float64"
      ]
     },
     "metadata": {},
     "output_type": "display_data"
    },
    {
     "data": {
      "text/plain": [
       "0      0.9318\n",
       "1      0.9672\n",
       "2      0.9441\n",
       "3      0.9318\n",
       "4      0.9167\n",
       "        ...  \n",
       "495    0.9323\n",
       "496    0.9406\n",
       "497    0.9472\n",
       "498    0.9501\n",
       "499    0.9276\n",
       "Name: 179, Length: 500, dtype: float64"
      ]
     },
     "metadata": {},
     "output_type": "display_data"
    },
    {
     "data": {
      "text/plain": [
       "0      0.9697\n",
       "1      0.9417\n",
       "2      0.8571\n",
       "3      0.9358\n",
       "4      0.9574\n",
       "        ...  \n",
       "495    0.8817\n",
       "496    0.9296\n",
       "497    0.8550\n",
       "498    0.8848\n",
       "499    0.9070\n",
       "Name: 180, Length: 500, dtype: float64"
      ]
     },
     "metadata": {},
     "output_type": "display_data"
    },
    {
     "data": {
      "text/plain": [
       "0      0.9514\n",
       "1      0.9242\n",
       "2      0.9672\n",
       "3      0.9514\n",
       "4      0.9634\n",
       "        ...  \n",
       "495    0.8984\n",
       "496    0.9144\n",
       "497    0.9158\n",
       "498    0.9253\n",
       "499    0.9396\n",
       "Name: 181, Length: 500, dtype: float64"
      ]
     },
     "metadata": {},
     "output_type": "display_data"
    },
    {
     "data": {
      "text/plain": [
       "0      0.7986\n",
       "1      0.7895\n",
       "2      0.6944\n",
       "3      0.4815\n",
       "4      0.6286\n",
       "        ...  \n",
       "495    0.5727\n",
       "496    0.7498\n",
       "497    0.6831\n",
       "498    0.7219\n",
       "499    0.5710\n",
       "Name: 182, Length: 500, dtype: float64"
      ]
     },
     "metadata": {},
     "output_type": "display_data"
    },
    {
     "data": {
      "text/plain": [
       "0      0.0000\n",
       "1      0.0000\n",
       "2      0.0000\n",
       "3      0.0000\n",
       "4      0.0000\n",
       "        ...  \n",
       "495    0.0216\n",
       "496    0.0200\n",
       "497    0.0150\n",
       "498    0.0204\n",
       "499    0.0180\n",
       "Name: 183, Length: 500, dtype: float64"
      ]
     },
     "metadata": {},
     "output_type": "display_data"
    },
    {
     "data": {
      "text/plain": [
       "0      0.0909\n",
       "1      0.0448\n",
       "2      0.0645\n",
       "3      0.0909\n",
       "4      0.0000\n",
       "        ...  \n",
       "495    0.2520\n",
       "496    0.1999\n",
       "497    0.5952\n",
       "498    0.1103\n",
       "499    0.6786\n",
       "Name: 184, Length: 500, dtype: float64"
      ]
     },
     "metadata": {},
     "output_type": "display_data"
    },
    {
     "data": {
      "text/plain": [
       "0      0.9773\n",
       "1      0.8947\n",
       "2      0.9000\n",
       "3      0.9322\n",
       "4      0.9714\n",
       "        ...  \n",
       "495    0.9214\n",
       "496    0.9387\n",
       "497    0.8612\n",
       "498    0.9239\n",
       "499    0.9328\n",
       "Name: 185, Length: 500, dtype: float64"
      ]
     },
     "metadata": {},
     "output_type": "display_data"
    },
    {
     "data": {
      "text/plain": [
       "0      0.0\n",
       "1      0.0\n",
       "2      0.0\n",
       "3      0.0\n",
       "4      0.0\n",
       "      ... \n",
       "495    NaN\n",
       "496    NaN\n",
       "497    NaN\n",
       "498    NaN\n",
       "499    NaN\n",
       "Name: 186, Length: 500, dtype: float64"
      ]
     },
     "metadata": {},
     "output_type": "display_data"
    },
    {
     "data": {
      "text/plain": [
       "0      0.0074\n",
       "1      0.0000\n",
       "2      0.0000\n",
       "3      0.0000\n",
       "4      0.0000\n",
       "        ...  \n",
       "495       NaN\n",
       "496       NaN\n",
       "497       NaN\n",
       "498       NaN\n",
       "499       NaN\n",
       "Name: 187, Length: 500, dtype: float64"
      ]
     },
     "metadata": {},
     "output_type": "display_data"
    },
    {
     "data": {
      "text/plain": [
       "0         NaN\n",
       "1      0.1111\n",
       "2      0.0498\n",
       "3      0.0577\n",
       "4      0.0498\n",
       "        ...  \n",
       "495    0.2090\n",
       "496    0.2045\n",
       "497    0.1773\n",
       "498    0.2301\n",
       "499    0.1858\n",
       "Name: 188, Length: 500, dtype: float64"
      ]
     },
     "metadata": {},
     "output_type": "display_data"
    },
    {
     "data": {
      "text/plain": [
       "0      0.8750\n",
       "1      0.6765\n",
       "2      0.8571\n",
       "3      0.8646\n",
       "4      0.6765\n",
       "        ...  \n",
       "495    0.3393\n",
       "496    0.4503\n",
       "497    0.7988\n",
       "498    0.4023\n",
       "499    0.4678\n",
       "Name: 189, Length: 500, dtype: float64"
      ]
     },
     "metadata": {},
     "output_type": "display_data"
    },
    {
     "data": {
      "text/plain": [
       "0         NaN\n",
       "1      0.9714\n",
       "2      0.9114\n",
       "3         NaN\n",
       "4         NaN\n",
       "        ...  \n",
       "495    0.8197\n",
       "496    0.6130\n",
       "497    0.7987\n",
       "498    0.8607\n",
       "499    0.8516\n",
       "Name: 190, Length: 500, dtype: float64"
      ]
     },
     "metadata": {},
     "output_type": "display_data"
    },
    {
     "data": {
      "text/plain": [
       "0      0.0671\n",
       "1      0.0991\n",
       "2      0.0840\n",
       "3      0.0352\n",
       "4      0.1017\n",
       "        ...  \n",
       "495    0.1413\n",
       "496    0.2511\n",
       "497    0.1772\n",
       "498    0.1906\n",
       "499    0.1805\n",
       "Name: 191, Length: 500, dtype: float64"
      ]
     },
     "metadata": {},
     "output_type": "display_data"
    },
    {
     "data": {
      "text/plain": [
       "0      0.8491\n",
       "1      0.7018\n",
       "2      0.6522\n",
       "3      0.7018\n",
       "4      0.8182\n",
       "        ...  \n",
       "495    0.5658\n",
       "496    0.7524\n",
       "497    0.4678\n",
       "498    0.7154\n",
       "499    0.8103\n",
       "Name: 192, Length: 500, dtype: float64"
      ]
     },
     "metadata": {},
     "output_type": "display_data"
    },
    {
     "data": {
      "text/plain": [
       "0      0.8750\n",
       "1      0.8435\n",
       "2      0.7879\n",
       "3      0.8100\n",
       "4      0.8370\n",
       "        ...  \n",
       "495    0.3463\n",
       "496    0.7451\n",
       "497    0.3764\n",
       "498    0.4934\n",
       "499    0.4235\n",
       "Name: 193, Length: 500, dtype: float64"
      ]
     },
     "metadata": {},
     "output_type": "display_data"
    },
    {
     "data": {
      "text/plain": [
       "0      0.8254\n",
       "1      0.8723\n",
       "2      0.8533\n",
       "3      0.7258\n",
       "4      0.8182\n",
       "        ...  \n",
       "495    0.5331\n",
       "496    0.7094\n",
       "497    0.5369\n",
       "498    0.5731\n",
       "499    0.3720\n",
       "Name: 194, Length: 500, dtype: float64"
      ]
     },
     "metadata": {},
     "output_type": "display_data"
    },
    {
     "data": {
      "text/plain": [
       "0      0.9091\n",
       "1      0.8413\n",
       "2      0.9625\n",
       "3      1.0000\n",
       "4      0.9038\n",
       "        ...  \n",
       "495    0.5454\n",
       "496    0.5704\n",
       "497    0.8558\n",
       "498    0.2570\n",
       "499    0.4705\n",
       "Name: 195, Length: 500, dtype: float64"
      ]
     },
     "metadata": {},
     "output_type": "display_data"
    },
    {
     "data": {
      "text/plain": [
       "0      0.8879\n",
       "1      0.9672\n",
       "2      0.8977\n",
       "3      0.8689\n",
       "4      0.8762\n",
       "        ...  \n",
       "495    0.8663\n",
       "496    0.7833\n",
       "497    0.9087\n",
       "498    0.7100\n",
       "499    0.8686\n",
       "Name: 196, Length: 500, dtype: float64"
      ]
     },
     "metadata": {},
     "output_type": "display_data"
    },
    {
     "data": {
      "text/plain": [
       "0      0.2909\n",
       "1      0.3459\n",
       "2      0.3571\n",
       "3      0.3163\n",
       "4      0.2597\n",
       "        ...  \n",
       "495    0.1737\n",
       "496    0.2750\n",
       "497    0.1814\n",
       "498    0.3273\n",
       "499    0.2622\n",
       "Name: 197, Length: 500, dtype: float64"
      ]
     },
     "metadata": {},
     "output_type": "display_data"
    },
    {
     "data": {
      "text/plain": [
       "0      0.8478\n",
       "1      0.6852\n",
       "2      0.8544\n",
       "3      0.8953\n",
       "4      0.8765\n",
       "        ...  \n",
       "495    0.7796\n",
       "496    0.3903\n",
       "497    0.3727\n",
       "498    0.3782\n",
       "499    0.8850\n",
       "Name: 198, Length: 500, dtype: float64"
      ]
     },
     "metadata": {},
     "output_type": "display_data"
    },
    {
     "data": {
      "text/plain": [
       "0      0.9231\n",
       "1      0.7458\n",
       "2      0.8408\n",
       "3      0.8793\n",
       "4      0.8889\n",
       "        ...  \n",
       "495    0.8813\n",
       "496    0.9369\n",
       "497    0.5118\n",
       "498    0.9307\n",
       "499    0.9490\n",
       "Name: 199, Length: 500, dtype: float64"
      ]
     },
     "metadata": {},
     "output_type": "display_data"
    },
    {
     "data": {
      "text/plain": [
       "0      0.6667\n",
       "1      0.7679\n",
       "2      0.8060\n",
       "3      0.7230\n",
       "4      0.7059\n",
       "        ...  \n",
       "495    0.5455\n",
       "496    0.4611\n",
       "497    0.6212\n",
       "498    0.4482\n",
       "499    0.3046\n",
       "Name: 200, Length: 500, dtype: float64"
      ]
     },
     "metadata": {},
     "output_type": "display_data"
    },
    {
     "data": {
      "text/plain": [
       "0      0.1204\n",
       "1      0.0723\n",
       "2      0.0822\n",
       "3      0.0754\n",
       "4      0.0822\n",
       "        ...  \n",
       "495    0.1843\n",
       "496    0.1870\n",
       "497    0.1428\n",
       "498    0.1529\n",
       "499    0.1276\n",
       "Name: 201, Length: 500, dtype: float64"
      ]
     },
     "metadata": {},
     "output_type": "display_data"
    },
    {
     "data": {
      "text/plain": [
       "0      0.2596\n",
       "1      0.1590\n",
       "2      0.2762\n",
       "3      0.1667\n",
       "4      0.2131\n",
       "        ...  \n",
       "495    0.4334\n",
       "496    0.2383\n",
       "497    0.2746\n",
       "498    0.2553\n",
       "499    0.3190\n",
       "Name: 202, Length: 500, dtype: float64"
      ]
     },
     "metadata": {},
     "output_type": "display_data"
    },
    {
     "data": {
      "text/plain": [
       "0      0.7302\n",
       "1      0.7816\n",
       "2      0.7302\n",
       "3      0.7397\n",
       "4      0.7302\n",
       "        ...  \n",
       "495       NaN\n",
       "496       NaN\n",
       "497       NaN\n",
       "498       NaN\n",
       "499       NaN\n",
       "Name: 203, Length: 500, dtype: float64"
      ]
     },
     "metadata": {},
     "output_type": "display_data"
    },
    {
     "data": {
      "text/plain": [
       "0      0.9064\n",
       "1      0.9027\n",
       "2      0.9191\n",
       "3      0.9027\n",
       "4      0.9358\n",
       "        ...  \n",
       "495    0.6920\n",
       "496    0.6879\n",
       "497    0.7573\n",
       "498    0.7401\n",
       "499    0.9581\n",
       "Name: 204, Length: 500, dtype: float64"
      ]
     },
     "metadata": {},
     "output_type": "display_data"
    },
    {
     "data": {
      "text/plain": [
       "0      0.8936\n",
       "1      0.9655\n",
       "2      0.9451\n",
       "3      0.9020\n",
       "4      0.8621\n",
       "        ...  \n",
       "495    0.7038\n",
       "496    0.8109\n",
       "497    0.7874\n",
       "498    0.6184\n",
       "499    0.6046\n",
       "Name: 205, Length: 500, dtype: float64"
      ]
     },
     "metadata": {},
     "output_type": "display_data"
    },
    {
     "data": {
      "text/plain": [
       "0      0.9245\n",
       "1      0.8636\n",
       "2      0.9620\n",
       "3      0.9245\n",
       "4      0.8989\n",
       "        ...  \n",
       "495    0.8800\n",
       "496    0.5169\n",
       "497    0.4335\n",
       "498    0.8150\n",
       "499    0.8395\n",
       "Name: 206, Length: 500, dtype: float64"
      ]
     },
     "metadata": {},
     "output_type": "display_data"
    },
    {
     "data": {
      "text/plain": [
       "0      0.7920\n",
       "1      0.8175\n",
       "2      0.7905\n",
       "3      0.8077\n",
       "4      0.7500\n",
       "        ...  \n",
       "495    0.4187\n",
       "496    0.4828\n",
       "497    0.6196\n",
       "498    0.4891\n",
       "499    0.7468\n",
       "Name: 207, Length: 500, dtype: float64"
      ]
     },
     "metadata": {},
     "output_type": "display_data"
    },
    {
     "data": {
      "text/plain": [
       "0      0.0122\n",
       "1      0.0286\n",
       "2      0.0124\n",
       "3      0.0547\n",
       "4      0.0283\n",
       "        ...  \n",
       "495    0.0547\n",
       "496    0.0677\n",
       "497    0.0373\n",
       "498    0.0468\n",
       "499    0.0741\n",
       "Name: 208, Length: 500, dtype: float64"
      ]
     },
     "metadata": {},
     "output_type": "display_data"
    },
    {
     "data": {
      "text/plain": [
       "0      0.0606\n",
       "1      0.0177\n",
       "2      0.0000\n",
       "3      0.0000\n",
       "4      0.0968\n",
       "        ...  \n",
       "495    0.1057\n",
       "496    0.1332\n",
       "497    0.1332\n",
       "498    0.1075\n",
       "499    0.1589\n",
       "Name: 209, Length: 500, dtype: float64"
      ]
     },
     "metadata": {},
     "output_type": "display_data"
    },
    {
     "data": {
      "text/plain": [
       "0      0.9084\n",
       "1      0.9186\n",
       "2      0.8916\n",
       "3      0.9057\n",
       "4         NaN\n",
       "        ...  \n",
       "495    0.7712\n",
       "496    0.8372\n",
       "497    0.9257\n",
       "498    0.7667\n",
       "499    0.9578\n",
       "Name: 210, Length: 500, dtype: float64"
      ]
     },
     "metadata": {},
     "output_type": "display_data"
    },
    {
     "data": {
      "text/plain": [
       "0      0.9275\n",
       "1         NaN\n",
       "2      0.9596\n",
       "3      0.9672\n",
       "4      0.9459\n",
       "        ...  \n",
       "495    0.8823\n",
       "496    0.8364\n",
       "497    0.8156\n",
       "498    0.8323\n",
       "499    0.8862\n",
       "Name: 211, Length: 500, dtype: float64"
      ]
     },
     "metadata": {},
     "output_type": "display_data"
    },
    {
     "data": {
      "text/plain": [
       "0      0.9695\n",
       "1      0.9123\n",
       "2      0.8922\n",
       "3      0.9447\n",
       "4      0.9407\n",
       "        ...  \n",
       "495    0.9160\n",
       "496    0.9226\n",
       "497    0.9022\n",
       "498    0.9033\n",
       "499    0.8945\n",
       "Name: 212, Length: 500, dtype: float64"
      ]
     },
     "metadata": {},
     "output_type": "display_data"
    },
    {
     "data": {
      "text/plain": [
       "0      0.9406\n",
       "1      0.9333\n",
       "2      0.9071\n",
       "3      0.9611\n",
       "4      0.9394\n",
       "        ...  \n",
       "495    0.9050\n",
       "496    0.8522\n",
       "497    0.6250\n",
       "498    0.8882\n",
       "499    0.7712\n",
       "Name: 213, Length: 500, dtype: float64"
      ]
     },
     "metadata": {},
     "output_type": "display_data"
    },
    {
     "data": {
      "text/plain": [
       "0      0.9028\n",
       "1      0.9623\n",
       "2      0.9706\n",
       "3      0.9524\n",
       "4      0.9128\n",
       "        ...  \n",
       "495    0.9389\n",
       "496    0.9064\n",
       "497    0.9348\n",
       "498    0.9503\n",
       "499    0.9448\n",
       "Name: 214, Length: 500, dtype: float64"
      ]
     },
     "metadata": {},
     "output_type": "display_data"
    },
    {
     "data": {
      "text/plain": [
       "0      0.9320\n",
       "1      0.9402\n",
       "2      0.9681\n",
       "3         NaN\n",
       "4      0.9651\n",
       "        ...  \n",
       "495    0.9146\n",
       "496    0.9114\n",
       "497    0.8966\n",
       "498    0.9306\n",
       "499    0.9215\n",
       "Name: 215, Length: 500, dtype: float64"
      ]
     },
     "metadata": {},
     "output_type": "display_data"
    },
    {
     "data": {
      "text/plain": [
       "0      0.9492\n",
       "1      0.9630\n",
       "2      0.8519\n",
       "3      0.9583\n",
       "4      0.8500\n",
       "        ...  \n",
       "495    0.8821\n",
       "496    0.8757\n",
       "497    0.9188\n",
       "498    0.8886\n",
       "499    0.7730\n",
       "Name: 216, Length: 500, dtype: float64"
      ]
     },
     "metadata": {},
     "output_type": "display_data"
    },
    {
     "data": {
      "text/plain": [
       "0      0.9468\n",
       "1      0.9200\n",
       "2      0.8676\n",
       "3      0.8750\n",
       "4      0.7647\n",
       "        ...  \n",
       "495    0.8101\n",
       "496    0.8905\n",
       "497    0.7901\n",
       "498    0.8848\n",
       "499    0.8787\n",
       "Name: 217, Length: 500, dtype: float64"
      ]
     },
     "metadata": {},
     "output_type": "display_data"
    },
    {
     "data": {
      "text/plain": [
       "0      0.8151\n",
       "1      0.8824\n",
       "2      0.8824\n",
       "3      0.7963\n",
       "4      0.8696\n",
       "        ...  \n",
       "495       NaN\n",
       "496       NaN\n",
       "497       NaN\n",
       "498       NaN\n",
       "499       NaN\n",
       "Name: 218, Length: 500, dtype: float64"
      ]
     },
     "metadata": {},
     "output_type": "display_data"
    },
    {
     "data": {
      "text/plain": [
       "0      0.9281\n",
       "1      0.9126\n",
       "2      0.9245\n",
       "3      0.9279\n",
       "4      0.9099\n",
       "        ...  \n",
       "495    0.8511\n",
       "496    0.8378\n",
       "497    0.8534\n",
       "498    0.8196\n",
       "499    0.7915\n",
       "Name: 219, Length: 500, dtype: float64"
      ]
     },
     "metadata": {},
     "output_type": "display_data"
    },
    {
     "data": {
      "text/plain": [
       "0      1.0000\n",
       "1      0.9804\n",
       "2      0.9496\n",
       "3      0.9643\n",
       "4      0.9623\n",
       "        ...  \n",
       "495    0.9123\n",
       "496    0.9263\n",
       "497    0.9146\n",
       "498    0.6985\n",
       "499    0.8731\n",
       "Name: 220, Length: 500, dtype: float64"
      ]
     },
     "metadata": {},
     "output_type": "display_data"
    },
    {
     "data": {
      "text/plain": [
       "0         NaN\n",
       "1      0.9155\n",
       "2         NaN\n",
       "3      0.9375\n",
       "4      0.8602\n",
       "        ...  \n",
       "495    0.7925\n",
       "496    0.8049\n",
       "497    0.7294\n",
       "498    0.7391\n",
       "499    0.7959\n",
       "Name: 221, Length: 500, dtype: float64"
      ]
     },
     "metadata": {},
     "output_type": "display_data"
    },
    {
     "data": {
      "text/plain": [
       "0      0.8070\n",
       "1      0.8070\n",
       "2      0.9286\n",
       "3      0.9497\n",
       "4      0.9057\n",
       "        ...  \n",
       "495    0.9052\n",
       "496    0.7894\n",
       "497    0.8003\n",
       "498    0.9052\n",
       "499    0.7878\n",
       "Name: 222, Length: 500, dtype: float64"
      ]
     },
     "metadata": {},
     "output_type": "display_data"
    },
    {
     "data": {
      "text/plain": [
       "0      0.9395\n",
       "1      0.9659\n",
       "2      0.9809\n",
       "3      0.9691\n",
       "4      0.9330\n",
       "        ...  \n",
       "495       NaN\n",
       "496       NaN\n",
       "497       NaN\n",
       "498       NaN\n",
       "499       NaN\n",
       "Name: 223, Length: 500, dtype: float64"
      ]
     },
     "metadata": {},
     "output_type": "display_data"
    },
    {
     "data": {
      "text/plain": [
       "0      0.5913\n",
       "1      0.5510\n",
       "2      0.5948\n",
       "3      0.7120\n",
       "4      0.5111\n",
       "        ...  \n",
       "495    0.5724\n",
       "496    0.7825\n",
       "497    0.7081\n",
       "498    0.1963\n",
       "499    0.3805\n",
       "Name: 224, Length: 500, dtype: float64"
      ]
     },
     "metadata": {},
     "output_type": "display_data"
    },
    {
     "data": {
      "text/plain": [
       "0      0.9412\n",
       "1      0.8354\n",
       "2      0.8551\n",
       "3      0.9375\n",
       "4      0.9130\n",
       "        ...  \n",
       "495    0.8743\n",
       "496    0.8856\n",
       "497    0.8154\n",
       "498    0.9125\n",
       "499    0.8990\n",
       "Name: 225, Length: 500, dtype: float64"
      ]
     },
     "metadata": {},
     "output_type": "display_data"
    },
    {
     "data": {
      "text/plain": [
       "0      0.9545\n",
       "1      0.9915\n",
       "2      0.9643\n",
       "3      0.9643\n",
       "4      0.8852\n",
       "        ...  \n",
       "495    0.9100\n",
       "496    0.9169\n",
       "497    0.9061\n",
       "498    0.1865\n",
       "499    0.8948\n",
       "Name: 226, Length: 500, dtype: float64"
      ]
     },
     "metadata": {},
     "output_type": "display_data"
    },
    {
     "data": {
      "text/plain": [
       "0      0.8125\n",
       "1      0.8605\n",
       "2      0.8772\n",
       "3      0.1860\n",
       "4      0.7455\n",
       "        ...  \n",
       "495    0.8995\n",
       "496    0.7868\n",
       "497    0.8871\n",
       "498    0.8453\n",
       "499    0.2364\n",
       "Name: 227, Length: 500, dtype: float64"
      ]
     },
     "metadata": {},
     "output_type": "display_data"
    },
    {
     "data": {
      "text/plain": [
       "0      0.9474\n",
       "1      0.9389\n",
       "2      0.9412\n",
       "3      0.9200\n",
       "4      0.8689\n",
       "        ...  \n",
       "495    0.8965\n",
       "496    0.8492\n",
       "497    0.8284\n",
       "498    0.6191\n",
       "499    0.8294\n",
       "Name: 228, Length: 500, dtype: float64"
      ]
     },
     "metadata": {},
     "output_type": "display_data"
    },
    {
     "data": {
      "text/plain": [
       "0      0.4545\n",
       "1      0.5573\n",
       "2      0.3429\n",
       "3      0.3429\n",
       "4      0.4526\n",
       "        ...  \n",
       "495    0.5598\n",
       "496    0.4471\n",
       "497    0.3145\n",
       "498    0.5375\n",
       "499    0.6237\n",
       "Name: 229, Length: 500, dtype: float64"
      ]
     },
     "metadata": {},
     "output_type": "display_data"
    },
    {
     "data": {
      "text/plain": [
       "0      0.4070\n",
       "1      0.4689\n",
       "2      0.5597\n",
       "3      0.6154\n",
       "4      0.5638\n",
       "        ...  \n",
       "495    0.4185\n",
       "496    0.5888\n",
       "497    0.3039\n",
       "498    0.4585\n",
       "499    0.3733\n",
       "Name: 230, Length: 500, dtype: float64"
      ]
     },
     "metadata": {},
     "output_type": "display_data"
    },
    {
     "data": {
      "text/plain": [
       "0      0.0000\n",
       "1      0.0000\n",
       "2      0.0145\n",
       "3      0.0000\n",
       "4      0.0312\n",
       "        ...  \n",
       "495    0.0310\n",
       "496    0.0950\n",
       "497    0.0272\n",
       "498    0.0521\n",
       "499    0.0554\n",
       "Name: 231, Length: 500, dtype: float64"
      ]
     },
     "metadata": {},
     "output_type": "display_data"
    },
    {
     "data": {
      "text/plain": [
       "0      0.9688\n",
       "1      0.9211\n",
       "2      0.9375\n",
       "3      0.9286\n",
       "4      0.9375\n",
       "        ...  \n",
       "495    0.7017\n",
       "496    0.8532\n",
       "497    0.6664\n",
       "498    0.6556\n",
       "499    0.8517\n",
       "Name: 232, Length: 500, dtype: float64"
      ]
     },
     "metadata": {},
     "output_type": "display_data"
    },
    {
     "data": {
      "text/plain": [
       "0      0.6782\n",
       "1      0.4643\n",
       "2      0.6739\n",
       "3      0.4167\n",
       "4      0.1957\n",
       "        ...  \n",
       "495    0.7216\n",
       "496    0.7160\n",
       "497    0.6958\n",
       "498    0.8084\n",
       "499    0.7758\n",
       "Name: 233, Length: 500, dtype: float64"
      ]
     },
     "metadata": {},
     "output_type": "display_data"
    },
    {
     "data": {
      "text/plain": [
       "0      0.9485\n",
       "1      0.8991\n",
       "2      0.8943\n",
       "3      0.8455\n",
       "4      0.8955\n",
       "        ...  \n",
       "495       NaN\n",
       "496       NaN\n",
       "497       NaN\n",
       "498       NaN\n",
       "499       NaN\n",
       "Name: 234, Length: 500, dtype: float64"
      ]
     },
     "metadata": {},
     "output_type": "display_data"
    },
    {
     "data": {
      "text/plain": [
       "0      0.9870\n",
       "1      0.9404\n",
       "2      0.9286\n",
       "3      1.0000\n",
       "4      0.9490\n",
       "        ...  \n",
       "495    0.9194\n",
       "496    0.9269\n",
       "497    0.9597\n",
       "498    0.9388\n",
       "499    0.9408\n",
       "Name: 235, Length: 500, dtype: float64"
      ]
     },
     "metadata": {},
     "output_type": "display_data"
    },
    {
     "data": {
      "text/plain": [
       "0      0.7797\n",
       "1      0.7925\n",
       "2         NaN\n",
       "3      0.7517\n",
       "4      0.7931\n",
       "        ...  \n",
       "495    0.8694\n",
       "496    0.9124\n",
       "497    0.8460\n",
       "498    0.7911\n",
       "499    0.7911\n",
       "Name: 236, Length: 500, dtype: float64"
      ]
     },
     "metadata": {},
     "output_type": "display_data"
    },
    {
     "data": {
      "text/plain": [
       "0      0.9306\n",
       "1      0.9592\n",
       "2      0.9592\n",
       "3      0.9592\n",
       "4      0.9437\n",
       "        ...  \n",
       "495    0.8830\n",
       "496    0.9332\n",
       "497    0.9416\n",
       "498    0.9088\n",
       "499    0.8746\n",
       "Name: 237, Length: 500, dtype: float64"
      ]
     },
     "metadata": {},
     "output_type": "display_data"
    },
    {
     "data": {
      "text/plain": [
       "0      0.9796\n",
       "1      0.9667\n",
       "2      0.8519\n",
       "3         NaN\n",
       "4      0.9286\n",
       "        ...  \n",
       "495    0.8748\n",
       "496    0.7353\n",
       "497    0.8069\n",
       "498    0.9248\n",
       "499    0.8911\n",
       "Name: 238, Length: 500, dtype: float64"
      ]
     },
     "metadata": {},
     "output_type": "display_data"
    },
    {
     "data": {
      "text/plain": [
       "0      0.9295\n",
       "1      0.9270\n",
       "2      0.9605\n",
       "3      0.9481\n",
       "4      0.9397\n",
       "        ...  \n",
       "495    0.9093\n",
       "496    0.8752\n",
       "497    0.8925\n",
       "498    0.9157\n",
       "499    0.8812\n",
       "Name: 239, Length: 500, dtype: float64"
      ]
     },
     "metadata": {},
     "output_type": "display_data"
    },
    {
     "data": {
      "text/plain": [
       "0      0.8916\n",
       "1      0.9091\n",
       "2      0.9070\n",
       "3      0.9055\n",
       "4      0.9091\n",
       "        ...  \n",
       "495    0.9331\n",
       "496    0.9263\n",
       "497    0.9455\n",
       "498    0.9246\n",
       "499    0.9409\n",
       "Name: 240, Length: 500, dtype: float64"
      ]
     },
     "metadata": {},
     "output_type": "display_data"
    },
    {
     "data": {
      "text/plain": [
       "0         NaN\n",
       "1      0.8710\n",
       "2      0.6140\n",
       "3      0.5213\n",
       "4      0.7308\n",
       "        ...  \n",
       "495    0.2071\n",
       "496    0.4985\n",
       "497    0.5772\n",
       "498    0.5154\n",
       "499    0.6374\n",
       "Name: 241, Length: 500, dtype: float64"
      ]
     },
     "metadata": {},
     "output_type": "display_data"
    },
    {
     "data": {
      "text/plain": [
       "0      0.9297\n",
       "1      0.9478\n",
       "2      0.8726\n",
       "3      0.9559\n",
       "4      0.9339\n",
       "        ...  \n",
       "495       NaN\n",
       "496       NaN\n",
       "497       NaN\n",
       "498       NaN\n",
       "499       NaN\n",
       "Name: 242, Length: 500, dtype: float64"
      ]
     },
     "metadata": {},
     "output_type": "display_data"
    },
    {
     "data": {
      "text/plain": [
       "0      0.9429\n",
       "1      0.9429\n",
       "2      0.9226\n",
       "3      0.9356\n",
       "4      0.9391\n",
       "        ...  \n",
       "495       NaN\n",
       "496       NaN\n",
       "497       NaN\n",
       "498       NaN\n",
       "499       NaN\n",
       "Name: 243, Length: 500, dtype: float64"
      ]
     },
     "metadata": {},
     "output_type": "display_data"
    },
    {
     "data": {
      "text/plain": [
       "0      0.9439\n",
       "1      0.9509\n",
       "2      0.9826\n",
       "3      0.9424\n",
       "4      0.9540\n",
       "        ...  \n",
       "495    0.9531\n",
       "496    0.9394\n",
       "497    0.9427\n",
       "498    0.9086\n",
       "499    0.9471\n",
       "Name: 244, Length: 500, dtype: float64"
      ]
     },
     "metadata": {},
     "output_type": "display_data"
    },
    {
     "data": {
      "text/plain": [
       "0      0.5000\n",
       "1      0.2586\n",
       "2      0.1880\n",
       "3      0.3585\n",
       "4      0.3120\n",
       "        ...  \n",
       "495    0.3365\n",
       "496    0.3531\n",
       "497    0.3031\n",
       "498    0.1231\n",
       "499    0.2524\n",
       "Name: 245, Length: 500, dtype: float64"
      ]
     },
     "metadata": {},
     "output_type": "display_data"
    },
    {
     "data": {
      "text/plain": [
       "0      0.8723\n",
       "1      0.8448\n",
       "2      0.8613\n",
       "3      0.9375\n",
       "4      0.8925\n",
       "        ...  \n",
       "495    0.6876\n",
       "496    0.8515\n",
       "497    0.5580\n",
       "498    0.6808\n",
       "499    0.5911\n",
       "Name: 246, Length: 500, dtype: float64"
      ]
     },
     "metadata": {},
     "output_type": "display_data"
    },
    {
     "data": {
      "text/plain": [
       "0      0.0000\n",
       "1      0.0000\n",
       "2      0.0000\n",
       "3      0.0074\n",
       "4      0.0000\n",
       "        ...  \n",
       "495    0.0279\n",
       "496    0.0240\n",
       "497    0.0244\n",
       "498    0.0204\n",
       "499    0.0251\n",
       "Name: 247, Length: 500, dtype: float64"
      ]
     },
     "metadata": {},
     "output_type": "display_data"
    },
    {
     "data": {
      "text/plain": [
       "0      0.8049\n",
       "1      0.8642\n",
       "2      0.9012\n",
       "3      0.7442\n",
       "4      0.9167\n",
       "        ...  \n",
       "495    0.7801\n",
       "496    0.7462\n",
       "497    0.5515\n",
       "498    0.8108\n",
       "499    0.7176\n",
       "Name: 248, Length: 500, dtype: float64"
      ]
     },
     "metadata": {},
     "output_type": "display_data"
    },
    {
     "data": {
      "text/plain": [
       "0         NaN\n",
       "1         NaN\n",
       "2      0.7447\n",
       "3         NaN\n",
       "4      0.7447\n",
       "        ...  \n",
       "495    0.4633\n",
       "496    0.6704\n",
       "497    0.6595\n",
       "498    0.6979\n",
       "499    0.6518\n",
       "Name: 249, Length: 500, dtype: float64"
      ]
     },
     "metadata": {},
     "output_type": "display_data"
    },
    {
     "data": {
      "text/plain": [
       "0      0.0000\n",
       "1      0.0000\n",
       "2      0.0000\n",
       "3      0.0000\n",
       "4      0.0000\n",
       "        ...  \n",
       "495    0.0155\n",
       "496    0.0169\n",
       "497    0.0201\n",
       "498    0.0202\n",
       "499    0.0182\n",
       "Name: 250, Length: 500, dtype: float64"
      ]
     },
     "metadata": {},
     "output_type": "display_data"
    },
    {
     "data": {
      "text/plain": [
       "0      0.5122\n",
       "1      0.3175\n",
       "2         NaN\n",
       "3      0.1538\n",
       "4      0.4848\n",
       "        ...  \n",
       "495    0.5293\n",
       "496    0.2509\n",
       "497    0.5251\n",
       "498    0.1683\n",
       "499    0.1257\n",
       "Name: 251, Length: 500, dtype: float64"
      ]
     },
     "metadata": {},
     "output_type": "display_data"
    },
    {
     "data": {
      "text/plain": [
       "0      0.7551\n",
       "1      0.6869\n",
       "2      0.7736\n",
       "3      0.8600\n",
       "4      0.8657\n",
       "        ...  \n",
       "495    0.8481\n",
       "496    0.8510\n",
       "497    0.8535\n",
       "498    0.8339\n",
       "499    0.8047\n",
       "Name: 252, Length: 500, dtype: float64"
      ]
     },
     "metadata": {},
     "output_type": "display_data"
    },
    {
     "data": {
      "text/plain": [
       "0      0.8989\n",
       "1         NaN\n",
       "2      0.8529\n",
       "3      0.9362\n",
       "4      0.9362\n",
       "        ...  \n",
       "495    0.7845\n",
       "496    0.6400\n",
       "497    0.5522\n",
       "498    0.8024\n",
       "499    0.5956\n",
       "Name: 253, Length: 500, dtype: float64"
      ]
     },
     "metadata": {},
     "output_type": "display_data"
    },
    {
     "data": {
      "text/plain": [
       "0      0.7842\n",
       "1      0.7842\n",
       "2      0.7842\n",
       "3      0.8333\n",
       "4      0.8544\n",
       "        ...  \n",
       "495       NaN\n",
       "496       NaN\n",
       "497       NaN\n",
       "498       NaN\n",
       "499       NaN\n",
       "Name: 254, Length: 500, dtype: float64"
      ]
     },
     "metadata": {},
     "output_type": "display_data"
    },
    {
     "data": {
      "text/plain": [
       "0      0.9211\n",
       "1      0.7093\n",
       "2      0.6286\n",
       "3      0.7258\n",
       "4      0.3095\n",
       "        ...  \n",
       "495    0.8959\n",
       "496    0.8595\n",
       "497    0.8169\n",
       "498    0.8830\n",
       "499    0.8888\n",
       "Name: 255, Length: 500, dtype: float64"
      ]
     },
     "metadata": {},
     "output_type": "display_data"
    },
    {
     "data": {
      "text/plain": [
       "0      0.9263\n",
       "1      0.9426\n",
       "2      0.9432\n",
       "3      0.9426\n",
       "4      0.9500\n",
       "        ...  \n",
       "495    0.3715\n",
       "496    0.9186\n",
       "497    0.9412\n",
       "498    0.9388\n",
       "499    0.9429\n",
       "Name: 256, Length: 500, dtype: float64"
      ]
     },
     "metadata": {},
     "output_type": "display_data"
    },
    {
     "data": {
      "text/plain": [
       "0      0.9636\n",
       "1      0.9369\n",
       "2      0.9646\n",
       "3      0.9091\n",
       "4      0.9483\n",
       "        ...  \n",
       "495    0.7865\n",
       "496    0.8597\n",
       "497    0.8591\n",
       "498    0.8384\n",
       "499    0.7758\n",
       "Name: 257, Length: 500, dtype: float64"
      ]
     },
     "metadata": {},
     "output_type": "display_data"
    },
    {
     "data": {
      "text/plain": [
       "0      0.8488\n",
       "1      0.9241\n",
       "2      0.9048\n",
       "3      0.9500\n",
       "4      1.0000\n",
       "        ...  \n",
       "495    0.7699\n",
       "496    0.8161\n",
       "497    0.8719\n",
       "498    0.7552\n",
       "499    0.7681\n",
       "Name: 258, Length: 500, dtype: float64"
      ]
     },
     "metadata": {},
     "output_type": "display_data"
    },
    {
     "data": {
      "text/plain": [
       "0      0.9843\n",
       "1      0.9588\n",
       "2      0.9714\n",
       "3      0.9630\n",
       "4      0.9740\n",
       "        ...  \n",
       "495       NaN\n",
       "496       NaN\n",
       "497       NaN\n",
       "498       NaN\n",
       "499       NaN\n",
       "Name: 259, Length: 500, dtype: float64"
      ]
     },
     "metadata": {},
     "output_type": "display_data"
    },
    {
     "data": {
      "text/plain": [
       "0      0.9231\n",
       "1      0.9429\n",
       "2      0.8772\n",
       "3      0.9342\n",
       "4      0.9661\n",
       "        ...  \n",
       "495    0.8065\n",
       "496    0.8817\n",
       "497    0.8605\n",
       "498    0.8946\n",
       "499    0.8533\n",
       "Name: 260, Length: 500, dtype: float64"
      ]
     },
     "metadata": {},
     "output_type": "display_data"
    },
    {
     "data": {
      "text/plain": [
       "0      0.0764\n",
       "1      0.0962\n",
       "2      0.0324\n",
       "3      0.1646\n",
       "4      0.0341\n",
       "        ...  \n",
       "495    0.2032\n",
       "496    0.0952\n",
       "497    0.2238\n",
       "498    0.2547\n",
       "499    0.0361\n",
       "Name: 261, Length: 500, dtype: float64"
      ]
     },
     "metadata": {},
     "output_type": "display_data"
    },
    {
     "data": {
      "text/plain": [
       "0      0.9452\n",
       "1      0.9831\n",
       "2      0.9250\n",
       "3      0.9225\n",
       "4      0.9670\n",
       "        ...  \n",
       "495    0.9067\n",
       "496    0.9545\n",
       "497    0.9202\n",
       "498    0.9361\n",
       "499    0.9445\n",
       "Name: 262, Length: 500, dtype: float64"
      ]
     },
     "metadata": {},
     "output_type": "display_data"
    },
    {
     "data": {
      "text/plain": [
       "0      0.8471\n",
       "1      0.8947\n",
       "2      0.9420\n",
       "3      0.9400\n",
       "4      0.9016\n",
       "        ...  \n",
       "495    0.9112\n",
       "496    0.8888\n",
       "497    0.9006\n",
       "498    0.9374\n",
       "499    0.9194\n",
       "Name: 263, Length: 500, dtype: float64"
      ]
     },
     "metadata": {},
     "output_type": "display_data"
    },
    {
     "data": {
      "text/plain": [
       "0      0.6098\n",
       "1      0.3889\n",
       "2      0.6129\n",
       "3      0.3187\n",
       "4      0.4839\n",
       "        ...  \n",
       "495    0.7727\n",
       "496    0.7993\n",
       "497    0.2515\n",
       "498    0.4482\n",
       "499    0.4702\n",
       "Name: 264, Length: 500, dtype: float64"
      ]
     },
     "metadata": {},
     "output_type": "display_data"
    },
    {
     "data": {
      "text/plain": [
       "0      0.2051\n",
       "1      0.0698\n",
       "2      0.0235\n",
       "3      0.0471\n",
       "4      0.1304\n",
       "        ...  \n",
       "495    0.6712\n",
       "496    0.4074\n",
       "497    0.6147\n",
       "498    0.3787\n",
       "499    0.5101\n",
       "Name: 265, Length: 500, dtype: float64"
      ]
     },
     "metadata": {},
     "output_type": "display_data"
    },
    {
     "data": {
      "text/plain": [
       "0      0.4091\n",
       "1      0.0000\n",
       "2      0.0588\n",
       "3      0.4091\n",
       "4      0.0000\n",
       "        ...  \n",
       "495    0.4471\n",
       "496    0.5882\n",
       "497    0.2407\n",
       "498    0.6409\n",
       "499    0.1038\n",
       "Name: 266, Length: 500, dtype: float64"
      ]
     },
     "metadata": {},
     "output_type": "display_data"
    },
    {
     "data": {
      "text/plain": [
       "0      0.9320\n",
       "1      0.8197\n",
       "2      0.8671\n",
       "3      0.8966\n",
       "4      0.9384\n",
       "        ...  \n",
       "495       NaN\n",
       "496       NaN\n",
       "497       NaN\n",
       "498       NaN\n",
       "499       NaN\n",
       "Name: 267, Length: 500, dtype: float64"
      ]
     },
     "metadata": {},
     "output_type": "display_data"
    },
    {
     "data": {
      "text/plain": [
       "0      0.9500\n",
       "1      0.9405\n",
       "2      0.9710\n",
       "3      0.9324\n",
       "4      0.9710\n",
       "        ...  \n",
       "495    0.8993\n",
       "496    0.8601\n",
       "497    0.8937\n",
       "498    0.9246\n",
       "499    0.8951\n",
       "Name: 268, Length: 500, dtype: float64"
      ]
     },
     "metadata": {},
     "output_type": "display_data"
    },
    {
     "data": {
      "text/plain": [
       "0      0.9500\n",
       "1      0.9735\n",
       "2      0.9407\n",
       "3      0.9462\n",
       "4      0.9407\n",
       "        ...  \n",
       "495    0.9192\n",
       "496    0.8833\n",
       "497    0.9423\n",
       "498    0.9136\n",
       "499    0.7406\n",
       "Name: 269, Length: 500, dtype: float64"
      ]
     },
     "metadata": {},
     "output_type": "display_data"
    },
    {
     "data": {
      "text/plain": [
       "0      0.9488\n",
       "1      0.8810\n",
       "2      0.9488\n",
       "3      0.8812\n",
       "4      0.9359\n",
       "        ...  \n",
       "495    0.8770\n",
       "496    0.9242\n",
       "497    0.8983\n",
       "498    0.8848\n",
       "499    0.9013\n",
       "Name: 270, Length: 500, dtype: float64"
      ]
     },
     "metadata": {},
     "output_type": "display_data"
    },
    {
     "data": {
      "text/plain": [
       "0      0.8642\n",
       "1      0.8160\n",
       "2      0.8187\n",
       "3      0.8988\n",
       "4      0.8988\n",
       "        ...  \n",
       "495    0.6797\n",
       "496    0.4474\n",
       "497    0.6206\n",
       "498    0.5716\n",
       "499    0.7038\n",
       "Name: 271, Length: 500, dtype: float64"
      ]
     },
     "metadata": {},
     "output_type": "display_data"
    },
    {
     "data": {
      "text/plain": [
       "0      0.7590\n",
       "1      0.8034\n",
       "2         NaN\n",
       "3      0.8557\n",
       "4      0.7368\n",
       "        ...  \n",
       "495    0.8391\n",
       "496    0.7732\n",
       "497    0.7290\n",
       "498    0.7309\n",
       "499    0.4889\n",
       "Name: 272, Length: 500, dtype: float64"
      ]
     },
     "metadata": {},
     "output_type": "display_data"
    },
    {
     "data": {
      "text/plain": [
       "0      0.9211\n",
       "1      0.9034\n",
       "2      0.9597\n",
       "3      0.8984\n",
       "4      0.9076\n",
       "        ...  \n",
       "495    0.7726\n",
       "496    0.6857\n",
       "497    0.4245\n",
       "498    0.8838\n",
       "499    0.8364\n",
       "Name: 273, Length: 500, dtype: float64"
      ]
     },
     "metadata": {},
     "output_type": "display_data"
    },
    {
     "data": {
      "text/plain": [
       "0      0.9804\n",
       "1      0.9505\n",
       "2      0.9153\n",
       "3      0.8992\n",
       "4      0.9225\n",
       "        ...  \n",
       "495    0.1921\n",
       "496    0.3920\n",
       "497    0.4711\n",
       "498    0.4002\n",
       "499    0.4588\n",
       "Name: 274, Length: 500, dtype: float64"
      ]
     },
     "metadata": {},
     "output_type": "display_data"
    },
    {
     "data": {
      "text/plain": [
       "0      0.8860\n",
       "1      0.9398\n",
       "2      0.9317\n",
       "3      0.9344\n",
       "4      0.9044\n",
       "        ...  \n",
       "495    0.7165\n",
       "496    0.7422\n",
       "497    0.6685\n",
       "498    0.7438\n",
       "499    0.4294\n",
       "Name: 275, Length: 500, dtype: float64"
      ]
     },
     "metadata": {},
     "output_type": "display_data"
    },
    {
     "data": {
      "text/plain": [
       "0      0.8507\n",
       "1      0.9434\n",
       "2      0.9079\n",
       "3      0.8533\n",
       "4      0.9425\n",
       "        ...  \n",
       "495    0.7501\n",
       "496    0.7951\n",
       "497    0.6693\n",
       "498    0.7158\n",
       "499    0.7639\n",
       "Name: 276, Length: 500, dtype: float64"
      ]
     },
     "metadata": {},
     "output_type": "display_data"
    },
    {
     "data": {
      "text/plain": [
       "0      0.9048\n",
       "1      0.8582\n",
       "2      0.7899\n",
       "3      0.8817\n",
       "4      0.8429\n",
       "        ...  \n",
       "495    0.7073\n",
       "496    0.8438\n",
       "497    0.6869\n",
       "498    0.7891\n",
       "499    0.8964\n",
       "Name: 277, Length: 500, dtype: float64"
      ]
     },
     "metadata": {},
     "output_type": "display_data"
    },
    {
     "data": {
      "text/plain": [
       "0      0.9542\n",
       "1      0.9024\n",
       "2      0.9038\n",
       "3      0.9024\n",
       "4      0.9194\n",
       "        ...  \n",
       "495    0.9331\n",
       "496    0.9363\n",
       "497    0.7022\n",
       "498    0.9552\n",
       "499    0.9380\n",
       "Name: 278, Length: 500, dtype: float64"
      ]
     },
     "metadata": {},
     "output_type": "display_data"
    },
    {
     "data": {
      "text/plain": [
       "0      0.9255\n",
       "1      0.9246\n",
       "2      0.9255\n",
       "3      0.8924\n",
       "4      0.9238\n",
       "        ...  \n",
       "495    0.7350\n",
       "496    0.8222\n",
       "497    0.8058\n",
       "498    0.7940\n",
       "499    0.7511\n",
       "Name: 279, Length: 500, dtype: float64"
      ]
     },
     "metadata": {},
     "output_type": "display_data"
    },
    {
     "data": {
      "text/plain": [
       "0      0.9121\n",
       "1      0.9582\n",
       "2      0.9248\n",
       "3      0.9417\n",
       "4      0.9582\n",
       "        ...  \n",
       "495    0.9669\n",
       "496    0.9545\n",
       "497    0.8052\n",
       "498    0.9679\n",
       "499    0.9510\n",
       "Name: 280, Length: 500, dtype: float64"
      ]
     },
     "metadata": {},
     "output_type": "display_data"
    },
    {
     "data": {
      "text/plain": [
       "0      0.9191\n",
       "1      0.9836\n",
       "2      0.9091\n",
       "3      0.9101\n",
       "4      0.9360\n",
       "        ...  \n",
       "495    0.4415\n",
       "496    0.7324\n",
       "497    0.8042\n",
       "498    0.7577\n",
       "499    0.8548\n",
       "Name: 281, Length: 500, dtype: float64"
      ]
     },
     "metadata": {},
     "output_type": "display_data"
    },
    {
     "data": {
      "text/plain": [
       "0      0.9097\n",
       "1      0.9304\n",
       "2      0.9548\n",
       "3      0.9494\n",
       "4      0.9453\n",
       "        ...  \n",
       "495    0.6557\n",
       "496    0.6087\n",
       "497    0.6636\n",
       "498    0.7668\n",
       "499    0.7341\n",
       "Name: 282, Length: 500, dtype: float64"
      ]
     },
     "metadata": {},
     "output_type": "display_data"
    },
    {
     "data": {
      "text/plain": [
       "0      0.9379\n",
       "1      0.9481\n",
       "2      0.9609\n",
       "3      0.9379\n",
       "4      0.9590\n",
       "        ...  \n",
       "495    0.6239\n",
       "496    0.6938\n",
       "497    0.7402\n",
       "498    0.6232\n",
       "499    0.7778\n",
       "Name: 283, Length: 500, dtype: float64"
      ]
     },
     "metadata": {},
     "output_type": "display_data"
    },
    {
     "data": {
      "text/plain": [
       "0      0.8767\n",
       "1      0.8182\n",
       "2      0.9138\n",
       "3      0.8072\n",
       "4      0.8672\n",
       "        ...  \n",
       "495    0.5488\n",
       "496    0.4657\n",
       "497    0.8638\n",
       "498    0.8690\n",
       "499    0.6125\n",
       "Name: 284, Length: 500, dtype: float64"
      ]
     },
     "metadata": {},
     "output_type": "display_data"
    },
    {
     "data": {
      "text/plain": [
       "0      0.9474\n",
       "1      0.9474\n",
       "2      0.9524\n",
       "3      0.9000\n",
       "4      0.9310\n",
       "        ...  \n",
       "495    0.8398\n",
       "496    0.8156\n",
       "497    0.8119\n",
       "498    0.8306\n",
       "499    0.8898\n",
       "Name: 285, Length: 500, dtype: float64"
      ]
     },
     "metadata": {},
     "output_type": "display_data"
    },
    {
     "data": {
      "text/plain": [
       "0      0.9855\n",
       "1      0.9451\n",
       "2      0.9492\n",
       "3      0.9464\n",
       "4      0.9464\n",
       "        ...  \n",
       "495    0.8566\n",
       "496    0.8686\n",
       "497    0.7899\n",
       "498    0.8998\n",
       "499    0.9298\n",
       "Name: 286, Length: 500, dtype: float64"
      ]
     },
     "metadata": {},
     "output_type": "display_data"
    },
    {
     "data": {
      "text/plain": [
       "0      0.0000\n",
       "1      0.0052\n",
       "2      0.0000\n",
       "3      0.0000\n",
       "4      0.0052\n",
       "        ...  \n",
       "495    0.0212\n",
       "496    0.0290\n",
       "497    0.0267\n",
       "498    0.0296\n",
       "499    0.0244\n",
       "Name: 287, Length: 500, dtype: float64"
      ]
     },
     "metadata": {},
     "output_type": "display_data"
    },
    {
     "data": {
      "text/plain": [
       "0      0.8364\n",
       "1      0.7949\n",
       "2      0.8077\n",
       "3      0.8800\n",
       "4      0.6235\n",
       "        ...  \n",
       "495    0.4316\n",
       "496    0.4790\n",
       "497    0.4192\n",
       "498    0.4209\n",
       "499    0.3977\n",
       "Name: 288, Length: 500, dtype: float64"
      ]
     },
     "metadata": {},
     "output_type": "display_data"
    },
    {
     "data": {
      "text/plain": [
       "0      0.9264\n",
       "1      0.9444\n",
       "2      0.9264\n",
       "3      0.9032\n",
       "4      0.9429\n",
       "        ...  \n",
       "495    0.9101\n",
       "496    0.9156\n",
       "497    0.9306\n",
       "498    0.9153\n",
       "499    0.9243\n",
       "Name: 289, Length: 500, dtype: float64"
      ]
     },
     "metadata": {},
     "output_type": "display_data"
    },
    {
     "data": {
      "text/plain": [
       "0      0.9545\n",
       "1      0.9545\n",
       "2      0.8553\n",
       "3      0.9608\n",
       "4      0.9524\n",
       "        ...  \n",
       "495    0.9204\n",
       "496    0.9434\n",
       "497    0.8902\n",
       "498    0.9315\n",
       "499    0.8976\n",
       "Name: 290, Length: 500, dtype: float64"
      ]
     },
     "metadata": {},
     "output_type": "display_data"
    },
    {
     "data": {
      "text/plain": [
       "0      0.8889\n",
       "1      0.8816\n",
       "2      0.8293\n",
       "3      0.8293\n",
       "4      0.8400\n",
       "        ...  \n",
       "495    0.9016\n",
       "496    0.8799\n",
       "497    0.8896\n",
       "498    0.9022\n",
       "499    0.8838\n",
       "Name: 291, Length: 500, dtype: float64"
      ]
     },
     "metadata": {},
     "output_type": "display_data"
    },
    {
     "data": {
      "text/plain": [
       "0      0.9333\n",
       "1      0.9151\n",
       "2      0.9027\n",
       "3      0.9138\n",
       "4      0.9459\n",
       "        ...  \n",
       "495    0.8641\n",
       "496    0.8951\n",
       "497    0.9109\n",
       "498    0.8950\n",
       "499    0.5284\n",
       "Name: 292, Length: 500, dtype: float64"
      ]
     },
     "metadata": {},
     "output_type": "display_data"
    },
    {
     "data": {
      "text/plain": [
       "0      0.9231\n",
       "1      0.9839\n",
       "2      0.8866\n",
       "3      0.9839\n",
       "4      0.8866\n",
       "        ...  \n",
       "495    0.9109\n",
       "496    0.7075\n",
       "497    0.6750\n",
       "498    0.7661\n",
       "499    0.6214\n",
       "Name: 293, Length: 500, dtype: float64"
      ]
     },
     "metadata": {},
     "output_type": "display_data"
    },
    {
     "data": {
      "text/plain": [
       "0      0.9697\n",
       "1      0.8868\n",
       "2         NaN\n",
       "3      0.9079\n",
       "4      0.9697\n",
       "        ...  \n",
       "495    0.8659\n",
       "496    0.7839\n",
       "497    0.9260\n",
       "498    0.8609\n",
       "499    0.8813\n",
       "Name: 294, Length: 500, dtype: float64"
      ]
     },
     "metadata": {},
     "output_type": "display_data"
    },
    {
     "data": {
      "text/plain": [
       "0      0.8472\n",
       "1      0.8750\n",
       "2      0.9014\n",
       "3      0.9014\n",
       "4      0.9286\n",
       "        ...  \n",
       "495    0.8763\n",
       "496    0.8385\n",
       "497    0.8934\n",
       "498    0.8724\n",
       "499    0.6399\n",
       "Name: 295, Length: 500, dtype: float64"
      ]
     },
     "metadata": {},
     "output_type": "display_data"
    },
    {
     "data": {
      "text/plain": [
       "0      0.9172\n",
       "1      0.9259\n",
       "2      0.9020\n",
       "3      0.9474\n",
       "4      0.9076\n",
       "        ...  \n",
       "495    0.8001\n",
       "496    0.8223\n",
       "497    0.8283\n",
       "498    0.8205\n",
       "499    0.8659\n",
       "Name: 296, Length: 500, dtype: float64"
      ]
     },
     "metadata": {},
     "output_type": "display_data"
    },
    {
     "data": {
      "text/plain": [
       "0      0.0000\n",
       "1      0.0000\n",
       "2      0.0045\n",
       "3      0.0000\n",
       "4      0.0000\n",
       "        ...  \n",
       "495    0.0174\n",
       "496    0.0216\n",
       "497    0.0236\n",
       "498    0.0299\n",
       "499    0.0220\n",
       "Name: 297, Length: 500, dtype: float64"
      ]
     },
     "metadata": {},
     "output_type": "display_data"
    },
    {
     "data": {
      "text/plain": [
       "0      0.2783\n",
       "1      0.4904\n",
       "2      0.4328\n",
       "3      0.4557\n",
       "4      0.4615\n",
       "        ...  \n",
       "495    0.1020\n",
       "496    0.2835\n",
       "497    0.2704\n",
       "498    0.4130\n",
       "499    0.3529\n",
       "Name: 298, Length: 500, dtype: float64"
      ]
     },
     "metadata": {},
     "output_type": "display_data"
    },
    {
     "data": {
      "text/plain": [
       "0      0.9143\n",
       "1      0.8273\n",
       "2      0.7524\n",
       "3      0.8218\n",
       "4      0.7524\n",
       "        ...  \n",
       "495    0.4703\n",
       "496    0.6466\n",
       "497    0.5528\n",
       "498    0.5634\n",
       "499    0.5072\n",
       "Name: 299, Length: 500, dtype: float64"
      ]
     },
     "metadata": {},
     "output_type": "display_data"
    },
    {
     "data": {
      "text/plain": [
       "0      0.9394\n",
       "1      0.8646\n",
       "2      0.9343\n",
       "3      0.9221\n",
       "4      0.9161\n",
       "        ...  \n",
       "495    0.4734\n",
       "496    0.5720\n",
       "497    0.5737\n",
       "498    0.3912\n",
       "499    0.8359\n",
       "Name: 300, Length: 500, dtype: float64"
      ]
     },
     "metadata": {},
     "output_type": "display_data"
    },
    {
     "data": {
      "text/plain": [
       "0      0.6686\n",
       "1      0.6963\n",
       "2      0.5870\n",
       "3      0.6875\n",
       "4      0.5870\n",
       "        ...  \n",
       "495       NaN\n",
       "496       NaN\n",
       "497       NaN\n",
       "498       NaN\n",
       "499       NaN\n",
       "Name: 301, Length: 500, dtype: float64"
      ]
     },
     "metadata": {},
     "output_type": "display_data"
    },
    {
     "data": {
      "text/plain": [
       "0      0.9375\n",
       "1      0.8560\n",
       "2      0.9459\n",
       "3      0.9375\n",
       "4      0.8833\n",
       "        ...  \n",
       "495    0.8282\n",
       "496    0.8944\n",
       "497    0.9130\n",
       "498    0.8680\n",
       "499    0.8879\n",
       "Name: 302, Length: 500, dtype: float64"
      ]
     },
     "metadata": {},
     "output_type": "display_data"
    },
    {
     "data": {
      "text/plain": [
       "0      0.5038\n",
       "1      0.5447\n",
       "2      0.4554\n",
       "3      0.3943\n",
       "4      0.3917\n",
       "        ...  \n",
       "495    0.5066\n",
       "496    0.5168\n",
       "497    0.3130\n",
       "498    0.6133\n",
       "499    0.4846\n",
       "Name: 303, Length: 500, dtype: float64"
      ]
     },
     "metadata": {},
     "output_type": "display_data"
    },
    {
     "data": {
      "text/plain": [
       "0      0.7849\n",
       "1      0.7919\n",
       "2      0.7559\n",
       "3      0.6979\n",
       "4      0.7516\n",
       "        ...  \n",
       "495    0.7211\n",
       "496    0.8069\n",
       "497    0.6377\n",
       "498    0.7159\n",
       "499    0.7760\n",
       "Name: 304, Length: 500, dtype: float64"
      ]
     },
     "metadata": {},
     "output_type": "display_data"
    },
    {
     "data": {
      "text/plain": [
       "0      0.6923\n",
       "1      0.6250\n",
       "2      0.7000\n",
       "3      0.6250\n",
       "4      0.6691\n",
       "        ...  \n",
       "495    0.7659\n",
       "496    0.6622\n",
       "497    0.6587\n",
       "498    0.6604\n",
       "499    0.5635\n",
       "Name: 305, Length: 500, dtype: float64"
      ]
     },
     "metadata": {},
     "output_type": "display_data"
    },
    {
     "data": {
      "text/plain": [
       "0      0.0729\n",
       "1      0.0303\n",
       "2      0.1061\n",
       "3      0.0462\n",
       "4      0.0462\n",
       "        ...  \n",
       "495    0.2465\n",
       "496    0.2092\n",
       "497    0.3107\n",
       "498    0.1189\n",
       "499    0.1249\n",
       "Name: 306, Length: 500, dtype: float64"
      ]
     },
     "metadata": {},
     "output_type": "display_data"
    },
    {
     "data": {
      "text/plain": [
       "0      0.8529\n",
       "1      0.5161\n",
       "2         NaN\n",
       "3         NaN\n",
       "4         NaN\n",
       "        ...  \n",
       "495    0.7122\n",
       "496    0.7125\n",
       "497    0.7224\n",
       "498    0.6722\n",
       "499    0.5429\n",
       "Name: 307, Length: 500, dtype: float64"
      ]
     },
     "metadata": {},
     "output_type": "display_data"
    },
    {
     "data": {
      "text/plain": [
       "0      0.6790\n",
       "1      0.8000\n",
       "2      0.7658\n",
       "3      0.6735\n",
       "4      0.8457\n",
       "        ...  \n",
       "495    0.6916\n",
       "496    0.7199\n",
       "497    0.6928\n",
       "498    0.6710\n",
       "499    0.6673\n",
       "Name: 308, Length: 500, dtype: float64"
      ]
     },
     "metadata": {},
     "output_type": "display_data"
    },
    {
     "data": {
      "text/plain": [
       "0      0.8854\n",
       "1      0.8383\n",
       "2      0.8431\n",
       "3      0.8667\n",
       "4      0.8429\n",
       "        ...  \n",
       "495    0.5733\n",
       "496    0.7689\n",
       "497    0.8075\n",
       "498    0.8480\n",
       "499    0.8367\n",
       "Name: 309, Length: 500, dtype: float64"
      ]
     },
     "metadata": {},
     "output_type": "display_data"
    },
    {
     "data": {
      "text/plain": [
       "0         NaN\n",
       "1         NaN\n",
       "2      0.8916\n",
       "3      0.8933\n",
       "4         NaN\n",
       "        ...  \n",
       "495    0.7124\n",
       "496    0.5591\n",
       "497    0.6163\n",
       "498    0.5036\n",
       "499    0.8884\n",
       "Name: 310, Length: 500, dtype: float64"
      ]
     },
     "metadata": {},
     "output_type": "display_data"
    },
    {
     "data": {
      "text/plain": [
       "0      0.6111\n",
       "1      0.8252\n",
       "2      0.2703\n",
       "3      0.5753\n",
       "4      0.7266\n",
       "        ...  \n",
       "495    0.2293\n",
       "496    0.6381\n",
       "497    0.3359\n",
       "498    0.9315\n",
       "499    0.4524\n",
       "Name: 311, Length: 500, dtype: float64"
      ]
     },
     "metadata": {},
     "output_type": "display_data"
    },
    {
     "data": {
      "text/plain": [
       "0      0.9368\n",
       "1      0.8968\n",
       "2      0.8250\n",
       "3      0.9474\n",
       "4      0.8250\n",
       "        ...  \n",
       "495    0.8446\n",
       "496    0.8460\n",
       "497    0.8261\n",
       "498    0.8251\n",
       "499    0.8805\n",
       "Name: 312, Length: 500, dtype: float64"
      ]
     },
     "metadata": {},
     "output_type": "display_data"
    },
    {
     "data": {
      "text/plain": [
       "0      0.9216\n",
       "1      0.8421\n",
       "2      0.9036\n",
       "3      0.7468\n",
       "4      0.9216\n",
       "        ...  \n",
       "495    0.6809\n",
       "496    0.3317\n",
       "497    0.4397\n",
       "498    0.4527\n",
       "499    0.2330\n",
       "Name: 313, Length: 500, dtype: float64"
      ]
     },
     "metadata": {},
     "output_type": "display_data"
    },
    {
     "data": {
      "text/plain": [
       "0      0.9412\n",
       "1      0.9355\n",
       "2      0.9355\n",
       "3      0.9048\n",
       "4      0.8533\n",
       "        ...  \n",
       "495    0.7948\n",
       "496    0.8339\n",
       "497    0.7979\n",
       "498    0.8053\n",
       "499    0.8022\n",
       "Name: 314, Length: 500, dtype: float64"
      ]
     },
     "metadata": {},
     "output_type": "display_data"
    },
    {
     "data": {
      "text/plain": [
       "0      0.8374\n",
       "1      0.9111\n",
       "2      0.8000\n",
       "3      0.8514\n",
       "4      0.8571\n",
       "        ...  \n",
       "495    0.7799\n",
       "496    0.6940\n",
       "497    0.8053\n",
       "498    0.7428\n",
       "499    0.8519\n",
       "Name: 315, Length: 500, dtype: float64"
      ]
     },
     "metadata": {},
     "output_type": "display_data"
    },
    {
     "data": {
      "text/plain": [
       "0      0.6966\n",
       "1      0.4779\n",
       "2      0.6065\n",
       "3      0.7679\n",
       "4      0.6966\n",
       "        ...  \n",
       "495    0.6749\n",
       "496    0.7012\n",
       "497    0.5641\n",
       "498    0.7090\n",
       "499    0.4767\n",
       "Name: 316, Length: 500, dtype: float64"
      ]
     },
     "metadata": {},
     "output_type": "display_data"
    },
    {
     "data": {
      "text/plain": [
       "0      0.7313\n",
       "1      0.7563\n",
       "2      0.6071\n",
       "3      0.8475\n",
       "4      0.8319\n",
       "        ...  \n",
       "495    0.4454\n",
       "496    0.5407\n",
       "497    0.3943\n",
       "498    0.5153\n",
       "499    0.5627\n",
       "Name: 317, Length: 500, dtype: float64"
      ]
     },
     "metadata": {},
     "output_type": "display_data"
    },
    {
     "data": {
      "text/plain": [
       "0      0.9346\n",
       "1      0.9317\n",
       "2      0.9524\n",
       "3      0.9685\n",
       "4      0.9317\n",
       "        ...  \n",
       "495    0.8349\n",
       "496    0.9620\n",
       "497    0.9542\n",
       "498    0.9489\n",
       "499    0.9454\n",
       "Name: 318, Length: 500, dtype: float64"
      ]
     },
     "metadata": {},
     "output_type": "display_data"
    },
    {
     "data": {
      "text/plain": [
       "0      0.9447\n",
       "1      0.9423\n",
       "2      0.9333\n",
       "3      0.9304\n",
       "4      0.8780\n",
       "        ...  \n",
       "495    0.9405\n",
       "496    0.9478\n",
       "497    0.9317\n",
       "498    0.9463\n",
       "499    0.9456\n",
       "Name: 319, Length: 500, dtype: float64"
      ]
     },
     "metadata": {},
     "output_type": "display_data"
    },
    {
     "data": {
      "text/plain": [
       "0      0.9545\n",
       "1      0.9749\n",
       "2      0.9524\n",
       "3      0.9658\n",
       "4      0.9825\n",
       "        ...  \n",
       "495    0.8859\n",
       "496    0.8180\n",
       "497    0.8113\n",
       "498    0.8233\n",
       "499    0.8465\n",
       "Name: 320, Length: 500, dtype: float64"
      ]
     },
     "metadata": {},
     "output_type": "display_data"
    },
    {
     "data": {
      "text/plain": [
       "0      0.9630\n",
       "1      0.9572\n",
       "2      0.9333\n",
       "3      0.9510\n",
       "4      0.9216\n",
       "        ...  \n",
       "495    0.9326\n",
       "496    0.9273\n",
       "497    0.9257\n",
       "498    0.9040\n",
       "499    0.9389\n",
       "Name: 321, Length: 500, dtype: float64"
      ]
     },
     "metadata": {},
     "output_type": "display_data"
    },
    {
     "data": {
      "text/plain": [
       "0      0.9593\n",
       "1      0.9506\n",
       "2      0.9222\n",
       "3      0.9722\n",
       "4      0.9593\n",
       "        ...  \n",
       "495    0.9206\n",
       "496    0.9217\n",
       "497    0.9338\n",
       "498    0.8821\n",
       "499    0.9106\n",
       "Name: 322, Length: 500, dtype: float64"
      ]
     },
     "metadata": {},
     "output_type": "display_data"
    },
    {
     "data": {
      "text/plain": [
       "0      0.0800\n",
       "1      0.1061\n",
       "2      0.1587\n",
       "3      0.0805\n",
       "4      0.1636\n",
       "        ...  \n",
       "495    0.0493\n",
       "496    0.0944\n",
       "497    0.0682\n",
       "498    0.1343\n",
       "499    0.0674\n",
       "Name: 323, Length: 500, dtype: float64"
      ]
     },
     "metadata": {},
     "output_type": "display_data"
    },
    {
     "data": {
      "text/plain": [
       "0      0.0047\n",
       "1      0.0146\n",
       "2      0.0093\n",
       "3      0.0035\n",
       "4      0.0233\n",
       "        ...  \n",
       "495    0.0890\n",
       "496    0.1228\n",
       "497    0.1030\n",
       "498    0.5067\n",
       "499    0.2240\n",
       "Name: 324, Length: 500, dtype: float64"
      ]
     },
     "metadata": {},
     "output_type": "display_data"
    },
    {
     "data": {
      "text/plain": [
       "0      0.0000\n",
       "1      0.0000\n",
       "2      0.0000\n",
       "3      0.0000\n",
       "4      0.0000\n",
       "        ...  \n",
       "495    0.0354\n",
       "496    0.0261\n",
       "497    0.0404\n",
       "498    0.0237\n",
       "499    0.0452\n",
       "Name: 325, Length: 500, dtype: float64"
      ]
     },
     "metadata": {},
     "output_type": "display_data"
    },
    {
     "data": {
      "text/plain": [
       "0      0.6900\n",
       "1      0.7069\n",
       "2      0.7600\n",
       "3      0.6267\n",
       "4      0.8495\n",
       "        ...  \n",
       "495    0.5784\n",
       "496    0.5376\n",
       "497    0.6243\n",
       "498    0.5652\n",
       "499    0.6408\n",
       "Name: 326, Length: 500, dtype: float64"
      ]
     },
     "metadata": {},
     "output_type": "display_data"
    },
    {
     "data": {
      "text/plain": [
       "0      0.9239\n",
       "1      0.9802\n",
       "2      0.8824\n",
       "3      0.9846\n",
       "4      0.9384\n",
       "        ...  \n",
       "495    0.8614\n",
       "496    0.8320\n",
       "497    0.8293\n",
       "498    0.8935\n",
       "499    0.7554\n",
       "Name: 327, Length: 500, dtype: float64"
      ]
     },
     "metadata": {},
     "output_type": "display_data"
    },
    {
     "data": {
      "text/plain": [
       "0      0.4824\n",
       "1      0.7767\n",
       "2      0.7590\n",
       "3      0.8358\n",
       "4      0.6038\n",
       "        ...  \n",
       "495       NaN\n",
       "496       NaN\n",
       "497       NaN\n",
       "498       NaN\n",
       "499       NaN\n",
       "Name: 328, Length: 500, dtype: float64"
      ]
     },
     "metadata": {},
     "output_type": "display_data"
    },
    {
     "data": {
      "text/plain": [
       "0      0.0000\n",
       "1         NaN\n",
       "2         NaN\n",
       "3         NaN\n",
       "4      0.0000\n",
       "        ...  \n",
       "495    0.0331\n",
       "496    0.0435\n",
       "497    0.0331\n",
       "498    0.0354\n",
       "499    0.0350\n",
       "Name: 329, Length: 500, dtype: float64"
      ]
     },
     "metadata": {},
     "output_type": "display_data"
    },
    {
     "data": {
      "text/plain": [
       "0      0.000\n",
       "1      0.000\n",
       "2      0.000\n",
       "3      0.000\n",
       "4      0.011\n",
       "       ...  \n",
       "495      NaN\n",
       "496      NaN\n",
       "497      NaN\n",
       "498      NaN\n",
       "499      NaN\n",
       "Name: 330, Length: 500, dtype: float64"
      ]
     },
     "metadata": {},
     "output_type": "display_data"
    },
    {
     "data": {
      "text/plain": [
       "0      0.9179\n",
       "1      0.9059\n",
       "2      0.9231\n",
       "3      0.8610\n",
       "4      0.9149\n",
       "        ...  \n",
       "495    0.7749\n",
       "496    0.6856\n",
       "497    0.7271\n",
       "498    0.8024\n",
       "499    0.6802\n",
       "Name: 331, Length: 500, dtype: float64"
      ]
     },
     "metadata": {},
     "output_type": "display_data"
    },
    {
     "data": {
      "text/plain": [
       "0      0.8588\n",
       "1      0.9462\n",
       "2      0.9036\n",
       "3      0.8588\n",
       "4      0.8743\n",
       "        ...  \n",
       "495    0.6858\n",
       "496    0.6799\n",
       "497    0.8004\n",
       "498    0.6952\n",
       "499    0.7399\n",
       "Name: 332, Length: 500, dtype: float64"
      ]
     },
     "metadata": {},
     "output_type": "display_data"
    },
    {
     "data": {
      "text/plain": [
       "0      0.1852\n",
       "1      0.1733\n",
       "2      0.1642\n",
       "3      0.2302\n",
       "4      0.2037\n",
       "        ...  \n",
       "495    0.2039\n",
       "496    0.2355\n",
       "497    0.2003\n",
       "498    0.1722\n",
       "499    0.1894\n",
       "Name: 333, Length: 500, dtype: float64"
      ]
     },
     "metadata": {},
     "output_type": "display_data"
    },
    {
     "data": {
      "text/plain": [
       "0      0.1413\n",
       "1      0.2632\n",
       "2      0.2169\n",
       "3      0.1883\n",
       "4      0.2500\n",
       "        ...  \n",
       "495    0.2097\n",
       "496    0.2883\n",
       "497    0.2572\n",
       "498    0.2583\n",
       "499    0.2152\n",
       "Name: 334, Length: 500, dtype: float64"
      ]
     },
     "metadata": {},
     "output_type": "display_data"
    },
    {
     "data": {
      "text/plain": [
       "0         NaN\n",
       "1      0.9143\n",
       "2         NaN\n",
       "3         NaN\n",
       "4         NaN\n",
       "        ...  \n",
       "495    0.5101\n",
       "496    0.2803\n",
       "497    0.6176\n",
       "498    0.5378\n",
       "499    0.5168\n",
       "Name: 335, Length: 500, dtype: float64"
      ]
     },
     "metadata": {},
     "output_type": "display_data"
    },
    {
     "data": {
      "text/plain": [
       "0      0.0000\n",
       "1      0.0000\n",
       "2      0.0058\n",
       "3      0.0000\n",
       "4      0.0000\n",
       "        ...  \n",
       "495    0.0434\n",
       "496    0.0370\n",
       "497    0.0510\n",
       "498    0.0486\n",
       "499    0.0325\n",
       "Name: 336, Length: 500, dtype: float64"
      ]
     },
     "metadata": {},
     "output_type": "display_data"
    },
    {
     "data": {
      "text/plain": [
       "0      0.8796\n",
       "1      0.9313\n",
       "2      0.9221\n",
       "3      0.8571\n",
       "4      0.9323\n",
       "        ...  \n",
       "495    0.4804\n",
       "496    0.8406\n",
       "497    0.8624\n",
       "498    0.8600\n",
       "499    0.6141\n",
       "Name: 337, Length: 500, dtype: float64"
      ]
     },
     "metadata": {},
     "output_type": "display_data"
    },
    {
     "data": {
      "text/plain": [
       "0      0.8947\n",
       "1      0.9434\n",
       "2      0.8623\n",
       "3      0.9062\n",
       "4      0.9062\n",
       "        ...  \n",
       "495    0.6341\n",
       "496    0.7330\n",
       "497    0.5304\n",
       "498    0.9096\n",
       "499    0.8947\n",
       "Name: 338, Length: 500, dtype: float64"
      ]
     },
     "metadata": {},
     "output_type": "display_data"
    },
    {
     "data": {
      "text/plain": [
       "0      0.7260\n",
       "1      0.6400\n",
       "2      0.7442\n",
       "3      0.6400\n",
       "4      0.7379\n",
       "        ...  \n",
       "495    0.1995\n",
       "496    0.4288\n",
       "497    0.2905\n",
       "498    0.5148\n",
       "499    0.3205\n",
       "Name: 339, Length: 500, dtype: float64"
      ]
     },
     "metadata": {},
     "output_type": "display_data"
    },
    {
     "data": {
      "text/plain": [
       "0      0.8690\n",
       "1      0.8690\n",
       "2      0.8393\n",
       "3      0.8448\n",
       "4      0.8560\n",
       "        ...  \n",
       "495       NaN\n",
       "496       NaN\n",
       "497       NaN\n",
       "498       NaN\n",
       "499       NaN\n",
       "Name: 340, Length: 500, dtype: float64"
      ]
     },
     "metadata": {},
     "output_type": "display_data"
    },
    {
     "data": {
      "text/plain": [
       "0      0.7893\n",
       "1      0.8614\n",
       "2      0.9008\n",
       "3      0.8970\n",
       "4      0.8943\n",
       "        ...  \n",
       "495    0.5557\n",
       "496    0.3603\n",
       "497    0.7326\n",
       "498    0.4938\n",
       "499    0.4115\n",
       "Name: 341, Length: 500, dtype: float64"
      ]
     },
     "metadata": {},
     "output_type": "display_data"
    },
    {
     "data": {
      "text/plain": [
       "0      0.9286\n",
       "1      0.9489\n",
       "2      1.0000\n",
       "3      0.9091\n",
       "4      0.9375\n",
       "        ...  \n",
       "495    0.4475\n",
       "496    0.6866\n",
       "497    0.6671\n",
       "498    0.3593\n",
       "499    0.7296\n",
       "Name: 342, Length: 500, dtype: float64"
      ]
     },
     "metadata": {},
     "output_type": "display_data"
    },
    {
     "data": {
      "text/plain": [
       "0      0.6800\n",
       "1      0.8800\n",
       "2      0.6800\n",
       "3      0.5102\n",
       "4      0.8060\n",
       "        ...  \n",
       "495    0.5308\n",
       "496    0.4589\n",
       "497    0.2923\n",
       "498    0.4365\n",
       "499    0.3807\n",
       "Name: 343, Length: 500, dtype: float64"
      ]
     },
     "metadata": {},
     "output_type": "display_data"
    },
    {
     "data": {
      "text/plain": [
       "0      0.9024\n",
       "1      0.8721\n",
       "2      0.9024\n",
       "3      0.8785\n",
       "4      0.9136\n",
       "        ...  \n",
       "495    0.5941\n",
       "496    0.5198\n",
       "497    0.4917\n",
       "498    0.7124\n",
       "499    0.4368\n",
       "Name: 344, Length: 500, dtype: float64"
      ]
     },
     "metadata": {},
     "output_type": "display_data"
    },
    {
     "data": {
      "text/plain": [
       "0      0.7160\n",
       "1      0.6842\n",
       "2      0.7261\n",
       "3      0.7381\n",
       "4      0.7456\n",
       "        ...  \n",
       "495    0.2999\n",
       "496    0.4811\n",
       "497    0.4582\n",
       "498    0.4456\n",
       "499    0.3885\n",
       "Name: 345, Length: 500, dtype: float64"
      ]
     },
     "metadata": {},
     "output_type": "display_data"
    },
    {
     "data": {
      "text/plain": [
       "0      0.9072\n",
       "1      0.9746\n",
       "2      0.8750\n",
       "3      0.9032\n",
       "4      0.9310\n",
       "        ...  \n",
       "495    0.9267\n",
       "496    0.4253\n",
       "497    0.8237\n",
       "498    0.8043\n",
       "499    0.9014\n",
       "Name: 346, Length: 500, dtype: float64"
      ]
     },
     "metadata": {},
     "output_type": "display_data"
    },
    {
     "data": {
      "text/plain": [
       "0      0.9100\n",
       "1      0.8667\n",
       "2      0.9100\n",
       "3      0.8957\n",
       "4      0.8947\n",
       "        ...  \n",
       "495    0.7534\n",
       "496    0.7048\n",
       "497    0.6073\n",
       "498    0.4638\n",
       "499    0.5562\n",
       "Name: 347, Length: 500, dtype: float64"
      ]
     },
     "metadata": {},
     "output_type": "display_data"
    },
    {
     "data": {
      "text/plain": [
       "0      0.9514\n",
       "1      0.9008\n",
       "2      0.9451\n",
       "3      0.9008\n",
       "4      0.9514\n",
       "        ...  \n",
       "495       NaN\n",
       "496       NaN\n",
       "497       NaN\n",
       "498       NaN\n",
       "499       NaN\n",
       "Name: 348, Length: 500, dtype: float64"
      ]
     },
     "metadata": {},
     "output_type": "display_data"
    },
    {
     "data": {
      "text/plain": [
       "0         NaN\n",
       "1      0.9423\n",
       "2      0.9000\n",
       "3      0.9670\n",
       "4      0.9468\n",
       "        ...  \n",
       "495    0.7137\n",
       "496    0.8456\n",
       "497    0.8640\n",
       "498    0.8354\n",
       "499    0.7601\n",
       "Name: 349, Length: 500, dtype: float64"
      ]
     },
     "metadata": {},
     "output_type": "display_data"
    },
    {
     "data": {
      "text/plain": [
       "0      0.5130\n",
       "1      0.5455\n",
       "2      0.4327\n",
       "3      0.5455\n",
       "4      0.5263\n",
       "        ...  \n",
       "495    0.2853\n",
       "496    0.4345\n",
       "497    0.2583\n",
       "498    0.3356\n",
       "499    0.2794\n",
       "Name: 350, Length: 500, dtype: float64"
      ]
     },
     "metadata": {},
     "output_type": "display_data"
    },
    {
     "data": {
      "text/plain": [
       "0         NaN\n",
       "1      0.7805\n",
       "2      0.8182\n",
       "3         NaN\n",
       "4      0.7551\n",
       "        ...  \n",
       "495    0.4309\n",
       "496    0.4196\n",
       "497    0.5465\n",
       "498    0.4271\n",
       "499    0.6430\n",
       "Name: 351, Length: 500, dtype: float64"
      ]
     },
     "metadata": {},
     "output_type": "display_data"
    },
    {
     "data": {
      "text/plain": [
       "0      0.9302\n",
       "1      0.8763\n",
       "2      0.9570\n",
       "3      0.9231\n",
       "4      0.7593\n",
       "        ...  \n",
       "495       NaN\n",
       "496       NaN\n",
       "497       NaN\n",
       "498       NaN\n",
       "499       NaN\n",
       "Name: 352, Length: 500, dtype: float64"
      ]
     },
     "metadata": {},
     "output_type": "display_data"
    },
    {
     "data": {
      "text/plain": [
       "0      0.5750\n",
       "1         NaN\n",
       "2      0.7174\n",
       "3      0.7571\n",
       "4      0.6500\n",
       "        ...  \n",
       "495    0.4451\n",
       "496    0.1411\n",
       "497    0.1781\n",
       "498    0.3645\n",
       "499    0.4804\n",
       "Name: 353, Length: 500, dtype: float64"
      ]
     },
     "metadata": {},
     "output_type": "display_data"
    },
    {
     "data": {
      "text/plain": [
       "0      0.9095\n",
       "1      0.9439\n",
       "2      0.9775\n",
       "3      0.9552\n",
       "4      0.9095\n",
       "        ...  \n",
       "495    0.4748\n",
       "496    0.5824\n",
       "497    0.7353\n",
       "498    0.7353\n",
       "499    0.7599\n",
       "Name: 354, Length: 500, dtype: float64"
      ]
     },
     "metadata": {},
     "output_type": "display_data"
    },
    {
     "data": {
      "text/plain": [
       "0      0.9804\n",
       "1      0.8867\n",
       "2      0.9422\n",
       "3      0.8785\n",
       "4      0.8835\n",
       "        ...  \n",
       "495    0.6703\n",
       "496    0.8215\n",
       "497    0.4625\n",
       "498    0.5040\n",
       "499    0.7317\n",
       "Name: 355, Length: 500, dtype: float64"
      ]
     },
     "metadata": {},
     "output_type": "display_data"
    },
    {
     "data": {
      "text/plain": [
       "0      0.2553\n",
       "1      0.2553\n",
       "2      0.2308\n",
       "3      0.2083\n",
       "4      0.2471\n",
       "        ...  \n",
       "495    0.4781\n",
       "496    0.6805\n",
       "497    0.5239\n",
       "498    0.4325\n",
       "499    0.5771\n",
       "Name: 356, Length: 500, dtype: float64"
      ]
     },
     "metadata": {},
     "output_type": "display_data"
    },
    {
     "data": {
      "text/plain": [
       "0      0.9344\n",
       "1      0.8689\n",
       "2      0.8333\n",
       "3      0.9222\n",
       "4      0.9388\n",
       "        ...  \n",
       "495    0.4978\n",
       "496    0.4012\n",
       "497    0.6273\n",
       "498    0.6648\n",
       "499    0.4025\n",
       "Name: 357, Length: 500, dtype: float64"
      ]
     },
     "metadata": {},
     "output_type": "display_data"
    },
    {
     "data": {
      "text/plain": [
       "0      0.3567\n",
       "1      0.4545\n",
       "2      0.3585\n",
       "3      0.3364\n",
       "4      0.5403\n",
       "        ...  \n",
       "495    0.3156\n",
       "496    0.4464\n",
       "497    0.2742\n",
       "498    0.0564\n",
       "499    0.3595\n",
       "Name: 358, Length: 500, dtype: float64"
      ]
     },
     "metadata": {},
     "output_type": "display_data"
    },
    {
     "data": {
      "text/plain": [
       "0      0.7609\n",
       "1      0.8206\n",
       "2      0.7807\n",
       "3      0.8503\n",
       "4      0.8052\n",
       "        ...  \n",
       "495    0.5653\n",
       "496    0.5578\n",
       "497    0.8940\n",
       "498    0.8140\n",
       "499    0.8340\n",
       "Name: 359, Length: 500, dtype: float64"
      ]
     },
     "metadata": {},
     "output_type": "display_data"
    },
    {
     "data": {
      "text/plain": [
       "0      0.9005\n",
       "1      0.8537\n",
       "2      0.9091\n",
       "3      0.9027\n",
       "4      0.9222\n",
       "        ...  \n",
       "495    0.5276\n",
       "496    0.5571\n",
       "497    0.4762\n",
       "498    0.6088\n",
       "499    0.4168\n",
       "Name: 360, Length: 500, dtype: float64"
      ]
     },
     "metadata": {},
     "output_type": "display_data"
    },
    {
     "data": {
      "text/plain": [
       "0      0.8820\n",
       "1      0.8821\n",
       "2      0.9005\n",
       "3      0.9326\n",
       "4      0.9291\n",
       "        ...  \n",
       "495    0.4570\n",
       "496    0.4207\n",
       "497    0.8465\n",
       "498    0.4735\n",
       "499    0.4373\n",
       "Name: 361, Length: 500, dtype: float64"
      ]
     },
     "metadata": {},
     "output_type": "display_data"
    },
    {
     "data": {
      "text/plain": [
       "0      0.9153\n",
       "1      0.9134\n",
       "2      0.8391\n",
       "3      0.7578\n",
       "4      0.8662\n",
       "        ...  \n",
       "495    0.6861\n",
       "496    0.6745\n",
       "497    0.8014\n",
       "498    0.6615\n",
       "499    0.6398\n",
       "Name: 362, Length: 500, dtype: float64"
      ]
     },
     "metadata": {},
     "output_type": "display_data"
    },
    {
     "data": {
      "text/plain": [
       "0      0.6714\n",
       "1      0.7222\n",
       "2      0.6714\n",
       "3      0.7289\n",
       "4      0.8393\n",
       "        ...  \n",
       "495    0.3590\n",
       "496    0.3704\n",
       "497    0.4779\n",
       "498    0.3336\n",
       "499    0.4673\n",
       "Name: 363, Length: 500, dtype: float64"
      ]
     },
     "metadata": {},
     "output_type": "display_data"
    },
    {
     "data": {
      "text/plain": [
       "0      0.9064\n",
       "1      0.9277\n",
       "2      0.9444\n",
       "3      0.9094\n",
       "4      0.8802\n",
       "        ...  \n",
       "495    0.5983\n",
       "496    0.6061\n",
       "497    0.6614\n",
       "498    0.8370\n",
       "499    0.6596\n",
       "Name: 364, Length: 500, dtype: float64"
      ]
     },
     "metadata": {},
     "output_type": "display_data"
    },
    {
     "data": {
      "text/plain": [
       "0         NaN\n",
       "1         NaN\n",
       "2      0.9091\n",
       "3      0.9474\n",
       "4         NaN\n",
       "        ...  \n",
       "495    0.4059\n",
       "496    0.3686\n",
       "497    0.5404\n",
       "498    0.6523\n",
       "499    0.5184\n",
       "Name: 365, Length: 500, dtype: float64"
      ]
     },
     "metadata": {},
     "output_type": "display_data"
    },
    {
     "data": {
      "text/plain": [
       "0      0.8433\n",
       "1      0.8313\n",
       "2      0.8143\n",
       "3      0.8313\n",
       "4      0.8421\n",
       "        ...  \n",
       "495    0.3377\n",
       "496    0.4058\n",
       "497    0.6097\n",
       "498    0.5053\n",
       "499    0.4793\n",
       "Name: 366, Length: 500, dtype: float64"
      ]
     },
     "metadata": {},
     "output_type": "display_data"
    },
    {
     "data": {
      "text/plain": [
       "0      0.7934\n",
       "1      0.8719\n",
       "2      0.9461\n",
       "3      0.8715\n",
       "4      0.8418\n",
       "        ...  \n",
       "495    0.5237\n",
       "496    0.2646\n",
       "497    0.5224\n",
       "498    0.7025\n",
       "499    0.6333\n",
       "Name: 367, Length: 500, dtype: float64"
      ]
     },
     "metadata": {},
     "output_type": "display_data"
    },
    {
     "data": {
      "text/plain": [
       "0      0.0408\n",
       "1      0.0545\n",
       "2      0.0361\n",
       "3      0.0408\n",
       "4      0.0581\n",
       "        ...  \n",
       "495    0.1902\n",
       "496    0.1983\n",
       "497    0.2517\n",
       "498    0.5436\n",
       "499    0.3744\n",
       "Name: 368, Length: 500, dtype: float64"
      ]
     },
     "metadata": {},
     "output_type": "display_data"
    },
    {
     "data": {
      "text/plain": [
       "0      0.0053\n",
       "1      0.0093\n",
       "2      0.0000\n",
       "3      0.0070\n",
       "4      0.0000\n",
       "        ...  \n",
       "495    0.0748\n",
       "496    0.0618\n",
       "497    0.0540\n",
       "498    0.0763\n",
       "499    0.0690\n",
       "Name: 369, Length: 500, dtype: float64"
      ]
     },
     "metadata": {},
     "output_type": "display_data"
    },
    {
     "data": {
      "text/plain": [
       "0      0.0000\n",
       "1      0.0051\n",
       "2      0.0000\n",
       "3      0.0000\n",
       "4      0.0000\n",
       "        ...  \n",
       "495    0.0270\n",
       "496    0.0407\n",
       "497    0.0275\n",
       "498    0.0200\n",
       "499    0.0434\n",
       "Name: 370, Length: 500, dtype: float64"
      ]
     },
     "metadata": {},
     "output_type": "display_data"
    },
    {
     "data": {
      "text/plain": [
       "0      0.9691\n",
       "1      0.9442\n",
       "2      0.9531\n",
       "3      0.9267\n",
       "4      0.9708\n",
       "        ...  \n",
       "495    0.6032\n",
       "496    0.7404\n",
       "497    0.8215\n",
       "498    0.6855\n",
       "499    0.7389\n",
       "Name: 371, Length: 500, dtype: float64"
      ]
     },
     "metadata": {},
     "output_type": "display_data"
    },
    {
     "data": {
      "text/plain": [
       "0      0.9301\n",
       "1      0.9551\n",
       "2      0.9364\n",
       "3      0.9455\n",
       "4      0.9358\n",
       "        ...  \n",
       "495    0.6842\n",
       "496    0.7251\n",
       "497    0.5185\n",
       "498    0.6509\n",
       "499    0.7636\n",
       "Name: 372, Length: 500, dtype: float64"
      ]
     },
     "metadata": {},
     "output_type": "display_data"
    },
    {
     "data": {
      "text/plain": [
       "0      0.8943\n",
       "1      0.9032\n",
       "2      0.9118\n",
       "3      0.8828\n",
       "4      0.9316\n",
       "        ...  \n",
       "495    0.8793\n",
       "496    0.5082\n",
       "497    0.7305\n",
       "498    0.5390\n",
       "499    0.7780\n",
       "Name: 373, Length: 500, dtype: float64"
      ]
     },
     "metadata": {},
     "output_type": "display_data"
    },
    {
     "data": {
      "text/plain": [
       "0      0.8819\n",
       "1      0.8711\n",
       "2      0.9091\n",
       "3      0.9081\n",
       "4      0.9306\n",
       "        ...  \n",
       "495    0.5521\n",
       "496    0.6115\n",
       "497    0.4443\n",
       "498    0.8694\n",
       "499    0.6293\n",
       "Name: 374, Length: 500, dtype: float64"
      ]
     },
     "metadata": {},
     "output_type": "display_data"
    },
    {
     "data": {
      "text/plain": [
       "0      0.9014\n",
       "1      0.9122\n",
       "2      0.8240\n",
       "3      0.9340\n",
       "4      0.8387\n",
       "        ...  \n",
       "495    0.6484\n",
       "496    0.4789\n",
       "497    0.4877\n",
       "498    0.7396\n",
       "499    0.6170\n",
       "Name: 375, Length: 500, dtype: float64"
      ]
     },
     "metadata": {},
     "output_type": "display_data"
    },
    {
     "data": {
      "text/plain": [
       "0      0.9404\n",
       "1      0.9381\n",
       "2      0.9198\n",
       "3      0.9156\n",
       "4      0.9747\n",
       "        ...  \n",
       "495    0.8444\n",
       "496    0.7973\n",
       "497    0.8817\n",
       "498    0.6646\n",
       "499    0.5743\n",
       "Name: 376, Length: 500, dtype: float64"
      ]
     },
     "metadata": {},
     "output_type": "display_data"
    },
    {
     "data": {
      "text/plain": [
       "0      0.5850\n",
       "1      0.7083\n",
       "2      0.6471\n",
       "3      0.3974\n",
       "4      0.6197\n",
       "        ...  \n",
       "495    0.5635\n",
       "496    0.4729\n",
       "497    0.5056\n",
       "498    0.4561\n",
       "499    0.5838\n",
       "Name: 377, Length: 500, dtype: float64"
      ]
     },
     "metadata": {},
     "output_type": "display_data"
    },
    {
     "data": {
      "text/plain": [
       "0      0.9100\n",
       "1      0.9706\n",
       "2      0.9873\n",
       "3      0.9333\n",
       "4      0.9741\n",
       "        ...  \n",
       "495    0.6263\n",
       "496    0.7098\n",
       "497    0.6301\n",
       "498    0.5957\n",
       "499    0.7637\n",
       "Name: 378, Length: 500, dtype: float64"
      ]
     },
     "metadata": {},
     "output_type": "display_data"
    },
    {
     "data": {
      "text/plain": [
       "0      0.9615\n",
       "1      0.9211\n",
       "2      0.9091\n",
       "3      0.9176\n",
       "4      0.8971\n",
       "        ...  \n",
       "495    0.7777\n",
       "496    0.4752\n",
       "497    0.5462\n",
       "498    0.6364\n",
       "499    0.8381\n",
       "Name: 379, Length: 500, dtype: float64"
      ]
     },
     "metadata": {},
     "output_type": "display_data"
    },
    {
     "data": {
      "text/plain": [
       "0      0.8364\n",
       "1      0.9036\n",
       "2      0.8627\n",
       "3      0.8981\n",
       "4      0.8811\n",
       "        ...  \n",
       "495    0.4331\n",
       "496    0.4933\n",
       "497    0.8226\n",
       "498    0.5962\n",
       "499    0.6937\n",
       "Name: 380, Length: 500, dtype: float64"
      ]
     },
     "metadata": {},
     "output_type": "display_data"
    },
    {
     "data": {
      "text/plain": [
       "0      0.9248\n",
       "1      0.8455\n",
       "2      0.9176\n",
       "3      0.9388\n",
       "4      0.8455\n",
       "        ...  \n",
       "495    0.4007\n",
       "496    0.5772\n",
       "497    0.4197\n",
       "498    0.4868\n",
       "499    0.3749\n",
       "Name: 381, Length: 500, dtype: float64"
      ]
     },
     "metadata": {},
     "output_type": "display_data"
    },
    {
     "data": {
      "text/plain": [
       "0      0.8667\n",
       "1      0.9082\n",
       "2      0.8842\n",
       "3      0.9552\n",
       "4      0.9023\n",
       "        ...  \n",
       "495    0.9251\n",
       "496    0.4860\n",
       "497    0.4776\n",
       "498    0.6903\n",
       "499    0.7820\n",
       "Name: 382, Length: 500, dtype: float64"
      ]
     },
     "metadata": {},
     "output_type": "display_data"
    },
    {
     "data": {
      "text/plain": [
       "0      0.7766\n",
       "1      0.8696\n",
       "2      0.9162\n",
       "3      0.8772\n",
       "4      0.9020\n",
       "        ...  \n",
       "495    0.6065\n",
       "496    0.7547\n",
       "497    0.6534\n",
       "498    0.8203\n",
       "499    0.5232\n",
       "Name: 383, Length: 500, dtype: float64"
      ]
     },
     "metadata": {},
     "output_type": "display_data"
    },
    {
     "data": {
      "text/plain": [
       "0      0.8603\n",
       "1         NaN\n",
       "2      0.9286\n",
       "3      0.9474\n",
       "4      0.8537\n",
       "        ...  \n",
       "495    0.3881\n",
       "496    0.8411\n",
       "497    0.7906\n",
       "498    0.6042\n",
       "499    0.6672\n",
       "Name: 384, Length: 500, dtype: float64"
      ]
     },
     "metadata": {},
     "output_type": "display_data"
    },
    {
     "data": {
      "text/plain": [
       "0      0.4800\n",
       "1      0.2824\n",
       "2      0.6379\n",
       "3      0.5323\n",
       "4      0.2969\n",
       "        ...  \n",
       "495    0.5250\n",
       "496    0.4688\n",
       "497    0.3024\n",
       "498    0.2650\n",
       "499    0.2832\n",
       "Name: 385, Length: 500, dtype: float64"
      ]
     },
     "metadata": {},
     "output_type": "display_data"
    },
    {
     "data": {
      "text/plain": [
       "0      0.8421\n",
       "1      0.9588\n",
       "2      0.8936\n",
       "3      0.9099\n",
       "4      0.9200\n",
       "        ...  \n",
       "495    0.8026\n",
       "496    0.8177\n",
       "497    0.7577\n",
       "498    0.5033\n",
       "499    0.7544\n",
       "Name: 386, Length: 500, dtype: float64"
      ]
     },
     "metadata": {},
     "output_type": "display_data"
    },
    {
     "data": {
      "text/plain": [
       "0      0.0083\n",
       "1      0.0108\n",
       "2      0.0000\n",
       "3      0.0000\n",
       "4      0.0108\n",
       "        ...  \n",
       "495    0.4358\n",
       "496    0.0744\n",
       "497    0.3167\n",
       "498    0.0231\n",
       "499    0.0341\n",
       "Name: 387, Length: 500, dtype: float64"
      ]
     },
     "metadata": {},
     "output_type": "display_data"
    },
    {
     "data": {
      "text/plain": [
       "0      0.6667\n",
       "1      0.6111\n",
       "2      0.5333\n",
       "3      0.7091\n",
       "4      0.6136\n",
       "        ...  \n",
       "495       NaN\n",
       "496       NaN\n",
       "497       NaN\n",
       "498       NaN\n",
       "499       NaN\n",
       "Name: 388, Length: 500, dtype: float64"
      ]
     },
     "metadata": {},
     "output_type": "display_data"
    },
    {
     "data": {
      "text/plain": [
       "0      0.6919\n",
       "1      0.7564\n",
       "2      0.7564\n",
       "3      0.6919\n",
       "4      0.5574\n",
       "        ...  \n",
       "495    0.6511\n",
       "496    0.4204\n",
       "497    0.5220\n",
       "498    0.7261\n",
       "499    0.7692\n",
       "Name: 389, Length: 500, dtype: float64"
      ]
     },
     "metadata": {},
     "output_type": "display_data"
    },
    {
     "data": {
      "text/plain": [
       "0      0.9236\n",
       "1      0.8469\n",
       "2      0.9000\n",
       "3      0.9677\n",
       "4      0.8727\n",
       "        ...  \n",
       "495    0.6162\n",
       "496    0.5459\n",
       "497    0.6103\n",
       "498    0.8356\n",
       "499    0.4515\n",
       "Name: 390, Length: 500, dtype: float64"
      ]
     },
     "metadata": {},
     "output_type": "display_data"
    },
    {
     "data": {
      "text/plain": [
       "0      0.8571\n",
       "1      0.8512\n",
       "2      0.8306\n",
       "3      0.8306\n",
       "4      0.8046\n",
       "        ...  \n",
       "495    0.5322\n",
       "496    0.5352\n",
       "497    0.4832\n",
       "498    0.5646\n",
       "499    0.3569\n",
       "Name: 391, Length: 500, dtype: float64"
      ]
     },
     "metadata": {},
     "output_type": "display_data"
    },
    {
     "data": {
      "text/plain": [
       "0      0.3095\n",
       "1      0.1342\n",
       "2      0.0462\n",
       "3      0.1173\n",
       "4      0.0699\n",
       "        ...  \n",
       "495    0.4641\n",
       "496    0.4958\n",
       "497    0.4162\n",
       "498    0.4830\n",
       "499    0.6698\n",
       "Name: 392, Length: 500, dtype: float64"
      ]
     },
     "metadata": {},
     "output_type": "display_data"
    },
    {
     "data": {
      "text/plain": [
       "0      0.3364\n",
       "1      0.3576\n",
       "2      0.5680\n",
       "3      0.5723\n",
       "4      0.5680\n",
       "        ...  \n",
       "495    0.3176\n",
       "496    0.2570\n",
       "497    0.5426\n",
       "498    0.4238\n",
       "499    0.3441\n",
       "Name: 393, Length: 500, dtype: float64"
      ]
     },
     "metadata": {},
     "output_type": "display_data"
    },
    {
     "data": {
      "text/plain": [
       "0      0.8942\n",
       "1      0.7368\n",
       "2      0.8976\n",
       "3      0.8939\n",
       "4      0.8810\n",
       "        ...  \n",
       "495    0.7056\n",
       "496    0.7936\n",
       "497    0.8700\n",
       "498    0.6675\n",
       "499    0.6661\n",
       "Name: 394, Length: 500, dtype: float64"
      ]
     },
     "metadata": {},
     "output_type": "display_data"
    },
    {
     "data": {
      "text/plain": [
       "0      0.8876\n",
       "1      0.8876\n",
       "2      0.8763\n",
       "3      0.9124\n",
       "4      0.9124\n",
       "        ...  \n",
       "495    0.7517\n",
       "496    0.8240\n",
       "497    0.4543\n",
       "498    0.5326\n",
       "499    0.9116\n",
       "Name: 395, Length: 500, dtype: float64"
      ]
     },
     "metadata": {},
     "output_type": "display_data"
    },
    {
     "data": {
      "text/plain": [
       "0      0.6296\n",
       "1      0.5646\n",
       "2      0.5895\n",
       "3      0.6258\n",
       "4      0.6159\n",
       "        ...  \n",
       "495    0.4699\n",
       "496    0.5055\n",
       "497    0.6771\n",
       "498    0.4261\n",
       "499    0.4585\n",
       "Name: 396, Length: 500, dtype: float64"
      ]
     },
     "metadata": {},
     "output_type": "display_data"
    },
    {
     "data": {
      "text/plain": [
       "0      0.8833\n",
       "1      0.8426\n",
       "2      0.8308\n",
       "3      0.8148\n",
       "4      0.8100\n",
       "        ...  \n",
       "495    0.7976\n",
       "496    0.6076\n",
       "497    0.8897\n",
       "498    0.7017\n",
       "499    0.6132\n",
       "Name: 397, Length: 500, dtype: float64"
      ]
     },
     "metadata": {},
     "output_type": "display_data"
    },
    {
     "data": {
      "text/plain": [
       "0      0.9464\n",
       "1      0.9641\n",
       "2      0.9291\n",
       "3      0.9000\n",
       "4      0.9263\n",
       "        ...  \n",
       "495    0.7176\n",
       "496    0.8234\n",
       "497    0.5630\n",
       "498    0.7811\n",
       "499    0.6710\n",
       "Name: 398, Length: 500, dtype: float64"
      ]
     },
     "metadata": {},
     "output_type": "display_data"
    },
    {
     "data": {
      "text/plain": [
       "0      0.7755\n",
       "1      0.7558\n",
       "2      0.6630\n",
       "3      0.6562\n",
       "4         NaN\n",
       "        ...  \n",
       "495    0.6318\n",
       "496    0.4903\n",
       "497    0.7601\n",
       "498    0.8471\n",
       "499    0.6931\n",
       "Name: 399, Length: 500, dtype: float64"
      ]
     },
     "metadata": {},
     "output_type": "display_data"
    },
    {
     "data": {
      "text/plain": [
       "0      0.9867\n",
       "1      0.9375\n",
       "2      0.8841\n",
       "3         NaN\n",
       "4      0.9424\n",
       "        ...  \n",
       "495    0.4803\n",
       "496    0.5149\n",
       "497    0.9172\n",
       "498    0.4435\n",
       "499    0.3621\n",
       "Name: 400, Length: 500, dtype: float64"
      ]
     },
     "metadata": {},
     "output_type": "display_data"
    },
    {
     "data": {
      "text/plain": [
       "0      0.8667\n",
       "1      0.8596\n",
       "2      0.8919\n",
       "3      0.7812\n",
       "4      0.9211\n",
       "        ...  \n",
       "495    0.3888\n",
       "496    0.5172\n",
       "497    0.7880\n",
       "498    0.6932\n",
       "499    0.3293\n",
       "Name: 401, Length: 500, dtype: float64"
      ]
     },
     "metadata": {},
     "output_type": "display_data"
    },
    {
     "data": {
      "text/plain": [
       "0      0.9034\n",
       "1      0.9502\n",
       "2      0.8807\n",
       "3      0.9275\n",
       "4      0.8804\n",
       "        ...  \n",
       "495    0.5814\n",
       "496    0.8939\n",
       "497    0.5894\n",
       "498    0.8236\n",
       "499    0.5787\n",
       "Name: 402, Length: 500, dtype: float64"
      ]
     },
     "metadata": {},
     "output_type": "display_data"
    },
    {
     "data": {
      "text/plain": [
       "0      0.8696\n",
       "1      0.8696\n",
       "2      0.9342\n",
       "3      0.9250\n",
       "4      0.9250\n",
       "        ...  \n",
       "495    0.4960\n",
       "496    0.3686\n",
       "497    0.9023\n",
       "498    0.4648\n",
       "499    0.1685\n",
       "Name: 403, Length: 500, dtype: float64"
      ]
     },
     "metadata": {},
     "output_type": "display_data"
    },
    {
     "data": {
      "text/plain": [
       "0      0.8421\n",
       "1      0.8333\n",
       "2      0.8819\n",
       "3      0.8421\n",
       "4      0.9167\n",
       "        ...  \n",
       "495       NaN\n",
       "496       NaN\n",
       "497       NaN\n",
       "498       NaN\n",
       "499       NaN\n",
       "Name: 404, Length: 500, dtype: float64"
      ]
     },
     "metadata": {},
     "output_type": "display_data"
    },
    {
     "data": {
      "text/plain": [
       "0      0.9255\n",
       "1      0.9333\n",
       "2      0.8841\n",
       "3      0.8176\n",
       "4      0.9333\n",
       "        ...  \n",
       "495    0.6349\n",
       "496    0.6864\n",
       "497    0.6032\n",
       "498    0.5168\n",
       "499    0.7504\n",
       "Name: 405, Length: 500, dtype: float64"
      ]
     },
     "metadata": {},
     "output_type": "display_data"
    },
    {
     "data": {
      "text/plain": [
       "0      0.9528\n",
       "1      0.9474\n",
       "2      0.8857\n",
       "3      0.9433\n",
       "4      0.9651\n",
       "        ...  \n",
       "495    0.4459\n",
       "496    0.6458\n",
       "497    0.3807\n",
       "498    0.6015\n",
       "499    0.4759\n",
       "Name: 406, Length: 500, dtype: float64"
      ]
     },
     "metadata": {},
     "output_type": "display_data"
    },
    {
     "data": {
      "text/plain": [
       "0      0.9541\n",
       "1      0.9423\n",
       "2      0.9325\n",
       "3      0.9155\n",
       "4      0.8902\n",
       "        ...  \n",
       "495    0.7384\n",
       "496    0.5662\n",
       "497    0.6757\n",
       "498    0.5662\n",
       "499    0.8249\n",
       "Name: 407, Length: 500, dtype: float64"
      ]
     },
     "metadata": {},
     "output_type": "display_data"
    },
    {
     "data": {
      "text/plain": [
       "0      0.9594\n",
       "1      0.9190\n",
       "2      0.9231\n",
       "3      0.9241\n",
       "4      0.9125\n",
       "        ...  \n",
       "495    0.7347\n",
       "496    0.6956\n",
       "497    0.4636\n",
       "498    0.7123\n",
       "499    0.7134\n",
       "Name: 408, Length: 500, dtype: float64"
      ]
     },
     "metadata": {},
     "output_type": "display_data"
    },
    {
     "data": {
      "text/plain": [
       "0      0.9296\n",
       "1      0.9194\n",
       "2      0.9767\n",
       "3      0.9091\n",
       "4      0.9767\n",
       "        ...  \n",
       "495    0.8135\n",
       "496    0.6837\n",
       "497    0.7240\n",
       "498    0.7309\n",
       "499    0.4480\n",
       "Name: 409, Length: 500, dtype: float64"
      ]
     },
     "metadata": {},
     "output_type": "display_data"
    },
    {
     "data": {
      "text/plain": [
       "0      0.8772\n",
       "1      0.9021\n",
       "2      0.7653\n",
       "3      0.7874\n",
       "4      0.8690\n",
       "        ...  \n",
       "495    0.4905\n",
       "496    0.6144\n",
       "497    0.6101\n",
       "498    0.6066\n",
       "499    0.5406\n",
       "Name: 410, Length: 500, dtype: float64"
      ]
     },
     "metadata": {},
     "output_type": "display_data"
    },
    {
     "data": {
      "text/plain": [
       "0      0.8286\n",
       "1      0.8750\n",
       "2      0.8750\n",
       "3      0.9000\n",
       "4      0.8750\n",
       "        ...  \n",
       "495    0.5986\n",
       "496    0.4791\n",
       "497    0.4538\n",
       "498    0.1683\n",
       "499    0.3873\n",
       "Name: 411, Length: 500, dtype: float64"
      ]
     },
     "metadata": {},
     "output_type": "display_data"
    },
    {
     "data": {
      "text/plain": [
       "0      0.9038\n",
       "1      0.9595\n",
       "2      0.9038\n",
       "3      0.8871\n",
       "4      0.9537\n",
       "        ...  \n",
       "495    0.7810\n",
       "496    0.4352\n",
       "497    0.7425\n",
       "498    0.7147\n",
       "499    0.4955\n",
       "Name: 412, Length: 500, dtype: float64"
      ]
     },
     "metadata": {},
     "output_type": "display_data"
    },
    {
     "data": {
      "text/plain": [
       "0      0.0495\n",
       "1      0.0175\n",
       "2      0.0372\n",
       "3      0.0478\n",
       "4      0.0299\n",
       "        ...  \n",
       "495    0.5584\n",
       "496    0.0998\n",
       "497    0.3910\n",
       "498    0.3170\n",
       "499    0.2986\n",
       "Name: 413, Length: 500, dtype: float64"
      ]
     },
     "metadata": {},
     "output_type": "display_data"
    },
    {
     "data": {
      "text/plain": [
       "0      0.9281\n",
       "1      0.9281\n",
       "2      0.8526\n",
       "3      0.8958\n",
       "4      0.8806\n",
       "        ...  \n",
       "495    0.9035\n",
       "496    0.8726\n",
       "497    0.6086\n",
       "498    0.5426\n",
       "499    0.7644\n",
       "Name: 414, Length: 500, dtype: float64"
      ]
     },
     "metadata": {},
     "output_type": "display_data"
    },
    {
     "data": {
      "text/plain": [
       "0      0.9534\n",
       "1      0.9385\n",
       "2      0.9398\n",
       "3      0.9398\n",
       "4      0.9701\n",
       "        ...  \n",
       "495    0.4206\n",
       "496    0.3071\n",
       "497    0.8468\n",
       "498    0.8667\n",
       "499    0.4505\n",
       "Name: 415, Length: 500, dtype: float64"
      ]
     },
     "metadata": {},
     "output_type": "display_data"
    },
    {
     "data": {
      "text/plain": [
       "0      0.8684\n",
       "1      0.9038\n",
       "2      0.9138\n",
       "3      0.8684\n",
       "4      0.8806\n",
       "        ...  \n",
       "495    0.5533\n",
       "496    0.6106\n",
       "497    0.8357\n",
       "498    0.6338\n",
       "499    0.5586\n",
       "Name: 416, Length: 500, dtype: float64"
      ]
     },
     "metadata": {},
     "output_type": "display_data"
    },
    {
     "data": {
      "text/plain": [
       "0      0.9067\n",
       "1      0.9076\n",
       "2      0.8789\n",
       "3      0.9227\n",
       "4      0.9371\n",
       "        ...  \n",
       "495    0.8120\n",
       "496    0.7785\n",
       "497    0.4957\n",
       "498    0.6814\n",
       "499    0.4719\n",
       "Name: 417, Length: 500, dtype: float64"
      ]
     },
     "metadata": {},
     "output_type": "display_data"
    },
    {
     "data": {
      "text/plain": [
       "0      0.3659\n",
       "1      0.2941\n",
       "2      0.3567\n",
       "3      0.4305\n",
       "4      0.4149\n",
       "        ...  \n",
       "495    0.2529\n",
       "496    0.3130\n",
       "497    0.2070\n",
       "498    0.2027\n",
       "499    0.2699\n",
       "Name: 418, Length: 500, dtype: float64"
      ]
     },
     "metadata": {},
     "output_type": "display_data"
    },
    {
     "data": {
      "text/plain": [
       "0      0.9535\n",
       "1      0.8736\n",
       "2      0.9084\n",
       "3      0.9000\n",
       "4      0.9000\n",
       "        ...  \n",
       "495    0.6595\n",
       "496    0.2716\n",
       "497    0.6823\n",
       "498    0.4039\n",
       "499    0.7351\n",
       "Name: 419, Length: 500, dtype: float64"
      ]
     },
     "metadata": {},
     "output_type": "display_data"
    },
    {
     "data": {
      "text/plain": [
       "0      0.9231\n",
       "1      0.8780\n",
       "2      1.0000\n",
       "3      0.9091\n",
       "4      0.9231\n",
       "        ...  \n",
       "495    0.8252\n",
       "496    0.7603\n",
       "497    0.8443\n",
       "498    0.7237\n",
       "499    0.7957\n",
       "Name: 420, Length: 500, dtype: float64"
      ]
     },
     "metadata": {},
     "output_type": "display_data"
    },
    {
     "data": {
      "text/plain": [
       "0      0.9571\n",
       "1      0.8974\n",
       "2      0.9111\n",
       "3      0.8906\n",
       "4      0.9294\n",
       "        ...  \n",
       "495       NaN\n",
       "496       NaN\n",
       "497       NaN\n",
       "498       NaN\n",
       "499       NaN\n",
       "Name: 421, Length: 500, dtype: float64"
      ]
     },
     "metadata": {},
     "output_type": "display_data"
    },
    {
     "data": {
      "text/plain": [
       "0      0.8794\n",
       "1      0.9429\n",
       "2      0.9130\n",
       "3      0.9130\n",
       "4      0.8935\n",
       "        ...  \n",
       "495    0.7798\n",
       "496    0.8362\n",
       "497    0.6297\n",
       "498    0.7179\n",
       "499    0.4595\n",
       "Name: 422, Length: 500, dtype: float64"
      ]
     },
     "metadata": {},
     "output_type": "display_data"
    },
    {
     "data": {
      "text/plain": [
       "0      0.1314\n",
       "1      0.3333\n",
       "2      0.2054\n",
       "3      0.2536\n",
       "4      0.1402\n",
       "        ...  \n",
       "495    0.0677\n",
       "496    0.1527\n",
       "497    0.0480\n",
       "498    0.1575\n",
       "499    0.4319\n",
       "Name: 423, Length: 500, dtype: float64"
      ]
     },
     "metadata": {},
     "output_type": "display_data"
    },
    {
     "data": {
      "text/plain": [
       "0      0.5789\n",
       "1      0.4937\n",
       "2      0.3474\n",
       "3      0.4444\n",
       "4      0.4962\n",
       "        ...  \n",
       "495    0.5487\n",
       "496    0.5237\n",
       "497    0.4551\n",
       "498    0.3511\n",
       "499    0.3498\n",
       "Name: 424, Length: 500, dtype: float64"
      ]
     },
     "metadata": {},
     "output_type": "display_data"
    },
    {
     "data": {
      "text/plain": [
       "0      0.9167\n",
       "1      0.9588\n",
       "2      0.9100\n",
       "3      0.9057\n",
       "4      0.9804\n",
       "        ...  \n",
       "495    0.8644\n",
       "496    0.8644\n",
       "497    0.8371\n",
       "498    0.7611\n",
       "499    0.9130\n",
       "Name: 425, Length: 500, dtype: float64"
      ]
     },
     "metadata": {},
     "output_type": "display_data"
    },
    {
     "data": {
      "text/plain": [
       "0      0.2842\n",
       "1      0.2517\n",
       "2      0.2842\n",
       "3      0.1271\n",
       "4      0.2429\n",
       "        ...  \n",
       "495    0.2752\n",
       "496    0.5220\n",
       "497    0.4188\n",
       "498    0.2626\n",
       "499    0.2377\n",
       "Name: 426, Length: 500, dtype: float64"
      ]
     },
     "metadata": {},
     "output_type": "display_data"
    },
    {
     "data": {
      "text/plain": [
       "0      0.5167\n",
       "1      0.4474\n",
       "2      0.2966\n",
       "3      0.6100\n",
       "4      0.3442\n",
       "        ...  \n",
       "495    0.5501\n",
       "496    0.7528\n",
       "497    0.6286\n",
       "498    0.6107\n",
       "499    0.5211\n",
       "Name: 427, Length: 500, dtype: float64"
      ]
     },
     "metadata": {},
     "output_type": "display_data"
    },
    {
     "data": {
      "text/plain": [
       "0      0.9225\n",
       "1      0.8690\n",
       "2      0.9661\n",
       "3      0.9661\n",
       "4      0.9520\n",
       "        ...  \n",
       "495    0.9338\n",
       "496    0.9194\n",
       "497    0.9028\n",
       "498    0.9105\n",
       "499    0.6899\n",
       "Name: 428, Length: 500, dtype: float64"
      ]
     },
     "metadata": {},
     "output_type": "display_data"
    },
    {
     "data": {
      "text/plain": [
       "0      0.9011\n",
       "1      0.8670\n",
       "2      0.9011\n",
       "3      0.9556\n",
       "4      0.9011\n",
       "        ...  \n",
       "495    0.5301\n",
       "496    0.7636\n",
       "497    0.4279\n",
       "498    0.4372\n",
       "499    0.4487\n",
       "Name: 429, Length: 500, dtype: float64"
      ]
     },
     "metadata": {},
     "output_type": "display_data"
    },
    {
     "data": {
      "text/plain": [
       "0      0.9444\n",
       "1      0.8958\n",
       "2      0.9286\n",
       "3      0.9138\n",
       "4      0.9182\n",
       "        ...  \n",
       "495    0.9448\n",
       "496    0.6948\n",
       "497    0.9772\n",
       "498    0.8455\n",
       "499    0.9766\n",
       "Name: 430, Length: 500, dtype: float64"
      ]
     },
     "metadata": {},
     "output_type": "display_data"
    },
    {
     "data": {
      "text/plain": [
       "0      0.9175\n",
       "1      0.8636\n",
       "2      0.8252\n",
       "3      0.8400\n",
       "4      0.8625\n",
       "        ...  \n",
       "495    0.4771\n",
       "496    0.5251\n",
       "497    0.7908\n",
       "498    0.3870\n",
       "499    0.5372\n",
       "Name: 431, Length: 500, dtype: float64"
      ]
     },
     "metadata": {},
     "output_type": "display_data"
    },
    {
     "data": {
      "text/plain": [
       "0      0.9000\n",
       "1      0.9000\n",
       "2         NaN\n",
       "3         NaN\n",
       "4         NaN\n",
       "        ...  \n",
       "495    0.7610\n",
       "496    0.9128\n",
       "497    0.3004\n",
       "498    0.8807\n",
       "499    0.4880\n",
       "Name: 432, Length: 500, dtype: float64"
      ]
     },
     "metadata": {},
     "output_type": "display_data"
    },
    {
     "data": {
      "text/plain": [
       "0      0.9016\n",
       "1      0.8367\n",
       "2      0.8438\n",
       "3      0.8148\n",
       "4      0.8696\n",
       "        ...  \n",
       "495    0.4896\n",
       "496    0.5407\n",
       "497    0.5001\n",
       "498    0.5336\n",
       "499    0.4979\n",
       "Name: 433, Length: 500, dtype: float64"
      ]
     },
     "metadata": {},
     "output_type": "display_data"
    },
    {
     "data": {
      "text/plain": [
       "0      0.9294\n",
       "1      0.9294\n",
       "2      0.9294\n",
       "3      0.9133\n",
       "4      0.9133\n",
       "        ...  \n",
       "495    0.9125\n",
       "496    0.6854\n",
       "497    0.7020\n",
       "498    0.6389\n",
       "499    0.7096\n",
       "Name: 434, Length: 500, dtype: float64"
      ]
     },
     "metadata": {},
     "output_type": "display_data"
    },
    {
     "data": {
      "text/plain": [
       "0      0.0000\n",
       "1      0.0104\n",
       "2      0.0039\n",
       "3      0.0000\n",
       "4      0.0081\n",
       "        ...  \n",
       "495    0.1345\n",
       "496    0.0961\n",
       "497    0.1390\n",
       "498    0.0747\n",
       "499    0.1194\n",
       "Name: 435, Length: 500, dtype: float64"
      ]
     },
     "metadata": {},
     "output_type": "display_data"
    },
    {
     "data": {
      "text/plain": [
       "0      0.8611\n",
       "1      0.9597\n",
       "2      0.8977\n",
       "3      0.8842\n",
       "4      0.8611\n",
       "        ...  \n",
       "495    0.8400\n",
       "496    0.8729\n",
       "497    0.7064\n",
       "498    0.3605\n",
       "499    0.4147\n",
       "Name: 436, Length: 500, dtype: float64"
      ]
     },
     "metadata": {},
     "output_type": "display_data"
    },
    {
     "data": {
      "text/plain": [
       "0      0.9583\n",
       "1      0.8032\n",
       "2      0.8652\n",
       "3      0.8032\n",
       "4      0.7981\n",
       "        ...  \n",
       "495    0.6930\n",
       "496    0.6002\n",
       "497    0.4710\n",
       "498    0.4938\n",
       "499    0.4382\n",
       "Name: 437, Length: 500, dtype: float64"
      ]
     },
     "metadata": {},
     "output_type": "display_data"
    },
    {
     "data": {
      "text/plain": [
       "0      0.8526\n",
       "1      0.8173\n",
       "2      0.9196\n",
       "3      0.8829\n",
       "4      0.9070\n",
       "        ...  \n",
       "495    0.5790\n",
       "496    0.7875\n",
       "497    0.7253\n",
       "498    0.6122\n",
       "499    0.8395\n",
       "Name: 438, Length: 500, dtype: float64"
      ]
     },
     "metadata": {},
     "output_type": "display_data"
    },
    {
     "data": {
      "text/plain": [
       "0      0.9022\n",
       "1      0.9308\n",
       "2      0.9452\n",
       "3      0.9022\n",
       "4      0.9308\n",
       "        ...  \n",
       "495    0.4298\n",
       "496    0.3292\n",
       "497    0.4360\n",
       "498    0.6069\n",
       "499    0.6184\n",
       "Name: 439, Length: 500, dtype: float64"
      ]
     },
     "metadata": {},
     "output_type": "display_data"
    },
    {
     "data": {
      "text/plain": [
       "0      0.9126\n",
       "1      0.9699\n",
       "2      0.9082\n",
       "3      0.9224\n",
       "4      0.8681\n",
       "        ...  \n",
       "495    0.8625\n",
       "496    0.9209\n",
       "497    0.8654\n",
       "498    0.7159\n",
       "499    0.9263\n",
       "Name: 440, Length: 500, dtype: float64"
      ]
     },
     "metadata": {},
     "output_type": "display_data"
    },
    {
     "data": {
      "text/plain": [
       "0      0.8272\n",
       "1      0.8971\n",
       "2      0.8971\n",
       "3      0.8199\n",
       "4      0.8636\n",
       "        ...  \n",
       "495    0.5230\n",
       "496    0.4100\n",
       "497    0.4415\n",
       "498    0.7725\n",
       "499    0.7730\n",
       "Name: 441, Length: 500, dtype: float64"
      ]
     },
     "metadata": {},
     "output_type": "display_data"
    },
    {
     "data": {
      "text/plain": [
       "0      0.1067\n",
       "1      0.2784\n",
       "2      0.2941\n",
       "3      0.0638\n",
       "4      0.2708\n",
       "        ...  \n",
       "495    0.4893\n",
       "496    0.4648\n",
       "497    0.2769\n",
       "498    0.4031\n",
       "499    0.2842\n",
       "Name: 442, Length: 500, dtype: float64"
      ]
     },
     "metadata": {},
     "output_type": "display_data"
    },
    {
     "data": {
      "text/plain": [
       "0      0.9794\n",
       "1      0.9375\n",
       "2      0.9408\n",
       "3      0.9818\n",
       "4      0.9318\n",
       "        ...  \n",
       "495    0.6924\n",
       "496    0.7157\n",
       "497    0.9596\n",
       "498    0.9137\n",
       "499    0.9464\n",
       "Name: 443, Length: 500, dtype: float64"
      ]
     },
     "metadata": {},
     "output_type": "display_data"
    },
    {
     "data": {
      "text/plain": [
       "0      0.9565\n",
       "1      0.9683\n",
       "2      0.9567\n",
       "3      0.9286\n",
       "4      0.9520\n",
       "        ...  \n",
       "495       NaN\n",
       "496       NaN\n",
       "497       NaN\n",
       "498       NaN\n",
       "499       NaN\n",
       "Name: 444, Length: 500, dtype: float64"
      ]
     },
     "metadata": {},
     "output_type": "display_data"
    },
    {
     "data": {
      "text/plain": [
       "0      0.8916\n",
       "1      0.8916\n",
       "2      0.9068\n",
       "3      0.8657\n",
       "4      0.9016\n",
       "        ...  \n",
       "495    0.7154\n",
       "496    0.7270\n",
       "497    0.4458\n",
       "498    0.8682\n",
       "499    0.4936\n",
       "Name: 445, Length: 500, dtype: float64"
      ]
     },
     "metadata": {},
     "output_type": "display_data"
    },
    {
     "data": {
      "text/plain": [
       "0      0.8769\n",
       "1      0.8769\n",
       "2      0.8471\n",
       "3      0.8333\n",
       "4      0.9151\n",
       "        ...  \n",
       "495    0.3433\n",
       "496    0.2272\n",
       "497    0.6606\n",
       "498    0.5001\n",
       "499    0.4791\n",
       "Name: 446, Length: 500, dtype: float64"
      ]
     },
     "metadata": {},
     "output_type": "display_data"
    },
    {
     "data": {
      "text/plain": [
       "0      0.8804\n",
       "1      0.8804\n",
       "2      0.9365\n",
       "3      0.9365\n",
       "4         NaN\n",
       "        ...  \n",
       "495    0.7823\n",
       "496    0.7410\n",
       "497    0.7258\n",
       "498    0.8180\n",
       "499    0.7694\n",
       "Name: 447, Length: 500, dtype: float64"
      ]
     },
     "metadata": {},
     "output_type": "display_data"
    },
    {
     "data": {
      "text/plain": [
       "0      0.9848\n",
       "1      0.9057\n",
       "2      0.9583\n",
       "3      0.9855\n",
       "4      0.9255\n",
       "        ...  \n",
       "495    0.8111\n",
       "496    0.7477\n",
       "497    0.4029\n",
       "498    0.3735\n",
       "499    0.5581\n",
       "Name: 448, Length: 500, dtype: float64"
      ]
     },
     "metadata": {},
     "output_type": "display_data"
    },
    {
     "data": {
      "text/plain": [
       "0      0.0214\n",
       "1      0.0265\n",
       "2      0.0221\n",
       "3      0.0076\n",
       "4      0.0221\n",
       "        ...  \n",
       "495    0.0356\n",
       "496    0.0602\n",
       "497    0.0648\n",
       "498    0.0551\n",
       "499    0.0365\n",
       "Name: 449, Length: 500, dtype: float64"
      ]
     },
     "metadata": {},
     "output_type": "display_data"
    },
    {
     "data": {
      "text/plain": [
       "0      0.8644\n",
       "1      0.8795\n",
       "2      0.8795\n",
       "3      0.8828\n",
       "4      0.9294\n",
       "        ...  \n",
       "495    0.9020\n",
       "496    0.9079\n",
       "497    0.8654\n",
       "498    0.9393\n",
       "499    0.8476\n",
       "Name: 450, Length: 500, dtype: float64"
      ]
     },
     "metadata": {},
     "output_type": "display_data"
    },
    {
     "data": {
      "text/plain": [
       "0      0.8750\n",
       "1      0.8482\n",
       "2      0.8515\n",
       "3      0.9053\n",
       "4      0.8119\n",
       "        ...  \n",
       "495    0.6811\n",
       "496    0.6410\n",
       "497    0.6132\n",
       "498    0.6476\n",
       "499    0.7230\n",
       "Name: 451, Length: 500, dtype: float64"
      ]
     },
     "metadata": {},
     "output_type": "display_data"
    },
    {
     "data": {
      "text/plain": [
       "0      0.8485\n",
       "1      0.7653\n",
       "2      0.7653\n",
       "3      0.8194\n",
       "4      0.8438\n",
       "        ...  \n",
       "495    0.8362\n",
       "496    0.8097\n",
       "497    0.8279\n",
       "498    0.7155\n",
       "499    0.7825\n",
       "Name: 452, Length: 500, dtype: float64"
      ]
     },
     "metadata": {},
     "output_type": "display_data"
    },
    {
     "data": {
      "text/plain": [
       "0      0.8406\n",
       "1      0.8000\n",
       "2      0.8776\n",
       "3      0.8582\n",
       "4      0.8214\n",
       "        ...  \n",
       "495    0.7723\n",
       "496    0.7988\n",
       "497    0.8477\n",
       "498    0.8615\n",
       "499    0.8829\n",
       "Name: 453, Length: 500, dtype: float64"
      ]
     },
     "metadata": {},
     "output_type": "display_data"
    },
    {
     "data": {
      "text/plain": [
       "0      0.7517\n",
       "1      0.7790\n",
       "2      0.7237\n",
       "3      0.7263\n",
       "4      0.6986\n",
       "        ...  \n",
       "495    0.8180\n",
       "496    0.9491\n",
       "497    0.8673\n",
       "498    0.8849\n",
       "499    0.8613\n",
       "Name: 454, Length: 500, dtype: float64"
      ]
     },
     "metadata": {},
     "output_type": "display_data"
    },
    {
     "data": {
      "text/plain": [
       "0      0.8800\n",
       "1      0.9608\n",
       "2      0.8974\n",
       "3         NaN\n",
       "4      0.9273\n",
       "        ...  \n",
       "495    0.9473\n",
       "496    0.8144\n",
       "497    0.9348\n",
       "498    0.9526\n",
       "499    0.9106\n",
       "Name: 455, Length: 500, dtype: float64"
      ]
     },
     "metadata": {},
     "output_type": "display_data"
    },
    {
     "data": {
      "text/plain": [
       "0      0.9222\n",
       "1      0.9333\n",
       "2      0.9780\n",
       "3      0.9139\n",
       "4      0.9574\n",
       "        ...  \n",
       "495    0.8304\n",
       "496    0.8548\n",
       "497    0.9009\n",
       "498    0.8123\n",
       "499    0.4921\n",
       "Name: 456, Length: 500, dtype: float64"
      ]
     },
     "metadata": {},
     "output_type": "display_data"
    },
    {
     "data": {
      "text/plain": [
       "0      0.8750\n",
       "1         NaN\n",
       "2      0.9545\n",
       "3      0.8710\n",
       "4      0.8710\n",
       "        ...  \n",
       "495    0.7578\n",
       "496    0.8589\n",
       "497    0.7802\n",
       "498    0.8473\n",
       "499    0.7381\n",
       "Name: 457, Length: 500, dtype: float64"
      ]
     },
     "metadata": {},
     "output_type": "display_data"
    },
    {
     "data": {
      "text/plain": [
       "0      0.9081\n",
       "1      0.9219\n",
       "2      0.9355\n",
       "3      0.9589\n",
       "4      0.8814\n",
       "        ...  \n",
       "495    0.7976\n",
       "496    0.7972\n",
       "497    0.8009\n",
       "498    0.8586\n",
       "499    0.8167\n",
       "Name: 458, Length: 500, dtype: float64"
      ]
     },
     "metadata": {},
     "output_type": "display_data"
    },
    {
     "data": {
      "text/plain": [
       "0      0.9554\n",
       "1      0.8676\n",
       "2         NaN\n",
       "3      0.9722\n",
       "4      0.9394\n",
       "        ...  \n",
       "495    0.8398\n",
       "496    0.8378\n",
       "497    0.8335\n",
       "498    0.8566\n",
       "499    0.8166\n",
       "Name: 459, Length: 500, dtype: float64"
      ]
     },
     "metadata": {},
     "output_type": "display_data"
    },
    {
     "data": {
      "text/plain": [
       "0      0.9409\n",
       "1      0.9683\n",
       "2      0.8908\n",
       "3      0.9383\n",
       "4      0.9683\n",
       "        ...  \n",
       "495    0.7392\n",
       "496    0.8489\n",
       "497    0.6395\n",
       "498    0.6587\n",
       "499    0.7932\n",
       "Name: 460, Length: 500, dtype: float64"
      ]
     },
     "metadata": {},
     "output_type": "display_data"
    },
    {
     "data": {
      "text/plain": [
       "0      0.9023\n",
       "1      0.9706\n",
       "2      0.9299\n",
       "3      0.9541\n",
       "4      0.9023\n",
       "        ...  \n",
       "495    0.7488\n",
       "496    0.7479\n",
       "497    0.7202\n",
       "498    0.6910\n",
       "499    0.7784\n",
       "Name: 461, Length: 500, dtype: float64"
      ]
     },
     "metadata": {},
     "output_type": "display_data"
    },
    {
     "data": {
      "text/plain": [
       "0      0.0000\n",
       "1      0.0000\n",
       "2      0.0000\n",
       "3      0.0000\n",
       "4      0.0000\n",
       "        ...  \n",
       "495    0.0218\n",
       "496    0.0216\n",
       "497    0.0278\n",
       "498    0.0222\n",
       "499    0.0172\n",
       "Name: 462, Length: 500, dtype: float64"
      ]
     },
     "metadata": {},
     "output_type": "display_data"
    },
    {
     "data": {
      "text/plain": [
       "0      0.9295\n",
       "1      0.8566\n",
       "2      0.9289\n",
       "3      0.9408\n",
       "4      0.9067\n",
       "        ...  \n",
       "495    0.5590\n",
       "496    0.1991\n",
       "497    0.8210\n",
       "498    0.8322\n",
       "499    0.8219\n",
       "Name: 463, Length: 500, dtype: float64"
      ]
     },
     "metadata": {},
     "output_type": "display_data"
    },
    {
     "data": {
      "text/plain": [
       "0      0.8723\n",
       "1      0.8065\n",
       "2      0.8842\n",
       "3      0.8375\n",
       "4      0.8723\n",
       "        ...  \n",
       "495    0.4761\n",
       "496    0.6236\n",
       "497    0.6725\n",
       "498    0.6054\n",
       "499    0.5040\n",
       "Name: 464, Length: 500, dtype: float64"
      ]
     },
     "metadata": {},
     "output_type": "display_data"
    },
    {
     "data": {
      "text/plain": [
       "0      0.9136\n",
       "1      0.9348\n",
       "2      0.9091\n",
       "3      0.8438\n",
       "4      0.9425\n",
       "        ...  \n",
       "495       NaN\n",
       "496       NaN\n",
       "497       NaN\n",
       "498       NaN\n",
       "499       NaN\n",
       "Name: 465, Length: 500, dtype: float64"
      ]
     },
     "metadata": {},
     "output_type": "display_data"
    },
    {
     "data": {
      "text/plain": [
       "0      0.8514\n",
       "1      0.9355\n",
       "2      0.8725\n",
       "3      0.8880\n",
       "4      0.9355\n",
       "        ...  \n",
       "495    0.6997\n",
       "496    0.7304\n",
       "497    0.7573\n",
       "498    0.6014\n",
       "499    0.6304\n",
       "Name: 466, Length: 500, dtype: float64"
      ]
     },
     "metadata": {},
     "output_type": "display_data"
    },
    {
     "data": {
      "text/plain": [
       "0      0.0000\n",
       "1      0.0171\n",
       "2      0.0000\n",
       "3      0.0000\n",
       "4      0.0000\n",
       "        ...  \n",
       "495    0.0340\n",
       "496    0.0351\n",
       "497    0.0223\n",
       "498    0.0452\n",
       "499    0.0621\n",
       "Name: 467, Length: 500, dtype: float64"
      ]
     },
     "metadata": {},
     "output_type": "display_data"
    },
    {
     "data": {
      "text/plain": [
       "0      0.0061\n",
       "1      0.0000\n",
       "2      0.0000\n",
       "3      0.0213\n",
       "4      0.0000\n",
       "        ...  \n",
       "495    0.0665\n",
       "496    0.0798\n",
       "497    0.0633\n",
       "498    0.0594\n",
       "499    0.1057\n",
       "Name: 468, Length: 500, dtype: float64"
      ]
     },
     "metadata": {},
     "output_type": "display_data"
    },
    {
     "data": {
      "text/plain": [
       "0      0.0000\n",
       "1      0.0073\n",
       "2      0.0000\n",
       "3      0.0000\n",
       "4      0.0000\n",
       "        ...  \n",
       "495    0.0276\n",
       "496    0.0224\n",
       "497    0.0243\n",
       "498    0.0348\n",
       "499    0.0260\n",
       "Name: 469, Length: 500, dtype: float64"
      ]
     },
     "metadata": {},
     "output_type": "display_data"
    },
    {
     "data": {
      "text/plain": [
       "0      0.9178\n",
       "1      0.9304\n",
       "2      0.9167\n",
       "3      0.9592\n",
       "4      0.9391\n",
       "        ...  \n",
       "495    0.9084\n",
       "496    0.9189\n",
       "497    0.9190\n",
       "498    0.7477\n",
       "499    0.9222\n",
       "Name: 470, Length: 500, dtype: float64"
      ]
     },
     "metadata": {},
     "output_type": "display_data"
    },
    {
     "data": {
      "text/plain": [
       "0      0.9739\n",
       "1      0.9368\n",
       "2      0.9368\n",
       "3      0.9783\n",
       "4      0.9775\n",
       "        ...  \n",
       "495    0.8391\n",
       "496    0.8784\n",
       "497    0.8729\n",
       "498    0.9241\n",
       "499    0.9088\n",
       "Name: 471, Length: 500, dtype: float64"
      ]
     },
     "metadata": {},
     "output_type": "display_data"
    },
    {
     "data": {
      "text/plain": [
       "0      0.9633\n",
       "1      0.9556\n",
       "2      0.9756\n",
       "3      0.9669\n",
       "4      0.9462\n",
       "        ...  \n",
       "495    0.8966\n",
       "496    0.8891\n",
       "497    0.8858\n",
       "498    0.8845\n",
       "499    0.8884\n",
       "Name: 472, Length: 500, dtype: float64"
      ]
     },
     "metadata": {},
     "output_type": "display_data"
    },
    {
     "data": {
      "text/plain": [
       "0      0.8438\n",
       "1      0.9643\n",
       "2      0.9828\n",
       "3      0.9466\n",
       "4      0.9466\n",
       "        ...  \n",
       "495    0.9233\n",
       "496    0.9200\n",
       "497    0.9140\n",
       "498    0.9021\n",
       "499    0.9076\n",
       "Name: 473, Length: 500, dtype: float64"
      ]
     },
     "metadata": {},
     "output_type": "display_data"
    },
    {
     "data": {
      "text/plain": [
       "0      0.9403\n",
       "1      0.9416\n",
       "2      0.8734\n",
       "3      0.8710\n",
       "4      0.8734\n",
       "        ...  \n",
       "495    0.6331\n",
       "496    0.7439\n",
       "497    0.7620\n",
       "498    0.6351\n",
       "499    0.5702\n",
       "Name: 474, Length: 500, dtype: float64"
      ]
     },
     "metadata": {},
     "output_type": "display_data"
    },
    {
     "data": {
      "text/plain": [
       "0      0.9211\n",
       "1      0.9559\n",
       "2      0.9434\n",
       "3      0.9655\n",
       "4      0.9825\n",
       "        ...  \n",
       "495       NaN\n",
       "496       NaN\n",
       "497       NaN\n",
       "498       NaN\n",
       "499       NaN\n",
       "Name: 475, Length: 500, dtype: float64"
      ]
     },
     "metadata": {},
     "output_type": "display_data"
    },
    {
     "data": {
      "text/plain": [
       "0      0.9819\n",
       "1      0.9718\n",
       "2      0.9461\n",
       "3      0.9518\n",
       "4      0.9588\n",
       "        ...  \n",
       "495    0.9553\n",
       "496    0.9520\n",
       "497    0.9197\n",
       "498    0.9517\n",
       "499    0.9336\n",
       "Name: 476, Length: 500, dtype: float64"
      ]
     },
     "metadata": {},
     "output_type": "display_data"
    },
    {
     "data": {
      "text/plain": [
       "0      0.9756\n",
       "1      0.9692\n",
       "2      0.9529\n",
       "3      0.9756\n",
       "4      0.9114\n",
       "        ...  \n",
       "495       NaN\n",
       "496       NaN\n",
       "497       NaN\n",
       "498       NaN\n",
       "499       NaN\n",
       "Name: 477, Length: 500, dtype: float64"
      ]
     },
     "metadata": {},
     "output_type": "display_data"
    },
    {
     "data": {
      "text/plain": [
       "0      0.9810\n",
       "1      0.9381\n",
       "2         NaN\n",
       "3      0.9623\n",
       "4      0.9688\n",
       "        ...  \n",
       "495    0.9396\n",
       "496    0.9180\n",
       "497    0.9417\n",
       "498    0.9387\n",
       "499    0.9329\n",
       "Name: 478, Length: 500, dtype: float64"
      ]
     },
     "metadata": {},
     "output_type": "display_data"
    },
    {
     "data": {
      "text/plain": [
       "0      0.9889\n",
       "1      0.9474\n",
       "2      0.9405\n",
       "3      0.9889\n",
       "4      0.9348\n",
       "        ...  \n",
       "495    0.8682\n",
       "496    0.8267\n",
       "497    0.8933\n",
       "498    0.9430\n",
       "499    0.9372\n",
       "Name: 479, Length: 500, dtype: float64"
      ]
     },
     "metadata": {},
     "output_type": "display_data"
    },
    {
     "data": {
      "text/plain": [
       "0      0.9691\n",
       "1      0.9196\n",
       "2      0.9600\n",
       "3      0.9600\n",
       "4      0.9787\n",
       "        ...  \n",
       "495    0.9009\n",
       "496    0.9419\n",
       "497    0.9207\n",
       "498    0.9181\n",
       "499    0.8945\n",
       "Name: 480, Length: 500, dtype: float64"
      ]
     },
     "metadata": {},
     "output_type": "display_data"
    },
    {
     "data": {
      "text/plain": [
       "0      0.8936\n",
       "1      0.8152\n",
       "2      0.9032\n",
       "3      0.8000\n",
       "4      0.8824\n",
       "        ...  \n",
       "495    0.9624\n",
       "496    0.8258\n",
       "497    0.9452\n",
       "498    0.9366\n",
       "499    0.9415\n",
       "Name: 481, Length: 500, dtype: float64"
      ]
     },
     "metadata": {},
     "output_type": "display_data"
    },
    {
     "data": {
      "text/plain": [
       "0      0.0645\n",
       "1      0.0573\n",
       "2      0.0737\n",
       "3      0.0290\n",
       "4      0.0842\n",
       "        ...  \n",
       "495    0.2943\n",
       "496    0.4127\n",
       "497    0.3139\n",
       "498    0.3494\n",
       "499    0.3021\n",
       "Name: 482, Length: 500, dtype: float64"
      ]
     },
     "metadata": {},
     "output_type": "display_data"
    },
    {
     "data": {
      "text/plain": [
       "0      0.0038\n",
       "1      0.0152\n",
       "2      0.0000\n",
       "3      0.0000\n",
       "4      0.0278\n",
       "        ...  \n",
       "495    0.0263\n",
       "496    0.0242\n",
       "497    0.0250\n",
       "498    0.0238\n",
       "499    0.0196\n",
       "Name: 483, Length: 500, dtype: float64"
      ]
     },
     "metadata": {},
     "output_type": "display_data"
    },
    {
     "data": {
      "text/plain": [
       "0         NaN\n",
       "1      0.4359\n",
       "2      0.3557\n",
       "3      0.3059\n",
       "4      0.4000\n",
       "        ...  \n",
       "495    0.6902\n",
       "496    0.3347\n",
       "497    0.4193\n",
       "498    0.7758\n",
       "499    0.6096\n",
       "Name: 484, Length: 500, dtype: float64"
      ]
     },
     "metadata": {},
     "output_type": "display_data"
    },
    {
     "data": {
      "text/plain": [
       "0      0.7193\n",
       "1      0.5630\n",
       "2      0.6832\n",
       "3      0.6555\n",
       "4      0.6022\n",
       "        ...  \n",
       "495    0.6999\n",
       "496    0.5584\n",
       "497    0.6124\n",
       "498    0.5075\n",
       "499    0.7284\n",
       "Name: 485, Length: 500, dtype: float64"
      ]
     },
     "metadata": {},
     "output_type": "display_data"
    },
    {
     "data": {
      "text/plain": [
       "0      0.8091\n",
       "1      0.7901\n",
       "2      0.7708\n",
       "3      0.7835\n",
       "4      0.7826\n",
       "        ...  \n",
       "495    0.6071\n",
       "496    0.7222\n",
       "497    0.6103\n",
       "498    0.2967\n",
       "499    0.6187\n",
       "Name: 486, Length: 500, dtype: float64"
      ]
     },
     "metadata": {},
     "output_type": "display_data"
    },
    {
     "data": {
      "text/plain": [
       "0      0.8957\n",
       "1      0.9404\n",
       "2      0.9795\n",
       "3      0.9286\n",
       "4      0.9169\n",
       "        ...  \n",
       "495    0.6387\n",
       "496    0.3627\n",
       "497    0.5130\n",
       "498    0.4403\n",
       "499    0.3733\n",
       "Name: 487, Length: 500, dtype: float64"
      ]
     },
     "metadata": {},
     "output_type": "display_data"
    },
    {
     "data": {
      "text/plain": [
       "0      0.9272\n",
       "1      0.9545\n",
       "2      0.9259\n",
       "3      0.9272\n",
       "4      0.9792\n",
       "        ...  \n",
       "495    0.9470\n",
       "496    0.9779\n",
       "497    0.9790\n",
       "498    0.9708\n",
       "499    0.9749\n",
       "Name: 488, Length: 500, dtype: float64"
      ]
     },
     "metadata": {},
     "output_type": "display_data"
    },
    {
     "data": {
      "text/plain": [
       "0      0.9143\n",
       "1      0.8447\n",
       "2      0.8345\n",
       "3      0.9383\n",
       "4      0.8562\n",
       "        ...  \n",
       "495    0.6543\n",
       "496    0.6969\n",
       "497    0.3997\n",
       "498    0.2583\n",
       "499    0.5374\n",
       "Name: 489, Length: 500, dtype: float64"
      ]
     },
     "metadata": {},
     "output_type": "display_data"
    },
    {
     "data": {
      "text/plain": [
       "0      0.8849\n",
       "1      0.9444\n",
       "2      0.8696\n",
       "3      0.9342\n",
       "4      0.8509\n",
       "        ...  \n",
       "495    0.8984\n",
       "496    0.9227\n",
       "497    0.9095\n",
       "498    0.9117\n",
       "499    0.8882\n",
       "Name: 490, Length: 500, dtype: float64"
      ]
     },
     "metadata": {},
     "output_type": "display_data"
    },
    {
     "data": {
      "text/plain": [
       "0      0.4756\n",
       "1      0.5000\n",
       "2      0.4756\n",
       "3      0.3915\n",
       "4      0.3915\n",
       "        ...  \n",
       "495    0.7502\n",
       "496    0.6512\n",
       "497    0.7023\n",
       "498    0.8308\n",
       "499    0.7723\n",
       "Name: 491, Length: 500, dtype: float64"
      ]
     },
     "metadata": {},
     "output_type": "display_data"
    },
    {
     "data": {
      "text/plain": [
       "0      0.7053\n",
       "1      0.6875\n",
       "2      0.8018\n",
       "3      0.8571\n",
       "4      0.8018\n",
       "        ...  \n",
       "495    0.4943\n",
       "496    0.6799\n",
       "497    0.7760\n",
       "498    0.7347\n",
       "499    0.7521\n",
       "Name: 492, Length: 500, dtype: float64"
      ]
     },
     "metadata": {},
     "output_type": "display_data"
    },
    {
     "data": {
      "text/plain": [
       "0      0.5596\n",
       "1      0.4000\n",
       "2      0.2580\n",
       "3      0.4096\n",
       "4      0.3932\n",
       "        ...  \n",
       "495    0.4542\n",
       "496    0.4662\n",
       "497    0.5601\n",
       "498    0.3792\n",
       "499    0.3755\n",
       "Name: 493, Length: 500, dtype: float64"
      ]
     },
     "metadata": {},
     "output_type": "display_data"
    },
    {
     "data": {
      "text/plain": [
       "0      0.7037\n",
       "1      0.6627\n",
       "2      0.5906\n",
       "3      0.6715\n",
       "4      0.5282\n",
       "        ...  \n",
       "495    0.6583\n",
       "496    0.6869\n",
       "497    0.7589\n",
       "498    0.7444\n",
       "499    0.6763\n",
       "Name: 494, Length: 500, dtype: float64"
      ]
     },
     "metadata": {},
     "output_type": "display_data"
    },
    {
     "data": {
      "text/plain": [
       "0      0.9412\n",
       "1      0.9464\n",
       "2      0.9211\n",
       "3      0.9697\n",
       "4      0.8710\n",
       "        ...  \n",
       "495    0.9367\n",
       "496    0.8662\n",
       "497    0.9275\n",
       "498    0.7342\n",
       "499    0.6587\n",
       "Name: 495, Length: 500, dtype: float64"
      ]
     },
     "metadata": {},
     "output_type": "display_data"
    },
    {
     "data": {
      "text/plain": [
       "0      0.1373\n",
       "1      0.1528\n",
       "2      0.1071\n",
       "3      0.0613\n",
       "4      0.1528\n",
       "        ...  \n",
       "495    0.1158\n",
       "496    0.1288\n",
       "497    0.2515\n",
       "498    0.1957\n",
       "499    0.0753\n",
       "Name: 496, Length: 500, dtype: float64"
      ]
     },
     "metadata": {},
     "output_type": "display_data"
    },
    {
     "data": {
      "text/plain": [
       "0      0.8710\n",
       "1      0.9412\n",
       "2      0.9184\n",
       "3         NaN\n",
       "4      0.9545\n",
       "        ...  \n",
       "495    0.3098\n",
       "496    0.8167\n",
       "497    0.5402\n",
       "498    0.6672\n",
       "499    0.5939\n",
       "Name: 497, Length: 500, dtype: float64"
      ]
     },
     "metadata": {},
     "output_type": "display_data"
    },
    {
     "data": {
      "text/plain": [
       "0      0.6983\n",
       "1      0.8136\n",
       "2      0.8182\n",
       "3      0.8349\n",
       "4      0.8136\n",
       "        ...  \n",
       "495    0.5146\n",
       "496    0.4100\n",
       "497    0.8619\n",
       "498    0.6966\n",
       "499    0.8065\n",
       "Name: 498, Length: 500, dtype: float64"
      ]
     },
     "metadata": {},
     "output_type": "display_data"
    },
    {
     "data": {
      "text/plain": [
       "0      0.0000\n",
       "1      0.0052\n",
       "2      0.0000\n",
       "3      0.0052\n",
       "4      0.0000\n",
       "        ...  \n",
       "495    0.0208\n",
       "496    0.0198\n",
       "497    0.0295\n",
       "498    0.0240\n",
       "499    0.0269\n",
       "Name: 499, Length: 500, dtype: float64"
      ]
     },
     "metadata": {},
     "output_type": "display_data"
    },
    {
     "data": {
      "text/plain": [
       "0      0.0263\n",
       "1      0.0000\n",
       "2         NaN\n",
       "3         NaN\n",
       "4      0.0000\n",
       "        ...  \n",
       "495    0.0551\n",
       "496    0.0469\n",
       "497    0.0476\n",
       "498    0.0593\n",
       "499    0.0625\n",
       "Name: 500, Length: 500, dtype: float64"
      ]
     },
     "metadata": {},
     "output_type": "display_data"
    },
    {
     "data": {
      "text/plain": [
       "0      0.9434\n",
       "1      0.9036\n",
       "2      0.9762\n",
       "3      0.9231\n",
       "4      0.9762\n",
       "        ...  \n",
       "495    0.8662\n",
       "496    0.8266\n",
       "497    0.8883\n",
       "498    0.9141\n",
       "499    0.8864\n",
       "Name: 501, Length: 500, dtype: float64"
      ]
     },
     "metadata": {},
     "output_type": "display_data"
    },
    {
     "data": {
      "text/plain": [
       "0      0.7654\n",
       "1      0.9677\n",
       "2      0.8382\n",
       "3      0.8342\n",
       "4      0.9737\n",
       "        ...  \n",
       "495       NaN\n",
       "496       NaN\n",
       "497       NaN\n",
       "498       NaN\n",
       "499       NaN\n",
       "Name: 502, Length: 500, dtype: float64"
      ]
     },
     "metadata": {},
     "output_type": "display_data"
    },
    {
     "data": {
      "text/plain": [
       "0      0.9821\n",
       "1      0.9722\n",
       "2      0.9798\n",
       "3      1.0000\n",
       "4      0.9043\n",
       "        ...  \n",
       "495    0.9479\n",
       "496    0.9461\n",
       "497    0.9065\n",
       "498    0.9043\n",
       "499    0.9354\n",
       "Name: 503, Length: 500, dtype: float64"
      ]
     },
     "metadata": {},
     "output_type": "display_data"
    },
    {
     "data": {
      "text/plain": [
       "0      0.9541\n",
       "1      0.9333\n",
       "2      0.9394\n",
       "3      0.9541\n",
       "4      0.9151\n",
       "        ...  \n",
       "495    0.8597\n",
       "496    0.7884\n",
       "497    0.7712\n",
       "498    0.7817\n",
       "499    0.7634\n",
       "Name: 504, Length: 500, dtype: float64"
      ]
     },
     "metadata": {},
     "output_type": "display_data"
    },
    {
     "data": {
      "text/plain": [
       "0      0.8500\n",
       "1      0.9035\n",
       "2      0.9437\n",
       "3      0.9608\n",
       "4      0.9028\n",
       "        ...  \n",
       "495    0.8640\n",
       "496    0.8617\n",
       "497    0.7687\n",
       "498    0.7567\n",
       "499    0.8028\n",
       "Name: 505, Length: 500, dtype: float64"
      ]
     },
     "metadata": {},
     "output_type": "display_data"
    },
    {
     "data": {
      "text/plain": [
       "0      0.0994\n",
       "1      0.1298\n",
       "2      0.1188\n",
       "3      0.0402\n",
       "4      0.0468\n",
       "        ...  \n",
       "495    0.0323\n",
       "496    0.0355\n",
       "497    0.0474\n",
       "498    0.0380\n",
       "499    0.0368\n",
       "Name: 506, Length: 500, dtype: float64"
      ]
     },
     "metadata": {},
     "output_type": "display_data"
    },
    {
     "data": {
      "text/plain": [
       "0         NaN\n",
       "1      0.8333\n",
       "2      0.8333\n",
       "3         NaN\n",
       "4      0.9091\n",
       "        ...  \n",
       "495       NaN\n",
       "496       NaN\n",
       "497       NaN\n",
       "498       NaN\n",
       "499       NaN\n",
       "Name: 507, Length: 500, dtype: float64"
      ]
     },
     "metadata": {},
     "output_type": "display_data"
    },
    {
     "data": {
      "text/plain": [
       "0      0.9427\n",
       "1      0.9608\n",
       "2      0.9556\n",
       "3      0.9136\n",
       "4      0.9536\n",
       "        ...  \n",
       "495    0.9525\n",
       "496    0.9515\n",
       "497    0.9415\n",
       "498    0.9145\n",
       "499    0.9553\n",
       "Name: 508, Length: 500, dtype: float64"
      ]
     },
     "metadata": {},
     "output_type": "display_data"
    },
    {
     "data": {
      "text/plain": [
       "0      0.8911\n",
       "1      0.8790\n",
       "2      0.8790\n",
       "3      0.8976\n",
       "4      0.8932\n",
       "        ...  \n",
       "495       NaN\n",
       "496       NaN\n",
       "497       NaN\n",
       "498       NaN\n",
       "499       NaN\n",
       "Name: 509, Length: 500, dtype: float64"
      ]
     },
     "metadata": {},
     "output_type": "display_data"
    },
    {
     "data": {
      "text/plain": [
       "0      0.0000\n",
       "1      0.0258\n",
       "2      0.0041\n",
       "3      0.0000\n",
       "4      0.0211\n",
       "        ...  \n",
       "495    0.0283\n",
       "496    0.0361\n",
       "497    0.0439\n",
       "498    0.0409\n",
       "499    0.0306\n",
       "Name: 510, Length: 500, dtype: float64"
      ]
     },
     "metadata": {},
     "output_type": "display_data"
    },
    {
     "data": {
      "text/plain": [
       "0      0.0000\n",
       "1      0.0000\n",
       "2      0.0000\n",
       "3      0.0000\n",
       "4      0.0000\n",
       "        ...  \n",
       "495    0.0283\n",
       "496    0.0307\n",
       "497    0.0269\n",
       "498    0.0279\n",
       "499    0.0335\n",
       "Name: 511, Length: 500, dtype: float64"
      ]
     },
     "metadata": {},
     "output_type": "display_data"
    },
    {
     "data": {
      "text/plain": [
       "0         NaN\n",
       "1      0.2340\n",
       "2      0.4750\n",
       "3         NaN\n",
       "4         NaN\n",
       "        ...  \n",
       "495    0.2927\n",
       "496    0.2965\n",
       "497    0.3150\n",
       "498    0.2409\n",
       "499    0.4291\n",
       "Name: 512, Length: 500, dtype: float64"
      ]
     },
     "metadata": {},
     "output_type": "display_data"
    },
    {
     "data": {
      "text/plain": [
       "0      0.8394\n",
       "1      0.8750\n",
       "2      0.8611\n",
       "3      0.8983\n",
       "4      0.8983\n",
       "        ...  \n",
       "495    0.8113\n",
       "496    0.6922\n",
       "497    0.6855\n",
       "498    0.7731\n",
       "499    0.5436\n",
       "Name: 513, Length: 500, dtype: float64"
      ]
     },
     "metadata": {},
     "output_type": "display_data"
    },
    {
     "data": {
      "text/plain": [
       "0      0.8068\n",
       "1         NaN\n",
       "2      0.7500\n",
       "3      0.8649\n",
       "4      0.4478\n",
       "        ...  \n",
       "495    0.9336\n",
       "496    0.8786\n",
       "497    0.8845\n",
       "498    0.9093\n",
       "499    0.9115\n",
       "Name: 514, Length: 500, dtype: float64"
      ]
     },
     "metadata": {},
     "output_type": "display_data"
    },
    {
     "data": {
      "text/plain": [
       "0         NaN\n",
       "1      0.5538\n",
       "2      0.5750\n",
       "3      0.3803\n",
       "4      0.4176\n",
       "        ...  \n",
       "495    0.7382\n",
       "496    0.2878\n",
       "497    0.7083\n",
       "498    0.8357\n",
       "499    0.7814\n",
       "Name: 515, Length: 500, dtype: float64"
      ]
     },
     "metadata": {},
     "output_type": "display_data"
    },
    {
     "data": {
      "text/plain": [
       "0      0.0000\n",
       "1      0.0037\n",
       "2      0.0000\n",
       "3      0.0000\n",
       "4      0.0000\n",
       "        ...  \n",
       "495    0.0475\n",
       "496    0.0450\n",
       "497    0.0513\n",
       "498    0.0505\n",
       "499    0.0526\n",
       "Name: 516, Length: 500, dtype: float64"
      ]
     },
     "metadata": {},
     "output_type": "display_data"
    },
    {
     "data": {
      "text/plain": [
       "0      0.8500\n",
       "1      0.8872\n",
       "2      0.8763\n",
       "3      0.8795\n",
       "4      0.7885\n",
       "        ...  \n",
       "495    0.6684\n",
       "496    0.3975\n",
       "497    0.2822\n",
       "498    0.9304\n",
       "499    0.7695\n",
       "Name: 517, Length: 500, dtype: float64"
      ]
     },
     "metadata": {},
     "output_type": "display_data"
    },
    {
     "data": {
      "text/plain": [
       "0      0.0244\n",
       "1      0.0576\n",
       "2      0.0190\n",
       "3      0.0274\n",
       "4      0.0380\n",
       "        ...  \n",
       "495    0.0713\n",
       "496    0.0754\n",
       "497    0.0581\n",
       "498    0.0690\n",
       "499    0.0735\n",
       "Name: 518, Length: 500, dtype: float64"
      ]
     },
     "metadata": {},
     "output_type": "display_data"
    },
    {
     "data": {
      "text/plain": [
       "0      0.8912\n",
       "1      0.9326\n",
       "2      0.9368\n",
       "3      0.9187\n",
       "4      0.9048\n",
       "        ...  \n",
       "495    0.7042\n",
       "496    0.6416\n",
       "497    0.2479\n",
       "498    0.6749\n",
       "499    0.6694\n",
       "Name: 519, Length: 500, dtype: float64"
      ]
     },
     "metadata": {},
     "output_type": "display_data"
    },
    {
     "data": {
      "text/plain": [
       "0      0.8909\n",
       "1      0.8875\n",
       "2      0.8909\n",
       "3      0.9392\n",
       "4      0.8571\n",
       "        ...  \n",
       "495    0.9467\n",
       "496    0.9196\n",
       "497    0.9551\n",
       "498    0.8976\n",
       "499    0.8976\n",
       "Name: 520, Length: 500, dtype: float64"
      ]
     },
     "metadata": {},
     "output_type": "display_data"
    },
    {
     "data": {
      "text/plain": [
       "0      0.7692\n",
       "1      0.8226\n",
       "2      0.8286\n",
       "3      0.8596\n",
       "4      0.8649\n",
       "        ...  \n",
       "495    0.5300\n",
       "496    0.9741\n",
       "497    0.7789\n",
       "498    0.7272\n",
       "499    0.5998\n",
       "Name: 521, Length: 500, dtype: float64"
      ]
     },
     "metadata": {},
     "output_type": "display_data"
    },
    {
     "data": {
      "text/plain": [
       "0      0.9211\n",
       "1         NaN\n",
       "2         NaN\n",
       "3         NaN\n",
       "4         NaN\n",
       "        ...  \n",
       "495    0.4255\n",
       "496    0.6120\n",
       "497    0.5382\n",
       "498    0.6059\n",
       "499    0.5466\n",
       "Name: 522, Length: 500, dtype: float64"
      ]
     },
     "metadata": {},
     "output_type": "display_data"
    },
    {
     "data": {
      "text/plain": [
       "0      0.8806\n",
       "1      0.8800\n",
       "2      0.9143\n",
       "3      0.8235\n",
       "4      0.8806\n",
       "        ...  \n",
       "495    0.6602\n",
       "496    0.3245\n",
       "497    0.6088\n",
       "498    0.5145\n",
       "499    0.5145\n",
       "Name: 523, Length: 500, dtype: float64"
      ]
     },
     "metadata": {},
     "output_type": "display_data"
    },
    {
     "data": {
      "text/plain": [
       "0      0.5909\n",
       "1      0.7647\n",
       "2      0.9000\n",
       "3      0.8919\n",
       "4         NaN\n",
       "        ...  \n",
       "495    0.6187\n",
       "496    0.4580\n",
       "497    0.3061\n",
       "498    0.6730\n",
       "499    0.4454\n",
       "Name: 524, Length: 500, dtype: float64"
      ]
     },
     "metadata": {},
     "output_type": "display_data"
    },
    {
     "data": {
      "text/plain": [
       "0      0.8928\n",
       "1      0.9003\n",
       "2      0.9412\n",
       "3      0.9056\n",
       "4      0.8661\n",
       "        ...  \n",
       "495    0.4203\n",
       "496    0.7504\n",
       "497    0.8334\n",
       "498    0.5977\n",
       "499    0.6608\n",
       "Name: 525, Length: 500, dtype: float64"
      ]
     },
     "metadata": {},
     "output_type": "display_data"
    },
    {
     "data": {
      "text/plain": [
       "0      0.8742\n",
       "1      0.8824\n",
       "2      0.9188\n",
       "3      0.8876\n",
       "4      0.9262\n",
       "        ...  \n",
       "495    0.4535\n",
       "496    0.5808\n",
       "497    0.3051\n",
       "498    0.7910\n",
       "499    0.6895\n",
       "Name: 526, Length: 500, dtype: float64"
      ]
     },
     "metadata": {},
     "output_type": "display_data"
    },
    {
     "data": {
      "text/plain": [
       "0      0.9559\n",
       "1      0.8679\n",
       "2      0.8765\n",
       "3      0.9767\n",
       "4      1.0000\n",
       "        ...  \n",
       "495       NaN\n",
       "496       NaN\n",
       "497       NaN\n",
       "498       NaN\n",
       "499       NaN\n",
       "Name: 527, Length: 500, dtype: float64"
      ]
     },
     "metadata": {},
     "output_type": "display_data"
    },
    {
     "data": {
      "text/plain": [
       "0      0.0451\n",
       "1      0.0156\n",
       "2      0.0370\n",
       "3      0.0619\n",
       "4      0.0619\n",
       "        ...  \n",
       "495    0.6194\n",
       "496    0.4082\n",
       "497    0.1040\n",
       "498    0.4477\n",
       "499    0.6459\n",
       "Name: 528, Length: 500, dtype: float64"
      ]
     },
     "metadata": {},
     "output_type": "display_data"
    },
    {
     "data": {
      "text/plain": [
       "0      0.0000\n",
       "1      0.0048\n",
       "2      0.0048\n",
       "3      0.0049\n",
       "4      0.0158\n",
       "        ...  \n",
       "495    0.0509\n",
       "496    0.0891\n",
       "497    0.1430\n",
       "498    0.1935\n",
       "499    0.1605\n",
       "Name: 529, Length: 500, dtype: float64"
      ]
     },
     "metadata": {},
     "output_type": "display_data"
    },
    {
     "data": {
      "text/plain": [
       "0      0.0093\n",
       "1      0.0000\n",
       "2         NaN\n",
       "3         NaN\n",
       "4      0.0000\n",
       "        ...  \n",
       "495    0.0475\n",
       "496    0.0281\n",
       "497    0.0364\n",
       "498    0.0386\n",
       "499    0.0464\n",
       "Name: 530, Length: 500, dtype: float64"
      ]
     },
     "metadata": {},
     "output_type": "display_data"
    },
    {
     "data": {
      "text/plain": [
       "0      0.8438\n",
       "1      0.8750\n",
       "2      0.8500\n",
       "3      0.8913\n",
       "4      0.8512\n",
       "        ...  \n",
       "495    0.7264\n",
       "496    0.4328\n",
       "497    0.8804\n",
       "498    0.6186\n",
       "499    0.6932\n",
       "Name: 531, Length: 500, dtype: float64"
      ]
     },
     "metadata": {},
     "output_type": "display_data"
    },
    {
     "data": {
      "text/plain": [
       "0      0.8983\n",
       "1      0.7929\n",
       "2      0.7439\n",
       "3      0.8482\n",
       "4      0.7826\n",
       "        ...  \n",
       "495    0.9631\n",
       "496    0.7723\n",
       "497    0.8154\n",
       "498    0.8614\n",
       "499    0.9643\n",
       "Name: 532, Length: 500, dtype: float64"
      ]
     },
     "metadata": {},
     "output_type": "display_data"
    },
    {
     "data": {
      "text/plain": [
       "0      0.8991\n",
       "1      0.8561\n",
       "2      0.8428\n",
       "3      0.8696\n",
       "4      0.8810\n",
       "        ...  \n",
       "495    0.6967\n",
       "496    0.8953\n",
       "497    0.5483\n",
       "498    0.3048\n",
       "499    0.5483\n",
       "Name: 533, Length: 500, dtype: float64"
      ]
     },
     "metadata": {},
     "output_type": "display_data"
    },
    {
     "data": {
      "text/plain": [
       "0      0.9268\n",
       "1      0.8916\n",
       "2      0.8713\n",
       "3      0.8713\n",
       "4      0.8611\n",
       "        ...  \n",
       "495    0.7597\n",
       "496    0.4034\n",
       "497    0.8041\n",
       "498    0.4459\n",
       "499    0.8943\n",
       "Name: 534, Length: 500, dtype: float64"
      ]
     },
     "metadata": {},
     "output_type": "display_data"
    },
    {
     "data": {
      "text/plain": [
       "0      0.8778\n",
       "1      0.9187\n",
       "2      0.9060\n",
       "3      0.8741\n",
       "4      0.9104\n",
       "        ...  \n",
       "495    0.6320\n",
       "496    0.8952\n",
       "497    0.7025\n",
       "498    0.7870\n",
       "499    0.3426\n",
       "Name: 535, Length: 500, dtype: float64"
      ]
     },
     "metadata": {},
     "output_type": "display_data"
    },
    {
     "data": {
      "text/plain": [
       "0      0.8971\n",
       "1      0.8701\n",
       "2      0.9333\n",
       "3      0.9000\n",
       "4      0.9000\n",
       "        ...  \n",
       "495    0.5387\n",
       "496    0.5119\n",
       "497    0.5975\n",
       "498    0.7805\n",
       "499    0.6460\n",
       "Name: 536, Length: 500, dtype: float64"
      ]
     },
     "metadata": {},
     "output_type": "display_data"
    },
    {
     "data": {
      "text/plain": [
       "0         NaN\n",
       "1      0.8537\n",
       "2      0.7727\n",
       "3      0.8421\n",
       "4      0.9730\n",
       "        ...  \n",
       "495       NaN\n",
       "496       NaN\n",
       "497       NaN\n",
       "498       NaN\n",
       "499       NaN\n",
       "Name: 537, Length: 500, dtype: float64"
      ]
     },
     "metadata": {},
     "output_type": "display_data"
    },
    {
     "data": {
      "text/plain": [
       "0      0.7179\n",
       "1      0.7963\n",
       "2      0.7273\n",
       "3         NaN\n",
       "4      0.7273\n",
       "        ...  \n",
       "495    0.7751\n",
       "496    0.4726\n",
       "497    0.4216\n",
       "498    0.7337\n",
       "499    0.4474\n",
       "Name: 538, Length: 500, dtype: float64"
      ]
     },
     "metadata": {},
     "output_type": "display_data"
    },
    {
     "data": {
      "text/plain": [
       "0      0.7257\n",
       "1      0.8125\n",
       "2      0.7541\n",
       "3         NaN\n",
       "4      0.6915\n",
       "        ...  \n",
       "495    0.8466\n",
       "496    0.6640\n",
       "497    0.7062\n",
       "498    0.8620\n",
       "499    0.6590\n",
       "Name: 539, Length: 500, dtype: float64"
      ]
     },
     "metadata": {},
     "output_type": "display_data"
    },
    {
     "data": {
      "text/plain": [
       "0         NaN\n",
       "1         NaN\n",
       "2      0.5246\n",
       "3      0.4634\n",
       "4      0.4182\n",
       "        ...  \n",
       "495    0.6127\n",
       "496    0.4692\n",
       "497    0.2185\n",
       "498    0.5776\n",
       "499    0.5318\n",
       "Name: 540, Length: 500, dtype: float64"
      ]
     },
     "metadata": {},
     "output_type": "display_data"
    },
    {
     "data": {
      "text/plain": [
       "0      0.2778\n",
       "1      0.2484\n",
       "2      0.2737\n",
       "3      0.2484\n",
       "4      0.2927\n",
       "        ...  \n",
       "495    0.2506\n",
       "496    0.3489\n",
       "497    0.1335\n",
       "498    0.2566\n",
       "499    0.3199\n",
       "Name: 541, Length: 500, dtype: float64"
      ]
     },
     "metadata": {},
     "output_type": "display_data"
    },
    {
     "data": {
      "text/plain": [
       "0      0.8616\n",
       "1      0.8879\n",
       "2      0.9365\n",
       "3      0.9022\n",
       "4      0.9018\n",
       "        ...  \n",
       "495    0.8594\n",
       "496    0.8793\n",
       "497    0.8955\n",
       "498    0.9240\n",
       "499    0.9123\n",
       "Name: 542, Length: 500, dtype: float64"
      ]
     },
     "metadata": {},
     "output_type": "display_data"
    },
    {
     "data": {
      "text/plain": [
       "0      0.7245\n",
       "1      0.7671\n",
       "2      0.8053\n",
       "3      0.7768\n",
       "4      0.8053\n",
       "        ...  \n",
       "495    0.8231\n",
       "496    0.7231\n",
       "497    0.8053\n",
       "498    0.5793\n",
       "499    0.5721\n",
       "Name: 543, Length: 500, dtype: float64"
      ]
     },
     "metadata": {},
     "output_type": "display_data"
    },
    {
     "data": {
      "text/plain": [
       "0      0.9746\n",
       "1      0.9496\n",
       "2      0.9683\n",
       "3      0.8992\n",
       "4      0.9496\n",
       "        ...  \n",
       "495    0.9079\n",
       "496    0.9197\n",
       "497    0.9222\n",
       "498    0.9237\n",
       "499    0.9096\n",
       "Name: 544, Length: 500, dtype: float64"
      ]
     },
     "metadata": {},
     "output_type": "display_data"
    },
    {
     "data": {
      "text/plain": [
       "0      0.9091\n",
       "1      0.9500\n",
       "2      0.9054\n",
       "3      0.9643\n",
       "4      0.9296\n",
       "        ...  \n",
       "495    0.9733\n",
       "496    0.9783\n",
       "497    0.9692\n",
       "498    0.9682\n",
       "499    0.9820\n",
       "Name: 545, Length: 500, dtype: float64"
      ]
     },
     "metadata": {},
     "output_type": "display_data"
    },
    {
     "data": {
      "text/plain": [
       "0      0.9500\n",
       "1      0.9200\n",
       "2      1.0000\n",
       "3      0.9744\n",
       "4      1.0000\n",
       "        ...  \n",
       "495    0.8827\n",
       "496    0.8848\n",
       "497    0.9135\n",
       "498    0.8911\n",
       "499    0.9176\n",
       "Name: 546, Length: 500, dtype: float64"
      ]
     },
     "metadata": {},
     "output_type": "display_data"
    },
    {
     "data": {
      "text/plain": [
       "0      0.9091\n",
       "1      0.9897\n",
       "2      0.9780\n",
       "3      0.9425\n",
       "4      0.9804\n",
       "        ...  \n",
       "495    0.8897\n",
       "496    0.8853\n",
       "497    0.8969\n",
       "498    0.9135\n",
       "499    0.9253\n",
       "Name: 547, Length: 500, dtype: float64"
      ]
     },
     "metadata": {},
     "output_type": "display_data"
    },
    {
     "data": {
      "text/plain": [
       "0      0.9091\n",
       "1      0.8594\n",
       "2      0.8974\n",
       "3      0.8974\n",
       "4      0.9630\n",
       "        ...  \n",
       "495    0.9123\n",
       "496    0.8974\n",
       "497    0.7890\n",
       "498    0.8755\n",
       "499    0.8888\n",
       "Name: 548, Length: 500, dtype: float64"
      ]
     },
     "metadata": {},
     "output_type": "display_data"
    },
    {
     "data": {
      "text/plain": [
       "0      0.8444\n",
       "1      0.8261\n",
       "2      0.9038\n",
       "3      0.8792\n",
       "4      0.8864\n",
       "        ...  \n",
       "495    0.9083\n",
       "496    0.9251\n",
       "497    0.9076\n",
       "498    0.9207\n",
       "499    0.9106\n",
       "Name: 549, Length: 500, dtype: float64"
      ]
     },
     "metadata": {},
     "output_type": "display_data"
    },
    {
     "data": {
      "text/plain": [
       "0      0.9516\n",
       "1      0.9516\n",
       "2         NaN\n",
       "3      0.8947\n",
       "4      0.8947\n",
       "        ...  \n",
       "495    0.9516\n",
       "496    0.9252\n",
       "497    0.8988\n",
       "498    0.9509\n",
       "499    0.9363\n",
       "Name: 550, Length: 500, dtype: float64"
      ]
     },
     "metadata": {},
     "output_type": "display_data"
    },
    {
     "data": {
      "text/plain": [
       "0      0.9712\n",
       "1      1.0000\n",
       "2      0.9466\n",
       "3      0.8878\n",
       "4      0.9583\n",
       "        ...  \n",
       "495    0.8349\n",
       "496    0.8538\n",
       "497    0.8564\n",
       "498    0.9064\n",
       "499    0.7057\n",
       "Name: 551, Length: 500, dtype: float64"
      ]
     },
     "metadata": {},
     "output_type": "display_data"
    },
    {
     "data": {
      "text/plain": [
       "0      0.9872\n",
       "1      0.9510\n",
       "2      0.9800\n",
       "3      0.9487\n",
       "4      0.9298\n",
       "        ...  \n",
       "495    0.9483\n",
       "496    0.9472\n",
       "497    0.8883\n",
       "498    0.9486\n",
       "499    0.9444\n",
       "Name: 552, Length: 500, dtype: float64"
      ]
     },
     "metadata": {},
     "output_type": "display_data"
    },
    {
     "data": {
      "text/plain": [
       "0      0.9333\n",
       "1      0.9101\n",
       "2      0.9000\n",
       "3      0.9545\n",
       "4      0.9545\n",
       "        ...  \n",
       "495    0.9623\n",
       "496    0.9695\n",
       "497    0.9619\n",
       "498    0.9587\n",
       "499    0.9481\n",
       "Name: 553, Length: 500, dtype: float64"
      ]
     },
     "metadata": {},
     "output_type": "display_data"
    },
    {
     "data": {
      "text/plain": [
       "0      0.9659\n",
       "1      0.9672\n",
       "2      0.9630\n",
       "3      0.9677\n",
       "4      0.9468\n",
       "        ...  \n",
       "495    0.9231\n",
       "496    0.9303\n",
       "497    0.9259\n",
       "498    0.9032\n",
       "499    0.9391\n",
       "Name: 554, Length: 500, dtype: float64"
      ]
     },
     "metadata": {},
     "output_type": "display_data"
    },
    {
     "data": {
      "text/plain": [
       "0      0.0000\n",
       "1      0.0094\n",
       "2      0.0097\n",
       "3      0.0000\n",
       "4      0.0000\n",
       "        ...  \n",
       "495    0.0260\n",
       "496    0.0264\n",
       "497    0.0211\n",
       "498    0.0206\n",
       "499    0.0177\n",
       "Name: 555, Length: 500, dtype: float64"
      ]
     },
     "metadata": {},
     "output_type": "display_data"
    },
    {
     "data": {
      "text/plain": [
       "0      0.0213\n",
       "1      0.0199\n",
       "2      0.0000\n",
       "3      0.0111\n",
       "4      0.0000\n",
       "        ...  \n",
       "495    0.0224\n",
       "496    0.0201\n",
       "497    0.0243\n",
       "498    0.0191\n",
       "499    0.0216\n",
       "Name: 556, Length: 500, dtype: float64"
      ]
     },
     "metadata": {},
     "output_type": "display_data"
    },
    {
     "data": {
      "text/plain": [
       "0      0.8313\n",
       "1      0.9394\n",
       "2      0.9438\n",
       "3      0.8974\n",
       "4      0.7551\n",
       "        ...  \n",
       "495       NaN\n",
       "496       NaN\n",
       "497       NaN\n",
       "498       NaN\n",
       "499       NaN\n",
       "Name: 557, Length: 500, dtype: float64"
      ]
     },
     "metadata": {},
     "output_type": "display_data"
    },
    {
     "data": {
      "text/plain": [
       "0      0.1225\n",
       "1      0.0714\n",
       "2      0.0333\n",
       "3      0.0878\n",
       "4      0.0945\n",
       "        ...  \n",
       "495    0.1905\n",
       "496    0.1241\n",
       "497    0.1804\n",
       "498    0.1666\n",
       "499    0.2219\n",
       "Name: 558, Length: 500, dtype: float64"
      ]
     },
     "metadata": {},
     "output_type": "display_data"
    },
    {
     "data": {
      "text/plain": [
       "0      0.7714\n",
       "1      0.8387\n",
       "2         NaN\n",
       "3         NaN\n",
       "4      0.7925\n",
       "        ...  \n",
       "495    0.4140\n",
       "496    0.3766\n",
       "497    0.4547\n",
       "498    0.7656\n",
       "499    0.4262\n",
       "Name: 559, Length: 500, dtype: float64"
      ]
     },
     "metadata": {},
     "output_type": "display_data"
    },
    {
     "data": {
      "text/plain": [
       "0      0.9355\n",
       "1      0.9014\n",
       "2      0.8909\n",
       "3      0.8448\n",
       "4      0.9375\n",
       "        ...  \n",
       "495    0.8561\n",
       "496    0.7520\n",
       "497    0.9134\n",
       "498    0.7916\n",
       "499    0.6559\n",
       "Name: 560, Length: 500, dtype: float64"
      ]
     },
     "metadata": {},
     "output_type": "display_data"
    },
    {
     "data": {
      "text/plain": [
       "0      0.9631\n",
       "1      0.9401\n",
       "2      0.9602\n",
       "3      0.9286\n",
       "4      0.9412\n",
       "        ...  \n",
       "495    0.4758\n",
       "496    0.8195\n",
       "497    0.6537\n",
       "498    0.7710\n",
       "499    0.7733\n",
       "Name: 561, Length: 500, dtype: float64"
      ]
     },
     "metadata": {},
     "output_type": "display_data"
    },
    {
     "data": {
      "text/plain": [
       "0      0.8963\n",
       "1      0.8936\n",
       "2      0.9498\n",
       "3      0.9623\n",
       "4      0.9333\n",
       "        ...  \n",
       "495    0.6961\n",
       "496    0.8551\n",
       "497    0.8039\n",
       "498    0.8312\n",
       "499    0.7557\n",
       "Name: 562, Length: 500, dtype: float64"
      ]
     },
     "metadata": {},
     "output_type": "display_data"
    },
    {
     "data": {
      "text/plain": [
       "0      0.9238\n",
       "1      0.9500\n",
       "2      0.9150\n",
       "3      0.8797\n",
       "4      0.9500\n",
       "        ...  \n",
       "495    0.7151\n",
       "496    0.7042\n",
       "497    0.6555\n",
       "498    0.5840\n",
       "499    0.7235\n",
       "Name: 563, Length: 500, dtype: float64"
      ]
     },
     "metadata": {},
     "output_type": "display_data"
    },
    {
     "data": {
      "text/plain": [
       "0      0.8718\n",
       "1      0.8387\n",
       "2      1.0000\n",
       "3      0.9767\n",
       "4      0.9592\n",
       "        ...  \n",
       "495       NaN\n",
       "496       NaN\n",
       "497       NaN\n",
       "498       NaN\n",
       "499       NaN\n",
       "Name: 564, Length: 500, dtype: float64"
      ]
     },
     "metadata": {},
     "output_type": "display_data"
    },
    {
     "data": {
      "text/plain": [
       "0      1.0000\n",
       "1      0.9062\n",
       "2      0.9457\n",
       "3      0.9458\n",
       "4      0.9032\n",
       "        ...  \n",
       "495    0.5533\n",
       "496    0.9251\n",
       "497    0.6656\n",
       "498    0.8671\n",
       "499    0.9023\n",
       "Name: 565, Length: 500, dtype: float64"
      ]
     },
     "metadata": {},
     "output_type": "display_data"
    },
    {
     "data": {
      "text/plain": [
       "0      0.7917\n",
       "1      0.7917\n",
       "2      0.8376\n",
       "3      0.7568\n",
       "4      0.7386\n",
       "        ...  \n",
       "495    0.8100\n",
       "496    0.6494\n",
       "497    0.5295\n",
       "498    0.4002\n",
       "499    0.1860\n",
       "Name: 566, Length: 500, dtype: float64"
      ]
     },
     "metadata": {},
     "output_type": "display_data"
    },
    {
     "data": {
      "text/plain": [
       "0      0.2373\n",
       "1      0.2155\n",
       "2      0.1974\n",
       "3      0.2155\n",
       "4      0.1574\n",
       "        ...  \n",
       "495    0.4042\n",
       "496    0.1136\n",
       "497    0.1851\n",
       "498    0.1617\n",
       "499    0.0683\n",
       "Name: 567, Length: 500, dtype: float64"
      ]
     },
     "metadata": {},
     "output_type": "display_data"
    },
    {
     "data": {
      "text/plain": [
       "0      0.9130\n",
       "1      0.9456\n",
       "2      0.9667\n",
       "3      0.9333\n",
       "4      0.9286\n",
       "        ...  \n",
       "495    0.8974\n",
       "496    0.8967\n",
       "497    0.8715\n",
       "498    0.9084\n",
       "499    0.8457\n",
       "Name: 568, Length: 500, dtype: float64"
      ]
     },
     "metadata": {},
     "output_type": "display_data"
    },
    {
     "data": {
      "text/plain": [
       "0      0.8864\n",
       "1      0.7895\n",
       "2         NaN\n",
       "3      0.8824\n",
       "4         NaN\n",
       "        ...  \n",
       "495    0.3558\n",
       "496    0.7749\n",
       "497    0.4419\n",
       "498    0.6970\n",
       "499    0.6948\n",
       "Name: 569, Length: 500, dtype: float64"
      ]
     },
     "metadata": {},
     "output_type": "display_data"
    },
    {
     "data": {
      "text/plain": [
       "0      0.0495\n",
       "1      0.0163\n",
       "2      0.0222\n",
       "3      0.0361\n",
       "4      0.0495\n",
       "        ...  \n",
       "495    0.0506\n",
       "496    0.1182\n",
       "497    0.0706\n",
       "498    0.0614\n",
       "499    0.0688\n",
       "Name: 570, Length: 500, dtype: float64"
      ]
     },
     "metadata": {},
     "output_type": "display_data"
    },
    {
     "data": {
      "text/plain": [
       "0      0.0157\n",
       "1      0.0000\n",
       "2      0.0246\n",
       "3      0.0222\n",
       "4      0.0571\n",
       "        ...  \n",
       "495    0.0397\n",
       "496    0.0468\n",
       "497    0.0549\n",
       "498    0.0434\n",
       "499    0.0633\n",
       "Name: 571, Length: 500, dtype: float64"
      ]
     },
     "metadata": {},
     "output_type": "display_data"
    },
    {
     "data": {
      "text/plain": [
       "0      0.0308\n",
       "1      0.0196\n",
       "2      0.0243\n",
       "3      0.0000\n",
       "4      0.0339\n",
       "        ...  \n",
       "495    0.1928\n",
       "496    0.0486\n",
       "497    0.0960\n",
       "498    0.1254\n",
       "499    0.0540\n",
       "Name: 572, Length: 500, dtype: float64"
      ]
     },
     "metadata": {},
     "output_type": "display_data"
    },
    {
     "data": {
      "text/plain": [
       "0      0.0000\n",
       "1      0.0000\n",
       "2      0.0000\n",
       "3      0.0087\n",
       "4      0.0000\n",
       "        ...  \n",
       "495    0.0315\n",
       "496    0.0297\n",
       "497    0.0291\n",
       "498    0.0262\n",
       "499    0.0191\n",
       "Name: 573, Length: 500, dtype: float64"
      ]
     },
     "metadata": {},
     "output_type": "display_data"
    },
    {
     "data": {
      "text/plain": [
       "0      0.9000\n",
       "1      0.6528\n",
       "2      0.5909\n",
       "3      0.6528\n",
       "4      0.7561\n",
       "        ...  \n",
       "495       NaN\n",
       "496       NaN\n",
       "497       NaN\n",
       "498       NaN\n",
       "499       NaN\n",
       "Name: 574, Length: 500, dtype: float64"
      ]
     },
     "metadata": {},
     "output_type": "display_data"
    },
    {
     "data": {
      "text/plain": [
       "0      0.1068\n",
       "1      0.0580\n",
       "2      0.1560\n",
       "3      0.0495\n",
       "4      0.0943\n",
       "        ...  \n",
       "495    0.1308\n",
       "496    0.2799\n",
       "497    0.0672\n",
       "498    0.1373\n",
       "499    0.1482\n",
       "Name: 575, Length: 500, dtype: float64"
      ]
     },
     "metadata": {},
     "output_type": "display_data"
    },
    {
     "data": {
      "text/plain": [
       "0      0.0127\n",
       "1      0.0000\n",
       "2      0.0497\n",
       "3      0.0358\n",
       "4      0.0250\n",
       "        ...  \n",
       "495    0.0271\n",
       "496    0.0417\n",
       "497    0.0376\n",
       "498    0.1031\n",
       "499    0.0369\n",
       "Name: 576, Length: 500, dtype: float64"
      ]
     },
     "metadata": {},
     "output_type": "display_data"
    },
    {
     "data": {
      "text/plain": [
       "0      0.0148\n",
       "1      0.1591\n",
       "2      0.1091\n",
       "3      0.1221\n",
       "4      0.1221\n",
       "        ...  \n",
       "495    0.5279\n",
       "496    0.5498\n",
       "497    0.5237\n",
       "498    0.5053\n",
       "499    0.5963\n",
       "Name: 577, Length: 500, dtype: float64"
      ]
     },
     "metadata": {},
     "output_type": "display_data"
    },
    {
     "data": {
      "text/plain": [
       "0      0.0702\n",
       "1      0.1983\n",
       "2      0.0845\n",
       "3      0.0371\n",
       "4      0.0377\n",
       "        ...  \n",
       "495    0.4268\n",
       "496    0.6606\n",
       "497    0.6239\n",
       "498    0.0700\n",
       "499    0.4138\n",
       "Name: 578, Length: 500, dtype: float64"
      ]
     },
     "metadata": {},
     "output_type": "display_data"
    },
    {
     "data": {
      "text/plain": [
       "0      0.9333\n",
       "1      0.9385\n",
       "2      0.9403\n",
       "3      0.9250\n",
       "4      0.9885\n",
       "        ...  \n",
       "495    0.8269\n",
       "496    0.6100\n",
       "497    0.9057\n",
       "498    0.8346\n",
       "499    0.8081\n",
       "Name: 579, Length: 500, dtype: float64"
      ]
     },
     "metadata": {},
     "output_type": "display_data"
    },
    {
     "data": {
      "text/plain": [
       "0      0.8889\n",
       "1      0.8511\n",
       "2      0.8333\n",
       "3         NaN\n",
       "4      0.8125\n",
       "        ...  \n",
       "495    0.5198\n",
       "496    0.2987\n",
       "497    0.4183\n",
       "498    0.4054\n",
       "499    0.4131\n",
       "Name: 580, Length: 500, dtype: float64"
      ]
     },
     "metadata": {},
     "output_type": "display_data"
    },
    {
     "data": {
      "text/plain": [
       "0         NaN\n",
       "1         NaN\n",
       "2      0.0189\n",
       "3         NaN\n",
       "4      0.0000\n",
       "        ...  \n",
       "495    0.0309\n",
       "496    0.0347\n",
       "497    0.0347\n",
       "498    0.0246\n",
       "499    0.0288\n",
       "Name: 581, Length: 500, dtype: float64"
      ]
     },
     "metadata": {},
     "output_type": "display_data"
    },
    {
     "data": {
      "text/plain": [
       "0      0.0250\n",
       "1      0.0000\n",
       "2         NaN\n",
       "3      0.0265\n",
       "4      0.0158\n",
       "        ...  \n",
       "495    0.0395\n",
       "496    0.0391\n",
       "497    0.0334\n",
       "498    0.0355\n",
       "499    0.0454\n",
       "Name: 582, Length: 500, dtype: float64"
      ]
     },
     "metadata": {},
     "output_type": "display_data"
    },
    {
     "data": {
      "text/plain": [
       "0      0.7632\n",
       "1      0.8462\n",
       "2      0.8462\n",
       "3      0.5050\n",
       "4      0.8861\n",
       "        ...  \n",
       "495    0.7895\n",
       "496    0.7895\n",
       "497    0.7132\n",
       "498    0.4535\n",
       "499    0.8108\n",
       "Name: 583, Length: 500, dtype: float64"
      ]
     },
     "metadata": {},
     "output_type": "display_data"
    },
    {
     "data": {
      "text/plain": [
       "0      0.0485\n",
       "1      0.0000\n",
       "2      0.0248\n",
       "3      0.0248\n",
       "4      0.0485\n",
       "        ...  \n",
       "495    0.1181\n",
       "496    0.0992\n",
       "497    0.1070\n",
       "498    0.1685\n",
       "499    0.1162\n",
       "Name: 584, Length: 500, dtype: float64"
      ]
     },
     "metadata": {},
     "output_type": "display_data"
    },
    {
     "data": {
      "text/plain": [
       "0      0.0377\n",
       "1      0.0538\n",
       "2         NaN\n",
       "3      0.1520\n",
       "4      0.0658\n",
       "        ...  \n",
       "495    0.1944\n",
       "496    0.1517\n",
       "497    0.4243\n",
       "498    0.3152\n",
       "499    0.1104\n",
       "Name: 585, Length: 500, dtype: float64"
      ]
     },
     "metadata": {},
     "output_type": "display_data"
    },
    {
     "data": {
      "text/plain": [
       "0      0.8659\n",
       "1      0.8056\n",
       "2      0.8056\n",
       "3      0.8120\n",
       "4      0.8659\n",
       "        ...  \n",
       "495    0.9114\n",
       "496    0.8898\n",
       "497    0.9203\n",
       "498    0.9102\n",
       "499    0.8839\n",
       "Name: 586, Length: 500, dtype: float64"
      ]
     },
     "metadata": {},
     "output_type": "display_data"
    },
    {
     "data": {
      "text/plain": [
       "0      0.0000\n",
       "1      0.0160\n",
       "2      0.0325\n",
       "3      0.0250\n",
       "4      0.0000\n",
       "        ...  \n",
       "495    0.1157\n",
       "496    0.1235\n",
       "497    0.1670\n",
       "498    0.1740\n",
       "499    0.1196\n",
       "Name: 587, Length: 500, dtype: float64"
      ]
     },
     "metadata": {},
     "output_type": "display_data"
    },
    {
     "data": {
      "text/plain": [
       "0      0.9034\n",
       "1      0.9690\n",
       "2      0.9247\n",
       "3      0.8649\n",
       "4      0.9690\n",
       "        ...  \n",
       "495    0.8416\n",
       "496    0.8572\n",
       "497    0.8643\n",
       "498    0.8361\n",
       "499    0.8074\n",
       "Name: 588, Length: 500, dtype: float64"
      ]
     },
     "metadata": {},
     "output_type": "display_data"
    },
    {
     "data": {
      "text/plain": [
       "0      0.9551\n",
       "1      0.9531\n",
       "2      0.9692\n",
       "3      0.9672\n",
       "4      0.9318\n",
       "        ...  \n",
       "495    0.8916\n",
       "496    0.8887\n",
       "497    0.9143\n",
       "498    0.8583\n",
       "499    0.9130\n",
       "Name: 589, Length: 500, dtype: float64"
      ]
     },
     "metadata": {},
     "output_type": "display_data"
    },
    {
     "data": {
      "text/plain": [
       "0      0.9368\n",
       "1      0.9286\n",
       "2      0.9718\n",
       "3      0.8861\n",
       "4      0.9173\n",
       "        ...  \n",
       "495    0.8778\n",
       "496    0.8722\n",
       "497    0.8499\n",
       "498    0.8778\n",
       "499    0.8800\n",
       "Name: 590, Length: 500, dtype: float64"
      ]
     },
     "metadata": {},
     "output_type": "display_data"
    },
    {
     "data": {
      "text/plain": [
       "0      0.8571\n",
       "1      0.7955\n",
       "2      0.6894\n",
       "3      0.8652\n",
       "4      0.7252\n",
       "        ...  \n",
       "495    0.8925\n",
       "496    0.8898\n",
       "497    0.8903\n",
       "498    0.8341\n",
       "499    0.9148\n",
       "Name: 591, Length: 500, dtype: float64"
      ]
     },
     "metadata": {},
     "output_type": "display_data"
    },
    {
     "data": {
      "text/plain": [
       "0      0.9620\n",
       "1      0.9241\n",
       "2      1.0000\n",
       "3      1.0000\n",
       "4      0.9583\n",
       "        ...  \n",
       "495    0.9117\n",
       "496    0.9343\n",
       "497    0.9236\n",
       "498    0.9116\n",
       "499    0.9196\n",
       "Name: 592, Length: 500, dtype: float64"
      ]
     },
     "metadata": {},
     "output_type": "display_data"
    },
    {
     "data": {
      "text/plain": [
       "0      0.8596\n",
       "1      0.9048\n",
       "2      0.8769\n",
       "3      0.9359\n",
       "4      0.7013\n",
       "        ...  \n",
       "495    0.8191\n",
       "496    0.7833\n",
       "497    0.8672\n",
       "498    0.8654\n",
       "499    0.8213\n",
       "Name: 593, Length: 500, dtype: float64"
      ]
     },
     "metadata": {},
     "output_type": "display_data"
    },
    {
     "data": {
      "text/plain": [
       "0      0.1707\n",
       "1      0.2581\n",
       "2         NaN\n",
       "3      0.0976\n",
       "4         NaN\n",
       "        ...  \n",
       "495    0.1313\n",
       "496    0.4105\n",
       "497    0.1257\n",
       "498    0.3603\n",
       "499    0.5051\n",
       "Name: 594, Length: 500, dtype: float64"
      ]
     },
     "metadata": {},
     "output_type": "display_data"
    },
    {
     "data": {
      "text/plain": [
       "0      0.8125\n",
       "1      0.8222\n",
       "2         NaN\n",
       "3         NaN\n",
       "4         NaN\n",
       "        ...  \n",
       "495       NaN\n",
       "496       NaN\n",
       "497       NaN\n",
       "498       NaN\n",
       "499       NaN\n",
       "Name: 595, Length: 500, dtype: float64"
      ]
     },
     "metadata": {},
     "output_type": "display_data"
    },
    {
     "data": {
      "text/plain": [
       "0      0.7414\n",
       "1         NaN\n",
       "2         NaN\n",
       "3      0.9714\n",
       "4      0.8403\n",
       "        ...  \n",
       "495    0.5460\n",
       "496    0.6346\n",
       "497    0.4678\n",
       "498    0.3140\n",
       "499    0.3412\n",
       "Name: 596, Length: 500, dtype: float64"
      ]
     },
     "metadata": {},
     "output_type": "display_data"
    },
    {
     "data": {
      "text/plain": [
       "0      0.9592\n",
       "1         NaN\n",
       "2      0.8684\n",
       "3      0.9016\n",
       "4      1.0000\n",
       "        ...  \n",
       "495    0.6737\n",
       "496    0.7208\n",
       "497    0.4678\n",
       "498    0.5703\n",
       "499    0.7677\n",
       "Name: 597, Length: 500, dtype: float64"
      ]
     },
     "metadata": {},
     "output_type": "display_data"
    },
    {
     "data": {
      "text/plain": [
       "0      0.0085\n",
       "1      0.0085\n",
       "2      0.0093\n",
       "3      0.0000\n",
       "4      0.0211\n",
       "        ...  \n",
       "495    0.0521\n",
       "496    0.0540\n",
       "497    0.0607\n",
       "498    0.0700\n",
       "499    0.0753\n",
       "Name: 598, Length: 500, dtype: float64"
      ]
     },
     "metadata": {},
     "output_type": "display_data"
    },
    {
     "data": {
      "text/plain": [
       "0      0.0123\n",
       "1      0.0260\n",
       "2      0.0189\n",
       "3      0.0325\n",
       "4      0.0278\n",
       "        ...  \n",
       "495    0.1437\n",
       "496    0.0571\n",
       "497    0.0461\n",
       "498    0.0697\n",
       "499    0.0649\n",
       "Name: 599, Length: 500, dtype: float64"
      ]
     },
     "metadata": {},
     "output_type": "display_data"
    },
    {
     "data": {
      "text/plain": [
       "0      0.0208\n",
       "1      0.0227\n",
       "2      0.0244\n",
       "3      0.0141\n",
       "4      0.0375\n",
       "        ...  \n",
       "495    0.0480\n",
       "496    0.0543\n",
       "497    0.0555\n",
       "498    0.0645\n",
       "499    0.0589\n",
       "Name: 600, Length: 500, dtype: float64"
      ]
     },
     "metadata": {},
     "output_type": "display_data"
    },
    {
     "data": {
      "text/plain": [
       "0      0.0328\n",
       "1      0.0336\n",
       "2      0.0435\n",
       "3      0.0435\n",
       "4      0.0093\n",
       "        ...  \n",
       "495    0.0353\n",
       "496    0.0504\n",
       "497    0.0857\n",
       "498    0.0809\n",
       "499    0.0426\n",
       "Name: 601, Length: 500, dtype: float64"
      ]
     },
     "metadata": {},
     "output_type": "display_data"
    },
    {
     "data": {
      "text/plain": [
       "0      0.1683\n",
       "1      0.1414\n",
       "2      0.1206\n",
       "3      0.1414\n",
       "4      0.1028\n",
       "        ...  \n",
       "495    0.5334\n",
       "496    0.5470\n",
       "497    0.4913\n",
       "498    0.5379\n",
       "499    0.5848\n",
       "Name: 602, Length: 500, dtype: float64"
      ]
     },
     "metadata": {},
     "output_type": "display_data"
    },
    {
     "data": {
      "text/plain": [
       "0      0.0000\n",
       "1      0.0213\n",
       "2      0.0123\n",
       "3      0.0000\n",
       "4      0.0050\n",
       "        ...  \n",
       "495    0.0467\n",
       "496    0.0668\n",
       "497    0.2448\n",
       "498    0.0700\n",
       "499    0.1077\n",
       "Name: 603, Length: 500, dtype: float64"
      ]
     },
     "metadata": {},
     "output_type": "display_data"
    },
    {
     "data": {
      "text/plain": [
       "0      0.7552\n",
       "1      0.7160\n",
       "2      0.7094\n",
       "3      0.8581\n",
       "4      0.7644\n",
       "        ...  \n",
       "495    0.7098\n",
       "496    0.6871\n",
       "497    0.7470\n",
       "498    0.6627\n",
       "499    0.5224\n",
       "Name: 604, Length: 500, dtype: float64"
      ]
     },
     "metadata": {},
     "output_type": "display_data"
    },
    {
     "data": {
      "text/plain": [
       "0      0.0872\n",
       "1      0.0652\n",
       "2      0.0803\n",
       "3      0.0354\n",
       "4      0.0625\n",
       "        ...  \n",
       "495    0.4130\n",
       "496    0.5372\n",
       "497    0.5199\n",
       "498    0.4030\n",
       "499    0.4242\n",
       "Name: 605, Length: 500, dtype: float64"
      ]
     },
     "metadata": {},
     "output_type": "display_data"
    },
    {
     "data": {
      "text/plain": [
       "0      0.1006\n",
       "1      0.0399\n",
       "2      0.1395\n",
       "3      0.0526\n",
       "4      0.0550\n",
       "        ...  \n",
       "495    0.5382\n",
       "496    0.4438\n",
       "497    0.3844\n",
       "498    0.4147\n",
       "499    0.5659\n",
       "Name: 606, Length: 500, dtype: float64"
      ]
     },
     "metadata": {},
     "output_type": "display_data"
    },
    {
     "data": {
      "text/plain": [
       "0      0.9333\n",
       "1      0.8889\n",
       "2      0.8889\n",
       "3      0.8952\n",
       "4      0.9167\n",
       "        ...  \n",
       "495    0.5502\n",
       "496    0.5973\n",
       "497    0.2709\n",
       "498    0.7450\n",
       "499    0.6473\n",
       "Name: 607, Length: 500, dtype: float64"
      ]
     },
     "metadata": {},
     "output_type": "display_data"
    },
    {
     "data": {
      "text/plain": [
       "0      0.2152\n",
       "1      0.2201\n",
       "2      0.1742\n",
       "3      0.1300\n",
       "4      0.2201\n",
       "        ...  \n",
       "495    0.7148\n",
       "496    0.5881\n",
       "497    0.5845\n",
       "498    0.4766\n",
       "499    0.6875\n",
       "Name: 608, Length: 500, dtype: float64"
      ]
     },
     "metadata": {},
     "output_type": "display_data"
    },
    {
     "data": {
      "text/plain": [
       "0      0.9344\n",
       "1      0.9636\n",
       "2      0.8156\n",
       "3      0.8191\n",
       "4      0.7315\n",
       "        ...  \n",
       "495    0.7325\n",
       "496    0.6415\n",
       "497    0.5819\n",
       "498    0.3770\n",
       "499    0.5248\n",
       "Name: 609, Length: 500, dtype: float64"
      ]
     },
     "metadata": {},
     "output_type": "display_data"
    },
    {
     "data": {
      "text/plain": [
       "0      0.9125\n",
       "1      0.9167\n",
       "2      0.8065\n",
       "3      0.8000\n",
       "4      0.8617\n",
       "        ...  \n",
       "495    0.5939\n",
       "496    0.5949\n",
       "497    0.7506\n",
       "498    0.5648\n",
       "499    0.5886\n",
       "Name: 610, Length: 500, dtype: float64"
      ]
     },
     "metadata": {},
     "output_type": "display_data"
    },
    {
     "data": {
      "text/plain": [
       "0      0.0000\n",
       "1      0.0142\n",
       "2      0.0171\n",
       "3      0.0208\n",
       "4      0.0385\n",
       "        ...  \n",
       "495    0.4262\n",
       "496    0.0389\n",
       "497    0.1158\n",
       "498    0.0443\n",
       "499    0.1824\n",
       "Name: 611, Length: 500, dtype: float64"
      ]
     },
     "metadata": {},
     "output_type": "display_data"
    },
    {
     "data": {
      "text/plain": [
       "0      0.0043\n",
       "1      0.0143\n",
       "2      0.0021\n",
       "3      0.0143\n",
       "4      0.0035\n",
       "        ...  \n",
       "495    0.0543\n",
       "496    0.0411\n",
       "497    0.0656\n",
       "498    0.0564\n",
       "499    0.0589\n",
       "Name: 612, Length: 500, dtype: float64"
      ]
     },
     "metadata": {},
     "output_type": "display_data"
    },
    {
     "data": {
      "text/plain": [
       "0      0.8293\n",
       "1      0.8649\n",
       "2         NaN\n",
       "3      0.7234\n",
       "4      0.6292\n",
       "        ...  \n",
       "495    0.7648\n",
       "496    0.8021\n",
       "497    0.6797\n",
       "498    0.7580\n",
       "499    0.7382\n",
       "Name: 613, Length: 500, dtype: float64"
      ]
     },
     "metadata": {},
     "output_type": "display_data"
    },
    {
     "data": {
      "text/plain": [
       "0      0.0000\n",
       "1      0.0049\n",
       "2      0.0000\n",
       "3      0.0049\n",
       "4      0.0066\n",
       "        ...  \n",
       "495    0.0193\n",
       "496    0.0284\n",
       "497    0.0233\n",
       "498    0.0256\n",
       "499    0.0226\n",
       "Name: 614, Length: 500, dtype: float64"
      ]
     },
     "metadata": {},
     "output_type": "display_data"
    },
    {
     "data": {
      "text/plain": [
       "0      0.3636\n",
       "1      0.4884\n",
       "2      0.3333\n",
       "3      0.2727\n",
       "4         NaN\n",
       "        ...  \n",
       "495       NaN\n",
       "496       NaN\n",
       "497       NaN\n",
       "498       NaN\n",
       "499       NaN\n",
       "Name: 615, Length: 500, dtype: float64"
      ]
     },
     "metadata": {},
     "output_type": "display_data"
    },
    {
     "data": {
      "text/plain": [
       "0      0.8208\n",
       "1      0.8834\n",
       "2      0.9323\n",
       "3      0.8310\n",
       "4      0.9128\n",
       "        ...  \n",
       "495    0.9009\n",
       "496    0.7805\n",
       "497    0.8351\n",
       "498    0.4402\n",
       "499    0.8264\n",
       "Name: 616, Length: 500, dtype: float64"
      ]
     },
     "metadata": {},
     "output_type": "display_data"
    },
    {
     "data": {
      "text/plain": [
       "0      0.0000\n",
       "1      0.0000\n",
       "2      0.0055\n",
       "3      0.0000\n",
       "4      0.0101\n",
       "        ...  \n",
       "495    0.0440\n",
       "496    0.0391\n",
       "497    0.0371\n",
       "498    0.0428\n",
       "499    0.0359\n",
       "Name: 617, Length: 500, dtype: float64"
      ]
     },
     "metadata": {},
     "output_type": "display_data"
    },
    {
     "data": {
      "text/plain": [
       "0      0.7209\n",
       "1      0.9384\n",
       "2      0.8583\n",
       "3      0.9474\n",
       "4      0.9362\n",
       "        ...  \n",
       "495    0.6886\n",
       "496    0.7438\n",
       "497    0.6883\n",
       "498    0.5874\n",
       "499    0.6168\n",
       "Name: 618, Length: 500, dtype: float64"
      ]
     },
     "metadata": {},
     "output_type": "display_data"
    },
    {
     "data": {
      "text/plain": [
       "0      0.0593\n",
       "1      0.2169\n",
       "2      0.2115\n",
       "3      0.1937\n",
       "4      0.2125\n",
       "        ...  \n",
       "495    0.0904\n",
       "496    0.0767\n",
       "497    0.0812\n",
       "498    0.0795\n",
       "499    0.0822\n",
       "Name: 619, Length: 500, dtype: float64"
      ]
     },
     "metadata": {},
     "output_type": "display_data"
    },
    {
     "data": {
      "text/plain": [
       "0      0.9370\n",
       "1      0.9378\n",
       "2      0.9130\n",
       "3      0.9437\n",
       "4      0.9636\n",
       "        ...  \n",
       "495    0.9048\n",
       "496    0.9123\n",
       "497    0.8788\n",
       "498    0.8114\n",
       "499    0.8795\n",
       "Name: 620, Length: 500, dtype: float64"
      ]
     },
     "metadata": {},
     "output_type": "display_data"
    },
    {
     "data": {
      "text/plain": [
       "0      0.7900\n",
       "1      0.8039\n",
       "2         NaN\n",
       "3      0.7895\n",
       "4      0.7739\n",
       "        ...  \n",
       "495    0.6622\n",
       "496    0.4894\n",
       "497    0.6703\n",
       "498    0.6215\n",
       "499    0.8568\n",
       "Name: 621, Length: 500, dtype: float64"
      ]
     },
     "metadata": {},
     "output_type": "display_data"
    },
    {
     "data": {
      "text/plain": [
       "0      0.0000\n",
       "1      0.0000\n",
       "2      0.0000\n",
       "3      0.0000\n",
       "4      0.0000\n",
       "        ...  \n",
       "495    0.0446\n",
       "496    0.0383\n",
       "497    0.0564\n",
       "498    0.0535\n",
       "499    0.0502\n",
       "Name: 622, Length: 500, dtype: float64"
      ]
     },
     "metadata": {},
     "output_type": "display_data"
    },
    {
     "data": {
      "text/plain": [
       "0      0.0000\n",
       "1      0.0217\n",
       "2      0.0048\n",
       "3      0.0000\n",
       "4      0.0000\n",
       "        ...  \n",
       "495    0.4279\n",
       "496    0.0444\n",
       "497    0.0388\n",
       "498    0.0446\n",
       "499    0.1126\n",
       "Name: 623, Length: 500, dtype: float64"
      ]
     },
     "metadata": {},
     "output_type": "display_data"
    },
    {
     "data": {
      "text/plain": [
       "0      0.4333\n",
       "1      0.3968\n",
       "2      0.4333\n",
       "3      0.5200\n",
       "4      0.7879\n",
       "        ...  \n",
       "495    0.3425\n",
       "496    0.7970\n",
       "497    0.0657\n",
       "498    0.2864\n",
       "499    0.4425\n",
       "Name: 624, Length: 500, dtype: float64"
      ]
     },
     "metadata": {},
     "output_type": "display_data"
    },
    {
     "data": {
      "text/plain": [
       "0      0.0000\n",
       "1      0.0000\n",
       "2      0.0000\n",
       "3      0.0000\n",
       "4      0.0000\n",
       "        ...  \n",
       "495    0.0831\n",
       "496    0.0670\n",
       "497    0.0840\n",
       "498    0.0831\n",
       "499    0.0539\n",
       "Name: 625, Length: 500, dtype: float64"
      ]
     },
     "metadata": {},
     "output_type": "display_data"
    },
    {
     "data": {
      "text/plain": [
       "0      0.0426\n",
       "1      0.0741\n",
       "2      0.1121\n",
       "3         NaN\n",
       "4      0.0940\n",
       "        ...  \n",
       "495    0.0930\n",
       "496    0.1046\n",
       "497    0.1008\n",
       "498    0.0962\n",
       "499    0.0772\n",
       "Name: 626, Length: 500, dtype: float64"
      ]
     },
     "metadata": {},
     "output_type": "display_data"
    },
    {
     "data": {
      "text/plain": [
       "0      1.0000\n",
       "1      1.0000\n",
       "2      1.0000\n",
       "3      1.0000\n",
       "4      0.9250\n",
       "        ...  \n",
       "495    0.9426\n",
       "496    0.9616\n",
       "497    0.9701\n",
       "498    0.9690\n",
       "499    0.9574\n",
       "Name: 627, Length: 500, dtype: float64"
      ]
     },
     "metadata": {},
     "output_type": "display_data"
    },
    {
     "data": {
      "text/plain": [
       "0      0.8434\n",
       "1      0.9250\n",
       "2      0.8431\n",
       "3      0.8434\n",
       "4      0.9366\n",
       "        ...  \n",
       "495    0.9101\n",
       "496    0.8545\n",
       "497    0.8663\n",
       "498    0.8174\n",
       "499    0.7979\n",
       "Name: 628, Length: 500, dtype: float64"
      ]
     },
     "metadata": {},
     "output_type": "display_data"
    },
    {
     "data": {
      "text/plain": [
       "0      0.2273\n",
       "1      0.0368\n",
       "2      0.1314\n",
       "3      0.0603\n",
       "4      0.1062\n",
       "        ...  \n",
       "495       NaN\n",
       "496       NaN\n",
       "497       NaN\n",
       "498       NaN\n",
       "499       NaN\n",
       "Name: 629, Length: 500, dtype: float64"
      ]
     },
     "metadata": {},
     "output_type": "display_data"
    },
    {
     "data": {
      "text/plain": [
       "0      0.0000\n",
       "1      0.0000\n",
       "2      0.0000\n",
       "3      0.0000\n",
       "4      0.0000\n",
       "        ...  \n",
       "495    0.0817\n",
       "496    0.0694\n",
       "497    0.0689\n",
       "498    0.0590\n",
       "499    0.1191\n",
       "Name: 630, Length: 500, dtype: float64"
      ]
     },
     "metadata": {},
     "output_type": "display_data"
    },
    {
     "data": {
      "text/plain": [
       "0      0.0000\n",
       "1      0.0000\n",
       "2      0.0000\n",
       "3      0.0000\n",
       "4      0.0000\n",
       "        ...  \n",
       "495    0.0248\n",
       "496    0.0372\n",
       "497    0.0254\n",
       "498    0.0444\n",
       "499    0.0207\n",
       "Name: 631, Length: 500, dtype: float64"
      ]
     },
     "metadata": {},
     "output_type": "display_data"
    },
    {
     "data": {
      "text/plain": [
       "0      0.0638\n",
       "1      0.0506\n",
       "2      0.0763\n",
       "3      0.1000\n",
       "4      0.1269\n",
       "        ...  \n",
       "495    0.2832\n",
       "496    0.2841\n",
       "497    0.3790\n",
       "498    0.2210\n",
       "499    0.3966\n",
       "Name: 632, Length: 500, dtype: float64"
      ]
     },
     "metadata": {},
     "output_type": "display_data"
    },
    {
     "data": {
      "text/plain": [
       "0      0.0750\n",
       "1      0.0556\n",
       "2      0.0137\n",
       "3      0.0686\n",
       "4      0.0750\n",
       "        ...  \n",
       "495    0.2255\n",
       "496    0.1012\n",
       "497    0.0771\n",
       "498    0.2395\n",
       "499    0.1550\n",
       "Name: 633, Length: 500, dtype: float64"
      ]
     },
     "metadata": {},
     "output_type": "display_data"
    },
    {
     "data": {
      "text/plain": [
       "0      0.9032\n",
       "1      0.8548\n",
       "2      0.9067\n",
       "3      0.9107\n",
       "4      0.9107\n",
       "        ...  \n",
       "495    0.5163\n",
       "496    0.4840\n",
       "497    0.4875\n",
       "498    0.4908\n",
       "499    0.4458\n",
       "Name: 634, Length: 500, dtype: float64"
      ]
     },
     "metadata": {},
     "output_type": "display_data"
    },
    {
     "data": {
      "text/plain": [
       "0      0.9167\n",
       "1      0.8750\n",
       "2      0.9324\n",
       "3      0.9241\n",
       "4      0.8947\n",
       "        ...  \n",
       "495    0.6697\n",
       "496    0.7222\n",
       "497    0.8489\n",
       "498    0.7472\n",
       "499    0.8506\n",
       "Name: 635, Length: 500, dtype: float64"
      ]
     },
     "metadata": {},
     "output_type": "display_data"
    },
    {
     "data": {
      "text/plain": [
       "0      0.8693\n",
       "1      0.7938\n",
       "2      0.9179\n",
       "3      0.8308\n",
       "4      0.9085\n",
       "        ...  \n",
       "495    0.6281\n",
       "496    0.4242\n",
       "497    0.8126\n",
       "498    0.4569\n",
       "499    0.3947\n",
       "Name: 636, Length: 500, dtype: float64"
      ]
     },
     "metadata": {},
     "output_type": "display_data"
    },
    {
     "data": {
      "text/plain": [
       "0      0.9242\n",
       "1      0.9242\n",
       "2      0.9138\n",
       "3      0.8681\n",
       "4      0.9074\n",
       "        ...  \n",
       "495    0.5345\n",
       "496    0.6406\n",
       "497    0.5202\n",
       "498    0.7748\n",
       "499    0.7491\n",
       "Name: 637, Length: 500, dtype: float64"
      ]
     },
     "metadata": {},
     "output_type": "display_data"
    },
    {
     "data": {
      "text/plain": [
       "0      0.9060\n",
       "1      0.9596\n",
       "2      0.9403\n",
       "3      0.8788\n",
       "4      0.8864\n",
       "        ...  \n",
       "495       NaN\n",
       "496       NaN\n",
       "497       NaN\n",
       "498       NaN\n",
       "499       NaN\n",
       "Name: 638, Length: 500, dtype: float64"
      ]
     },
     "metadata": {},
     "output_type": "display_data"
    },
    {
     "data": {
      "text/plain": [
       "0         NaN\n",
       "1      0.2368\n",
       "2         NaN\n",
       "3      0.0000\n",
       "4         NaN\n",
       "        ...  \n",
       "495    0.4934\n",
       "496    0.2337\n",
       "497    0.2314\n",
       "498    0.3550\n",
       "499    0.3226\n",
       "Name: 639, Length: 500, dtype: float64"
      ]
     },
     "metadata": {},
     "output_type": "display_data"
    },
    {
     "data": {
      "text/plain": [
       "0      0.8621\n",
       "1      0.8621\n",
       "2      0.9024\n",
       "3      0.8793\n",
       "4      0.8690\n",
       "        ...  \n",
       "495    0.6242\n",
       "496    0.5998\n",
       "497    0.6710\n",
       "498    0.5543\n",
       "499    0.5974\n",
       "Name: 640, Length: 500, dtype: float64"
      ]
     },
     "metadata": {},
     "output_type": "display_data"
    },
    {
     "data": {
      "text/plain": [
       "0         NaN\n",
       "1         NaN\n",
       "2         NaN\n",
       "3         NaN\n",
       "4      0.1622\n",
       "        ...  \n",
       "495    0.3774\n",
       "496    0.3176\n",
       "497    0.3341\n",
       "498    0.3555\n",
       "499    0.3461\n",
       "Name: 641, Length: 500, dtype: float64"
      ]
     },
     "metadata": {},
     "output_type": "display_data"
    },
    {
     "data": {
      "text/plain": [
       "0      0.0000\n",
       "1      0.0105\n",
       "2      0.0326\n",
       "3      0.0000\n",
       "4      0.0102\n",
       "        ...  \n",
       "495    0.0195\n",
       "496    0.0292\n",
       "497    0.0284\n",
       "498    0.0253\n",
       "499    0.0339\n",
       "Name: 642, Length: 500, dtype: float64"
      ]
     },
     "metadata": {},
     "output_type": "display_data"
    },
    {
     "data": {
      "text/plain": [
       "0      0.0350\n",
       "1      0.0418\n",
       "2      0.0277\n",
       "3      0.0745\n",
       "4      0.0277\n",
       "        ...  \n",
       "495    0.0492\n",
       "496    0.0386\n",
       "497    0.0563\n",
       "498    0.0630\n",
       "499    0.0377\n",
       "Name: 643, Length: 500, dtype: float64"
      ]
     },
     "metadata": {},
     "output_type": "display_data"
    },
    {
     "data": {
      "text/plain": [
       "0      0.9348\n",
       "1      0.9730\n",
       "2         NaN\n",
       "3      0.9630\n",
       "4      0.9848\n",
       "        ...  \n",
       "495    0.8594\n",
       "496    0.8676\n",
       "497    0.8975\n",
       "498    0.9230\n",
       "499    0.8683\n",
       "Name: 644, Length: 500, dtype: float64"
      ]
     },
     "metadata": {},
     "output_type": "display_data"
    },
    {
     "data": {
      "text/plain": [
       "0      0.8529\n",
       "1      0.9670\n",
       "2      0.9853\n",
       "3         NaN\n",
       "4      0.9385\n",
       "        ...  \n",
       "495    0.9459\n",
       "496    0.9221\n",
       "497    0.9274\n",
       "498    0.9418\n",
       "499    0.9358\n",
       "Name: 645, Length: 500, dtype: float64"
      ]
     },
     "metadata": {},
     "output_type": "display_data"
    },
    {
     "data": {
      "text/plain": [
       "0      0.0000\n",
       "1      0.0082\n",
       "2      0.0000\n",
       "3      0.0000\n",
       "4      0.0000\n",
       "        ...  \n",
       "495    0.0702\n",
       "496    0.0589\n",
       "497    0.0517\n",
       "498    0.0610\n",
       "499    0.0851\n",
       "Name: 646, Length: 500, dtype: float64"
      ]
     },
     "metadata": {},
     "output_type": "display_data"
    },
    {
     "data": {
      "text/plain": [
       "0      0.2581\n",
       "1      0.1628\n",
       "2      0.6000\n",
       "3      0.6190\n",
       "4         NaN\n",
       "        ...  \n",
       "495       NaN\n",
       "496       NaN\n",
       "497       NaN\n",
       "498       NaN\n",
       "499       NaN\n",
       "Name: 647, Length: 500, dtype: float64"
      ]
     },
     "metadata": {},
     "output_type": "display_data"
    },
    {
     "data": {
      "text/plain": [
       "0         NaN\n",
       "1         NaN\n",
       "2         NaN\n",
       "3         NaN\n",
       "4         NaN\n",
       "        ...  \n",
       "495    0.0737\n",
       "496    0.0655\n",
       "497    0.0693\n",
       "498    0.0726\n",
       "499    0.0788\n",
       "Name: 648, Length: 500, dtype: float64"
      ]
     },
     "metadata": {},
     "output_type": "display_data"
    },
    {
     "data": {
      "text/plain": [
       "0      0.6796\n",
       "1      0.6763\n",
       "2      0.7653\n",
       "3      0.7324\n",
       "4      0.8015\n",
       "        ...  \n",
       "495    0.5004\n",
       "496    0.7457\n",
       "497    0.6605\n",
       "498    0.6444\n",
       "499    0.6739\n",
       "Name: 649, Length: 500, dtype: float64"
      ]
     },
     "metadata": {},
     "output_type": "display_data"
    },
    {
     "data": {
      "text/plain": [
       "0      0.9186\n",
       "1      0.8786\n",
       "2      0.7680\n",
       "3      0.7489\n",
       "4      0.6016\n",
       "        ...  \n",
       "495    0.8961\n",
       "496    0.7799\n",
       "497    0.8293\n",
       "498    0.7938\n",
       "499    0.7711\n",
       "Name: 650, Length: 500, dtype: float64"
      ]
     },
     "metadata": {},
     "output_type": "display_data"
    },
    {
     "data": {
      "text/plain": [
       "0      0.8103\n",
       "1      0.8140\n",
       "2      0.7949\n",
       "3      0.8571\n",
       "4      0.8605\n",
       "        ...  \n",
       "495       NaN\n",
       "496       NaN\n",
       "497       NaN\n",
       "498       NaN\n",
       "499       NaN\n",
       "Name: 651, Length: 500, dtype: float64"
      ]
     },
     "metadata": {},
     "output_type": "display_data"
    },
    {
     "data": {
      "text/plain": [
       "0      0.0000\n",
       "1      0.0135\n",
       "2      0.0200\n",
       "3      0.0208\n",
       "4      0.0091\n",
       "        ...  \n",
       "495    0.0987\n",
       "496    0.0678\n",
       "497    0.0776\n",
       "498    0.2834\n",
       "499    0.0571\n",
       "Name: 652, Length: 500, dtype: float64"
      ]
     },
     "metadata": {},
     "output_type": "display_data"
    },
    {
     "data": {
      "text/plain": [
       "0      0.0090\n",
       "1      0.0000\n",
       "2      0.0145\n",
       "3      0.0327\n",
       "4      0.0000\n",
       "        ...  \n",
       "495    0.0599\n",
       "496    0.0432\n",
       "497    0.0516\n",
       "498    0.0506\n",
       "499    0.0549\n",
       "Name: 653, Length: 500, dtype: float64"
      ]
     },
     "metadata": {},
     "output_type": "display_data"
    },
    {
     "data": {
      "text/plain": [
       "0      0.0047\n",
       "1      0.0063\n",
       "2      0.0063\n",
       "3      0.0000\n",
       "4      0.0000\n",
       "        ...  \n",
       "495    0.0307\n",
       "496    0.0320\n",
       "497    0.0340\n",
       "498    0.0338\n",
       "499    0.0286\n",
       "Name: 654, Length: 500, dtype: float64"
      ]
     },
     "metadata": {},
     "output_type": "display_data"
    },
    {
     "data": {
      "text/plain": [
       "0      0.9592\n",
       "1      1.0000\n",
       "2      0.9538\n",
       "3      0.9844\n",
       "4      0.9789\n",
       "        ...  \n",
       "495    0.9424\n",
       "496    0.9383\n",
       "497    0.9089\n",
       "498    0.9182\n",
       "499    0.9512\n",
       "Name: 655, Length: 500, dtype: float64"
      ]
     },
     "metadata": {},
     "output_type": "display_data"
    },
    {
     "data": {
      "text/plain": [
       "0      0.0062\n",
       "1      0.0000\n",
       "2      0.0156\n",
       "3      0.0060\n",
       "4      0.0000\n",
       "        ...  \n",
       "495    0.0594\n",
       "496    0.0840\n",
       "497    0.0694\n",
       "498    0.0551\n",
       "499    0.0589\n",
       "Name: 656, Length: 500, dtype: float64"
      ]
     },
     "metadata": {},
     "output_type": "display_data"
    },
    {
     "data": {
      "text/plain": [
       "0      0.2121\n",
       "1      0.1144\n",
       "2      0.1202\n",
       "3      0.1181\n",
       "4      0.1872\n",
       "        ...  \n",
       "495    0.1473\n",
       "496    0.1861\n",
       "497    0.1209\n",
       "498    0.1417\n",
       "499    0.1095\n",
       "Name: 657, Length: 500, dtype: float64"
      ]
     },
     "metadata": {},
     "output_type": "display_data"
    },
    {
     "data": {
      "text/plain": [
       "0      0.7347\n",
       "1      0.8438\n",
       "2      0.8400\n",
       "3      0.7027\n",
       "4      0.7027\n",
       "        ...  \n",
       "495    0.4439\n",
       "496    0.7622\n",
       "497    0.7686\n",
       "498    0.5700\n",
       "499    0.7379\n",
       "Name: 658, Length: 500, dtype: float64"
      ]
     },
     "metadata": {},
     "output_type": "display_data"
    },
    {
     "data": {
      "text/plain": [
       "0      0.1944\n",
       "1      0.1068\n",
       "2      0.1732\n",
       "3      0.0930\n",
       "4      0.1429\n",
       "        ...  \n",
       "495    0.2240\n",
       "496    0.1465\n",
       "497    0.1448\n",
       "498    0.2190\n",
       "499    0.2151\n",
       "Name: 659, Length: 500, dtype: float64"
      ]
     },
     "metadata": {},
     "output_type": "display_data"
    },
    {
     "data": {
      "text/plain": [
       "0      0.4722\n",
       "1      0.5349\n",
       "2      0.4747\n",
       "3      0.6774\n",
       "4      0.3548\n",
       "        ...  \n",
       "495    0.5156\n",
       "496    0.6085\n",
       "497    0.7533\n",
       "498    0.8022\n",
       "499    0.7306\n",
       "Name: 660, Length: 500, dtype: float64"
      ]
     },
     "metadata": {},
     "output_type": "display_data"
    },
    {
     "data": {
      "text/plain": [
       "0      0.0369\n",
       "1      0.0092\n",
       "2      0.0195\n",
       "3      0.0157\n",
       "4      0.0153\n",
       "        ...  \n",
       "495    0.1531\n",
       "496    0.1935\n",
       "497    0.1386\n",
       "498    0.1079\n",
       "499    0.1265\n",
       "Name: 661, Length: 500, dtype: float64"
      ]
     },
     "metadata": {},
     "output_type": "display_data"
    },
    {
     "data": {
      "text/plain": [
       "0      0.7541\n",
       "1         NaN\n",
       "2      0.7286\n",
       "3         NaN\n",
       "4      0.6585\n",
       "        ...  \n",
       "495    0.8681\n",
       "496    0.8359\n",
       "497    0.9088\n",
       "498    0.4084\n",
       "499    0.9137\n",
       "Name: 662, Length: 500, dtype: float64"
      ]
     },
     "metadata": {},
     "output_type": "display_data"
    },
    {
     "data": {
      "text/plain": [
       "0      0.8430\n",
       "1      0.8881\n",
       "2      0.8881\n",
       "3      0.8881\n",
       "4      0.8452\n",
       "        ...  \n",
       "495    0.8619\n",
       "496    0.8313\n",
       "497    0.8147\n",
       "498    0.8995\n",
       "499    0.8573\n",
       "Name: 663, Length: 500, dtype: float64"
      ]
     },
     "metadata": {},
     "output_type": "display_data"
    },
    {
     "data": {
      "text/plain": [
       "0      0.9258\n",
       "1      0.9258\n",
       "2      0.9388\n",
       "3      0.9647\n",
       "4      0.9633\n",
       "        ...  \n",
       "495    0.9526\n",
       "496    0.9172\n",
       "497    0.9212\n",
       "498    0.9528\n",
       "499    0.9447\n",
       "Name: 664, Length: 500, dtype: float64"
      ]
     },
     "metadata": {},
     "output_type": "display_data"
    },
    {
     "data": {
      "text/plain": [
       "0      0.8765\n",
       "1      0.8125\n",
       "2      0.8784\n",
       "3      0.6522\n",
       "4      0.8372\n",
       "        ...  \n",
       "495    0.8581\n",
       "496    0.8258\n",
       "497    0.8836\n",
       "498    0.8385\n",
       "499    0.8861\n",
       "Name: 665, Length: 500, dtype: float64"
      ]
     },
     "metadata": {},
     "output_type": "display_data"
    },
    {
     "data": {
      "text/plain": [
       "0      0.9064\n",
       "1      0.9064\n",
       "2      0.9064\n",
       "3      0.9215\n",
       "4      0.9085\n",
       "        ...  \n",
       "495    0.9544\n",
       "496    0.8956\n",
       "497    0.9416\n",
       "498    0.9101\n",
       "499    0.9646\n",
       "Name: 666, Length: 500, dtype: float64"
      ]
     },
     "metadata": {},
     "output_type": "display_data"
    },
    {
     "data": {
      "text/plain": [
       "0      0.8873\n",
       "1         NaN\n",
       "2         NaN\n",
       "3      1.0000\n",
       "4      0.8873\n",
       "        ...  \n",
       "495    0.9478\n",
       "496    0.9482\n",
       "497    0.9623\n",
       "498    0.9497\n",
       "499    0.8756\n",
       "Name: 667, Length: 500, dtype: float64"
      ]
     },
     "metadata": {},
     "output_type": "display_data"
    },
    {
     "data": {
      "text/plain": [
       "0      0.9531\n",
       "1      0.9492\n",
       "2      0.9425\n",
       "3      0.9187\n",
       "4      0.9492\n",
       "        ...  \n",
       "495    0.8581\n",
       "496    0.8839\n",
       "497    0.8615\n",
       "498    0.8878\n",
       "499    0.8927\n",
       "Name: 668, Length: 500, dtype: float64"
      ]
     },
     "metadata": {},
     "output_type": "display_data"
    },
    {
     "data": {
      "text/plain": [
       "0      0.9470\n",
       "1      0.9091\n",
       "2      0.9730\n",
       "3      0.9915\n",
       "4      0.9438\n",
       "        ...  \n",
       "495       NaN\n",
       "496       NaN\n",
       "497       NaN\n",
       "498       NaN\n",
       "499       NaN\n",
       "Name: 669, Length: 500, dtype: float64"
      ]
     },
     "metadata": {},
     "output_type": "display_data"
    },
    {
     "data": {
      "text/plain": [
       "0      0.9583\n",
       "1      0.9211\n",
       "2      0.9785\n",
       "3      0.9672\n",
       "4      0.9700\n",
       "        ...  \n",
       "495    0.5985\n",
       "496    0.6008\n",
       "497    0.4999\n",
       "498    0.6493\n",
       "499    0.6598\n",
       "Name: 670, Length: 500, dtype: float64"
      ]
     },
     "metadata": {},
     "output_type": "display_data"
    },
    {
     "data": {
      "text/plain": [
       "0      0.9434\n",
       "1      0.8941\n",
       "2      0.8941\n",
       "3      0.8276\n",
       "4      0.8941\n",
       "        ...  \n",
       "495    0.4589\n",
       "496    0.1819\n",
       "497    0.2445\n",
       "498    0.4160\n",
       "499    0.5127\n",
       "Name: 671, Length: 500, dtype: float64"
      ]
     },
     "metadata": {},
     "output_type": "display_data"
    },
    {
     "data": {
      "text/plain": [
       "0      0.9057\n",
       "1      0.9322\n",
       "2      0.9219\n",
       "3      0.8889\n",
       "4      0.8837\n",
       "        ...  \n",
       "495    0.7613\n",
       "496    0.6282\n",
       "497    0.4880\n",
       "498    0.7922\n",
       "499    0.7628\n",
       "Name: 672, Length: 500, dtype: float64"
      ]
     },
     "metadata": {},
     "output_type": "display_data"
    },
    {
     "data": {
      "text/plain": [
       "0      0.0000\n",
       "1      0.0000\n",
       "2      0.0000\n",
       "3      0.0000\n",
       "4      0.0044\n",
       "        ...  \n",
       "495    0.0385\n",
       "496    0.0512\n",
       "497    0.0478\n",
       "498    0.0377\n",
       "499    0.0311\n",
       "Name: 673, Length: 500, dtype: float64"
      ]
     },
     "metadata": {},
     "output_type": "display_data"
    },
    {
     "data": {
      "text/plain": [
       "0      0.0000\n",
       "1      0.0000\n",
       "2      0.0174\n",
       "3      0.0000\n",
       "4      0.0000\n",
       "        ...  \n",
       "495    0.0516\n",
       "496    0.0351\n",
       "497    0.0349\n",
       "498    0.0643\n",
       "499    0.0407\n",
       "Name: 674, Length: 500, dtype: float64"
      ]
     },
     "metadata": {},
     "output_type": "display_data"
    },
    {
     "data": {
      "text/plain": [
       "0      0.0000\n",
       "1      0.0000\n",
       "2      0.0000\n",
       "3         NaN\n",
       "4         NaN\n",
       "        ...  \n",
       "495    0.0303\n",
       "496    0.0290\n",
       "497    0.0348\n",
       "498    0.0321\n",
       "499    0.0281\n",
       "Name: 675, Length: 500, dtype: float64"
      ]
     },
     "metadata": {},
     "output_type": "display_data"
    },
    {
     "data": {
      "text/plain": [
       "0         NaN\n",
       "1      0.0000\n",
       "2      0.0000\n",
       "3      0.0000\n",
       "4         NaN\n",
       "        ...  \n",
       "495    0.0272\n",
       "496    0.0258\n",
       "497    0.0240\n",
       "498    0.0260\n",
       "499    0.0304\n",
       "Name: 676, Length: 500, dtype: float64"
      ]
     },
     "metadata": {},
     "output_type": "display_data"
    },
    {
     "data": {
      "text/plain": [
       "0      0.0000\n",
       "1      0.0081\n",
       "2      0.0000\n",
       "3      0.0029\n",
       "4      0.0000\n",
       "        ...  \n",
       "495    0.0198\n",
       "496    0.0161\n",
       "497    0.0204\n",
       "498    0.0142\n",
       "499    0.0240\n",
       "Name: 677, Length: 500, dtype: float64"
      ]
     },
     "metadata": {},
     "output_type": "display_data"
    },
    {
     "data": {
      "text/plain": [
       "0      0.9661\n",
       "1      0.9130\n",
       "2      0.9592\n",
       "3      0.9661\n",
       "4      0.9324\n",
       "        ...  \n",
       "495    0.7967\n",
       "496    0.8276\n",
       "497    0.7895\n",
       "498    0.2848\n",
       "499    0.8723\n",
       "Name: 678, Length: 500, dtype: float64"
      ]
     },
     "metadata": {},
     "output_type": "display_data"
    },
    {
     "data": {
      "text/plain": [
       "0      0.9042\n",
       "1      0.9224\n",
       "2      0.9264\n",
       "3      0.9242\n",
       "4      0.9329\n",
       "        ...  \n",
       "495    0.8072\n",
       "496    0.6429\n",
       "497    0.7216\n",
       "498    0.8301\n",
       "499    0.7817\n",
       "Name: 679, Length: 500, dtype: float64"
      ]
     },
     "metadata": {},
     "output_type": "display_data"
    },
    {
     "data": {
      "text/plain": [
       "0      0.9153\n",
       "1      0.8723\n",
       "2         NaN\n",
       "3         NaN\n",
       "4      0.8723\n",
       "        ...  \n",
       "495    0.7582\n",
       "496    0.7120\n",
       "497    0.7709\n",
       "498    0.6874\n",
       "499    0.7346\n",
       "Name: 680, Length: 500, dtype: float64"
      ]
     },
     "metadata": {},
     "output_type": "display_data"
    },
    {
     "data": {
      "text/plain": [
       "0      0.8500\n",
       "1      0.9140\n",
       "2      0.9596\n",
       "3      0.9664\n",
       "4      0.9212\n",
       "        ...  \n",
       "495    0.4750\n",
       "496    0.6438\n",
       "497    0.6098\n",
       "498    0.8897\n",
       "499    0.5811\n",
       "Name: 681, Length: 500, dtype: float64"
      ]
     },
     "metadata": {},
     "output_type": "display_data"
    },
    {
     "data": {
      "text/plain": [
       "0      0.9365\n",
       "1      0.9314\n",
       "2      0.9174\n",
       "3      0.9032\n",
       "4      0.9032\n",
       "        ...  \n",
       "495    0.8798\n",
       "496    0.8681\n",
       "497    0.8770\n",
       "498    0.8310\n",
       "499    0.5948\n",
       "Name: 682, Length: 500, dtype: float64"
      ]
     },
     "metadata": {},
     "output_type": "display_data"
    },
    {
     "data": {
      "text/plain": [
       "0         NaN\n",
       "1         NaN\n",
       "2      0.1842\n",
       "3      0.3000\n",
       "4         NaN\n",
       "        ...  \n",
       "495    0.2200\n",
       "496    0.4795\n",
       "497    0.1881\n",
       "498    0.1273\n",
       "499    0.3107\n",
       "Name: 683, Length: 500, dtype: float64"
      ]
     },
     "metadata": {},
     "output_type": "display_data"
    },
    {
     "data": {
      "text/plain": [
       "0         NaN\n",
       "1      0.9091\n",
       "2      0.9333\n",
       "3         NaN\n",
       "4      0.6875\n",
       "        ...  \n",
       "495    0.7578\n",
       "496    0.7917\n",
       "497    0.2766\n",
       "498    0.8379\n",
       "499    0.8543\n",
       "Name: 684, Length: 500, dtype: float64"
      ]
     },
     "metadata": {},
     "output_type": "display_data"
    },
    {
     "data": {
      "text/plain": [
       "0      0.8261\n",
       "1      0.8962\n",
       "2      0.8906\n",
       "3      0.9402\n",
       "4      0.8261\n",
       "        ...  \n",
       "495    0.9074\n",
       "496    0.9284\n",
       "497    0.9528\n",
       "498    0.9103\n",
       "499    0.9679\n",
       "Name: 685, Length: 500, dtype: float64"
      ]
     },
     "metadata": {},
     "output_type": "display_data"
    },
    {
     "data": {
      "text/plain": [
       "0      0.0000\n",
       "1      0.0000\n",
       "2      0.0058\n",
       "3      0.0021\n",
       "4      0.0000\n",
       "        ...  \n",
       "495    0.0477\n",
       "496    0.0481\n",
       "497    0.0523\n",
       "498    0.0436\n",
       "499    0.0332\n",
       "Name: 686, Length: 500, dtype: float64"
      ]
     },
     "metadata": {},
     "output_type": "display_data"
    },
    {
     "data": {
      "text/plain": [
       "0         NaN\n",
       "1      0.1389\n",
       "2         NaN\n",
       "3      0.3000\n",
       "4         NaN\n",
       "        ...  \n",
       "495       NaN\n",
       "496       NaN\n",
       "497       NaN\n",
       "498       NaN\n",
       "499       NaN\n",
       "Name: 687, Length: 500, dtype: float64"
      ]
     },
     "metadata": {},
     "output_type": "display_data"
    },
    {
     "data": {
      "text/plain": [
       "0      0.0000\n",
       "1      0.0161\n",
       "2      0.0000\n",
       "3      0.0192\n",
       "4      0.0000\n",
       "        ...  \n",
       "495    0.0536\n",
       "496    0.0498\n",
       "497    0.0590\n",
       "498    0.0571\n",
       "499    0.1097\n",
       "Name: 688, Length: 500, dtype: float64"
      ]
     },
     "metadata": {},
     "output_type": "display_data"
    },
    {
     "data": {
      "text/plain": [
       "0      0.0929\n",
       "1      0.1333\n",
       "2      0.1259\n",
       "3      0.2140\n",
       "4      0.1481\n",
       "        ...  \n",
       "495    0.0891\n",
       "496    0.0341\n",
       "497    0.0781\n",
       "498    0.1602\n",
       "499    0.0390\n",
       "Name: 689, Length: 500, dtype: float64"
      ]
     },
     "metadata": {},
     "output_type": "display_data"
    },
    {
     "data": {
      "text/plain": [
       "0      0.0000\n",
       "1      0.0448\n",
       "2      0.1000\n",
       "3      0.0682\n",
       "4      0.0889\n",
       "        ...  \n",
       "495    0.0410\n",
       "496    0.0475\n",
       "497    0.0228\n",
       "498    0.0242\n",
       "499    0.0328\n",
       "Name: 690, Length: 500, dtype: float64"
      ]
     },
     "metadata": {},
     "output_type": "display_data"
    },
    {
     "data": {
      "text/plain": [
       "0         NaN\n",
       "1      0.0000\n",
       "2      0.0000\n",
       "3      0.0000\n",
       "4      0.0000\n",
       "        ...  \n",
       "495    0.0468\n",
       "496    0.0597\n",
       "497    0.0468\n",
       "498    0.0691\n",
       "499    0.0553\n",
       "Name: 691, Length: 500, dtype: float64"
      ]
     },
     "metadata": {},
     "output_type": "display_data"
    },
    {
     "data": {
      "text/plain": [
       "0      0.8796\n",
       "1      0.8796\n",
       "2      0.9049\n",
       "3      0.9532\n",
       "4      0.9841\n",
       "        ...  \n",
       "495    0.9181\n",
       "496    0.9197\n",
       "497    0.9361\n",
       "498    0.9045\n",
       "499    0.9261\n",
       "Name: 692, Length: 500, dtype: float64"
      ]
     },
     "metadata": {},
     "output_type": "display_data"
    },
    {
     "data": {
      "text/plain": [
       "0      0.9706\n",
       "1      0.9706\n",
       "2      0.9535\n",
       "3      0.9752\n",
       "4      0.8723\n",
       "        ...  \n",
       "495    0.7969\n",
       "496    0.8922\n",
       "497    0.9124\n",
       "498    0.9272\n",
       "499    0.9207\n",
       "Name: 693, Length: 500, dtype: float64"
      ]
     },
     "metadata": {},
     "output_type": "display_data"
    },
    {
     "data": {
      "text/plain": [
       "0      0.0976\n",
       "1      0.1935\n",
       "2      0.1930\n",
       "3      0.0294\n",
       "4         NaN\n",
       "        ...  \n",
       "495    0.1565\n",
       "496    0.1236\n",
       "497    0.1102\n",
       "498    0.1055\n",
       "499    0.1149\n",
       "Name: 694, Length: 500, dtype: float64"
      ]
     },
     "metadata": {},
     "output_type": "display_data"
    },
    {
     "data": {
      "text/plain": [
       "0      0.6282\n",
       "1      0.5673\n",
       "2      0.6538\n",
       "3      0.5397\n",
       "4      0.5645\n",
       "        ...  \n",
       "495    0.5887\n",
       "496    0.6848\n",
       "497    0.8433\n",
       "498    0.7341\n",
       "499    0.6878\n",
       "Name: 695, Length: 500, dtype: float64"
      ]
     },
     "metadata": {},
     "output_type": "display_data"
    },
    {
     "data": {
      "text/plain": [
       "0      0.8730\n",
       "1         NaN\n",
       "2      0.9300\n",
       "3      0.8333\n",
       "4      0.9333\n",
       "        ...  \n",
       "495    0.3997\n",
       "496    0.7227\n",
       "497    0.4987\n",
       "498    0.5100\n",
       "499    0.7971\n",
       "Name: 696, Length: 500, dtype: float64"
      ]
     },
     "metadata": {},
     "output_type": "display_data"
    },
    {
     "data": {
      "text/plain": [
       "0      0.9208\n",
       "1      0.9385\n",
       "2      0.9375\n",
       "3      0.9540\n",
       "4      0.9385\n",
       "        ...  \n",
       "495    0.8916\n",
       "496    0.9564\n",
       "497    0.8671\n",
       "498    0.9329\n",
       "499    0.9255\n",
       "Name: 697, Length: 500, dtype: float64"
      ]
     },
     "metadata": {},
     "output_type": "display_data"
    },
    {
     "data": {
      "text/plain": [
       "0         NaN\n",
       "1      0.9524\n",
       "2      0.9718\n",
       "3      0.9677\n",
       "4         NaN\n",
       "        ...  \n",
       "495    0.9700\n",
       "496    0.9809\n",
       "497    0.9754\n",
       "498    0.9612\n",
       "499    0.9722\n",
       "Name: 698, Length: 500, dtype: float64"
      ]
     },
     "metadata": {},
     "output_type": "display_data"
    },
    {
     "data": {
      "text/plain": [
       "0      0.1136\n",
       "1      0.1197\n",
       "2      0.0200\n",
       "3      0.0278\n",
       "4      0.0563\n",
       "        ...  \n",
       "495    0.0705\n",
       "496    0.0651\n",
       "497    0.1077\n",
       "498    0.1058\n",
       "499    0.0808\n",
       "Name: 699, Length: 500, dtype: float64"
      ]
     },
     "metadata": {},
     "output_type": "display_data"
    },
    {
     "data": {
      "text/plain": [
       "0      0.2121\n",
       "1      0.0476\n",
       "2      0.0574\n",
       "3      0.1077\n",
       "4      0.0746\n",
       "        ...  \n",
       "495    0.3321\n",
       "496    0.1081\n",
       "497    0.0673\n",
       "498    0.0849\n",
       "499    0.1147\n",
       "Name: 700, Length: 500, dtype: float64"
      ]
     },
     "metadata": {},
     "output_type": "display_data"
    },
    {
     "data": {
      "text/plain": [
       "0      0.5000\n",
       "1      0.4820\n",
       "2      0.7391\n",
       "3      0.1343\n",
       "4      0.5000\n",
       "        ...  \n",
       "495    0.1049\n",
       "496    0.1453\n",
       "497    0.1128\n",
       "498    0.1173\n",
       "499    0.1173\n",
       "Name: 701, Length: 500, dtype: float64"
      ]
     },
     "metadata": {},
     "output_type": "display_data"
    },
    {
     "data": {
      "text/plain": [
       "0      0.0000\n",
       "1      0.0000\n",
       "2      0.0000\n",
       "3      0.0000\n",
       "4      0.0000\n",
       "        ...  \n",
       "495    0.0780\n",
       "496    0.1158\n",
       "497    0.1407\n",
       "498    0.0316\n",
       "499    0.0680\n",
       "Name: 702, Length: 500, dtype: float64"
      ]
     },
     "metadata": {},
     "output_type": "display_data"
    },
    {
     "data": {
      "text/plain": [
       "0      0.9101\n",
       "1      0.8356\n",
       "2      0.9101\n",
       "3      0.9079\n",
       "4      0.9079\n",
       "        ...  \n",
       "495    0.9060\n",
       "496    0.9041\n",
       "497    0.9195\n",
       "498    0.8963\n",
       "499    0.9301\n",
       "Name: 703, Length: 500, dtype: float64"
      ]
     },
     "metadata": {},
     "output_type": "display_data"
    },
    {
     "data": {
      "text/plain": [
       "0      0.9241\n",
       "1      0.9106\n",
       "2      0.9500\n",
       "3      0.8830\n",
       "4      0.8911\n",
       "        ...  \n",
       "495    0.9018\n",
       "496    0.9136\n",
       "497    0.9162\n",
       "498    0.9091\n",
       "499    0.6853\n",
       "Name: 704, Length: 500, dtype: float64"
      ]
     },
     "metadata": {},
     "output_type": "display_data"
    },
    {
     "data": {
      "text/plain": [
       "0      0.0291\n",
       "1      0.0000\n",
       "2      0.0000\n",
       "3      0.0000\n",
       "4      0.0000\n",
       "        ...  \n",
       "495    0.0527\n",
       "496    0.0428\n",
       "497    0.0420\n",
       "498    0.0677\n",
       "499    0.0445\n",
       "Name: 705, Length: 500, dtype: float64"
      ]
     },
     "metadata": {},
     "output_type": "display_data"
    },
    {
     "data": {
      "text/plain": [
       "0         NaN\n",
       "1         NaN\n",
       "2         NaN\n",
       "3      0.0213\n",
       "4         NaN\n",
       "        ...  \n",
       "495    0.0450\n",
       "496    0.0375\n",
       "497    0.0518\n",
       "498    0.0621\n",
       "499    0.0490\n",
       "Name: 706, Length: 500, dtype: float64"
      ]
     },
     "metadata": {},
     "output_type": "display_data"
    },
    {
     "data": {
      "text/plain": [
       "0         NaN\n",
       "1      0.1081\n",
       "2         NaN\n",
       "3         NaN\n",
       "4      0.1081\n",
       "        ...  \n",
       "495    0.7709\n",
       "496    0.5032\n",
       "497    0.5240\n",
       "498    0.5168\n",
       "499    0.2811\n",
       "Name: 707, Length: 500, dtype: float64"
      ]
     },
     "metadata": {},
     "output_type": "display_data"
    },
    {
     "data": {
      "text/plain": [
       "0      0.9737\n",
       "1      0.8758\n",
       "2      0.8814\n",
       "3      0.8992\n",
       "4      0.8931\n",
       "        ...  \n",
       "495    0.7926\n",
       "496    0.7644\n",
       "497    0.6740\n",
       "498    0.8014\n",
       "499    0.8952\n",
       "Name: 708, Length: 500, dtype: float64"
      ]
     },
     "metadata": {},
     "output_type": "display_data"
    },
    {
     "data": {
      "text/plain": [
       "0      0.8718\n",
       "1      0.9211\n",
       "2      0.9677\n",
       "3      0.9286\n",
       "4      0.9221\n",
       "        ...  \n",
       "495    0.7502\n",
       "496    0.7729\n",
       "497    0.7140\n",
       "498    0.8390\n",
       "499    0.7434\n",
       "Name: 709, Length: 500, dtype: float64"
      ]
     },
     "metadata": {},
     "output_type": "display_data"
    },
    {
     "data": {
      "text/plain": [
       "0      0.7885\n",
       "1      0.7885\n",
       "2      0.7533\n",
       "3      0.6500\n",
       "4      0.7885\n",
       "        ...  \n",
       "495    0.9000\n",
       "496    0.7160\n",
       "497    0.4038\n",
       "498    0.6729\n",
       "499    0.8286\n",
       "Name: 710, Length: 500, dtype: float64"
      ]
     },
     "metadata": {},
     "output_type": "display_data"
    },
    {
     "data": {
      "text/plain": [
       "0      0.9664\n",
       "1      0.9167\n",
       "2      0.9297\n",
       "3      0.9224\n",
       "4      1.0000\n",
       "        ...  \n",
       "495    0.8473\n",
       "496    0.8465\n",
       "497    0.8924\n",
       "498    0.8745\n",
       "499    0.8360\n",
       "Name: 711, Length: 500, dtype: float64"
      ]
     },
     "metadata": {},
     "output_type": "display_data"
    },
    {
     "data": {
      "text/plain": [
       "0      0.9737\n",
       "1      0.9091\n",
       "2      0.9737\n",
       "3      0.9737\n",
       "4      0.9091\n",
       "        ...  \n",
       "495    0.9348\n",
       "496    0.9172\n",
       "497    0.8541\n",
       "498    0.9570\n",
       "499    0.9162\n",
       "Name: 712, Length: 500, dtype: float64"
      ]
     },
     "metadata": {},
     "output_type": "display_data"
    },
    {
     "data": {
      "text/plain": [
       "0      0.8987\n",
       "1      0.9818\n",
       "2      0.9098\n",
       "3      0.9417\n",
       "4      0.9346\n",
       "        ...  \n",
       "495    0.9312\n",
       "496    0.9375\n",
       "497    0.9344\n",
       "498    0.9450\n",
       "499    0.9373\n",
       "Name: 713, Length: 500, dtype: float64"
      ]
     },
     "metadata": {},
     "output_type": "display_data"
    },
    {
     "data": {
      "text/plain": [
       "0      0.0000\n",
       "1      0.0000\n",
       "2      0.0000\n",
       "3      0.0000\n",
       "4      0.0000\n",
       "        ...  \n",
       "495    0.0222\n",
       "496    0.0298\n",
       "497    0.0225\n",
       "498    0.0276\n",
       "499    0.0283\n",
       "Name: 714, Length: 500, dtype: float64"
      ]
     },
     "metadata": {},
     "output_type": "display_data"
    },
    {
     "data": {
      "text/plain": [
       "0      0.0707\n",
       "1      0.0164\n",
       "2      0.0370\n",
       "3      0.0182\n",
       "4      0.1250\n",
       "        ...  \n",
       "495    0.0540\n",
       "496    0.1336\n",
       "497    0.1237\n",
       "498    0.0572\n",
       "499    0.1512\n",
       "Name: 715, Length: 500, dtype: float64"
      ]
     },
     "metadata": {},
     "output_type": "display_data"
    },
    {
     "data": {
      "text/plain": [
       "0      0.6818\n",
       "1      0.7092\n",
       "2      0.7677\n",
       "3      0.4365\n",
       "4      0.8036\n",
       "        ...  \n",
       "495    0.7369\n",
       "496    0.7153\n",
       "497    0.3599\n",
       "498    0.6464\n",
       "499    0.7627\n",
       "Name: 716, Length: 500, dtype: float64"
      ]
     },
     "metadata": {},
     "output_type": "display_data"
    },
    {
     "data": {
      "text/plain": [
       "0         NaN\n",
       "1         NaN\n",
       "2      0.0000\n",
       "3      0.0000\n",
       "4      0.0000\n",
       "        ...  \n",
       "495    0.0300\n",
       "496    0.0233\n",
       "497    0.0235\n",
       "498    0.0303\n",
       "499    0.0270\n",
       "Name: 717, Length: 500, dtype: float64"
      ]
     },
     "metadata": {},
     "output_type": "display_data"
    },
    {
     "data": {
      "text/plain": [
       "0      0.0000\n",
       "1      0.0049\n",
       "2      0.0000\n",
       "3      0.0000\n",
       "4      0.0038\n",
       "        ...  \n",
       "495    0.0367\n",
       "496    0.0320\n",
       "497    0.0390\n",
       "498    0.0370\n",
       "499    0.0433\n",
       "Name: 718, Length: 500, dtype: float64"
      ]
     },
     "metadata": {},
     "output_type": "display_data"
    },
    {
     "data": {
      "text/plain": [
       "0      0.0718\n",
       "1      0.1405\n",
       "2      0.0718\n",
       "3      0.0503\n",
       "4      0.0475\n",
       "        ...  \n",
       "495    0.4320\n",
       "496    0.1737\n",
       "497    0.0884\n",
       "498    0.2189\n",
       "499    0.2867\n",
       "Name: 719, Length: 500, dtype: float64"
      ]
     },
     "metadata": {},
     "output_type": "display_data"
    },
    {
     "data": {
      "text/plain": [
       "0      0.0000\n",
       "1         NaN\n",
       "2      0.0000\n",
       "3      0.0000\n",
       "4      0.0000\n",
       "        ...  \n",
       "495    0.0487\n",
       "496    0.0613\n",
       "497    0.0487\n",
       "498    0.0459\n",
       "499    0.0575\n",
       "Name: 720, Length: 500, dtype: float64"
      ]
     },
     "metadata": {},
     "output_type": "display_data"
    },
    {
     "data": {
      "text/plain": [
       "0      0.0000\n",
       "1      0.0000\n",
       "2      0.0000\n",
       "3      0.0000\n",
       "4      0.0000\n",
       "        ...  \n",
       "495    0.0323\n",
       "496    0.0323\n",
       "497    0.0416\n",
       "498    0.0299\n",
       "499    0.0362\n",
       "Name: 721, Length: 500, dtype: float64"
      ]
     },
     "metadata": {},
     "output_type": "display_data"
    },
    {
     "data": {
      "text/plain": [
       "0         NaN\n",
       "1      0.0000\n",
       "2      0.0000\n",
       "3      0.0000\n",
       "4      0.0149\n",
       "        ...  \n",
       "495    0.0396\n",
       "496    0.0361\n",
       "497    0.0481\n",
       "498    0.0348\n",
       "499    0.0471\n",
       "Name: 722, Length: 500, dtype: float64"
      ]
     },
     "metadata": {},
     "output_type": "display_data"
    },
    {
     "data": {
      "text/plain": [
       "0      0.0000\n",
       "1      0.0000\n",
       "2      0.0000\n",
       "3      0.0000\n",
       "4         NaN\n",
       "        ...  \n",
       "495    0.0340\n",
       "496    0.0348\n",
       "497    0.0235\n",
       "498    0.0323\n",
       "499    0.0354\n",
       "Name: 723, Length: 500, dtype: float64"
      ]
     },
     "metadata": {},
     "output_type": "display_data"
    },
    {
     "data": {
      "text/plain": [
       "0      0.9571\n",
       "1      0.9571\n",
       "2      0.9444\n",
       "3      0.9714\n",
       "4      0.9663\n",
       "        ...  \n",
       "495    0.9275\n",
       "496    0.9369\n",
       "497    0.9285\n",
       "498    0.9410\n",
       "499    0.9292\n",
       "Name: 724, Length: 500, dtype: float64"
      ]
     },
     "metadata": {},
     "output_type": "display_data"
    },
    {
     "data": {
      "text/plain": [
       "0      0.0079\n",
       "1      0.0000\n",
       "2      0.0000\n",
       "3      0.0000\n",
       "4      0.0079\n",
       "        ...  \n",
       "495    0.0268\n",
       "496    0.0245\n",
       "497    0.0271\n",
       "498    0.0328\n",
       "499    0.0264\n",
       "Name: 725, Length: 500, dtype: float64"
      ]
     },
     "metadata": {},
     "output_type": "display_data"
    },
    {
     "data": {
      "text/plain": [
       "0      0.0879\n",
       "1      0.0290\n",
       "2      0.0430\n",
       "3      0.0434\n",
       "4      0.0354\n",
       "        ...  \n",
       "495    0.1438\n",
       "496    0.1014\n",
       "497    0.1751\n",
       "498    0.1203\n",
       "499    0.1234\n",
       "Name: 726, Length: 500, dtype: float64"
      ]
     },
     "metadata": {},
     "output_type": "display_data"
    },
    {
     "data": {
      "text/plain": [
       "0      0.7573\n",
       "1      0.8291\n",
       "2      0.7557\n",
       "3      0.7222\n",
       "4      0.7222\n",
       "        ...  \n",
       "495    0.8479\n",
       "496    0.8799\n",
       "497    0.9042\n",
       "498    0.8809\n",
       "499    0.8117\n",
       "Name: 727, Length: 500, dtype: float64"
      ]
     },
     "metadata": {},
     "output_type": "display_data"
    },
    {
     "data": {
      "text/plain": [
       "0      0.9241\n",
       "1      0.9412\n",
       "2      0.9036\n",
       "3      0.8696\n",
       "4      0.9036\n",
       "        ...  \n",
       "495    0.7909\n",
       "496    0.5899\n",
       "497    0.8162\n",
       "498    0.8579\n",
       "499    0.7820\n",
       "Name: 728, Length: 500, dtype: float64"
      ]
     },
     "metadata": {},
     "output_type": "display_data"
    },
    {
     "data": {
      "text/plain": [
       "0      0.0667\n",
       "1      0.0263\n",
       "2      0.1193\n",
       "3      0.0991\n",
       "4      0.0789\n",
       "        ...  \n",
       "495    0.0883\n",
       "496    0.0758\n",
       "497    0.1101\n",
       "498    0.0827\n",
       "499    0.0958\n",
       "Name: 729, Length: 500, dtype: float64"
      ]
     },
     "metadata": {},
     "output_type": "display_data"
    },
    {
     "data": {
      "text/plain": [
       "0      0.0000\n",
       "1      0.0000\n",
       "2      0.0000\n",
       "3      0.0000\n",
       "4      0.0000\n",
       "        ...  \n",
       "495    0.0700\n",
       "496    0.0550\n",
       "497    0.0787\n",
       "498    0.0535\n",
       "499    0.0529\n",
       "Name: 730, Length: 500, dtype: float64"
      ]
     },
     "metadata": {},
     "output_type": "display_data"
    },
    {
     "data": {
      "text/plain": [
       "0      0.1348\n",
       "1      0.0385\n",
       "2      0.0769\n",
       "3      0.0619\n",
       "4      0.0896\n",
       "        ...  \n",
       "495    0.0449\n",
       "496    0.0375\n",
       "497    0.0377\n",
       "498    0.0356\n",
       "499    0.0536\n",
       "Name: 731, Length: 500, dtype: float64"
      ]
     },
     "metadata": {},
     "output_type": "display_data"
    },
    {
     "data": {
      "text/plain": [
       "0      0.9394\n",
       "1      0.7500\n",
       "2      0.9178\n",
       "3      0.8320\n",
       "4      0.9250\n",
       "        ...  \n",
       "495    0.8303\n",
       "496    0.8459\n",
       "497    0.8183\n",
       "498    0.8713\n",
       "499    0.7568\n",
       "Name: 732, Length: 500, dtype: float64"
      ]
     },
     "metadata": {},
     "output_type": "display_data"
    },
    {
     "data": {
      "text/plain": [
       "0      0.9464\n",
       "1      0.9389\n",
       "2      0.9325\n",
       "3      0.9504\n",
       "4      0.9506\n",
       "        ...  \n",
       "495    0.8848\n",
       "496    0.8867\n",
       "497    0.8829\n",
       "498    0.8354\n",
       "499    0.8923\n",
       "Name: 733, Length: 500, dtype: float64"
      ]
     },
     "metadata": {},
     "output_type": "display_data"
    },
    {
     "data": {
      "text/plain": [
       "0      0.6434\n",
       "1      0.5161\n",
       "2      0.6358\n",
       "3      0.5161\n",
       "4      0.5977\n",
       "        ...  \n",
       "495    0.9156\n",
       "496    0.9103\n",
       "497    0.9011\n",
       "498    0.9081\n",
       "499    0.9236\n",
       "Name: 734, Length: 500, dtype: float64"
      ]
     },
     "metadata": {},
     "output_type": "display_data"
    },
    {
     "data": {
      "text/plain": [
       "0      0.9641\n",
       "1      0.9489\n",
       "2      0.9809\n",
       "3      0.9809\n",
       "4      0.9493\n",
       "        ...  \n",
       "495    0.9645\n",
       "496    0.9649\n",
       "497    0.9704\n",
       "498    0.9749\n",
       "499    0.9544\n",
       "Name: 735, Length: 500, dtype: float64"
      ]
     },
     "metadata": {},
     "output_type": "display_data"
    },
    {
     "data": {
      "text/plain": [
       "0      0.8571\n",
       "1      0.8939\n",
       "2      0.9664\n",
       "3      0.9636\n",
       "4      0.9167\n",
       "        ...  \n",
       "495    0.9509\n",
       "496    0.7998\n",
       "497    0.8487\n",
       "498    0.9323\n",
       "499    0.7269\n",
       "Name: 736, Length: 500, dtype: float64"
      ]
     },
     "metadata": {},
     "output_type": "display_data"
    },
    {
     "data": {
      "text/plain": [
       "0      0.9394\n",
       "1      0.9394\n",
       "2      0.9474\n",
       "3      0.9586\n",
       "4      0.9703\n",
       "        ...  \n",
       "495    0.9138\n",
       "496    0.9026\n",
       "497    0.9345\n",
       "498    0.9359\n",
       "499    0.8595\n",
       "Name: 737, Length: 500, dtype: float64"
      ]
     },
     "metadata": {},
     "output_type": "display_data"
    },
    {
     "data": {
      "text/plain": [
       "0      0.7987\n",
       "1      0.9672\n",
       "2      0.9455\n",
       "3      0.8667\n",
       "4      0.7987\n",
       "        ...  \n",
       "495    0.8505\n",
       "496    0.7586\n",
       "497    0.8163\n",
       "498    0.7556\n",
       "499    0.7956\n",
       "Name: 738, Length: 500, dtype: float64"
      ]
     },
     "metadata": {},
     "output_type": "display_data"
    },
    {
     "data": {
      "text/plain": [
       "0      0.9645\n",
       "1      0.9314\n",
       "2      0.9465\n",
       "3      0.9540\n",
       "4      0.9091\n",
       "        ...  \n",
       "495    0.9154\n",
       "496    0.8944\n",
       "497    0.9015\n",
       "498    0.9015\n",
       "499    0.8829\n",
       "Name: 739, Length: 500, dtype: float64"
      ]
     },
     "metadata": {},
     "output_type": "display_data"
    },
    {
     "data": {
      "text/plain": [
       "0      0.9231\n",
       "1      0.9650\n",
       "2      0.9724\n",
       "3      0.9370\n",
       "4      0.9375\n",
       "        ...  \n",
       "495    0.8928\n",
       "496    0.8867\n",
       "497    0.8837\n",
       "498    0.7669\n",
       "499    0.8870\n",
       "Name: 740, Length: 500, dtype: float64"
      ]
     },
     "metadata": {},
     "output_type": "display_data"
    },
    {
     "data": {
      "text/plain": [
       "0      0.9608\n",
       "1      0.9789\n",
       "2      0.9517\n",
       "3      0.9780\n",
       "4      0.9780\n",
       "        ...  \n",
       "495    0.9253\n",
       "496    0.9007\n",
       "497    0.9088\n",
       "498    0.9343\n",
       "499    0.9391\n",
       "Name: 741, Length: 500, dtype: float64"
      ]
     },
     "metadata": {},
     "output_type": "display_data"
    },
    {
     "data": {
      "text/plain": [
       "0      0.8293\n",
       "1      0.9109\n",
       "2      0.8626\n",
       "3      0.8650\n",
       "4      0.9348\n",
       "        ...  \n",
       "495    0.8797\n",
       "496    0.8604\n",
       "497    0.8799\n",
       "498    0.8539\n",
       "499    0.9100\n",
       "Name: 742, Length: 500, dtype: float64"
      ]
     },
     "metadata": {},
     "output_type": "display_data"
    },
    {
     "data": {
      "text/plain": [
       "0         NaN\n",
       "1      0.7647\n",
       "2      0.9828\n",
       "3      0.9341\n",
       "4      1.0000\n",
       "        ...  \n",
       "495    0.8714\n",
       "496    0.9177\n",
       "497    0.8783\n",
       "498    0.8869\n",
       "499    0.7953\n",
       "Name: 743, Length: 500, dtype: float64"
      ]
     },
     "metadata": {},
     "output_type": "display_data"
    },
    {
     "data": {
      "text/plain": [
       "0      0.9693\n",
       "1      0.9664\n",
       "2      0.9695\n",
       "3      0.9746\n",
       "4      0.9770\n",
       "        ...  \n",
       "495    0.6044\n",
       "496    0.3905\n",
       "497    0.5817\n",
       "498    0.6651\n",
       "499    0.8004\n",
       "Name: 744, Length: 500, dtype: float64"
      ]
     },
     "metadata": {},
     "output_type": "display_data"
    },
    {
     "data": {
      "text/plain": [
       "0      0.9552\n",
       "1      0.8913\n",
       "2      0.9500\n",
       "3      0.8913\n",
       "4      0.6667\n",
       "        ...  \n",
       "495    0.3240\n",
       "496    0.4977\n",
       "497    0.3121\n",
       "498    0.4920\n",
       "499    0.5055\n",
       "Name: 745, Length: 500, dtype: float64"
      ]
     },
     "metadata": {},
     "output_type": "display_data"
    },
    {
     "data": {
      "text/plain": [
       "0      0.0044\n",
       "1      0.0102\n",
       "2      0.0102\n",
       "3      0.0111\n",
       "4      0.0063\n",
       "        ...  \n",
       "495    0.0291\n",
       "496    0.0403\n",
       "497    0.0251\n",
       "498    0.0377\n",
       "499    0.0364\n",
       "Name: 746, Length: 500, dtype: float64"
      ]
     },
     "metadata": {},
     "output_type": "display_data"
    },
    {
     "data": {
      "text/plain": [
       "0      0.0000\n",
       "1      0.0000\n",
       "2      0.0000\n",
       "3      0.0000\n",
       "4      0.0000\n",
       "        ...  \n",
       "495    0.0393\n",
       "496    0.0327\n",
       "497    0.0339\n",
       "498    0.1007\n",
       "499    0.0630\n",
       "Name: 747, Length: 500, dtype: float64"
      ]
     },
     "metadata": {},
     "output_type": "display_data"
    },
    {
     "data": {
      "text/plain": [
       "0      0.1236\n",
       "1      0.0588\n",
       "2      0.1220\n",
       "3      0.1695\n",
       "4      0.1032\n",
       "        ...  \n",
       "495    0.2851\n",
       "496    0.2110\n",
       "497    0.1545\n",
       "498    0.2136\n",
       "499    0.1642\n",
       "Name: 748, Length: 500, dtype: float64"
      ]
     },
     "metadata": {},
     "output_type": "display_data"
    },
    {
     "data": {
      "text/plain": [
       "0      0.0817\n",
       "1      0.2128\n",
       "2      0.1746\n",
       "3      0.2453\n",
       "4      0.0797\n",
       "        ...  \n",
       "495    0.2110\n",
       "496    0.1789\n",
       "497    0.1370\n",
       "498    0.1608\n",
       "499    0.1423\n",
       "Name: 749, Length: 500, dtype: float64"
      ]
     },
     "metadata": {},
     "output_type": "display_data"
    },
    {
     "data": {
      "text/plain": [
       "0      0.8830\n",
       "1      0.9630\n",
       "2      0.9062\n",
       "3      0.7805\n",
       "4      0.9167\n",
       "        ...  \n",
       "495    0.6853\n",
       "496    0.8210\n",
       "497    0.6436\n",
       "498    0.2904\n",
       "499    0.5435\n",
       "Name: 750, Length: 500, dtype: float64"
      ]
     },
     "metadata": {},
     "output_type": "display_data"
    },
    {
     "data": {
      "text/plain": [
       "0      0.9000\n",
       "1      0.9211\n",
       "2         NaN\n",
       "3      1.0000\n",
       "4      0.9211\n",
       "        ...  \n",
       "495    0.7799\n",
       "496    0.7774\n",
       "497    0.8511\n",
       "498    0.7721\n",
       "499    0.8518\n",
       "Name: 751, Length: 500, dtype: float64"
      ]
     },
     "metadata": {},
     "output_type": "display_data"
    },
    {
     "data": {
      "text/plain": [
       "0      0.7879\n",
       "1      0.8824\n",
       "2      0.8706\n",
       "3      0.8873\n",
       "4      0.7910\n",
       "        ...  \n",
       "495    0.5824\n",
       "496    0.7444\n",
       "497    0.6859\n",
       "498    0.4976\n",
       "499    0.6400\n",
       "Name: 752, Length: 500, dtype: float64"
      ]
     },
     "metadata": {},
     "output_type": "display_data"
    },
    {
     "data": {
      "text/plain": [
       "0      0.0000\n",
       "1      0.0000\n",
       "2      0.0000\n",
       "3      0.0000\n",
       "4      0.0074\n",
       "        ...  \n",
       "495    0.0377\n",
       "496    0.0369\n",
       "497    0.0340\n",
       "498    0.0327\n",
       "499    0.0369\n",
       "Name: 753, Length: 500, dtype: float64"
      ]
     },
     "metadata": {},
     "output_type": "display_data"
    },
    {
     "data": {
      "text/plain": [
       "0         NaN\n",
       "1      0.8444\n",
       "2      0.9500\n",
       "3      0.8600\n",
       "4      0.9000\n",
       "        ...  \n",
       "495    0.7854\n",
       "496    0.6696\n",
       "497    0.6149\n",
       "498    0.7401\n",
       "499    0.6019\n",
       "Name: 754, Length: 500, dtype: float64"
      ]
     },
     "metadata": {},
     "output_type": "display_data"
    },
    {
     "data": {
      "text/plain": [
       "0      0.0000\n",
       "1      0.0000\n",
       "2      0.0000\n",
       "3      0.0000\n",
       "4      0.0000\n",
       "        ...  \n",
       "495    0.0415\n",
       "496    0.0505\n",
       "497    0.0347\n",
       "498    0.0416\n",
       "499    0.0568\n",
       "Name: 755, Length: 500, dtype: float64"
      ]
     },
     "metadata": {},
     "output_type": "display_data"
    },
    {
     "data": {
      "text/plain": [
       "0      0.1919\n",
       "1      0.0748\n",
       "2      0.1171\n",
       "3      0.0676\n",
       "4      0.1486\n",
       "        ...  \n",
       "495    0.0426\n",
       "496    0.0487\n",
       "497    0.0489\n",
       "498    0.0344\n",
       "499    0.0463\n",
       "Name: 756, Length: 500, dtype: float64"
      ]
     },
     "metadata": {},
     "output_type": "display_data"
    },
    {
     "data": {
      "text/plain": [
       "0      0.9712\n",
       "1      0.9481\n",
       "2      0.9891\n",
       "3      0.9423\n",
       "4      0.9789\n",
       "        ...  \n",
       "495    0.8628\n",
       "496    0.8289\n",
       "497    0.8657\n",
       "498    0.8551\n",
       "499    0.8570\n",
       "Name: 757, Length: 500, dtype: float64"
      ]
     },
     "metadata": {},
     "output_type": "display_data"
    },
    {
     "data": {
      "text/plain": [
       "0         NaN\n",
       "1         NaN\n",
       "2         NaN\n",
       "3         NaN\n",
       "4         NaN\n",
       "        ...  \n",
       "495    0.9469\n",
       "496    0.9166\n",
       "497    0.9367\n",
       "498    0.9432\n",
       "499    0.9504\n",
       "Name: 758, Length: 500, dtype: float64"
      ]
     },
     "metadata": {},
     "output_type": "display_data"
    },
    {
     "data": {
      "text/plain": [
       "0      0.0089\n",
       "1      0.0053\n",
       "2      0.0000\n",
       "3      0.0089\n",
       "4      0.0098\n",
       "        ...  \n",
       "495    0.0409\n",
       "496    0.0374\n",
       "497    0.0362\n",
       "498    0.0308\n",
       "499    0.0410\n",
       "Name: 759, Length: 500, dtype: float64"
      ]
     },
     "metadata": {},
     "output_type": "display_data"
    },
    {
     "data": {
      "text/plain": [
       "0         NaN\n",
       "1      0.0625\n",
       "2         NaN\n",
       "3         NaN\n",
       "4      0.0299\n",
       "        ...  \n",
       "495    0.0938\n",
       "496    0.0440\n",
       "497    0.0512\n",
       "498    0.0663\n",
       "499    0.0349\n",
       "Name: 760, Length: 500, dtype: float64"
      ]
     },
     "metadata": {},
     "output_type": "display_data"
    },
    {
     "data": {
      "text/plain": [
       "0      0.0093\n",
       "1      0.0000\n",
       "2      0.0093\n",
       "3      0.0000\n",
       "4      0.0000\n",
       "        ...  \n",
       "495    0.0448\n",
       "496    0.0425\n",
       "497    0.0281\n",
       "498    0.0377\n",
       "499    0.0327\n",
       "Name: 761, Length: 500, dtype: float64"
      ]
     },
     "metadata": {},
     "output_type": "display_data"
    },
    {
     "data": {
      "text/plain": [
       "0      0.8767\n",
       "1      0.8372\n",
       "2      0.8889\n",
       "3      0.9583\n",
       "4      0.8788\n",
       "        ...  \n",
       "495       NaN\n",
       "496       NaN\n",
       "497       NaN\n",
       "498       NaN\n",
       "499       NaN\n",
       "Name: 762, Length: 500, dtype: float64"
      ]
     },
     "metadata": {},
     "output_type": "display_data"
    },
    {
     "data": {
      "text/plain": [
       "0      0.0000\n",
       "1      0.0286\n",
       "2      0.0320\n",
       "3      0.0320\n",
       "4      0.0278\n",
       "        ...  \n",
       "495    0.0261\n",
       "496    0.0208\n",
       "497    0.0310\n",
       "498    0.0284\n",
       "499    0.0262\n",
       "Name: 763, Length: 500, dtype: float64"
      ]
     },
     "metadata": {},
     "output_type": "display_data"
    },
    {
     "data": {
      "text/plain": [
       "0      0.0000\n",
       "1      0.0053\n",
       "2      0.0103\n",
       "3      0.0182\n",
       "4      0.0175\n",
       "        ...  \n",
       "495    0.0593\n",
       "496    0.0728\n",
       "497    0.0967\n",
       "498    0.0592\n",
       "499    0.0764\n",
       "Name: 764, Length: 500, dtype: float64"
      ]
     },
     "metadata": {},
     "output_type": "display_data"
    },
    {
     "data": {
      "text/plain": [
       "0      0.4726\n",
       "1      0.6014\n",
       "2      0.4582\n",
       "3      0.4794\n",
       "4      0.4161\n",
       "        ...  \n",
       "495    0.7175\n",
       "496    0.6499\n",
       "497    0.6405\n",
       "498    0.5795\n",
       "499    0.6098\n",
       "Name: 765, Length: 500, dtype: float64"
      ]
     },
     "metadata": {},
     "output_type": "display_data"
    },
    {
     "data": {
      "text/plain": [
       "0      0.9067\n",
       "1      0.9669\n",
       "2      0.8182\n",
       "3      0.8874\n",
       "4      0.9124\n",
       "        ...  \n",
       "495    0.8036\n",
       "496    0.6807\n",
       "497    0.8352\n",
       "498    0.7027\n",
       "499    0.8281\n",
       "Name: 766, Length: 500, dtype: float64"
      ]
     },
     "metadata": {},
     "output_type": "display_data"
    },
    {
     "data": {
      "text/plain": [
       "0      0.8947\n",
       "1      0.9633\n",
       "2      0.9156\n",
       "3      0.8138\n",
       "4      0.9231\n",
       "        ...  \n",
       "495    0.5426\n",
       "496    0.8689\n",
       "497    0.9247\n",
       "498    0.4972\n",
       "499    0.7839\n",
       "Name: 767, Length: 500, dtype: float64"
      ]
     },
     "metadata": {},
     "output_type": "display_data"
    },
    {
     "data": {
      "text/plain": [
       "0      0.2895\n",
       "1      0.7190\n",
       "2      0.3226\n",
       "3      0.3684\n",
       "4      0.3667\n",
       "        ...  \n",
       "495    0.2126\n",
       "496    0.2550\n",
       "497    0.2237\n",
       "498    0.0788\n",
       "499    0.2229\n",
       "Name: 768, Length: 500, dtype: float64"
      ]
     },
     "metadata": {},
     "output_type": "display_data"
    },
    {
     "data": {
      "text/plain": [
       "0      0.1351\n",
       "1      0.1087\n",
       "2      0.2967\n",
       "3      0.3000\n",
       "4      0.1351\n",
       "        ...  \n",
       "495    0.4709\n",
       "496    0.5302\n",
       "497    0.3424\n",
       "498    0.4942\n",
       "499    0.2522\n",
       "Name: 769, Length: 500, dtype: float64"
      ]
     },
     "metadata": {},
     "output_type": "display_data"
    },
    {
     "data": {
      "text/plain": [
       "0      0.0000\n",
       "1      0.0000\n",
       "2      0.0000\n",
       "3      0.0000\n",
       "4      0.0000\n",
       "        ...  \n",
       "495    0.0392\n",
       "496    0.0408\n",
       "497    0.0392\n",
       "498    0.0488\n",
       "499    0.0376\n",
       "Name: 770, Length: 500, dtype: float64"
      ]
     },
     "metadata": {},
     "output_type": "display_data"
    },
    {
     "data": {
      "text/plain": [
       "0      0.9402\n",
       "1      0.8598\n",
       "2      0.9200\n",
       "3         NaN\n",
       "4      0.9259\n",
       "        ...  \n",
       "495    0.9368\n",
       "496    0.8849\n",
       "497    0.9352\n",
       "498    0.8951\n",
       "499    0.8687\n",
       "Name: 771, Length: 500, dtype: float64"
      ]
     },
     "metadata": {},
     "output_type": "display_data"
    },
    {
     "data": {
      "text/plain": [
       "0      0.0140\n",
       "1      0.0000\n",
       "2      0.0060\n",
       "3      0.0093\n",
       "4      0.0040\n",
       "        ...  \n",
       "495    0.0296\n",
       "496    0.0384\n",
       "497    0.0289\n",
       "498    0.0358\n",
       "499    0.0546\n",
       "Name: 772, Length: 500, dtype: float64"
      ]
     },
     "metadata": {},
     "output_type": "display_data"
    },
    {
     "data": {
      "text/plain": [
       "0      0.0000\n",
       "1      0.0035\n",
       "2      0.0000\n",
       "3      0.0000\n",
       "4      0.0000\n",
       "        ...  \n",
       "495    0.0166\n",
       "496    0.0199\n",
       "497    0.0183\n",
       "498    0.0190\n",
       "499    0.0257\n",
       "Name: 773, Length: 500, dtype: float64"
      ]
     },
     "metadata": {},
     "output_type": "display_data"
    },
    {
     "data": {
      "text/plain": [
       "0      0.0456\n",
       "1      0.0279\n",
       "2      0.0195\n",
       "3      0.0427\n",
       "4      0.0607\n",
       "        ...  \n",
       "495    0.0672\n",
       "496    0.0766\n",
       "497    0.0699\n",
       "498    0.0571\n",
       "499    0.0592\n",
       "Name: 774, Length: 500, dtype: float64"
      ]
     },
     "metadata": {},
     "output_type": "display_data"
    },
    {
     "data": {
      "text/plain": [
       "0      0.0078\n",
       "1      0.0097\n",
       "2      0.0144\n",
       "3      0.0000\n",
       "4      0.0238\n",
       "        ...  \n",
       "495    0.1691\n",
       "496    0.0925\n",
       "497    0.0602\n",
       "498    0.0634\n",
       "499    0.0443\n",
       "Name: 775, Length: 500, dtype: float64"
      ]
     },
     "metadata": {},
     "output_type": "display_data"
    },
    {
     "data": {
      "text/plain": [
       "0      0.0000\n",
       "1      0.0000\n",
       "2      0.0000\n",
       "3      0.0000\n",
       "4      0.0000\n",
       "        ...  \n",
       "495    0.0344\n",
       "496    0.0417\n",
       "497    0.0301\n",
       "498    0.0477\n",
       "499    0.0319\n",
       "Name: 776, Length: 500, dtype: float64"
      ]
     },
     "metadata": {},
     "output_type": "display_data"
    },
    {
     "data": {
      "text/plain": [
       "0      0.0475\n",
       "1      0.0475\n",
       "2      0.0721\n",
       "3      0.0466\n",
       "4      0.0683\n",
       "        ...  \n",
       "495    0.1207\n",
       "496    0.1611\n",
       "497    0.2561\n",
       "498    0.3628\n",
       "499    0.0967\n",
       "Name: 777, Length: 500, dtype: float64"
      ]
     },
     "metadata": {},
     "output_type": "display_data"
    },
    {
     "data": {
      "text/plain": [
       "0      0.6818\n",
       "1      0.7013\n",
       "2      0.7442\n",
       "3      0.5647\n",
       "4      0.7395\n",
       "        ...  \n",
       "495       NaN\n",
       "496       NaN\n",
       "497       NaN\n",
       "498       NaN\n",
       "499       NaN\n",
       "Name: 778, Length: 500, dtype: float64"
      ]
     },
     "metadata": {},
     "output_type": "display_data"
    },
    {
     "data": {
      "text/plain": [
       "0      0.0569\n",
       "1      0.0856\n",
       "2      0.0289\n",
       "3      0.0472\n",
       "4      0.1327\n",
       "        ...  \n",
       "495    0.1161\n",
       "496    0.1058\n",
       "497    0.1373\n",
       "498    0.1203\n",
       "499    0.1676\n",
       "Name: 779, Length: 500, dtype: float64"
      ]
     },
     "metadata": {},
     "output_type": "display_data"
    },
    {
     "data": {
      "text/plain": [
       "0      0.9385\n",
       "1      0.9688\n",
       "2      1.0000\n",
       "3      0.9057\n",
       "4      0.9672\n",
       "        ...  \n",
       "495    0.9072\n",
       "496    0.8931\n",
       "497    0.9226\n",
       "498    0.8998\n",
       "499    0.9013\n",
       "Name: 780, Length: 500, dtype: float64"
      ]
     },
     "metadata": {},
     "output_type": "display_data"
    },
    {
     "data": {
      "text/plain": [
       "0      0.0769\n",
       "1      0.0500\n",
       "2      0.0971\n",
       "3      0.0677\n",
       "4      0.0655\n",
       "        ...  \n",
       "495    0.1569\n",
       "496    0.1206\n",
       "497    0.2117\n",
       "498    0.1767\n",
       "499    0.1207\n",
       "Name: 781, Length: 500, dtype: float64"
      ]
     },
     "metadata": {},
     "output_type": "display_data"
    },
    {
     "data": {
      "text/plain": [
       "0      0.0000\n",
       "1      0.0000\n",
       "2      0.0000\n",
       "3      0.0060\n",
       "4      0.0000\n",
       "        ...  \n",
       "495    0.0363\n",
       "496    0.0336\n",
       "497    0.0281\n",
       "498    0.0391\n",
       "499    0.0367\n",
       "Name: 782, Length: 500, dtype: float64"
      ]
     },
     "metadata": {},
     "output_type": "display_data"
    },
    {
     "data": {
      "text/plain": [
       "0      0.7063\n",
       "1      0.7216\n",
       "2      0.8352\n",
       "3      0.8085\n",
       "4      0.7266\n",
       "        ...  \n",
       "495    0.5034\n",
       "496    0.3815\n",
       "497    0.5579\n",
       "498    0.5265\n",
       "499    0.5695\n",
       "Name: 783, Length: 500, dtype: float64"
      ]
     },
     "metadata": {},
     "output_type": "display_data"
    },
    {
     "data": {
      "text/plain": [
       "0         NaN\n",
       "1      0.5667\n",
       "2      0.6774\n",
       "3      0.6190\n",
       "4      0.5567\n",
       "        ...  \n",
       "495    0.4984\n",
       "496    0.4310\n",
       "497    0.5762\n",
       "498    0.4221\n",
       "499    0.7092\n",
       "Name: 784, Length: 500, dtype: float64"
      ]
     },
     "metadata": {},
     "output_type": "display_data"
    },
    {
     "data": {
      "text/plain": [
       "0      0.1276\n",
       "1      0.0919\n",
       "2      0.2101\n",
       "3      0.1506\n",
       "4      0.1324\n",
       "        ...  \n",
       "495    0.1347\n",
       "496    0.2446\n",
       "497    0.1500\n",
       "498    0.0878\n",
       "499    0.1274\n",
       "Name: 785, Length: 500, dtype: float64"
      ]
     },
     "metadata": {},
     "output_type": "display_data"
    },
    {
     "data": {
      "text/plain": [
       "0      0.8936\n",
       "1      0.9706\n",
       "2      0.9417\n",
       "3      0.9831\n",
       "4      0.9474\n",
       "        ...  \n",
       "495    0.7428\n",
       "496    0.8166\n",
       "497    0.8062\n",
       "498    0.8212\n",
       "499    0.8271\n",
       "Name: 786, Length: 500, dtype: float64"
      ]
     },
     "metadata": {},
     "output_type": "display_data"
    },
    {
     "data": {
      "text/plain": [
       "0      0.000\n",
       "1      0.000\n",
       "2      0.000\n",
       "3      0.000\n",
       "4      0.007\n",
       "       ...  \n",
       "495      NaN\n",
       "496      NaN\n",
       "497      NaN\n",
       "498      NaN\n",
       "499      NaN\n",
       "Name: 787, Length: 500, dtype: float64"
      ]
     },
     "metadata": {},
     "output_type": "display_data"
    },
    {
     "data": {
      "text/plain": [
       "0         NaN\n",
       "1         NaN\n",
       "2      0.0000\n",
       "3      0.2353\n",
       "4      0.1667\n",
       "        ...  \n",
       "495    0.1994\n",
       "496    0.1623\n",
       "497    0.1764\n",
       "498    0.2383\n",
       "499    0.1592\n",
       "Name: 788, Length: 500, dtype: float64"
      ]
     },
     "metadata": {},
     "output_type": "display_data"
    },
    {
     "data": {
      "text/plain": [
       "0      0.0000\n",
       "1      0.0000\n",
       "2      0.0093\n",
       "3      0.0000\n",
       "4      0.0156\n",
       "        ...  \n",
       "495       NaN\n",
       "496       NaN\n",
       "497       NaN\n",
       "498       NaN\n",
       "499       NaN\n",
       "Name: 789, Length: 500, dtype: float64"
      ]
     },
     "metadata": {},
     "output_type": "display_data"
    },
    {
     "data": {
      "text/plain": [
       "0      0.0000\n",
       "1      0.0000\n",
       "2      0.0096\n",
       "3      0.0000\n",
       "4      0.0000\n",
       "        ...  \n",
       "495    0.0443\n",
       "496    0.0462\n",
       "497    0.0455\n",
       "498    0.0474\n",
       "499    0.0321\n",
       "Name: 790, Length: 500, dtype: float64"
      ]
     },
     "metadata": {},
     "output_type": "display_data"
    },
    {
     "data": {
      "text/plain": [
       "0      0.9714\n",
       "1         NaN\n",
       "2      0.9714\n",
       "3      0.9677\n",
       "4      0.8644\n",
       "        ...  \n",
       "495    0.8040\n",
       "496    0.8690\n",
       "497    0.8582\n",
       "498    0.7509\n",
       "499    0.4966\n",
       "Name: 791, Length: 500, dtype: float64"
      ]
     },
     "metadata": {},
     "output_type": "display_data"
    },
    {
     "data": {
      "text/plain": [
       "0      0.0000\n",
       "1      0.0057\n",
       "2      0.0000\n",
       "3      0.0000\n",
       "4      0.0000\n",
       "        ...  \n",
       "495    0.0610\n",
       "496    0.0717\n",
       "497    0.0584\n",
       "498    0.0748\n",
       "499    0.0743\n",
       "Name: 792, Length: 500, dtype: float64"
      ]
     },
     "metadata": {},
     "output_type": "display_data"
    },
    {
     "data": {
      "text/plain": [
       "0      0.0222\n",
       "1         NaN\n",
       "2      0.0000\n",
       "3      0.0000\n",
       "4      0.0000\n",
       "        ...  \n",
       "495    0.0449\n",
       "496    0.0515\n",
       "497    0.0494\n",
       "498    0.0444\n",
       "499    0.0408\n",
       "Name: 793, Length: 500, dtype: float64"
      ]
     },
     "metadata": {},
     "output_type": "display_data"
    },
    {
     "data": {
      "text/plain": [
       "0      0.0389\n",
       "1      0.0142\n",
       "2      0.0337\n",
       "3      0.0463\n",
       "4      0.0309\n",
       "        ...  \n",
       "495    0.0728\n",
       "496    0.1768\n",
       "497    0.0876\n",
       "498    0.1743\n",
       "499    0.0728\n",
       "Name: 794, Length: 500, dtype: float64"
      ]
     },
     "metadata": {},
     "output_type": "display_data"
    },
    {
     "data": {
      "text/plain": [
       "0      0.8772\n",
       "1      0.8922\n",
       "2      0.9048\n",
       "3      0.8889\n",
       "4      0.8889\n",
       "        ...  \n",
       "495       NaN\n",
       "496       NaN\n",
       "497       NaN\n",
       "498       NaN\n",
       "499       NaN\n",
       "Name: 795, Length: 500, dtype: float64"
      ]
     },
     "metadata": {},
     "output_type": "display_data"
    },
    {
     "data": {
      "text/plain": [
       "0      0.0424\n",
       "1      0.0000\n",
       "2      0.0000\n",
       "3      0.0112\n",
       "4      0.0000\n",
       "        ...  \n",
       "495    0.0205\n",
       "496    0.0288\n",
       "497    0.0579\n",
       "498    0.1482\n",
       "499    0.0356\n",
       "Name: 796, Length: 500, dtype: float64"
      ]
     },
     "metadata": {},
     "output_type": "display_data"
    },
    {
     "data": {
      "text/plain": [
       "0      0.0426\n",
       "1      0.0270\n",
       "2      0.0342\n",
       "3      0.0000\n",
       "4      0.0833\n",
       "        ...  \n",
       "495    0.2445\n",
       "496    0.1711\n",
       "497    0.3472\n",
       "498    0.5023\n",
       "499    0.4568\n",
       "Name: 797, Length: 500, dtype: float64"
      ]
     },
     "metadata": {},
     "output_type": "display_data"
    },
    {
     "data": {
      "text/plain": [
       "0      0.9057\n",
       "1      0.9400\n",
       "2      0.9767\n",
       "3      0.9558\n",
       "4      0.9839\n",
       "        ...  \n",
       "495    0.6357\n",
       "496    0.9046\n",
       "497    0.9028\n",
       "498    0.3077\n",
       "499    0.8427\n",
       "Name: 798, Length: 500, dtype: float64"
      ]
     },
     "metadata": {},
     "output_type": "display_data"
    },
    {
     "data": {
      "text/plain": [
       "0     NaN\n",
       "1     NaN\n",
       "2     NaN\n",
       "3     NaN\n",
       "4     NaN\n",
       "       ..\n",
       "495   NaN\n",
       "496   NaN\n",
       "497   NaN\n",
       "498   NaN\n",
       "499   NaN\n",
       "Name: 799, Length: 500, dtype: float64"
      ]
     },
     "metadata": {},
     "output_type": "display_data"
    },
    {
     "data": {
      "text/plain": [
       "0      0.1935\n",
       "1      0.2018\n",
       "2      0.4563\n",
       "3      0.3854\n",
       "4      0.3125\n",
       "        ...  \n",
       "495    0.2735\n",
       "496    0.4880\n",
       "497    0.5072\n",
       "498    0.3231\n",
       "499    0.2019\n",
       "Name: 800, Length: 500, dtype: float64"
      ]
     },
     "metadata": {},
     "output_type": "display_data"
    },
    {
     "data": {
      "text/plain": [
       "0      0.8889\n",
       "1         NaN\n",
       "2      0.9038\n",
       "3         NaN\n",
       "4      0.9324\n",
       "        ...  \n",
       "495    0.8156\n",
       "496    0.8524\n",
       "497    0.8001\n",
       "498    0.7873\n",
       "499    0.7046\n",
       "Name: 801, Length: 500, dtype: float64"
      ]
     },
     "metadata": {},
     "output_type": "display_data"
    },
    {
     "data": {
      "text/plain": [
       "0      0.4845\n",
       "1      0.5000\n",
       "2      0.4159\n",
       "3      0.5811\n",
       "4      0.3991\n",
       "        ...  \n",
       "495    0.3246\n",
       "496    0.5828\n",
       "497    0.7775\n",
       "498    0.7400\n",
       "499    0.7890\n",
       "Name: 802, Length: 500, dtype: float64"
      ]
     },
     "metadata": {},
     "output_type": "display_data"
    },
    {
     "data": {
      "text/plain": [
       "0      0.7257\n",
       "1      0.7234\n",
       "2      0.7174\n",
       "3      0.8200\n",
       "4      0.9153\n",
       "        ...  \n",
       "495    0.4653\n",
       "496    0.3667\n",
       "497    0.4152\n",
       "498    0.4342\n",
       "499    0.4539\n",
       "Name: 803, Length: 500, dtype: float64"
      ]
     },
     "metadata": {},
     "output_type": "display_data"
    },
    {
     "data": {
      "text/plain": [
       "0      0.1429\n",
       "1      0.0490\n",
       "2      0.0514\n",
       "3      0.1333\n",
       "4      0.0514\n",
       "        ...  \n",
       "495    0.4553\n",
       "496    0.2251\n",
       "497    0.2106\n",
       "498    0.4148\n",
       "499    0.1740\n",
       "Name: 804, Length: 500, dtype: float64"
      ]
     },
     "metadata": {},
     "output_type": "display_data"
    },
    {
     "data": {
      "text/plain": [
       "0      0.0000\n",
       "1      0.0000\n",
       "2      0.0000\n",
       "3      0.0000\n",
       "4      0.0000\n",
       "        ...  \n",
       "495    0.0300\n",
       "496    0.0313\n",
       "497    0.0286\n",
       "498    0.0326\n",
       "499    0.0261\n",
       "Name: 805, Length: 500, dtype: float64"
      ]
     },
     "metadata": {},
     "output_type": "display_data"
    },
    {
     "data": {
      "text/plain": [
       "0      0.0135\n",
       "1      0.0000\n",
       "2      0.0517\n",
       "3      0.0081\n",
       "4      0.0081\n",
       "        ...  \n",
       "495    0.0433\n",
       "496    0.0562\n",
       "497    0.0618\n",
       "498    0.0433\n",
       "499    0.0366\n",
       "Name: 806, Length: 500, dtype: float64"
      ]
     },
     "metadata": {},
     "output_type": "display_data"
    },
    {
     "data": {
      "text/plain": [
       "0      0.8542\n",
       "1         NaN\n",
       "2      0.9167\n",
       "3         NaN\n",
       "4      0.8542\n",
       "        ...  \n",
       "495    0.8264\n",
       "496    0.7568\n",
       "497    0.7847\n",
       "498    0.8452\n",
       "499    0.8498\n",
       "Name: 807, Length: 500, dtype: float64"
      ]
     },
     "metadata": {},
     "output_type": "display_data"
    },
    {
     "data": {
      "text/plain": [
       "0         NaN\n",
       "1         NaN\n",
       "2         NaN\n",
       "3      0.7727\n",
       "4         NaN\n",
       "        ...  \n",
       "495    0.8028\n",
       "496    0.5934\n",
       "497    0.6617\n",
       "498    0.5577\n",
       "499    0.6886\n",
       "Name: 808, Length: 500, dtype: float64"
      ]
     },
     "metadata": {},
     "output_type": "display_data"
    },
    {
     "data": {
      "text/plain": [
       "0      0.0200\n",
       "1      0.0448\n",
       "2      0.0364\n",
       "3      0.0000\n",
       "4      0.0000\n",
       "        ...  \n",
       "495    0.1536\n",
       "496    0.1758\n",
       "497    0.0850\n",
       "498    0.2930\n",
       "499    0.1539\n",
       "Name: 809, Length: 500, dtype: float64"
      ]
     },
     "metadata": {},
     "output_type": "display_data"
    },
    {
     "data": {
      "text/plain": [
       "0      0.0625\n",
       "1      0.0255\n",
       "2      0.0220\n",
       "3      0.0190\n",
       "4      0.0255\n",
       "        ...  \n",
       "495    0.1403\n",
       "496    0.2328\n",
       "497    0.0704\n",
       "498    0.0605\n",
       "499    0.1337\n",
       "Name: 810, Length: 500, dtype: float64"
      ]
     },
     "metadata": {},
     "output_type": "display_data"
    },
    {
     "data": {
      "text/plain": [
       "0      0.9128\n",
       "1      0.9479\n",
       "2      0.9364\n",
       "3      0.9310\n",
       "4      0.9268\n",
       "        ...  \n",
       "495    0.9507\n",
       "496    0.9314\n",
       "497    0.9249\n",
       "498    0.9372\n",
       "499    0.6539\n",
       "Name: 811, Length: 500, dtype: float64"
      ]
     },
     "metadata": {},
     "output_type": "display_data"
    },
    {
     "data": {
      "text/plain": [
       "0      0.8831\n",
       "1      0.8267\n",
       "2      0.8267\n",
       "3      0.9062\n",
       "4      0.8525\n",
       "        ...  \n",
       "495       NaN\n",
       "496       NaN\n",
       "497       NaN\n",
       "498       NaN\n",
       "499       NaN\n",
       "Name: 812, Length: 500, dtype: float64"
      ]
     },
     "metadata": {},
     "output_type": "display_data"
    },
    {
     "data": {
      "text/plain": [
       "0      0.4038\n",
       "1      0.2069\n",
       "2      0.2658\n",
       "3      0.2781\n",
       "4      0.2222\n",
       "        ...  \n",
       "495    0.5530\n",
       "496    0.5553\n",
       "497    0.5066\n",
       "498    0.4620\n",
       "499    0.6289\n",
       "Name: 813, Length: 500, dtype: float64"
      ]
     },
     "metadata": {},
     "output_type": "display_data"
    },
    {
     "data": {
      "text/plain": [
       "0      0.0190\n",
       "1      0.0241\n",
       "2      0.0299\n",
       "3      0.0097\n",
       "4      0.0000\n",
       "        ...  \n",
       "495    0.0630\n",
       "496    0.0756\n",
       "497    0.0638\n",
       "498    0.0947\n",
       "499    0.0596\n",
       "Name: 814, Length: 500, dtype: float64"
      ]
     },
     "metadata": {},
     "output_type": "display_data"
    },
    {
     "data": {
      "text/plain": [
       "0      0.0548\n",
       "1      0.0409\n",
       "2      0.0084\n",
       "3      0.0156\n",
       "4      0.0244\n",
       "        ...  \n",
       "495    0.0340\n",
       "496    0.0356\n",
       "497    0.0307\n",
       "498    0.0370\n",
       "499    0.0550\n",
       "Name: 815, Length: 500, dtype: float64"
      ]
     },
     "metadata": {},
     "output_type": "display_data"
    },
    {
     "data": {
      "text/plain": [
       "0      0.1259\n",
       "1      0.1538\n",
       "2      0.1538\n",
       "3      0.1770\n",
       "4      0.1007\n",
       "        ...  \n",
       "495    0.1105\n",
       "496    0.1175\n",
       "497    0.1415\n",
       "498    0.1445\n",
       "499    0.1848\n",
       "Name: 816, Length: 500, dtype: float64"
      ]
     },
     "metadata": {},
     "output_type": "display_data"
    },
    {
     "data": {
      "text/plain": [
       "0      0.1458\n",
       "1      0.3061\n",
       "2      0.3421\n",
       "3      0.3469\n",
       "4      0.2500\n",
       "        ...  \n",
       "495    0.2598\n",
       "496    0.1033\n",
       "497    0.1904\n",
       "498    0.8371\n",
       "499    0.4479\n",
       "Name: 817, Length: 500, dtype: float64"
      ]
     },
     "metadata": {},
     "output_type": "display_data"
    },
    {
     "data": {
      "text/plain": [
       "0         NaN\n",
       "1         NaN\n",
       "2         NaN\n",
       "3         NaN\n",
       "4         NaN\n",
       "        ...  \n",
       "495    0.8673\n",
       "496    0.8933\n",
       "497    0.8678\n",
       "498    0.9114\n",
       "499    0.9089\n",
       "Name: 818, Length: 500, dtype: float64"
      ]
     },
     "metadata": {},
     "output_type": "display_data"
    },
    {
     "data": {
      "text/plain": [
       "0      0.0000\n",
       "1      0.0000\n",
       "2      0.0000\n",
       "3      0.0000\n",
       "4      0.0000\n",
       "        ...  \n",
       "495    0.0329\n",
       "496    0.0720\n",
       "497    0.0345\n",
       "498    0.0405\n",
       "499    0.0384\n",
       "Name: 819, Length: 500, dtype: float64"
      ]
     },
     "metadata": {},
     "output_type": "display_data"
    },
    {
     "data": {
      "text/plain": [
       "0      0.0000\n",
       "1      0.0000\n",
       "2      0.0000\n",
       "3      0.0000\n",
       "4      0.0000\n",
       "        ...  \n",
       "495    0.0574\n",
       "496    0.0435\n",
       "497    0.0433\n",
       "498    0.0407\n",
       "499    0.0392\n",
       "Name: 820, Length: 500, dtype: float64"
      ]
     },
     "metadata": {},
     "output_type": "display_data"
    },
    {
     "data": {
      "text/plain": [
       "0         NaN\n",
       "1      0.9417\n",
       "2      0.9552\n",
       "3      0.9875\n",
       "4      0.9722\n",
       "        ...  \n",
       "495    0.7368\n",
       "496    0.9345\n",
       "497    0.9439\n",
       "498    0.9298\n",
       "499    0.9196\n",
       "Name: 821, Length: 500, dtype: float64"
      ]
     },
     "metadata": {},
     "output_type": "display_data"
    },
    {
     "data": {
      "text/plain": [
       "0      0.0099\n",
       "1      0.0167\n",
       "2      0.0204\n",
       "3      0.0168\n",
       "4      0.0000\n",
       "        ...  \n",
       "495    0.0654\n",
       "496    0.0677\n",
       "497    0.0642\n",
       "498    0.1596\n",
       "499    0.1701\n",
       "Name: 822, Length: 500, dtype: float64"
      ]
     },
     "metadata": {},
     "output_type": "display_data"
    },
    {
     "data": {
      "text/plain": [
       "0      0.4651\n",
       "1      0.4200\n",
       "2      0.3019\n",
       "3      0.2000\n",
       "4      0.2917\n",
       "        ...  \n",
       "495    0.1850\n",
       "496    0.4256\n",
       "497    0.5301\n",
       "498    0.5295\n",
       "499    0.4793\n",
       "Name: 823, Length: 500, dtype: float64"
      ]
     },
     "metadata": {},
     "output_type": "display_data"
    },
    {
     "data": {
      "text/plain": [
       "0      0.8763\n",
       "1      0.9358\n",
       "2      0.9494\n",
       "3      0.9412\n",
       "4      0.8987\n",
       "        ...  \n",
       "495       NaN\n",
       "496       NaN\n",
       "497       NaN\n",
       "498       NaN\n",
       "499       NaN\n",
       "Name: 824, Length: 500, dtype: float64"
      ]
     },
     "metadata": {},
     "output_type": "display_data"
    },
    {
     "data": {
      "text/plain": [
       "0      0.0408\n",
       "1      0.0357\n",
       "2      0.0120\n",
       "3      0.0278\n",
       "4      0.0000\n",
       "        ...  \n",
       "495    0.0748\n",
       "496    0.2173\n",
       "497    0.2157\n",
       "498    0.1167\n",
       "499    0.1142\n",
       "Name: 825, Length: 500, dtype: float64"
      ]
     },
     "metadata": {},
     "output_type": "display_data"
    },
    {
     "data": {
      "text/plain": [
       "0      0.0000\n",
       "1      0.0042\n",
       "2      0.0000\n",
       "3      0.0042\n",
       "4      0.0206\n",
       "        ...  \n",
       "495    0.1556\n",
       "496    0.0506\n",
       "497    0.0659\n",
       "498    0.1377\n",
       "499    0.1154\n",
       "Name: 826, Length: 500, dtype: float64"
      ]
     },
     "metadata": {},
     "output_type": "display_data"
    },
    {
     "data": {
      "text/plain": [
       "0      0.0099\n",
       "1      0.0039\n",
       "2      0.0090\n",
       "3      0.0159\n",
       "4      0.0099\n",
       "        ...  \n",
       "495    0.0394\n",
       "496    0.0641\n",
       "497    0.0747\n",
       "498    0.0698\n",
       "499    0.1571\n",
       "Name: 827, Length: 500, dtype: float64"
      ]
     },
     "metadata": {},
     "output_type": "display_data"
    },
    {
     "data": {
      "text/plain": [
       "0      0.7595\n",
       "1      0.8302\n",
       "2      0.7778\n",
       "3      0.8014\n",
       "4      0.7442\n",
       "        ...  \n",
       "495    0.8366\n",
       "496    0.8347\n",
       "497    0.9191\n",
       "498    0.8250\n",
       "499    0.8018\n",
       "Name: 828, Length: 500, dtype: float64"
      ]
     },
     "metadata": {},
     "output_type": "display_data"
    },
    {
     "data": {
      "text/plain": [
       "0      0.8475\n",
       "1      0.7842\n",
       "2      0.8286\n",
       "3      0.8533\n",
       "4      0.8475\n",
       "        ...  \n",
       "495    0.8457\n",
       "496    0.8054\n",
       "497    0.8560\n",
       "498    0.5647\n",
       "499    0.8448\n",
       "Name: 829, Length: 500, dtype: float64"
      ]
     },
     "metadata": {},
     "output_type": "display_data"
    },
    {
     "data": {
      "text/plain": [
       "0      0.3140\n",
       "1      0.3140\n",
       "2      0.2840\n",
       "3      0.3235\n",
       "4      0.1988\n",
       "        ...  \n",
       "495    0.3399\n",
       "496    0.3223\n",
       "497    0.3169\n",
       "498    0.3279\n",
       "499    0.2937\n",
       "Name: 830, Length: 500, dtype: float64"
      ]
     },
     "metadata": {},
     "output_type": "display_data"
    },
    {
     "data": {
      "text/plain": [
       "0         NaN\n",
       "1      0.7812\n",
       "2         NaN\n",
       "3      0.7551\n",
       "4      0.4722\n",
       "        ...  \n",
       "495       NaN\n",
       "496       NaN\n",
       "497       NaN\n",
       "498       NaN\n",
       "499       NaN\n",
       "Name: 831, Length: 500, dtype: float64"
      ]
     },
     "metadata": {},
     "output_type": "display_data"
    },
    {
     "data": {
      "text/plain": [
       "0      0.7797\n",
       "1      0.9104\n",
       "2      0.5052\n",
       "3      0.8116\n",
       "4      0.7692\n",
       "        ...  \n",
       "495    0.3649\n",
       "496    0.6323\n",
       "497    0.6567\n",
       "498    0.3756\n",
       "499    0.3504\n",
       "Name: 832, Length: 500, dtype: float64"
      ]
     },
     "metadata": {},
     "output_type": "display_data"
    },
    {
     "data": {
      "text/plain": [
       "0      0.9286\n",
       "1      0.8252\n",
       "2      0.9274\n",
       "3      0.9098\n",
       "4      0.8252\n",
       "        ...  \n",
       "495    0.8321\n",
       "496    0.8395\n",
       "497    0.8230\n",
       "498    0.8870\n",
       "499    0.8234\n",
       "Name: 833, Length: 500, dtype: float64"
      ]
     },
     "metadata": {},
     "output_type": "display_data"
    },
    {
     "data": {
      "text/plain": [
       "0      0.8247\n",
       "1      0.8113\n",
       "2      0.9370\n",
       "3      0.8889\n",
       "4      0.8247\n",
       "        ...  \n",
       "495    0.8364\n",
       "496    0.8794\n",
       "497    0.8528\n",
       "498    0.9041\n",
       "499    0.9104\n",
       "Name: 834, Length: 500, dtype: float64"
      ]
     },
     "metadata": {},
     "output_type": "display_data"
    },
    {
     "data": {
      "text/plain": [
       "0      0.4048\n",
       "1      0.3617\n",
       "2      0.6585\n",
       "3      0.4048\n",
       "4      0.4048\n",
       "        ...  \n",
       "495    0.1502\n",
       "496    0.2347\n",
       "497    0.3780\n",
       "498    0.3633\n",
       "499    0.6310\n",
       "Name: 835, Length: 500, dtype: float64"
      ]
     },
     "metadata": {},
     "output_type": "display_data"
    },
    {
     "data": {
      "text/plain": [
       "0         NaN\n",
       "1         NaN\n",
       "2         NaN\n",
       "3         NaN\n",
       "4         NaN\n",
       "        ...  \n",
       "495    0.7043\n",
       "496    0.6721\n",
       "497    0.5356\n",
       "498    0.4377\n",
       "499    0.2024\n",
       "Name: 836, Length: 500, dtype: float64"
      ]
     },
     "metadata": {},
     "output_type": "display_data"
    },
    {
     "data": {
      "text/plain": [
       "0      0.0041\n",
       "1      0.0100\n",
       "2      0.0099\n",
       "3      0.0243\n",
       "4      0.0081\n",
       "        ...  \n",
       "495    0.0694\n",
       "496    0.0388\n",
       "497    0.0557\n",
       "498    0.0447\n",
       "499    0.0471\n",
       "Name: 837, Length: 500, dtype: float64"
      ]
     },
     "metadata": {},
     "output_type": "display_data"
    },
    {
     "data": {
      "text/plain": [
       "0      0.0000\n",
       "1      0.0000\n",
       "2      0.0000\n",
       "3      0.0000\n",
       "4      0.0000\n",
       "        ...  \n",
       "495    0.0332\n",
       "496    0.0616\n",
       "497    0.0356\n",
       "498    0.0372\n",
       "499    0.0294\n",
       "Name: 838, Length: 500, dtype: float64"
      ]
     },
     "metadata": {},
     "output_type": "display_data"
    },
    {
     "data": {
      "text/plain": [
       "0      0.0097\n",
       "1      0.0078\n",
       "2      0.0031\n",
       "3      0.0000\n",
       "4      0.0000\n",
       "        ...  \n",
       "495    0.1141\n",
       "496    0.1224\n",
       "497    0.0923\n",
       "498    0.1247\n",
       "499    0.0816\n",
       "Name: 839, Length: 500, dtype: float64"
      ]
     },
     "metadata": {},
     "output_type": "display_data"
    },
    {
     "data": {
      "text/plain": [
       "0      0.9261\n",
       "1      0.9324\n",
       "2      0.9213\n",
       "3      0.9600\n",
       "4      0.9338\n",
       "        ...  \n",
       "495    0.7872\n",
       "496    0.8399\n",
       "497    0.7902\n",
       "498    0.7866\n",
       "499    0.7704\n",
       "Name: 840, Length: 500, dtype: float64"
      ]
     },
     "metadata": {},
     "output_type": "display_data"
    },
    {
     "data": {
      "text/plain": [
       "0      0.9661\n",
       "1      0.9778\n",
       "2      0.9273\n",
       "3      0.9574\n",
       "4      0.9744\n",
       "        ...  \n",
       "495    0.8540\n",
       "496    0.8056\n",
       "497    0.8364\n",
       "498    0.8031\n",
       "499    0.7488\n",
       "Name: 841, Length: 500, dtype: float64"
      ]
     },
     "metadata": {},
     "output_type": "display_data"
    },
    {
     "data": {
      "text/plain": [
       "0      0.1702\n",
       "1      0.1522\n",
       "2      0.0469\n",
       "3      0.0732\n",
       "4      0.1231\n",
       "        ...  \n",
       "495    0.2168\n",
       "496    0.2291\n",
       "497    0.2233\n",
       "498    0.1524\n",
       "499    0.2602\n",
       "Name: 842, Length: 500, dtype: float64"
      ]
     },
     "metadata": {},
     "output_type": "display_data"
    },
    {
     "data": {
      "text/plain": [
       "0      0.2571\n",
       "1      0.3171\n",
       "2      0.3721\n",
       "3      0.3600\n",
       "4      0.4386\n",
       "        ...  \n",
       "495    0.2477\n",
       "496    0.4108\n",
       "497    0.2680\n",
       "498    0.2095\n",
       "499    0.4283\n",
       "Name: 843, Length: 500, dtype: float64"
      ]
     },
     "metadata": {},
     "output_type": "display_data"
    },
    {
     "data": {
      "text/plain": [
       "0      0.0153\n",
       "1      0.0126\n",
       "2      0.0063\n",
       "3      0.0877\n",
       "4      0.0097\n",
       "        ...  \n",
       "495    0.0438\n",
       "496    0.0453\n",
       "497    0.0351\n",
       "498    0.0560\n",
       "499    0.0408\n",
       "Name: 844, Length: 500, dtype: float64"
      ]
     },
     "metadata": {},
     "output_type": "display_data"
    },
    {
     "data": {
      "text/plain": [
       "0      0.9302\n",
       "1      0.9406\n",
       "2      0.9028\n",
       "3      0.9692\n",
       "4      0.8919\n",
       "        ...  \n",
       "495       NaN\n",
       "496       NaN\n",
       "497       NaN\n",
       "498       NaN\n",
       "499       NaN\n",
       "Name: 845, Length: 500, dtype: float64"
      ]
     },
     "metadata": {},
     "output_type": "display_data"
    },
    {
     "data": {
      "text/plain": [
       "0         NaN\n",
       "1      0.6757\n",
       "2         NaN\n",
       "3         NaN\n",
       "4      0.7442\n",
       "        ...  \n",
       "495    0.8079\n",
       "496    0.8239\n",
       "497    0.8845\n",
       "498    0.8835\n",
       "499    0.8513\n",
       "Name: 846, Length: 500, dtype: float64"
      ]
     },
     "metadata": {},
     "output_type": "display_data"
    },
    {
     "data": {
      "text/plain": [
       "0      0.0000\n",
       "1      0.0000\n",
       "2      0.0000\n",
       "3      0.0000\n",
       "4      0.0000\n",
       "        ...  \n",
       "495    0.0561\n",
       "496    0.0381\n",
       "497    0.0491\n",
       "498    0.0566\n",
       "499    0.0466\n",
       "Name: 847, Length: 500, dtype: float64"
      ]
     },
     "metadata": {},
     "output_type": "display_data"
    },
    {
     "data": {
      "text/plain": [
       "0      0.0161\n",
       "1      0.0000\n",
       "2      0.0000\n",
       "3      0.0000\n",
       "4      0.0000\n",
       "        ...  \n",
       "495    0.0368\n",
       "496    0.0418\n",
       "497    0.0355\n",
       "498    0.0401\n",
       "499    0.0389\n",
       "Name: 848, Length: 500, dtype: float64"
      ]
     },
     "metadata": {},
     "output_type": "display_data"
    },
    {
     "data": {
      "text/plain": [
       "0      0.0154\n",
       "1      0.0125\n",
       "2      0.0235\n",
       "3      0.0363\n",
       "4      0.0227\n",
       "        ...  \n",
       "495    0.0591\n",
       "496    0.2666\n",
       "497    0.1476\n",
       "498    0.0457\n",
       "499    0.0521\n",
       "Name: 849, Length: 500, dtype: float64"
      ]
     },
     "metadata": {},
     "output_type": "display_data"
    },
    {
     "data": {
      "text/plain": [
       "0      0.0000\n",
       "1      0.0000\n",
       "2      0.0000\n",
       "3      0.0000\n",
       "4      0.0000\n",
       "        ...  \n",
       "495    0.0388\n",
       "496    0.0261\n",
       "497    0.0309\n",
       "498    0.0404\n",
       "499    0.0359\n",
       "Name: 850, Length: 500, dtype: float64"
      ]
     },
     "metadata": {},
     "output_type": "display_data"
    },
    {
     "data": {
      "text/plain": [
       "0     NaN\n",
       "1     NaN\n",
       "2     NaN\n",
       "3     NaN\n",
       "4     NaN\n",
       "       ..\n",
       "495   NaN\n",
       "496   NaN\n",
       "497   NaN\n",
       "498   NaN\n",
       "499   NaN\n",
       "Name: 851, Length: 500, dtype: float64"
      ]
     },
     "metadata": {},
     "output_type": "display_data"
    },
    {
     "data": {
      "text/plain": [
       "0      0.0000\n",
       "1      0.0048\n",
       "2      0.0000\n",
       "3      0.0000\n",
       "4      0.0000\n",
       "        ...  \n",
       "495    0.0246\n",
       "496    0.0380\n",
       "497    0.0306\n",
       "498    0.0374\n",
       "499    0.0300\n",
       "Name: 852, Length: 500, dtype: float64"
      ]
     },
     "metadata": {},
     "output_type": "display_data"
    },
    {
     "data": {
      "text/plain": [
       "0      0.0972\n",
       "1      0.0556\n",
       "2         NaN\n",
       "3      0.0500\n",
       "4      0.0640\n",
       "        ...  \n",
       "495    0.2055\n",
       "496    0.2335\n",
       "497    0.1501\n",
       "498    0.1424\n",
       "499    0.2117\n",
       "Name: 853, Length: 500, dtype: float64"
      ]
     },
     "metadata": {},
     "output_type": "display_data"
    },
    {
     "data": {
      "text/plain": [
       "0      0.0000\n",
       "1      0.0000\n",
       "2      0.0000\n",
       "3      0.0000\n",
       "4      0.0000\n",
       "        ...  \n",
       "495    0.0460\n",
       "496    0.0533\n",
       "497    0.0339\n",
       "498    0.0421\n",
       "499    0.0471\n",
       "Name: 854, Length: 500, dtype: float64"
      ]
     },
     "metadata": {},
     "output_type": "display_data"
    },
    {
     "data": {
      "text/plain": [
       "0      0.9478\n",
       "1      0.9412\n",
       "2      0.9268\n",
       "3      0.9571\n",
       "4      0.9870\n",
       "        ...  \n",
       "495    0.8910\n",
       "496    0.8996\n",
       "497    0.8731\n",
       "498    0.9278\n",
       "499    0.9254\n",
       "Name: 855, Length: 500, dtype: float64"
      ]
     },
     "metadata": {},
     "output_type": "display_data"
    },
    {
     "data": {
      "text/plain": [
       "0      0.9516\n",
       "1      0.9722\n",
       "2      0.9759\n",
       "3      0.9737\n",
       "4      0.9808\n",
       "        ...  \n",
       "495    0.9589\n",
       "496    0.9546\n",
       "497    0.9661\n",
       "498    0.9619\n",
       "499    0.9601\n",
       "Name: 856, Length: 500, dtype: float64"
      ]
     },
     "metadata": {},
     "output_type": "display_data"
    },
    {
     "data": {
      "text/plain": [
       "0      0.9688\n",
       "1      0.9527\n",
       "2      0.9180\n",
       "3      0.9180\n",
       "4      0.9527\n",
       "        ...  \n",
       "495    0.9170\n",
       "496    0.9325\n",
       "497    0.9140\n",
       "498    0.7999\n",
       "499    0.9307\n",
       "Name: 857, Length: 500, dtype: float64"
      ]
     },
     "metadata": {},
     "output_type": "display_data"
    },
    {
     "data": {
      "text/plain": [
       "0         NaN\n",
       "1      0.8200\n",
       "2      0.8434\n",
       "3         NaN\n",
       "4         NaN\n",
       "        ...  \n",
       "495    0.7606\n",
       "496    0.8193\n",
       "497    0.8776\n",
       "498    0.7405\n",
       "499    0.8193\n",
       "Name: 858, Length: 500, dtype: float64"
      ]
     },
     "metadata": {},
     "output_type": "display_data"
    },
    {
     "data": {
      "text/plain": [
       "0      0.6957\n",
       "1      0.8800\n",
       "2      0.8627\n",
       "3      0.9375\n",
       "4      0.9216\n",
       "        ...  \n",
       "495    0.6883\n",
       "496    0.7702\n",
       "497    0.7237\n",
       "498    0.6742\n",
       "499    0.7159\n",
       "Name: 859, Length: 500, dtype: float64"
      ]
     },
     "metadata": {},
     "output_type": "display_data"
    },
    {
     "data": {
      "text/plain": [
       "0      0.8534\n",
       "1      0.9167\n",
       "2      0.8636\n",
       "3      0.9167\n",
       "4      0.9045\n",
       "        ...  \n",
       "495    0.7663\n",
       "496    0.8714\n",
       "497    0.8769\n",
       "498    0.7914\n",
       "499    0.7895\n",
       "Name: 860, Length: 500, dtype: float64"
      ]
     },
     "metadata": {},
     "output_type": "display_data"
    },
    {
     "data": {
      "text/plain": [
       "0      0.9134\n",
       "1      0.9153\n",
       "2      0.9184\n",
       "3      0.8922\n",
       "4      0.8462\n",
       "        ...  \n",
       "495    0.7867\n",
       "496    0.8241\n",
       "497    0.8455\n",
       "498    0.8128\n",
       "499    0.8416\n",
       "Name: 861, Length: 500, dtype: float64"
      ]
     },
     "metadata": {},
     "output_type": "display_data"
    },
    {
     "data": {
      "text/plain": [
       "0      0.8571\n",
       "1      0.8909\n",
       "2      0.9223\n",
       "3         NaN\n",
       "4      0.9672\n",
       "        ...  \n",
       "495    0.9699\n",
       "496    0.9638\n",
       "497    0.9490\n",
       "498    0.9750\n",
       "499    0.9794\n",
       "Name: 862, Length: 500, dtype: float64"
      ]
     },
     "metadata": {},
     "output_type": "display_data"
    },
    {
     "data": {
      "text/plain": [
       "0      0.1579\n",
       "1      0.0633\n",
       "2      0.0889\n",
       "3      0.1228\n",
       "4      0.3043\n",
       "        ...  \n",
       "495    0.0786\n",
       "496    0.1191\n",
       "497    0.2617\n",
       "498    0.1824\n",
       "499    0.1892\n",
       "Name: 863, Length: 500, dtype: float64"
      ]
     },
     "metadata": {},
     "output_type": "display_data"
    },
    {
     "data": {
      "text/plain": [
       "0      0.0669\n",
       "1      0.0300\n",
       "2      0.1613\n",
       "3      0.0161\n",
       "4      0.0824\n",
       "        ...  \n",
       "495    0.5053\n",
       "496    0.6233\n",
       "497    0.3850\n",
       "498    0.5121\n",
       "499    0.5121\n",
       "Name: 864, Length: 500, dtype: float64"
      ]
     },
     "metadata": {},
     "output_type": "display_data"
    },
    {
     "data": {
      "text/plain": [
       "0      0.0000\n",
       "1      0.0000\n",
       "2      0.0000\n",
       "3      0.0000\n",
       "4      0.0000\n",
       "        ...  \n",
       "495    0.0359\n",
       "496    0.0463\n",
       "497    0.0444\n",
       "498    0.0382\n",
       "499    0.0360\n",
       "Name: 865, Length: 500, dtype: float64"
      ]
     },
     "metadata": {},
     "output_type": "display_data"
    },
    {
     "data": {
      "text/plain": [
       "0      0.0000\n",
       "1      0.0000\n",
       "2      0.0000\n",
       "3      0.0000\n",
       "4      0.0000\n",
       "        ...  \n",
       "495    0.0232\n",
       "496    0.0199\n",
       "497    0.0208\n",
       "498    0.0185\n",
       "499    0.0145\n",
       "Name: 866, Length: 500, dtype: float64"
      ]
     },
     "metadata": {},
     "output_type": "display_data"
    },
    {
     "data": {
      "text/plain": [
       "0      0.0000\n",
       "1      0.0000\n",
       "2      0.0000\n",
       "3      0.0000\n",
       "4      0.0000\n",
       "        ...  \n",
       "495    0.0464\n",
       "496    0.0493\n",
       "497    0.0467\n",
       "498    0.0580\n",
       "499    0.0649\n",
       "Name: 867, Length: 500, dtype: float64"
      ]
     },
     "metadata": {},
     "output_type": "display_data"
    },
    {
     "data": {
      "text/plain": [
       "0      0.9720\n",
       "1      0.9720\n",
       "2      0.9351\n",
       "3      0.9863\n",
       "4      0.9194\n",
       "        ...  \n",
       "495    0.9141\n",
       "496    0.9639\n",
       "497    0.9486\n",
       "498    0.9371\n",
       "499    0.9566\n",
       "Name: 868, Length: 500, dtype: float64"
      ]
     },
     "metadata": {},
     "output_type": "display_data"
    },
    {
     "data": {
      "text/plain": [
       "0      0.9730\n",
       "1      0.9524\n",
       "2      0.9333\n",
       "3      0.9688\n",
       "4      1.0000\n",
       "        ...  \n",
       "495    0.8981\n",
       "496    0.8992\n",
       "497    0.9052\n",
       "498    0.8687\n",
       "499    0.9068\n",
       "Name: 869, Length: 500, dtype: float64"
      ]
     },
     "metadata": {},
     "output_type": "display_data"
    },
    {
     "data": {
      "text/plain": [
       "0      0.9180\n",
       "1      0.9549\n",
       "2      0.9225\n",
       "3      0.9664\n",
       "4      0.9573\n",
       "        ...  \n",
       "495    0.8751\n",
       "496    0.8161\n",
       "497    0.8954\n",
       "498    0.9135\n",
       "499    0.8928\n",
       "Name: 870, Length: 500, dtype: float64"
      ]
     },
     "metadata": {},
     "output_type": "display_data"
    },
    {
     "data": {
      "text/plain": [
       "0      0.9091\n",
       "1      0.8542\n",
       "2      0.8507\n",
       "3      0.5507\n",
       "4      0.8947\n",
       "        ...  \n",
       "495    0.8137\n",
       "496    0.8202\n",
       "497    0.8301\n",
       "498    0.8851\n",
       "499    0.7961\n",
       "Name: 871, Length: 500, dtype: float64"
      ]
     },
     "metadata": {},
     "output_type": "display_data"
    },
    {
     "data": {
      "text/plain": [
       "0      0.9346\n",
       "1      0.9577\n",
       "2      0.9487\n",
       "3      0.9474\n",
       "4      0.9474\n",
       "        ...  \n",
       "495    0.9424\n",
       "496    0.9458\n",
       "497    0.9410\n",
       "498    0.9447\n",
       "499    0.9321\n",
       "Name: 872, Length: 500, dtype: float64"
      ]
     },
     "metadata": {},
     "output_type": "display_data"
    },
    {
     "data": {
      "text/plain": [
       "0      0.9553\n",
       "1      0.9510\n",
       "2      0.9167\n",
       "3      0.9358\n",
       "4      0.9677\n",
       "        ...  \n",
       "495    0.9511\n",
       "496    0.9301\n",
       "497    0.9405\n",
       "498    0.9045\n",
       "499    0.9205\n",
       "Name: 873, Length: 500, dtype: float64"
      ]
     },
     "metadata": {},
     "output_type": "display_data"
    },
    {
     "data": {
      "text/plain": [
       "0      0.0000\n",
       "1      0.0000\n",
       "2      0.0099\n",
       "3      0.0000\n",
       "4      0.0068\n",
       "        ...  \n",
       "495    0.0383\n",
       "496    0.0325\n",
       "497    0.0375\n",
       "498    0.0339\n",
       "499    0.0298\n",
       "Name: 874, Length: 500, dtype: float64"
      ]
     },
     "metadata": {},
     "output_type": "display_data"
    },
    {
     "data": {
      "text/plain": [
       "0      0.8936\n",
       "1      0.9118\n",
       "2      0.8750\n",
       "3      0.9118\n",
       "4      0.8750\n",
       "        ...  \n",
       "495    0.7797\n",
       "496    0.7644\n",
       "497    0.7575\n",
       "498    0.8362\n",
       "499    0.8037\n",
       "Name: 875, Length: 500, dtype: float64"
      ]
     },
     "metadata": {},
     "output_type": "display_data"
    },
    {
     "data": {
      "text/plain": [
       "0      0.7468\n",
       "1      0.8387\n",
       "2      0.8200\n",
       "3      0.8472\n",
       "4      0.8529\n",
       "        ...  \n",
       "495       NaN\n",
       "496       NaN\n",
       "497       NaN\n",
       "498       NaN\n",
       "499       NaN\n",
       "Name: 876, Length: 500, dtype: float64"
      ]
     },
     "metadata": {},
     "output_type": "display_data"
    },
    {
     "data": {
      "text/plain": [
       "0         NaN\n",
       "1         NaN\n",
       "2         NaN\n",
       "3         NaN\n",
       "4         NaN\n",
       "        ...  \n",
       "495    0.4124\n",
       "496    0.5456\n",
       "497    0.5337\n",
       "498    0.4937\n",
       "499    0.4495\n",
       "Name: 877, Length: 500, dtype: float64"
      ]
     },
     "metadata": {},
     "output_type": "display_data"
    },
    {
     "data": {
      "text/plain": [
       "0         NaN\n",
       "1      0.9429\n",
       "2         NaN\n",
       "3         NaN\n",
       "4      0.9429\n",
       "        ...  \n",
       "495       NaN\n",
       "496       NaN\n",
       "497       NaN\n",
       "498       NaN\n",
       "499       NaN\n",
       "Name: 878, Length: 500, dtype: float64"
      ]
     },
     "metadata": {},
     "output_type": "display_data"
    },
    {
     "data": {
      "text/plain": [
       "0         NaN\n",
       "1         NaN\n",
       "2         NaN\n",
       "3         NaN\n",
       "4         NaN\n",
       "        ...  \n",
       "495    0.6532\n",
       "496    0.6979\n",
       "497    0.5051\n",
       "498    0.6879\n",
       "499    0.7321\n",
       "Name: 879, Length: 500, dtype: float64"
      ]
     },
     "metadata": {},
     "output_type": "display_data"
    },
    {
     "data": {
      "text/plain": [
       "0         NaN\n",
       "1      0.5000\n",
       "2         NaN\n",
       "3      0.7097\n",
       "4      0.7097\n",
       "        ...  \n",
       "495    0.4713\n",
       "496    0.5082\n",
       "497    0.5347\n",
       "498    0.4469\n",
       "499    0.4539\n",
       "Name: 880, Length: 500, dtype: float64"
      ]
     },
     "metadata": {},
     "output_type": "display_data"
    },
    {
     "data": {
      "text/plain": [
       "0      0.0087\n",
       "1      0.0476\n",
       "2      0.0383\n",
       "3      0.0144\n",
       "4      0.0280\n",
       "        ...  \n",
       "495    0.1181\n",
       "496    0.1190\n",
       "497    0.1049\n",
       "498    0.0700\n",
       "499    0.1015\n",
       "Name: 881, Length: 500, dtype: float64"
      ]
     },
     "metadata": {},
     "output_type": "display_data"
    },
    {
     "data": {
      "text/plain": [
       "0         NaN\n",
       "1         NaN\n",
       "2         NaN\n",
       "3         NaN\n",
       "4         NaN\n",
       "        ...  \n",
       "495    0.5859\n",
       "496    0.6388\n",
       "497    0.5311\n",
       "498    0.5641\n",
       "499    0.3463\n",
       "Name: 882, Length: 500, dtype: float64"
      ]
     },
     "metadata": {},
     "output_type": "display_data"
    },
    {
     "data": {
      "text/plain": [
       "0      0.9588\n",
       "1      0.9111\n",
       "2      0.9756\n",
       "3      0.9770\n",
       "4      0.9770\n",
       "        ...  \n",
       "495    0.8619\n",
       "496    0.8768\n",
       "497    0.8494\n",
       "498    0.8968\n",
       "499    0.8704\n",
       "Name: 883, Length: 500, dtype: float64"
      ]
     },
     "metadata": {},
     "output_type": "display_data"
    },
    {
     "data": {
      "text/plain": [
       "0      0.9675\n",
       "1      0.9236\n",
       "2      0.9394\n",
       "3      0.9508\n",
       "4      0.9714\n",
       "        ...  \n",
       "495    0.8250\n",
       "496    0.8092\n",
       "497    0.8851\n",
       "498    0.8487\n",
       "499    0.8220\n",
       "Name: 884, Length: 500, dtype: float64"
      ]
     },
     "metadata": {},
     "output_type": "display_data"
    },
    {
     "data": {
      "text/plain": [
       "0      0.0746\n",
       "1      0.1038\n",
       "2      0.0514\n",
       "3      0.0496\n",
       "4      0.0865\n",
       "        ...  \n",
       "495    0.1949\n",
       "496    0.1000\n",
       "497    0.1590\n",
       "498    0.1308\n",
       "499    0.1626\n",
       "Name: 885, Length: 500, dtype: float64"
      ]
     },
     "metadata": {},
     "output_type": "display_data"
    },
    {
     "data": {
      "text/plain": [
       "0      0.7344\n",
       "1         NaN\n",
       "2      0.8293\n",
       "3         NaN\n",
       "4      0.6727\n",
       "        ...  \n",
       "495    0.5149\n",
       "496    0.8344\n",
       "497    0.8344\n",
       "498    0.6681\n",
       "499    0.7820\n",
       "Name: 886, Length: 500, dtype: float64"
      ]
     },
     "metadata": {},
     "output_type": "display_data"
    },
    {
     "data": {
      "text/plain": [
       "0      0.6389\n",
       "1      0.6941\n",
       "2      0.6970\n",
       "3      0.7609\n",
       "4      0.7595\n",
       "        ...  \n",
       "495    0.3433\n",
       "496    0.2921\n",
       "497    0.3208\n",
       "498    0.3632\n",
       "499    0.2415\n",
       "Name: 887, Length: 500, dtype: float64"
      ]
     },
     "metadata": {},
     "output_type": "display_data"
    },
    {
     "data": {
      "text/plain": [
       "0      0.0345\n",
       "1      0.0661\n",
       "2      0.0294\n",
       "3      0.0329\n",
       "4      0.0690\n",
       "        ...  \n",
       "495    0.1055\n",
       "496    0.0574\n",
       "497    0.0538\n",
       "498    0.1298\n",
       "499    0.1205\n",
       "Name: 888, Length: 500, dtype: float64"
      ]
     },
     "metadata": {},
     "output_type": "display_data"
    },
    {
     "data": {
      "text/plain": [
       "0      0.2963\n",
       "1      0.2169\n",
       "2      0.2784\n",
       "3      0.2356\n",
       "4      0.3125\n",
       "        ...  \n",
       "495    0.6592\n",
       "496    0.5762\n",
       "497    0.5608\n",
       "498    0.6571\n",
       "499    0.6106\n",
       "Name: 889, Length: 500, dtype: float64"
      ]
     },
     "metadata": {},
     "output_type": "display_data"
    },
    {
     "data": {
      "text/plain": [
       "0      0.0069\n",
       "1      0.0000\n",
       "2      0.0000\n",
       "3      0.0000\n",
       "4      0.0075\n",
       "        ...  \n",
       "495    0.0301\n",
       "496    0.0338\n",
       "497    0.0330\n",
       "498    0.0337\n",
       "499    0.0286\n",
       "Name: 890, Length: 500, dtype: float64"
      ]
     },
     "metadata": {},
     "output_type": "display_data"
    },
    {
     "data": {
      "text/plain": [
       "0      0.1296\n",
       "1      0.0851\n",
       "2      0.0294\n",
       "3      0.0294\n",
       "4      0.0333\n",
       "        ...  \n",
       "495    0.0389\n",
       "496    0.0314\n",
       "497    0.0311\n",
       "498    0.0302\n",
       "499    0.0299\n",
       "Name: 891, Length: 500, dtype: float64"
      ]
     },
     "metadata": {},
     "output_type": "display_data"
    },
    {
     "data": {
      "text/plain": [
       "0      0.0000\n",
       "1         NaN\n",
       "2      0.0000\n",
       "3      0.0000\n",
       "4         NaN\n",
       "        ...  \n",
       "495    0.0326\n",
       "496    0.0381\n",
       "497    0.0336\n",
       "498    0.0398\n",
       "499    0.0299\n",
       "Name: 892, Length: 500, dtype: float64"
      ]
     },
     "metadata": {},
     "output_type": "display_data"
    },
    {
     "data": {
      "text/plain": [
       "0     NaN\n",
       "1     NaN\n",
       "2     NaN\n",
       "3     NaN\n",
       "4     NaN\n",
       "       ..\n",
       "495   NaN\n",
       "496   NaN\n",
       "497   NaN\n",
       "498   NaN\n",
       "499   NaN\n",
       "Name: 893, Length: 500, dtype: float64"
      ]
     },
     "metadata": {},
     "output_type": "display_data"
    },
    {
     "data": {
      "text/plain": [
       "0      0.0776\n",
       "1      0.0640\n",
       "2      0.0984\n",
       "3      0.0461\n",
       "4      0.0817\n",
       "        ...  \n",
       "495    0.0809\n",
       "496    0.1004\n",
       "497    0.1014\n",
       "498    0.1120\n",
       "499    0.0512\n",
       "Name: 894, Length: 500, dtype: float64"
      ]
     },
     "metadata": {},
     "output_type": "display_data"
    },
    {
     "data": {
      "text/plain": [
       "0      0.9783\n",
       "1         NaN\n",
       "2      0.9140\n",
       "3      0.9310\n",
       "4      0.9783\n",
       "        ...  \n",
       "495    0.9003\n",
       "496    0.8893\n",
       "497    0.9057\n",
       "498    0.9360\n",
       "499    0.8916\n",
       "Name: 895, Length: 500, dtype: float64"
      ]
     },
     "metadata": {},
     "output_type": "display_data"
    },
    {
     "data": {
      "text/plain": [
       "0      0.0000\n",
       "1      0.0127\n",
       "2      0.0000\n",
       "3      0.0123\n",
       "4      0.0000\n",
       "        ...  \n",
       "495    0.0431\n",
       "496    0.0527\n",
       "497    0.0567\n",
       "498    0.0618\n",
       "499    0.0400\n",
       "Name: 896, Length: 500, dtype: float64"
      ]
     },
     "metadata": {},
     "output_type": "display_data"
    },
    {
     "data": {
      "text/plain": [
       "0      0.8182\n",
       "1      0.6140\n",
       "2      0.7442\n",
       "3      0.5278\n",
       "4      0.6923\n",
       "        ...  \n",
       "495       NaN\n",
       "496       NaN\n",
       "497       NaN\n",
       "498       NaN\n",
       "499       NaN\n",
       "Name: 897, Length: 500, dtype: float64"
      ]
     },
     "metadata": {},
     "output_type": "display_data"
    },
    {
     "data": {
      "text/plain": [
       "0      0.0018\n",
       "1      0.0011\n",
       "2      0.0012\n",
       "3      0.0019\n",
       "4      0.0019\n",
       "        ...  \n",
       "495    0.0373\n",
       "496    0.0424\n",
       "497    0.0339\n",
       "498    0.0319\n",
       "499    0.0400\n",
       "Name: 898, Length: 500, dtype: float64"
      ]
     },
     "metadata": {},
     "output_type": "display_data"
    },
    {
     "data": {
      "text/plain": [
       "0      0.9308\n",
       "1      0.9300\n",
       "2      0.9524\n",
       "3      0.9524\n",
       "4      0.9308\n",
       "        ...  \n",
       "495       NaN\n",
       "496       NaN\n",
       "497       NaN\n",
       "498       NaN\n",
       "499       NaN\n",
       "Name: 899, Length: 500, dtype: float64"
      ]
     },
     "metadata": {},
     "output_type": "display_data"
    },
    {
     "data": {
      "text/plain": [
       "0      0.9534\n",
       "1      0.9534\n",
       "2      0.9838\n",
       "3      0.9564\n",
       "4      0.9183\n",
       "        ...  \n",
       "495    0.9849\n",
       "496    0.9783\n",
       "497    0.9858\n",
       "498    0.9847\n",
       "499    0.9875\n",
       "Name: 900, Length: 500, dtype: float64"
      ]
     },
     "metadata": {},
     "output_type": "display_data"
    },
    {
     "data": {
      "text/plain": [
       "0      0.0240\n",
       "1      0.0423\n",
       "2      0.0240\n",
       "3      0.0406\n",
       "4      0.0281\n",
       "        ...  \n",
       "495    0.0985\n",
       "496    0.1338\n",
       "497    0.1035\n",
       "498    0.0693\n",
       "499    0.1111\n",
       "Name: 901, Length: 500, dtype: float64"
      ]
     },
     "metadata": {},
     "output_type": "display_data"
    },
    {
     "data": {
      "text/plain": [
       "0      0.9417\n",
       "1      0.9238\n",
       "2      0.9333\n",
       "3      0.9403\n",
       "4      0.9318\n",
       "        ...  \n",
       "495    0.4346\n",
       "496    0.7018\n",
       "497    0.5249\n",
       "498    0.8651\n",
       "499    0.7794\n",
       "Name: 902, Length: 500, dtype: float64"
      ]
     },
     "metadata": {},
     "output_type": "display_data"
    },
    {
     "data": {
      "text/plain": [
       "0      0.0000\n",
       "1         NaN\n",
       "2      0.0000\n",
       "3      0.1562\n",
       "4      0.0784\n",
       "        ...  \n",
       "495       NaN\n",
       "496       NaN\n",
       "497       NaN\n",
       "498       NaN\n",
       "499       NaN\n",
       "Name: 903, Length: 500, dtype: float64"
      ]
     },
     "metadata": {},
     "output_type": "display_data"
    },
    {
     "data": {
      "text/plain": [
       "0      0.0465\n",
       "1      0.0824\n",
       "2      0.0506\n",
       "3      0.1356\n",
       "4      0.1528\n",
       "        ...  \n",
       "495    0.4171\n",
       "496    0.3959\n",
       "497    0.3843\n",
       "498    0.4046\n",
       "499    0.3806\n",
       "Name: 904, Length: 500, dtype: float64"
      ]
     },
     "metadata": {},
     "output_type": "display_data"
    },
    {
     "data": {
      "text/plain": [
       "0      0.3935\n",
       "1      0.2658\n",
       "2      0.4621\n",
       "3      0.3705\n",
       "4      0.4825\n",
       "        ...  \n",
       "495    0.4320\n",
       "496    0.4688\n",
       "497    0.4585\n",
       "498    0.3268\n",
       "499    0.4495\n",
       "Name: 905, Length: 500, dtype: float64"
      ]
     },
     "metadata": {},
     "output_type": "display_data"
    },
    {
     "data": {
      "text/plain": [
       "0      0.1360\n",
       "1      0.1040\n",
       "2      0.2000\n",
       "3      0.2000\n",
       "4      0.1121\n",
       "        ...  \n",
       "495    0.1603\n",
       "496    0.1011\n",
       "497    0.2489\n",
       "498    0.1290\n",
       "499    0.3201\n",
       "Name: 906, Length: 500, dtype: float64"
      ]
     },
     "metadata": {},
     "output_type": "display_data"
    },
    {
     "data": {
      "text/plain": [
       "0      0.0088\n",
       "1      0.0598\n",
       "2      0.0236\n",
       "3      0.0469\n",
       "4      0.0143\n",
       "        ...  \n",
       "495    0.1454\n",
       "496    0.5788\n",
       "497    0.0893\n",
       "498    0.0759\n",
       "499    0.2924\n",
       "Name: 907, Length: 500, dtype: float64"
      ]
     },
     "metadata": {},
     "output_type": "display_data"
    },
    {
     "data": {
      "text/plain": [
       "0      0.0493\n",
       "1      0.0527\n",
       "2      0.0227\n",
       "3      0.0252\n",
       "4      0.0258\n",
       "        ...  \n",
       "495    0.0647\n",
       "496    0.0708\n",
       "497    0.1150\n",
       "498    0.0951\n",
       "499    0.0755\n",
       "Name: 908, Length: 500, dtype: float64"
      ]
     },
     "metadata": {},
     "output_type": "display_data"
    },
    {
     "data": {
      "text/plain": [
       "0      0.9778\n",
       "1      0.8930\n",
       "2      0.9329\n",
       "3      0.8912\n",
       "4      0.9383\n",
       "        ...  \n",
       "495    0.5189\n",
       "496    0.7512\n",
       "497    0.6293\n",
       "498    0.7419\n",
       "499    0.7645\n",
       "Name: 909, Length: 500, dtype: float64"
      ]
     },
     "metadata": {},
     "output_type": "display_data"
    },
    {
     "data": {
      "text/plain": [
       "0      0.9102\n",
       "1      0.9516\n",
       "2      0.9307\n",
       "3      0.8976\n",
       "4      0.9426\n",
       "        ...  \n",
       "495    0.7872\n",
       "496    0.6575\n",
       "497    0.8117\n",
       "498    0.8194\n",
       "499    0.6618\n",
       "Name: 910, Length: 500, dtype: float64"
      ]
     },
     "metadata": {},
     "output_type": "display_data"
    },
    {
     "data": {
      "text/plain": [
       "0      0.8987\n",
       "1      0.8290\n",
       "2      0.8987\n",
       "3      0.9047\n",
       "4      0.8921\n",
       "        ...  \n",
       "495    0.8173\n",
       "496    0.8427\n",
       "497    0.7554\n",
       "498    0.8001\n",
       "499    0.8630\n",
       "Name: 911, Length: 500, dtype: float64"
      ]
     },
     "metadata": {},
     "output_type": "display_data"
    },
    {
     "data": {
      "text/plain": [
       "0      0.2065\n",
       "1      0.0736\n",
       "2      0.0575\n",
       "3      0.1651\n",
       "4      0.0524\n",
       "        ...  \n",
       "495    0.2065\n",
       "496    0.4128\n",
       "497    0.4786\n",
       "498    0.4529\n",
       "499    0.2654\n",
       "Name: 912, Length: 500, dtype: float64"
      ]
     },
     "metadata": {},
     "output_type": "display_data"
    },
    {
     "data": {
      "text/plain": [
       "0      0.8605\n",
       "1      0.8806\n",
       "2      0.9231\n",
       "3      0.7818\n",
       "4      0.9032\n",
       "        ...  \n",
       "495    0.6873\n",
       "496    0.4433\n",
       "497    0.5513\n",
       "498    0.5618\n",
       "499    0.6074\n",
       "Name: 913, Length: 500, dtype: float64"
      ]
     },
     "metadata": {},
     "output_type": "display_data"
    },
    {
     "data": {
      "text/plain": [
       "0      0.8807\n",
       "1      0.8642\n",
       "2      0.8797\n",
       "3      0.8797\n",
       "4      0.8710\n",
       "        ...  \n",
       "495    0.7087\n",
       "496    0.6450\n",
       "497    0.6250\n",
       "498    0.6050\n",
       "499    0.6596\n",
       "Name: 914, Length: 500, dtype: float64"
      ]
     },
     "metadata": {},
     "output_type": "display_data"
    },
    {
     "data": {
      "text/plain": [
       "0      0.4693\n",
       "1      0.5361\n",
       "2      0.6566\n",
       "3      0.6900\n",
       "4      0.6566\n",
       "        ...  \n",
       "495    0.6404\n",
       "496    0.6052\n",
       "497    0.5970\n",
       "498    0.5872\n",
       "499    0.5811\n",
       "Name: 915, Length: 500, dtype: float64"
      ]
     },
     "metadata": {},
     "output_type": "display_data"
    },
    {
     "data": {
      "text/plain": [
       "0      0.1856\n",
       "1      0.2533\n",
       "2      0.1250\n",
       "3      0.1856\n",
       "4      0.2374\n",
       "        ...  \n",
       "495    0.6264\n",
       "496    0.4618\n",
       "497    0.4734\n",
       "498    0.1564\n",
       "499    0.5770\n",
       "Name: 916, Length: 500, dtype: float64"
      ]
     },
     "metadata": {},
     "output_type": "display_data"
    },
    {
     "data": {
      "text/plain": [
       "0      0.0029\n",
       "1      0.0052\n",
       "2      0.0000\n",
       "3      0.0034\n",
       "4      0.0000\n",
       "        ...  \n",
       "495    0.3672\n",
       "496    0.3647\n",
       "497    0.2480\n",
       "498    0.6106\n",
       "499    0.4919\n",
       "Name: 917, Length: 500, dtype: float64"
      ]
     },
     "metadata": {},
     "output_type": "display_data"
    },
    {
     "data": {
      "text/plain": [
       "0      0.0000\n",
       "1      0.0000\n",
       "2      0.0000\n",
       "3      0.0093\n",
       "4      0.0000\n",
       "        ...  \n",
       "495    0.0470\n",
       "496    0.0612\n",
       "497    0.0907\n",
       "498    0.0893\n",
       "499    0.0738\n",
       "Name: 918, Length: 500, dtype: float64"
      ]
     },
     "metadata": {},
     "output_type": "display_data"
    },
    {
     "data": {
      "text/plain": [
       "0      0.1167\n",
       "1      0.0602\n",
       "2      0.1646\n",
       "3      0.1724\n",
       "4      0.1845\n",
       "        ...  \n",
       "495    0.1950\n",
       "496    0.1368\n",
       "497    0.1254\n",
       "498    0.1843\n",
       "499    0.2308\n",
       "Name: 919, Length: 500, dtype: float64"
      ]
     },
     "metadata": {},
     "output_type": "display_data"
    },
    {
     "data": {
      "text/plain": [
       "0      0.6744\n",
       "1      0.6569\n",
       "2      0.6476\n",
       "3      0.6800\n",
       "4      0.5625\n",
       "        ...  \n",
       "495    0.7538\n",
       "496    0.7720\n",
       "497    0.5403\n",
       "498    0.7423\n",
       "499    0.5661\n",
       "Name: 920, Length: 500, dtype: float64"
      ]
     },
     "metadata": {},
     "output_type": "display_data"
    },
    {
     "data": {
      "text/plain": [
       "0      0.0000\n",
       "1      0.0460\n",
       "2      0.0000\n",
       "3      0.0208\n",
       "4      0.0526\n",
       "        ...  \n",
       "495    0.2896\n",
       "496    0.2259\n",
       "497    0.3499\n",
       "498    0.1662\n",
       "499    0.4089\n",
       "Name: 921, Length: 500, dtype: float64"
      ]
     },
     "metadata": {},
     "output_type": "display_data"
    },
    {
     "data": {
      "text/plain": [
       "0      0.8922\n",
       "1      0.8952\n",
       "2      1.0000\n",
       "3      0.9753\n",
       "4      0.9231\n",
       "        ...  \n",
       "495    0.9221\n",
       "496    0.9333\n",
       "497    0.9369\n",
       "498    0.7992\n",
       "499    0.9168\n",
       "Name: 922, Length: 500, dtype: float64"
      ]
     },
     "metadata": {},
     "output_type": "display_data"
    },
    {
     "data": {
      "text/plain": [
       "0      0.6216\n",
       "1      0.9194\n",
       "2      0.9262\n",
       "3      0.9558\n",
       "4      0.9167\n",
       "        ...  \n",
       "495    0.5743\n",
       "496    0.6379\n",
       "497    0.3332\n",
       "498    0.6270\n",
       "499    0.6435\n",
       "Name: 923, Length: 500, dtype: float64"
      ]
     },
     "metadata": {},
     "output_type": "display_data"
    },
    {
     "data": {
      "text/plain": [
       "0      0.8269\n",
       "1      0.8302\n",
       "2      0.8000\n",
       "3         NaN\n",
       "4      0.8649\n",
       "        ...  \n",
       "495       NaN\n",
       "496       NaN\n",
       "497       NaN\n",
       "498       NaN\n",
       "499       NaN\n",
       "Name: 924, Length: 500, dtype: float64"
      ]
     },
     "metadata": {},
     "output_type": "display_data"
    },
    {
     "data": {
      "text/plain": [
       "0      0.9375\n",
       "1      0.9375\n",
       "2      0.9457\n",
       "3      0.9344\n",
       "4      0.9672\n",
       "        ...  \n",
       "495    0.9150\n",
       "496    0.9001\n",
       "497    0.8785\n",
       "498    0.8938\n",
       "499    0.9047\n",
       "Name: 925, Length: 500, dtype: float64"
      ]
     },
     "metadata": {},
     "output_type": "display_data"
    },
    {
     "data": {
      "text/plain": [
       "0      0.0955\n",
       "1      0.0733\n",
       "2      0.0733\n",
       "3      0.0287\n",
       "4      0.0325\n",
       "        ...  \n",
       "495    0.0508\n",
       "496    0.0879\n",
       "497    0.0629\n",
       "498    0.0496\n",
       "499    0.0726\n",
       "Name: 926, Length: 500, dtype: float64"
      ]
     },
     "metadata": {},
     "output_type": "display_data"
    },
    {
     "data": {
      "text/plain": [
       "0      0.0110\n",
       "1      0.0069\n",
       "2      0.0102\n",
       "3      0.0000\n",
       "4      0.0000\n",
       "        ...  \n",
       "495    0.0217\n",
       "496    0.0242\n",
       "497    0.0249\n",
       "498    0.0215\n",
       "499    0.0276\n",
       "Name: 927, Length: 500, dtype: float64"
      ]
     },
     "metadata": {},
     "output_type": "display_data"
    },
    {
     "data": {
      "text/plain": [
       "0         NaN\n",
       "1         NaN\n",
       "2      0.9211\n",
       "3      0.9487\n",
       "4      0.8163\n",
       "        ...  \n",
       "495    0.3599\n",
       "496    0.6583\n",
       "497    0.8560\n",
       "498    0.6025\n",
       "499    0.6134\n",
       "Name: 928, Length: 500, dtype: float64"
      ]
     },
     "metadata": {},
     "output_type": "display_data"
    },
    {
     "data": {
      "text/plain": [
       "0      0.0162\n",
       "1      0.0162\n",
       "2      0.0192\n",
       "3      0.0140\n",
       "4      0.0162\n",
       "        ...  \n",
       "495    0.0399\n",
       "496    0.0709\n",
       "497    0.0650\n",
       "498    0.0577\n",
       "499    0.0697\n",
       "Name: 929, Length: 500, dtype: float64"
      ]
     },
     "metadata": {},
     "output_type": "display_data"
    },
    {
     "data": {
      "text/plain": [
       "0      0.2708\n",
       "1      0.3282\n",
       "2      0.3906\n",
       "3      0.2949\n",
       "4      0.3282\n",
       "        ...  \n",
       "495    0.5367\n",
       "496    0.7370\n",
       "497    0.5239\n",
       "498    0.4910\n",
       "499    0.5699\n",
       "Name: 930, Length: 500, dtype: float64"
      ]
     },
     "metadata": {},
     "output_type": "display_data"
    },
    {
     "data": {
      "text/plain": [
       "0         NaN\n",
       "1         NaN\n",
       "2         NaN\n",
       "3         NaN\n",
       "4         NaN\n",
       "        ...  \n",
       "495    0.5446\n",
       "496    0.5700\n",
       "497    0.5446\n",
       "498    0.7585\n",
       "499    0.6928\n",
       "Name: 931, Length: 500, dtype: float64"
      ]
     },
     "metadata": {},
     "output_type": "display_data"
    },
    {
     "data": {
      "text/plain": [
       "0         NaN\n",
       "1      0.8714\n",
       "2      0.7826\n",
       "3      0.7260\n",
       "4      0.9310\n",
       "        ...  \n",
       "495    0.3518\n",
       "496    0.4361\n",
       "497    0.5734\n",
       "498    0.3415\n",
       "499    0.2363\n",
       "Name: 932, Length: 500, dtype: float64"
      ]
     },
     "metadata": {},
     "output_type": "display_data"
    },
    {
     "data": {
      "text/plain": [
       "0         NaN\n",
       "1         NaN\n",
       "2         NaN\n",
       "3         NaN\n",
       "4         NaN\n",
       "        ...  \n",
       "495    0.5616\n",
       "496    0.6185\n",
       "497    0.1142\n",
       "498    0.5971\n",
       "499    0.5863\n",
       "Name: 933, Length: 500, dtype: float64"
      ]
     },
     "metadata": {},
     "output_type": "display_data"
    },
    {
     "data": {
      "text/plain": [
       "0      0.0263\n",
       "1      0.0667\n",
       "2      0.0294\n",
       "3         NaN\n",
       "4      0.0857\n",
       "        ...  \n",
       "495    0.4723\n",
       "496    0.4714\n",
       "497    0.5848\n",
       "498    0.4651\n",
       "499    0.7003\n",
       "Name: 934, Length: 500, dtype: float64"
      ]
     },
     "metadata": {},
     "output_type": "display_data"
    },
    {
     "data": {
      "text/plain": [
       "0         NaN\n",
       "1         NaN\n",
       "2         NaN\n",
       "3      0.8358\n",
       "4      0.8358\n",
       "        ...  \n",
       "495       NaN\n",
       "496       NaN\n",
       "497       NaN\n",
       "498       NaN\n",
       "499       NaN\n",
       "Name: 935, Length: 500, dtype: float64"
      ]
     },
     "metadata": {},
     "output_type": "display_data"
    },
    {
     "data": {
      "text/plain": [
       "0      0.1963\n",
       "1      0.1640\n",
       "2      0.1215\n",
       "3      0.1963\n",
       "4      0.0625\n",
       "        ...  \n",
       "495    0.3715\n",
       "496    0.4667\n",
       "497    0.3283\n",
       "498    0.3675\n",
       "499    0.3838\n",
       "Name: 936, Length: 500, dtype: float64"
      ]
     },
     "metadata": {},
     "output_type": "display_data"
    },
    {
     "data": {
      "text/plain": [
       "0      0.8140\n",
       "1      0.8140\n",
       "2      0.7975\n",
       "3      0.8571\n",
       "4      0.8734\n",
       "        ...  \n",
       "495    0.8544\n",
       "496    0.8794\n",
       "497    0.8391\n",
       "498    0.8070\n",
       "499    0.8625\n",
       "Name: 937, Length: 500, dtype: float64"
      ]
     },
     "metadata": {},
     "output_type": "display_data"
    },
    {
     "data": {
      "text/plain": [
       "0      0.0000\n",
       "1      0.0060\n",
       "2      0.0000\n",
       "3      0.0000\n",
       "4      0.0000\n",
       "        ...  \n",
       "495    0.0486\n",
       "496    0.0516\n",
       "497    0.0507\n",
       "498    0.0469\n",
       "499    0.0535\n",
       "Name: 938, Length: 500, dtype: float64"
      ]
     },
     "metadata": {},
     "output_type": "display_data"
    },
    {
     "data": {
      "text/plain": [
       "0      0.0000\n",
       "1      0.0000\n",
       "2      0.0000\n",
       "3      0.0000\n",
       "4      0.0000\n",
       "        ...  \n",
       "495    0.0261\n",
       "496    0.0200\n",
       "497    0.0236\n",
       "498    0.0230\n",
       "499    0.0265\n",
       "Name: 939, Length: 500, dtype: float64"
      ]
     },
     "metadata": {},
     "output_type": "display_data"
    },
    {
     "data": {
      "text/plain": [
       "0      0.0000\n",
       "1      0.0000\n",
       "2      0.0000\n",
       "3      0.0000\n",
       "4      0.0000\n",
       "        ...  \n",
       "495    0.0419\n",
       "496    0.0536\n",
       "497    0.0344\n",
       "498    0.0339\n",
       "499    0.0375\n",
       "Name: 940, Length: 500, dtype: float64"
      ]
     },
     "metadata": {},
     "output_type": "display_data"
    },
    {
     "data": {
      "text/plain": [
       "0      0.0000\n",
       "1      0.0225\n",
       "2      0.0000\n",
       "3      0.0000\n",
       "4      0.0037\n",
       "        ...  \n",
       "495    0.0343\n",
       "496    0.0418\n",
       "497    0.0344\n",
       "498    0.0380\n",
       "499    0.0408\n",
       "Name: 941, Length: 500, dtype: float64"
      ]
     },
     "metadata": {},
     "output_type": "display_data"
    },
    {
     "data": {
      "text/plain": [
       "0      0.4717\n",
       "1      0.4342\n",
       "2      0.5049\n",
       "3      0.4545\n",
       "4      0.6731\n",
       "        ...  \n",
       "495    0.4331\n",
       "496    0.2951\n",
       "497    0.5464\n",
       "498    0.3702\n",
       "499    0.2147\n",
       "Name: 942, Length: 500, dtype: float64"
      ]
     },
     "metadata": {},
     "output_type": "display_data"
    },
    {
     "data": {
      "text/plain": [
       "0         NaN\n",
       "1      0.2588\n",
       "2      0.3125\n",
       "3      0.3077\n",
       "4      0.1739\n",
       "        ...  \n",
       "495    0.4409\n",
       "496    0.2367\n",
       "497    0.2604\n",
       "498    0.2081\n",
       "499    0.3379\n",
       "Name: 943, Length: 500, dtype: float64"
      ]
     },
     "metadata": {},
     "output_type": "display_data"
    },
    {
     "data": {
      "text/plain": [
       "0      0.9434\n",
       "1      0.9420\n",
       "2      0.9615\n",
       "3      0.9407\n",
       "4      0.9368\n",
       "        ...  \n",
       "495    0.7890\n",
       "496    0.7791\n",
       "497    0.8124\n",
       "498    0.7788\n",
       "499    0.7841\n",
       "Name: 944, Length: 500, dtype: float64"
      ]
     },
     "metadata": {},
     "output_type": "display_data"
    },
    {
     "data": {
      "text/plain": [
       "0      0.8060\n",
       "1      0.9007\n",
       "2      0.9301\n",
       "3      0.9697\n",
       "4      0.9301\n",
       "        ...  \n",
       "495       NaN\n",
       "496       NaN\n",
       "497       NaN\n",
       "498       NaN\n",
       "499       NaN\n",
       "Name: 945, Length: 500, dtype: float64"
      ]
     },
     "metadata": {},
     "output_type": "display_data"
    },
    {
     "data": {
      "text/plain": [
       "0      0.8816\n",
       "1      0.9683\n",
       "2      0.8214\n",
       "3      0.8929\n",
       "4      0.9167\n",
       "        ...  \n",
       "495    0.8988\n",
       "496    0.8611\n",
       "497    0.8958\n",
       "498    0.9187\n",
       "499    0.9298\n",
       "Name: 946, Length: 500, dtype: float64"
      ]
     },
     "metadata": {},
     "output_type": "display_data"
    },
    {
     "data": {
      "text/plain": [
       "0      0.9138\n",
       "1      0.8509\n",
       "2      0.9053\n",
       "3      0.9375\n",
       "4      0.8509\n",
       "        ...  \n",
       "495       NaN\n",
       "496       NaN\n",
       "497       NaN\n",
       "498       NaN\n",
       "499       NaN\n",
       "Name: 947, Length: 500, dtype: float64"
      ]
     },
     "metadata": {},
     "output_type": "display_data"
    },
    {
     "data": {
      "text/plain": [
       "0      0.8085\n",
       "1      0.8289\n",
       "2      0.7867\n",
       "3      0.7881\n",
       "4      0.8235\n",
       "        ...  \n",
       "495    0.5410\n",
       "496    0.6776\n",
       "497    0.6602\n",
       "498    0.4847\n",
       "499    0.4548\n",
       "Name: 948, Length: 500, dtype: float64"
      ]
     },
     "metadata": {},
     "output_type": "display_data"
    },
    {
     "data": {
      "text/plain": [
       "0      0.9368\n",
       "1      0.8804\n",
       "2      0.8804\n",
       "3      0.8901\n",
       "4      0.9020\n",
       "        ...  \n",
       "495    0.8530\n",
       "496    0.8222\n",
       "497    0.5593\n",
       "498    0.8540\n",
       "499    0.8755\n",
       "Name: 949, Length: 500, dtype: float64"
      ]
     },
     "metadata": {},
     "output_type": "display_data"
    },
    {
     "data": {
      "text/plain": [
       "0      0.8163\n",
       "1      0.8269\n",
       "2      0.8667\n",
       "3      0.8000\n",
       "4      0.8750\n",
       "        ...  \n",
       "495    0.5163\n",
       "496    0.7280\n",
       "497    0.8486\n",
       "498    0.7284\n",
       "499    0.7975\n",
       "Name: 950, Length: 500, dtype: float64"
      ]
     },
     "metadata": {},
     "output_type": "display_data"
    },
    {
     "data": {
      "text/plain": [
       "0         NaN\n",
       "1         NaN\n",
       "2         NaN\n",
       "3         NaN\n",
       "4         NaN\n",
       "        ...  \n",
       "495    0.1549\n",
       "496    0.2261\n",
       "497    0.1672\n",
       "498    0.5128\n",
       "499    0.3179\n",
       "Name: 951, Length: 500, dtype: float64"
      ]
     },
     "metadata": {},
     "output_type": "display_data"
    },
    {
     "data": {
      "text/plain": [
       "0      0.0556\n",
       "1      0.0315\n",
       "2      0.0156\n",
       "3      0.0240\n",
       "4      0.0303\n",
       "        ...  \n",
       "495    0.0804\n",
       "496    0.0373\n",
       "497    0.0653\n",
       "498    0.1185\n",
       "499    0.1010\n",
       "Name: 952, Length: 500, dtype: float64"
      ]
     },
     "metadata": {},
     "output_type": "display_data"
    },
    {
     "data": {
      "text/plain": [
       "0      0.0751\n",
       "1      0.0758\n",
       "2      0.0120\n",
       "3      0.0250\n",
       "4      0.0120\n",
       "        ...  \n",
       "495    0.2597\n",
       "496    0.0689\n",
       "497    0.0894\n",
       "498    0.2641\n",
       "499    0.1312\n",
       "Name: 953, Length: 500, dtype: float64"
      ]
     },
     "metadata": {},
     "output_type": "display_data"
    },
    {
     "data": {
      "text/plain": [
       "0      0.0305\n",
       "1      0.0211\n",
       "2      0.0180\n",
       "3      0.0099\n",
       "4      0.0381\n",
       "        ...  \n",
       "495    0.0361\n",
       "496    0.0492\n",
       "497    0.0381\n",
       "498    0.0627\n",
       "499    0.1148\n",
       "Name: 954, Length: 500, dtype: float64"
      ]
     },
     "metadata": {},
     "output_type": "display_data"
    },
    {
     "data": {
      "text/plain": [
       "0      0.7273\n",
       "1      0.7410\n",
       "2      0.6923\n",
       "3      0.6217\n",
       "4      0.5607\n",
       "        ...  \n",
       "495    0.2751\n",
       "496    0.5107\n",
       "497    0.4964\n",
       "498    0.5852\n",
       "499    0.3231\n",
       "Name: 955, Length: 500, dtype: float64"
      ]
     },
     "metadata": {},
     "output_type": "display_data"
    },
    {
     "data": {
      "text/plain": [
       "0      0.8889\n",
       "1      0.8707\n",
       "2      0.8750\n",
       "3      0.8651\n",
       "4      0.9059\n",
       "        ...  \n",
       "495    0.6000\n",
       "496    0.8167\n",
       "497    0.7434\n",
       "498    0.7292\n",
       "499    0.6790\n",
       "Name: 956, Length: 500, dtype: float64"
      ]
     },
     "metadata": {},
     "output_type": "display_data"
    },
    {
     "data": {
      "text/plain": [
       "0      0.6780\n",
       "1      0.6562\n",
       "2      0.7391\n",
       "3      0.5851\n",
       "4      0.5000\n",
       "        ...  \n",
       "495       NaN\n",
       "496       NaN\n",
       "497       NaN\n",
       "498       NaN\n",
       "499       NaN\n",
       "Name: 957, Length: 500, dtype: float64"
      ]
     },
     "metadata": {},
     "output_type": "display_data"
    },
    {
     "data": {
      "text/plain": [
       "0         NaN\n",
       "1      0.7143\n",
       "2      0.8158\n",
       "3      0.7097\n",
       "4      0.6667\n",
       "        ...  \n",
       "495    0.3603\n",
       "496    0.2917\n",
       "497    0.7211\n",
       "498    0.3628\n",
       "499    0.2212\n",
       "Name: 958, Length: 500, dtype: float64"
      ]
     },
     "metadata": {},
     "output_type": "display_data"
    },
    {
     "data": {
      "text/plain": [
       "0      0.2500\n",
       "1         NaN\n",
       "2         NaN\n",
       "3      0.6889\n",
       "4      0.5614\n",
       "        ...  \n",
       "495    0.4026\n",
       "496    0.4769\n",
       "497    0.2915\n",
       "498    0.2304\n",
       "499    0.2860\n",
       "Name: 959, Length: 500, dtype: float64"
      ]
     },
     "metadata": {},
     "output_type": "display_data"
    },
    {
     "data": {
      "text/plain": [
       "0      0.9428\n",
       "1      0.9428\n",
       "2      0.9348\n",
       "3      0.9326\n",
       "4      0.8606\n",
       "        ...  \n",
       "495    0.8624\n",
       "496    0.7508\n",
       "497    0.4538\n",
       "498    0.8575\n",
       "499    0.8962\n",
       "Name: 960, Length: 500, dtype: float64"
      ]
     },
     "metadata": {},
     "output_type": "display_data"
    },
    {
     "data": {
      "text/plain": [
       "0      0.0495\n",
       "1      0.0495\n",
       "2      0.0354\n",
       "3      0.1324\n",
       "4      0.0303\n",
       "        ...  \n",
       "495    0.0551\n",
       "496    0.0799\n",
       "497    0.0625\n",
       "498    0.0344\n",
       "499    0.0659\n",
       "Name: 961, Length: 500, dtype: float64"
      ]
     },
     "metadata": {},
     "output_type": "display_data"
    },
    {
     "data": {
      "text/plain": [
       "0      0.0732\n",
       "1      0.0704\n",
       "2      0.0569\n",
       "3      0.0938\n",
       "4      0.0662\n",
       "        ...  \n",
       "495    0.5488\n",
       "496    0.1404\n",
       "497    0.4673\n",
       "498    0.3467\n",
       "499    0.6417\n",
       "Name: 962, Length: 500, dtype: float64"
      ]
     },
     "metadata": {},
     "output_type": "display_data"
    },
    {
     "data": {
      "text/plain": [
       "0      0.0000\n",
       "1      0.0545\n",
       "2      0.0179\n",
       "3      0.0225\n",
       "4      0.0341\n",
       "        ...  \n",
       "495    0.2934\n",
       "496    0.3096\n",
       "497    0.4084\n",
       "498    0.3347\n",
       "499    0.3160\n",
       "Name: 963, Length: 500, dtype: float64"
      ]
     },
     "metadata": {},
     "output_type": "display_data"
    },
    {
     "data": {
      "text/plain": [
       "0      0.0399\n",
       "1      0.0329\n",
       "2      0.0229\n",
       "3      0.0270\n",
       "4      0.0409\n",
       "        ...  \n",
       "495    0.7107\n",
       "496    0.5235\n",
       "497    0.5946\n",
       "498    0.1771\n",
       "499    0.5140\n",
       "Name: 964, Length: 500, dtype: float64"
      ]
     },
     "metadata": {},
     "output_type": "display_data"
    },
    {
     "data": {
      "text/plain": [
       "0      0.0522\n",
       "1      0.0588\n",
       "2      0.0556\n",
       "3      0.0200\n",
       "4      0.0657\n",
       "        ...  \n",
       "495    0.2131\n",
       "496    0.0626\n",
       "497    0.3866\n",
       "498    0.0942\n",
       "499    0.1375\n",
       "Name: 965, Length: 500, dtype: float64"
      ]
     },
     "metadata": {},
     "output_type": "display_data"
    },
    {
     "data": {
      "text/plain": [
       "0      0.0533\n",
       "1      0.0566\n",
       "2      0.0157\n",
       "3      0.0135\n",
       "4      0.0566\n",
       "        ...  \n",
       "495    0.4659\n",
       "496    0.3712\n",
       "497    0.1308\n",
       "498    0.3942\n",
       "499    0.4065\n",
       "Name: 966, Length: 500, dtype: float64"
      ]
     },
     "metadata": {},
     "output_type": "display_data"
    },
    {
     "data": {
      "text/plain": [
       "0      0.0109\n",
       "1      0.0296\n",
       "2      0.0091\n",
       "3      0.0209\n",
       "4      0.0073\n",
       "        ...  \n",
       "495    0.0914\n",
       "496    0.1283\n",
       "497    0.0978\n",
       "498    0.1741\n",
       "499    0.2301\n",
       "Name: 967, Length: 500, dtype: float64"
      ]
     },
     "metadata": {},
     "output_type": "display_data"
    },
    {
     "data": {
      "text/plain": [
       "0      0.0059\n",
       "1      0.0095\n",
       "2      0.0262\n",
       "3      0.0345\n",
       "4      0.0000\n",
       "        ...  \n",
       "495    0.1010\n",
       "496    0.3806\n",
       "497    0.3393\n",
       "498    0.2184\n",
       "499    0.0541\n",
       "Name: 968, Length: 500, dtype: float64"
      ]
     },
     "metadata": {},
     "output_type": "display_data"
    },
    {
     "data": {
      "text/plain": [
       "0      0.6250\n",
       "1      0.3820\n",
       "2         NaN\n",
       "3      0.5000\n",
       "4      0.5952\n",
       "        ...  \n",
       "495    0.5030\n",
       "496    0.5787\n",
       "497    0.5030\n",
       "498    0.7460\n",
       "499    0.4096\n",
       "Name: 969, Length: 500, dtype: float64"
      ]
     },
     "metadata": {},
     "output_type": "display_data"
    },
    {
     "data": {
      "text/plain": [
       "0      0.5699\n",
       "1      0.8108\n",
       "2      0.6303\n",
       "3      0.7470\n",
       "4      0.5493\n",
       "        ...  \n",
       "495    0.5332\n",
       "496    0.5361\n",
       "497    0.4707\n",
       "498    0.7267\n",
       "499    0.6502\n",
       "Name: 970, Length: 500, dtype: float64"
      ]
     },
     "metadata": {},
     "output_type": "display_data"
    },
    {
     "data": {
      "text/plain": [
       "0      0.7344\n",
       "1      0.5159\n",
       "2      0.7264\n",
       "3      0.5091\n",
       "4      0.6824\n",
       "        ...  \n",
       "495    0.5381\n",
       "496    0.3036\n",
       "497    0.8168\n",
       "498    0.6075\n",
       "499    0.2843\n",
       "Name: 971, Length: 500, dtype: float64"
      ]
     },
     "metadata": {},
     "output_type": "display_data"
    },
    {
     "data": {
      "text/plain": [
       "0      0.9778\n",
       "1      0.8889\n",
       "2      0.9070\n",
       "3      0.9070\n",
       "4      0.9833\n",
       "        ...  \n",
       "495    0.7064\n",
       "496    0.8924\n",
       "497    0.7753\n",
       "498    0.6770\n",
       "499    0.8090\n",
       "Name: 972, Length: 500, dtype: float64"
      ]
     },
     "metadata": {},
     "output_type": "display_data"
    },
    {
     "data": {
      "text/plain": [
       "0      0.8849\n",
       "1      0.7871\n",
       "2      0.8170\n",
       "3      0.8170\n",
       "4      0.8593\n",
       "        ...  \n",
       "495    0.8144\n",
       "496    0.5273\n",
       "497    0.8389\n",
       "498    0.4711\n",
       "499    0.7634\n",
       "Name: 973, Length: 500, dtype: float64"
      ]
     },
     "metadata": {},
     "output_type": "display_data"
    },
    {
     "data": {
      "text/plain": [
       "0      0.9563\n",
       "1      0.9583\n",
       "2      0.8462\n",
       "3      0.9691\n",
       "4      0.9348\n",
       "        ...  \n",
       "495    0.9197\n",
       "496    0.8833\n",
       "497    0.9218\n",
       "498    0.9176\n",
       "499    0.9185\n",
       "Name: 974, Length: 500, dtype: float64"
      ]
     },
     "metadata": {},
     "output_type": "display_data"
    },
    {
     "data": {
      "text/plain": [
       "0      0.0061\n",
       "1      0.0074\n",
       "2      0.0000\n",
       "3      0.0000\n",
       "4      0.0000\n",
       "        ...  \n",
       "495    0.0516\n",
       "496    0.0486\n",
       "497    0.0504\n",
       "498    0.0514\n",
       "499    0.0508\n",
       "Name: 975, Length: 500, dtype: float64"
      ]
     },
     "metadata": {},
     "output_type": "display_data"
    },
    {
     "data": {
      "text/plain": [
       "0      0.9121\n",
       "1         NaN\n",
       "2      0.9778\n",
       "3      0.9778\n",
       "4      0.9778\n",
       "        ...  \n",
       "495    0.6538\n",
       "496    0.9206\n",
       "497    0.8761\n",
       "498    0.8329\n",
       "499    0.7940\n",
       "Name: 976, Length: 500, dtype: float64"
      ]
     },
     "metadata": {},
     "output_type": "display_data"
    },
    {
     "data": {
      "text/plain": [
       "0      0.0000\n",
       "1      0.0000\n",
       "2      0.0000\n",
       "3      0.0000\n",
       "4      0.0000\n",
       "        ...  \n",
       "495    0.0283\n",
       "496    0.0333\n",
       "497    0.0254\n",
       "498    0.0308\n",
       "499    0.0328\n",
       "Name: 977, Length: 500, dtype: float64"
      ]
     },
     "metadata": {},
     "output_type": "display_data"
    },
    {
     "data": {
      "text/plain": [
       "0      0.0000\n",
       "1      0.0000\n",
       "2      0.0000\n",
       "3      0.0000\n",
       "4      0.0000\n",
       "        ...  \n",
       "495    0.0266\n",
       "496    0.0278\n",
       "497    0.0305\n",
       "498    0.0293\n",
       "499    0.0273\n",
       "Name: 978, Length: 500, dtype: float64"
      ]
     },
     "metadata": {},
     "output_type": "display_data"
    },
    {
     "data": {
      "text/plain": [
       "0         NaN\n",
       "1      0.0000\n",
       "2      0.0000\n",
       "3      0.0000\n",
       "4      0.0000\n",
       "        ...  \n",
       "495    0.0236\n",
       "496    0.0232\n",
       "497    0.0240\n",
       "498    0.0261\n",
       "499    0.0222\n",
       "Name: 979, Length: 500, dtype: float64"
      ]
     },
     "metadata": {},
     "output_type": "display_data"
    },
    {
     "data": {
      "text/plain": [
       "0      0.0000\n",
       "1      0.0000\n",
       "2      0.0000\n",
       "3      0.0040\n",
       "4      0.0000\n",
       "        ...  \n",
       "495    0.0378\n",
       "496    0.0366\n",
       "497    0.0366\n",
       "498    0.0292\n",
       "499    0.0364\n",
       "Name: 980, Length: 500, dtype: float64"
      ]
     },
     "metadata": {},
     "output_type": "display_data"
    },
    {
     "data": {
      "text/plain": [
       "0      0.0119\n",
       "1      0.0114\n",
       "2      0.0082\n",
       "3      0.0000\n",
       "4      0.0000\n",
       "        ...  \n",
       "495    0.0511\n",
       "496    0.0378\n",
       "497    0.0362\n",
       "498    0.0409\n",
       "499    0.0328\n",
       "Name: 981, Length: 500, dtype: float64"
      ]
     },
     "metadata": {},
     "output_type": "display_data"
    },
    {
     "data": {
      "text/plain": [
       "0      0.1287\n",
       "1      0.1224\n",
       "2      0.1970\n",
       "3      0.1667\n",
       "4      0.1970\n",
       "        ...  \n",
       "495    0.3550\n",
       "496    0.5397\n",
       "497    0.1344\n",
       "498    0.5542\n",
       "499    0.1067\n",
       "Name: 982, Length: 500, dtype: float64"
      ]
     },
     "metadata": {},
     "output_type": "display_data"
    },
    {
     "data": {
      "text/plain": [
       "0      0.0417\n",
       "1      0.0296\n",
       "2      0.0228\n",
       "3      0.0260\n",
       "4      0.0260\n",
       "        ...  \n",
       "495    0.2080\n",
       "496    0.1491\n",
       "497    0.2112\n",
       "498    0.1660\n",
       "499    0.2149\n",
       "Name: 983, Length: 500, dtype: float64"
      ]
     },
     "metadata": {},
     "output_type": "display_data"
    },
    {
     "data": {
      "text/plain": [
       "0      0.0000\n",
       "1      0.0000\n",
       "2      0.0000\n",
       "3      0.0000\n",
       "4      0.0000\n",
       "        ...  \n",
       "495    0.1289\n",
       "496    0.1677\n",
       "497    0.1677\n",
       "498    0.0884\n",
       "499    0.1544\n",
       "Name: 984, Length: 500, dtype: float64"
      ]
     },
     "metadata": {},
     "output_type": "display_data"
    },
    {
     "data": {
      "text/plain": [
       "0      0.0000\n",
       "1      0.0000\n",
       "2      0.0000\n",
       "3      0.0000\n",
       "4      0.0000\n",
       "        ...  \n",
       "495    0.0175\n",
       "496    0.0191\n",
       "497    0.0257\n",
       "498    0.0326\n",
       "499    0.0279\n",
       "Name: 985, Length: 500, dtype: float64"
      ]
     },
     "metadata": {},
     "output_type": "display_data"
    },
    {
     "data": {
      "text/plain": [
       "0      0.1429\n",
       "1         NaN\n",
       "2         NaN\n",
       "3      0.1429\n",
       "4         NaN\n",
       "        ...  \n",
       "495    0.2107\n",
       "496    0.2514\n",
       "497    0.1982\n",
       "498    0.1832\n",
       "499    0.3137\n",
       "Name: 986, Length: 500, dtype: float64"
      ]
     },
     "metadata": {},
     "output_type": "display_data"
    },
    {
     "data": {
      "text/plain": [
       "0      0.6300\n",
       "1      0.6222\n",
       "2      0.6222\n",
       "3      0.6216\n",
       "4      0.4900\n",
       "        ...  \n",
       "495    0.7419\n",
       "496    0.7709\n",
       "497    0.8525\n",
       "498    0.8333\n",
       "499    0.8375\n",
       "Name: 987, Length: 500, dtype: float64"
      ]
     },
     "metadata": {},
     "output_type": "display_data"
    },
    {
     "data": {
      "text/plain": [
       "0      0.7407\n",
       "1      0.8663\n",
       "2      0.7407\n",
       "3      0.7822\n",
       "4      0.7407\n",
       "        ...  \n",
       "495    0.8263\n",
       "496    0.5960\n",
       "497    0.6833\n",
       "498    0.8294\n",
       "499    0.6267\n",
       "Name: 988, Length: 500, dtype: float64"
      ]
     },
     "metadata": {},
     "output_type": "display_data"
    },
    {
     "data": {
      "text/plain": [
       "0      0.0000\n",
       "1      0.0000\n",
       "2      0.0000\n",
       "3      0.0053\n",
       "4      0.0000\n",
       "        ...  \n",
       "495    0.0214\n",
       "496    0.0443\n",
       "497    0.0258\n",
       "498    0.0227\n",
       "499    0.0222\n",
       "Name: 989, Length: 500, dtype: float64"
      ]
     },
     "metadata": {},
     "output_type": "display_data"
    },
    {
     "data": {
      "text/plain": [
       "0      0.0000\n",
       "1      0.0199\n",
       "2      0.0080\n",
       "3      0.0000\n",
       "4      0.0132\n",
       "        ...  \n",
       "495    0.0325\n",
       "496    0.0385\n",
       "497    0.0348\n",
       "498    0.0360\n",
       "499    0.0370\n",
       "Name: 990, Length: 500, dtype: float64"
      ]
     },
     "metadata": {},
     "output_type": "display_data"
    },
    {
     "data": {
      "text/plain": [
       "0      0.0515\n",
       "1      0.0137\n",
       "2      0.1200\n",
       "3      0.0663\n",
       "4      0.0563\n",
       "        ...  \n",
       "495    0.0570\n",
       "496    0.0939\n",
       "497    0.0897\n",
       "498    0.0599\n",
       "499    0.1095\n",
       "Name: 991, Length: 500, dtype: float64"
      ]
     },
     "metadata": {},
     "output_type": "display_data"
    },
    {
     "data": {
      "text/plain": [
       "0      0.0000\n",
       "1      0.0884\n",
       "2      0.2797\n",
       "3      0.2736\n",
       "4      0.1934\n",
       "        ...  \n",
       "495    0.2372\n",
       "496    0.0898\n",
       "497    0.1202\n",
       "498    0.0749\n",
       "499    0.1069\n",
       "Name: 992, Length: 500, dtype: float64"
      ]
     },
     "metadata": {},
     "output_type": "display_data"
    },
    {
     "data": {
      "text/plain": [
       "0         NaN\n",
       "1         NaN\n",
       "2         NaN\n",
       "3      0.9697\n",
       "4         NaN\n",
       "        ...  \n",
       "495    0.5429\n",
       "496    0.5200\n",
       "497    0.2644\n",
       "498    0.4182\n",
       "499    0.4771\n",
       "Name: 993, Length: 500, dtype: float64"
      ]
     },
     "metadata": {},
     "output_type": "display_data"
    },
    {
     "data": {
      "text/plain": [
       "0      0.0097\n",
       "1      0.0000\n",
       "2      0.0333\n",
       "3      0.0208\n",
       "4      0.0333\n",
       "        ...  \n",
       "495    0.1777\n",
       "496    0.0569\n",
       "497    0.0635\n",
       "498    0.0650\n",
       "499    0.0690\n",
       "Name: 994, Length: 500, dtype: float64"
      ]
     },
     "metadata": {},
     "output_type": "display_data"
    },
    {
     "data": {
      "text/plain": [
       "0      0.9373\n",
       "1      0.9568\n",
       "2      0.8880\n",
       "3      0.9441\n",
       "4      0.9270\n",
       "        ...  \n",
       "495    0.6775\n",
       "496    0.7171\n",
       "497    0.5785\n",
       "498    0.6725\n",
       "499    0.7263\n",
       "Name: 995, Length: 500, dtype: float64"
      ]
     },
     "metadata": {},
     "output_type": "display_data"
    },
    {
     "data": {
      "text/plain": [
       "0      0.0000\n",
       "1      0.0046\n",
       "2      0.0000\n",
       "3      0.0000\n",
       "4      0.0069\n",
       "        ...  \n",
       "495    0.0288\n",
       "496    0.0241\n",
       "497    0.0235\n",
       "498    0.0294\n",
       "499    0.0312\n",
       "Name: 996, Length: 500, dtype: float64"
      ]
     },
     "metadata": {},
     "output_type": "display_data"
    },
    {
     "data": {
      "text/plain": [
       "0      0.8378\n",
       "1         NaN\n",
       "2      0.9459\n",
       "3      0.9655\n",
       "4         NaN\n",
       "        ...  \n",
       "495    0.4768\n",
       "496    0.4587\n",
       "497    0.3720\n",
       "498    0.6188\n",
       "499    0.6846\n",
       "Name: 997, Length: 500, dtype: float64"
      ]
     },
     "metadata": {},
     "output_type": "display_data"
    },
    {
     "data": {
      "text/plain": [
       "0         NaN\n",
       "1      0.9079\n",
       "2      0.7750\n",
       "3      0.9000\n",
       "4      0.8750\n",
       "        ...  \n",
       "495    0.3758\n",
       "496    0.3436\n",
       "497    0.3436\n",
       "498    0.4550\n",
       "499    0.6626\n",
       "Name: 998, Length: 500, dtype: float64"
      ]
     },
     "metadata": {},
     "output_type": "display_data"
    },
    {
     "data": {
      "text/plain": [
       "0      0.0930\n",
       "1      0.1257\n",
       "2      0.1786\n",
       "3      0.0786\n",
       "4      0.0960\n",
       "        ...  \n",
       "495    0.1106\n",
       "496    0.0987\n",
       "497    0.0739\n",
       "498    0.1255\n",
       "499    0.1010\n",
       "Name: 999, Length: 500, dtype: float64"
      ]
     },
     "metadata": {},
     "output_type": "display_data"
    },
    {
     "data": {
      "text/plain": [
       "0      0.7794\n",
       "1      0.7579\n",
       "2      0.8229\n",
       "3      0.5942\n",
       "4      0.7107\n",
       "        ...  \n",
       "495    0.5048\n",
       "496    0.4748\n",
       "497    0.4745\n",
       "498    0.5210\n",
       "499    0.6976\n",
       "Name: 1000, Length: 500, dtype: float64"
      ]
     },
     "metadata": {},
     "output_type": "display_data"
    },
    {
     "data": {
      "text/plain": [
       "0      0.7812\n",
       "1      0.8462\n",
       "2      0.6410\n",
       "3      0.8654\n",
       "4      0.6341\n",
       "        ...  \n",
       "495    0.2904\n",
       "496    0.3899\n",
       "497    0.3239\n",
       "498    0.4809\n",
       "499    0.6547\n",
       "Name: 1001, Length: 500, dtype: float64"
      ]
     },
     "metadata": {},
     "output_type": "display_data"
    },
    {
     "data": {
      "text/plain": [
       "0      0.9000\n",
       "1         NaN\n",
       "2         NaN\n",
       "3      0.8788\n",
       "4      0.9677\n",
       "        ...  \n",
       "495       NaN\n",
       "496       NaN\n",
       "497       NaN\n",
       "498       NaN\n",
       "499       NaN\n",
       "Name: 1002, Length: 500, dtype: float64"
      ]
     },
     "metadata": {},
     "output_type": "display_data"
    },
    {
     "data": {
      "text/plain": [
       "0      0.9500\n",
       "1      1.0000\n",
       "2         NaN\n",
       "3      0.9375\n",
       "4         NaN\n",
       "        ...  \n",
       "495       NaN\n",
       "496       NaN\n",
       "497       NaN\n",
       "498       NaN\n",
       "499       NaN\n",
       "Name: 1003, Length: 500, dtype: float64"
      ]
     },
     "metadata": {},
     "output_type": "display_data"
    },
    {
     "data": {
      "text/plain": [
       "0      0.0139\n",
       "1      0.0211\n",
       "2      0.0054\n",
       "3      0.0000\n",
       "4      0.0292\n",
       "        ...  \n",
       "495    0.1320\n",
       "496    0.5812\n",
       "497    0.0468\n",
       "498    0.1093\n",
       "499    0.0473\n",
       "Name: 1004, Length: 500, dtype: float64"
      ]
     },
     "metadata": {},
     "output_type": "display_data"
    },
    {
     "data": {
      "text/plain": [
       "0      0.5161\n",
       "1      0.3382\n",
       "2      0.2105\n",
       "3      0.1967\n",
       "4      0.5682\n",
       "        ...  \n",
       "495    0.4794\n",
       "496    0.3952\n",
       "497    0.5622\n",
       "498    0.5189\n",
       "499    0.5259\n",
       "Name: 1005, Length: 500, dtype: float64"
      ]
     },
     "metadata": {},
     "output_type": "display_data"
    },
    {
     "data": {
      "text/plain": [
       "0      0.1560\n",
       "1      0.1168\n",
       "2      0.2614\n",
       "3      0.0880\n",
       "4      0.1047\n",
       "        ...  \n",
       "495    0.5040\n",
       "496    0.1622\n",
       "497    0.2050\n",
       "498    0.3406\n",
       "499    0.3551\n",
       "Name: 1006, Length: 500, dtype: float64"
      ]
     },
     "metadata": {},
     "output_type": "display_data"
    },
    {
     "data": {
      "text/plain": [
       "0      0.0380\n",
       "1      0.0337\n",
       "2      0.0179\n",
       "3      0.0211\n",
       "4      0.0380\n",
       "        ...  \n",
       "495    0.0729\n",
       "496    0.1128\n",
       "497    0.3171\n",
       "498    0.0711\n",
       "499    0.0864\n",
       "Name: 1007, Length: 500, dtype: float64"
      ]
     },
     "metadata": {},
     "output_type": "display_data"
    },
    {
     "data": {
      "text/plain": [
       "0      0.4865\n",
       "1      0.4865\n",
       "2         NaN\n",
       "3      0.4865\n",
       "4      0.2051\n",
       "        ...  \n",
       "495    0.2618\n",
       "496    0.3902\n",
       "497    0.2460\n",
       "498    0.2298\n",
       "499    0.3455\n",
       "Name: 1008, Length: 500, dtype: float64"
      ]
     },
     "metadata": {},
     "output_type": "display_data"
    },
    {
     "data": {
      "text/plain": [
       "0      0.0495\n",
       "1      0.0659\n",
       "2      0.0811\n",
       "3      0.1548\n",
       "4      0.0667\n",
       "        ...  \n",
       "495    0.3034\n",
       "496    0.3187\n",
       "497    0.3871\n",
       "498    0.1859\n",
       "499    0.4084\n",
       "Name: 1009, Length: 500, dtype: float64"
      ]
     },
     "metadata": {},
     "output_type": "display_data"
    },
    {
     "data": {
      "text/plain": [
       "0      0.0144\n",
       "1      0.0312\n",
       "2      0.0000\n",
       "3      0.0000\n",
       "4      0.0583\n",
       "        ...  \n",
       "495    0.1254\n",
       "496    0.0833\n",
       "497    0.0516\n",
       "498    0.0452\n",
       "499    0.0311\n",
       "Name: 1010, Length: 500, dtype: float64"
      ]
     },
     "metadata": {},
     "output_type": "display_data"
    },
    {
     "data": {
      "text/plain": [
       "0      0.0223\n",
       "1      0.0513\n",
       "2      0.0135\n",
       "3      0.0513\n",
       "4      0.0308\n",
       "        ...  \n",
       "495    0.1875\n",
       "496    0.1017\n",
       "497    0.0677\n",
       "498    0.0866\n",
       "499    0.1161\n",
       "Name: 1011, Length: 500, dtype: float64"
      ]
     },
     "metadata": {},
     "output_type": "display_data"
    },
    {
     "data": {
      "text/plain": [
       "0      0.0826\n",
       "1      0.0588\n",
       "2      0.0933\n",
       "3      0.1071\n",
       "4      0.0822\n",
       "        ...  \n",
       "495    0.1507\n",
       "496    0.0958\n",
       "497    0.1226\n",
       "498    0.1647\n",
       "499    0.2218\n",
       "Name: 1012, Length: 500, dtype: float64"
      ]
     },
     "metadata": {},
     "output_type": "display_data"
    },
    {
     "data": {
      "text/plain": [
       "0      0.9836\n",
       "1      0.9375\n",
       "2      0.9286\n",
       "3      0.9318\n",
       "4      0.8511\n",
       "        ...  \n",
       "495    0.8892\n",
       "496    0.8714\n",
       "497    0.8997\n",
       "498    0.8482\n",
       "499    0.9041\n",
       "Name: 1013, Length: 500, dtype: float64"
      ]
     },
     "metadata": {},
     "output_type": "display_data"
    },
    {
     "data": {
      "text/plain": [
       "0      0.0000\n",
       "1      0.0000\n",
       "2      0.0000\n",
       "3      0.0098\n",
       "4      0.0000\n",
       "        ...  \n",
       "495    0.0369\n",
       "496    0.0292\n",
       "497    0.0441\n",
       "498    0.0419\n",
       "499    0.0449\n",
       "Name: 1014, Length: 500, dtype: float64"
      ]
     },
     "metadata": {},
     "output_type": "display_data"
    },
    {
     "data": {
      "text/plain": [
       "0      0.1449\n",
       "1      0.2763\n",
       "2      0.1918\n",
       "3      0.1449\n",
       "4      0.4524\n",
       "        ...  \n",
       "495    0.6262\n",
       "496    0.4732\n",
       "497    0.5913\n",
       "498    0.5269\n",
       "499    0.6021\n",
       "Name: 1015, Length: 500, dtype: float64"
      ]
     },
     "metadata": {},
     "output_type": "display_data"
    },
    {
     "data": {
      "text/plain": [
       "0      0.0122\n",
       "1      0.0135\n",
       "2         NaN\n",
       "3      0.0412\n",
       "4      0.0000\n",
       "        ...  \n",
       "495    0.3161\n",
       "496    0.3071\n",
       "497    0.1725\n",
       "498    0.1168\n",
       "499    0.1980\n",
       "Name: 1016, Length: 500, dtype: float64"
      ]
     },
     "metadata": {},
     "output_type": "display_data"
    },
    {
     "data": {
      "text/plain": [
       "0      0.0252\n",
       "1      0.0061\n",
       "2      0.0201\n",
       "3      0.0139\n",
       "4      0.0201\n",
       "        ...  \n",
       "495    0.0821\n",
       "496    0.0551\n",
       "497    0.0835\n",
       "498    0.0454\n",
       "499    0.0539\n",
       "Name: 1017, Length: 500, dtype: float64"
      ]
     },
     "metadata": {},
     "output_type": "display_data"
    },
    {
     "data": {
      "text/plain": [
       "0      0.0853\n",
       "1      0.0808\n",
       "2      0.0808\n",
       "3      0.0843\n",
       "4      0.1204\n",
       "        ...  \n",
       "495    0.3523\n",
       "496    0.3549\n",
       "497    0.3058\n",
       "498    0.2109\n",
       "499    0.1450\n",
       "Name: 1018, Length: 500, dtype: float64"
      ]
     },
     "metadata": {},
     "output_type": "display_data"
    },
    {
     "data": {
      "text/plain": [
       "0      0.0028\n",
       "1      0.0095\n",
       "2      0.0000\n",
       "3      0.0000\n",
       "4      0.0034\n",
       "        ...  \n",
       "495    0.0355\n",
       "496    0.0450\n",
       "497    0.0486\n",
       "498    0.0469\n",
       "499    0.0498\n",
       "Name: 1019, Length: 500, dtype: float64"
      ]
     },
     "metadata": {},
     "output_type": "display_data"
    },
    {
     "data": {
      "text/plain": [
       "0      0.0000\n",
       "1      0.0000\n",
       "2      0.0000\n",
       "3      0.0000\n",
       "4      0.0141\n",
       "        ...  \n",
       "495    0.0205\n",
       "496    0.0169\n",
       "497    0.0297\n",
       "498    0.0296\n",
       "499    0.0223\n",
       "Name: 1020, Length: 500, dtype: float64"
      ]
     },
     "metadata": {},
     "output_type": "display_data"
    },
    {
     "data": {
      "text/plain": [
       "0      0.1944\n",
       "1      0.3889\n",
       "2      0.3778\n",
       "3      0.1944\n",
       "4      0.5333\n",
       "        ...  \n",
       "495    0.1742\n",
       "496    0.2609\n",
       "497    0.2092\n",
       "498    0.1744\n",
       "499    0.2496\n",
       "Name: 1021, Length: 500, dtype: float64"
      ]
     },
     "metadata": {},
     "output_type": "display_data"
    },
    {
     "data": {
      "text/plain": [
       "0      0.0000\n",
       "1      0.0000\n",
       "2      0.0000\n",
       "3      0.0000\n",
       "4      0.0000\n",
       "        ...  \n",
       "495    0.0240\n",
       "496    0.0253\n",
       "497    0.0233\n",
       "498    0.0230\n",
       "499    0.0265\n",
       "Name: 1022, Length: 500, dtype: float64"
      ]
     },
     "metadata": {},
     "output_type": "display_data"
    },
    {
     "data": {
      "text/plain": [
       "0      0.8898\n",
       "1      0.8898\n",
       "2      0.9464\n",
       "3      0.9464\n",
       "4      0.9355\n",
       "        ...  \n",
       "495    0.9480\n",
       "496    0.9349\n",
       "497    0.9539\n",
       "498    0.9295\n",
       "499    0.9272\n",
       "Name: 1023, Length: 500, dtype: float64"
      ]
     },
     "metadata": {},
     "output_type": "display_data"
    },
    {
     "data": {
      "text/plain": [
       "0      0.0333\n",
       "1      0.0704\n",
       "2      0.0128\n",
       "3      0.0139\n",
       "4      0.0437\n",
       "        ...  \n",
       "495    0.3940\n",
       "496    0.4237\n",
       "497    0.4138\n",
       "498    0.0280\n",
       "499    0.0664\n",
       "Name: 1024, Length: 500, dtype: float64"
      ]
     },
     "metadata": {},
     "output_type": "display_data"
    },
    {
     "data": {
      "text/plain": [
       "0      0.1507\n",
       "1      0.1773\n",
       "2      0.1680\n",
       "3      0.2090\n",
       "4      0.1989\n",
       "        ...  \n",
       "495    0.5061\n",
       "496    0.1566\n",
       "497    0.1086\n",
       "498    0.1617\n",
       "499    0.1349\n",
       "Name: 1025, Length: 500, dtype: float64"
      ]
     },
     "metadata": {},
     "output_type": "display_data"
    },
    {
     "data": {
      "text/plain": [
       "0      0.0000\n",
       "1      0.0084\n",
       "2      0.0211\n",
       "3      0.0078\n",
       "4      0.0205\n",
       "        ...  \n",
       "495    0.0710\n",
       "496    0.0516\n",
       "497    0.0739\n",
       "498    0.0671\n",
       "499    0.0640\n",
       "Name: 1026, Length: 500, dtype: float64"
      ]
     },
     "metadata": {},
     "output_type": "display_data"
    },
    {
     "data": {
      "text/plain": [
       "0      0.0074\n",
       "1      0.0074\n",
       "2      0.0000\n",
       "3      0.0000\n",
       "4      0.0000\n",
       "        ...  \n",
       "495    0.0215\n",
       "496    0.0169\n",
       "497    0.0178\n",
       "498    0.0163\n",
       "499    0.0125\n",
       "Name: 1027, Length: 500, dtype: float64"
      ]
     },
     "metadata": {},
     "output_type": "display_data"
    },
    {
     "data": {
      "text/plain": [
       "0      0.0000\n",
       "1      0.0000\n",
       "2      0.0000\n",
       "3      0.0000\n",
       "4      0.0032\n",
       "        ...  \n",
       "495    0.0294\n",
       "496    0.0361\n",
       "497    0.0283\n",
       "498    0.0280\n",
       "499    0.0264\n",
       "Name: 1028, Length: 500, dtype: float64"
      ]
     },
     "metadata": {},
     "output_type": "display_data"
    },
    {
     "data": {
      "text/plain": [
       "0      0.9589\n",
       "1      0.8634\n",
       "2      0.8634\n",
       "3      0.8571\n",
       "4      0.9053\n",
       "        ...  \n",
       "495    0.9202\n",
       "496    0.8418\n",
       "497    0.8900\n",
       "498    0.8742\n",
       "499    0.8859\n",
       "Name: 1029, Length: 500, dtype: float64"
      ]
     },
     "metadata": {},
     "output_type": "display_data"
    },
    {
     "data": {
      "text/plain": [
       "0         NaN\n",
       "1         NaN\n",
       "2         NaN\n",
       "3         NaN\n",
       "4         NaN\n",
       "        ...  \n",
       "495    0.4137\n",
       "496    0.4265\n",
       "497    0.3682\n",
       "498    0.4856\n",
       "499    0.3610\n",
       "Name: 1030, Length: 500, dtype: float64"
      ]
     },
     "metadata": {},
     "output_type": "display_data"
    },
    {
     "data": {
      "text/plain": [
       "0      0.0450\n",
       "1      0.0398\n",
       "2      0.0000\n",
       "3      0.0324\n",
       "4      0.0118\n",
       "        ...  \n",
       "495    0.0296\n",
       "496    0.0272\n",
       "497    0.0267\n",
       "498    0.0267\n",
       "499    0.0320\n",
       "Name: 1031, Length: 500, dtype: float64"
      ]
     },
     "metadata": {},
     "output_type": "display_data"
    },
    {
     "data": {
      "text/plain": [
       "0      0.0000\n",
       "1      0.0000\n",
       "2      0.0000\n",
       "3      0.0000\n",
       "4      0.0000\n",
       "        ...  \n",
       "495    0.0519\n",
       "496    0.0458\n",
       "497    0.0356\n",
       "498    0.0459\n",
       "499    0.0408\n",
       "Name: 1032, Length: 500, dtype: float64"
      ]
     },
     "metadata": {},
     "output_type": "display_data"
    },
    {
     "data": {
      "text/plain": [
       "0      0.1013\n",
       "1      0.1235\n",
       "2      0.0879\n",
       "3      0.0879\n",
       "4      0.1023\n",
       "        ...  \n",
       "495    0.2483\n",
       "496    0.2734\n",
       "497    0.5735\n",
       "498    0.4513\n",
       "499    0.3312\n",
       "Name: 1033, Length: 500, dtype: float64"
      ]
     },
     "metadata": {},
     "output_type": "display_data"
    },
    {
     "data": {
      "text/plain": [
       "0      0.0000\n",
       "1      0.0053\n",
       "2      0.0000\n",
       "3      0.0000\n",
       "4      0.0000\n",
       "        ...  \n",
       "495    0.0958\n",
       "496    0.1024\n",
       "497    0.0762\n",
       "498    0.0760\n",
       "499    0.0865\n",
       "Name: 1034, Length: 500, dtype: float64"
      ]
     },
     "metadata": {},
     "output_type": "display_data"
    },
    {
     "data": {
      "text/plain": [
       "0      0.0235\n",
       "1      0.0842\n",
       "2      0.0000\n",
       "3      0.0235\n",
       "4      0.0000\n",
       "        ...  \n",
       "495    0.0253\n",
       "496    0.0226\n",
       "497    0.0198\n",
       "498    0.0258\n",
       "499    0.0248\n",
       "Name: 1035, Length: 500, dtype: float64"
      ]
     },
     "metadata": {},
     "output_type": "display_data"
    },
    {
     "data": {
      "text/plain": [
       "0      0.0342\n",
       "1      0.0453\n",
       "2      0.0535\n",
       "3      0.0751\n",
       "4      0.0583\n",
       "        ...  \n",
       "495    0.0881\n",
       "496    0.2115\n",
       "497    0.1215\n",
       "498    0.1541\n",
       "499    0.1326\n",
       "Name: 1036, Length: 500, dtype: float64"
      ]
     },
     "metadata": {},
     "output_type": "display_data"
    },
    {
     "data": {
      "text/plain": [
       "0      0.8043\n",
       "1      0.8438\n",
       "2      0.8000\n",
       "3      0.8438\n",
       "4      0.8667\n",
       "        ...  \n",
       "495       NaN\n",
       "496       NaN\n",
       "497       NaN\n",
       "498       NaN\n",
       "499       NaN\n",
       "Name: 1037, Length: 500, dtype: float64"
      ]
     },
     "metadata": {},
     "output_type": "display_data"
    },
    {
     "data": {
      "text/plain": [
       "0      0.2482\n",
       "1      0.1000\n",
       "2      0.3048\n",
       "3      0.1657\n",
       "4      0.2969\n",
       "        ...  \n",
       "495    0.1920\n",
       "496    0.1145\n",
       "497    0.1941\n",
       "498    0.0760\n",
       "499    0.1287\n",
       "Name: 1038, Length: 500, dtype: float64"
      ]
     },
     "metadata": {},
     "output_type": "display_data"
    },
    {
     "data": {
      "text/plain": [
       "0      0.9158\n",
       "1      0.9470\n",
       "2      0.9744\n",
       "3      0.9280\n",
       "4      0.9524\n",
       "        ...  \n",
       "495    0.8929\n",
       "496    0.9011\n",
       "497    0.8021\n",
       "498    0.6627\n",
       "499    0.8576\n",
       "Name: 1039, Length: 500, dtype: float64"
      ]
     },
     "metadata": {},
     "output_type": "display_data"
    },
    {
     "data": {
      "text/plain": [
       "0      0.8333\n",
       "1      0.8103\n",
       "2      0.8333\n",
       "3      0.8649\n",
       "4      0.5682\n",
       "        ...  \n",
       "495    0.4389\n",
       "496    0.4389\n",
       "497    0.3401\n",
       "498    0.6183\n",
       "499    0.2050\n",
       "Name: 1040, Length: 500, dtype: float64"
      ]
     },
     "metadata": {},
     "output_type": "display_data"
    },
    {
     "data": {
      "text/plain": [
       "0      0.0909\n",
       "1      0.0567\n",
       "2      0.1801\n",
       "3      0.1728\n",
       "4      0.1304\n",
       "        ...  \n",
       "495    0.0446\n",
       "496    0.2467\n",
       "497    0.0332\n",
       "498    0.0730\n",
       "499    0.0518\n",
       "Name: 1041, Length: 500, dtype: float64"
      ]
     },
     "metadata": {},
     "output_type": "display_data"
    },
    {
     "data": {
      "text/plain": [
       "0      0.0000\n",
       "1         NaN\n",
       "2      0.0000\n",
       "3      0.0157\n",
       "4      0.0095\n",
       "        ...  \n",
       "495    0.0242\n",
       "496    0.0281\n",
       "497    0.0228\n",
       "498    0.0357\n",
       "499    0.0229\n",
       "Name: 1042, Length: 500, dtype: float64"
      ]
     },
     "metadata": {},
     "output_type": "display_data"
    },
    {
     "data": {
      "text/plain": [
       "0      0.0000\n",
       "1      0.0000\n",
       "2      0.0000\n",
       "3      0.0000\n",
       "4      0.0000\n",
       "        ...  \n",
       "495    0.1957\n",
       "496    0.0464\n",
       "497    0.0720\n",
       "498    0.0450\n",
       "499    0.0221\n",
       "Name: 1043, Length: 500, dtype: float64"
      ]
     },
     "metadata": {},
     "output_type": "display_data"
    },
    {
     "data": {
      "text/plain": [
       "0      0.0000\n",
       "1      0.0000\n",
       "2      0.0000\n",
       "3      0.0000\n",
       "4      0.0000\n",
       "        ...  \n",
       "495    0.0299\n",
       "496    0.0324\n",
       "497    0.0305\n",
       "498    0.0311\n",
       "499    0.0360\n",
       "Name: 1044, Length: 500, dtype: float64"
      ]
     },
     "metadata": {},
     "output_type": "display_data"
    },
    {
     "data": {
      "text/plain": [
       "0      0.0000\n",
       "1      0.0000\n",
       "2         NaN\n",
       "3      0.0000\n",
       "4      0.0000\n",
       "        ...  \n",
       "495    0.0356\n",
       "496    0.0459\n",
       "497    0.0431\n",
       "498    0.0486\n",
       "499    0.0530\n",
       "Name: 1045, Length: 500, dtype: float64"
      ]
     },
     "metadata": {},
     "output_type": "display_data"
    },
    {
     "data": {
      "text/plain": [
       "0      0.1748\n",
       "1      0.1105\n",
       "2      0.1105\n",
       "3      0.1296\n",
       "4      0.1713\n",
       "        ...  \n",
       "495    0.5584\n",
       "496    0.4172\n",
       "497    0.5045\n",
       "498    0.3945\n",
       "499    0.6113\n",
       "Name: 1046, Length: 500, dtype: float64"
      ]
     },
     "metadata": {},
     "output_type": "display_data"
    },
    {
     "data": {
      "text/plain": [
       "0      0.9200\n",
       "1      0.8200\n",
       "2      0.8065\n",
       "3      0.8772\n",
       "4      0.8200\n",
       "        ...  \n",
       "495    0.9527\n",
       "496    0.9389\n",
       "497    0.9581\n",
       "498    0.9497\n",
       "499    0.9281\n",
       "Name: 1047, Length: 500, dtype: float64"
      ]
     },
     "metadata": {},
     "output_type": "display_data"
    },
    {
     "data": {
      "text/plain": [
       "0      0.9239\n",
       "1      0.8824\n",
       "2      1.0000\n",
       "3      1.0000\n",
       "4      0.9552\n",
       "        ...  \n",
       "495    0.9710\n",
       "496    0.9581\n",
       "497    0.9822\n",
       "498    0.9794\n",
       "499    0.9790\n",
       "Name: 1048, Length: 500, dtype: float64"
      ]
     },
     "metadata": {},
     "output_type": "display_data"
    },
    {
     "data": {
      "text/plain": [
       "0      0.9433\n",
       "1      0.9433\n",
       "2      0.9104\n",
       "3      0.8868\n",
       "4      0.9390\n",
       "        ...  \n",
       "495    0.9523\n",
       "496    0.9277\n",
       "497    0.9509\n",
       "498    0.9386\n",
       "499    0.9387\n",
       "Name: 1049, Length: 500, dtype: float64"
      ]
     },
     "metadata": {},
     "output_type": "display_data"
    },
    {
     "data": {
      "text/plain": [
       "0      0.9573\n",
       "1      0.9865\n",
       "2      0.9429\n",
       "3      0.9162\n",
       "4      0.9618\n",
       "        ...  \n",
       "495    0.6874\n",
       "496    0.8053\n",
       "497    0.7116\n",
       "498    0.8029\n",
       "499    0.7796\n",
       "Name: 1050, Length: 500, dtype: float64"
      ]
     },
     "metadata": {},
     "output_type": "display_data"
    },
    {
     "data": {
      "text/plain": [
       "0      0.9149\n",
       "1      0.9178\n",
       "2      0.9198\n",
       "3      0.9355\n",
       "4      0.8947\n",
       "        ...  \n",
       "495    0.8827\n",
       "496    0.8457\n",
       "497    0.8732\n",
       "498    0.8801\n",
       "499    0.8878\n",
       "Name: 1051, Length: 500, dtype: float64"
      ]
     },
     "metadata": {},
     "output_type": "display_data"
    },
    {
     "data": {
      "text/plain": [
       "0      0.9342\n",
       "1      0.9091\n",
       "2      0.8873\n",
       "3      0.8613\n",
       "4      0.9355\n",
       "        ...  \n",
       "495    0.9060\n",
       "496    0.8778\n",
       "497    0.9051\n",
       "498    0.8875\n",
       "499    0.8800\n",
       "Name: 1052, Length: 500, dtype: float64"
      ]
     },
     "metadata": {},
     "output_type": "display_data"
    },
    {
     "data": {
      "text/plain": [
       "0      0.0000\n",
       "1      0.0098\n",
       "2      0.0000\n",
       "3      0.0000\n",
       "4      0.0000\n",
       "        ...  \n",
       "495    0.0705\n",
       "496    0.0641\n",
       "497    0.0626\n",
       "498    0.0684\n",
       "499    0.0683\n",
       "Name: 1053, Length: 500, dtype: float64"
      ]
     },
     "metadata": {},
     "output_type": "display_data"
    },
    {
     "data": {
      "text/plain": [
       "0      0.9310\n",
       "1         NaN\n",
       "2      0.8864\n",
       "3         NaN\n",
       "4         NaN\n",
       "        ...  \n",
       "495    0.6439\n",
       "496    0.6590\n",
       "497    0.7073\n",
       "498    0.6903\n",
       "499    0.5846\n",
       "Name: 1054, Length: 500, dtype: float64"
      ]
     },
     "metadata": {},
     "output_type": "display_data"
    },
    {
     "data": {
      "text/plain": [
       "0         NaN\n",
       "1         NaN\n",
       "2         NaN\n",
       "3      0.9778\n",
       "4      0.9778\n",
       "        ...  \n",
       "495       NaN\n",
       "496       NaN\n",
       "497       NaN\n",
       "498       NaN\n",
       "499       NaN\n",
       "Name: 1055, Length: 500, dtype: float64"
      ]
     },
     "metadata": {},
     "output_type": "display_data"
    },
    {
     "data": {
      "text/plain": [
       "0      0.8696\n",
       "1      0.7742\n",
       "2      0.9429\n",
       "3      0.8571\n",
       "4      0.8000\n",
       "        ...  \n",
       "495       NaN\n",
       "496       NaN\n",
       "497       NaN\n",
       "498       NaN\n",
       "499       NaN\n",
       "Name: 1056, Length: 500, dtype: float64"
      ]
     },
     "metadata": {},
     "output_type": "display_data"
    },
    {
     "data": {
      "text/plain": [
       "0      0.0283\n",
       "1      0.0294\n",
       "2      0.0039\n",
       "3      0.0076\n",
       "4      0.0072\n",
       "        ...  \n",
       "495    0.0394\n",
       "496    0.0356\n",
       "497    0.0736\n",
       "498    0.0309\n",
       "499    0.0485\n",
       "Name: 1057, Length: 500, dtype: float64"
      ]
     },
     "metadata": {},
     "output_type": "display_data"
    },
    {
     "data": {
      "text/plain": [
       "0         NaN\n",
       "1      0.8485\n",
       "2         NaN\n",
       "3         NaN\n",
       "4         NaN\n",
       "        ...  \n",
       "495       NaN\n",
       "496       NaN\n",
       "497       NaN\n",
       "498       NaN\n",
       "499       NaN\n",
       "Name: 1058, Length: 500, dtype: float64"
      ]
     },
     "metadata": {},
     "output_type": "display_data"
    },
    {
     "data": {
      "text/plain": [
       "0      0.0000\n",
       "1      0.0000\n",
       "2      0.0000\n",
       "3      0.0000\n",
       "4      0.0000\n",
       "        ...  \n",
       "495    0.0226\n",
       "496    0.0304\n",
       "497    0.0317\n",
       "498    0.0476\n",
       "499    0.0255\n",
       "Name: 1059, Length: 500, dtype: float64"
      ]
     },
     "metadata": {},
     "output_type": "display_data"
    },
    {
     "data": {
      "text/plain": [
       "0      0.9895\n",
       "1      0.9286\n",
       "2      0.9187\n",
       "3      0.9110\n",
       "4      0.9574\n",
       "        ...  \n",
       "495    0.9461\n",
       "496    0.9210\n",
       "497    0.9047\n",
       "498    0.9093\n",
       "499    0.9164\n",
       "Name: 1060, Length: 500, dtype: float64"
      ]
     },
     "metadata": {},
     "output_type": "display_data"
    },
    {
     "data": {
      "text/plain": [
       "0      0.8614\n",
       "1      0.7943\n",
       "2      0.8205\n",
       "3      0.8519\n",
       "4      0.9021\n",
       "        ...  \n",
       "495    0.7252\n",
       "496    0.6844\n",
       "497    0.7748\n",
       "498    0.7282\n",
       "499    0.7252\n",
       "Name: 1061, Length: 500, dtype: float64"
      ]
     },
     "metadata": {},
     "output_type": "display_data"
    },
    {
     "data": {
      "text/plain": [
       "0      0.1000\n",
       "1      0.1058\n",
       "2      0.0429\n",
       "3      0.0435\n",
       "4      0.0143\n",
       "        ...  \n",
       "495       NaN\n",
       "496       NaN\n",
       "497       NaN\n",
       "498       NaN\n",
       "499       NaN\n",
       "Name: 1062, Length: 500, dtype: float64"
      ]
     },
     "metadata": {},
     "output_type": "display_data"
    },
    {
     "data": {
      "text/plain": [
       "0      1.0000\n",
       "1      0.9057\n",
       "2      0.8482\n",
       "3      0.8468\n",
       "4      0.9057\n",
       "        ...  \n",
       "495    0.7991\n",
       "496    0.8334\n",
       "497    0.8328\n",
       "498    0.6329\n",
       "499    0.8422\n",
       "Name: 1063, Length: 500, dtype: float64"
      ]
     },
     "metadata": {},
     "output_type": "display_data"
    },
    {
     "data": {
      "text/plain": [
       "0      0.0674\n",
       "1      0.0563\n",
       "2      0.1053\n",
       "3      0.1622\n",
       "4      0.0179\n",
       "        ...  \n",
       "495    0.1058\n",
       "496    0.2201\n",
       "497    0.2943\n",
       "498    0.1244\n",
       "499    0.1513\n",
       "Name: 1064, Length: 500, dtype: float64"
      ]
     },
     "metadata": {},
     "output_type": "display_data"
    },
    {
     "data": {
      "text/plain": [
       "0      0.9706\n",
       "1      0.9355\n",
       "2      0.9487\n",
       "3      0.9500\n",
       "4      0.9773\n",
       "        ...  \n",
       "495    0.9264\n",
       "496    0.2557\n",
       "497    0.9269\n",
       "498    0.9421\n",
       "499    0.7608\n",
       "Name: 1065, Length: 500, dtype: float64"
      ]
     },
     "metadata": {},
     "output_type": "display_data"
    },
    {
     "data": {
      "text/plain": [
       "0      0.0000\n",
       "1      0.0000\n",
       "2      0.0000\n",
       "3      0.0000\n",
       "4      0.0000\n",
       "        ...  \n",
       "495    0.0198\n",
       "496    0.0199\n",
       "497    0.0192\n",
       "498    0.0174\n",
       "499    0.0203\n",
       "Name: 1066, Length: 500, dtype: float64"
      ]
     },
     "metadata": {},
     "output_type": "display_data"
    },
    {
     "data": {
      "text/plain": [
       "0      0.0952\n",
       "1      0.0981\n",
       "2      0.0189\n",
       "3      0.0638\n",
       "4      0.0116\n",
       "        ...  \n",
       "495    0.1394\n",
       "496    0.0770\n",
       "497    0.0876\n",
       "498    0.1006\n",
       "499    0.1751\n",
       "Name: 1067, Length: 500, dtype: float64"
      ]
     },
     "metadata": {},
     "output_type": "display_data"
    },
    {
     "data": {
      "text/plain": [
       "0      0.5079\n",
       "1      0.6526\n",
       "2      0.3952\n",
       "3      0.5286\n",
       "4      0.6339\n",
       "        ...  \n",
       "495    0.4661\n",
       "496    0.3630\n",
       "497    0.1657\n",
       "498    0.2473\n",
       "499    0.5395\n",
       "Name: 1068, Length: 500, dtype: float64"
      ]
     },
     "metadata": {},
     "output_type": "display_data"
    },
    {
     "data": {
      "text/plain": [
       "0         NaN\n",
       "1         NaN\n",
       "2      0.4333\n",
       "3         NaN\n",
       "4         NaN\n",
       "        ...  \n",
       "495    0.6182\n",
       "496    0.3909\n",
       "497    0.4068\n",
       "498    0.5983\n",
       "499    0.4356\n",
       "Name: 1069, Length: 500, dtype: float64"
      ]
     },
     "metadata": {},
     "output_type": "display_data"
    },
    {
     "data": {
      "text/plain": [
       "0      0.9008\n",
       "1      0.9014\n",
       "2      0.8438\n",
       "3      0.9020\n",
       "4      0.9273\n",
       "        ...  \n",
       "495    0.8440\n",
       "496    0.8696\n",
       "497    0.7973\n",
       "498    0.8385\n",
       "499    0.8740\n",
       "Name: 1070, Length: 500, dtype: float64"
      ]
     },
     "metadata": {},
     "output_type": "display_data"
    },
    {
     "data": {
      "text/plain": [
       "0      0.8542\n",
       "1      0.8824\n",
       "2      0.8824\n",
       "3      0.9138\n",
       "4         NaN\n",
       "        ...  \n",
       "495    0.4627\n",
       "496    0.6135\n",
       "497    0.4480\n",
       "498    0.3986\n",
       "499    0.3963\n",
       "Name: 1071, Length: 500, dtype: float64"
      ]
     },
     "metadata": {},
     "output_type": "display_data"
    },
    {
     "data": {
      "text/plain": [
       "0         NaN\n",
       "1      0.8116\n",
       "2      0.7692\n",
       "3      0.6389\n",
       "4      0.8267\n",
       "        ...  \n",
       "495    0.3841\n",
       "496    0.3651\n",
       "497    0.2234\n",
       "498    0.3384\n",
       "499    0.6513\n",
       "Name: 1072, Length: 500, dtype: float64"
      ]
     },
     "metadata": {},
     "output_type": "display_data"
    },
    {
     "data": {
      "text/plain": [
       "0      0.7559\n",
       "1      0.7013\n",
       "2      0.7013\n",
       "3      0.7730\n",
       "4      0.7381\n",
       "        ...  \n",
       "495    0.6611\n",
       "496    0.8380\n",
       "497    0.7394\n",
       "498    0.5184\n",
       "499    0.8735\n",
       "Name: 1073, Length: 500, dtype: float64"
      ]
     },
     "metadata": {},
     "output_type": "display_data"
    },
    {
     "data": {
      "text/plain": [
       "0      0.0097\n",
       "1      0.0000\n",
       "2      0.0049\n",
       "3      0.0160\n",
       "4      0.0035\n",
       "        ...  \n",
       "495    0.0259\n",
       "496    0.0258\n",
       "497    0.0260\n",
       "498    0.0176\n",
       "499    0.0268\n",
       "Name: 1074, Length: 500, dtype: float64"
      ]
     },
     "metadata": {},
     "output_type": "display_data"
    },
    {
     "data": {
      "text/plain": [
       "0      0.0426\n",
       "1      0.0404\n",
       "2      0.0640\n",
       "3      0.0305\n",
       "4      0.0203\n",
       "        ...  \n",
       "495    0.1140\n",
       "496    0.0669\n",
       "497    0.0890\n",
       "498    0.0637\n",
       "499    0.0747\n",
       "Name: 1075, Length: 500, dtype: float64"
      ]
     },
     "metadata": {},
     "output_type": "display_data"
    },
    {
     "data": {
      "text/plain": [
       "0      0.9669\n",
       "1      0.9535\n",
       "2      0.9720\n",
       "3      0.9275\n",
       "4      0.9400\n",
       "        ...  \n",
       "495    0.8487\n",
       "496    0.7959\n",
       "497    0.7957\n",
       "498    0.9097\n",
       "499    0.8170\n",
       "Name: 1076, Length: 500, dtype: float64"
      ]
     },
     "metadata": {},
     "output_type": "display_data"
    },
    {
     "data": {
      "text/plain": [
       "0      0.9104\n",
       "1      0.9515\n",
       "2      0.9301\n",
       "3      0.9359\n",
       "4      0.9167\n",
       "        ...  \n",
       "495    0.9472\n",
       "496    0.9401\n",
       "497    0.8502\n",
       "498    0.9065\n",
       "499    0.9396\n",
       "Name: 1077, Length: 500, dtype: float64"
      ]
     },
     "metadata": {},
     "output_type": "display_data"
    },
    {
     "data": {
      "text/plain": [
       "0      0.5672\n",
       "1      0.3813\n",
       "2      0.2932\n",
       "3      0.1909\n",
       "4      0.3779\n",
       "        ...  \n",
       "495    0.4664\n",
       "496    0.5144\n",
       "497    0.5487\n",
       "498    0.5777\n",
       "499    0.4518\n",
       "Name: 1078, Length: 500, dtype: float64"
      ]
     },
     "metadata": {},
     "output_type": "display_data"
    },
    {
     "data": {
      "text/plain": [
       "0      0.0000\n",
       "1      0.0000\n",
       "2      0.0000\n",
       "3         NaN\n",
       "4         NaN\n",
       "        ...  \n",
       "495    0.0382\n",
       "496    0.0308\n",
       "497    0.0353\n",
       "498    0.0433\n",
       "499    0.0483\n",
       "Name: 1079, Length: 500, dtype: float64"
      ]
     },
     "metadata": {},
     "output_type": "display_data"
    },
    {
     "data": {
      "text/plain": [
       "0      0.0000\n",
       "1      0.0000\n",
       "2      0.0000\n",
       "3      0.0000\n",
       "4      0.0000\n",
       "        ...  \n",
       "495    0.0440\n",
       "496    0.0327\n",
       "497    0.0494\n",
       "498    0.0395\n",
       "499    0.0365\n",
       "Name: 1080, Length: 500, dtype: float64"
      ]
     },
     "metadata": {},
     "output_type": "display_data"
    },
    {
     "data": {
      "text/plain": [
       "0      0.0000\n",
       "1      0.0000\n",
       "2      0.0000\n",
       "3      0.0000\n",
       "4      0.0000\n",
       "        ...  \n",
       "495    0.0490\n",
       "496    0.0498\n",
       "497    0.0448\n",
       "498    0.0446\n",
       "499    0.0532\n",
       "Name: 1081, Length: 500, dtype: float64"
      ]
     },
     "metadata": {},
     "output_type": "display_data"
    },
    {
     "data": {
      "text/plain": [
       "0      0.0357\n",
       "1      0.0833\n",
       "2      0.0702\n",
       "3      0.1268\n",
       "4      0.0227\n",
       "        ...  \n",
       "495    0.1664\n",
       "496    0.1296\n",
       "497    0.1714\n",
       "498    0.1758\n",
       "499    0.0799\n",
       "Name: 1082, Length: 500, dtype: float64"
      ]
     },
     "metadata": {},
     "output_type": "display_data"
    },
    {
     "data": {
      "text/plain": [
       "0      0.0106\n",
       "1      0.0034\n",
       "2      0.0064\n",
       "3      0.0064\n",
       "4      0.0000\n",
       "        ...  \n",
       "495    0.0491\n",
       "496    0.0540\n",
       "497    0.0503\n",
       "498    0.1008\n",
       "499    0.0943\n",
       "Name: 1083, Length: 500, dtype: float64"
      ]
     },
     "metadata": {},
     "output_type": "display_data"
    },
    {
     "data": {
      "text/plain": [
       "0      0.9286\n",
       "1      0.9271\n",
       "2      0.9247\n",
       "3      0.9114\n",
       "4         NaN\n",
       "        ...  \n",
       "495    0.9139\n",
       "496    0.9088\n",
       "497    0.9125\n",
       "498    0.8517\n",
       "499    0.9076\n",
       "Name: 1084, Length: 500, dtype: float64"
      ]
     },
     "metadata": {},
     "output_type": "display_data"
    },
    {
     "data": {
      "text/plain": [
       "0      0.6800\n",
       "1      0.7778\n",
       "2         NaN\n",
       "3         NaN\n",
       "4      0.8298\n",
       "        ...  \n",
       "495    0.5941\n",
       "496    0.3347\n",
       "497    0.7631\n",
       "498    0.4101\n",
       "499    0.6719\n",
       "Name: 1085, Length: 500, dtype: float64"
      ]
     },
     "metadata": {},
     "output_type": "display_data"
    },
    {
     "data": {
      "text/plain": [
       "0      0.0000\n",
       "1      0.0000\n",
       "2      0.0000\n",
       "3      0.0000\n",
       "4      0.0000\n",
       "        ...  \n",
       "495    0.0296\n",
       "496    0.0291\n",
       "497    0.0301\n",
       "498    0.0455\n",
       "499    0.0298\n",
       "Name: 1086, Length: 500, dtype: float64"
      ]
     },
     "metadata": {},
     "output_type": "display_data"
    },
    {
     "data": {
      "text/plain": [
       "0      0.0000\n",
       "1      0.0000\n",
       "2      0.0000\n",
       "3      0.0000\n",
       "4         NaN\n",
       "        ...  \n",
       "495    0.0483\n",
       "496    0.0512\n",
       "497    0.0474\n",
       "498    0.0384\n",
       "499    0.0546\n",
       "Name: 1087, Length: 500, dtype: float64"
      ]
     },
     "metadata": {},
     "output_type": "display_data"
    },
    {
     "data": {
      "text/plain": [
       "0      0.0071\n",
       "1      0.0000\n",
       "2      0.0000\n",
       "3      0.0000\n",
       "4      0.0081\n",
       "        ...  \n",
       "495    0.0251\n",
       "496    0.0273\n",
       "497    0.0217\n",
       "498    0.0287\n",
       "499    0.0264\n",
       "Name: 1088, Length: 500, dtype: float64"
      ]
     },
     "metadata": {},
     "output_type": "display_data"
    },
    {
     "data": {
      "text/plain": [
       "0      0.0000\n",
       "1      0.0000\n",
       "2      0.0081\n",
       "3      0.0000\n",
       "4      0.0000\n",
       "        ...  \n",
       "495    0.0448\n",
       "496    0.0378\n",
       "497    0.0446\n",
       "498    0.0362\n",
       "499    0.0350\n",
       "Name: 1089, Length: 500, dtype: float64"
      ]
     },
     "metadata": {},
     "output_type": "display_data"
    },
    {
     "data": {
      "text/plain": [
       "0      0.0341\n",
       "1      0.0121\n",
       "2      0.0149\n",
       "3      0.0156\n",
       "4      0.0121\n",
       "        ...  \n",
       "495    0.1950\n",
       "496    0.0778\n",
       "497    0.0584\n",
       "498    0.0648\n",
       "499    0.0591\n",
       "Name: 1090, Length: 500, dtype: float64"
      ]
     },
     "metadata": {},
     "output_type": "display_data"
    },
    {
     "data": {
      "text/plain": [
       "0      0.5942\n",
       "1      0.7175\n",
       "2      0.5524\n",
       "3      0.7889\n",
       "4      0.7069\n",
       "        ...  \n",
       "495    0.6839\n",
       "496    0.8233\n",
       "497    0.8483\n",
       "498    0.6809\n",
       "499    0.6466\n",
       "Name: 1091, Length: 500, dtype: float64"
      ]
     },
     "metadata": {},
     "output_type": "display_data"
    },
    {
     "data": {
      "text/plain": [
       "0      0.0000\n",
       "1      0.0000\n",
       "2      0.0078\n",
       "3      0.0000\n",
       "4      0.0000\n",
       "        ...  \n",
       "495       NaN\n",
       "496       NaN\n",
       "497       NaN\n",
       "498       NaN\n",
       "499       NaN\n",
       "Name: 1092, Length: 500, dtype: float64"
      ]
     },
     "metadata": {},
     "output_type": "display_data"
    },
    {
     "data": {
      "text/plain": [
       "0      0.0811\n",
       "1      0.0435\n",
       "2      0.0000\n",
       "3      0.0476\n",
       "4         NaN\n",
       "        ...  \n",
       "495    0.3907\n",
       "496    0.4208\n",
       "497    0.4040\n",
       "498    0.4133\n",
       "499    0.3387\n",
       "Name: 1093, Length: 500, dtype: float64"
      ]
     },
     "metadata": {},
     "output_type": "display_data"
    },
    {
     "data": {
      "text/plain": [
       "0      0.0280\n",
       "1      0.0000\n",
       "2      0.0093\n",
       "3      0.0000\n",
       "4      0.0000\n",
       "        ...  \n",
       "495    0.0675\n",
       "496    0.0473\n",
       "497    0.0602\n",
       "498    0.0506\n",
       "499    0.0527\n",
       "Name: 1094, Length: 500, dtype: float64"
      ]
     },
     "metadata": {},
     "output_type": "display_data"
    },
    {
     "data": {
      "text/plain": [
       "0      0.0345\n",
       "1      0.0000\n",
       "2      0.0000\n",
       "3      0.0094\n",
       "4      0.0098\n",
       "        ...  \n",
       "495    0.0551\n",
       "496    0.0828\n",
       "497    0.0459\n",
       "498    0.0446\n",
       "499    0.0468\n",
       "Name: 1095, Length: 500, dtype: float64"
      ]
     },
     "metadata": {},
     "output_type": "display_data"
    },
    {
     "data": {
      "text/plain": [
       "0      0.0746\n",
       "1      0.1040\n",
       "2      0.1000\n",
       "3      0.0746\n",
       "4      0.1006\n",
       "        ...  \n",
       "495    0.1606\n",
       "496    0.1009\n",
       "497    0.1077\n",
       "498    0.1543\n",
       "499    0.1482\n",
       "Name: 1096, Length: 500, dtype: float64"
      ]
     },
     "metadata": {},
     "output_type": "display_data"
    },
    {
     "data": {
      "text/plain": [
       "0      0.0000\n",
       "1      0.0000\n",
       "2      0.0000\n",
       "3      0.0000\n",
       "4      0.0000\n",
       "        ...  \n",
       "495    0.0454\n",
       "496    0.0565\n",
       "497    0.0525\n",
       "498    0.0742\n",
       "499    0.0483\n",
       "Name: 1097, Length: 500, dtype: float64"
      ]
     },
     "metadata": {},
     "output_type": "display_data"
    },
    {
     "data": {
      "text/plain": [
       "0         NaN\n",
       "1      0.0000\n",
       "2      0.0000\n",
       "3      0.0000\n",
       "4      0.0000\n",
       "        ...  \n",
       "495    0.0386\n",
       "496    0.0346\n",
       "497    0.0520\n",
       "498    0.0358\n",
       "499    0.0331\n",
       "Name: 1098, Length: 500, dtype: float64"
      ]
     },
     "metadata": {},
     "output_type": "display_data"
    },
    {
     "data": {
      "text/plain": [
       "0         NaN\n",
       "1         NaN\n",
       "2      0.0400\n",
       "3         NaN\n",
       "4      0.0862\n",
       "        ...  \n",
       "495    0.1096\n",
       "496    0.0757\n",
       "497    0.1115\n",
       "498    0.0854\n",
       "499    0.0800\n",
       "Name: 1099, Length: 500, dtype: float64"
      ]
     },
     "metadata": {},
     "output_type": "display_data"
    },
    {
     "data": {
      "text/plain": [
       "0      0.0000\n",
       "1      0.0000\n",
       "2      0.0000\n",
       "3      0.0088\n",
       "4      0.0000\n",
       "        ...  \n",
       "495    0.0562\n",
       "496    0.0472\n",
       "497    0.0491\n",
       "498    0.0563\n",
       "499    0.0554\n",
       "Name: 1100, Length: 500, dtype: float64"
      ]
     },
     "metadata": {},
     "output_type": "display_data"
    },
    {
     "data": {
      "text/plain": [
       "0      0.0123\n",
       "1      0.0290\n",
       "2      0.0534\n",
       "3      0.0000\n",
       "4      0.0145\n",
       "        ...  \n",
       "495    0.0385\n",
       "496    0.0391\n",
       "497    0.0462\n",
       "498    0.0432\n",
       "499    0.0440\n",
       "Name: 1101, Length: 500, dtype: float64"
      ]
     },
     "metadata": {},
     "output_type": "display_data"
    },
    {
     "data": {
      "text/plain": [
       "0      0.0000\n",
       "1      0.0000\n",
       "2      0.0000\n",
       "3      0.0000\n",
       "4      0.0000\n",
       "        ...  \n",
       "495    0.0281\n",
       "496    0.0273\n",
       "497    0.0278\n",
       "498    0.0271\n",
       "499    0.0249\n",
       "Name: 1102, Length: 500, dtype: float64"
      ]
     },
     "metadata": {},
     "output_type": "display_data"
    },
    {
     "data": {
      "text/plain": [
       "0      0.0000\n",
       "1      0.0000\n",
       "2      0.0078\n",
       "3      0.0000\n",
       "4      0.0000\n",
       "        ...  \n",
       "495    0.0339\n",
       "496    0.0226\n",
       "497    0.0256\n",
       "498    0.0276\n",
       "499    0.0287\n",
       "Name: 1103, Length: 500, dtype: float64"
      ]
     },
     "metadata": {},
     "output_type": "display_data"
    },
    {
     "data": {
      "text/plain": [
       "0      0.0000\n",
       "1      0.0000\n",
       "2      0.0469\n",
       "3         NaN\n",
       "4      0.0494\n",
       "        ...  \n",
       "495    0.0469\n",
       "496    0.0405\n",
       "497    0.0525\n",
       "498    0.0436\n",
       "499    0.0423\n",
       "Name: 1104, Length: 500, dtype: float64"
      ]
     },
     "metadata": {},
     "output_type": "display_data"
    },
    {
     "data": {
      "text/plain": [
       "0      0.1333\n",
       "1      0.2222\n",
       "2      0.3469\n",
       "3      0.3469\n",
       "4      0.3469\n",
       "        ...  \n",
       "495    0.2471\n",
       "496    0.2489\n",
       "497    0.3608\n",
       "498    0.3210\n",
       "499    0.2194\n",
       "Name: 1105, Length: 500, dtype: float64"
      ]
     },
     "metadata": {},
     "output_type": "display_data"
    },
    {
     "data": {
      "text/plain": [
       "0      0.0000\n",
       "1      0.0000\n",
       "2      0.0000\n",
       "3      0.0000\n",
       "4      0.0000\n",
       "        ...  \n",
       "495    0.0204\n",
       "496    0.0243\n",
       "497    0.0273\n",
       "498    0.0228\n",
       "499    0.0243\n",
       "Name: 1106, Length: 500, dtype: float64"
      ]
     },
     "metadata": {},
     "output_type": "display_data"
    },
    {
     "data": {
      "text/plain": [
       "0      0.1757\n",
       "1      0.1367\n",
       "2      0.1797\n",
       "3      0.0769\n",
       "4      0.1733\n",
       "        ...  \n",
       "495    0.1731\n",
       "496    0.1607\n",
       "497    0.1731\n",
       "498    0.1478\n",
       "499    0.1129\n",
       "Name: 1107, Length: 500, dtype: float64"
      ]
     },
     "metadata": {},
     "output_type": "display_data"
    },
    {
     "data": {
      "text/plain": [
       "0      0.0083\n",
       "1      0.0000\n",
       "2      0.0068\n",
       "3      0.0000\n",
       "4      0.0000\n",
       "        ...  \n",
       "495    0.0321\n",
       "496    0.0289\n",
       "497    0.0303\n",
       "498    0.0272\n",
       "499    0.0231\n",
       "Name: 1108, Length: 500, dtype: float64"
      ]
     },
     "metadata": {},
     "output_type": "display_data"
    },
    {
     "data": {
      "text/plain": [
       "0         NaN\n",
       "1         NaN\n",
       "2         NaN\n",
       "3      0.8529\n",
       "4      0.9091\n",
       "        ...  \n",
       "495    0.4124\n",
       "496    0.4136\n",
       "497    0.6202\n",
       "498    0.4181\n",
       "499    0.1612\n",
       "Name: 1109, Length: 500, dtype: float64"
      ]
     },
     "metadata": {},
     "output_type": "display_data"
    },
    {
     "data": {
      "text/plain": [
       "0      0.0043\n",
       "1      0.0041\n",
       "2      0.0000\n",
       "3      0.0000\n",
       "4      0.0093\n",
       "        ...  \n",
       "495    0.0308\n",
       "496    0.0353\n",
       "497    0.0451\n",
       "498    0.0315\n",
       "499    0.0308\n",
       "Name: 1110, Length: 500, dtype: float64"
      ]
     },
     "metadata": {},
     "output_type": "display_data"
    },
    {
     "data": {
      "text/plain": [
       "0      0.0707\n",
       "1      0.1474\n",
       "2      0.1724\n",
       "3      0.1927\n",
       "4      0.0543\n",
       "        ...  \n",
       "495    0.1542\n",
       "496    0.2756\n",
       "497    0.1437\n",
       "498    0.1766\n",
       "499    0.0712\n",
       "Name: 1111, Length: 500, dtype: float64"
      ]
     },
     "metadata": {},
     "output_type": "display_data"
    },
    {
     "data": {
      "text/plain": [
       "0      0.0137\n",
       "1      0.0288\n",
       "2      0.0000\n",
       "3      0.0328\n",
       "4      0.0000\n",
       "        ...  \n",
       "495    0.3215\n",
       "496    0.1688\n",
       "497    0.4006\n",
       "498    0.2337\n",
       "499    0.2358\n",
       "Name: 1112, Length: 500, dtype: float64"
      ]
     },
     "metadata": {},
     "output_type": "display_data"
    },
    {
     "data": {
      "text/plain": [
       "0         NaN\n",
       "1      0.1613\n",
       "2      0.1111\n",
       "3      0.2000\n",
       "4      0.2000\n",
       "        ...  \n",
       "495    0.5694\n",
       "496    0.6233\n",
       "497    0.6903\n",
       "498    0.3777\n",
       "499    0.6939\n",
       "Name: 1113, Length: 500, dtype: float64"
      ]
     },
     "metadata": {},
     "output_type": "display_data"
    },
    {
     "data": {
      "text/plain": [
       "0      0.7368\n",
       "1      0.6000\n",
       "2      0.7368\n",
       "3      0.8125\n",
       "4         NaN\n",
       "        ...  \n",
       "495    0.4949\n",
       "496    0.5673\n",
       "497    0.6594\n",
       "498    0.4230\n",
       "499    0.4835\n",
       "Name: 1114, Length: 500, dtype: float64"
      ]
     },
     "metadata": {},
     "output_type": "display_data"
    },
    {
     "data": {
      "text/plain": [
       "0      0.0034\n",
       "1      0.0000\n",
       "2      0.0000\n",
       "3      0.0135\n",
       "4      0.0000\n",
       "        ...  \n",
       "495    0.0194\n",
       "496    0.0252\n",
       "497    0.0271\n",
       "498    0.0249\n",
       "499    0.0192\n",
       "Name: 1115, Length: 500, dtype: float64"
      ]
     },
     "metadata": {},
     "output_type": "display_data"
    },
    {
     "data": {
      "text/plain": [
       "0      0.0000\n",
       "1      0.0000\n",
       "2      0.0076\n",
       "3      0.0000\n",
       "4      0.0000\n",
       "        ...  \n",
       "495    0.0284\n",
       "496    0.0335\n",
       "497    0.0307\n",
       "498    0.0306\n",
       "499    0.0317\n",
       "Name: 1116, Length: 500, dtype: float64"
      ]
     },
     "metadata": {},
     "output_type": "display_data"
    },
    {
     "data": {
      "text/plain": [
       "0      0.0000\n",
       "1      0.0089\n",
       "2      0.0000\n",
       "3      0.0000\n",
       "4      0.0000\n",
       "        ...  \n",
       "495    0.0369\n",
       "496    0.0365\n",
       "497    0.0250\n",
       "498    0.0475\n",
       "499    0.0250\n",
       "Name: 1117, Length: 500, dtype: float64"
      ]
     },
     "metadata": {},
     "output_type": "display_data"
    },
    {
     "data": {
      "text/plain": [
       "0         NaN\n",
       "1         NaN\n",
       "2         NaN\n",
       "3         NaN\n",
       "4         NaN\n",
       "        ...  \n",
       "495    0.3060\n",
       "496    0.2800\n",
       "497    0.3076\n",
       "498    0.1352\n",
       "499    0.2751\n",
       "Name: 1118, Length: 500, dtype: float64"
      ]
     },
     "metadata": {},
     "output_type": "display_data"
    },
    {
     "data": {
      "text/plain": [
       "0      0.3058\n",
       "1      0.3780\n",
       "2      0.3091\n",
       "3      0.5350\n",
       "4      0.4000\n",
       "        ...  \n",
       "495    0.2888\n",
       "496    0.5106\n",
       "497    0.3636\n",
       "498    0.5636\n",
       "499    0.2327\n",
       "Name: 1119, Length: 500, dtype: float64"
      ]
     },
     "metadata": {},
     "output_type": "display_data"
    },
    {
     "data": {
      "text/plain": [
       "0      0.6176\n",
       "1      0.6966\n",
       "2      0.6852\n",
       "3         NaN\n",
       "4      0.6964\n",
       "        ...  \n",
       "495       NaN\n",
       "496       NaN\n",
       "497       NaN\n",
       "498       NaN\n",
       "499       NaN\n",
       "Name: 1120, Length: 500, dtype: float64"
      ]
     },
     "metadata": {},
     "output_type": "display_data"
    },
    {
     "data": {
      "text/plain": [
       "0      0.0266\n",
       "1      0.0252\n",
       "2      0.0233\n",
       "3      0.0229\n",
       "4      0.0229\n",
       "        ...  \n",
       "495    0.1115\n",
       "496    0.0614\n",
       "497    0.1134\n",
       "498    0.0580\n",
       "499    0.0619\n",
       "Name: 1121, Length: 500, dtype: float64"
      ]
     },
     "metadata": {},
     "output_type": "display_data"
    },
    {
     "data": {
      "text/plain": [
       "0      0.0812\n",
       "1      0.1550\n",
       "2      0.0370\n",
       "3      0.1105\n",
       "4      0.1224\n",
       "        ...  \n",
       "495    0.1508\n",
       "496    0.1661\n",
       "497    0.1662\n",
       "498    0.2030\n",
       "499    0.1868\n",
       "Name: 1122, Length: 500, dtype: float64"
      ]
     },
     "metadata": {},
     "output_type": "display_data"
    },
    {
     "data": {
      "text/plain": [
       "0      0.0938\n",
       "1      0.0714\n",
       "2         NaN\n",
       "3         NaN\n",
       "4      0.0303\n",
       "        ...  \n",
       "495    0.0378\n",
       "496    0.0464\n",
       "497    0.0595\n",
       "498    0.0714\n",
       "499    0.0414\n",
       "Name: 1123, Length: 500, dtype: float64"
      ]
     },
     "metadata": {},
     "output_type": "display_data"
    },
    {
     "data": {
      "text/plain": [
       "0     NaN\n",
       "1     NaN\n",
       "2     NaN\n",
       "3     NaN\n",
       "4     NaN\n",
       "       ..\n",
       "495   NaN\n",
       "496   NaN\n",
       "497   NaN\n",
       "498   NaN\n",
       "499   NaN\n",
       "Name: 1124, Length: 500, dtype: float64"
      ]
     },
     "metadata": {},
     "output_type": "display_data"
    },
    {
     "data": {
      "text/plain": [
       "0      0.1714\n",
       "1      0.1209\n",
       "2      0.1209\n",
       "3      0.1473\n",
       "4      0.0408\n",
       "        ...  \n",
       "495    0.0777\n",
       "496    0.0790\n",
       "497    0.0784\n",
       "498    0.0988\n",
       "499    0.0934\n",
       "Name: 1125, Length: 500, dtype: float64"
      ]
     },
     "metadata": {},
     "output_type": "display_data"
    },
    {
     "data": {
      "text/plain": [
       "0      0.0000\n",
       "1      0.0000\n",
       "2      0.0076\n",
       "3      0.0076\n",
       "4      0.0076\n",
       "        ...  \n",
       "495    0.0655\n",
       "496    0.0910\n",
       "497    0.3093\n",
       "498    0.0672\n",
       "499    0.0663\n",
       "Name: 1126, Length: 500, dtype: float64"
      ]
     },
     "metadata": {},
     "output_type": "display_data"
    },
    {
     "data": {
      "text/plain": [
       "0      0.0000\n",
       "1      0.0000\n",
       "2      0.0000\n",
       "3      0.0000\n",
       "4      0.0000\n",
       "        ...  \n",
       "495    0.0419\n",
       "496    0.0392\n",
       "497    0.0410\n",
       "498    0.0393\n",
       "499    0.0489\n",
       "Name: 1127, Length: 500, dtype: float64"
      ]
     },
     "metadata": {},
     "output_type": "display_data"
    },
    {
     "data": {
      "text/plain": [
       "0      0.0933\n",
       "1      0.1366\n",
       "2      0.1529\n",
       "3      0.2458\n",
       "4      0.0641\n",
       "        ...  \n",
       "495    0.0757\n",
       "496    0.0719\n",
       "497    0.0700\n",
       "498    0.0522\n",
       "499    0.0759\n",
       "Name: 1128, Length: 500, dtype: float64"
      ]
     },
     "metadata": {},
     "output_type": "display_data"
    },
    {
     "data": {
      "text/plain": [
       "0      0.0000\n",
       "1      0.0000\n",
       "2      0.0000\n",
       "3      0.0000\n",
       "4      0.0000\n",
       "        ...  \n",
       "495    0.0387\n",
       "496    0.0293\n",
       "497    0.0313\n",
       "498    0.0485\n",
       "499    0.0338\n",
       "Name: 1129, Length: 500, dtype: float64"
      ]
     },
     "metadata": {},
     "output_type": "display_data"
    },
    {
     "data": {
      "text/plain": [
       "0      0.6698\n",
       "1      0.6118\n",
       "2      0.6667\n",
       "3      0.6250\n",
       "4      0.7656\n",
       "        ...  \n",
       "495    0.7782\n",
       "496    0.7260\n",
       "497    0.2496\n",
       "498    0.6352\n",
       "499    0.7310\n",
       "Name: 1130, Length: 500, dtype: float64"
      ]
     },
     "metadata": {},
     "output_type": "display_data"
    },
    {
     "data": {
      "text/plain": [
       "0      0.0353\n",
       "1      0.0222\n",
       "2      0.0321\n",
       "3      0.0096\n",
       "4      0.0089\n",
       "        ...  \n",
       "495    0.2088\n",
       "496    0.1207\n",
       "497    0.2292\n",
       "498    0.0696\n",
       "499    0.2048\n",
       "Name: 1131, Length: 500, dtype: float64"
      ]
     },
     "metadata": {},
     "output_type": "display_data"
    },
    {
     "data": {
      "text/plain": [
       "0      0.0000\n",
       "1      0.0000\n",
       "2      0.0000\n",
       "3      0.0000\n",
       "4      0.0000\n",
       "        ...  \n",
       "495    0.0297\n",
       "496    0.0267\n",
       "497    0.0297\n",
       "498    0.0296\n",
       "499    0.0370\n",
       "Name: 1132, Length: 500, dtype: float64"
      ]
     },
     "metadata": {},
     "output_type": "display_data"
    },
    {
     "data": {
      "text/plain": [
       "0      0.0000\n",
       "1      0.0000\n",
       "2      0.0000\n",
       "3         NaN\n",
       "4      0.0000\n",
       "        ...  \n",
       "495    0.0233\n",
       "496    0.0269\n",
       "497    0.0216\n",
       "498    0.0261\n",
       "499    0.0219\n",
       "Name: 1133, Length: 500, dtype: float64"
      ]
     },
     "metadata": {},
     "output_type": "display_data"
    },
    {
     "data": {
      "text/plain": [
       "0      0.0000\n",
       "1      0.0000\n",
       "2      0.0000\n",
       "3      0.0000\n",
       "4      0.0000\n",
       "        ...  \n",
       "495    0.0261\n",
       "496    0.0337\n",
       "497    0.0321\n",
       "498    0.0258\n",
       "499    0.0296\n",
       "Name: 1134, Length: 500, dtype: float64"
      ]
     },
     "metadata": {},
     "output_type": "display_data"
    },
    {
     "data": {
      "text/plain": [
       "0      0.0000\n",
       "1      0.0000\n",
       "2      0.0000\n",
       "3      0.0000\n",
       "4      0.0000\n",
       "        ...  \n",
       "495    0.0673\n",
       "496    0.0501\n",
       "497    0.0634\n",
       "498    0.0546\n",
       "499    0.0725\n",
       "Name: 1135, Length: 500, dtype: float64"
      ]
     },
     "metadata": {},
     "output_type": "display_data"
    },
    {
     "data": {
      "text/plain": [
       "0      0.9643\n",
       "1      0.9517\n",
       "2      0.9610\n",
       "3      0.9339\n",
       "4      0.9643\n",
       "        ...  \n",
       "495    0.9004\n",
       "496    0.9109\n",
       "497    0.8688\n",
       "498    0.8552\n",
       "499    0.8615\n",
       "Name: 1136, Length: 500, dtype: float64"
      ]
     },
     "metadata": {},
     "output_type": "display_data"
    },
    {
     "data": {
      "text/plain": [
       "0      0.3061\n",
       "1      0.4706\n",
       "2      0.4459\n",
       "3      0.4421\n",
       "4      0.2370\n",
       "        ...  \n",
       "495    0.5653\n",
       "496    0.7226\n",
       "497    0.7887\n",
       "498    0.7778\n",
       "499    0.7197\n",
       "Name: 1137, Length: 500, dtype: float64"
      ]
     },
     "metadata": {},
     "output_type": "display_data"
    },
    {
     "data": {
      "text/plain": [
       "0      0.8529\n",
       "1      0.8056\n",
       "2      0.7170\n",
       "3      0.7551\n",
       "4      0.7799\n",
       "        ...  \n",
       "495    0.4753\n",
       "496    0.7725\n",
       "497    0.7197\n",
       "498    0.7267\n",
       "499    0.6074\n",
       "Name: 1138, Length: 500, dtype: float64"
      ]
     },
     "metadata": {},
     "output_type": "display_data"
    },
    {
     "data": {
      "text/plain": [
       "0      0.0694\n",
       "1      0.0238\n",
       "2      0.0093\n",
       "3      0.0000\n",
       "4      0.0079\n",
       "        ...  \n",
       "495    0.3441\n",
       "496    0.0387\n",
       "497    0.0386\n",
       "498    0.0358\n",
       "499    0.0408\n",
       "Name: 1139, Length: 500, dtype: float64"
      ]
     },
     "metadata": {},
     "output_type": "display_data"
    },
    {
     "data": {
      "text/plain": [
       "0      0.7149\n",
       "1      0.6911\n",
       "2      0.7942\n",
       "3      0.7862\n",
       "4      0.7751\n",
       "        ...  \n",
       "495    0.6658\n",
       "496    0.5380\n",
       "497    0.8263\n",
       "498    0.6728\n",
       "499    0.6309\n",
       "Name: 1140, Length: 500, dtype: float64"
      ]
     },
     "metadata": {},
     "output_type": "display_data"
    },
    {
     "data": {
      "text/plain": [
       "0      0.6533\n",
       "1      0.5870\n",
       "2      0.7857\n",
       "3      0.6533\n",
       "4      0.6122\n",
       "        ...  \n",
       "495    0.5867\n",
       "496    0.4045\n",
       "497    0.4930\n",
       "498    0.6350\n",
       "499    0.5089\n",
       "Name: 1141, Length: 500, dtype: float64"
      ]
     },
     "metadata": {},
     "output_type": "display_data"
    },
    {
     "data": {
      "text/plain": [
       "0      0.8734\n",
       "1      0.8478\n",
       "2      0.8242\n",
       "3      0.7455\n",
       "4      0.7455\n",
       "        ...  \n",
       "495    0.5681\n",
       "496    0.7140\n",
       "497    0.7179\n",
       "498    0.7390\n",
       "499    0.4413\n",
       "Name: 1142, Length: 500, dtype: float64"
      ]
     },
     "metadata": {},
     "output_type": "display_data"
    },
    {
     "data": {
      "text/plain": [
       "0      0.0054\n",
       "1      0.0000\n",
       "2      0.0056\n",
       "3      0.0000\n",
       "4      0.0000\n",
       "        ...  \n",
       "495    0.0456\n",
       "496    0.0373\n",
       "497    0.0868\n",
       "498    0.0369\n",
       "499    0.0355\n",
       "Name: 1143, Length: 500, dtype: float64"
      ]
     },
     "metadata": {},
     "output_type": "display_data"
    },
    {
     "data": {
      "text/plain": [
       "0      0.0000\n",
       "1      0.0000\n",
       "2      0.0000\n",
       "3      0.0000\n",
       "4      0.0000\n",
       "        ...  \n",
       "495    0.0310\n",
       "496    0.0297\n",
       "497    0.0376\n",
       "498    0.0307\n",
       "499    0.0308\n",
       "Name: 1144, Length: 500, dtype: float64"
      ]
     },
     "metadata": {},
     "output_type": "display_data"
    },
    {
     "data": {
      "text/plain": [
       "0         NaN\n",
       "1      0.0000\n",
       "2         NaN\n",
       "3      0.0000\n",
       "4      0.0000\n",
       "        ...  \n",
       "495    0.0247\n",
       "496    0.0257\n",
       "497    0.0214\n",
       "498    0.0277\n",
       "499    0.0216\n",
       "Name: 1145, Length: 500, dtype: float64"
      ]
     },
     "metadata": {},
     "output_type": "display_data"
    },
    {
     "data": {
      "text/plain": [
       "0      0.0000\n",
       "1      0.0000\n",
       "2      0.0000\n",
       "3      0.0000\n",
       "4      0.0076\n",
       "        ...  \n",
       "495    0.0248\n",
       "496    0.0244\n",
       "497    0.0185\n",
       "498    0.0257\n",
       "499    0.0232\n",
       "Name: 1146, Length: 500, dtype: float64"
      ]
     },
     "metadata": {},
     "output_type": "display_data"
    },
    {
     "data": {
      "text/plain": [
       "0         NaN\n",
       "1         NaN\n",
       "2         NaN\n",
       "3         NaN\n",
       "4         NaN\n",
       "        ...  \n",
       "495    0.7439\n",
       "496    0.8276\n",
       "497    0.6192\n",
       "498    0.8115\n",
       "499    0.6603\n",
       "Name: 1147, Length: 500, dtype: float64"
      ]
     },
     "metadata": {},
     "output_type": "display_data"
    },
    {
     "data": {
      "text/plain": [
       "0      0.0000\n",
       "1      0.0000\n",
       "2      0.0000\n",
       "3      0.0000\n",
       "4      0.0000\n",
       "        ...  \n",
       "495    0.0366\n",
       "496    0.0374\n",
       "497    0.0302\n",
       "498    0.0261\n",
       "499    0.0471\n",
       "Name: 1148, Length: 500, dtype: float64"
      ]
     },
     "metadata": {},
     "output_type": "display_data"
    },
    {
     "data": {
      "text/plain": [
       "0      0.0000\n",
       "1      0.0000\n",
       "2      0.0000\n",
       "3      0.0112\n",
       "4      0.0000\n",
       "        ...  \n",
       "495    0.0265\n",
       "496    0.0275\n",
       "497    0.0250\n",
       "498    0.0319\n",
       "499    0.0325\n",
       "Name: 1149, Length: 500, dtype: float64"
      ]
     },
     "metadata": {},
     "output_type": "display_data"
    },
    {
     "data": {
      "text/plain": [
       "0      0.0000\n",
       "1      0.0000\n",
       "2      0.0000\n",
       "3      0.0000\n",
       "4      0.0000\n",
       "        ...  \n",
       "495    0.0302\n",
       "496    0.0400\n",
       "497    0.0378\n",
       "498    0.0335\n",
       "499    0.0422\n",
       "Name: 1150, Length: 500, dtype: float64"
      ]
     },
     "metadata": {},
     "output_type": "display_data"
    },
    {
     "data": {
      "text/plain": [
       "0      0.8372\n",
       "1      0.8857\n",
       "2         NaN\n",
       "3         NaN\n",
       "4      0.8372\n",
       "        ...  \n",
       "495    0.7330\n",
       "496    0.6132\n",
       "497    0.7373\n",
       "498    0.7316\n",
       "499    0.6519\n",
       "Name: 1151, Length: 500, dtype: float64"
      ]
     },
     "metadata": {},
     "output_type": "display_data"
    },
    {
     "data": {
      "text/plain": [
       "0      0.0370\n",
       "1      0.0296\n",
       "2      0.0137\n",
       "3      0.0312\n",
       "4      0.0000\n",
       "        ...  \n",
       "495    0.0800\n",
       "496    0.0756\n",
       "497    0.1002\n",
       "498    0.0722\n",
       "499    0.1224\n",
       "Name: 1152, Length: 500, dtype: float64"
      ]
     },
     "metadata": {},
     "output_type": "display_data"
    },
    {
     "data": {
      "text/plain": [
       "0      0.0000\n",
       "1      0.0238\n",
       "2      0.0125\n",
       "3      0.0438\n",
       "4      0.0327\n",
       "        ...  \n",
       "495    0.0825\n",
       "496    0.0739\n",
       "497    0.0970\n",
       "498    0.0926\n",
       "499    0.0764\n",
       "Name: 1153, Length: 500, dtype: float64"
      ]
     },
     "metadata": {},
     "output_type": "display_data"
    },
    {
     "data": {
      "text/plain": [
       "0      0.0000\n",
       "1      0.0000\n",
       "2      0.0000\n",
       "3      0.0000\n",
       "4      0.0000\n",
       "        ...  \n",
       "495    0.0367\n",
       "496    0.0246\n",
       "497    0.0245\n",
       "498    0.0399\n",
       "499    0.0330\n",
       "Name: 1154, Length: 500, dtype: float64"
      ]
     },
     "metadata": {},
     "output_type": "display_data"
    },
    {
     "data": {
      "text/plain": [
       "0      0.0\n",
       "1      0.0\n",
       "2      0.0\n",
       "3      0.0\n",
       "4      0.0\n",
       "      ... \n",
       "495    NaN\n",
       "496    NaN\n",
       "497    NaN\n",
       "498    NaN\n",
       "499    NaN\n",
       "Name: 1155, Length: 500, dtype: float64"
      ]
     },
     "metadata": {},
     "output_type": "display_data"
    },
    {
     "data": {
      "text/plain": [
       "0      0.1413\n",
       "1      0.0748\n",
       "2      0.0928\n",
       "3      0.0732\n",
       "4      0.0877\n",
       "        ...  \n",
       "495    0.2039\n",
       "496    0.3886\n",
       "497    0.1900\n",
       "498    0.6016\n",
       "499    0.4382\n",
       "Name: 1156, Length: 500, dtype: float64"
      ]
     },
     "metadata": {},
     "output_type": "display_data"
    },
    {
     "data": {
      "text/plain": [
       "0      0.0094\n",
       "1      0.0000\n",
       "2      0.0167\n",
       "3      0.0135\n",
       "4      0.0000\n",
       "        ...  \n",
       "495    0.1172\n",
       "496    0.1071\n",
       "497    0.1462\n",
       "498    0.1081\n",
       "499    0.1145\n",
       "Name: 1157, Length: 500, dtype: float64"
      ]
     },
     "metadata": {},
     "output_type": "display_data"
    },
    {
     "data": {
      "text/plain": [
       "0         NaN\n",
       "1         NaN\n",
       "2         NaN\n",
       "3         NaN\n",
       "4         NaN\n",
       "        ...  \n",
       "495    0.5586\n",
       "496    0.4020\n",
       "497    0.2455\n",
       "498    0.3860\n",
       "499    0.3137\n",
       "Name: 1158, Length: 500, dtype: float64"
      ]
     },
     "metadata": {},
     "output_type": "display_data"
    },
    {
     "data": {
      "text/plain": [
       "0         NaN\n",
       "1      0.0000\n",
       "2      0.0000\n",
       "3      0.0081\n",
       "4      0.0000\n",
       "        ...  \n",
       "495    0.0977\n",
       "496    0.0494\n",
       "497    0.0907\n",
       "498    0.0857\n",
       "499    0.0898\n",
       "Name: 1159, Length: 500, dtype: float64"
      ]
     },
     "metadata": {},
     "output_type": "display_data"
    },
    {
     "data": {
      "text/plain": [
       "0      0.0000\n",
       "1      0.0000\n",
       "2      0.0000\n",
       "3      0.0000\n",
       "4      0.0000\n",
       "        ...  \n",
       "495    0.0265\n",
       "496    0.0339\n",
       "497    0.0357\n",
       "498    0.0236\n",
       "499    0.0353\n",
       "Name: 1160, Length: 500, dtype: float64"
      ]
     },
     "metadata": {},
     "output_type": "display_data"
    },
    {
     "data": {
      "text/plain": [
       "0      0.0000\n",
       "1      0.0000\n",
       "2      0.0000\n",
       "3      0.0000\n",
       "4      0.0000\n",
       "        ...  \n",
       "495    0.0296\n",
       "496    0.0291\n",
       "497    0.0228\n",
       "498    0.0268\n",
       "499    0.0228\n",
       "Name: 1161, Length: 500, dtype: float64"
      ]
     },
     "metadata": {},
     "output_type": "display_data"
    },
    {
     "data": {
      "text/plain": [
       "0      0.0000\n",
       "1      0.0060\n",
       "2      0.0000\n",
       "3      0.0000\n",
       "4      0.0000\n",
       "        ...  \n",
       "495    0.0267\n",
       "496    0.0260\n",
       "497    0.0226\n",
       "498    0.0259\n",
       "499    0.0249\n",
       "Name: 1162, Length: 500, dtype: float64"
      ]
     },
     "metadata": {},
     "output_type": "display_data"
    },
    {
     "data": {
      "text/plain": [
       "0      0.0299\n",
       "1      0.0046\n",
       "2      0.0199\n",
       "3      0.0093\n",
       "4      0.0179\n",
       "        ...  \n",
       "495    0.0700\n",
       "496    0.0609\n",
       "497    0.1673\n",
       "498    0.0507\n",
       "499    0.0990\n",
       "Name: 1163, Length: 500, dtype: float64"
      ]
     },
     "metadata": {},
     "output_type": "display_data"
    },
    {
     "data": {
      "text/plain": [
       "0      0.0000\n",
       "1      0.0048\n",
       "2      0.0048\n",
       "3      0.0000\n",
       "4      0.0000\n",
       "        ...  \n",
       "495    0.0224\n",
       "496    0.0189\n",
       "497    0.0226\n",
       "498    0.0198\n",
       "499    0.0239\n",
       "Name: 1164, Length: 500, dtype: float64"
      ]
     },
     "metadata": {},
     "output_type": "display_data"
    },
    {
     "data": {
      "text/plain": [
       "0      0.2688\n",
       "1      0.3415\n",
       "2      0.2647\n",
       "3      0.2316\n",
       "4      0.4881\n",
       "        ...  \n",
       "495    0.1864\n",
       "496    0.2861\n",
       "497    0.1432\n",
       "498    0.2751\n",
       "499    0.2098\n",
       "Name: 1165, Length: 500, dtype: float64"
      ]
     },
     "metadata": {},
     "output_type": "display_data"
    },
    {
     "data": {
      "text/plain": [
       "0      0.0071\n",
       "1      0.0224\n",
       "2      0.0071\n",
       "3      0.0000\n",
       "4      0.0224\n",
       "        ...  \n",
       "495    0.0432\n",
       "496    0.0669\n",
       "497    0.0461\n",
       "498    0.0403\n",
       "499    0.0374\n",
       "Name: 1166, Length: 500, dtype: float64"
      ]
     },
     "metadata": {},
     "output_type": "display_data"
    },
    {
     "data": {
      "text/plain": [
       "0      0.0000\n",
       "1      0.0000\n",
       "2      0.0000\n",
       "3      0.0000\n",
       "4      0.0000\n",
       "        ...  \n",
       "495    0.0324\n",
       "496    0.0446\n",
       "497    0.0535\n",
       "498    0.0487\n",
       "499    0.0394\n",
       "Name: 1167, Length: 500, dtype: float64"
      ]
     },
     "metadata": {},
     "output_type": "display_data"
    },
    {
     "data": {
      "text/plain": [
       "0      0.6000\n",
       "1      0.6164\n",
       "2      0.6164\n",
       "3      0.6792\n",
       "4         NaN\n",
       "        ...  \n",
       "495       NaN\n",
       "496       NaN\n",
       "497       NaN\n",
       "498       NaN\n",
       "499       NaN\n",
       "Name: 1168, Length: 500, dtype: float64"
      ]
     },
     "metadata": {},
     "output_type": "display_data"
    },
    {
     "data": {
      "text/plain": [
       "0      0.0588\n",
       "1         NaN\n",
       "2      0.0303\n",
       "3         NaN\n",
       "4      0.0556\n",
       "        ...  \n",
       "495    0.0650\n",
       "496    0.0537\n",
       "497    0.0539\n",
       "498    0.0643\n",
       "499    0.0450\n",
       "Name: 1169, Length: 500, dtype: float64"
      ]
     },
     "metadata": {},
     "output_type": "display_data"
    },
    {
     "data": {
      "text/plain": [
       "0      0.0194\n",
       "1      0.0265\n",
       "2      0.0000\n",
       "3      0.0460\n",
       "4      0.0151\n",
       "        ...  \n",
       "495    0.0589\n",
       "496    0.1821\n",
       "497    0.5888\n",
       "498    0.1730\n",
       "499    0.0760\n",
       "Name: 1170, Length: 500, dtype: float64"
      ]
     },
     "metadata": {},
     "output_type": "display_data"
    },
    {
     "data": {
      "text/plain": [
       "0      0.0524\n",
       "1      0.0567\n",
       "2      0.0350\n",
       "3      0.0479\n",
       "4      0.0350\n",
       "        ...  \n",
       "495    0.1296\n",
       "496    0.1870\n",
       "497    0.1686\n",
       "498    0.1296\n",
       "499    0.2670\n",
       "Name: 1171, Length: 500, dtype: float64"
      ]
     },
     "metadata": {},
     "output_type": "display_data"
    },
    {
     "data": {
      "text/plain": [
       "0      0.8158\n",
       "1      0.7816\n",
       "2         NaN\n",
       "3      0.8723\n",
       "4      0.8875\n",
       "        ...  \n",
       "495    0.6246\n",
       "496    0.5811\n",
       "497    0.7102\n",
       "498    0.6194\n",
       "499    0.7604\n",
       "Name: 1172, Length: 500, dtype: float64"
      ]
     },
     "metadata": {},
     "output_type": "display_data"
    },
    {
     "data": {
      "text/plain": [
       "0      0.0058\n",
       "1      0.0000\n",
       "2      0.0000\n",
       "3      0.0064\n",
       "4      0.0058\n",
       "        ...  \n",
       "495    0.0534\n",
       "496    0.0508\n",
       "497    0.0509\n",
       "498    0.0537\n",
       "499    0.0541\n",
       "Name: 1173, Length: 500, dtype: float64"
      ]
     },
     "metadata": {},
     "output_type": "display_data"
    },
    {
     "data": {
      "text/plain": [
       "0      0.0000\n",
       "1      0.0000\n",
       "2      0.0000\n",
       "3      0.0000\n",
       "4         NaN\n",
       "        ...  \n",
       "495    0.0295\n",
       "496    0.0311\n",
       "497    0.0472\n",
       "498    0.0416\n",
       "499    0.0428\n",
       "Name: 1174, Length: 500, dtype: float64"
      ]
     },
     "metadata": {},
     "output_type": "display_data"
    },
    {
     "data": {
      "text/plain": [
       "0      0.1743\n",
       "1      0.0711\n",
       "2      0.1071\n",
       "3      0.1095\n",
       "4      0.1429\n",
       "        ...  \n",
       "495    0.5283\n",
       "496    0.4161\n",
       "497    0.5500\n",
       "498    0.3424\n",
       "499    0.4748\n",
       "Name: 1175, Length: 500, dtype: float64"
      ]
     },
     "metadata": {},
     "output_type": "display_data"
    },
    {
     "data": {
      "text/plain": [
       "0      0.0326\n",
       "1      0.0388\n",
       "2      0.0342\n",
       "3      0.0481\n",
       "4      0.0362\n",
       "        ...  \n",
       "495    0.0268\n",
       "496    0.0220\n",
       "497    0.0249\n",
       "498    0.0227\n",
       "499    0.0255\n",
       "Name: 1176, Length: 500, dtype: float64"
      ]
     },
     "metadata": {},
     "output_type": "display_data"
    },
    {
     "data": {
      "text/plain": [
       "0      0.6940\n",
       "1      0.8615\n",
       "2      0.8615\n",
       "3      0.4375\n",
       "4      0.6667\n",
       "        ...  \n",
       "495    0.4761\n",
       "496    0.3156\n",
       "497    0.5232\n",
       "498    0.5431\n",
       "499    0.4483\n",
       "Name: 1177, Length: 500, dtype: float64"
      ]
     },
     "metadata": {},
     "output_type": "display_data"
    },
    {
     "data": {
      "text/plain": [
       "0         NaN\n",
       "1      0.7838\n",
       "2         NaN\n",
       "3      0.9048\n",
       "4         NaN\n",
       "        ...  \n",
       "495    0.9261\n",
       "496    0.9071\n",
       "497    0.7501\n",
       "498    0.8765\n",
       "499    0.8423\n",
       "Name: 1178, Length: 500, dtype: float64"
      ]
     },
     "metadata": {},
     "output_type": "display_data"
    },
    {
     "data": {
      "text/plain": [
       "0      0.6667\n",
       "1      0.5684\n",
       "2      0.5684\n",
       "3      0.6777\n",
       "4      0.6053\n",
       "        ...  \n",
       "495    0.6303\n",
       "496    0.3490\n",
       "497    0.3771\n",
       "498    0.5176\n",
       "499    0.7100\n",
       "Name: 1179, Length: 500, dtype: float64"
      ]
     },
     "metadata": {},
     "output_type": "display_data"
    },
    {
     "data": {
      "text/plain": [
       "0      0.8193\n",
       "1      0.6463\n",
       "2      0.6463\n",
       "3      0.6196\n",
       "4      0.7431\n",
       "        ...  \n",
       "495    0.7598\n",
       "496    0.7070\n",
       "497    0.6611\n",
       "498    0.5201\n",
       "499    0.6248\n",
       "Name: 1180, Length: 500, dtype: float64"
      ]
     },
     "metadata": {},
     "output_type": "display_data"
    },
    {
     "data": {
      "text/plain": [
       "0      0.1165\n",
       "1      0.2169\n",
       "2      0.1043\n",
       "3      0.0409\n",
       "4      0.0929\n",
       "        ...  \n",
       "495    0.2553\n",
       "496    0.5030\n",
       "497    0.5788\n",
       "498    0.4796\n",
       "499    0.5482\n",
       "Name: 1181, Length: 500, dtype: float64"
      ]
     },
     "metadata": {},
     "output_type": "display_data"
    },
    {
     "data": {
      "text/plain": [
       "0      0.0000\n",
       "1      0.0000\n",
       "2      0.0000\n",
       "3      0.0000\n",
       "4      0.0000\n",
       "        ...  \n",
       "495    0.0531\n",
       "496    0.0477\n",
       "497    0.0532\n",
       "498    0.0497\n",
       "499    0.0528\n",
       "Name: 1182, Length: 500, dtype: float64"
      ]
     },
     "metadata": {},
     "output_type": "display_data"
    },
    {
     "data": {
      "text/plain": [
       "0         NaN\n",
       "1         NaN\n",
       "2         NaN\n",
       "3         NaN\n",
       "4         NaN\n",
       "        ...  \n",
       "495    0.0917\n",
       "496    0.4290\n",
       "497    0.2925\n",
       "498    0.2539\n",
       "499    0.3060\n",
       "Name: 1183, Length: 500, dtype: float64"
      ]
     },
     "metadata": {},
     "output_type": "display_data"
    },
    {
     "data": {
      "text/plain": [
       "0         NaN\n",
       "1      0.0110\n",
       "2         NaN\n",
       "3         NaN\n",
       "4         NaN\n",
       "        ...  \n",
       "495    0.0327\n",
       "496    0.0367\n",
       "497    0.0423\n",
       "498    0.0438\n",
       "499    0.0366\n",
       "Name: 1184, Length: 500, dtype: float64"
      ]
     },
     "metadata": {},
     "output_type": "display_data"
    },
    {
     "data": {
      "text/plain": [
       "0         NaN\n",
       "1         NaN\n",
       "2      0.0435\n",
       "3         NaN\n",
       "4         NaN\n",
       "        ...  \n",
       "495    0.3201\n",
       "496    0.3201\n",
       "497    0.1968\n",
       "498    0.0931\n",
       "499    0.2346\n",
       "Name: 1185, Length: 500, dtype: float64"
      ]
     },
     "metadata": {},
     "output_type": "display_data"
    },
    {
     "data": {
      "text/plain": [
       "0      0.0000\n",
       "1      0.0000\n",
       "2      0.0000\n",
       "3      0.0048\n",
       "4      0.0000\n",
       "        ...  \n",
       "495    0.0459\n",
       "496    0.0415\n",
       "497    0.0410\n",
       "498    0.0305\n",
       "499    0.0375\n",
       "Name: 1186, Length: 500, dtype: float64"
      ]
     },
     "metadata": {},
     "output_type": "display_data"
    },
    {
     "data": {
      "text/plain": [
       "0         NaN\n",
       "1      0.4688\n",
       "2         NaN\n",
       "3         NaN\n",
       "4         NaN\n",
       "        ...  \n",
       "495    0.6396\n",
       "496    0.5478\n",
       "497    0.4566\n",
       "498    0.5501\n",
       "499    0.3659\n",
       "Name: 1187, Length: 500, dtype: float64"
      ]
     },
     "metadata": {},
     "output_type": "display_data"
    },
    {
     "data": {
      "text/plain": [
       "0      0.2117\n",
       "1      0.1388\n",
       "2      0.1318\n",
       "3      0.1792\n",
       "4      0.0833\n",
       "        ...  \n",
       "495    0.2834\n",
       "496    0.2312\n",
       "497    0.3707\n",
       "498    0.2941\n",
       "499    0.3205\n",
       "Name: 1188, Length: 500, dtype: float64"
      ]
     },
     "metadata": {},
     "output_type": "display_data"
    },
    {
     "data": {
      "text/plain": [
       "0      0.0609\n",
       "1      0.0135\n",
       "2      0.0135\n",
       "3      0.0170\n",
       "4      0.0609\n",
       "        ...  \n",
       "495    0.4537\n",
       "496    0.0263\n",
       "497    0.0383\n",
       "498    0.0195\n",
       "499    0.0254\n",
       "Name: 1189, Length: 500, dtype: float64"
      ]
     },
     "metadata": {},
     "output_type": "display_data"
    },
    {
     "data": {
      "text/plain": [
       "0      0.8000\n",
       "1      0.8485\n",
       "2      0.9444\n",
       "3      0.9444\n",
       "4         NaN\n",
       "        ...  \n",
       "495    0.8055\n",
       "496    0.6561\n",
       "497    0.7554\n",
       "498    0.7378\n",
       "499    0.7277\n",
       "Name: 1190, Length: 500, dtype: float64"
      ]
     },
     "metadata": {},
     "output_type": "display_data"
    },
    {
     "data": {
      "text/plain": [
       "0      0.0682\n",
       "1      0.0476\n",
       "2         NaN\n",
       "3         NaN\n",
       "4         NaN\n",
       "        ...  \n",
       "495    0.1219\n",
       "496    0.1122\n",
       "497    0.1748\n",
       "498    0.2887\n",
       "499    0.1338\n",
       "Name: 1191, Length: 500, dtype: float64"
      ]
     },
     "metadata": {},
     "output_type": "display_data"
    },
    {
     "data": {
      "text/plain": [
       "0      0.0532\n",
       "1      0.0375\n",
       "2      0.0485\n",
       "3      0.0341\n",
       "4      0.0621\n",
       "        ...  \n",
       "495    0.1099\n",
       "496    0.4859\n",
       "497    0.1213\n",
       "498    0.2908\n",
       "499    0.1205\n",
       "Name: 1192, Length: 500, dtype: float64"
      ]
     },
     "metadata": {},
     "output_type": "display_data"
    },
    {
     "data": {
      "text/plain": [
       "0      0.0962\n",
       "1         NaN\n",
       "2         NaN\n",
       "3      0.0000\n",
       "4      0.1395\n",
       "        ...  \n",
       "495    0.1105\n",
       "496    0.2347\n",
       "497    0.0738\n",
       "498    0.1050\n",
       "499    0.0952\n",
       "Name: 1193, Length: 500, dtype: float64"
      ]
     },
     "metadata": {},
     "output_type": "display_data"
    },
    {
     "data": {
      "text/plain": [
       "0      0.0000\n",
       "1      0.0000\n",
       "2      0.0000\n",
       "3      0.0000\n",
       "4      0.0000\n",
       "        ...  \n",
       "495    0.0189\n",
       "496    0.0240\n",
       "497    0.0228\n",
       "498    0.0235\n",
       "499    0.0257\n",
       "Name: 1194, Length: 500, dtype: float64"
      ]
     },
     "metadata": {},
     "output_type": "display_data"
    },
    {
     "data": {
      "text/plain": [
       "0         NaN\n",
       "1         NaN\n",
       "2      0.3846\n",
       "3         NaN\n",
       "4      0.5000\n",
       "        ...  \n",
       "495    0.1806\n",
       "496    0.1639\n",
       "497    0.3198\n",
       "498    0.2062\n",
       "499    0.2029\n",
       "Name: 1195, Length: 500, dtype: float64"
      ]
     },
     "metadata": {},
     "output_type": "display_data"
    },
    {
     "data": {
      "text/plain": [
       "0      0.0000\n",
       "1      0.0000\n",
       "2      0.0000\n",
       "3         NaN\n",
       "4         NaN\n",
       "        ...  \n",
       "495    0.0219\n",
       "496    0.0254\n",
       "497    0.0171\n",
       "498    0.0209\n",
       "499    0.0230\n",
       "Name: 1196, Length: 500, dtype: float64"
      ]
     },
     "metadata": {},
     "output_type": "display_data"
    },
    {
     "data": {
      "text/plain": [
       "0      0.0000\n",
       "1      0.0000\n",
       "2      0.0000\n",
       "3      0.0041\n",
       "4      0.0055\n",
       "        ...  \n",
       "495    0.0767\n",
       "496    0.0751\n",
       "497    0.0730\n",
       "498    0.0759\n",
       "499    0.0795\n",
       "Name: 1197, Length: 500, dtype: float64"
      ]
     },
     "metadata": {},
     "output_type": "display_data"
    },
    {
     "data": {
      "text/plain": [
       "0      0.6226\n",
       "1      0.4706\n",
       "2      0.6627\n",
       "3         NaN\n",
       "4      0.6471\n",
       "        ...  \n",
       "495    0.7945\n",
       "496    0.8547\n",
       "497    0.7102\n",
       "498    0.8595\n",
       "499    0.7421\n",
       "Name: 1198, Length: 500, dtype: float64"
      ]
     },
     "metadata": {},
     "output_type": "display_data"
    },
    {
     "data": {
      "text/plain": [
       "0      0.0000\n",
       "1      0.0111\n",
       "2         NaN\n",
       "3      0.0000\n",
       "4      0.0000\n",
       "        ...  \n",
       "495    0.0262\n",
       "496    0.0738\n",
       "497    0.0333\n",
       "498    0.0389\n",
       "499    0.0260\n",
       "Name: 1199, Length: 500, dtype: float64"
      ]
     },
     "metadata": {},
     "output_type": "display_data"
    },
    {
     "data": {
      "text/plain": [
       "0      0.0000\n",
       "1      0.0194\n",
       "2      0.0000\n",
       "3      0.0111\n",
       "4      0.0000\n",
       "        ...  \n",
       "495    0.0506\n",
       "496    0.0300\n",
       "497    0.0435\n",
       "498    0.0299\n",
       "499    0.0381\n",
       "Name: 1200, Length: 500, dtype: float64"
      ]
     },
     "metadata": {},
     "output_type": "display_data"
    },
    {
     "data": {
      "text/plain": [
       "0         NaN\n",
       "1         NaN\n",
       "2         NaN\n",
       "3         NaN\n",
       "4         NaN\n",
       "        ...  \n",
       "495    0.1030\n",
       "496    0.0878\n",
       "497    0.0652\n",
       "498    0.2890\n",
       "499    0.0571\n",
       "Name: 1201, Length: 500, dtype: float64"
      ]
     },
     "metadata": {},
     "output_type": "display_data"
    },
    {
     "data": {
      "text/plain": [
       "0      0.0000\n",
       "1      0.0000\n",
       "2      0.0000\n",
       "3      0.0000\n",
       "4      0.0026\n",
       "        ...  \n",
       "495    0.0278\n",
       "496    0.0362\n",
       "497    0.0432\n",
       "498    0.0322\n",
       "499    0.0388\n",
       "Name: 1202, Length: 500, dtype: float64"
      ]
     },
     "metadata": {},
     "output_type": "display_data"
    },
    {
     "data": {
      "text/plain": [
       "0         NaN\n",
       "1      0.0000\n",
       "2      0.0000\n",
       "3         NaN\n",
       "4         NaN\n",
       "        ...  \n",
       "495    0.0390\n",
       "496    0.0320\n",
       "497    0.0332\n",
       "498    0.0323\n",
       "499    0.0323\n",
       "Name: 1203, Length: 500, dtype: float64"
      ]
     },
     "metadata": {},
     "output_type": "display_data"
    },
    {
     "data": {
      "text/plain": [
       "0      0.0395\n",
       "1      0.1667\n",
       "2      0.0545\n",
       "3      0.0476\n",
       "4      0.0725\n",
       "        ...  \n",
       "495    0.1096\n",
       "496    0.1158\n",
       "497    0.0978\n",
       "498    0.1241\n",
       "499    0.0618\n",
       "Name: 1204, Length: 500, dtype: float64"
      ]
     },
     "metadata": {},
     "output_type": "display_data"
    },
    {
     "data": {
      "text/plain": [
       "0      0.5000\n",
       "1         NaN\n",
       "2         NaN\n",
       "3         NaN\n",
       "4         NaN\n",
       "        ...  \n",
       "495    0.2181\n",
       "496    0.3152\n",
       "497    0.3980\n",
       "498    0.1798\n",
       "499    0.4154\n",
       "Name: 1205, Length: 500, dtype: float64"
      ]
     },
     "metadata": {},
     "output_type": "display_data"
    },
    {
     "data": {
      "text/plain": [
       "0      0.9298\n",
       "1      0.9274\n",
       "2      0.9558\n",
       "3      0.9810\n",
       "4      0.8967\n",
       "        ...  \n",
       "495    0.5223\n",
       "496    0.5752\n",
       "497    0.4739\n",
       "498    0.4002\n",
       "499    0.5520\n",
       "Name: 1206, Length: 500, dtype: float64"
      ]
     },
     "metadata": {},
     "output_type": "display_data"
    },
    {
     "data": {
      "text/plain": [
       "0      0.0000\n",
       "1      0.0000\n",
       "2      0.0088\n",
       "3      0.0000\n",
       "4      0.0000\n",
       "        ...  \n",
       "495    0.0534\n",
       "496    0.0512\n",
       "497    0.0217\n",
       "498    0.0400\n",
       "499    0.0420\n",
       "Name: 1207, Length: 500, dtype: float64"
      ]
     },
     "metadata": {},
     "output_type": "display_data"
    },
    {
     "data": {
      "text/plain": [
       "0      0.0000\n",
       "1      0.0000\n",
       "2      0.0000\n",
       "3      0.0000\n",
       "4      0.0000\n",
       "        ...  \n",
       "495    0.0299\n",
       "496    0.0270\n",
       "497    0.0243\n",
       "498    0.0246\n",
       "499    0.0223\n",
       "Name: 1208, Length: 500, dtype: float64"
      ]
     },
     "metadata": {},
     "output_type": "display_data"
    },
    {
     "data": {
      "text/plain": [
       "0      0.7778\n",
       "1      0.7368\n",
       "2      0.8939\n",
       "3      0.7568\n",
       "4      0.7429\n",
       "        ...  \n",
       "495    0.8119\n",
       "496    0.7968\n",
       "497    0.7659\n",
       "498    0.7206\n",
       "499    0.7243\n",
       "Name: 1209, Length: 500, dtype: float64"
      ]
     },
     "metadata": {},
     "output_type": "display_data"
    },
    {
     "data": {
      "text/plain": [
       "0      0.0000\n",
       "1      0.0000\n",
       "2      0.0000\n",
       "3      0.0000\n",
       "4      0.0000\n",
       "        ...  \n",
       "495    0.0496\n",
       "496    0.0532\n",
       "497    0.0388\n",
       "498    0.0428\n",
       "499    0.0391\n",
       "Name: 1210, Length: 500, dtype: float64"
      ]
     },
     "metadata": {},
     "output_type": "display_data"
    },
    {
     "data": {
      "text/plain": [
       "0      0.8595\n",
       "1      0.8302\n",
       "2      0.8246\n",
       "3      0.9531\n",
       "4      0.8642\n",
       "        ...  \n",
       "495    0.7503\n",
       "496    0.7027\n",
       "497    0.7812\n",
       "498    0.6785\n",
       "499    0.2858\n",
       "Name: 1211, Length: 500, dtype: float64"
      ]
     },
     "metadata": {},
     "output_type": "display_data"
    },
    {
     "data": {
      "text/plain": [
       "0      0.0306\n",
       "1      0.0279\n",
       "2      0.0460\n",
       "3      0.0170\n",
       "4      0.0081\n",
       "        ...  \n",
       "495    0.0289\n",
       "496    0.0272\n",
       "497    0.0287\n",
       "498    0.0308\n",
       "499    0.0332\n",
       "Name: 1212, Length: 500, dtype: float64"
      ]
     },
     "metadata": {},
     "output_type": "display_data"
    },
    {
     "data": {
      "text/plain": [
       "0      0.1058\n",
       "1      0.1220\n",
       "2      0.1082\n",
       "3      0.0703\n",
       "4      0.1200\n",
       "        ...  \n",
       "495    0.1229\n",
       "496    0.1363\n",
       "497    0.1181\n",
       "498    0.1593\n",
       "499    0.1338\n",
       "Name: 1213, Length: 500, dtype: float64"
      ]
     },
     "metadata": {},
     "output_type": "display_data"
    },
    {
     "data": {
      "text/plain": [
       "0      0.0030\n",
       "1      0.0000\n",
       "2      0.0000\n",
       "3      0.0000\n",
       "4      0.0000\n",
       "        ...  \n",
       "495    0.0315\n",
       "496    0.0293\n",
       "497    0.0315\n",
       "498    0.0363\n",
       "499    0.0332\n",
       "Name: 1214, Length: 500, dtype: float64"
      ]
     },
     "metadata": {},
     "output_type": "display_data"
    },
    {
     "data": {
      "text/plain": [
       "0      0.9433\n",
       "1      0.9508\n",
       "2      0.9561\n",
       "3      0.9635\n",
       "4      0.9714\n",
       "        ...  \n",
       "495    0.8719\n",
       "496    0.8226\n",
       "497    0.7932\n",
       "498    0.7726\n",
       "499    0.8659\n",
       "Name: 1215, Length: 500, dtype: float64"
      ]
     },
     "metadata": {},
     "output_type": "display_data"
    },
    {
     "data": {
      "text/plain": [
       "0      0.0067\n",
       "1      0.0409\n",
       "2      0.0000\n",
       "3      0.0142\n",
       "4      0.0088\n",
       "        ...  \n",
       "495    0.0564\n",
       "496    0.0514\n",
       "497    0.0420\n",
       "498    0.0596\n",
       "499    0.0412\n",
       "Name: 1216, Length: 500, dtype: float64"
      ]
     },
     "metadata": {},
     "output_type": "display_data"
    },
    {
     "data": {
      "text/plain": [
       "0      0.8214\n",
       "1      0.7917\n",
       "2      0.6331\n",
       "3      0.7551\n",
       "4      0.7551\n",
       "        ...  \n",
       "495    0.7871\n",
       "496    0.8558\n",
       "497    0.7724\n",
       "498    0.8515\n",
       "499    0.7540\n",
       "Name: 1217, Length: 500, dtype: float64"
      ]
     },
     "metadata": {},
     "output_type": "display_data"
    },
    {
     "data": {
      "text/plain": [
       "0      0.7931\n",
       "1      0.9053\n",
       "2      0.7966\n",
       "3      0.8810\n",
       "4      0.7966\n",
       "        ...  \n",
       "495    0.7168\n",
       "496    0.8271\n",
       "497    0.8361\n",
       "498    0.8159\n",
       "499    0.7737\n",
       "Name: 1218, Length: 500, dtype: float64"
      ]
     },
     "metadata": {},
     "output_type": "display_data"
    },
    {
     "data": {
      "text/plain": [
       "0      0.0000\n",
       "1      0.0000\n",
       "2      0.0000\n",
       "3      0.0000\n",
       "4      0.0000\n",
       "        ...  \n",
       "495    0.0409\n",
       "496    0.0635\n",
       "497    0.1205\n",
       "498    0.0564\n",
       "499    0.0350\n",
       "Name: 1219, Length: 500, dtype: float64"
      ]
     },
     "metadata": {},
     "output_type": "display_data"
    },
    {
     "data": {
      "text/plain": [
       "0      0.9470\n",
       "1      1.0000\n",
       "2      0.9216\n",
       "3      0.9840\n",
       "4      0.9560\n",
       "        ...  \n",
       "495    0.8700\n",
       "496    0.8205\n",
       "497    0.8033\n",
       "498    0.9056\n",
       "499    0.8859\n",
       "Name: 1220, Length: 500, dtype: float64"
      ]
     },
     "metadata": {},
     "output_type": "display_data"
    },
    {
     "data": {
      "text/plain": [
       "0      0.9576\n",
       "1      0.9595\n",
       "2      0.9747\n",
       "3      0.9353\n",
       "4      0.9412\n",
       "        ...  \n",
       "495    0.7608\n",
       "496    0.7445\n",
       "497    0.7484\n",
       "498    0.7550\n",
       "499    0.7536\n",
       "Name: 1221, Length: 500, dtype: float64"
      ]
     },
     "metadata": {},
     "output_type": "display_data"
    },
    {
     "data": {
      "text/plain": [
       "0      0.0196\n",
       "1      0.0000\n",
       "2         NaN\n",
       "3      0.0606\n",
       "4      0.0000\n",
       "        ...  \n",
       "495    0.0277\n",
       "496    0.0205\n",
       "497    0.0235\n",
       "498    0.0210\n",
       "499    0.0202\n",
       "Name: 1222, Length: 500, dtype: float64"
      ]
     },
     "metadata": {},
     "output_type": "display_data"
    },
    {
     "data": {
      "text/plain": [
       "0      0.0000\n",
       "1      0.0000\n",
       "2         NaN\n",
       "3         NaN\n",
       "4      0.0000\n",
       "        ...  \n",
       "495    0.0440\n",
       "496    0.0393\n",
       "497    0.0544\n",
       "498    0.0511\n",
       "499    0.0656\n",
       "Name: 1223, Length: 500, dtype: float64"
      ]
     },
     "metadata": {},
     "output_type": "display_data"
    },
    {
     "data": {
      "text/plain": [
       "0      0.0000\n",
       "1      0.0000\n",
       "2      0.0000\n",
       "3      0.0050\n",
       "4      0.0000\n",
       "        ...  \n",
       "495    0.0238\n",
       "496    0.0275\n",
       "497    0.0268\n",
       "498    0.0242\n",
       "499    0.0345\n",
       "Name: 1224, Length: 500, dtype: float64"
      ]
     },
     "metadata": {},
     "output_type": "display_data"
    },
    {
     "data": {
      "text/plain": [
       "0      0.8750\n",
       "1      0.9322\n",
       "2      0.7902\n",
       "3      0.8333\n",
       "4      0.7902\n",
       "        ...  \n",
       "495    0.7445\n",
       "496    0.7704\n",
       "497    0.8535\n",
       "498    0.7678\n",
       "499    0.7536\n",
       "Name: 1225, Length: 500, dtype: float64"
      ]
     },
     "metadata": {},
     "output_type": "display_data"
    },
    {
     "data": {
      "text/plain": [
       "0      0.0339\n",
       "1      0.0333\n",
       "2      0.0506\n",
       "3      0.0426\n",
       "4      0.1351\n",
       "        ...  \n",
       "495    0.1021\n",
       "496    0.2264\n",
       "497    0.1094\n",
       "498    0.0500\n",
       "499    0.1094\n",
       "Name: 1226, Length: 500, dtype: float64"
      ]
     },
     "metadata": {},
     "output_type": "display_data"
    },
    {
     "data": {
      "text/plain": [
       "0      0.7527\n",
       "1      0.8182\n",
       "2      0.8565\n",
       "3      0.8107\n",
       "4      0.8531\n",
       "        ...  \n",
       "495    0.7206\n",
       "496    0.6895\n",
       "497    0.6547\n",
       "498    0.6534\n",
       "499    0.6858\n",
       "Name: 1227, Length: 500, dtype: float64"
      ]
     },
     "metadata": {},
     "output_type": "display_data"
    },
    {
     "data": {
      "text/plain": [
       "0      0.7711\n",
       "1      0.7273\n",
       "2      0.8803\n",
       "3      0.8701\n",
       "4      0.7500\n",
       "        ...  \n",
       "495    0.6199\n",
       "496    0.7628\n",
       "497    0.8375\n",
       "498    0.5951\n",
       "499    0.5993\n",
       "Name: 1228, Length: 500, dtype: float64"
      ]
     },
     "metadata": {},
     "output_type": "display_data"
    },
    {
     "data": {
      "text/plain": [
       "0      0.0000\n",
       "1      0.0087\n",
       "2      0.0000\n",
       "3      0.0000\n",
       "4      0.0000\n",
       "        ...  \n",
       "495    0.0324\n",
       "496    0.0379\n",
       "497    0.0401\n",
       "498    0.0375\n",
       "499    0.0369\n",
       "Name: 1229, Length: 500, dtype: float64"
      ]
     },
     "metadata": {},
     "output_type": "display_data"
    },
    {
     "data": {
      "text/plain": [
       "0      0.0000\n",
       "1      0.0137\n",
       "2      0.0000\n",
       "3      0.0090\n",
       "4      0.0000\n",
       "        ...  \n",
       "495    0.0537\n",
       "496    0.0464\n",
       "497    0.0463\n",
       "498    0.0589\n",
       "499    0.0518\n",
       "Name: 1230, Length: 500, dtype: float64"
      ]
     },
     "metadata": {},
     "output_type": "display_data"
    },
    {
     "data": {
      "text/plain": [
       "0      0.5000\n",
       "1      0.6786\n",
       "2         NaN\n",
       "3         NaN\n",
       "4         NaN\n",
       "        ...  \n",
       "495    0.4141\n",
       "496    0.5606\n",
       "497    0.4817\n",
       "498    0.5782\n",
       "499    0.4595\n",
       "Name: 1231, Length: 500, dtype: float64"
      ]
     },
     "metadata": {},
     "output_type": "display_data"
    },
    {
     "data": {
      "text/plain": [
       "0      1.0000\n",
       "1      1.0000\n",
       "2      0.7778\n",
       "3         NaN\n",
       "4      0.9487\n",
       "        ...  \n",
       "495    0.8909\n",
       "496    0.8551\n",
       "497    0.9028\n",
       "498    0.6575\n",
       "499    0.6785\n",
       "Name: 1232, Length: 500, dtype: float64"
      ]
     },
     "metadata": {},
     "output_type": "display_data"
    },
    {
     "data": {
      "text/plain": [
       "0      0.2771\n",
       "1      0.3317\n",
       "2      0.4019\n",
       "3      0.3566\n",
       "4      0.2514\n",
       "        ...  \n",
       "495    0.2749\n",
       "496    0.2626\n",
       "497    0.2626\n",
       "498    0.2772\n",
       "499    0.2646\n",
       "Name: 1233, Length: 500, dtype: float64"
      ]
     },
     "metadata": {},
     "output_type": "display_data"
    },
    {
     "data": {
      "text/plain": [
       "0         NaN\n",
       "1         NaN\n",
       "2         NaN\n",
       "3         NaN\n",
       "4      0.0278\n",
       "        ...  \n",
       "495    0.0700\n",
       "496    0.0609\n",
       "497    0.1660\n",
       "498    0.2297\n",
       "499    0.0305\n",
       "Name: 1234, Length: 500, dtype: float64"
      ]
     },
     "metadata": {},
     "output_type": "display_data"
    },
    {
     "data": {
      "text/plain": [
       "0      0.0000\n",
       "1      0.0100\n",
       "2      0.0656\n",
       "3      0.0270\n",
       "4      0.0000\n",
       "        ...  \n",
       "495    0.0151\n",
       "496    0.0202\n",
       "497    0.0211\n",
       "498    0.0186\n",
       "499    0.0225\n",
       "Name: 1235, Length: 500, dtype: float64"
      ]
     },
     "metadata": {},
     "output_type": "display_data"
    },
    {
     "data": {
      "text/plain": [
       "0      0.0673\n",
       "1      0.0333\n",
       "2      0.0356\n",
       "3      0.0000\n",
       "4      0.0649\n",
       "        ...  \n",
       "495    0.0611\n",
       "496    0.0528\n",
       "497    0.0756\n",
       "498    0.0704\n",
       "499    0.0847\n",
       "Name: 1236, Length: 500, dtype: float64"
      ]
     },
     "metadata": {},
     "output_type": "display_data"
    },
    {
     "data": {
      "text/plain": [
       "0      0.1154\n",
       "1      0.1471\n",
       "2      0.0357\n",
       "3      0.1951\n",
       "4      0.1429\n",
       "        ...  \n",
       "495    0.3598\n",
       "496    0.5342\n",
       "497    0.4430\n",
       "498    0.3858\n",
       "499    0.5029\n",
       "Name: 1237, Length: 500, dtype: float64"
      ]
     },
     "metadata": {},
     "output_type": "display_data"
    },
    {
     "data": {
      "text/plain": [
       "0      0.0000\n",
       "1      0.0000\n",
       "2      0.0000\n",
       "3      0.0000\n",
       "4      0.0000\n",
       "        ...  \n",
       "495    0.0553\n",
       "496    0.0447\n",
       "497    0.0546\n",
       "498    0.0467\n",
       "499    0.0455\n",
       "Name: 1238, Length: 500, dtype: float64"
      ]
     },
     "metadata": {},
     "output_type": "display_data"
    },
    {
     "data": {
      "text/plain": [
       "0         NaN\n",
       "1         NaN\n",
       "2      0.0638\n",
       "3      0.0638\n",
       "4      0.1905\n",
       "        ...  \n",
       "495    0.2349\n",
       "496    0.1727\n",
       "497       NaN\n",
       "498    0.1327\n",
       "499    0.1586\n",
       "Name: 1239, Length: 500, dtype: float64"
      ]
     },
     "metadata": {},
     "output_type": "display_data"
    },
    {
     "data": {
      "text/plain": [
       "0      0.8116\n",
       "1      0.6939\n",
       "2      0.7477\n",
       "3      0.6000\n",
       "4      0.6939\n",
       "        ...  \n",
       "495    0.3183\n",
       "496    0.3342\n",
       "497    0.4678\n",
       "498    0.3882\n",
       "499    0.4775\n",
       "Name: 1240, Length: 500, dtype: float64"
      ]
     },
     "metadata": {},
     "output_type": "display_data"
    },
    {
     "data": {
      "text/plain": [
       "0      0.0577\n",
       "1         NaN\n",
       "2      0.0536\n",
       "3      0.0122\n",
       "4      0.0843\n",
       "        ...  \n",
       "495    0.2440\n",
       "496    0.1748\n",
       "497    0.2695\n",
       "498    0.3329\n",
       "499    0.1497\n",
       "Name: 1241, Length: 500, dtype: float64"
      ]
     },
     "metadata": {},
     "output_type": "display_data"
    },
    {
     "data": {
      "text/plain": [
       "0      0.9615\n",
       "1      0.9662\n",
       "2      0.9615\n",
       "3      0.9783\n",
       "4      0.9667\n",
       "        ...  \n",
       "495    0.9171\n",
       "496    0.8914\n",
       "497    0.8718\n",
       "498    0.8623\n",
       "499    0.9080\n",
       "Name: 1242, Length: 500, dtype: float64"
      ]
     },
     "metadata": {},
     "output_type": "display_data"
    },
    {
     "data": {
      "text/plain": [
       "0      0.0638\n",
       "1      0.0157\n",
       "2      0.0496\n",
       "3      0.0495\n",
       "4      0.1418\n",
       "        ...  \n",
       "495    0.3696\n",
       "496    0.2896\n",
       "497    0.5067\n",
       "498    0.2899\n",
       "499    0.7115\n",
       "Name: 1243, Length: 500, dtype: float64"
      ]
     },
     "metadata": {},
     "output_type": "display_data"
    },
    {
     "data": {
      "text/plain": [
       "0      0.0000\n",
       "1      0.0000\n",
       "2      0.0000\n",
       "3      0.0000\n",
       "4      0.0050\n",
       "        ...  \n",
       "495    0.0209\n",
       "496    0.0130\n",
       "497    0.0209\n",
       "498    0.0156\n",
       "499    0.0170\n",
       "Name: 1244, Length: 500, dtype: float64"
      ]
     },
     "metadata": {},
     "output_type": "display_data"
    },
    {
     "data": {
      "text/plain": [
       "0      0.0000\n",
       "1      0.0000\n",
       "2      0.0000\n",
       "3      0.0000\n",
       "4      0.0000\n",
       "        ...  \n",
       "495    0.0208\n",
       "496    0.0193\n",
       "497    0.0321\n",
       "498    0.0167\n",
       "499    0.0349\n",
       "Name: 1245, Length: 500, dtype: float64"
      ]
     },
     "metadata": {},
     "output_type": "display_data"
    },
    {
     "data": {
      "text/plain": [
       "0      0.2154\n",
       "1      0.3545\n",
       "2      0.4490\n",
       "3      0.5000\n",
       "4         NaN\n",
       "        ...  \n",
       "495    0.8668\n",
       "496    0.8612\n",
       "497    0.8168\n",
       "498    0.6250\n",
       "499    0.7194\n",
       "Name: 1246, Length: 500, dtype: float64"
      ]
     },
     "metadata": {},
     "output_type": "display_data"
    },
    {
     "data": {
      "text/plain": [
       "0      0.1111\n",
       "1      0.0594\n",
       "2      0.1081\n",
       "3      0.2439\n",
       "4      0.0635\n",
       "        ...  \n",
       "495    0.3581\n",
       "496    0.8272\n",
       "497    0.7465\n",
       "498    0.5102\n",
       "499    0.7345\n",
       "Name: 1247, Length: 500, dtype: float64"
      ]
     },
     "metadata": {},
     "output_type": "display_data"
    },
    {
     "data": {
      "text/plain": [
       "0      0.0000\n",
       "1      0.0613\n",
       "2      0.0325\n",
       "3      0.0086\n",
       "4      0.0613\n",
       "        ...  \n",
       "495    0.0396\n",
       "496    0.0389\n",
       "497    0.0362\n",
       "498    0.0356\n",
       "499    0.0459\n",
       "Name: 1248, Length: 500, dtype: float64"
      ]
     },
     "metadata": {},
     "output_type": "display_data"
    },
    {
     "data": {
      "text/plain": [
       "0      0.9336\n",
       "1      0.9318\n",
       "2      0.9318\n",
       "3      0.9432\n",
       "4      0.9561\n",
       "        ...  \n",
       "495    0.9344\n",
       "496    0.9118\n",
       "497    0.7920\n",
       "498    0.9368\n",
       "499    0.9561\n",
       "Name: 1249, Length: 500, dtype: float64"
      ]
     },
     "metadata": {},
     "output_type": "display_data"
    },
    {
     "data": {
      "text/plain": [
       "0         NaN\n",
       "1         NaN\n",
       "2         NaN\n",
       "3      0.0000\n",
       "4         NaN\n",
       "        ...  \n",
       "495    0.0288\n",
       "496    0.0345\n",
       "497    0.0320\n",
       "498    0.0277\n",
       "499    0.0362\n",
       "Name: 1250, Length: 500, dtype: float64"
      ]
     },
     "metadata": {},
     "output_type": "display_data"
    },
    {
     "data": {
      "text/plain": [
       "0      0.0105\n",
       "1      0.0124\n",
       "2      0.0199\n",
       "3      0.0179\n",
       "4      0.0345\n",
       "        ...  \n",
       "495    0.0269\n",
       "496    0.0359\n",
       "497    0.0328\n",
       "498    0.0314\n",
       "499    0.0386\n",
       "Name: 1251, Length: 500, dtype: float64"
      ]
     },
     "metadata": {},
     "output_type": "display_data"
    },
    {
     "data": {
      "text/plain": [
       "0      0.0000\n",
       "1         NaN\n",
       "2      0.0000\n",
       "3         NaN\n",
       "4      0.0000\n",
       "        ...  \n",
       "495    0.0387\n",
       "496    0.0447\n",
       "497    0.0391\n",
       "498    0.0415\n",
       "499    0.0485\n",
       "Name: 1252, Length: 500, dtype: float64"
      ]
     },
     "metadata": {},
     "output_type": "display_data"
    },
    {
     "data": {
      "text/plain": [
       "0      0.0000\n",
       "1      0.0000\n",
       "2      0.0000\n",
       "3      0.0000\n",
       "4      0.0000\n",
       "        ...  \n",
       "495    0.0535\n",
       "496    0.0422\n",
       "497    0.0319\n",
       "498    0.0344\n",
       "499    0.0433\n",
       "Name: 1253, Length: 500, dtype: float64"
      ]
     },
     "metadata": {},
     "output_type": "display_data"
    },
    {
     "data": {
      "text/plain": [
       "0      0.0000\n",
       "1      0.0000\n",
       "2      0.0000\n",
       "3      0.0000\n",
       "4      0.0000\n",
       "        ...  \n",
       "495    0.0339\n",
       "496    0.0323\n",
       "497    0.0249\n",
       "498    0.0306\n",
       "499    0.0320\n",
       "Name: 1254, Length: 500, dtype: float64"
      ]
     },
     "metadata": {},
     "output_type": "display_data"
    },
    {
     "data": {
      "text/plain": [
       "0      0.0000\n",
       "1      0.0000\n",
       "2      0.0000\n",
       "3      0.0046\n",
       "4      0.0000\n",
       "        ...  \n",
       "495    0.0461\n",
       "496    0.0403\n",
       "497    0.0466\n",
       "498    0.0477\n",
       "499    0.0391\n",
       "Name: 1255, Length: 500, dtype: float64"
      ]
     },
     "metadata": {},
     "output_type": "display_data"
    },
    {
     "data": {
      "text/plain": [
       "0         NaN\n",
       "1         NaN\n",
       "2         NaN\n",
       "3         NaN\n",
       "4      0.9143\n",
       "        ...  \n",
       "495    0.5482\n",
       "496    0.5004\n",
       "497    0.5437\n",
       "498    0.4897\n",
       "499    0.4106\n",
       "Name: 1256, Length: 500, dtype: float64"
      ]
     },
     "metadata": {},
     "output_type": "display_data"
    },
    {
     "data": {
      "text/plain": [
       "0      0.0747\n",
       "1      0.0425\n",
       "2      0.0495\n",
       "3      0.0471\n",
       "4      0.0780\n",
       "        ...  \n",
       "495    0.1280\n",
       "496    0.1290\n",
       "497    0.1350\n",
       "498    0.2116\n",
       "499    0.1142\n",
       "Name: 1257, Length: 500, dtype: float64"
      ]
     },
     "metadata": {},
     "output_type": "display_data"
    },
    {
     "data": {
      "text/plain": [
       "0      0.0455\n",
       "1      0.0422\n",
       "2      0.0376\n",
       "3      0.0122\n",
       "4      0.1392\n",
       "        ...  \n",
       "495    0.0286\n",
       "496    0.0636\n",
       "497    0.1779\n",
       "498    0.0315\n",
       "499    0.0264\n",
       "Name: 1258, Length: 500, dtype: float64"
      ]
     },
     "metadata": {},
     "output_type": "display_data"
    },
    {
     "data": {
      "text/plain": [
       "0      0.0000\n",
       "1      0.0333\n",
       "2      0.0303\n",
       "3      0.0000\n",
       "4      0.0000\n",
       "        ...  \n",
       "495    0.0493\n",
       "496    0.0551\n",
       "497    0.0367\n",
       "498    0.0668\n",
       "499    0.0630\n",
       "Name: 1259, Length: 500, dtype: float64"
      ]
     },
     "metadata": {},
     "output_type": "display_data"
    },
    {
     "data": {
      "text/plain": [
       "0      0.9432\n",
       "1      0.9506\n",
       "2      0.9536\n",
       "3      0.9536\n",
       "4      0.9272\n",
       "        ...  \n",
       "495    0.9177\n",
       "496    0.8669\n",
       "497    0.7516\n",
       "498    0.8360\n",
       "499    0.7885\n",
       "Name: 1260, Length: 500, dtype: float64"
      ]
     },
     "metadata": {},
     "output_type": "display_data"
    },
    {
     "data": {
      "text/plain": [
       "0      0.0000\n",
       "1      0.0217\n",
       "2      0.0000\n",
       "3      0.1064\n",
       "4      0.0000\n",
       "        ...  \n",
       "495    0.0885\n",
       "496    0.1295\n",
       "497    0.1136\n",
       "498    0.0728\n",
       "499    0.0761\n",
       "Name: 1261, Length: 500, dtype: float64"
      ]
     },
     "metadata": {},
     "output_type": "display_data"
    },
    {
     "data": {
      "text/plain": [
       "0      0.0000\n",
       "1      0.0000\n",
       "2      0.0000\n",
       "3      0.0000\n",
       "4      0.0000\n",
       "        ...  \n",
       "495    0.0336\n",
       "496    0.0276\n",
       "497    0.0263\n",
       "498    0.0281\n",
       "499    0.0291\n",
       "Name: 1262, Length: 500, dtype: float64"
      ]
     },
     "metadata": {},
     "output_type": "display_data"
    },
    {
     "data": {
      "text/plain": [
       "0      0.0000\n",
       "1      0.0000\n",
       "2      0.0000\n",
       "3      0.0000\n",
       "4      0.0000\n",
       "        ...  \n",
       "495    0.0409\n",
       "496    0.0441\n",
       "497    0.0515\n",
       "498    0.0411\n",
       "499    0.0563\n",
       "Name: 1263, Length: 500, dtype: float64"
      ]
     },
     "metadata": {},
     "output_type": "display_data"
    },
    {
     "data": {
      "text/plain": [
       "0     NaN\n",
       "1     NaN\n",
       "2     NaN\n",
       "3     NaN\n",
       "4     NaN\n",
       "       ..\n",
       "495   NaN\n",
       "496   NaN\n",
       "497   NaN\n",
       "498   NaN\n",
       "499   NaN\n",
       "Name: 1264, Length: 500, dtype: float64"
      ]
     },
     "metadata": {},
     "output_type": "display_data"
    },
    {
     "data": {
      "text/plain": [
       "0      0.9474\n",
       "1      0.8738\n",
       "2      0.9560\n",
       "3      0.9432\n",
       "4      0.9516\n",
       "        ...  \n",
       "495    0.7708\n",
       "496    0.6016\n",
       "497    0.7149\n",
       "498    0.7130\n",
       "499    0.4411\n",
       "Name: 1265, Length: 500, dtype: float64"
      ]
     },
     "metadata": {},
     "output_type": "display_data"
    },
    {
     "data": {
      "text/plain": [
       "0         NaN\n",
       "1         NaN\n",
       "2         NaN\n",
       "3         NaN\n",
       "4         NaN\n",
       "        ...  \n",
       "495    0.9339\n",
       "496    0.9191\n",
       "497    0.9045\n",
       "498    0.9110\n",
       "499    0.9243\n",
       "Name: 1266, Length: 500, dtype: float64"
      ]
     },
     "metadata": {},
     "output_type": "display_data"
    },
    {
     "data": {
      "text/plain": [
       "0      0.0000\n",
       "1      0.0000\n",
       "2      0.0000\n",
       "3      0.0000\n",
       "4      0.0000\n",
       "        ...  \n",
       "495    0.0553\n",
       "496    0.0621\n",
       "497    0.0705\n",
       "498    0.0821\n",
       "499    0.0789\n",
       "Name: 1267, Length: 500, dtype: float64"
      ]
     },
     "metadata": {},
     "output_type": "display_data"
    },
    {
     "data": {
      "text/plain": [
       "0      0.0909\n",
       "1      0.2424\n",
       "2      0.2169\n",
       "3      0.3673\n",
       "4      0.2900\n",
       "        ...  \n",
       "495    0.0297\n",
       "496    0.0276\n",
       "497    0.0352\n",
       "498    0.0278\n",
       "499    0.0278\n",
       "Name: 1268, Length: 500, dtype: float64"
      ]
     },
     "metadata": {},
     "output_type": "display_data"
    },
    {
     "data": {
      "text/plain": [
       "0      0.0000\n",
       "1      0.0000\n",
       "2      0.0000\n",
       "3      0.0000\n",
       "4      0.0000\n",
       "        ...  \n",
       "495    0.0494\n",
       "496    0.0586\n",
       "497    0.0435\n",
       "498    0.0368\n",
       "499    0.0481\n",
       "Name: 1269, Length: 500, dtype: float64"
      ]
     },
     "metadata": {},
     "output_type": "display_data"
    },
    {
     "data": {
      "text/plain": [
       "0      0.0000\n",
       "1      0.0000\n",
       "2      0.0400\n",
       "3         NaN\n",
       "4         NaN\n",
       "        ...  \n",
       "495    0.0336\n",
       "496    0.0439\n",
       "497    0.0286\n",
       "498    0.0377\n",
       "499    0.0406\n",
       "Name: 1270, Length: 500, dtype: float64"
      ]
     },
     "metadata": {},
     "output_type": "display_data"
    },
    {
     "data": {
      "text/plain": [
       "0      0.0081\n",
       "1      0.0392\n",
       "2      0.0000\n",
       "3      0.0000\n",
       "4      0.0070\n",
       "        ...  \n",
       "495    0.0505\n",
       "496    0.0402\n",
       "497    0.0669\n",
       "498    0.0573\n",
       "499    0.0394\n",
       "Name: 1271, Length: 500, dtype: float64"
      ]
     },
     "metadata": {},
     "output_type": "display_data"
    },
    {
     "data": {
      "text/plain": [
       "0      0.0000\n",
       "1      0.0000\n",
       "2         NaN\n",
       "3      0.0000\n",
       "4         NaN\n",
       "        ...  \n",
       "495    0.0287\n",
       "496    0.0298\n",
       "497    0.0331\n",
       "498    0.0310\n",
       "499    0.0277\n",
       "Name: 1272, Length: 500, dtype: float64"
      ]
     },
     "metadata": {},
     "output_type": "display_data"
    },
    {
     "data": {
      "text/plain": [
       "0      0.0000\n",
       "1      0.0000\n",
       "2      0.0000\n",
       "3         NaN\n",
       "4      0.0000\n",
       "        ...  \n",
       "495    0.0200\n",
       "496    0.0209\n",
       "497    0.0190\n",
       "498    0.0163\n",
       "499    0.0145\n",
       "Name: 1273, Length: 500, dtype: float64"
      ]
     },
     "metadata": {},
     "output_type": "display_data"
    },
    {
     "data": {
      "text/plain": [
       "0      0.0000\n",
       "1      0.0000\n",
       "2      0.0000\n",
       "3      0.0000\n",
       "4      0.0088\n",
       "        ...  \n",
       "495    0.0374\n",
       "496    0.0375\n",
       "497    0.0305\n",
       "498    0.0356\n",
       "499    0.0445\n",
       "Name: 1274, Length: 500, dtype: float64"
      ]
     },
     "metadata": {},
     "output_type": "display_data"
    },
    {
     "data": {
      "text/plain": [
       "0         NaN\n",
       "1      0.0000\n",
       "2         NaN\n",
       "3      0.0000\n",
       "4         NaN\n",
       "        ...  \n",
       "495    0.0379\n",
       "496    0.0395\n",
       "497    0.0364\n",
       "498    0.0337\n",
       "499    0.0417\n",
       "Name: 1275, Length: 500, dtype: float64"
      ]
     },
     "metadata": {},
     "output_type": "display_data"
    },
    {
     "data": {
      "text/plain": [
       "0      0.0041\n",
       "1      0.0370\n",
       "2      0.0227\n",
       "3      0.0200\n",
       "4      0.0107\n",
       "        ...  \n",
       "495    0.0316\n",
       "496    0.0355\n",
       "497    0.0380\n",
       "498    0.0327\n",
       "499    0.0385\n",
       "Name: 1276, Length: 500, dtype: float64"
      ]
     },
     "metadata": {},
     "output_type": "display_data"
    },
    {
     "data": {
      "text/plain": [
       "0      0.8705\n",
       "1      0.9375\n",
       "2      0.9485\n",
       "3      0.9000\n",
       "4      0.9375\n",
       "        ...  \n",
       "495    0.9104\n",
       "496    0.7936\n",
       "497    0.8439\n",
       "498    0.9049\n",
       "499    0.8942\n",
       "Name: 1277, Length: 500, dtype: float64"
      ]
     },
     "metadata": {},
     "output_type": "display_data"
    },
    {
     "data": {
      "text/plain": [
       "0      0.0033\n",
       "1      0.0000\n",
       "2      0.0000\n",
       "3      0.0000\n",
       "4      0.0149\n",
       "        ...  \n",
       "495    0.0624\n",
       "496    0.0646\n",
       "497    0.0558\n",
       "498    0.0494\n",
       "499    0.0524\n",
       "Name: 1278, Length: 500, dtype: float64"
      ]
     },
     "metadata": {},
     "output_type": "display_data"
    },
    {
     "data": {
      "text/plain": [
       "0      0.9111\n",
       "1      0.8966\n",
       "2      0.8378\n",
       "3         NaN\n",
       "4      0.8974\n",
       "        ...  \n",
       "495    0.7423\n",
       "496    0.7934\n",
       "497    0.5719\n",
       "498    0.5633\n",
       "499    0.7271\n",
       "Name: 1279, Length: 500, dtype: float64"
      ]
     },
     "metadata": {},
     "output_type": "display_data"
    },
    {
     "data": {
      "text/plain": [
       "0      0.0000\n",
       "1      0.0000\n",
       "2      0.0000\n",
       "3      0.0000\n",
       "4      0.0000\n",
       "        ...  \n",
       "495    0.0414\n",
       "496    0.0422\n",
       "497    0.0461\n",
       "498    0.0308\n",
       "499    0.0392\n",
       "Name: 1280, Length: 500, dtype: float64"
      ]
     },
     "metadata": {},
     "output_type": "display_data"
    },
    {
     "data": {
      "text/plain": [
       "0      0.0000\n",
       "1      0.0000\n",
       "2      0.0058\n",
       "3      0.0000\n",
       "4      0.0000\n",
       "        ...  \n",
       "495    0.0356\n",
       "496    0.0365\n",
       "497    0.0418\n",
       "498    0.0316\n",
       "499    0.0554\n",
       "Name: 1281, Length: 500, dtype: float64"
      ]
     },
     "metadata": {},
     "output_type": "display_data"
    },
    {
     "data": {
      "text/plain": [
       "0      0.8919\n",
       "1         NaN\n",
       "2         NaN\n",
       "3         NaN\n",
       "4      0.9048\n",
       "        ...  \n",
       "495    0.7865\n",
       "496    0.7889\n",
       "497    0.3134\n",
       "498    0.7865\n",
       "499    0.7396\n",
       "Name: 1282, Length: 500, dtype: float64"
      ]
     },
     "metadata": {},
     "output_type": "display_data"
    },
    {
     "data": {
      "text/plain": [
       "0      0.0571\n",
       "1      0.0694\n",
       "2      0.0476\n",
       "3      0.1176\n",
       "4      0.1389\n",
       "        ...  \n",
       "495    0.1577\n",
       "496    0.2364\n",
       "497    0.2302\n",
       "498    0.2409\n",
       "499    0.1741\n",
       "Name: 1283, Length: 500, dtype: float64"
      ]
     },
     "metadata": {},
     "output_type": "display_data"
    },
    {
     "data": {
      "text/plain": [
       "0      0.0000\n",
       "1      0.0000\n",
       "2      0.0000\n",
       "3      0.0000\n",
       "4      0.0000\n",
       "        ...  \n",
       "495    0.0282\n",
       "496    0.0429\n",
       "497    0.0361\n",
       "498    0.0300\n",
       "499    0.0299\n",
       "Name: 1284, Length: 500, dtype: float64"
      ]
     },
     "metadata": {},
     "output_type": "display_data"
    },
    {
     "data": {
      "text/plain": [
       "0      0.1020\n",
       "1      0.0000\n",
       "2      0.0000\n",
       "3      0.0000\n",
       "4      0.0000\n",
       "        ...  \n",
       "495    0.0547\n",
       "496    0.0403\n",
       "497    0.0425\n",
       "498    0.0432\n",
       "499    0.0400\n",
       "Name: 1285, Length: 500, dtype: float64"
      ]
     },
     "metadata": {},
     "output_type": "display_data"
    },
    {
     "data": {
      "text/plain": [
       "0      0.0154\n",
       "1      0.0469\n",
       "2      0.0571\n",
       "3      0.0108\n",
       "4      0.0154\n",
       "        ...  \n",
       "495    0.0711\n",
       "496    0.0491\n",
       "497    0.0466\n",
       "498    0.0670\n",
       "499    0.0772\n",
       "Name: 1286, Length: 500, dtype: float64"
      ]
     },
     "metadata": {},
     "output_type": "display_data"
    },
    {
     "data": {
      "text/plain": [
       "0      0.0000\n",
       "1      0.0667\n",
       "2      0.0000\n",
       "3      0.0000\n",
       "4      0.0380\n",
       "        ...  \n",
       "495    0.1977\n",
       "496    0.1277\n",
       "497    0.1472\n",
       "498    0.1225\n",
       "499    0.0917\n",
       "Name: 1287, Length: 500, dtype: float64"
      ]
     },
     "metadata": {},
     "output_type": "display_data"
    },
    {
     "data": {
      "text/plain": [
       "0      0.0000\n",
       "1      0.0000\n",
       "2      0.0000\n",
       "3      0.0000\n",
       "4      0.0000\n",
       "        ...  \n",
       "495    0.0398\n",
       "496    0.0297\n",
       "497    0.0320\n",
       "498    0.0262\n",
       "499    0.0422\n",
       "Name: 1288, Length: 500, dtype: float64"
      ]
     },
     "metadata": {},
     "output_type": "display_data"
    },
    {
     "data": {
      "text/plain": [
       "0      0.1020\n",
       "1      0.0200\n",
       "2      0.0652\n",
       "3      0.0000\n",
       "4      0.0654\n",
       "        ...  \n",
       "495    0.1902\n",
       "496    0.2281\n",
       "497    0.0766\n",
       "498    0.2144\n",
       "499    0.0675\n",
       "Name: 1289, Length: 500, dtype: float64"
      ]
     },
     "metadata": {},
     "output_type": "display_data"
    },
    {
     "data": {
      "text/plain": [
       "0      0.5385\n",
       "1      0.6579\n",
       "2         NaN\n",
       "3         NaN\n",
       "4         NaN\n",
       "        ...  \n",
       "495       NaN\n",
       "496       NaN\n",
       "497       NaN\n",
       "498       NaN\n",
       "499       NaN\n",
       "Name: 1290, Length: 500, dtype: float64"
      ]
     },
     "metadata": {},
     "output_type": "display_data"
    },
    {
     "data": {
      "text/plain": [
       "0      0.0496\n",
       "1      0.0310\n",
       "2      0.0205\n",
       "3      0.0286\n",
       "4      0.0423\n",
       "        ...  \n",
       "495    0.1355\n",
       "496    0.0416\n",
       "497    0.1389\n",
       "498    0.0456\n",
       "499    0.1425\n",
       "Name: 1291, Length: 500, dtype: float64"
      ]
     },
     "metadata": {},
     "output_type": "display_data"
    },
    {
     "data": {
      "text/plain": [
       "0      0.8972\n",
       "1      0.9000\n",
       "2      0.8832\n",
       "3      0.9121\n",
       "4      0.9467\n",
       "        ...  \n",
       "495    0.7766\n",
       "496    0.8802\n",
       "497    0.9146\n",
       "498    0.8665\n",
       "499    0.7956\n",
       "Name: 1292, Length: 500, dtype: float64"
      ]
     },
     "metadata": {},
     "output_type": "display_data"
    },
    {
     "data": {
      "text/plain": [
       "0      0.1915\n",
       "1      0.1687\n",
       "2      0.1687\n",
       "3      0.1711\n",
       "4         NaN\n",
       "        ...  \n",
       "495       NaN\n",
       "496       NaN\n",
       "497       NaN\n",
       "498       NaN\n",
       "499       NaN\n",
       "Name: 1293, Length: 500, dtype: float64"
      ]
     },
     "metadata": {},
     "output_type": "display_data"
    },
    {
     "data": {
      "text/plain": [
       "0      0.0000\n",
       "1      0.0106\n",
       "2      0.0000\n",
       "3      0.0000\n",
       "4      0.0000\n",
       "        ...  \n",
       "495    0.0244\n",
       "496    0.0287\n",
       "497    0.0241\n",
       "498    0.0283\n",
       "499    0.0282\n",
       "Name: 1294, Length: 500, dtype: float64"
      ]
     },
     "metadata": {},
     "output_type": "display_data"
    },
    {
     "data": {
      "text/plain": [
       "0         NaN\n",
       "1         NaN\n",
       "2      0.1667\n",
       "3      0.2250\n",
       "4      0.0789\n",
       "        ...  \n",
       "495    0.3117\n",
       "496    0.2478\n",
       "497    0.2966\n",
       "498    0.3805\n",
       "499    0.3793\n",
       "Name: 1295, Length: 500, dtype: float64"
      ]
     },
     "metadata": {},
     "output_type": "display_data"
    },
    {
     "data": {
      "text/plain": [
       "0      0.0118\n",
       "1      0.0043\n",
       "2      0.0161\n",
       "3      0.0120\n",
       "4      0.0000\n",
       "        ...  \n",
       "495    0.0442\n",
       "496    0.0392\n",
       "497    0.0366\n",
       "498    0.0379\n",
       "499    0.0417\n",
       "Name: 1296, Length: 500, dtype: float64"
      ]
     },
     "metadata": {},
     "output_type": "display_data"
    },
    {
     "data": {
      "text/plain": [
       "0      0.5888\n",
       "1      0.7721\n",
       "2      0.7269\n",
       "3      0.5000\n",
       "4      0.8127\n",
       "        ...  \n",
       "495    0.3266\n",
       "496    0.2414\n",
       "497    0.4983\n",
       "498    0.3567\n",
       "499    0.5116\n",
       "Name: 1297, Length: 500, dtype: float64"
      ]
     },
     "metadata": {},
     "output_type": "display_data"
    },
    {
     "data": {
      "text/plain": [
       "0      0.0000\n",
       "1      0.0000\n",
       "2      0.0294\n",
       "3      0.0000\n",
       "4      0.0098\n",
       "        ...  \n",
       "495    0.0212\n",
       "496    0.0225\n",
       "497    0.0205\n",
       "498    0.0293\n",
       "499    0.0277\n",
       "Name: 1298, Length: 500, dtype: float64"
      ]
     },
     "metadata": {},
     "output_type": "display_data"
    },
    {
     "data": {
      "text/plain": [
       "0         NaN\n",
       "1         NaN\n",
       "2      0.0071\n",
       "3      0.0000\n",
       "4      0.0000\n",
       "        ...  \n",
       "495    0.0447\n",
       "496    0.0481\n",
       "497    0.0423\n",
       "498    0.0460\n",
       "499    0.0347\n",
       "Name: 1299, Length: 500, dtype: float64"
      ]
     },
     "metadata": {},
     "output_type": "display_data"
    },
    {
     "data": {
      "text/plain": [
       "0      0.0000\n",
       "1      0.0256\n",
       "2      0.0221\n",
       "3      0.0170\n",
       "4      0.0182\n",
       "        ...  \n",
       "495    0.0524\n",
       "496    0.0493\n",
       "497    0.0497\n",
       "498    0.0423\n",
       "499    0.0397\n",
       "Name: 1300, Length: 500, dtype: float64"
      ]
     },
     "metadata": {},
     "output_type": "display_data"
    },
    {
     "data": {
      "text/plain": [
       "0      0.1154\n",
       "1      0.0719\n",
       "2      0.1027\n",
       "3      0.0971\n",
       "4      0.1609\n",
       "        ...  \n",
       "495    0.2400\n",
       "496    0.3193\n",
       "497    0.6198\n",
       "498    0.4406\n",
       "499    0.3272\n",
       "Name: 1301, Length: 500, dtype: float64"
      ]
     },
     "metadata": {},
     "output_type": "display_data"
    },
    {
     "data": {
      "text/plain": [
       "0      0.0000\n",
       "1      0.0025\n",
       "2      0.0023\n",
       "3      0.0000\n",
       "4      0.0000\n",
       "        ...  \n",
       "495    0.6679\n",
       "496    0.0429\n",
       "497    0.3358\n",
       "498    0.0954\n",
       "499    0.0266\n",
       "Name: 1302, Length: 500, dtype: float64"
      ]
     },
     "metadata": {},
     "output_type": "display_data"
    },
    {
     "data": {
      "text/plain": [
       "0      0.3953\n",
       "1      0.4630\n",
       "2      0.4944\n",
       "3      0.3009\n",
       "4      0.3702\n",
       "        ...  \n",
       "495    0.7969\n",
       "496    0.6477\n",
       "497    0.7880\n",
       "498    0.6433\n",
       "499    0.6457\n",
       "Name: 1303, Length: 500, dtype: float64"
      ]
     },
     "metadata": {},
     "output_type": "display_data"
    },
    {
     "data": {
      "text/plain": [
       "0      0.9352\n",
       "1      0.9339\n",
       "2      0.9756\n",
       "3      0.9118\n",
       "4      0.9118\n",
       "        ...  \n",
       "495    0.6022\n",
       "496    0.6581\n",
       "497    0.6944\n",
       "498    0.4252\n",
       "499    0.7297\n",
       "Name: 1304, Length: 500, dtype: float64"
      ]
     },
     "metadata": {},
     "output_type": "display_data"
    },
    {
     "data": {
      "text/plain": [
       "0      0.0423\n",
       "1      0.0494\n",
       "2      0.0980\n",
       "3      0.1138\n",
       "4      0.0465\n",
       "        ...  \n",
       "495    0.3346\n",
       "496    0.0923\n",
       "497    0.1804\n",
       "498    0.1770\n",
       "499    0.1018\n",
       "Name: 1305, Length: 500, dtype: float64"
      ]
     },
     "metadata": {},
     "output_type": "display_data"
    },
    {
     "data": {
      "text/plain": [
       "0      0.0709\n",
       "1      0.0357\n",
       "2      0.0211\n",
       "3      0.0549\n",
       "4      0.0263\n",
       "        ...  \n",
       "495    0.0567\n",
       "496    0.0413\n",
       "497    0.0674\n",
       "498    0.0758\n",
       "499    0.1916\n",
       "Name: 1306, Length: 500, dtype: float64"
      ]
     },
     "metadata": {},
     "output_type": "display_data"
    },
    {
     "data": {
      "text/plain": [
       "0      0.0282\n",
       "1      0.0452\n",
       "2      0.0565\n",
       "3      0.0616\n",
       "4      0.0345\n",
       "        ...  \n",
       "495    0.1450\n",
       "496    0.0765\n",
       "497    0.1485\n",
       "498    0.0816\n",
       "499    0.1979\n",
       "Name: 1307, Length: 500, dtype: float64"
      ]
     },
     "metadata": {},
     "output_type": "display_data"
    },
    {
     "data": {
      "text/plain": [
       "0      0.0000\n",
       "1         NaN\n",
       "2      0.0000\n",
       "3         NaN\n",
       "4      0.0000\n",
       "        ...  \n",
       "495    0.0256\n",
       "496    0.0190\n",
       "497    0.0246\n",
       "498    0.0209\n",
       "499    0.0279\n",
       "Name: 1308, Length: 500, dtype: float64"
      ]
     },
     "metadata": {},
     "output_type": "display_data"
    },
    {
     "data": {
      "text/plain": [
       "0      0.0000\n",
       "1      0.0000\n",
       "2      0.0143\n",
       "3      0.0000\n",
       "4      0.0000\n",
       "        ...  \n",
       "495    0.0426\n",
       "496    0.0499\n",
       "497    0.0519\n",
       "498    0.0592\n",
       "499    0.0561\n",
       "Name: 1309, Length: 500, dtype: float64"
      ]
     },
     "metadata": {},
     "output_type": "display_data"
    },
    {
     "data": {
      "text/plain": [
       "0      0.9697\n",
       "1      0.8125\n",
       "2      0.8511\n",
       "3      0.9167\n",
       "4      0.8143\n",
       "        ...  \n",
       "495    0.8625\n",
       "496    0.8399\n",
       "497    0.8736\n",
       "498    0.8768\n",
       "499    0.7825\n",
       "Name: 1310, Length: 500, dtype: float64"
      ]
     },
     "metadata": {},
     "output_type": "display_data"
    },
    {
     "data": {
      "text/plain": [
       "0         NaN\n",
       "1         NaN\n",
       "2         NaN\n",
       "3         NaN\n",
       "4         NaN\n",
       "        ...  \n",
       "495    0.8593\n",
       "496    0.7887\n",
       "497    0.8306\n",
       "498    0.7838\n",
       "499    0.6737\n",
       "Name: 1311, Length: 500, dtype: float64"
      ]
     },
     "metadata": {},
     "output_type": "display_data"
    },
    {
     "data": {
      "text/plain": [
       "0      0.2568\n",
       "1      0.4691\n",
       "2      0.2000\n",
       "3      0.3822\n",
       "4      0.2979\n",
       "        ...  \n",
       "495    0.2202\n",
       "496    0.3848\n",
       "497    0.3572\n",
       "498    0.3258\n",
       "499    0.4243\n",
       "Name: 1312, Length: 500, dtype: float64"
      ]
     },
     "metadata": {},
     "output_type": "display_data"
    },
    {
     "data": {
      "text/plain": [
       "0      0.0000\n",
       "1      0.0000\n",
       "2      0.0317\n",
       "3      0.0182\n",
       "4      0.0000\n",
       "        ...  \n",
       "495       NaN\n",
       "496       NaN\n",
       "497       NaN\n",
       "498       NaN\n",
       "499       NaN\n",
       "Name: 1313, Length: 500, dtype: float64"
      ]
     },
     "metadata": {},
     "output_type": "display_data"
    },
    {
     "data": {
      "text/plain": [
       "0         NaN\n",
       "1         NaN\n",
       "2         NaN\n",
       "3         NaN\n",
       "4      0.9706\n",
       "        ...  \n",
       "495    0.8776\n",
       "496    0.8152\n",
       "497    0.8907\n",
       "498    0.7623\n",
       "499    0.8677\n",
       "Name: 1314, Length: 500, dtype: float64"
      ]
     },
     "metadata": {},
     "output_type": "display_data"
    },
    {
     "data": {
      "text/plain": [
       "0      0.0151\n",
       "1      0.0063\n",
       "2      0.0000\n",
       "3      0.0000\n",
       "4      0.0000\n",
       "        ...  \n",
       "495    0.0438\n",
       "496    0.0335\n",
       "497    0.0389\n",
       "498    0.0320\n",
       "499    0.0431\n",
       "Name: 1315, Length: 500, dtype: float64"
      ]
     },
     "metadata": {},
     "output_type": "display_data"
    },
    {
     "data": {
      "text/plain": [
       "0      0.2131\n",
       "1      0.0168\n",
       "2      0.0127\n",
       "3      0.3614\n",
       "4      0.1328\n",
       "        ...  \n",
       "495    0.1036\n",
       "496    0.0904\n",
       "497    0.1257\n",
       "498    0.1107\n",
       "499    0.1284\n",
       "Name: 1316, Length: 500, dtype: float64"
      ]
     },
     "metadata": {},
     "output_type": "display_data"
    },
    {
     "data": {
      "text/plain": [
       "0      0.9091\n",
       "1         NaN\n",
       "2      0.8108\n",
       "3         NaN\n",
       "4         NaN\n",
       "        ...  \n",
       "495    0.5487\n",
       "496    0.3926\n",
       "497    0.4811\n",
       "498    0.6998\n",
       "499    0.5822\n",
       "Name: 1317, Length: 500, dtype: float64"
      ]
     },
     "metadata": {},
     "output_type": "display_data"
    },
    {
     "data": {
      "text/plain": [
       "0      0.9804\n",
       "1         NaN\n",
       "2         NaN\n",
       "3         NaN\n",
       "4      0.9355\n",
       "        ...  \n",
       "495       NaN\n",
       "496       NaN\n",
       "497       NaN\n",
       "498       NaN\n",
       "499       NaN\n",
       "Name: 1318, Length: 500, dtype: float64"
      ]
     },
     "metadata": {},
     "output_type": "display_data"
    },
    {
     "data": {
      "text/plain": [
       "0      0.0000\n",
       "1      0.0000\n",
       "2      0.0000\n",
       "3      0.0000\n",
       "4      0.0000\n",
       "        ...  \n",
       "495    0.0877\n",
       "496    0.0791\n",
       "497    0.0814\n",
       "498    0.0852\n",
       "499    0.0909\n",
       "Name: 1319, Length: 500, dtype: float64"
      ]
     },
     "metadata": {},
     "output_type": "display_data"
    },
    {
     "data": {
      "text/plain": [
       "0      0.0946\n",
       "1      0.0606\n",
       "2      0.0417\n",
       "3      0.0053\n",
       "4      0.0814\n",
       "        ...  \n",
       "495    0.7072\n",
       "496    0.1531\n",
       "497    0.0685\n",
       "498    0.0634\n",
       "499    0.1084\n",
       "Name: 1320, Length: 500, dtype: float64"
      ]
     },
     "metadata": {},
     "output_type": "display_data"
    },
    {
     "data": {
      "text/plain": [
       "0      0.0071\n",
       "1      0.0091\n",
       "2      0.0411\n",
       "3      0.0154\n",
       "4      0.0154\n",
       "        ...  \n",
       "495    0.1132\n",
       "496    0.0960\n",
       "497    0.0863\n",
       "498    0.0901\n",
       "499    0.1430\n",
       "Name: 1321, Length: 500, dtype: float64"
      ]
     },
     "metadata": {},
     "output_type": "display_data"
    },
    {
     "data": {
      "text/plain": [
       "0         NaN\n",
       "1         NaN\n",
       "2         NaN\n",
       "3         NaN\n",
       "4         NaN\n",
       "        ...  \n",
       "495    0.6563\n",
       "496    0.7412\n",
       "497    0.6995\n",
       "498    0.6185\n",
       "499    0.7272\n",
       "Name: 1322, Length: 500, dtype: float64"
      ]
     },
     "metadata": {},
     "output_type": "display_data"
    },
    {
     "data": {
      "text/plain": [
       "0      0.0128\n",
       "1      0.0296\n",
       "2      0.0366\n",
       "3      0.0288\n",
       "4      0.0102\n",
       "        ...  \n",
       "495    0.0627\n",
       "496    0.0507\n",
       "497    0.0751\n",
       "498    0.0553\n",
       "499    0.0817\n",
       "Name: 1323, Length: 500, dtype: float64"
      ]
     },
     "metadata": {},
     "output_type": "display_data"
    },
    {
     "data": {
      "text/plain": [
       "0         NaN\n",
       "1         NaN\n",
       "2         NaN\n",
       "3         NaN\n",
       "4         NaN\n",
       "        ...  \n",
       "495    0.8255\n",
       "496    0.7193\n",
       "497    0.7189\n",
       "498    0.5224\n",
       "499    0.7880\n",
       "Name: 1324, Length: 500, dtype: float64"
      ]
     },
     "metadata": {},
     "output_type": "display_data"
    },
    {
     "data": {
      "text/plain": [
       "0      0.1031\n",
       "1      0.1792\n",
       "2      0.0874\n",
       "3      0.0905\n",
       "4      0.1750\n",
       "        ...  \n",
       "495    0.3031\n",
       "496    0.6039\n",
       "497    0.1224\n",
       "498    0.2905\n",
       "499    0.1641\n",
       "Name: 1325, Length: 500, dtype: float64"
      ]
     },
     "metadata": {},
     "output_type": "display_data"
    },
    {
     "data": {
      "text/plain": [
       "0      0.1786\n",
       "1      0.4167\n",
       "2      0.1608\n",
       "3      0.4112\n",
       "4      0.2707\n",
       "        ...  \n",
       "495    0.5672\n",
       "496    0.2963\n",
       "497    0.3165\n",
       "498    0.4683\n",
       "499    0.4181\n",
       "Name: 1326, Length: 500, dtype: float64"
      ]
     },
     "metadata": {},
     "output_type": "display_data"
    },
    {
     "data": {
      "text/plain": [
       "0         NaN\n",
       "1         NaN\n",
       "2         NaN\n",
       "3         NaN\n",
       "4         NaN\n",
       "        ...  \n",
       "495    0.3436\n",
       "496    0.4985\n",
       "497    0.4915\n",
       "498    0.4333\n",
       "499    0.5405\n",
       "Name: 1327, Length: 500, dtype: float64"
      ]
     },
     "metadata": {},
     "output_type": "display_data"
    },
    {
     "data": {
      "text/plain": [
       "0      0.0420\n",
       "1      0.0044\n",
       "2      0.0806\n",
       "3      0.0071\n",
       "4      0.0479\n",
       "        ...  \n",
       "495    0.2011\n",
       "496    0.1822\n",
       "497    0.1476\n",
       "498    0.1699\n",
       "499    0.1984\n",
       "Name: 1328, Length: 500, dtype: float64"
      ]
     },
     "metadata": {},
     "output_type": "display_data"
    },
    {
     "data": {
      "text/plain": [
       "0      0.0042\n",
       "1      0.0000\n",
       "2      0.0000\n",
       "3      0.0000\n",
       "4      0.0000\n",
       "        ...  \n",
       "495    0.0529\n",
       "496    0.0454\n",
       "497    0.0589\n",
       "498    0.0497\n",
       "499    0.0438\n",
       "Name: 1329, Length: 500, dtype: float64"
      ]
     },
     "metadata": {},
     "output_type": "display_data"
    },
    {
     "data": {
      "text/plain": [
       "0      0.0364\n",
       "1      0.0123\n",
       "2      0.0123\n",
       "3      0.0633\n",
       "4      0.0607\n",
       "        ...  \n",
       "495    0.1779\n",
       "496    0.1757\n",
       "497    0.2922\n",
       "498    0.3959\n",
       "499    0.2777\n",
       "Name: 1330, Length: 500, dtype: float64"
      ]
     },
     "metadata": {},
     "output_type": "display_data"
    },
    {
     "data": {
      "text/plain": [
       "0      0.1190\n",
       "1      0.0800\n",
       "2      0.0444\n",
       "3      0.0984\n",
       "4      0.1053\n",
       "        ...  \n",
       "495       NaN\n",
       "496       NaN\n",
       "497       NaN\n",
       "498       NaN\n",
       "499       NaN\n",
       "Name: 1331, Length: 500, dtype: float64"
      ]
     },
     "metadata": {},
     "output_type": "display_data"
    },
    {
     "data": {
      "text/plain": [
       "0      0.0066\n",
       "1      0.0075\n",
       "2      0.0070\n",
       "3      0.0240\n",
       "4      0.0000\n",
       "        ...  \n",
       "495    0.1252\n",
       "496    0.0517\n",
       "497    0.2764\n",
       "498    0.0633\n",
       "499    0.0494\n",
       "Name: 1332, Length: 500, dtype: float64"
      ]
     },
     "metadata": {},
     "output_type": "display_data"
    },
    {
     "data": {
      "text/plain": [
       "0      0.8964\n",
       "1      0.9381\n",
       "2      0.9094\n",
       "3      0.9634\n",
       "4      0.9583\n",
       "        ...  \n",
       "495    0.8895\n",
       "496    0.8878\n",
       "497    0.9082\n",
       "498    0.8530\n",
       "499    0.8919\n",
       "Name: 1333, Length: 500, dtype: float64"
      ]
     },
     "metadata": {},
     "output_type": "display_data"
    },
    {
     "data": {
      "text/plain": [
       "0      0.9380\n",
       "1      0.9478\n",
       "2      0.8867\n",
       "3      0.9108\n",
       "4      0.9273\n",
       "        ...  \n",
       "495    0.6063\n",
       "496    0.6872\n",
       "497    0.6939\n",
       "498    0.6847\n",
       "499    0.6133\n",
       "Name: 1334, Length: 500, dtype: float64"
      ]
     },
     "metadata": {},
     "output_type": "display_data"
    },
    {
     "data": {
      "text/plain": [
       "0      0.0000\n",
       "1      0.0533\n",
       "2      0.0000\n",
       "3      0.0000\n",
       "4      0.0058\n",
       "        ...  \n",
       "495    0.0819\n",
       "496    0.0854\n",
       "497    0.0590\n",
       "498    0.0734\n",
       "499    0.0678\n",
       "Name: 1335, Length: 500, dtype: float64"
      ]
     },
     "metadata": {},
     "output_type": "display_data"
    },
    {
     "data": {
      "text/plain": [
       "0      0.0043\n",
       "1      0.0000\n",
       "2      0.0000\n",
       "3      0.0000\n",
       "4      0.0064\n",
       "        ...  \n",
       "495    0.0412\n",
       "496    0.0403\n",
       "497    0.0417\n",
       "498    0.0360\n",
       "499    0.0326\n",
       "Name: 1336, Length: 500, dtype: float64"
      ]
     },
     "metadata": {},
     "output_type": "display_data"
    },
    {
     "data": {
      "text/plain": [
       "0      0.0119\n",
       "1      0.0109\n",
       "2      0.0000\n",
       "3      0.0108\n",
       "4      0.0119\n",
       "        ...  \n",
       "495    0.0483\n",
       "496    0.0491\n",
       "497    0.0612\n",
       "498    0.0591\n",
       "499    0.0458\n",
       "Name: 1337, Length: 500, dtype: float64"
      ]
     },
     "metadata": {},
     "output_type": "display_data"
    },
    {
     "data": {
      "text/plain": [
       "0      0.0000\n",
       "1      0.0067\n",
       "2      0.0407\n",
       "3      0.0284\n",
       "4      0.0080\n",
       "        ...  \n",
       "495    0.3938\n",
       "496    0.3061\n",
       "497    0.0614\n",
       "498    0.5101\n",
       "499    0.3670\n",
       "Name: 1338, Length: 500, dtype: float64"
      ]
     },
     "metadata": {},
     "output_type": "display_data"
    },
    {
     "data": {
      "text/plain": [
       "0      0.0330\n",
       "1      0.0187\n",
       "2      0.0073\n",
       "3      0.0471\n",
       "4      0.0317\n",
       "        ...  \n",
       "495    0.0369\n",
       "496    0.0390\n",
       "497    0.0326\n",
       "498    0.0300\n",
       "499    0.0418\n",
       "Name: 1339, Length: 500, dtype: float64"
      ]
     },
     "metadata": {},
     "output_type": "display_data"
    },
    {
     "data": {
      "text/plain": [
       "0      0.4795\n",
       "1      0.5882\n",
       "2      0.4722\n",
       "3      0.5333\n",
       "4      0.5842\n",
       "        ...  \n",
       "495    0.2162\n",
       "496    0.6753\n",
       "497    0.2371\n",
       "498    0.2474\n",
       "499    0.4079\n",
       "Name: 1340, Length: 500, dtype: float64"
      ]
     },
     "metadata": {},
     "output_type": "display_data"
    },
    {
     "data": {
      "text/plain": [
       "0      0.0000\n",
       "1      0.0244\n",
       "2      0.0000\n",
       "3         NaN\n",
       "4      0.0000\n",
       "        ...  \n",
       "495    0.0517\n",
       "496    0.0462\n",
       "497    0.0554\n",
       "498    0.0538\n",
       "499    0.0601\n",
       "Name: 1341, Length: 500, dtype: float64"
      ]
     },
     "metadata": {},
     "output_type": "display_data"
    },
    {
     "data": {
      "text/plain": [
       "0      0.0373\n",
       "1      0.0938\n",
       "2      0.1048\n",
       "3      0.1136\n",
       "4      0.0566\n",
       "        ...  \n",
       "495    0.0760\n",
       "496    0.1494\n",
       "497    0.0433\n",
       "498    0.3321\n",
       "499    0.4675\n",
       "Name: 1342, Length: 500, dtype: float64"
      ]
     },
     "metadata": {},
     "output_type": "display_data"
    },
    {
     "data": {
      "text/plain": [
       "0      0.0000\n",
       "1      0.0000\n",
       "2      0.0000\n",
       "3      0.0000\n",
       "4      0.0000\n",
       "        ...  \n",
       "495    0.0219\n",
       "496    0.0230\n",
       "497    0.0201\n",
       "498    0.0261\n",
       "499    0.0258\n",
       "Name: 1343, Length: 500, dtype: float64"
      ]
     },
     "metadata": {},
     "output_type": "display_data"
    },
    {
     "data": {
      "text/plain": [
       "0      0.027\n",
       "1        NaN\n",
       "2      0.000\n",
       "3        NaN\n",
       "4        NaN\n",
       "       ...  \n",
       "495      NaN\n",
       "496      NaN\n",
       "497      NaN\n",
       "498      NaN\n",
       "499      NaN\n",
       "Name: 1344, Length: 500, dtype: float64"
      ]
     },
     "metadata": {},
     "output_type": "display_data"
    },
    {
     "data": {
      "text/plain": [
       "0      0.0000\n",
       "1      0.0000\n",
       "2      0.0000\n",
       "3      0.0000\n",
       "4      0.0000\n",
       "        ...  \n",
       "495    0.0220\n",
       "496    0.0232\n",
       "497    0.0296\n",
       "498    0.0277\n",
       "499    0.0251\n",
       "Name: 1345, Length: 500, dtype: float64"
      ]
     },
     "metadata": {},
     "output_type": "display_data"
    },
    {
     "data": {
      "text/plain": [
       "0         NaN\n",
       "1      0.0000\n",
       "2      0.0000\n",
       "3      0.0000\n",
       "4      0.0000\n",
       "        ...  \n",
       "495    0.0448\n",
       "496    0.0415\n",
       "497    0.0399\n",
       "498    0.0570\n",
       "499    0.0363\n",
       "Name: 1346, Length: 500, dtype: float64"
      ]
     },
     "metadata": {},
     "output_type": "display_data"
    },
    {
     "data": {
      "text/plain": [
       "0      0.0000\n",
       "1      0.0000\n",
       "2      0.0000\n",
       "3      0.0108\n",
       "4      0.0000\n",
       "        ...  \n",
       "495    0.0253\n",
       "496    0.0258\n",
       "497    0.0347\n",
       "498    0.0227\n",
       "499    0.0266\n",
       "Name: 1347, Length: 500, dtype: float64"
      ]
     },
     "metadata": {},
     "output_type": "display_data"
    },
    {
     "data": {
      "text/plain": [
       "0     NaN\n",
       "1     NaN\n",
       "2     NaN\n",
       "3     NaN\n",
       "4     NaN\n",
       "       ..\n",
       "495   NaN\n",
       "496   NaN\n",
       "497   NaN\n",
       "498   NaN\n",
       "499   NaN\n",
       "Name: 1348, Length: 500, dtype: float64"
      ]
     },
     "metadata": {},
     "output_type": "display_data"
    },
    {
     "data": {
      "text/plain": [
       "0      0.0000\n",
       "1      0.0000\n",
       "2      0.0325\n",
       "3      0.0460\n",
       "4      0.0288\n",
       "        ...  \n",
       "495    0.0942\n",
       "496    0.0683\n",
       "497    0.0409\n",
       "498    0.0500\n",
       "499    0.0467\n",
       "Name: 1349, Length: 500, dtype: float64"
      ]
     },
     "metadata": {},
     "output_type": "display_data"
    },
    {
     "data": {
      "text/plain": [
       "0      0.0000\n",
       "1      0.0000\n",
       "2      0.0000\n",
       "3      0.0000\n",
       "4      0.0000\n",
       "        ...  \n",
       "495    0.0325\n",
       "496    0.0327\n",
       "497    0.0328\n",
       "498    0.0375\n",
       "499    0.0447\n",
       "Name: 1350, Length: 500, dtype: float64"
      ]
     },
     "metadata": {},
     "output_type": "display_data"
    },
    {
     "data": {
      "text/plain": [
       "0         NaN\n",
       "1         NaN\n",
       "2         NaN\n",
       "3         NaN\n",
       "4         NaN\n",
       "        ...  \n",
       "495    0.5425\n",
       "496    0.5897\n",
       "497    0.6592\n",
       "498    0.6133\n",
       "499    0.5195\n",
       "Name: 1351, Length: 500, dtype: float64"
      ]
     },
     "metadata": {},
     "output_type": "display_data"
    },
    {
     "data": {
      "text/plain": [
       "0      0.0102\n",
       "1      0.0102\n",
       "2      0.0097\n",
       "3      0.0000\n",
       "4      0.0000\n",
       "        ...  \n",
       "495    0.0533\n",
       "496    0.0395\n",
       "497    0.0390\n",
       "498    0.0410\n",
       "499    0.0337\n",
       "Name: 1352, Length: 500, dtype: float64"
      ]
     },
     "metadata": {},
     "output_type": "display_data"
    },
    {
     "data": {
      "text/plain": [
       "0      0.0854\n",
       "1      0.0490\n",
       "2      0.0290\n",
       "3      0.0290\n",
       "4      0.0845\n",
       "        ...  \n",
       "495    0.0393\n",
       "496    0.0362\n",
       "497    0.0460\n",
       "498    0.0294\n",
       "499    0.0321\n",
       "Name: 1353, Length: 500, dtype: float64"
      ]
     },
     "metadata": {},
     "output_type": "display_data"
    },
    {
     "data": {
      "text/plain": [
       "0      0.0976\n",
       "1         NaN\n",
       "2         NaN\n",
       "3         NaN\n",
       "4      0.0968\n",
       "        ...  \n",
       "495    0.0721\n",
       "496    0.0480\n",
       "497    0.0555\n",
       "498    0.1412\n",
       "499    0.0602\n",
       "Name: 1354, Length: 500, dtype: float64"
      ]
     },
     "metadata": {},
     "output_type": "display_data"
    },
    {
     "data": {
      "text/plain": [
       "0      0.0000\n",
       "1      0.0000\n",
       "2      0.0000\n",
       "3      0.0000\n",
       "4      0.0000\n",
       "        ...  \n",
       "495    0.0228\n",
       "496    0.0278\n",
       "497    0.0333\n",
       "498    0.0260\n",
       "499    0.0274\n",
       "Name: 1355, Length: 500, dtype: float64"
      ]
     },
     "metadata": {},
     "output_type": "display_data"
    },
    {
     "data": {
      "text/plain": [
       "0      0.0439\n",
       "1      0.0274\n",
       "2      0.0357\n",
       "3      0.0297\n",
       "4      0.0497\n",
       "        ...  \n",
       "495    0.1829\n",
       "496    0.1320\n",
       "497    0.1439\n",
       "498    0.1467\n",
       "499    0.1037\n",
       "Name: 1356, Length: 500, dtype: float64"
      ]
     },
     "metadata": {},
     "output_type": "display_data"
    },
    {
     "data": {
      "text/plain": [
       "0         NaN\n",
       "1      0.0784\n",
       "2         NaN\n",
       "3         NaN\n",
       "4         NaN\n",
       "        ...  \n",
       "495    0.3564\n",
       "496    0.0940\n",
       "497    0.5040\n",
       "498    0.1464\n",
       "499    0.5737\n",
       "Name: 1357, Length: 500, dtype: float64"
      ]
     },
     "metadata": {},
     "output_type": "display_data"
    },
    {
     "data": {
      "text/plain": [
       "0      0.1346\n",
       "1      0.0000\n",
       "2      0.0000\n",
       "3      0.0183\n",
       "4      0.1379\n",
       "        ...  \n",
       "495    0.3820\n",
       "496    0.0545\n",
       "497    0.0916\n",
       "498    0.4588\n",
       "499    0.0810\n",
       "Name: 1358, Length: 500, dtype: float64"
      ]
     },
     "metadata": {},
     "output_type": "display_data"
    },
    {
     "data": {
      "text/plain": [
       "0      0.4000\n",
       "1      0.5185\n",
       "2      0.5312\n",
       "3      0.3265\n",
       "4      0.5404\n",
       "        ...  \n",
       "495    0.6901\n",
       "496    0.6449\n",
       "497    0.7921\n",
       "498    0.6404\n",
       "499    0.6053\n",
       "Name: 1359, Length: 500, dtype: float64"
      ]
     },
     "metadata": {},
     "output_type": "display_data"
    },
    {
     "data": {
      "text/plain": [
       "0      0.5926\n",
       "1      0.6087\n",
       "2      0.7327\n",
       "3      0.5275\n",
       "4      0.7042\n",
       "        ...  \n",
       "495    0.4143\n",
       "496    0.6240\n",
       "497    0.8506\n",
       "498    0.3546\n",
       "499    0.4195\n",
       "Name: 1360, Length: 500, dtype: float64"
      ]
     },
     "metadata": {},
     "output_type": "display_data"
    },
    {
     "data": {
      "text/plain": [
       "0      0.0152\n",
       "1      0.0180\n",
       "2      0.0229\n",
       "3      0.0120\n",
       "4      0.0128\n",
       "        ...  \n",
       "495    0.0514\n",
       "496    0.0401\n",
       "497    0.0472\n",
       "498    0.0404\n",
       "499    0.0417\n",
       "Name: 1361, Length: 500, dtype: float64"
      ]
     },
     "metadata": {},
     "output_type": "display_data"
    },
    {
     "data": {
      "text/plain": [
       "0      0.0000\n",
       "1      0.0000\n",
       "2      0.0000\n",
       "3      0.0000\n",
       "4      0.0000\n",
       "        ...  \n",
       "495    0.0245\n",
       "496    0.0272\n",
       "497    0.0275\n",
       "498    0.0181\n",
       "499    0.0262\n",
       "Name: 1362, Length: 500, dtype: float64"
      ]
     },
     "metadata": {},
     "output_type": "display_data"
    },
    {
     "data": {
      "text/plain": [
       "0      0.0785\n",
       "1      0.2366\n",
       "2      0.1760\n",
       "3      0.1667\n",
       "4      0.3000\n",
       "        ...  \n",
       "495    0.2235\n",
       "496    0.3203\n",
       "497    0.2819\n",
       "498    0.3567\n",
       "499    0.2015\n",
       "Name: 1363, Length: 500, dtype: float64"
      ]
     },
     "metadata": {},
     "output_type": "display_data"
    },
    {
     "data": {
      "text/plain": [
       "0      0.0000\n",
       "1      0.0076\n",
       "2      0.0000\n",
       "3      0.0000\n",
       "4      0.0076\n",
       "        ...  \n",
       "495    0.0541\n",
       "496    0.0458\n",
       "497    0.0317\n",
       "498    0.0388\n",
       "499    0.0436\n",
       "Name: 1364, Length: 500, dtype: float64"
      ]
     },
     "metadata": {},
     "output_type": "display_data"
    },
    {
     "data": {
      "text/plain": [
       "0      0.1348\n",
       "1      0.0452\n",
       "2      0.1416\n",
       "3      0.1416\n",
       "4      0.0524\n",
       "        ...  \n",
       "495    0.5186\n",
       "496    0.1951\n",
       "497    0.2286\n",
       "498    0.7308\n",
       "499    0.1826\n",
       "Name: 1365, Length: 500, dtype: float64"
      ]
     },
     "metadata": {},
     "output_type": "display_data"
    },
    {
     "data": {
      "text/plain": [
       "0      0.0167\n",
       "1      0.0000\n",
       "2      0.0000\n",
       "3      0.0077\n",
       "4      0.0000\n",
       "        ...  \n",
       "495    0.0550\n",
       "496    0.0437\n",
       "497    0.0508\n",
       "498    0.0517\n",
       "499    0.0596\n",
       "Name: 1366, Length: 500, dtype: float64"
      ]
     },
     "metadata": {},
     "output_type": "display_data"
    },
    {
     "data": {
      "text/plain": [
       "0      0.0066\n",
       "1      0.0047\n",
       "2      0.0063\n",
       "3      0.0000\n",
       "4      0.0000\n",
       "        ...  \n",
       "495    0.4764\n",
       "496    0.0796\n",
       "497    0.0628\n",
       "498    0.0980\n",
       "499    0.0528\n",
       "Name: 1367, Length: 500, dtype: float64"
      ]
     },
     "metadata": {},
     "output_type": "display_data"
    },
    {
     "data": {
      "text/plain": [
       "0      0.0195\n",
       "1      0.0661\n",
       "2      0.0345\n",
       "3      0.0744\n",
       "4      0.0732\n",
       "        ...  \n",
       "495    0.1302\n",
       "496    0.2837\n",
       "497    0.1089\n",
       "498    0.5113\n",
       "499    0.1124\n",
       "Name: 1368, Length: 500, dtype: float64"
      ]
     },
     "metadata": {},
     "output_type": "display_data"
    },
    {
     "data": {
      "text/plain": [
       "0      0.5345\n",
       "1         NaN\n",
       "2      0.6383\n",
       "3      0.8103\n",
       "4      0.8000\n",
       "        ...  \n",
       "495    0.7328\n",
       "496    0.5530\n",
       "497    0.6002\n",
       "498    0.6319\n",
       "499    0.7677\n",
       "Name: 1369, Length: 500, dtype: float64"
      ]
     },
     "metadata": {},
     "output_type": "display_data"
    },
    {
     "data": {
      "text/plain": [
       "0      0.0000\n",
       "1      0.0000\n",
       "2      0.0065\n",
       "3      0.0000\n",
       "4      0.0072\n",
       "        ...  \n",
       "495    0.1168\n",
       "496    0.0830\n",
       "497    0.1323\n",
       "498    0.0747\n",
       "499    0.0586\n",
       "Name: 1370, Length: 500, dtype: float64"
      ]
     },
     "metadata": {},
     "output_type": "display_data"
    },
    {
     "data": {
      "text/plain": [
       "0      0.0000\n",
       "1      0.0000\n",
       "2      0.0000\n",
       "3         NaN\n",
       "4      0.0000\n",
       "        ...  \n",
       "495    0.1080\n",
       "496    0.1059\n",
       "497    0.1011\n",
       "498    0.1066\n",
       "499    0.1123\n",
       "Name: 1371, Length: 500, dtype: float64"
      ]
     },
     "metadata": {},
     "output_type": "display_data"
    },
    {
     "data": {
      "text/plain": [
       "0      0.0000\n",
       "1      0.0054\n",
       "2      0.0000\n",
       "3      0.0000\n",
       "4      0.0000\n",
       "        ...  \n",
       "495    0.0275\n",
       "496    0.0225\n",
       "497    0.0264\n",
       "498    0.0330\n",
       "499    0.0309\n",
       "Name: 1372, Length: 500, dtype: float64"
      ]
     },
     "metadata": {},
     "output_type": "display_data"
    },
    {
     "data": {
      "text/plain": [
       "0      0.9189\n",
       "1         NaN\n",
       "2      0.9302\n",
       "3      0.9104\n",
       "4         NaN\n",
       "        ...  \n",
       "495    0.7149\n",
       "496    0.1964\n",
       "497    0.6765\n",
       "498    0.7384\n",
       "499    0.7188\n",
       "Name: 1373, Length: 500, dtype: float64"
      ]
     },
     "metadata": {},
     "output_type": "display_data"
    },
    {
     "data": {
      "text/plain": [
       "0      0.0055\n",
       "1      0.0159\n",
       "2      0.0526\n",
       "3      0.0000\n",
       "4      0.0000\n",
       "        ...  \n",
       "495    0.0915\n",
       "496    0.0335\n",
       "497    0.5701\n",
       "498    0.0334\n",
       "499    0.0404\n",
       "Name: 1374, Length: 500, dtype: float64"
      ]
     },
     "metadata": {},
     "output_type": "display_data"
    },
    {
     "data": {
      "text/plain": [
       "0      0.9500\n",
       "1         NaN\n",
       "2      0.9592\n",
       "3      0.8448\n",
       "4      0.8621\n",
       "        ...  \n",
       "495    0.3685\n",
       "496    0.7410\n",
       "497    0.7526\n",
       "498    0.8465\n",
       "499    0.7807\n",
       "Name: 1375, Length: 500, dtype: float64"
      ]
     },
     "metadata": {},
     "output_type": "display_data"
    },
    {
     "data": {
      "text/plain": [
       "0      0.9444\n",
       "1      0.8983\n",
       "2      0.9398\n",
       "3      0.8933\n",
       "4      0.9146\n",
       "        ...  \n",
       "495    0.8826\n",
       "496    0.8754\n",
       "497    0.8662\n",
       "498    0.8615\n",
       "499    0.7523\n",
       "Name: 1376, Length: 500, dtype: float64"
      ]
     },
     "metadata": {},
     "output_type": "display_data"
    },
    {
     "data": {
      "text/plain": [
       "0      0.0000\n",
       "1      0.0000\n",
       "2      0.0000\n",
       "3      0.0000\n",
       "4         NaN\n",
       "        ...  \n",
       "495    0.0175\n",
       "496    0.0285\n",
       "497    0.0169\n",
       "498    0.0204\n",
       "499    0.0182\n",
       "Name: 1377, Length: 500, dtype: float64"
      ]
     },
     "metadata": {},
     "output_type": "display_data"
    },
    {
     "data": {
      "text/plain": [
       "0      0.0000\n",
       "1      0.0000\n",
       "2      0.0000\n",
       "3      0.0000\n",
       "4      0.0000\n",
       "        ...  \n",
       "495    0.0361\n",
       "496    0.0440\n",
       "497    0.0351\n",
       "498    0.0380\n",
       "499    0.0278\n",
       "Name: 1378, Length: 500, dtype: float64"
      ]
     },
     "metadata": {},
     "output_type": "display_data"
    },
    {
     "data": {
      "text/plain": [
       "0      0.0759\n",
       "1      0.0244\n",
       "2      0.0489\n",
       "3      0.0309\n",
       "4      0.0556\n",
       "        ...  \n",
       "495    0.0508\n",
       "496    0.1428\n",
       "497    0.0696\n",
       "498    0.0589\n",
       "499    0.0773\n",
       "Name: 1379, Length: 500, dtype: float64"
      ]
     },
     "metadata": {},
     "output_type": "display_data"
    },
    {
     "data": {
      "text/plain": [
       "0      0.0056\n",
       "1      0.0043\n",
       "2      0.0000\n",
       "3      0.0000\n",
       "4      0.0000\n",
       "        ...  \n",
       "495    0.0552\n",
       "496    0.0536\n",
       "497    0.0283\n",
       "498    0.0451\n",
       "499    0.0357\n",
       "Name: 1380, Length: 500, dtype: float64"
      ]
     },
     "metadata": {},
     "output_type": "display_data"
    },
    {
     "data": {
      "text/plain": [
       "0      0.0366\n",
       "1      0.0271\n",
       "2      0.0271\n",
       "3      0.0122\n",
       "4      0.0833\n",
       "        ...  \n",
       "495    0.1084\n",
       "496    0.1040\n",
       "497    0.0647\n",
       "498    0.0952\n",
       "499    0.1210\n",
       "Name: 1381, Length: 500, dtype: float64"
      ]
     },
     "metadata": {},
     "output_type": "display_data"
    },
    {
     "data": {
      "text/plain": [
       "0      0.0806\n",
       "1      0.0488\n",
       "2      0.0594\n",
       "3      0.1148\n",
       "4      0.0619\n",
       "        ...  \n",
       "495    0.1066\n",
       "496    0.0939\n",
       "497    0.1035\n",
       "498    0.0896\n",
       "499    0.2465\n",
       "Name: 1382, Length: 500, dtype: float64"
      ]
     },
     "metadata": {},
     "output_type": "display_data"
    },
    {
     "data": {
      "text/plain": [
       "0      0.0248\n",
       "1      0.0093\n",
       "2      0.0222\n",
       "3      0.0278\n",
       "4      0.0248\n",
       "        ...  \n",
       "495       NaN\n",
       "496       NaN\n",
       "497       NaN\n",
       "498       NaN\n",
       "499       NaN\n",
       "Name: 1383, Length: 500, dtype: float64"
      ]
     },
     "metadata": {},
     "output_type": "display_data"
    },
    {
     "data": {
      "text/plain": [
       "0      0.2400\n",
       "1      0.2222\n",
       "2      0.2415\n",
       "3      0.2857\n",
       "4      0.2857\n",
       "        ...  \n",
       "495       NaN\n",
       "496       NaN\n",
       "497       NaN\n",
       "498       NaN\n",
       "499       NaN\n",
       "Name: 1384, Length: 500, dtype: float64"
      ]
     },
     "metadata": {},
     "output_type": "display_data"
    },
    {
     "data": {
      "text/plain": [
       "0      0.0000\n",
       "1      0.0000\n",
       "2      0.0000\n",
       "3      0.0000\n",
       "4      0.0000\n",
       "        ...  \n",
       "495    0.0153\n",
       "496    0.0123\n",
       "497    0.0153\n",
       "498    0.0176\n",
       "499    0.0164\n",
       "Name: 1385, Length: 500, dtype: float64"
      ]
     },
     "metadata": {},
     "output_type": "display_data"
    },
    {
     "data": {
      "text/plain": [
       "0      0.0000\n",
       "1      0.0030\n",
       "2      0.0430\n",
       "3      0.0342\n",
       "4      0.0163\n",
       "        ...  \n",
       "495    0.0305\n",
       "496    0.0270\n",
       "497    0.0225\n",
       "498    0.0242\n",
       "499    0.0326\n",
       "Name: 1386, Length: 500, dtype: float64"
      ]
     },
     "metadata": {},
     "output_type": "display_data"
    },
    {
     "data": {
      "text/plain": [
       "0      0.0000\n",
       "1      0.0000\n",
       "2      0.0000\n",
       "3      0.0000\n",
       "4      0.0088\n",
       "        ...  \n",
       "495    0.0612\n",
       "496    0.0439\n",
       "497    0.0478\n",
       "498    0.0452\n",
       "499    0.0512\n",
       "Name: 1387, Length: 500, dtype: float64"
      ]
     },
     "metadata": {},
     "output_type": "display_data"
    },
    {
     "data": {
      "text/plain": [
       "0      0.6481\n",
       "1         NaN\n",
       "2      0.5500\n",
       "3         NaN\n",
       "4      0.5579\n",
       "        ...  \n",
       "495    0.5706\n",
       "496    0.5709\n",
       "497    0.5490\n",
       "498    0.5627\n",
       "499    0.5881\n",
       "Name: 1388, Length: 500, dtype: float64"
      ]
     },
     "metadata": {},
     "output_type": "display_data"
    },
    {
     "data": {
      "text/plain": [
       "0      0.0145\n",
       "1      0.0107\n",
       "2      0.0135\n",
       "3      0.0135\n",
       "4      0.0158\n",
       "        ...  \n",
       "495    0.0583\n",
       "496    0.0457\n",
       "497    0.0507\n",
       "498    0.0505\n",
       "499    0.0426\n",
       "Name: 1389, Length: 500, dtype: float64"
      ]
     },
     "metadata": {},
     "output_type": "display_data"
    },
    {
     "data": {
      "text/plain": [
       "0      0.0000\n",
       "1      0.0000\n",
       "2      0.0000\n",
       "3      0.0000\n",
       "4      0.0000\n",
       "        ...  \n",
       "495    0.0164\n",
       "496    0.0335\n",
       "497    0.0205\n",
       "498    0.0253\n",
       "499    0.0223\n",
       "Name: 1390, Length: 500, dtype: float64"
      ]
     },
     "metadata": {},
     "output_type": "display_data"
    },
    {
     "data": {
      "text/plain": [
       "0      0.9433\n",
       "1      0.9699\n",
       "2      0.9509\n",
       "3      0.9433\n",
       "4      0.9535\n",
       "        ...  \n",
       "495    0.9498\n",
       "496    0.9250\n",
       "497    0.9289\n",
       "498    0.9152\n",
       "499    0.9298\n",
       "Name: 1391, Length: 500, dtype: float64"
      ]
     },
     "metadata": {},
     "output_type": "display_data"
    },
    {
     "data": {
      "text/plain": [
       "0      0.9500\n",
       "1      0.9560\n",
       "2      0.9724\n",
       "3      0.9892\n",
       "4      0.9267\n",
       "        ...  \n",
       "495    0.8210\n",
       "496    0.9099\n",
       "497    0.9278\n",
       "498    0.9307\n",
       "499    0.8971\n",
       "Name: 1392, Length: 500, dtype: float64"
      ]
     },
     "metadata": {},
     "output_type": "display_data"
    },
    {
     "data": {
      "text/plain": [
       "0      0.0000\n",
       "1      0.0000\n",
       "2      0.0000\n",
       "3      0.0000\n",
       "4      0.0000\n",
       "        ...  \n",
       "495    0.0350\n",
       "496    0.0481\n",
       "497    0.0305\n",
       "498    0.0397\n",
       "499    0.0377\n",
       "Name: 1393, Length: 500, dtype: float64"
      ]
     },
     "metadata": {},
     "output_type": "display_data"
    },
    {
     "data": {
      "text/plain": [
       "0         NaN\n",
       "1         NaN\n",
       "2         NaN\n",
       "3         NaN\n",
       "4         NaN\n",
       "        ...  \n",
       "495    0.4752\n",
       "496    0.7775\n",
       "497    0.6535\n",
       "498    0.5938\n",
       "499    0.5725\n",
       "Name: 1394, Length: 500, dtype: float64"
      ]
     },
     "metadata": {},
     "output_type": "display_data"
    },
    {
     "data": {
      "text/plain": [
       "0      0.0000\n",
       "1      0.0127\n",
       "2      0.0000\n",
       "3      0.0000\n",
       "4      0.0000\n",
       "        ...  \n",
       "495    0.0969\n",
       "496    0.0502\n",
       "497    0.0723\n",
       "498    0.1041\n",
       "499    0.1031\n",
       "Name: 1395, Length: 500, dtype: float64"
      ]
     },
     "metadata": {},
     "output_type": "display_data"
    },
    {
     "data": {
      "text/plain": [
       "0      0.0000\n",
       "1      0.0000\n",
       "2      0.0000\n",
       "3      0.0000\n",
       "4      0.0000\n",
       "        ...  \n",
       "495    0.0249\n",
       "496    0.0235\n",
       "497    0.0256\n",
       "498    0.0224\n",
       "499    0.0264\n",
       "Name: 1396, Length: 500, dtype: float64"
      ]
     },
     "metadata": {},
     "output_type": "display_data"
    },
    {
     "data": {
      "text/plain": [
       "0      0.9667\n",
       "1      0.9884\n",
       "2      0.9808\n",
       "3      0.9412\n",
       "4      0.9712\n",
       "        ...  \n",
       "495    0.9490\n",
       "496    0.9469\n",
       "497    0.9465\n",
       "498    0.9612\n",
       "499    0.9668\n",
       "Name: 1397, Length: 500, dtype: float64"
      ]
     },
     "metadata": {},
     "output_type": "display_data"
    },
    {
     "data": {
      "text/plain": [
       "0      0.0000\n",
       "1      0.0000\n",
       "2      0.0000\n",
       "3      0.0000\n",
       "4      0.0000\n",
       "        ...  \n",
       "495    0.0196\n",
       "496    0.0212\n",
       "497    0.0190\n",
       "498    0.0208\n",
       "499    0.0170\n",
       "Name: 1398, Length: 500, dtype: float64"
      ]
     },
     "metadata": {},
     "output_type": "display_data"
    },
    {
     "data": {
      "text/plain": [
       "0      0.0000\n",
       "1      0.0000\n",
       "2      0.0160\n",
       "3      0.0000\n",
       "4      0.0000\n",
       "        ...  \n",
       "495    0.0197\n",
       "496    0.0207\n",
       "497    0.0148\n",
       "498    0.0190\n",
       "499    0.3410\n",
       "Name: 1399, Length: 500, dtype: float64"
      ]
     },
     "metadata": {},
     "output_type": "display_data"
    },
    {
     "data": {
      "text/plain": [
       "0      0.9070\n",
       "1      0.9762\n",
       "2         NaN\n",
       "3         NaN\n",
       "4         NaN\n",
       "        ...  \n",
       "495    0.9453\n",
       "496    0.9487\n",
       "497    0.9619\n",
       "498    0.9545\n",
       "499    0.9516\n",
       "Name: 1400, Length: 500, dtype: float64"
      ]
     },
     "metadata": {},
     "output_type": "display_data"
    },
    {
     "data": {
      "text/plain": [
       "0         NaN\n",
       "1      0.0000\n",
       "2      0.0000\n",
       "3         NaN\n",
       "4      0.0000\n",
       "        ...  \n",
       "495    0.0251\n",
       "496    0.0266\n",
       "497    0.0329\n",
       "498    0.0294\n",
       "499    0.0294\n",
       "Name: 1401, Length: 500, dtype: float64"
      ]
     },
     "metadata": {},
     "output_type": "display_data"
    },
    {
     "data": {
      "text/plain": [
       "0      0.0000\n",
       "1      0.0000\n",
       "2      0.0000\n",
       "3      0.0000\n",
       "4      0.0000\n",
       "        ...  \n",
       "495    0.0519\n",
       "496    0.0426\n",
       "497    0.0512\n",
       "498    0.0490\n",
       "499    0.0514\n",
       "Name: 1402, Length: 500, dtype: float64"
      ]
     },
     "metadata": {},
     "output_type": "display_data"
    },
    {
     "data": {
      "text/plain": [
       "0      0.8750\n",
       "1      0.8901\n",
       "2      0.9409\n",
       "3      0.9167\n",
       "4      0.9006\n",
       "        ...  \n",
       "495    0.6377\n",
       "496    0.5491\n",
       "497    0.4788\n",
       "498    0.7020\n",
       "499    0.6939\n",
       "Name: 1403, Length: 500, dtype: float64"
      ]
     },
     "metadata": {},
     "output_type": "display_data"
    },
    {
     "data": {
      "text/plain": [
       "0      0.3750\n",
       "1      0.2716\n",
       "2      0.2255\n",
       "3      0.4492\n",
       "4      0.3478\n",
       "        ...  \n",
       "495    0.1795\n",
       "496    0.1799\n",
       "497    0.1451\n",
       "498    0.1579\n",
       "499    0.1634\n",
       "Name: 1404, Length: 500, dtype: float64"
      ]
     },
     "metadata": {},
     "output_type": "display_data"
    },
    {
     "data": {
      "text/plain": [
       "0         NaN\n",
       "1         NaN\n",
       "2         NaN\n",
       "3         NaN\n",
       "4         NaN\n",
       "        ...  \n",
       "495    0.7640\n",
       "496    0.7915\n",
       "497    0.6381\n",
       "498    0.6288\n",
       "499    0.6379\n",
       "Name: 1405, Length: 500, dtype: float64"
      ]
     },
     "metadata": {},
     "output_type": "display_data"
    },
    {
     "data": {
      "text/plain": [
       "0      0.0101\n",
       "1      0.0113\n",
       "2      0.0115\n",
       "3      0.0095\n",
       "4      0.0093\n",
       "        ...  \n",
       "495    0.0717\n",
       "496    0.1079\n",
       "497    0.5727\n",
       "498    0.0614\n",
       "499    0.0587\n",
       "Name: 1406, Length: 500, dtype: float64"
      ]
     },
     "metadata": {},
     "output_type": "display_data"
    },
    {
     "data": {
      "text/plain": [
       "0      0.0105\n",
       "1      0.0000\n",
       "2      0.0000\n",
       "3      0.0073\n",
       "4      0.0066\n",
       "        ...  \n",
       "495    0.0499\n",
       "496    0.0378\n",
       "497    0.0383\n",
       "498    0.0446\n",
       "499    0.0377\n",
       "Name: 1407, Length: 500, dtype: float64"
      ]
     },
     "metadata": {},
     "output_type": "display_data"
    },
    {
     "data": {
      "text/plain": [
       "0      0.0333\n",
       "1      0.0968\n",
       "2      0.1389\n",
       "3         NaN\n",
       "4      0.1633\n",
       "        ...  \n",
       "495    0.2607\n",
       "496    0.0643\n",
       "497    0.1679\n",
       "498    0.0365\n",
       "499    0.0598\n",
       "Name: 1408, Length: 500, dtype: float64"
      ]
     },
     "metadata": {},
     "output_type": "display_data"
    },
    {
     "data": {
      "text/plain": [
       "0      0.0200\n",
       "1      0.0769\n",
       "2      0.0357\n",
       "3      0.0342\n",
       "4      0.0238\n",
       "        ...  \n",
       "495    0.1906\n",
       "496    0.0687\n",
       "497    0.2127\n",
       "498    0.1038\n",
       "499    0.2463\n",
       "Name: 1409, Length: 500, dtype: float64"
      ]
     },
     "metadata": {},
     "output_type": "display_data"
    },
    {
     "data": {
      "text/plain": [
       "0      0.1583\n",
       "1      0.1884\n",
       "2      0.1649\n",
       "3      0.1696\n",
       "4      0.1498\n",
       "        ...  \n",
       "495    0.4097\n",
       "496    0.6522\n",
       "497    0.4405\n",
       "498    0.4089\n",
       "499    0.3744\n",
       "Name: 1410, Length: 500, dtype: float64"
      ]
     },
     "metadata": {},
     "output_type": "display_data"
    },
    {
     "data": {
      "text/plain": [
       "0      0.9012\n",
       "1      0.8636\n",
       "2      0.8977\n",
       "3      0.8163\n",
       "4      0.8364\n",
       "        ...  \n",
       "495    0.5007\n",
       "496    0.3098\n",
       "497    0.5100\n",
       "498    0.4443\n",
       "499    0.2610\n",
       "Name: 1411, Length: 500, dtype: float64"
      ]
     },
     "metadata": {},
     "output_type": "display_data"
    },
    {
     "data": {
      "text/plain": [
       "0      0.7917\n",
       "1      0.9783\n",
       "2      0.9231\n",
       "3      0.9000\n",
       "4      0.9346\n",
       "        ...  \n",
       "495    0.8100\n",
       "496    0.8681\n",
       "497    0.7899\n",
       "498    0.8290\n",
       "499    0.8070\n",
       "Name: 1412, Length: 500, dtype: float64"
      ]
     },
     "metadata": {},
     "output_type": "display_data"
    },
    {
     "data": {
      "text/plain": [
       "0      0.9444\n",
       "1      0.8571\n",
       "2      0.8571\n",
       "3      1.0000\n",
       "4      0.8571\n",
       "        ...  \n",
       "495       NaN\n",
       "496       NaN\n",
       "497       NaN\n",
       "498       NaN\n",
       "499       NaN\n",
       "Name: 1413, Length: 500, dtype: float64"
      ]
     },
     "metadata": {},
     "output_type": "display_data"
    },
    {
     "data": {
      "text/plain": [
       "0      0.9288\n",
       "1      0.9397\n",
       "2      0.9139\n",
       "3      0.9615\n",
       "4      0.8835\n",
       "        ...  \n",
       "495    0.8626\n",
       "496    0.8545\n",
       "497    0.8978\n",
       "498    0.5256\n",
       "499    0.8354\n",
       "Name: 1414, Length: 500, dtype: float64"
      ]
     },
     "metadata": {},
     "output_type": "display_data"
    },
    {
     "data": {
      "text/plain": [
       "0      0.5152\n",
       "1      0.6000\n",
       "2         NaN\n",
       "3         NaN\n",
       "4      0.3750\n",
       "        ...  \n",
       "495    0.3578\n",
       "496    0.2806\n",
       "497    0.2916\n",
       "498    0.4131\n",
       "499    0.4272\n",
       "Name: 1415, Length: 500, dtype: float64"
      ]
     },
     "metadata": {},
     "output_type": "display_data"
    },
    {
     "data": {
      "text/plain": [
       "0      0.0108\n",
       "1      0.0000\n",
       "2      0.0078\n",
       "3      0.0101\n",
       "4      0.0149\n",
       "        ...  \n",
       "495    0.0495\n",
       "496    0.0431\n",
       "497    0.0384\n",
       "498    0.6337\n",
       "499    0.0565\n",
       "Name: 1416, Length: 500, dtype: float64"
      ]
     },
     "metadata": {},
     "output_type": "display_data"
    },
    {
     "data": {
      "text/plain": [
       "0      0.7713\n",
       "1      0.7740\n",
       "2      0.9121\n",
       "3      0.8824\n",
       "4      0.8800\n",
       "        ...  \n",
       "495    0.9279\n",
       "496    0.9231\n",
       "497    0.9516\n",
       "498    0.9018\n",
       "499    0.9128\n",
       "Name: 1417, Length: 500, dtype: float64"
      ]
     },
     "metadata": {},
     "output_type": "display_data"
    },
    {
     "data": {
      "text/plain": [
       "0         NaN\n",
       "1         NaN\n",
       "2         NaN\n",
       "3         NaN\n",
       "4         NaN\n",
       "        ...  \n",
       "495    0.5935\n",
       "496    0.7585\n",
       "497    0.6710\n",
       "498    0.3668\n",
       "499    0.6395\n",
       "Name: 1418, Length: 500, dtype: float64"
      ]
     },
     "metadata": {},
     "output_type": "display_data"
    },
    {
     "data": {
      "text/plain": [
       "0      0.0892\n",
       "1      0.1716\n",
       "2      0.0680\n",
       "3      0.1111\n",
       "4      0.0899\n",
       "        ...  \n",
       "495    0.0740\n",
       "496    0.0591\n",
       "497    0.0812\n",
       "498    0.2623\n",
       "499    0.0852\n",
       "Name: 1419, Length: 500, dtype: float64"
      ]
     },
     "metadata": {},
     "output_type": "display_data"
    },
    {
     "data": {
      "text/plain": [
       "0      0.8125\n",
       "1      0.9167\n",
       "2      0.7583\n",
       "3      0.8085\n",
       "4      0.7044\n",
       "        ...  \n",
       "495       NaN\n",
       "496       NaN\n",
       "497       NaN\n",
       "498       NaN\n",
       "499       NaN\n",
       "Name: 1420, Length: 500, dtype: float64"
      ]
     },
     "metadata": {},
     "output_type": "display_data"
    },
    {
     "data": {
      "text/plain": [
       "0      0.8608\n",
       "1      0.9494\n",
       "2      0.9211\n",
       "3      0.9014\n",
       "4      0.9014\n",
       "        ...  \n",
       "495    0.8251\n",
       "496    0.8068\n",
       "497    0.8619\n",
       "498    0.8277\n",
       "499    0.8197\n",
       "Name: 1421, Length: 500, dtype: float64"
      ]
     },
     "metadata": {},
     "output_type": "display_data"
    },
    {
     "data": {
      "text/plain": [
       "0      0.0000\n",
       "1         NaN\n",
       "2      0.0238\n",
       "3         NaN\n",
       "4      0.0556\n",
       "        ...  \n",
       "495    0.0601\n",
       "496    0.0842\n",
       "497    0.0605\n",
       "498    0.0655\n",
       "499    0.0906\n",
       "Name: 1422, Length: 500, dtype: float64"
      ]
     },
     "metadata": {},
     "output_type": "display_data"
    },
    {
     "data": {
      "text/plain": [
       "0      0.0082\n",
       "1      0.0000\n",
       "2      0.0000\n",
       "3      0.0088\n",
       "4      0.0000\n",
       "        ...  \n",
       "495    0.0273\n",
       "496    0.0199\n",
       "497    0.0245\n",
       "498    0.0294\n",
       "499    0.0217\n",
       "Name: 1423, Length: 500, dtype: float64"
      ]
     },
     "metadata": {},
     "output_type": "display_data"
    },
    {
     "data": {
      "text/plain": [
       "0      0.0000\n",
       "1      0.0000\n",
       "2      0.0000\n",
       "3      0.0000\n",
       "4      0.0000\n",
       "        ...  \n",
       "495    0.0417\n",
       "496    0.0499\n",
       "497    0.0446\n",
       "498    0.0495\n",
       "499    0.0496\n",
       "Name: 1424, Length: 500, dtype: float64"
      ]
     },
     "metadata": {},
     "output_type": "display_data"
    },
    {
     "data": {
      "text/plain": [
       "0      0.9434\n",
       "1      0.9581\n",
       "2      0.9530\n",
       "3      0.9581\n",
       "4      0.9833\n",
       "        ...  \n",
       "495    0.9804\n",
       "496    0.9383\n",
       "497    0.6083\n",
       "498    0.9762\n",
       "499    0.5480\n",
       "Name: 1425, Length: 500, dtype: float64"
      ]
     },
     "metadata": {},
     "output_type": "display_data"
    },
    {
     "data": {
      "text/plain": [
       "0      0.2308\n",
       "1      0.2410\n",
       "2      0.3194\n",
       "3      0.2250\n",
       "4         NaN\n",
       "        ...  \n",
       "495    0.2156\n",
       "496    0.1980\n",
       "497    0.3034\n",
       "498    0.2110\n",
       "499    0.2367\n",
       "Name: 1426, Length: 500, dtype: float64"
      ]
     },
     "metadata": {},
     "output_type": "display_data"
    },
    {
     "data": {
      "text/plain": [
       "0      0.0116\n",
       "1      0.0303\n",
       "2      0.0519\n",
       "3      0.0099\n",
       "4      0.0279\n",
       "        ...  \n",
       "495    0.0664\n",
       "496    0.0366\n",
       "497    0.0508\n",
       "498    0.0386\n",
       "499    0.5490\n",
       "Name: 1427, Length: 500, dtype: float64"
      ]
     },
     "metadata": {},
     "output_type": "display_data"
    },
    {
     "data": {
      "text/plain": [
       "0      0.0848\n",
       "1      0.0400\n",
       "2      0.0444\n",
       "3      0.0377\n",
       "4      0.0780\n",
       "        ...  \n",
       "495    0.5755\n",
       "496    0.3589\n",
       "497    0.3852\n",
       "498    0.2931\n",
       "499    0.2063\n",
       "Name: 1428, Length: 500, dtype: float64"
      ]
     },
     "metadata": {},
     "output_type": "display_data"
    },
    {
     "data": {
      "text/plain": [
       "0      0.0246\n",
       "1      0.0077\n",
       "2      0.0000\n",
       "3      0.0000\n",
       "4      0.0301\n",
       "        ...  \n",
       "495    0.0222\n",
       "496    0.0347\n",
       "497    0.0310\n",
       "498    0.0305\n",
       "499    0.0282\n",
       "Name: 1429, Length: 500, dtype: float64"
      ]
     },
     "metadata": {},
     "output_type": "display_data"
    },
    {
     "data": {
      "text/plain": [
       "0      0.9250\n",
       "1      0.9818\n",
       "2      1.0000\n",
       "3      0.9692\n",
       "4      0.8611\n",
       "        ...  \n",
       "495    0.9165\n",
       "496    0.9332\n",
       "497    0.9522\n",
       "498    0.9165\n",
       "499    0.8894\n",
       "Name: 1430, Length: 500, dtype: float64"
      ]
     },
     "metadata": {},
     "output_type": "display_data"
    },
    {
     "data": {
      "text/plain": [
       "0      0.9932\n",
       "1      0.8701\n",
       "2      0.9846\n",
       "3      0.8701\n",
       "4      0.9444\n",
       "        ...  \n",
       "495    0.9532\n",
       "496    0.9367\n",
       "497    0.9365\n",
       "498    0.9596\n",
       "499    0.9432\n",
       "Name: 1431, Length: 500, dtype: float64"
      ]
     },
     "metadata": {},
     "output_type": "display_data"
    },
    {
     "data": {
      "text/plain": [
       "0      0.0000\n",
       "1      0.0000\n",
       "2      0.0000\n",
       "3      0.0000\n",
       "4      0.0000\n",
       "        ...  \n",
       "495    0.0455\n",
       "496    0.0315\n",
       "497    0.0362\n",
       "498    0.0387\n",
       "499    0.0348\n",
       "Name: 1432, Length: 500, dtype: float64"
      ]
     },
     "metadata": {},
     "output_type": "display_data"
    },
    {
     "data": {
      "text/plain": [
       "0      0.0000\n",
       "1      0.0274\n",
       "2      0.0000\n",
       "3      0.0000\n",
       "4      0.0000\n",
       "        ...  \n",
       "495    0.0507\n",
       "496    0.0462\n",
       "497    0.0503\n",
       "498    0.0452\n",
       "499    0.0447\n",
       "Name: 1433, Length: 500, dtype: float64"
      ]
     },
     "metadata": {},
     "output_type": "display_data"
    },
    {
     "data": {
      "text/plain": [
       "0      0.0000\n",
       "1      0.0148\n",
       "2      0.0000\n",
       "3      0.0000\n",
       "4      0.0148\n",
       "        ...  \n",
       "495    0.0392\n",
       "496    0.0417\n",
       "497    0.0353\n",
       "498    0.0400\n",
       "499    0.0385\n",
       "Name: 1434, Length: 500, dtype: float64"
      ]
     },
     "metadata": {},
     "output_type": "display_data"
    },
    {
     "data": {
      "text/plain": [
       "0      0.1316\n",
       "1      0.0524\n",
       "2      0.0000\n",
       "3      0.0994\n",
       "4      0.1203\n",
       "        ...  \n",
       "495    0.7434\n",
       "496    0.5076\n",
       "497    0.1314\n",
       "498    0.0509\n",
       "499    0.4711\n",
       "Name: 1435, Length: 500, dtype: float64"
      ]
     },
     "metadata": {},
     "output_type": "display_data"
    },
    {
     "data": {
      "text/plain": [
       "0      0.0000\n",
       "1      0.0000\n",
       "2      0.0000\n",
       "3      0.0000\n",
       "4      0.0000\n",
       "        ...  \n",
       "495    0.0223\n",
       "496    0.0270\n",
       "497    0.0223\n",
       "498    0.0265\n",
       "499    0.0290\n",
       "Name: 1436, Length: 500, dtype: float64"
      ]
     },
     "metadata": {},
     "output_type": "display_data"
    },
    {
     "data": {
      "text/plain": [
       "0      0.0294\n",
       "1      0.0000\n",
       "2      0.0000\n",
       "3      0.0000\n",
       "4      0.0222\n",
       "        ...  \n",
       "495    0.0369\n",
       "496    0.0386\n",
       "497    0.0304\n",
       "498    0.0343\n",
       "499    0.0412\n",
       "Name: 1437, Length: 500, dtype: float64"
      ]
     },
     "metadata": {},
     "output_type": "display_data"
    },
    {
     "data": {
      "text/plain": [
       "0      0.0000\n",
       "1      0.0000\n",
       "2      0.0028\n",
       "3      0.0000\n",
       "4      0.0000\n",
       "        ...  \n",
       "495    0.0453\n",
       "496    0.0416\n",
       "497    0.0469\n",
       "498    0.0451\n",
       "499    0.0362\n",
       "Name: 1438, Length: 500, dtype: float64"
      ]
     },
     "metadata": {},
     "output_type": "display_data"
    },
    {
     "data": {
      "text/plain": [
       "0      0.0000\n",
       "1      0.0000\n",
       "2      0.0000\n",
       "3      0.0000\n",
       "4      0.0037\n",
       "        ...  \n",
       "495    0.0330\n",
       "496    0.0340\n",
       "497    0.0312\n",
       "498    0.0360\n",
       "499    0.0275\n",
       "Name: 1439, Length: 500, dtype: float64"
      ]
     },
     "metadata": {},
     "output_type": "display_data"
    },
    {
     "data": {
      "text/plain": [
       "0         NaN\n",
       "1      0.4848\n",
       "2         NaN\n",
       "3         NaN\n",
       "4         NaN\n",
       "        ...  \n",
       "495    0.6338\n",
       "496    0.5546\n",
       "497    0.4318\n",
       "498    0.4496\n",
       "499    0.5006\n",
       "Name: 1440, Length: 500, dtype: float64"
      ]
     },
     "metadata": {},
     "output_type": "display_data"
    },
    {
     "data": {
      "text/plain": [
       "0      0.2096\n",
       "1      0.1429\n",
       "2      0.3162\n",
       "3      0.1855\n",
       "4      0.2632\n",
       "        ...  \n",
       "495    0.3895\n",
       "496    0.3111\n",
       "497    0.4102\n",
       "498    0.2811\n",
       "499    0.4305\n",
       "Name: 1441, Length: 500, dtype: float64"
      ]
     },
     "metadata": {},
     "output_type": "display_data"
    },
    {
     "data": {
      "text/plain": [
       "0      0.0597\n",
       "1      0.0000\n",
       "2      0.0065\n",
       "3      0.0000\n",
       "4      0.0000\n",
       "        ...  \n",
       "495    0.7262\n",
       "496    0.5311\n",
       "497    0.5391\n",
       "498    0.5987\n",
       "499    0.5280\n",
       "Name: 1442, Length: 500, dtype: float64"
      ]
     },
     "metadata": {},
     "output_type": "display_data"
    },
    {
     "data": {
      "text/plain": [
       "0      0.9727\n",
       "1      0.9020\n",
       "2      0.9677\n",
       "3      0.9689\n",
       "4      0.9667\n",
       "        ...  \n",
       "495    0.9324\n",
       "496    0.8925\n",
       "497    0.9178\n",
       "498    0.9349\n",
       "499    0.9188\n",
       "Name: 1443, Length: 500, dtype: float64"
      ]
     },
     "metadata": {},
     "output_type": "display_data"
    },
    {
     "data": {
      "text/plain": [
       "0      0.0000\n",
       "1      0.0000\n",
       "2      0.0000\n",
       "3      0.0000\n",
       "4      0.0000\n",
       "        ...  \n",
       "495    0.0272\n",
       "496    0.0284\n",
       "497    0.0255\n",
       "498    0.0359\n",
       "499    0.0384\n",
       "Name: 1444, Length: 500, dtype: float64"
      ]
     },
     "metadata": {},
     "output_type": "display_data"
    },
    {
     "data": {
      "text/plain": [
       "0         NaN\n",
       "1      0.4595\n",
       "2      0.1778\n",
       "3         NaN\n",
       "4         NaN\n",
       "        ...  \n",
       "495    0.4692\n",
       "496    0.4007\n",
       "497    0.2894\n",
       "498    0.5479\n",
       "499    0.2327\n",
       "Name: 1445, Length: 500, dtype: float64"
      ]
     },
     "metadata": {},
     "output_type": "display_data"
    },
    {
     "data": {
      "text/plain": [
       "0      0.0000\n",
       "1      0.0000\n",
       "2      0.0000\n",
       "3      0.0000\n",
       "4      0.0000\n",
       "        ...  \n",
       "495    0.0833\n",
       "496    0.1037\n",
       "497    0.1215\n",
       "498    0.0390\n",
       "499    0.0678\n",
       "Name: 1446, Length: 500, dtype: float64"
      ]
     },
     "metadata": {},
     "output_type": "display_data"
    },
    {
     "data": {
      "text/plain": [
       "0      0.2952\n",
       "1      0.2927\n",
       "2      0.3333\n",
       "3      0.2083\n",
       "4      0.2500\n",
       "        ...  \n",
       "495    0.4493\n",
       "496    0.3852\n",
       "497    0.3640\n",
       "498    0.3666\n",
       "499    0.3941\n",
       "Name: 1447, Length: 500, dtype: float64"
      ]
     },
     "metadata": {},
     "output_type": "display_data"
    },
    {
     "data": {
      "text/plain": [
       "0      0.0059\n",
       "1      0.0000\n",
       "2      0.0000\n",
       "3      0.0196\n",
       "4      0.0000\n",
       "        ...  \n",
       "495    0.0277\n",
       "496    0.0296\n",
       "497    0.0424\n",
       "498    0.0382\n",
       "499    0.0436\n",
       "Name: 1448, Length: 500, dtype: float64"
      ]
     },
     "metadata": {},
     "output_type": "display_data"
    },
    {
     "data": {
      "text/plain": [
       "0      0.0000\n",
       "1      0.0000\n",
       "2      0.0000\n",
       "3      0.0000\n",
       "4      0.0000\n",
       "        ...  \n",
       "495    0.0420\n",
       "496    0.0305\n",
       "497    0.0336\n",
       "498    0.0334\n",
       "499    0.0363\n",
       "Name: 1449, Length: 500, dtype: float64"
      ]
     },
     "metadata": {},
     "output_type": "display_data"
    },
    {
     "data": {
      "text/plain": [
       "0      0.0864\n",
       "1      0.0720\n",
       "2      0.0664\n",
       "3      0.1003\n",
       "4      0.0778\n",
       "        ...  \n",
       "495    0.1821\n",
       "496    0.2091\n",
       "497    0.2143\n",
       "498    0.1791\n",
       "499    0.1808\n",
       "Name: 1450, Length: 500, dtype: float64"
      ]
     },
     "metadata": {},
     "output_type": "display_data"
    },
    {
     "data": {
      "text/plain": [
       "0      0.2394\n",
       "1      0.4051\n",
       "2      0.2647\n",
       "3      0.1356\n",
       "4      0.1786\n",
       "        ...  \n",
       "495    0.4239\n",
       "496    0.4381\n",
       "497    0.4091\n",
       "498    0.3897\n",
       "499    0.4220\n",
       "Name: 1451, Length: 500, dtype: float64"
      ]
     },
     "metadata": {},
     "output_type": "display_data"
    },
    {
     "data": {
      "text/plain": [
       "0         NaN\n",
       "1      0.0000\n",
       "2      0.0000\n",
       "3      0.0000\n",
       "4         NaN\n",
       "        ...  \n",
       "495    0.1053\n",
       "496    0.0913\n",
       "497    0.0945\n",
       "498    0.0977\n",
       "499    0.0789\n",
       "Name: 1452, Length: 500, dtype: float64"
      ]
     },
     "metadata": {},
     "output_type": "display_data"
    },
    {
     "data": {
      "text/plain": [
       "0      0.0000\n",
       "1      0.0000\n",
       "2      0.0000\n",
       "3      0.0000\n",
       "4      0.0000\n",
       "        ...  \n",
       "495    0.0431\n",
       "496    0.0764\n",
       "497    0.0459\n",
       "498    0.0489\n",
       "499    0.0796\n",
       "Name: 1453, Length: 500, dtype: float64"
      ]
     },
     "metadata": {},
     "output_type": "display_data"
    },
    {
     "data": {
      "text/plain": [
       "0      0.0000\n",
       "1      0.0000\n",
       "2      0.0000\n",
       "3      0.0000\n",
       "4      0.0000\n",
       "        ...  \n",
       "495    0.0476\n",
       "496    0.0468\n",
       "497    0.0495\n",
       "498    0.0476\n",
       "499    0.0509\n",
       "Name: 1454, Length: 500, dtype: float64"
      ]
     },
     "metadata": {},
     "output_type": "display_data"
    },
    {
     "data": {
      "text/plain": [
       "0      0.9000\n",
       "1      0.9474\n",
       "2      0.8125\n",
       "3      0.9143\n",
       "4         NaN\n",
       "        ...  \n",
       "495    0.6554\n",
       "496    0.5874\n",
       "497    0.8539\n",
       "498    0.5722\n",
       "499    0.6507\n",
       "Name: 1455, Length: 500, dtype: float64"
      ]
     },
     "metadata": {},
     "output_type": "display_data"
    },
    {
     "data": {
      "text/plain": [
       "0      0.9016\n",
       "1      0.9043\n",
       "2         NaN\n",
       "3      0.9242\n",
       "4      0.8596\n",
       "        ...  \n",
       "495    0.8801\n",
       "496    0.8213\n",
       "497    0.8670\n",
       "498    0.6973\n",
       "499    0.8474\n",
       "Name: 1456, Length: 500, dtype: float64"
      ]
     },
     "metadata": {},
     "output_type": "display_data"
    },
    {
     "data": {
      "text/plain": [
       "0      0.1961\n",
       "1         NaN\n",
       "2         NaN\n",
       "3         NaN\n",
       "4      0.1667\n",
       "        ...  \n",
       "495    0.2910\n",
       "496    0.3629\n",
       "497    0.2964\n",
       "498    0.3889\n",
       "499    0.3778\n",
       "Name: 1457, Length: 500, dtype: float64"
      ]
     },
     "metadata": {},
     "output_type": "display_data"
    },
    {
     "data": {
      "text/plain": [
       "0      0.6415\n",
       "1         NaN\n",
       "2      0.2807\n",
       "3      0.4381\n",
       "4      0.2807\n",
       "        ...  \n",
       "495    0.3376\n",
       "496    0.2108\n",
       "497    0.4628\n",
       "498    0.4002\n",
       "499    0.4864\n",
       "Name: 1458, Length: 500, dtype: float64"
      ]
     },
     "metadata": {},
     "output_type": "display_data"
    },
    {
     "data": {
      "text/plain": [
       "0         NaN\n",
       "1      0.0000\n",
       "2      0.0000\n",
       "3      0.0000\n",
       "4      0.0000\n",
       "        ...  \n",
       "495    0.0293\n",
       "496    0.0621\n",
       "497    0.0286\n",
       "498    0.0422\n",
       "499    0.0293\n",
       "Name: 1459, Length: 500, dtype: float64"
      ]
     },
     "metadata": {},
     "output_type": "display_data"
    },
    {
     "data": {
      "text/plain": [
       "0         NaN\n",
       "1      0.1538\n",
       "2      0.4186\n",
       "3         NaN\n",
       "4         NaN\n",
       "        ...  \n",
       "495    0.4956\n",
       "496    0.3957\n",
       "497    0.4598\n",
       "498    0.4406\n",
       "499    0.6173\n",
       "Name: 1460, Length: 500, dtype: float64"
      ]
     },
     "metadata": {},
     "output_type": "display_data"
    },
    {
     "data": {
      "text/plain": [
       "0      0.9286\n",
       "1      0.9589\n",
       "2      0.9500\n",
       "3      0.9286\n",
       "4         NaN\n",
       "        ...  \n",
       "495    0.8812\n",
       "496    0.9022\n",
       "497    0.9203\n",
       "498    0.8798\n",
       "499    0.8705\n",
       "Name: 1461, Length: 500, dtype: float64"
      ]
     },
     "metadata": {},
     "output_type": "display_data"
    },
    {
     "data": {
      "text/plain": [
       "0      0.9137\n",
       "1      0.9778\n",
       "2      0.8269\n",
       "3      0.9915\n",
       "4      0.9662\n",
       "        ...  \n",
       "495    0.8825\n",
       "496    0.9028\n",
       "497    0.8535\n",
       "498    0.7348\n",
       "499    0.7814\n",
       "Name: 1462, Length: 500, dtype: float64"
      ]
     },
     "metadata": {},
     "output_type": "display_data"
    },
    {
     "data": {
      "text/plain": [
       "0         NaN\n",
       "1         NaN\n",
       "2         NaN\n",
       "3         NaN\n",
       "4         NaN\n",
       "        ...  \n",
       "495    0.1164\n",
       "496    0.0765\n",
       "497    0.1039\n",
       "498    0.1006\n",
       "499    0.0646\n",
       "Name: 1463, Length: 500, dtype: float64"
      ]
     },
     "metadata": {},
     "output_type": "display_data"
    },
    {
     "data": {
      "text/plain": [
       "0      0.0000\n",
       "1      0.0000\n",
       "2      0.0000\n",
       "3      0.0000\n",
       "4      0.0000\n",
       "        ...  \n",
       "495    0.0293\n",
       "496    0.0268\n",
       "497    0.0278\n",
       "498    0.0309\n",
       "499    0.0260\n",
       "Name: 1464, Length: 500, dtype: float64"
      ]
     },
     "metadata": {},
     "output_type": "display_data"
    },
    {
     "data": {
      "text/plain": [
       "0      0.3878\n",
       "1      0.2632\n",
       "2      0.3333\n",
       "3         NaN\n",
       "4      0.1842\n",
       "        ...  \n",
       "495    0.1760\n",
       "496    0.3684\n",
       "497    0.4606\n",
       "498    0.3521\n",
       "499    0.5683\n",
       "Name: 1465, Length: 500, dtype: float64"
      ]
     },
     "metadata": {},
     "output_type": "display_data"
    },
    {
     "data": {
      "text/plain": [
       "0      0.0000\n",
       "1      0.0000\n",
       "2      0.0000\n",
       "3      0.0000\n",
       "4      0.0000\n",
       "        ...  \n",
       "495    0.0227\n",
       "496    0.3586\n",
       "497    0.0219\n",
       "498    0.0260\n",
       "499    0.0274\n",
       "Name: 1466, Length: 500, dtype: float64"
      ]
     },
     "metadata": {},
     "output_type": "display_data"
    },
    {
     "data": {
      "text/plain": [
       "0      0.0755\n",
       "1      0.0472\n",
       "2      0.0411\n",
       "3      0.1000\n",
       "4      0.1210\n",
       "        ...  \n",
       "495    0.5137\n",
       "496    0.2836\n",
       "497    0.2833\n",
       "498    0.3291\n",
       "499    0.4891\n",
       "Name: 1467, Length: 500, dtype: float64"
      ]
     },
     "metadata": {},
     "output_type": "display_data"
    },
    {
     "data": {
      "text/plain": [
       "0      0.0000\n",
       "1         NaN\n",
       "2         NaN\n",
       "3      0.0000\n",
       "4      0.0000\n",
       "        ...  \n",
       "495    0.0489\n",
       "496    0.0285\n",
       "497    0.0440\n",
       "498    0.0261\n",
       "499    0.0330\n",
       "Name: 1468, Length: 500, dtype: float64"
      ]
     },
     "metadata": {},
     "output_type": "display_data"
    },
    {
     "data": {
      "text/plain": [
       "0      1.0000\n",
       "1      0.9359\n",
       "2      0.9444\n",
       "3      0.9359\n",
       "4      0.8750\n",
       "        ...  \n",
       "495    0.8815\n",
       "496    0.8791\n",
       "497    0.8675\n",
       "498    0.8587\n",
       "499    0.8531\n",
       "Name: 1469, Length: 500, dtype: float64"
      ]
     },
     "metadata": {},
     "output_type": "display_data"
    },
    {
     "data": {
      "text/plain": [
       "0         NaN\n",
       "1      0.0185\n",
       "2      0.0233\n",
       "3      0.0000\n",
       "4      0.0000\n",
       "        ...  \n",
       "495    0.0443\n",
       "496    0.0417\n",
       "497    0.0357\n",
       "498    0.0351\n",
       "499    0.0380\n",
       "Name: 1470, Length: 500, dtype: float64"
      ]
     },
     "metadata": {},
     "output_type": "display_data"
    },
    {
     "data": {
      "text/plain": [
       "0      0.9703\n",
       "1      0.9932\n",
       "2      0.9932\n",
       "3      0.9780\n",
       "4      0.9758\n",
       "        ...  \n",
       "495    0.9088\n",
       "496    0.9017\n",
       "497    0.9064\n",
       "498    0.8763\n",
       "499    0.8684\n",
       "Name: 1471, Length: 500, dtype: float64"
      ]
     },
     "metadata": {},
     "output_type": "display_data"
    },
    {
     "data": {
      "text/plain": [
       "0      0.0283\n",
       "1      0.0000\n",
       "2      0.0197\n",
       "3      0.0237\n",
       "4      0.0283\n",
       "        ...  \n",
       "495    0.0881\n",
       "496    0.0808\n",
       "497    0.1113\n",
       "498    0.1066\n",
       "499    0.1132\n",
       "Name: 1472, Length: 500, dtype: float64"
      ]
     },
     "metadata": {},
     "output_type": "display_data"
    },
    {
     "data": {
      "text/plain": [
       "0      0.1313\n",
       "1      0.1313\n",
       "2      0.0742\n",
       "3      0.0809\n",
       "4      0.0996\n",
       "        ...  \n",
       "495    0.1005\n",
       "496    0.1458\n",
       "497    0.1674\n",
       "498    0.1005\n",
       "499    0.1665\n",
       "Name: 1473, Length: 500, dtype: float64"
      ]
     },
     "metadata": {},
     "output_type": "display_data"
    },
    {
     "data": {
      "text/plain": [
       "0      0.0000\n",
       "1      0.0000\n",
       "2      0.0179\n",
       "3      0.0000\n",
       "4      0.0000\n",
       "        ...  \n",
       "495    0.0327\n",
       "496    0.0315\n",
       "497    0.0239\n",
       "498    0.0234\n",
       "499    0.0339\n",
       "Name: 1474, Length: 500, dtype: float64"
      ]
     },
     "metadata": {},
     "output_type": "display_data"
    },
    {
     "data": {
      "text/plain": [
       "0     NaN\n",
       "1     NaN\n",
       "2     NaN\n",
       "3     NaN\n",
       "4     NaN\n",
       "       ..\n",
       "495   NaN\n",
       "496   NaN\n",
       "497   NaN\n",
       "498   NaN\n",
       "499   NaN\n",
       "Name: 1475, Length: 500, dtype: float64"
      ]
     },
     "metadata": {},
     "output_type": "display_data"
    },
    {
     "data": {
      "text/plain": [
       "0      0.9444\n",
       "1      0.9492\n",
       "2      0.9259\n",
       "3      0.8684\n",
       "4      0.8333\n",
       "        ...  \n",
       "495       NaN\n",
       "496       NaN\n",
       "497       NaN\n",
       "498       NaN\n",
       "499       NaN\n",
       "Name: 1476, Length: 500, dtype: float64"
      ]
     },
     "metadata": {},
     "output_type": "display_data"
    },
    {
     "data": {
      "text/plain": [
       "0      0.8284\n",
       "1      0.7857\n",
       "2      0.8284\n",
       "3      0.7584\n",
       "4      0.7668\n",
       "        ...  \n",
       "495    0.8450\n",
       "496    0.8213\n",
       "497    0.9185\n",
       "498    0.8782\n",
       "499    0.7373\n",
       "Name: 1477, Length: 500, dtype: float64"
      ]
     },
     "metadata": {},
     "output_type": "display_data"
    },
    {
     "data": {
      "text/plain": [
       "0      0.0489\n",
       "1      0.0235\n",
       "2      0.0396\n",
       "3      0.0224\n",
       "4      0.0532\n",
       "        ...  \n",
       "495    0.1087\n",
       "496    0.1592\n",
       "497    0.1636\n",
       "498    0.1584\n",
       "499    0.1687\n",
       "Name: 1478, Length: 500, dtype: float64"
      ]
     },
     "metadata": {},
     "output_type": "display_data"
    },
    {
     "data": {
      "text/plain": [
       "0      0.0139\n",
       "1      0.0096\n",
       "2      0.0058\n",
       "3      0.0040\n",
       "4      0.0139\n",
       "        ...  \n",
       "495    0.1381\n",
       "496    0.3690\n",
       "497    0.1111\n",
       "498    0.1060\n",
       "499    0.0582\n",
       "Name: 1479, Length: 500, dtype: float64"
      ]
     },
     "metadata": {},
     "output_type": "display_data"
    },
    {
     "data": {
      "text/plain": [
       "0      0.9592\n",
       "1      0.9070\n",
       "2      0.9714\n",
       "3      0.8837\n",
       "4      0.8209\n",
       "        ...  \n",
       "495    0.7874\n",
       "496    0.6272\n",
       "497    0.8652\n",
       "498    0.2051\n",
       "499    0.7550\n",
       "Name: 1480, Length: 500, dtype: float64"
      ]
     },
     "metadata": {},
     "output_type": "display_data"
    },
    {
     "data": {
      "text/plain": [
       "0      0.3824\n",
       "1      0.2063\n",
       "2      0.4754\n",
       "3      0.4500\n",
       "4      0.2469\n",
       "        ...  \n",
       "495    0.3767\n",
       "496    0.2185\n",
       "497    0.5355\n",
       "498    0.4976\n",
       "499    0.3514\n",
       "Name: 1481, Length: 500, dtype: float64"
      ]
     },
     "metadata": {},
     "output_type": "display_data"
    },
    {
     "data": {
      "text/plain": [
       "0      0.9730\n",
       "1      0.8000\n",
       "2      0.8571\n",
       "3      0.9242\n",
       "4      0.8472\n",
       "        ...  \n",
       "495    0.2987\n",
       "496    0.5889\n",
       "497    0.3549\n",
       "498    0.4970\n",
       "499    0.4353\n",
       "Name: 1482, Length: 500, dtype: float64"
      ]
     },
     "metadata": {},
     "output_type": "display_data"
    },
    {
     "data": {
      "text/plain": [
       "0      0.0000\n",
       "1      0.0000\n",
       "2      0.0039\n",
       "3      0.0000\n",
       "4      0.0000\n",
       "        ...  \n",
       "495    0.0211\n",
       "496    0.0227\n",
       "497    0.0248\n",
       "498    0.0268\n",
       "499    0.0245\n",
       "Name: 1483, Length: 500, dtype: float64"
      ]
     },
     "metadata": {},
     "output_type": "display_data"
    },
    {
     "data": {
      "text/plain": [
       "0      0.0034\n",
       "1      0.0000\n",
       "2      0.0032\n",
       "3      0.0034\n",
       "4      0.0026\n",
       "        ...  \n",
       "495    0.0336\n",
       "496    0.0293\n",
       "497    0.0285\n",
       "498    0.0274\n",
       "499    0.0336\n",
       "Name: 1484, Length: 500, dtype: float64"
      ]
     },
     "metadata": {},
     "output_type": "display_data"
    },
    {
     "data": {
      "text/plain": [
       "0      0.9867\n",
       "1      0.9647\n",
       "2      0.9655\n",
       "3      0.9659\n",
       "4      0.9500\n",
       "        ...  \n",
       "495    0.9225\n",
       "496    0.9412\n",
       "497    0.8966\n",
       "498    0.9448\n",
       "499    0.9377\n",
       "Name: 1485, Length: 500, dtype: float64"
      ]
     },
     "metadata": {},
     "output_type": "display_data"
    },
    {
     "data": {
      "text/plain": [
       "0      0.0073\n",
       "1      0.0073\n",
       "2      0.0417\n",
       "3      0.0204\n",
       "4      0.0417\n",
       "        ...  \n",
       "495    0.0615\n",
       "496    0.0518\n",
       "497    0.0552\n",
       "498    0.0414\n",
       "499    0.0522\n",
       "Name: 1486, Length: 500, dtype: float64"
      ]
     },
     "metadata": {},
     "output_type": "display_data"
    },
    {
     "data": {
      "text/plain": [
       "0      0.3837\n",
       "1      0.4640\n",
       "2      0.3840\n",
       "3      0.2711\n",
       "4      0.2512\n",
       "        ...  \n",
       "495    0.1208\n",
       "496    0.2571\n",
       "497    0.3411\n",
       "498    0.4107\n",
       "499    0.3744\n",
       "Name: 1487, Length: 500, dtype: float64"
      ]
     },
     "metadata": {},
     "output_type": "display_data"
    },
    {
     "data": {
      "text/plain": [
       "0      0.0000\n",
       "1      0.0000\n",
       "2      0.0000\n",
       "3      0.0055\n",
       "4      0.0000\n",
       "        ...  \n",
       "495    0.0281\n",
       "496    0.0290\n",
       "497    0.0299\n",
       "498    0.0275\n",
       "499    0.0441\n",
       "Name: 1488, Length: 500, dtype: float64"
      ]
     },
     "metadata": {},
     "output_type": "display_data"
    },
    {
     "data": {
      "text/plain": [
       "0      0.0114\n",
       "1      0.0114\n",
       "2      0.0278\n",
       "3      0.0230\n",
       "4      0.0235\n",
       "        ...  \n",
       "495    0.0507\n",
       "496    0.0598\n",
       "497    0.0708\n",
       "498    0.1201\n",
       "499    0.1130\n",
       "Name: 1489, Length: 500, dtype: float64"
      ]
     },
     "metadata": {},
     "output_type": "display_data"
    },
    {
     "data": {
      "text/plain": [
       "0      0.0370\n",
       "1      0.0625\n",
       "2      0.0777\n",
       "3      0.0667\n",
       "4      0.0491\n",
       "        ...  \n",
       "495    0.0641\n",
       "496    0.3057\n",
       "497    0.0917\n",
       "498    0.0924\n",
       "499    0.0605\n",
       "Name: 1490, Length: 500, dtype: float64"
      ]
     },
     "metadata": {},
     "output_type": "display_data"
    },
    {
     "data": {
      "text/plain": [
       "0      0.0000\n",
       "1      0.0127\n",
       "2      0.0217\n",
       "3      0.0242\n",
       "4      0.0127\n",
       "        ...  \n",
       "495    0.0433\n",
       "496    0.0446\n",
       "497    0.0438\n",
       "498    0.0361\n",
       "499    0.0318\n",
       "Name: 1491, Length: 500, dtype: float64"
      ]
     },
     "metadata": {},
     "output_type": "display_data"
    },
    {
     "data": {
      "text/plain": [
       "0      0.0407\n",
       "1      0.1961\n",
       "2      0.0407\n",
       "3      0.0929\n",
       "4      0.0889\n",
       "        ...  \n",
       "495    0.0432\n",
       "496    0.0796\n",
       "497    0.0528\n",
       "498    0.0490\n",
       "499    0.1105\n",
       "Name: 1492, Length: 500, dtype: float64"
      ]
     },
     "metadata": {},
     "output_type": "display_data"
    },
    {
     "data": {
      "text/plain": [
       "0      0.0000\n",
       "1      0.0000\n",
       "2      0.0000\n",
       "3      0.0000\n",
       "4      0.0000\n",
       "        ...  \n",
       "495    0.0343\n",
       "496    0.0376\n",
       "497    0.0325\n",
       "498    0.0385\n",
       "499    0.0311\n",
       "Name: 1493, Length: 500, dtype: float64"
      ]
     },
     "metadata": {},
     "output_type": "display_data"
    },
    {
     "data": {
      "text/plain": [
       "0      0.2577\n",
       "1      0.2451\n",
       "2      0.2500\n",
       "3      0.1774\n",
       "4      0.1205\n",
       "        ...  \n",
       "495    0.5073\n",
       "496    0.5398\n",
       "497    0.1906\n",
       "498    0.3888\n",
       "499    0.5714\n",
       "Name: 1494, Length: 500, dtype: float64"
      ]
     },
     "metadata": {},
     "output_type": "display_data"
    },
    {
     "data": {
      "text/plain": [
       "0      0.1915\n",
       "1      0.1071\n",
       "2      0.3784\n",
       "3      0.1071\n",
       "4      0.1361\n",
       "        ...  \n",
       "495    0.2480\n",
       "496    0.2536\n",
       "497    0.2189\n",
       "498    0.2268\n",
       "499    0.2362\n",
       "Name: 1495, Length: 500, dtype: float64"
      ]
     },
     "metadata": {},
     "output_type": "display_data"
    },
    {
     "data": {
      "text/plain": [
       "0      0.1009\n",
       "1      0.1031\n",
       "2      0.0823\n",
       "3      0.0916\n",
       "4      0.0704\n",
       "        ...  \n",
       "495    0.4853\n",
       "496    0.2245\n",
       "497    0.2427\n",
       "498    0.5085\n",
       "499    0.1222\n",
       "Name: 1496, Length: 500, dtype: float64"
      ]
     },
     "metadata": {},
     "output_type": "display_data"
    },
    {
     "data": {
      "text/plain": [
       "0      0.5192\n",
       "1      0.5368\n",
       "2      0.4257\n",
       "3      0.5465\n",
       "4      0.5310\n",
       "        ...  \n",
       "495    0.5245\n",
       "496    0.4267\n",
       "497    0.5543\n",
       "498    0.3840\n",
       "499    0.3834\n",
       "Name: 1497, Length: 500, dtype: float64"
      ]
     },
     "metadata": {},
     "output_type": "display_data"
    },
    {
     "data": {
      "text/plain": [
       "0      0.0676\n",
       "1      0.0348\n",
       "2      0.0903\n",
       "3      0.0806\n",
       "4      0.0204\n",
       "        ...  \n",
       "495    0.2791\n",
       "496    0.1434\n",
       "497    0.2496\n",
       "498    0.1737\n",
       "499    0.1046\n",
       "Name: 1498, Length: 500, dtype: float64"
      ]
     },
     "metadata": {},
     "output_type": "display_data"
    },
    {
     "data": {
      "text/plain": [
       "0      0.0611\n",
       "1      0.1098\n",
       "2      0.0571\n",
       "3      0.1098\n",
       "4      0.1466\n",
       "        ...  \n",
       "495    0.3095\n",
       "496    0.2696\n",
       "497    0.4978\n",
       "498    0.4316\n",
       "499    0.3825\n",
       "Name: 1499, Length: 500, dtype: float64"
      ]
     },
     "metadata": {},
     "output_type": "display_data"
    },
    {
     "data": {
      "text/plain": [
       "0      0.0244\n",
       "1      0.0667\n",
       "2      0.0714\n",
       "3      0.0805\n",
       "4      0.0667\n",
       "        ...  \n",
       "495    0.0624\n",
       "496    0.0660\n",
       "497    0.0552\n",
       "498    0.0610\n",
       "499    0.0735\n",
       "Name: 1500, Length: 500, dtype: float64"
      ]
     },
     "metadata": {},
     "output_type": "display_data"
    },
    {
     "data": {
      "text/plain": [
       "0      0.0000\n",
       "1      0.0058\n",
       "2      0.0000\n",
       "3      0.0055\n",
       "4      0.0000\n",
       "        ...  \n",
       "495    0.0197\n",
       "496    0.0199\n",
       "497    0.0209\n",
       "498    0.0206\n",
       "499    0.0179\n",
       "Name: 1501, Length: 500, dtype: float64"
      ]
     },
     "metadata": {},
     "output_type": "display_data"
    },
    {
     "data": {
      "text/plain": [
       "0      0.1159\n",
       "1      0.0698\n",
       "2      0.1667\n",
       "3      0.0882\n",
       "4      0.0595\n",
       "        ...  \n",
       "495    0.3766\n",
       "496    0.3474\n",
       "497    0.4049\n",
       "498    0.2295\n",
       "499    0.4710\n",
       "Name: 1502, Length: 500, dtype: float64"
      ]
     },
     "metadata": {},
     "output_type": "display_data"
    },
    {
     "data": {
      "text/plain": [
       "0      0.0135\n",
       "1      0.0000\n",
       "2      0.0000\n",
       "3      0.0000\n",
       "4         NaN\n",
       "        ...  \n",
       "495    0.0239\n",
       "496    0.0295\n",
       "497    0.0310\n",
       "498    0.0309\n",
       "499    0.0295\n",
       "Name: 1503, Length: 500, dtype: float64"
      ]
     },
     "metadata": {},
     "output_type": "display_data"
    },
    {
     "data": {
      "text/plain": [
       "0      0.0000\n",
       "1      0.0000\n",
       "2      0.0000\n",
       "3      0.0000\n",
       "4      0.0049\n",
       "        ...  \n",
       "495    0.0729\n",
       "496    0.0758\n",
       "497    0.0682\n",
       "498    0.0698\n",
       "499    0.0680\n",
       "Name: 1504, Length: 500, dtype: float64"
      ]
     },
     "metadata": {},
     "output_type": "display_data"
    },
    {
     "data": {
      "text/plain": [
       "0      0.0000\n",
       "1      0.0000\n",
       "2      0.0000\n",
       "3      0.0000\n",
       "4      0.0000\n",
       "        ...  \n",
       "495    0.0303\n",
       "496    0.0348\n",
       "497    0.0304\n",
       "498    0.0391\n",
       "499    0.0236\n",
       "Name: 1505, Length: 500, dtype: float64"
      ]
     },
     "metadata": {},
     "output_type": "display_data"
    },
    {
     "data": {
      "text/plain": [
       "0      0.0175\n",
       "1      0.0120\n",
       "2      0.0000\n",
       "3      0.0000\n",
       "4      0.0120\n",
       "        ...  \n",
       "495    0.1513\n",
       "496    0.0532\n",
       "497    0.0627\n",
       "498    0.0703\n",
       "499    0.0473\n",
       "Name: 1506, Length: 500, dtype: float64"
      ]
     },
     "metadata": {},
     "output_type": "display_data"
    },
    {
     "data": {
      "text/plain": [
       "0      0.0000\n",
       "1      0.0000\n",
       "2      0.0000\n",
       "3      0.0000\n",
       "4      0.0000\n",
       "        ...  \n",
       "495    0.0449\n",
       "496    0.0340\n",
       "497    0.0406\n",
       "498    0.0351\n",
       "499    0.0348\n",
       "Name: 1507, Length: 500, dtype: float64"
      ]
     },
     "metadata": {},
     "output_type": "display_data"
    },
    {
     "data": {
      "text/plain": [
       "0      0.0000\n",
       "1      0.0000\n",
       "2      0.0000\n",
       "3      0.0000\n",
       "4      0.0189\n",
       "        ...  \n",
       "495    0.0383\n",
       "496    0.0271\n",
       "497    0.0367\n",
       "498    0.0339\n",
       "499    0.0318\n",
       "Name: 1508, Length: 500, dtype: float64"
      ]
     },
     "metadata": {},
     "output_type": "display_data"
    },
    {
     "data": {
      "text/plain": [
       "0      0.0000\n",
       "1      0.0000\n",
       "2      0.0000\n",
       "3      0.0000\n",
       "4      0.0000\n",
       "        ...  \n",
       "495    0.0339\n",
       "496    0.0345\n",
       "497    0.0315\n",
       "498    0.0316\n",
       "499    0.0322\n",
       "Name: 1509, Length: 500, dtype: float64"
      ]
     },
     "metadata": {},
     "output_type": "display_data"
    },
    {
     "data": {
      "text/plain": [
       "0      0.0938\n",
       "1      0.0357\n",
       "2         NaN\n",
       "3      0.0000\n",
       "4         NaN\n",
       "        ...  \n",
       "495    0.2855\n",
       "496    0.1627\n",
       "497    0.5228\n",
       "498    0.3473\n",
       "499    0.5407\n",
       "Name: 1510, Length: 500, dtype: float64"
      ]
     },
     "metadata": {},
     "output_type": "display_data"
    },
    {
     "data": {
      "text/plain": [
       "0      0.0093\n",
       "1      0.0133\n",
       "2      0.0000\n",
       "3      0.0000\n",
       "4      0.0000\n",
       "        ...  \n",
       "495    0.0295\n",
       "496    0.0350\n",
       "497    0.0356\n",
       "498    0.0309\n",
       "499    0.0351\n",
       "Name: 1511, Length: 500, dtype: float64"
      ]
     },
     "metadata": {},
     "output_type": "display_data"
    },
    {
     "data": {
      "text/plain": [
       "0      0.4793\n",
       "1      0.2500\n",
       "2      0.3768\n",
       "3      0.3833\n",
       "4      0.3407\n",
       "        ...  \n",
       "495    0.3446\n",
       "496    0.3941\n",
       "497    0.4422\n",
       "498    0.2779\n",
       "499    0.3200\n",
       "Name: 1512, Length: 500, dtype: float64"
      ]
     },
     "metadata": {},
     "output_type": "display_data"
    },
    {
     "data": {
      "text/plain": [
       "0      0.0600\n",
       "1      0.0000\n",
       "2      0.0000\n",
       "3      0.0323\n",
       "4      0.0286\n",
       "        ...  \n",
       "495    0.0637\n",
       "496    0.0624\n",
       "497    0.0400\n",
       "498    0.0968\n",
       "499    0.1309\n",
       "Name: 1513, Length: 500, dtype: float64"
      ]
     },
     "metadata": {},
     "output_type": "display_data"
    },
    {
     "data": {
      "text/plain": [
       "0      0.0312\n",
       "1      0.0571\n",
       "2      0.0656\n",
       "3      0.0179\n",
       "4      0.0484\n",
       "        ...  \n",
       "495    0.3541\n",
       "496    0.3590\n",
       "497    0.2716\n",
       "498    0.2234\n",
       "499    0.2281\n",
       "Name: 1514, Length: 500, dtype: float64"
      ]
     },
     "metadata": {},
     "output_type": "display_data"
    },
    {
     "data": {
      "text/plain": [
       "0      0.0588\n",
       "1      0.1358\n",
       "2      0.1386\n",
       "3      0.0115\n",
       "4      0.0588\n",
       "        ...  \n",
       "495    0.0517\n",
       "496    0.0727\n",
       "497    0.0385\n",
       "498    0.0460\n",
       "499    0.0517\n",
       "Name: 1515, Length: 500, dtype: float64"
      ]
     },
     "metadata": {},
     "output_type": "display_data"
    },
    {
     "data": {
      "text/plain": [
       "0      0.0435\n",
       "1      0.0943\n",
       "2      0.0706\n",
       "3      0.0192\n",
       "4      0.0323\n",
       "        ...  \n",
       "495    0.1788\n",
       "496    0.2146\n",
       "497    0.2278\n",
       "498    0.5614\n",
       "499    0.3876\n",
       "Name: 1516, Length: 500, dtype: float64"
      ]
     },
     "metadata": {},
     "output_type": "display_data"
    },
    {
     "data": {
      "text/plain": [
       "0      0.0161\n",
       "1      0.0000\n",
       "2      0.0000\n",
       "3      0.0000\n",
       "4      0.0085\n",
       "        ...  \n",
       "495    0.0326\n",
       "496    0.0394\n",
       "497    0.0366\n",
       "498    0.0333\n",
       "499    0.0362\n",
       "Name: 1517, Length: 500, dtype: float64"
      ]
     },
     "metadata": {},
     "output_type": "display_data"
    },
    {
     "data": {
      "text/plain": [
       "0      0.0000\n",
       "1      0.0000\n",
       "2      0.0000\n",
       "3      0.0000\n",
       "4      0.0022\n",
       "        ...  \n",
       "495       NaN\n",
       "496       NaN\n",
       "497       NaN\n",
       "498       NaN\n",
       "499       NaN\n",
       "Name: 1518, Length: 500, dtype: float64"
      ]
     },
     "metadata": {},
     "output_type": "display_data"
    },
    {
     "data": {
      "text/plain": [
       "0      0.1111\n",
       "1      0.1725\n",
       "2      0.1758\n",
       "3      0.1344\n",
       "4      0.1676\n",
       "        ...  \n",
       "495    0.1692\n",
       "496    0.2358\n",
       "497    0.1099\n",
       "498    0.3240\n",
       "499    0.2555\n",
       "Name: 1519, Length: 500, dtype: float64"
      ]
     },
     "metadata": {},
     "output_type": "display_data"
    },
    {
     "data": {
      "text/plain": [
       "0      0.2110\n",
       "1      0.0673\n",
       "2      0.0900\n",
       "3      0.0900\n",
       "4      0.0784\n",
       "        ...  \n",
       "495    0.4209\n",
       "496    0.3689\n",
       "497    0.2344\n",
       "498    0.4852\n",
       "499    0.2816\n",
       "Name: 1520, Length: 500, dtype: float64"
      ]
     },
     "metadata": {},
     "output_type": "display_data"
    },
    {
     "data": {
      "text/plain": [
       "0      0.1045\n",
       "1      0.0312\n",
       "2      0.0684\n",
       "3      0.0684\n",
       "4      0.0909\n",
       "        ...  \n",
       "495    0.5608\n",
       "496    0.4306\n",
       "497    0.4164\n",
       "498    0.3940\n",
       "499    0.2047\n",
       "Name: 1521, Length: 500, dtype: float64"
      ]
     },
     "metadata": {},
     "output_type": "display_data"
    },
    {
     "data": {
      "text/plain": [
       "0      0.1423\n",
       "1      0.1128\n",
       "2      0.1416\n",
       "3      0.1035\n",
       "4      0.0864\n",
       "        ...  \n",
       "495    0.3045\n",
       "496    0.1551\n",
       "497    0.2781\n",
       "498    0.3802\n",
       "499    0.2425\n",
       "Name: 1522, Length: 500, dtype: float64"
      ]
     },
     "metadata": {},
     "output_type": "display_data"
    },
    {
     "data": {
      "text/plain": [
       "0      0.0339\n",
       "1      0.0339\n",
       "2      0.0976\n",
       "3      0.0700\n",
       "4         NaN\n",
       "        ...  \n",
       "495    0.2070\n",
       "496    0.3482\n",
       "497    0.0668\n",
       "498    0.0414\n",
       "499    0.0635\n",
       "Name: 1523, Length: 500, dtype: float64"
      ]
     },
     "metadata": {},
     "output_type": "display_data"
    },
    {
     "data": {
      "text/plain": [
       "0      0.3924\n",
       "1      0.4306\n",
       "2      0.4286\n",
       "3      0.4024\n",
       "4      0.4237\n",
       "        ...  \n",
       "495    0.3408\n",
       "496    0.6869\n",
       "497    0.3705\n",
       "498    0.4331\n",
       "499    0.3232\n",
       "Name: 1524, Length: 500, dtype: float64"
      ]
     },
     "metadata": {},
     "output_type": "display_data"
    },
    {
     "data": {
      "text/plain": [
       "0      0.0000\n",
       "1      0.0060\n",
       "2      0.0100\n",
       "3      0.0045\n",
       "4      0.0000\n",
       "        ...  \n",
       "495    0.0474\n",
       "496    0.1428\n",
       "497    0.0444\n",
       "498    0.0624\n",
       "499    0.1973\n",
       "Name: 1525, Length: 500, dtype: float64"
      ]
     },
     "metadata": {},
     "output_type": "display_data"
    },
    {
     "data": {
      "text/plain": [
       "0      0.9388\n",
       "1      0.9600\n",
       "2      0.9253\n",
       "3      0.9172\n",
       "4      0.9699\n",
       "        ...  \n",
       "495    0.7297\n",
       "496    0.7140\n",
       "497    0.7023\n",
       "498    0.7180\n",
       "499    0.7600\n",
       "Name: 1526, Length: 500, dtype: float64"
      ]
     },
     "metadata": {},
     "output_type": "display_data"
    },
    {
     "data": {
      "text/plain": [
       "0      0.2212\n",
       "1      0.5133\n",
       "2      0.5172\n",
       "3      0.5172\n",
       "4      0.1456\n",
       "        ...  \n",
       "495    0.2790\n",
       "496    0.1668\n",
       "497    0.1278\n",
       "498    0.5513\n",
       "499    0.2325\n",
       "Name: 1527, Length: 500, dtype: float64"
      ]
     },
     "metadata": {},
     "output_type": "display_data"
    },
    {
     "data": {
      "text/plain": [
       "0      0.0179\n",
       "1      0.0498\n",
       "2      0.0194\n",
       "3      0.0194\n",
       "4      0.0593\n",
       "        ...  \n",
       "495    0.2045\n",
       "496    0.0798\n",
       "497    0.1542\n",
       "498    0.0590\n",
       "499    0.0981\n",
       "Name: 1528, Length: 500, dtype: float64"
      ]
     },
     "metadata": {},
     "output_type": "display_data"
    },
    {
     "data": {
      "text/plain": [
       "0      0.0357\n",
       "1      0.0635\n",
       "2      0.1575\n",
       "3      0.0560\n",
       "4      0.0423\n",
       "        ...  \n",
       "495    0.3609\n",
       "496    0.1662\n",
       "497    0.1258\n",
       "498    0.0723\n",
       "499    0.2897\n",
       "Name: 1529, Length: 500, dtype: float64"
      ]
     },
     "metadata": {},
     "output_type": "display_data"
    },
    {
     "data": {
      "text/plain": [
       "0      0.0075\n",
       "1      0.0284\n",
       "2      0.0169\n",
       "3      0.0000\n",
       "4      0.0000\n",
       "        ...  \n",
       "495    0.1097\n",
       "496    0.1549\n",
       "497    0.1097\n",
       "498    0.1750\n",
       "499    0.1066\n",
       "Name: 1530, Length: 500, dtype: float64"
      ]
     },
     "metadata": {},
     "output_type": "display_data"
    },
    {
     "data": {
      "text/plain": [
       "0      0.0123\n",
       "1      0.0000\n",
       "2      0.0000\n",
       "3      0.0135\n",
       "4      0.0123\n",
       "        ...  \n",
       "495    0.0353\n",
       "496    0.0358\n",
       "497    0.0408\n",
       "498    0.0455\n",
       "499    0.0468\n",
       "Name: 1531, Length: 500, dtype: float64"
      ]
     },
     "metadata": {},
     "output_type": "display_data"
    },
    {
     "data": {
      "text/plain": [
       "0      0.0000\n",
       "1      0.0000\n",
       "2      0.0000\n",
       "3      0.0000\n",
       "4      0.0000\n",
       "        ...  \n",
       "495    0.0628\n",
       "496    0.0521\n",
       "497    0.0328\n",
       "498    0.0356\n",
       "499    0.0334\n",
       "Name: 1532, Length: 500, dtype: float64"
      ]
     },
     "metadata": {},
     "output_type": "display_data"
    },
    {
     "data": {
      "text/plain": [
       "0      0.0189\n",
       "1      0.0000\n",
       "2      0.0000\n",
       "3      0.0096\n",
       "4      0.0046\n",
       "        ...  \n",
       "495    0.0839\n",
       "496    0.0810\n",
       "497    0.0897\n",
       "498    0.0774\n",
       "499    0.0763\n",
       "Name: 1533, Length: 500, dtype: float64"
      ]
     },
     "metadata": {},
     "output_type": "display_data"
    },
    {
     "data": {
      "text/plain": [
       "0      0.8101\n",
       "1      0.9100\n",
       "2      0.9362\n",
       "3      0.8545\n",
       "4      0.9121\n",
       "        ...  \n",
       "495    0.4805\n",
       "496    0.3064\n",
       "497    0.5825\n",
       "498    0.5005\n",
       "499    0.4347\n",
       "Name: 1534, Length: 500, dtype: float64"
      ]
     },
     "metadata": {},
     "output_type": "display_data"
    },
    {
     "data": {
      "text/plain": [
       "0      0.0000\n",
       "1      0.0000\n",
       "2      0.0000\n",
       "3         NaN\n",
       "4      0.0000\n",
       "        ...  \n",
       "495    0.0752\n",
       "496    0.0490\n",
       "497    0.0629\n",
       "498    0.0408\n",
       "499    0.0427\n",
       "Name: 1535, Length: 500, dtype: float64"
      ]
     },
     "metadata": {},
     "output_type": "display_data"
    },
    {
     "data": {
      "text/plain": [
       "0      0.0000\n",
       "1      0.0000\n",
       "2      0.0000\n",
       "3      0.0000\n",
       "4      0.0000\n",
       "        ...  \n",
       "495    0.0220\n",
       "496    0.0294\n",
       "497    0.0273\n",
       "498    0.0304\n",
       "499    0.0297\n",
       "Name: 1536, Length: 500, dtype: float64"
      ]
     },
     "metadata": {},
     "output_type": "display_data"
    },
    {
     "data": {
      "text/plain": [
       "0         NaN\n",
       "1      0.6216\n",
       "2         NaN\n",
       "3         NaN\n",
       "4      0.8776\n",
       "        ...  \n",
       "495       NaN\n",
       "496       NaN\n",
       "497       NaN\n",
       "498       NaN\n",
       "499       NaN\n",
       "Name: 1537, Length: 500, dtype: float64"
      ]
     },
     "metadata": {},
     "output_type": "display_data"
    },
    {
     "data": {
      "text/plain": [
       "0      0.0000\n",
       "1      0.0000\n",
       "2      0.0000\n",
       "3      0.0000\n",
       "4      0.0000\n",
       "        ...  \n",
       "495    0.0288\n",
       "496    0.0300\n",
       "497    0.0296\n",
       "498    0.0299\n",
       "499    0.0248\n",
       "Name: 1538, Length: 500, dtype: float64"
      ]
     },
     "metadata": {},
     "output_type": "display_data"
    },
    {
     "data": {
      "text/plain": [
       "0      0.2766\n",
       "1      0.5094\n",
       "2      0.1560\n",
       "3      0.2483\n",
       "4      0.2540\n",
       "        ...  \n",
       "495    0.6705\n",
       "496    0.6169\n",
       "497    0.5014\n",
       "498    0.5765\n",
       "499    0.2164\n",
       "Name: 1539, Length: 500, dtype: float64"
      ]
     },
     "metadata": {},
     "output_type": "display_data"
    },
    {
     "data": {
      "text/plain": [
       "0      0.4091\n",
       "1      0.4524\n",
       "2      0.4444\n",
       "3      0.6604\n",
       "4      0.2778\n",
       "        ...  \n",
       "495    0.1744\n",
       "496    0.4131\n",
       "497    0.4979\n",
       "498    0.7657\n",
       "499    0.0648\n",
       "Name: 1540, Length: 500, dtype: float64"
      ]
     },
     "metadata": {},
     "output_type": "display_data"
    },
    {
     "data": {
      "text/plain": [
       "0      0.0039\n",
       "1      0.0000\n",
       "2      0.0000\n",
       "3      0.0000\n",
       "4      0.0027\n",
       "        ...  \n",
       "495    0.0617\n",
       "496    0.0804\n",
       "497    0.0687\n",
       "498    0.0508\n",
       "499    0.0486\n",
       "Name: 1541, Length: 500, dtype: float64"
      ]
     },
     "metadata": {},
     "output_type": "display_data"
    },
    {
     "data": {
      "text/plain": [
       "0      0.9286\n",
       "1         NaN\n",
       "2         NaN\n",
       "3      0.9286\n",
       "4         NaN\n",
       "        ...  \n",
       "495    0.8595\n",
       "496    0.9268\n",
       "497    0.8425\n",
       "498    0.5054\n",
       "499    0.8735\n",
       "Name: 1542, Length: 500, dtype: float64"
      ]
     },
     "metadata": {},
     "output_type": "display_data"
    },
    {
     "data": {
      "text/plain": [
       "0      0.0286\n",
       "1      0.0150\n",
       "2      0.0090\n",
       "3      0.0083\n",
       "4      0.0000\n",
       "        ...  \n",
       "495    0.0580\n",
       "496    0.0837\n",
       "497    0.0829\n",
       "498    0.1046\n",
       "499    0.0561\n",
       "Name: 1543, Length: 500, dtype: float64"
      ]
     },
     "metadata": {},
     "output_type": "display_data"
    },
    {
     "data": {
      "text/plain": [
       "0      0.0130\n",
       "1      0.0121\n",
       "2      0.0226\n",
       "3      0.0233\n",
       "4      0.0068\n",
       "        ...  \n",
       "495    0.0404\n",
       "496    0.0457\n",
       "497    0.0325\n",
       "498    0.0401\n",
       "499    0.0486\n",
       "Name: 1544, Length: 500, dtype: float64"
      ]
     },
     "metadata": {},
     "output_type": "display_data"
    },
    {
     "data": {
      "text/plain": [
       "0      0.7010\n",
       "1      0.6333\n",
       "2      0.7500\n",
       "3      0.6260\n",
       "4      0.2703\n",
       "        ...  \n",
       "495    0.3743\n",
       "496    0.5982\n",
       "497    0.4783\n",
       "498    0.6898\n",
       "499    0.8025\n",
       "Name: 1545, Length: 500, dtype: float64"
      ]
     },
     "metadata": {},
     "output_type": "display_data"
    },
    {
     "data": {
      "text/plain": [
       "0         NaN\n",
       "1         NaN\n",
       "2         NaN\n",
       "3         NaN\n",
       "4         NaN\n",
       "        ...  \n",
       "495    0.9428\n",
       "496    0.8046\n",
       "497    0.8976\n",
       "498    0.8816\n",
       "499    0.8966\n",
       "Name: 1546, Length: 500, dtype: float64"
      ]
     },
     "metadata": {},
     "output_type": "display_data"
    },
    {
     "data": {
      "text/plain": [
       "0      0.0000\n",
       "1      0.0061\n",
       "2      0.0061\n",
       "3      0.0079\n",
       "4      0.0000\n",
       "        ...  \n",
       "495    0.0305\n",
       "496    0.0299\n",
       "497    0.0192\n",
       "498    0.0369\n",
       "499    0.0274\n",
       "Name: 1547, Length: 500, dtype: float64"
      ]
     },
     "metadata": {},
     "output_type": "display_data"
    },
    {
     "data": {
      "text/plain": [
       "0      0.0294\n",
       "1      0.0000\n",
       "2      0.0152\n",
       "3      0.1000\n",
       "4      0.0152\n",
       "        ...  \n",
       "495    0.0887\n",
       "496    0.2535\n",
       "497    0.1666\n",
       "498    0.2293\n",
       "499    0.1483\n",
       "Name: 1548, Length: 500, dtype: float64"
      ]
     },
     "metadata": {},
     "output_type": "display_data"
    },
    {
     "data": {
      "text/plain": [
       "0      0.0175\n",
       "1      0.0213\n",
       "2      0.0370\n",
       "3      0.0000\n",
       "4         NaN\n",
       "        ...  \n",
       "495    0.1725\n",
       "496    0.2495\n",
       "497    0.2797\n",
       "498    0.2447\n",
       "499    0.0777\n",
       "Name: 1549, Length: 500, dtype: float64"
      ]
     },
     "metadata": {},
     "output_type": "display_data"
    },
    {
     "data": {
      "text/plain": [
       "0      0.0213\n",
       "1      0.0095\n",
       "2      0.0213\n",
       "3      0.0000\n",
       "4      0.0000\n",
       "        ...  \n",
       "495    0.0315\n",
       "496    0.0393\n",
       "497    0.0372\n",
       "498    0.0321\n",
       "499    0.0361\n",
       "Name: 1550, Length: 500, dtype: float64"
      ]
     },
     "metadata": {},
     "output_type": "display_data"
    },
    {
     "data": {
      "text/plain": [
       "0     NaN\n",
       "1     NaN\n",
       "2     NaN\n",
       "3     NaN\n",
       "4     NaN\n",
       "       ..\n",
       "495   NaN\n",
       "496   NaN\n",
       "497   NaN\n",
       "498   NaN\n",
       "499   NaN\n",
       "Name: 1551, Length: 500, dtype: float64"
      ]
     },
     "metadata": {},
     "output_type": "display_data"
    },
    {
     "data": {
      "text/plain": [
       "0      0.0142\n",
       "1      0.0278\n",
       "2      0.0819\n",
       "3      0.0144\n",
       "4      0.0254\n",
       "        ...  \n",
       "495    0.0633\n",
       "496    0.0916\n",
       "497    0.2197\n",
       "498    0.1300\n",
       "499    0.0625\n",
       "Name: 1552, Length: 500, dtype: float64"
      ]
     },
     "metadata": {},
     "output_type": "display_data"
    },
    {
     "data": {
      "text/plain": [
       "0      0.0809\n",
       "1      0.0324\n",
       "2      0.0612\n",
       "3      0.0625\n",
       "4      0.0591\n",
       "        ...  \n",
       "495    0.0455\n",
       "496    0.0535\n",
       "497    0.0399\n",
       "498    0.0980\n",
       "499    0.0342\n",
       "Name: 1553, Length: 500, dtype: float64"
      ]
     },
     "metadata": {},
     "output_type": "display_data"
    },
    {
     "data": {
      "text/plain": [
       "0      0.0000\n",
       "1      0.0091\n",
       "2      0.0064\n",
       "3      0.0068\n",
       "4      0.0064\n",
       "        ...  \n",
       "495    0.0489\n",
       "496    0.0522\n",
       "497    0.0956\n",
       "498    0.0620\n",
       "499    0.0452\n",
       "Name: 1554, Length: 500, dtype: float64"
      ]
     },
     "metadata": {},
     "output_type": "display_data"
    },
    {
     "data": {
      "text/plain": [
       "0         NaN\n",
       "1         NaN\n",
       "2      0.9429\n",
       "3         NaN\n",
       "4         NaN\n",
       "        ...  \n",
       "495    0.6793\n",
       "496    0.7273\n",
       "497    0.6644\n",
       "498    0.6090\n",
       "499    0.5667\n",
       "Name: 1555, Length: 500, dtype: float64"
      ]
     },
     "metadata": {},
     "output_type": "display_data"
    },
    {
     "data": {
      "text/plain": [
       "0      0.0000\n",
       "1      0.0000\n",
       "2      0.0000\n",
       "3      0.0045\n",
       "4      0.0000\n",
       "        ...  \n",
       "495    0.0223\n",
       "496    0.0219\n",
       "497    0.0231\n",
       "498    0.0217\n",
       "499    0.0263\n",
       "Name: 1556, Length: 500, dtype: float64"
      ]
     },
     "metadata": {},
     "output_type": "display_data"
    },
    {
     "data": {
      "text/plain": [
       "0      0.0484\n",
       "1      0.0610\n",
       "2      0.0441\n",
       "3      0.0278\n",
       "4      0.0820\n",
       "        ...  \n",
       "495    0.1905\n",
       "496    0.2107\n",
       "497    0.1006\n",
       "498    0.0601\n",
       "499    0.1166\n",
       "Name: 1557, Length: 500, dtype: float64"
      ]
     },
     "metadata": {},
     "output_type": "display_data"
    },
    {
     "data": {
      "text/plain": [
       "0      0.6852\n",
       "1      0.6667\n",
       "2      0.7642\n",
       "3      0.8722\n",
       "4      0.7642\n",
       "        ...  \n",
       "495    0.9260\n",
       "496    0.7619\n",
       "497    0.8963\n",
       "498    0.7504\n",
       "499    0.7974\n",
       "Name: 1558, Length: 500, dtype: float64"
      ]
     },
     "metadata": {},
     "output_type": "display_data"
    },
    {
     "data": {
      "text/plain": [
       "0      0.0263\n",
       "1      0.0163\n",
       "2      0.0066\n",
       "3      0.0112\n",
       "4      0.0505\n",
       "        ...  \n",
       "495    0.0551\n",
       "496    0.0327\n",
       "497    0.0509\n",
       "498    0.0444\n",
       "499    0.0470\n",
       "Name: 1559, Length: 500, dtype: float64"
      ]
     },
     "metadata": {},
     "output_type": "display_data"
    },
    {
     "data": {
      "text/plain": [
       "0      0.0000\n",
       "1      0.0000\n",
       "2      0.0000\n",
       "3      0.0000\n",
       "4      0.0000\n",
       "        ...  \n",
       "495    0.0418\n",
       "496    0.0441\n",
       "497    0.0379\n",
       "498    0.0361\n",
       "499    0.0338\n",
       "Name: 1560, Length: 500, dtype: float64"
      ]
     },
     "metadata": {},
     "output_type": "display_data"
    },
    {
     "data": {
      "text/plain": [
       "0      0.0000\n",
       "1      0.0000\n",
       "2      0.0000\n",
       "3      0.0000\n",
       "4      0.0000\n",
       "        ...  \n",
       "495    0.0248\n",
       "496    0.0248\n",
       "497    0.0320\n",
       "498    0.0345\n",
       "499    0.0315\n",
       "Name: 1561, Length: 500, dtype: float64"
      ]
     },
     "metadata": {},
     "output_type": "display_data"
    },
    {
     "data": {
      "text/plain": [
       "0      0.0000\n",
       "1      0.0000\n",
       "2      0.0000\n",
       "3      0.0000\n",
       "4      0.0000\n",
       "        ...  \n",
       "495    0.0527\n",
       "496    0.0515\n",
       "497    0.0463\n",
       "498    0.0569\n",
       "499    0.0499\n",
       "Name: 1562, Length: 500, dtype: float64"
      ]
     },
     "metadata": {},
     "output_type": "display_data"
    },
    {
     "data": {
      "text/plain": [
       "0      0.0000\n",
       "1      0.0000\n",
       "2      0.0000\n",
       "3      0.0000\n",
       "4      0.0000\n",
       "        ...  \n",
       "495    0.0556\n",
       "496    0.1218\n",
       "497    0.0382\n",
       "498    0.0747\n",
       "499    0.0500\n",
       "Name: 1563, Length: 500, dtype: float64"
      ]
     },
     "metadata": {},
     "output_type": "display_data"
    },
    {
     "data": {
      "text/plain": [
       "0      0.5467\n",
       "1      0.6570\n",
       "2      0.5160\n",
       "3      0.6570\n",
       "4      0.6180\n",
       "        ...  \n",
       "495    0.6556\n",
       "496    0.7098\n",
       "497    0.7098\n",
       "498    0.8118\n",
       "499    0.5693\n",
       "Name: 1564, Length: 500, dtype: float64"
      ]
     },
     "metadata": {},
     "output_type": "display_data"
    },
    {
     "data": {
      "text/plain": [
       "0      0.0435\n",
       "1      0.0263\n",
       "2      0.0641\n",
       "3      0.0175\n",
       "4         NaN\n",
       "        ...  \n",
       "495    0.0293\n",
       "496    0.0233\n",
       "497    0.0277\n",
       "498    0.0266\n",
       "499    0.0307\n",
       "Name: 1565, Length: 500, dtype: float64"
      ]
     },
     "metadata": {},
     "output_type": "display_data"
    },
    {
     "data": {
      "text/plain": [
       "0      0.0000\n",
       "1      0.0000\n",
       "2      0.0000\n",
       "3      0.0000\n",
       "4      0.0000\n",
       "        ...  \n",
       "495    0.0484\n",
       "496    0.0554\n",
       "497    0.0624\n",
       "498    0.0639\n",
       "499    0.0692\n",
       "Name: 1566, Length: 500, dtype: float64"
      ]
     },
     "metadata": {},
     "output_type": "display_data"
    },
    {
     "data": {
      "text/plain": [
       "0      0.0000\n",
       "1      0.0000\n",
       "2      0.0000\n",
       "3      0.0000\n",
       "4      0.0073\n",
       "        ...  \n",
       "495    0.0268\n",
       "496    0.0423\n",
       "497    0.0283\n",
       "498    0.0321\n",
       "499    0.0209\n",
       "Name: 1567, Length: 500, dtype: float64"
      ]
     },
     "metadata": {},
     "output_type": "display_data"
    },
    {
     "data": {
      "text/plain": [
       "0      0.0000\n",
       "1      0.0077\n",
       "2      0.0104\n",
       "3      0.0000\n",
       "4      0.0077\n",
       "        ...  \n",
       "495    0.0481\n",
       "496    0.0365\n",
       "497    0.0435\n",
       "498    0.0400\n",
       "499    0.0396\n",
       "Name: 1568, Length: 500, dtype: float64"
      ]
     },
     "metadata": {},
     "output_type": "display_data"
    },
    {
     "data": {
      "text/plain": [
       "0      0.9684\n",
       "1      0.9615\n",
       "2      0.9070\n",
       "3      0.6622\n",
       "4      0.9531\n",
       "        ...  \n",
       "495    0.8412\n",
       "496    0.8575\n",
       "497    0.8288\n",
       "498    0.8197\n",
       "499    0.7629\n",
       "Name: 1569, Length: 500, dtype: float64"
      ]
     },
     "metadata": {},
     "output_type": "display_data"
    },
    {
     "data": {
      "text/plain": [
       "0      0.0175\n",
       "1      0.0068\n",
       "2         NaN\n",
       "3      0.0068\n",
       "4         NaN\n",
       "        ...  \n",
       "495    0.0238\n",
       "496    0.0225\n",
       "497    0.0272\n",
       "498    0.0191\n",
       "499    0.0232\n",
       "Name: 1570, Length: 500, dtype: float64"
      ]
     },
     "metadata": {},
     "output_type": "display_data"
    },
    {
     "data": {
      "text/plain": [
       "0      0.0133\n",
       "1      0.0108\n",
       "2      0.0000\n",
       "3      0.0270\n",
       "4      0.0324\n",
       "        ...  \n",
       "495    0.1092\n",
       "496    0.0698\n",
       "497    0.0881\n",
       "498    0.0688\n",
       "499    0.0866\n",
       "Name: 1571, Length: 500, dtype: float64"
      ]
     },
     "metadata": {},
     "output_type": "display_data"
    },
    {
     "data": {
      "text/plain": [
       "0      0.0649\n",
       "1      0.1003\n",
       "2      0.1027\n",
       "3      0.1028\n",
       "4      0.0754\n",
       "        ...  \n",
       "495    0.1798\n",
       "496    0.1395\n",
       "497    0.1369\n",
       "498    0.0984\n",
       "499    0.2215\n",
       "Name: 1572, Length: 500, dtype: float64"
      ]
     },
     "metadata": {},
     "output_type": "display_data"
    },
    {
     "data": {
      "text/plain": [
       "0      0.0000\n",
       "1      0.0000\n",
       "2      0.0000\n",
       "3      0.0000\n",
       "4      0.0000\n",
       "        ...  \n",
       "495    0.0278\n",
       "496    0.0274\n",
       "497    0.0308\n",
       "498    0.0369\n",
       "499    0.0304\n",
       "Name: 1573, Length: 500, dtype: float64"
      ]
     },
     "metadata": {},
     "output_type": "display_data"
    },
    {
     "data": {
      "text/plain": [
       "0      0.0086\n",
       "1      0.0000\n",
       "2      0.0000\n",
       "3      0.0000\n",
       "4      0.0000\n",
       "        ...  \n",
       "495    0.0586\n",
       "496    0.0595\n",
       "497    0.0519\n",
       "498    0.0693\n",
       "499    0.0491\n",
       "Name: 1574, Length: 500, dtype: float64"
      ]
     },
     "metadata": {},
     "output_type": "display_data"
    },
    {
     "data": {
      "text/plain": [
       "0      0.0000\n",
       "1      0.0000\n",
       "2      0.0000\n",
       "3      0.0000\n",
       "4      0.0053\n",
       "        ...  \n",
       "495    0.0411\n",
       "496    0.0320\n",
       "497    0.0467\n",
       "498    0.0370\n",
       "499    0.0354\n",
       "Name: 1575, Length: 500, dtype: float64"
      ]
     },
     "metadata": {},
     "output_type": "display_data"
    },
    {
     "data": {
      "text/plain": [
       "0      0.0000\n",
       "1      0.0000\n",
       "2      0.0000\n",
       "3      0.0000\n",
       "4      0.0000\n",
       "        ...  \n",
       "495    0.0279\n",
       "496    0.0308\n",
       "497    0.0273\n",
       "498    0.0245\n",
       "499    0.0288\n",
       "Name: 1576, Length: 500, dtype: float64"
      ]
     },
     "metadata": {},
     "output_type": "display_data"
    },
    {
     "data": {
      "text/plain": [
       "0      0.0097\n",
       "1      0.0000\n",
       "2      0.0000\n",
       "3      0.0000\n",
       "4      0.0000\n",
       "        ...  \n",
       "495    0.0280\n",
       "496    0.0314\n",
       "497    0.0287\n",
       "498    0.0254\n",
       "499    0.0307\n",
       "Name: 1577, Length: 500, dtype: float64"
      ]
     },
     "metadata": {},
     "output_type": "display_data"
    },
    {
     "data": {
      "text/plain": [
       "0         NaN\n",
       "1      0.0000\n",
       "2      0.0147\n",
       "3      0.0851\n",
       "4      0.0204\n",
       "        ...  \n",
       "495    0.0335\n",
       "496    0.0510\n",
       "497    0.0491\n",
       "498    0.0462\n",
       "499    0.0431\n",
       "Name: 1578, Length: 500, dtype: float64"
      ]
     },
     "metadata": {},
     "output_type": "display_data"
    },
    {
     "data": {
      "text/plain": [
       "0      0.0031\n",
       "1      0.0028\n",
       "2      0.0049\n",
       "3      0.0028\n",
       "4      0.0095\n",
       "        ...  \n",
       "495    0.0355\n",
       "496    0.0582\n",
       "497    0.0406\n",
       "498    0.0293\n",
       "499    0.0315\n",
       "Name: 1579, Length: 500, dtype: float64"
      ]
     },
     "metadata": {},
     "output_type": "display_data"
    },
    {
     "data": {
      "text/plain": [
       "0      0.0000\n",
       "1      0.0000\n",
       "2      0.0049\n",
       "3      0.0000\n",
       "4      0.0000\n",
       "        ...  \n",
       "495    0.0501\n",
       "496    0.0441\n",
       "497    0.0476\n",
       "498    0.0576\n",
       "499    0.0417\n",
       "Name: 1580, Length: 500, dtype: float64"
      ]
     },
     "metadata": {},
     "output_type": "display_data"
    },
    {
     "data": {
      "text/plain": [
       "0         NaN\n",
       "1         NaN\n",
       "2         NaN\n",
       "3      0.4091\n",
       "4         NaN\n",
       "        ...  \n",
       "495    0.7234\n",
       "496    0.6695\n",
       "497    0.3849\n",
       "498    0.5844\n",
       "499    0.7562\n",
       "Name: 1581, Length: 500, dtype: float64"
      ]
     },
     "metadata": {},
     "output_type": "display_data"
    },
    {
     "data": {
      "text/plain": [
       "0      0.0000\n",
       "1      0.0000\n",
       "2      0.0000\n",
       "3      0.0000\n",
       "4      0.0063\n",
       "        ...  \n",
       "495    0.0360\n",
       "496    0.0457\n",
       "497    0.0371\n",
       "498    0.0360\n",
       "499    0.0324\n",
       "Name: 1582, Length: 500, dtype: float64"
      ]
     },
     "metadata": {},
     "output_type": "display_data"
    },
    {
     "data": {
      "text/plain": [
       "0      0.0822\n",
       "1         NaN\n",
       "2      0.0465\n",
       "3      0.2581\n",
       "4      0.0227\n",
       "        ...  \n",
       "495    0.1109\n",
       "496    0.0721\n",
       "497    0.0785\n",
       "498    0.1793\n",
       "499    0.0785\n",
       "Name: 1583, Length: 500, dtype: float64"
      ]
     },
     "metadata": {},
     "output_type": "display_data"
    },
    {
     "data": {
      "text/plain": [
       "0      0.0000\n",
       "1      0.0000\n",
       "2      0.0000\n",
       "3      0.0000\n",
       "4      0.0000\n",
       "        ...  \n",
       "495    0.0261\n",
       "496    0.0271\n",
       "497    0.0322\n",
       "498    0.0250\n",
       "499    0.0298\n",
       "Name: 1584, Length: 500, dtype: float64"
      ]
     },
     "metadata": {},
     "output_type": "display_data"
    },
    {
     "data": {
      "text/plain": [
       "0      0.9375\n",
       "1         NaN\n",
       "2         NaN\n",
       "3      0.9737\n",
       "4      0.9429\n",
       "        ...  \n",
       "495    0.8856\n",
       "496    0.8433\n",
       "497    0.8516\n",
       "498    0.8496\n",
       "499    0.8635\n",
       "Name: 1585, Length: 500, dtype: float64"
      ]
     },
     "metadata": {},
     "output_type": "display_data"
    },
    {
     "data": {
      "text/plain": [
       "0      0.0000\n",
       "1      0.0000\n",
       "2      0.0000\n",
       "3      0.0000\n",
       "4      0.0000\n",
       "        ...  \n",
       "495    0.0177\n",
       "496    0.0183\n",
       "497    0.1718\n",
       "498    0.0222\n",
       "499    0.0182\n",
       "Name: 1586, Length: 500, dtype: float64"
      ]
     },
     "metadata": {},
     "output_type": "display_data"
    },
    {
     "data": {
      "text/plain": [
       "0      0.0515\n",
       "1      0.0000\n",
       "2      0.0614\n",
       "3      0.0132\n",
       "4      0.0678\n",
       "        ...  \n",
       "495    0.0331\n",
       "496    0.0566\n",
       "497    0.0508\n",
       "498    0.0188\n",
       "499    0.0284\n",
       "Name: 1587, Length: 500, dtype: float64"
      ]
     },
     "metadata": {},
     "output_type": "display_data"
    },
    {
     "data": {
      "text/plain": [
       "0      0.0000\n",
       "1      0.0000\n",
       "2      0.0000\n",
       "3      0.0092\n",
       "4      0.0000\n",
       "        ...  \n",
       "495    0.0218\n",
       "496    0.0369\n",
       "497    0.0392\n",
       "498    0.0459\n",
       "499    0.0216\n",
       "Name: 1588, Length: 500, dtype: float64"
      ]
     },
     "metadata": {},
     "output_type": "display_data"
    },
    {
     "data": {
      "text/plain": [
       "0      0.0047\n",
       "1      0.0047\n",
       "2      0.0076\n",
       "3      0.0139\n",
       "4      0.0076\n",
       "        ...  \n",
       "495       NaN\n",
       "496       NaN\n",
       "497       NaN\n",
       "498       NaN\n",
       "499       NaN\n",
       "Name: 1589, Length: 500, dtype: float64"
      ]
     },
     "metadata": {},
     "output_type": "display_data"
    },
    {
     "data": {
      "text/plain": [
       "0      0.0000\n",
       "1      0.0000\n",
       "2      0.0000\n",
       "3      0.0000\n",
       "4      0.0000\n",
       "        ...  \n",
       "495    0.1100\n",
       "496    0.1690\n",
       "497    0.1045\n",
       "498    0.1141\n",
       "499    0.1192\n",
       "Name: 1590, Length: 500, dtype: float64"
      ]
     },
     "metadata": {},
     "output_type": "display_data"
    },
    {
     "data": {
      "text/plain": [
       "0      0.0079\n",
       "1      0.0123\n",
       "2      0.0169\n",
       "3      0.0000\n",
       "4      0.0164\n",
       "        ...  \n",
       "495    0.0557\n",
       "496    0.0786\n",
       "497    0.0720\n",
       "498    0.0585\n",
       "499    0.0560\n",
       "Name: 1591, Length: 500, dtype: float64"
      ]
     },
     "metadata": {},
     "output_type": "display_data"
    },
    {
     "data": {
      "text/plain": [
       "0      0.1965\n",
       "1      0.2891\n",
       "2      0.2661\n",
       "3      0.1907\n",
       "4      0.2227\n",
       "        ...  \n",
       "495    0.6226\n",
       "496    0.7976\n",
       "497    0.6526\n",
       "498    0.5905\n",
       "499    0.6193\n",
       "Name: 1592, Length: 500, dtype: float64"
      ]
     },
     "metadata": {},
     "output_type": "display_data"
    },
    {
     "data": {
      "text/plain": [
       "0      0.2766\n",
       "1      0.3247\n",
       "2      0.2766\n",
       "3      0.1863\n",
       "4      0.3191\n",
       "        ...  \n",
       "495    0.4156\n",
       "496    0.4840\n",
       "497    0.4390\n",
       "498    0.4675\n",
       "499    0.3958\n",
       "Name: 1593, Length: 500, dtype: float64"
      ]
     },
     "metadata": {},
     "output_type": "display_data"
    },
    {
     "data": {
      "text/plain": [
       "0      0.0000\n",
       "1      0.0000\n",
       "2      0.0000\n",
       "3      0.0043\n",
       "4      0.0000\n",
       "        ...  \n",
       "495    0.0329\n",
       "496    0.0354\n",
       "497    0.0320\n",
       "498    0.0335\n",
       "499    0.0413\n",
       "Name: 1594, Length: 500, dtype: float64"
      ]
     },
     "metadata": {},
     "output_type": "display_data"
    },
    {
     "data": {
      "text/plain": [
       "0      0.9536\n",
       "1      0.9463\n",
       "2      0.9808\n",
       "3      0.9514\n",
       "4      0.9604\n",
       "        ...  \n",
       "495    0.8439\n",
       "496    0.8375\n",
       "497    0.8910\n",
       "498    0.8667\n",
       "499    0.8599\n",
       "Name: 1595, Length: 500, dtype: float64"
      ]
     },
     "metadata": {},
     "output_type": "display_data"
    },
    {
     "data": {
      "text/plain": [
       "0         NaN\n",
       "1      0.6757\n",
       "2      0.4583\n",
       "3      0.5000\n",
       "4      0.6282\n",
       "        ...  \n",
       "495    0.5862\n",
       "496    0.8483\n",
       "497    0.5841\n",
       "498    0.7813\n",
       "499    0.7567\n",
       "Name: 1596, Length: 500, dtype: float64"
      ]
     },
     "metadata": {},
     "output_type": "display_data"
    },
    {
     "data": {
      "text/plain": [
       "0      0.0124\n",
       "1      0.0045\n",
       "2      0.0124\n",
       "3      0.0124\n",
       "4      0.0000\n",
       "        ...  \n",
       "495    0.0355\n",
       "496    0.0315\n",
       "497    0.0246\n",
       "498    0.0312\n",
       "499    0.0375\n",
       "Name: 1597, Length: 500, dtype: float64"
      ]
     },
     "metadata": {},
     "output_type": "display_data"
    },
    {
     "data": {
      "text/plain": [
       "0      0.0706\n",
       "1      0.0976\n",
       "2      0.0129\n",
       "3      0.0706\n",
       "4      0.0588\n",
       "        ...  \n",
       "495    0.1160\n",
       "496    0.0810\n",
       "497    0.0370\n",
       "498    0.1752\n",
       "499    0.0486\n",
       "Name: 1598, Length: 500, dtype: float64"
      ]
     },
     "metadata": {},
     "output_type": "display_data"
    },
    {
     "data": {
      "text/plain": [
       "0      0.0123\n",
       "1      0.0427\n",
       "2      0.0182\n",
       "3      0.0238\n",
       "4      0.0352\n",
       "        ...  \n",
       "495    0.1086\n",
       "496    0.1046\n",
       "497    0.0754\n",
       "498    0.1838\n",
       "499    0.0638\n",
       "Name: 1599, Length: 500, dtype: float64"
      ]
     },
     "metadata": {},
     "output_type": "display_data"
    },
    {
     "data": {
      "text/plain": [
       "0      0.5938\n",
       "1      0.6118\n",
       "2      0.5212\n",
       "3      0.4583\n",
       "4      0.5938\n",
       "        ...  \n",
       "495    0.2903\n",
       "496    0.6463\n",
       "497    0.4959\n",
       "498    0.5931\n",
       "499    0.6642\n",
       "Name: 1600, Length: 500, dtype: float64"
      ]
     },
     "metadata": {},
     "output_type": "display_data"
    },
    {
     "data": {
      "text/plain": [
       "0      0.7750\n",
       "1      0.3871\n",
       "2      0.6375\n",
       "3      0.8082\n",
       "4      0.5935\n",
       "        ...  \n",
       "495    0.2863\n",
       "496    0.4034\n",
       "497    0.5602\n",
       "498    0.3972\n",
       "499    0.4204\n",
       "Name: 1601, Length: 500, dtype: float64"
      ]
     },
     "metadata": {},
     "output_type": "display_data"
    },
    {
     "data": {
      "text/plain": [
       "0      0.0171\n",
       "1      0.0171\n",
       "2      0.0218\n",
       "3      0.0000\n",
       "4      0.0054\n",
       "        ...  \n",
       "495    0.0348\n",
       "496    0.0283\n",
       "497    0.0306\n",
       "498    0.0358\n",
       "499    0.0293\n",
       "Name: 1602, Length: 500, dtype: float64"
      ]
     },
     "metadata": {},
     "output_type": "display_data"
    },
    {
     "data": {
      "text/plain": [
       "0      0.9429\n",
       "1      0.9024\n",
       "2      0.9524\n",
       "3      0.9429\n",
       "4      0.8785\n",
       "        ...  \n",
       "495    0.9721\n",
       "496    0.9598\n",
       "497    0.9750\n",
       "498    0.9720\n",
       "499    0.9646\n",
       "Name: 1603, Length: 500, dtype: float64"
      ]
     },
     "metadata": {},
     "output_type": "display_data"
    },
    {
     "data": {
      "text/plain": [
       "0      0.9075\n",
       "1      0.9600\n",
       "2      0.9484\n",
       "3      0.9013\n",
       "4      0.8777\n",
       "        ...  \n",
       "495    0.9055\n",
       "496    0.8459\n",
       "497    0.8891\n",
       "498    0.8644\n",
       "499    0.8936\n",
       "Name: 1604, Length: 500, dtype: float64"
      ]
     },
     "metadata": {},
     "output_type": "display_data"
    },
    {
     "data": {
      "text/plain": [
       "0      0.0205\n",
       "1      0.0065\n",
       "2      0.0370\n",
       "3      0.0370\n",
       "4      0.0118\n",
       "        ...  \n",
       "495    0.1031\n",
       "496    0.1599\n",
       "497    0.1513\n",
       "498    0.1295\n",
       "499    0.2294\n",
       "Name: 1605, Length: 500, dtype: float64"
      ]
     },
     "metadata": {},
     "output_type": "display_data"
    },
    {
     "data": {
      "text/plain": [
       "0      0.0147\n",
       "1      0.0000\n",
       "2      0.0147\n",
       "3      0.0000\n",
       "4      0.0000\n",
       "        ...  \n",
       "495    0.0417\n",
       "496    0.0283\n",
       "497    0.0474\n",
       "498    0.0284\n",
       "499    0.0332\n",
       "Name: 1606, Length: 500, dtype: float64"
      ]
     },
     "metadata": {},
     "output_type": "display_data"
    },
    {
     "data": {
      "text/plain": [
       "0      0.1000\n",
       "1      0.0000\n",
       "2      0.0000\n",
       "3      0.1275\n",
       "4      0.0093\n",
       "        ...  \n",
       "495    0.4651\n",
       "496    0.2173\n",
       "497    0.1866\n",
       "498    0.1953\n",
       "499    0.1493\n",
       "Name: 1607, Length: 500, dtype: float64"
      ]
     },
     "metadata": {},
     "output_type": "display_data"
    },
    {
     "data": {
      "text/plain": [
       "0      0.0952\n",
       "1      0.4098\n",
       "2      0.1622\n",
       "3      0.1622\n",
       "4      0.3077\n",
       "        ...  \n",
       "495    0.4026\n",
       "496    0.3158\n",
       "497    0.1296\n",
       "498    0.7008\n",
       "499    0.6321\n",
       "Name: 1608, Length: 500, dtype: float64"
      ]
     },
     "metadata": {},
     "output_type": "display_data"
    },
    {
     "data": {
      "text/plain": [
       "0      0.0077\n",
       "1      0.0000\n",
       "2      0.0043\n",
       "3      0.0000\n",
       "4      0.0000\n",
       "        ...  \n",
       "495    0.0353\n",
       "496    0.0367\n",
       "497    0.0339\n",
       "498    0.0324\n",
       "499    0.0299\n",
       "Name: 1609, Length: 500, dtype: float64"
      ]
     },
     "metadata": {},
     "output_type": "display_data"
    },
    {
     "data": {
      "text/plain": [
       "0      0.9040\n",
       "1      0.9239\n",
       "2      0.9104\n",
       "3      0.9104\n",
       "4      0.9078\n",
       "        ...  \n",
       "495    0.7959\n",
       "496    0.7301\n",
       "497    0.7790\n",
       "498    0.8312\n",
       "499    0.8765\n",
       "Name: 1610, Length: 500, dtype: float64"
      ]
     },
     "metadata": {},
     "output_type": "display_data"
    },
    {
     "data": {
      "text/plain": [
       "0      0.5660\n",
       "1      0.7500\n",
       "2      0.4803\n",
       "3      0.8837\n",
       "4      0.6348\n",
       "        ...  \n",
       "495    0.6667\n",
       "496    0.6901\n",
       "497    0.6469\n",
       "498    0.6562\n",
       "499    0.7442\n",
       "Name: 1611, Length: 500, dtype: float64"
      ]
     },
     "metadata": {},
     "output_type": "display_data"
    },
    {
     "data": {
      "text/plain": [
       "0         NaN\n",
       "1         NaN\n",
       "2      0.7750\n",
       "3      0.9062\n",
       "4         NaN\n",
       "        ...  \n",
       "495    0.5397\n",
       "496    0.6952\n",
       "497    0.5202\n",
       "498    0.5237\n",
       "499    0.6266\n",
       "Name: 1612, Length: 500, dtype: float64"
      ]
     },
     "metadata": {},
     "output_type": "display_data"
    },
    {
     "data": {
      "text/plain": [
       "0      0.9286\n",
       "1      0.9615\n",
       "2      0.8511\n",
       "3      0.8372\n",
       "4      0.7143\n",
       "        ...  \n",
       "495    0.7373\n",
       "496    0.7009\n",
       "497    0.7598\n",
       "498    0.7455\n",
       "499    0.7076\n",
       "Name: 1613, Length: 500, dtype: float64"
      ]
     },
     "metadata": {},
     "output_type": "display_data"
    },
    {
     "data": {
      "text/plain": [
       "0      0.8837\n",
       "1      0.8839\n",
       "2      0.8837\n",
       "3      0.9000\n",
       "4         NaN\n",
       "        ...  \n",
       "495    0.7558\n",
       "496    0.7030\n",
       "497    0.7288\n",
       "498    0.7525\n",
       "499    0.7632\n",
       "Name: 1614, Length: 500, dtype: float64"
      ]
     },
     "metadata": {},
     "output_type": "display_data"
    },
    {
     "data": {
      "text/plain": [
       "0      0.0000\n",
       "1         NaN\n",
       "2      0.0000\n",
       "3      0.0000\n",
       "4      0.0000\n",
       "        ...  \n",
       "495    0.0664\n",
       "496    0.0727\n",
       "497    0.0707\n",
       "498    0.0597\n",
       "499    0.0488\n",
       "Name: 1615, Length: 500, dtype: float64"
      ]
     },
     "metadata": {},
     "output_type": "display_data"
    },
    {
     "data": {
      "text/plain": [
       "0      0.0039\n",
       "1      0.0000\n",
       "2      0.0000\n",
       "3      0.0000\n",
       "4      0.0000\n",
       "        ...  \n",
       "495    0.0195\n",
       "496    0.0215\n",
       "497    0.0251\n",
       "498    0.0211\n",
       "499    0.0228\n",
       "Name: 1616, Length: 500, dtype: float64"
      ]
     },
     "metadata": {},
     "output_type": "display_data"
    },
    {
     "data": {
      "text/plain": [
       "0      0.0135\n",
       "1      0.0127\n",
       "2      0.0067\n",
       "3      0.0227\n",
       "4      0.0223\n",
       "        ...  \n",
       "495    0.1064\n",
       "496    0.1443\n",
       "497    0.0704\n",
       "498    0.2389\n",
       "499    0.0922\n",
       "Name: 1617, Length: 500, dtype: float64"
      ]
     },
     "metadata": {},
     "output_type": "display_data"
    },
    {
     "data": {
      "text/plain": [
       "0      0.0181\n",
       "1      0.0116\n",
       "2      0.0000\n",
       "3      0.0079\n",
       "4      0.0079\n",
       "        ...  \n",
       "495    0.0802\n",
       "496    0.0497\n",
       "497    0.1280\n",
       "498    0.1067\n",
       "499    0.0500\n",
       "Name: 1618, Length: 500, dtype: float64"
      ]
     },
     "metadata": {},
     "output_type": "display_data"
    },
    {
     "data": {
      "text/plain": [
       "0      0.0000\n",
       "1      0.0000\n",
       "2      0.0000\n",
       "3      0.0000\n",
       "4      0.0000\n",
       "        ...  \n",
       "495    0.0536\n",
       "496    0.0434\n",
       "497    0.0503\n",
       "498    0.0581\n",
       "499    0.0475\n",
       "Name: 1619, Length: 500, dtype: float64"
      ]
     },
     "metadata": {},
     "output_type": "display_data"
    },
    {
     "data": {
      "text/plain": [
       "0      0.0290\n",
       "1      0.0604\n",
       "2      0.0435\n",
       "3      0.0000\n",
       "4      0.0714\n",
       "        ...  \n",
       "495    0.1144\n",
       "496    0.1808\n",
       "497    0.1380\n",
       "498    0.1380\n",
       "499    0.2027\n",
       "Name: 1620, Length: 500, dtype: float64"
      ]
     },
     "metadata": {},
     "output_type": "display_data"
    },
    {
     "data": {
      "text/plain": [
       "0      0.0047\n",
       "1      0.0000\n",
       "2      0.0000\n",
       "3      0.0000\n",
       "4      0.0000\n",
       "        ...  \n",
       "495    0.0582\n",
       "496    0.0683\n",
       "497    0.0595\n",
       "498    0.0414\n",
       "499    0.0566\n",
       "Name: 1621, Length: 500, dtype: float64"
      ]
     },
     "metadata": {},
     "output_type": "display_data"
    },
    {
     "data": {
      "text/plain": [
       "0      0.0000\n",
       "1      0.0000\n",
       "2      0.0000\n",
       "3      0.0000\n",
       "4      0.0149\n",
       "        ...  \n",
       "495    0.0227\n",
       "496    0.0231\n",
       "497    0.0301\n",
       "498    0.0215\n",
       "499    0.0260\n",
       "Name: 1622, Length: 500, dtype: float64"
      ]
     },
     "metadata": {},
     "output_type": "display_data"
    },
    {
     "data": {
      "text/plain": [
       "0      0.9149\n",
       "1      0.7188\n",
       "2      0.8776\n",
       "3      0.8958\n",
       "4      0.9219\n",
       "        ...  \n",
       "495    0.7737\n",
       "496    0.7665\n",
       "497    0.6492\n",
       "498    0.7579\n",
       "499    0.7620\n",
       "Name: 1623, Length: 500, dtype: float64"
      ]
     },
     "metadata": {},
     "output_type": "display_data"
    },
    {
     "data": {
      "text/plain": [
       "0      0.0000\n",
       "1      0.0000\n",
       "2      0.0000\n",
       "3      0.0000\n",
       "4      0.0000\n",
       "        ...  \n",
       "495    0.0318\n",
       "496    0.0310\n",
       "497    0.0328\n",
       "498    0.0277\n",
       "499    0.0338\n",
       "Name: 1624, Length: 500, dtype: float64"
      ]
     },
     "metadata": {},
     "output_type": "display_data"
    },
    {
     "data": {
      "text/plain": [
       "0      0.0973\n",
       "1      0.1111\n",
       "2      0.1228\n",
       "3      0.1228\n",
       "4      0.0629\n",
       "        ...  \n",
       "495    0.2249\n",
       "496    0.4183\n",
       "497    0.2288\n",
       "498    0.2106\n",
       "499    0.6611\n",
       "Name: 1625, Length: 500, dtype: float64"
      ]
     },
     "metadata": {},
     "output_type": "display_data"
    },
    {
     "data": {
      "text/plain": [
       "0      0.0149\n",
       "1      0.0000\n",
       "2      0.0061\n",
       "3      0.0000\n",
       "4      0.0000\n",
       "        ...  \n",
       "495    0.0288\n",
       "496    0.0299\n",
       "497    0.0280\n",
       "498    0.0291\n",
       "499    0.0289\n",
       "Name: 1626, Length: 500, dtype: float64"
      ]
     },
     "metadata": {},
     "output_type": "display_data"
    },
    {
     "data": {
      "text/plain": [
       "0     NaN\n",
       "1     NaN\n",
       "2     NaN\n",
       "3     NaN\n",
       "4     NaN\n",
       "       ..\n",
       "495   NaN\n",
       "496   NaN\n",
       "497   NaN\n",
       "498   NaN\n",
       "499   NaN\n",
       "Name: 1627, Length: 500, dtype: float64"
      ]
     },
     "metadata": {},
     "output_type": "display_data"
    },
    {
     "data": {
      "text/plain": [
       "0      0.9355\n",
       "1         NaN\n",
       "2      0.9412\n",
       "3      0.9859\n",
       "4      0.9079\n",
       "        ...  \n",
       "495    0.9152\n",
       "496    0.8923\n",
       "497    0.7828\n",
       "498    0.8447\n",
       "499    0.8148\n",
       "Name: 1628, Length: 500, dtype: float64"
      ]
     },
     "metadata": {},
     "output_type": "display_data"
    },
    {
     "data": {
      "text/plain": [
       "0      0.0000\n",
       "1      0.0000\n",
       "2      0.0000\n",
       "3      0.0000\n",
       "4      0.0000\n",
       "        ...  \n",
       "495    0.0544\n",
       "496    0.0352\n",
       "497    0.0430\n",
       "498    0.0439\n",
       "499    0.0488\n",
       "Name: 1629, Length: 500, dtype: float64"
      ]
     },
     "metadata": {},
     "output_type": "display_data"
    },
    {
     "data": {
      "text/plain": [
       "0      0.8710\n",
       "1      1.0000\n",
       "2      0.9663\n",
       "3      0.9764\n",
       "4      0.9828\n",
       "        ...  \n",
       "495    0.8990\n",
       "496    0.8872\n",
       "497    0.8871\n",
       "498    0.8587\n",
       "499    0.8851\n",
       "Name: 1630, Length: 500, dtype: float64"
      ]
     },
     "metadata": {},
     "output_type": "display_data"
    },
    {
     "data": {
      "text/plain": [
       "0      0.8730\n",
       "1      0.8304\n",
       "2      0.8722\n",
       "3      0.9259\n",
       "4      0.8451\n",
       "        ...  \n",
       "495    0.6860\n",
       "496    0.6438\n",
       "497    0.4256\n",
       "498    0.6571\n",
       "499    0.5368\n",
       "Name: 1631, Length: 500, dtype: float64"
      ]
     },
     "metadata": {},
     "output_type": "display_data"
    },
    {
     "data": {
      "text/plain": [
       "0      0.9510\n",
       "1      0.9855\n",
       "2      0.8762\n",
       "3      0.9320\n",
       "4      0.9510\n",
       "        ...  \n",
       "495    0.8659\n",
       "496    0.8050\n",
       "497    0.8659\n",
       "498    0.7591\n",
       "499    0.9037\n",
       "Name: 1632, Length: 500, dtype: float64"
      ]
     },
     "metadata": {},
     "output_type": "display_data"
    },
    {
     "data": {
      "text/plain": [
       "0      0.0000\n",
       "1      0.0149\n",
       "2         NaN\n",
       "3      0.0127\n",
       "4      0.0000\n",
       "        ...  \n",
       "495    0.0380\n",
       "496    0.0376\n",
       "497    0.0517\n",
       "498    0.0399\n",
       "499    0.0559\n",
       "Name: 1633, Length: 500, dtype: float64"
      ]
     },
     "metadata": {},
     "output_type": "display_data"
    },
    {
     "data": {
      "text/plain": [
       "0      0.0227\n",
       "1      0.0227\n",
       "2      0.0242\n",
       "3      0.1077\n",
       "4      0.1077\n",
       "        ...  \n",
       "495    0.0288\n",
       "496    0.0398\n",
       "497    0.0356\n",
       "498    0.0339\n",
       "499    0.0499\n",
       "Name: 1634, Length: 500, dtype: float64"
      ]
     },
     "metadata": {},
     "output_type": "display_data"
    },
    {
     "data": {
      "text/plain": [
       "0      0.0000\n",
       "1      0.0000\n",
       "2      0.0000\n",
       "3      0.0047\n",
       "4      0.0000\n",
       "        ...  \n",
       "495    0.0152\n",
       "496    0.0161\n",
       "497    0.0126\n",
       "498    0.0175\n",
       "499    0.0176\n",
       "Name: 1635, Length: 500, dtype: float64"
      ]
     },
     "metadata": {},
     "output_type": "display_data"
    },
    {
     "data": {
      "text/plain": [
       "0      0.1277\n",
       "1      0.0373\n",
       "2      0.0698\n",
       "3      0.1790\n",
       "4      0.0698\n",
       "        ...  \n",
       "495    0.0420\n",
       "496    0.0553\n",
       "497    0.0463\n",
       "498    0.0977\n",
       "499    0.0641\n",
       "Name: 1636, Length: 500, dtype: float64"
      ]
     },
     "metadata": {},
     "output_type": "display_data"
    },
    {
     "data": {
      "text/plain": [
       "0      0.2885\n",
       "1      0.4222\n",
       "2      0.4000\n",
       "3      0.3846\n",
       "4      0.4846\n",
       "        ...  \n",
       "495    0.3716\n",
       "496    0.3817\n",
       "497    0.3706\n",
       "498    0.3455\n",
       "499    0.4858\n",
       "Name: 1637, Length: 500, dtype: float64"
      ]
     },
     "metadata": {},
     "output_type": "display_data"
    },
    {
     "data": {
      "text/plain": [
       "0      0.0811\n",
       "1      0.0139\n",
       "2      0.0159\n",
       "3      0.0647\n",
       "4      0.0221\n",
       "        ...  \n",
       "495    0.6593\n",
       "496    0.6114\n",
       "497    0.4463\n",
       "498    0.5810\n",
       "499    0.1148\n",
       "Name: 1638, Length: 500, dtype: float64"
      ]
     },
     "metadata": {},
     "output_type": "display_data"
    },
    {
     "data": {
      "text/plain": [
       "0      0.0000\n",
       "1      0.0230\n",
       "2      0.0147\n",
       "3      0.0226\n",
       "4      0.0000\n",
       "        ...  \n",
       "495    0.0711\n",
       "496    0.1109\n",
       "497    0.0708\n",
       "498    0.0656\n",
       "499    0.2110\n",
       "Name: 1639, Length: 500, dtype: float64"
      ]
     },
     "metadata": {},
     "output_type": "display_data"
    },
    {
     "data": {
      "text/plain": [
       "0      0.0000\n",
       "1      0.0233\n",
       "2      0.0119\n",
       "3      0.0233\n",
       "4      0.0065\n",
       "        ...  \n",
       "495    0.0245\n",
       "496    0.0297\n",
       "497    0.0282\n",
       "498    0.0271\n",
       "499    0.0254\n",
       "Name: 1640, Length: 500, dtype: float64"
      ]
     },
     "metadata": {},
     "output_type": "display_data"
    },
    {
     "data": {
      "text/plain": [
       "0      0.9674\n",
       "1      0.9578\n",
       "2      0.9522\n",
       "3      0.9634\n",
       "4      0.9556\n",
       "        ...  \n",
       "495    0.8626\n",
       "496    0.6357\n",
       "497    0.8239\n",
       "498    0.6855\n",
       "499    0.8404\n",
       "Name: 1641, Length: 500, dtype: float64"
      ]
     },
     "metadata": {},
     "output_type": "display_data"
    },
    {
     "data": {
      "text/plain": [
       "0      0.8082\n",
       "1      0.7305\n",
       "2      0.7593\n",
       "3      0.7305\n",
       "4      0.7593\n",
       "        ...  \n",
       "495    0.2705\n",
       "496    0.5507\n",
       "497    0.4604\n",
       "498    0.3363\n",
       "499    0.3819\n",
       "Name: 1642, Length: 500, dtype: float64"
      ]
     },
     "metadata": {},
     "output_type": "display_data"
    },
    {
     "data": {
      "text/plain": [
       "0      0.8984\n",
       "1      0.8897\n",
       "2      0.8889\n",
       "3      0.8983\n",
       "4      0.8392\n",
       "        ...  \n",
       "495    0.7251\n",
       "496    0.7304\n",
       "497    0.9317\n",
       "498    0.4541\n",
       "499    0.8582\n",
       "Name: 1643, Length: 500, dtype: float64"
      ]
     },
     "metadata": {},
     "output_type": "display_data"
    },
    {
     "data": {
      "text/plain": [
       "0      0.9535\n",
       "1      0.8681\n",
       "2      0.8782\n",
       "3      0.9231\n",
       "4      0.8395\n",
       "        ...  \n",
       "495    0.2275\n",
       "496    0.4158\n",
       "497    0.1880\n",
       "498    0.3671\n",
       "499    0.2327\n",
       "Name: 1644, Length: 500, dtype: float64"
      ]
     },
     "metadata": {},
     "output_type": "display_data"
    },
    {
     "data": {
      "text/plain": [
       "0      0.0055\n",
       "1      0.0000\n",
       "2      0.0033\n",
       "3      0.0000\n",
       "4      0.0084\n",
       "        ...  \n",
       "495    0.0519\n",
       "496    0.0401\n",
       "497    0.0373\n",
       "498    0.0480\n",
       "499    0.0450\n",
       "Name: 1645, Length: 500, dtype: float64"
      ]
     },
     "metadata": {},
     "output_type": "display_data"
    },
    {
     "data": {
      "text/plain": [
       "0      0.0233\n",
       "1      0.0270\n",
       "2      0.0000\n",
       "3      0.0146\n",
       "4      0.0000\n",
       "        ...  \n",
       "495    0.0237\n",
       "496    0.0195\n",
       "497    0.0226\n",
       "498    0.0211\n",
       "499    0.0206\n",
       "Name: 1646, Length: 500, dtype: float64"
      ]
     },
     "metadata": {},
     "output_type": "display_data"
    },
    {
     "data": {
      "text/plain": [
       "0      0.0000\n",
       "1      0.0000\n",
       "2      0.0000\n",
       "3         NaN\n",
       "4      0.0000\n",
       "        ...  \n",
       "495    0.0285\n",
       "496    0.0213\n",
       "497    0.0293\n",
       "498    0.0235\n",
       "499    0.0254\n",
       "Name: 1647, Length: 500, dtype: float64"
      ]
     },
     "metadata": {},
     "output_type": "display_data"
    },
    {
     "data": {
      "text/plain": [
       "0      0.0000\n",
       "1      0.0000\n",
       "2      0.0000\n",
       "3      0.0000\n",
       "4      0.0000\n",
       "        ...  \n",
       "495    0.0357\n",
       "496    0.0436\n",
       "497    0.0339\n",
       "498    0.0348\n",
       "499    0.0393\n",
       "Name: 1648, Length: 500, dtype: float64"
      ]
     },
     "metadata": {},
     "output_type": "display_data"
    },
    {
     "data": {
      "text/plain": [
       "0      0.0536\n",
       "1         NaN\n",
       "2         NaN\n",
       "3         NaN\n",
       "4      0.0476\n",
       "        ...  \n",
       "495    0.0769\n",
       "496    0.1018\n",
       "497    0.0923\n",
       "498    0.1130\n",
       "499    0.1055\n",
       "Name: 1649, Length: 500, dtype: float64"
      ]
     },
     "metadata": {},
     "output_type": "display_data"
    },
    {
     "data": {
      "text/plain": [
       "0      0.0028\n",
       "1      0.0000\n",
       "2      0.0000\n",
       "3      0.0000\n",
       "4      0.0000\n",
       "        ...  \n",
       "495    0.0303\n",
       "496    0.0272\n",
       "497    0.0214\n",
       "498    0.0266\n",
       "499    0.0224\n",
       "Name: 1650, Length: 500, dtype: float64"
      ]
     },
     "metadata": {},
     "output_type": "display_data"
    },
    {
     "data": {
      "text/plain": [
       "0      0.0094\n",
       "1      0.0000\n",
       "2      0.0000\n",
       "3      0.0602\n",
       "4      0.0602\n",
       "        ...  \n",
       "495    0.0573\n",
       "496    0.0663\n",
       "497    0.0862\n",
       "498    0.0690\n",
       "499    0.0505\n",
       "Name: 1651, Length: 500, dtype: float64"
      ]
     },
     "metadata": {},
     "output_type": "display_data"
    },
    {
     "data": {
      "text/plain": [
       "0      0.0000\n",
       "1      0.0412\n",
       "2         NaN\n",
       "3      0.0000\n",
       "4      0.0000\n",
       "        ...  \n",
       "495       NaN\n",
       "496       NaN\n",
       "497       NaN\n",
       "498       NaN\n",
       "499       NaN\n",
       "Name: 1652, Length: 500, dtype: float64"
      ]
     },
     "metadata": {},
     "output_type": "display_data"
    },
    {
     "data": {
      "text/plain": [
       "0      0.0886\n",
       "1      0.0673\n",
       "2      0.1875\n",
       "3      0.0455\n",
       "4      0.1338\n",
       "        ...  \n",
       "495    0.6663\n",
       "496    0.1745\n",
       "497    0.6075\n",
       "498    0.5504\n",
       "499    0.2201\n",
       "Name: 1653, Length: 500, dtype: float64"
      ]
     },
     "metadata": {},
     "output_type": "display_data"
    },
    {
     "data": {
      "text/plain": [
       "0      0.9606\n",
       "1      0.9645\n",
       "2      0.9603\n",
       "3      0.9703\n",
       "4      0.9781\n",
       "        ...  \n",
       "495    0.8888\n",
       "496    0.8968\n",
       "497    0.9101\n",
       "498    0.9200\n",
       "499    0.8874\n",
       "Name: 1654, Length: 500, dtype: float64"
      ]
     },
     "metadata": {},
     "output_type": "display_data"
    },
    {
     "data": {
      "text/plain": [
       "0      0.9589\n",
       "1      0.9531\n",
       "2      0.9173\n",
       "3      0.9432\n",
       "4      0.9444\n",
       "        ...  \n",
       "495    0.9415\n",
       "496    0.9508\n",
       "497    0.9347\n",
       "498    0.8777\n",
       "499    0.9450\n",
       "Name: 1655, Length: 500, dtype: float64"
      ]
     },
     "metadata": {},
     "output_type": "display_data"
    },
    {
     "data": {
      "text/plain": [
       "0      0.8922\n",
       "1      0.8543\n",
       "2      0.8889\n",
       "3      0.9451\n",
       "4      0.8922\n",
       "        ...  \n",
       "495    0.9130\n",
       "496    0.9065\n",
       "497    0.8941\n",
       "498    0.8991\n",
       "499    0.9072\n",
       "Name: 1656, Length: 500, dtype: float64"
      ]
     },
     "metadata": {},
     "output_type": "display_data"
    },
    {
     "data": {
      "text/plain": [
       "0      0.9412\n",
       "1      0.9412\n",
       "2      0.9000\n",
       "3      0.9798\n",
       "4         NaN\n",
       "        ...  \n",
       "495    0.9160\n",
       "496    0.9034\n",
       "497    0.9033\n",
       "498    0.8869\n",
       "499    0.9206\n",
       "Name: 1657, Length: 500, dtype: float64"
      ]
     },
     "metadata": {},
     "output_type": "display_data"
    },
    {
     "data": {
      "text/plain": [
       "0      0.9074\n",
       "1      0.9118\n",
       "2      0.9286\n",
       "3      0.9397\n",
       "4      0.8679\n",
       "        ...  \n",
       "495    0.8119\n",
       "496    0.7728\n",
       "497    0.8906\n",
       "498    0.6190\n",
       "499    0.7567\n",
       "Name: 1658, Length: 500, dtype: float64"
      ]
     },
     "metadata": {},
     "output_type": "display_data"
    },
    {
     "data": {
      "text/plain": [
       "0      0.0000\n",
       "1      0.0000\n",
       "2      0.0000\n",
       "3      0.0000\n",
       "4      0.0000\n",
       "        ...  \n",
       "495    0.0457\n",
       "496    0.0375\n",
       "497    0.0386\n",
       "498    0.0480\n",
       "499    0.0477\n",
       "Name: 1659, Length: 500, dtype: float64"
      ]
     },
     "metadata": {},
     "output_type": "display_data"
    },
    {
     "data": {
      "text/plain": [
       "0      0.0000\n",
       "1      0.0000\n",
       "2      0.0120\n",
       "3      0.0120\n",
       "4      0.0077\n",
       "        ...  \n",
       "495    0.0375\n",
       "496    0.0361\n",
       "497    0.0458\n",
       "498    0.0422\n",
       "499    0.0313\n",
       "Name: 1660, Length: 500, dtype: float64"
      ]
     },
     "metadata": {},
     "output_type": "display_data"
    },
    {
     "data": {
      "text/plain": [
       "0      0.0000\n",
       "1      0.0000\n",
       "2      0.0000\n",
       "3      0.0000\n",
       "4      0.0000\n",
       "        ...  \n",
       "495    0.0384\n",
       "496    0.0502\n",
       "497    0.0536\n",
       "498    0.0507\n",
       "499    0.0429\n",
       "Name: 1661, Length: 500, dtype: float64"
      ]
     },
     "metadata": {},
     "output_type": "display_data"
    },
    {
     "data": {
      "text/plain": [
       "0      0.0588\n",
       "1         NaN\n",
       "2      0.0667\n",
       "3      0.0377\n",
       "4      0.0441\n",
       "        ...  \n",
       "495    0.1654\n",
       "496    0.1116\n",
       "497    0.1769\n",
       "498    0.0871\n",
       "499    0.1092\n",
       "Name: 1662, Length: 500, dtype: float64"
      ]
     },
     "metadata": {},
     "output_type": "display_data"
    },
    {
     "data": {
      "text/plain": [
       "0      0.0189\n",
       "1      0.0449\n",
       "2      0.0169\n",
       "3      0.0351\n",
       "4      0.0250\n",
       "        ...  \n",
       "495    0.2606\n",
       "496    0.1547\n",
       "497    0.0782\n",
       "498    0.2109\n",
       "499    0.0984\n",
       "Name: 1663, Length: 500, dtype: float64"
      ]
     },
     "metadata": {},
     "output_type": "display_data"
    },
    {
     "data": {
      "text/plain": [
       "0         NaN\n",
       "1      0.2874\n",
       "2         NaN\n",
       "3      0.1591\n",
       "4         NaN\n",
       "        ...  \n",
       "495    0.2855\n",
       "496    0.2498\n",
       "497    0.2014\n",
       "498    0.3189\n",
       "499    0.3122\n",
       "Name: 1664, Length: 500, dtype: float64"
      ]
     },
     "metadata": {},
     "output_type": "display_data"
    },
    {
     "data": {
      "text/plain": [
       "0      0.9688\n",
       "1         NaN\n",
       "2         NaN\n",
       "3         NaN\n",
       "4         NaN\n",
       "        ...  \n",
       "495    0.7002\n",
       "496    0.4816\n",
       "497    0.8236\n",
       "498    0.7182\n",
       "499    0.6524\n",
       "Name: 1665, Length: 500, dtype: float64"
      ]
     },
     "metadata": {},
     "output_type": "display_data"
    },
    {
     "data": {
      "text/plain": [
       "0      0.0240\n",
       "1      0.0250\n",
       "2      0.0508\n",
       "3      0.0073\n",
       "4      0.0751\n",
       "        ...  \n",
       "495    0.5841\n",
       "496    0.1166\n",
       "497    0.1197\n",
       "498    0.2631\n",
       "499    0.1781\n",
       "Name: 1666, Length: 500, dtype: float64"
      ]
     },
     "metadata": {},
     "output_type": "display_data"
    },
    {
     "data": {
      "text/plain": [
       "0      0.0860\n",
       "1      0.1010\n",
       "2      0.0400\n",
       "3      0.0800\n",
       "4      0.0380\n",
       "        ...  \n",
       "495    0.4757\n",
       "496    0.4457\n",
       "497    0.1383\n",
       "498    0.1622\n",
       "499    0.3027\n",
       "Name: 1667, Length: 500, dtype: float64"
      ]
     },
     "metadata": {},
     "output_type": "display_data"
    },
    {
     "data": {
      "text/plain": [
       "0      0.0000\n",
       "1      0.0000\n",
       "2      0.0000\n",
       "3      0.0000\n",
       "4      0.0000\n",
       "        ...  \n",
       "495    0.0289\n",
       "496    0.0332\n",
       "497    0.0460\n",
       "498    0.0394\n",
       "499    0.0288\n",
       "Name: 1668, Length: 500, dtype: float64"
      ]
     },
     "metadata": {},
     "output_type": "display_data"
    },
    {
     "data": {
      "text/plain": [
       "0         NaN\n",
       "1      0.1667\n",
       "2      0.1064\n",
       "3         NaN\n",
       "4      0.0000\n",
       "        ...  \n",
       "495    0.0569\n",
       "496    0.0479\n",
       "497    0.0420\n",
       "498    0.0384\n",
       "499    0.0499\n",
       "Name: 1669, Length: 500, dtype: float64"
      ]
     },
     "metadata": {},
     "output_type": "display_data"
    },
    {
     "data": {
      "text/plain": [
       "0      0.0345\n",
       "1      0.0000\n",
       "2      0.0000\n",
       "3      0.0000\n",
       "4      0.0160\n",
       "        ...  \n",
       "495    0.0257\n",
       "496    0.0259\n",
       "497    0.0196\n",
       "498    0.0174\n",
       "499    0.0153\n",
       "Name: 1670, Length: 500, dtype: float64"
      ]
     },
     "metadata": {},
     "output_type": "display_data"
    },
    {
     "data": {
      "text/plain": [
       "0      0.0294\n",
       "1      0.0000\n",
       "2      0.0083\n",
       "3      0.0000\n",
       "4      0.0000\n",
       "        ...  \n",
       "495    0.0457\n",
       "496    0.0389\n",
       "497    0.0359\n",
       "498    0.0373\n",
       "499    0.0443\n",
       "Name: 1671, Length: 500, dtype: float64"
      ]
     },
     "metadata": {},
     "output_type": "display_data"
    },
    {
     "data": {
      "text/plain": [
       "0      0.0000\n",
       "1      0.0000\n",
       "2      0.0000\n",
       "3      0.0000\n",
       "4      0.0000\n",
       "        ...  \n",
       "495    0.0389\n",
       "496    0.0465\n",
       "497    0.0382\n",
       "498    0.0350\n",
       "499    0.0403\n",
       "Name: 1672, Length: 500, dtype: float64"
      ]
     },
     "metadata": {},
     "output_type": "display_data"
    },
    {
     "data": {
      "text/plain": [
       "0         NaN\n",
       "1         NaN\n",
       "2         NaN\n",
       "3         NaN\n",
       "4         NaN\n",
       "        ...  \n",
       "495    0.5778\n",
       "496    0.6309\n",
       "497    0.5343\n",
       "498    0.5556\n",
       "499    0.3238\n",
       "Name: 1673, Length: 500, dtype: float64"
      ]
     },
     "metadata": {},
     "output_type": "display_data"
    },
    {
     "data": {
      "text/plain": [
       "0      0.0370\n",
       "1      0.0263\n",
       "2      0.0000\n",
       "3      0.0085\n",
       "4      0.0750\n",
       "        ...  \n",
       "495    0.1253\n",
       "496    0.0932\n",
       "497    0.1262\n",
       "498    0.1056\n",
       "499    0.1703\n",
       "Name: 1674, Length: 500, dtype: float64"
      ]
     },
     "metadata": {},
     "output_type": "display_data"
    },
    {
     "data": {
      "text/plain": [
       "0      0.8485\n",
       "1      0.8438\n",
       "2      0.7778\n",
       "3      0.6250\n",
       "4      0.8485\n",
       "        ...  \n",
       "495    0.3776\n",
       "496    0.0995\n",
       "497    0.4691\n",
       "498    0.2640\n",
       "499    0.5507\n",
       "Name: 1675, Length: 500, dtype: float64"
      ]
     },
     "metadata": {},
     "output_type": "display_data"
    },
    {
     "data": {
      "text/plain": [
       "0      0.0000\n",
       "1      0.0000\n",
       "2      0.0000\n",
       "3      0.0064\n",
       "4      0.0054\n",
       "        ...  \n",
       "495    0.0370\n",
       "496    0.0378\n",
       "497    0.0420\n",
       "498    0.0398\n",
       "499    0.0366\n",
       "Name: 1676, Length: 500, dtype: float64"
      ]
     },
     "metadata": {},
     "output_type": "display_data"
    },
    {
     "data": {
      "text/plain": [
       "0      0.9138\n",
       "1      0.8367\n",
       "2      0.9623\n",
       "3      0.9138\n",
       "4      0.9077\n",
       "        ...  \n",
       "495    0.9177\n",
       "496    0.8127\n",
       "497    0.8606\n",
       "498    0.8646\n",
       "499    0.8637\n",
       "Name: 1677, Length: 500, dtype: float64"
      ]
     },
     "metadata": {},
     "output_type": "display_data"
    },
    {
     "data": {
      "text/plain": [
       "0      0.5636\n",
       "1      0.5870\n",
       "2      0.6275\n",
       "3      0.6275\n",
       "4      0.5821\n",
       "        ...  \n",
       "495    0.4248\n",
       "496    0.5003\n",
       "497    0.4908\n",
       "498    0.4762\n",
       "499    0.4477\n",
       "Name: 1678, Length: 500, dtype: float64"
      ]
     },
     "metadata": {},
     "output_type": "display_data"
    },
    {
     "data": {
      "text/plain": [
       "0         NaN\n",
       "1         NaN\n",
       "2         NaN\n",
       "3         NaN\n",
       "4         NaN\n",
       "        ...  \n",
       "495    0.0304\n",
       "496    0.0537\n",
       "497    0.0898\n",
       "498    0.0713\n",
       "499    0.1216\n",
       "Name: 1679, Length: 500, dtype: float64"
      ]
     },
     "metadata": {},
     "output_type": "display_data"
    },
    {
     "data": {
      "text/plain": [
       "0      0.8167\n",
       "1      0.8559\n",
       "2      0.8958\n",
       "3      0.7778\n",
       "4      0.8780\n",
       "        ...  \n",
       "495    0.6975\n",
       "496    0.7329\n",
       "497    0.6975\n",
       "498    0.6106\n",
       "499    0.5363\n",
       "Name: 1680, Length: 500, dtype: float64"
      ]
     },
     "metadata": {},
     "output_type": "display_data"
    },
    {
     "data": {
      "text/plain": [
       "0      1.0000\n",
       "1         NaN\n",
       "2      0.9744\n",
       "3      1.0000\n",
       "4      0.9722\n",
       "        ...  \n",
       "495    0.8751\n",
       "496    0.9508\n",
       "497    0.7220\n",
       "498    0.9525\n",
       "499    0.5414\n",
       "Name: 1681, Length: 500, dtype: float64"
      ]
     },
     "metadata": {},
     "output_type": "display_data"
    },
    {
     "data": {
      "text/plain": [
       "0      0.8682\n",
       "1      0.9250\n",
       "2      0.9537\n",
       "3      0.9149\n",
       "4      0.8889\n",
       "        ...  \n",
       "495    0.9159\n",
       "496    0.9026\n",
       "497    0.8909\n",
       "498    0.8945\n",
       "499    0.8593\n",
       "Name: 1682, Length: 500, dtype: float64"
      ]
     },
     "metadata": {},
     "output_type": "display_data"
    },
    {
     "data": {
      "text/plain": [
       "0      0.0000\n",
       "1      0.0000\n",
       "2      0.0000\n",
       "3      0.0482\n",
       "4      0.0000\n",
       "        ...  \n",
       "495    0.0301\n",
       "496    0.0305\n",
       "497    0.0344\n",
       "498    0.0227\n",
       "499    0.0310\n",
       "Name: 1683, Length: 500, dtype: float64"
      ]
     },
     "metadata": {},
     "output_type": "display_data"
    },
    {
     "data": {
      "text/plain": [
       "0      0.3333\n",
       "1      0.2787\n",
       "2      0.0915\n",
       "3      0.2500\n",
       "4      0.1404\n",
       "        ...  \n",
       "495    0.7574\n",
       "496    0.7892\n",
       "497    0.5821\n",
       "498    0.6262\n",
       "499    0.8305\n",
       "Name: 1684, Length: 500, dtype: float64"
      ]
     },
     "metadata": {},
     "output_type": "display_data"
    },
    {
     "data": {
      "text/plain": [
       "0      0.8163\n",
       "1      0.8615\n",
       "2      0.7911\n",
       "3      0.7895\n",
       "4      0.8025\n",
       "        ...  \n",
       "495    0.8671\n",
       "496    0.8575\n",
       "497    0.8565\n",
       "498    0.2515\n",
       "499    0.8539\n",
       "Name: 1685, Length: 500, dtype: float64"
      ]
     },
     "metadata": {},
     "output_type": "display_data"
    },
    {
     "data": {
      "text/plain": [
       "0         NaN\n",
       "1         NaN\n",
       "2      0.9149\n",
       "3         NaN\n",
       "4      0.9048\n",
       "        ...  \n",
       "495    0.5010\n",
       "496    0.8234\n",
       "497    0.2690\n",
       "498    0.5947\n",
       "499    0.9373\n",
       "Name: 1686, Length: 500, dtype: float64"
      ]
     },
     "metadata": {},
     "output_type": "display_data"
    },
    {
     "data": {
      "text/plain": [
       "0      0.1140\n",
       "1      0.0389\n",
       "2      0.1226\n",
       "3      0.0345\n",
       "4      0.0538\n",
       "        ...  \n",
       "495    0.0310\n",
       "496    0.0343\n",
       "497    0.0324\n",
       "498    0.0342\n",
       "499    0.0334\n",
       "Name: 1687, Length: 500, dtype: float64"
      ]
     },
     "metadata": {},
     "output_type": "display_data"
    },
    {
     "data": {
      "text/plain": [
       "0      0.0000\n",
       "1      0.0000\n",
       "2      0.0000\n",
       "3      0.0000\n",
       "4      0.0000\n",
       "        ...  \n",
       "495    0.0418\n",
       "496    0.0378\n",
       "497    0.0539\n",
       "498    0.0385\n",
       "499    0.3984\n",
       "Name: 1688, Length: 500, dtype: float64"
      ]
     },
     "metadata": {},
     "output_type": "display_data"
    },
    {
     "data": {
      "text/plain": [
       "0      0.0144\n",
       "1      0.0040\n",
       "2      0.0000\n",
       "3      0.0049\n",
       "4      0.0098\n",
       "        ...  \n",
       "495    0.0446\n",
       "496    0.0686\n",
       "497    0.0309\n",
       "498    0.0285\n",
       "499    0.0753\n",
       "Name: 1689, Length: 500, dtype: float64"
      ]
     },
     "metadata": {},
     "output_type": "display_data"
    },
    {
     "data": {
      "text/plain": [
       "0      0.0870\n",
       "1      0.0110\n",
       "2      0.0120\n",
       "3      0.0256\n",
       "4      0.0093\n",
       "        ...  \n",
       "495    0.2800\n",
       "496    0.5515\n",
       "497    0.4404\n",
       "498    0.4156\n",
       "499    0.3161\n",
       "Name: 1690, Length: 500, dtype: float64"
      ]
     },
     "metadata": {},
     "output_type": "display_data"
    },
    {
     "data": {
      "text/plain": [
       "0      0.0230\n",
       "1      0.0230\n",
       "2      0.0000\n",
       "3      0.0164\n",
       "4      0.0000\n",
       "        ...  \n",
       "495    0.2442\n",
       "496    0.2107\n",
       "497    0.0683\n",
       "498    0.4233\n",
       "499    0.3118\n",
       "Name: 1691, Length: 500, dtype: float64"
      ]
     },
     "metadata": {},
     "output_type": "display_data"
    },
    {
     "data": {
      "text/plain": [
       "0      0.0130\n",
       "1      0.0143\n",
       "2      0.0189\n",
       "3      0.0000\n",
       "4      0.0000\n",
       "        ...  \n",
       "495    0.5837\n",
       "496    0.2763\n",
       "497    0.1836\n",
       "498    0.1390\n",
       "499    0.7246\n",
       "Name: 1692, Length: 500, dtype: float64"
      ]
     },
     "metadata": {},
     "output_type": "display_data"
    },
    {
     "data": {
      "text/plain": [
       "0      0.0217\n",
       "1      0.0648\n",
       "2      0.0063\n",
       "3      0.0000\n",
       "4      0.0000\n",
       "        ...  \n",
       "495    0.5082\n",
       "496    0.4211\n",
       "497    0.3208\n",
       "498    0.3624\n",
       "499    0.1646\n",
       "Name: 1693, Length: 500, dtype: float64"
      ]
     },
     "metadata": {},
     "output_type": "display_data"
    },
    {
     "data": {
      "text/plain": [
       "0      0.8989\n",
       "1      0.7413\n",
       "2      0.9091\n",
       "3      0.8362\n",
       "4      0.8864\n",
       "        ...  \n",
       "495    0.7519\n",
       "496    0.4923\n",
       "497    0.6995\n",
       "498    0.6163\n",
       "499    0.8743\n",
       "Name: 1694, Length: 500, dtype: float64"
      ]
     },
     "metadata": {},
     "output_type": "display_data"
    },
    {
     "data": {
      "text/plain": [
       "0         NaN\n",
       "1      0.0000\n",
       "2      0.0135\n",
       "3      0.0000\n",
       "4      0.0000\n",
       "        ...  \n",
       "495    0.0381\n",
       "496    0.0474\n",
       "497    0.0477\n",
       "498    0.0292\n",
       "499    0.0618\n",
       "Name: 1695, Length: 500, dtype: float64"
      ]
     },
     "metadata": {},
     "output_type": "display_data"
    },
    {
     "data": {
      "text/plain": [
       "0      0.9596\n",
       "1      0.9500\n",
       "2      0.8732\n",
       "3      0.9474\n",
       "4         NaN\n",
       "        ...  \n",
       "495    0.8836\n",
       "496    0.8632\n",
       "497    0.8183\n",
       "498    0.3767\n",
       "499    0.8726\n",
       "Name: 1696, Length: 500, dtype: float64"
      ]
     },
     "metadata": {},
     "output_type": "display_data"
    },
    {
     "data": {
      "text/plain": [
       "0      0.8947\n",
       "1      0.9197\n",
       "2      0.9420\n",
       "3      0.8629\n",
       "4      0.9677\n",
       "        ...  \n",
       "495    0.9058\n",
       "496    0.8833\n",
       "497    0.9114\n",
       "498    0.9011\n",
       "499    0.8929\n",
       "Name: 1697, Length: 500, dtype: float64"
      ]
     },
     "metadata": {},
     "output_type": "display_data"
    },
    {
     "data": {
      "text/plain": [
       "0      0.9091\n",
       "1      0.9771\n",
       "2      0.9259\n",
       "3      0.9552\n",
       "4      0.9384\n",
       "        ...  \n",
       "495    0.9107\n",
       "496    0.8286\n",
       "497    0.8768\n",
       "498    0.9170\n",
       "499    0.8741\n",
       "Name: 1698, Length: 500, dtype: float64"
      ]
     },
     "metadata": {},
     "output_type": "display_data"
    },
    {
     "data": {
      "text/plain": [
       "0      0.0000\n",
       "1      0.0059\n",
       "2      0.0164\n",
       "3      0.0058\n",
       "4      0.0050\n",
       "        ...  \n",
       "495    0.0392\n",
       "496    0.0397\n",
       "497    0.0359\n",
       "498    0.0410\n",
       "499    0.0414\n",
       "Name: 1699, Length: 500, dtype: float64"
      ]
     },
     "metadata": {},
     "output_type": "display_data"
    },
    {
     "data": {
      "text/plain": [
       "0         NaN\n",
       "1      0.1600\n",
       "2         NaN\n",
       "3      0.2826\n",
       "4      0.2609\n",
       "        ...  \n",
       "495    0.2481\n",
       "496    0.4504\n",
       "497    0.1715\n",
       "498    0.1662\n",
       "499    0.3199\n",
       "Name: 1700, Length: 500, dtype: float64"
      ]
     },
     "metadata": {},
     "output_type": "display_data"
    },
    {
     "data": {
      "text/plain": [
       "0      0.0000\n",
       "1      0.0000\n",
       "2      0.0000\n",
       "3      0.0000\n",
       "4      0.0000\n",
       "        ...  \n",
       "495    0.0366\n",
       "496    0.0250\n",
       "497    0.0265\n",
       "498    0.0290\n",
       "499    0.0298\n",
       "Name: 1701, Length: 500, dtype: float64"
      ]
     },
     "metadata": {},
     "output_type": "display_data"
    },
    {
     "data": {
      "text/plain": [
       "0      0.0000\n",
       "1      0.0000\n",
       "2      0.0026\n",
       "3      0.0064\n",
       "4      0.0000\n",
       "        ...  \n",
       "495    0.0693\n",
       "496    0.0617\n",
       "497    0.0504\n",
       "498    0.0575\n",
       "499    0.0601\n",
       "Name: 1702, Length: 500, dtype: float64"
      ]
     },
     "metadata": {},
     "output_type": "display_data"
    },
    {
     "data": {
      "text/plain": [
       "0      0.1795\n",
       "1      0.3953\n",
       "2      0.3396\n",
       "3      0.3750\n",
       "4      0.1875\n",
       "        ...  \n",
       "495    0.2572\n",
       "496    0.1327\n",
       "497    0.1373\n",
       "498    0.1292\n",
       "499    0.1121\n",
       "Name: 1703, Length: 500, dtype: float64"
      ]
     },
     "metadata": {},
     "output_type": "display_data"
    },
    {
     "data": {
      "text/plain": [
       "0      0.8806\n",
       "1      0.8000\n",
       "2      0.8864\n",
       "3      0.8933\n",
       "4      0.8676\n",
       "        ...  \n",
       "495    0.4787\n",
       "496    0.5191\n",
       "497    0.6212\n",
       "498    0.5769\n",
       "499    0.3539\n",
       "Name: 1704, Length: 500, dtype: float64"
      ]
     },
     "metadata": {},
     "output_type": "display_data"
    },
    {
     "data": {
      "text/plain": [
       "0      0.2292\n",
       "1      0.1842\n",
       "2      0.1297\n",
       "3      0.1358\n",
       "4      0.1111\n",
       "        ...  \n",
       "495    0.1267\n",
       "496    0.1235\n",
       "497    0.6490\n",
       "498    0.3047\n",
       "499    0.1359\n",
       "Name: 1705, Length: 500, dtype: float64"
      ]
     },
     "metadata": {},
     "output_type": "display_data"
    },
    {
     "data": {
      "text/plain": [
       "0      0.9688\n",
       "1      0.9213\n",
       "2      0.9583\n",
       "3      0.9213\n",
       "4      0.9821\n",
       "        ...  \n",
       "495    0.8593\n",
       "496    0.8614\n",
       "497    0.8766\n",
       "498    0.8251\n",
       "499    0.8084\n",
       "Name: 1706, Length: 500, dtype: float64"
      ]
     },
     "metadata": {},
     "output_type": "display_data"
    },
    {
     "data": {
      "text/plain": [
       "0      0.0000\n",
       "1         NaN\n",
       "2      0.0000\n",
       "3      0.0000\n",
       "4      0.0000\n",
       "        ...  \n",
       "495    0.0261\n",
       "496    0.0267\n",
       "497    0.0311\n",
       "498    0.0251\n",
       "499    0.0311\n",
       "Name: 1707, Length: 500, dtype: float64"
      ]
     },
     "metadata": {},
     "output_type": "display_data"
    },
    {
     "data": {
      "text/plain": [
       "0         NaN\n",
       "1      0.0000\n",
       "2      0.0000\n",
       "3      0.0000\n",
       "4      0.0000\n",
       "        ...  \n",
       "495    0.0498\n",
       "496    0.0355\n",
       "497    0.0423\n",
       "498    0.0325\n",
       "499    0.0335\n",
       "Name: 1708, Length: 500, dtype: float64"
      ]
     },
     "metadata": {},
     "output_type": "display_data"
    },
    {
     "data": {
      "text/plain": [
       "0      0.0000\n",
       "1         NaN\n",
       "2         NaN\n",
       "3         NaN\n",
       "4         NaN\n",
       "        ...  \n",
       "495    0.0346\n",
       "496    0.0355\n",
       "497    0.0438\n",
       "498    0.0336\n",
       "499    0.0443\n",
       "Name: 1709, Length: 500, dtype: float64"
      ]
     },
     "metadata": {},
     "output_type": "display_data"
    },
    {
     "data": {
      "text/plain": [
       "0      0.4652\n",
       "1      0.4948\n",
       "2      0.4426\n",
       "3      0.2335\n",
       "4      0.3074\n",
       "        ...  \n",
       "495    0.7197\n",
       "496    0.7141\n",
       "497    0.7550\n",
       "498    0.7269\n",
       "499    0.6069\n",
       "Name: 1710, Length: 500, dtype: float64"
      ]
     },
     "metadata": {},
     "output_type": "display_data"
    },
    {
     "data": {
      "text/plain": [
       "0      0.0000\n",
       "1      0.0000\n",
       "2      0.0000\n",
       "3      0.0000\n",
       "4      0.0000\n",
       "        ...  \n",
       "495    0.0223\n",
       "496    0.0310\n",
       "497    0.0289\n",
       "498    0.0903\n",
       "499    0.0323\n",
       "Name: 1711, Length: 500, dtype: float64"
      ]
     },
     "metadata": {},
     "output_type": "display_data"
    },
    {
     "data": {
      "text/plain": [
       "0      0.0245\n",
       "1      0.0476\n",
       "2      0.0379\n",
       "3      0.0400\n",
       "4      0.0245\n",
       "        ...  \n",
       "495    0.1405\n",
       "496    0.1103\n",
       "497    0.1169\n",
       "498    0.0902\n",
       "499    0.1427\n",
       "Name: 1712, Length: 500, dtype: float64"
      ]
     },
     "metadata": {},
     "output_type": "display_data"
    },
    {
     "data": {
      "text/plain": [
       "0      0.9468\n",
       "1      0.9684\n",
       "2      0.9724\n",
       "3      0.9771\n",
       "4      0.9811\n",
       "        ...  \n",
       "495    0.8618\n",
       "496    0.9329\n",
       "497    0.9337\n",
       "498    0.9522\n",
       "499    0.9415\n",
       "Name: 1713, Length: 500, dtype: float64"
      ]
     },
     "metadata": {},
     "output_type": "display_data"
    },
    {
     "data": {
      "text/plain": [
       "0      0.0109\n",
       "1      0.0301\n",
       "2      0.0196\n",
       "3      0.0190\n",
       "4      0.0112\n",
       "        ...  \n",
       "495    0.0530\n",
       "496    0.0941\n",
       "497    0.1461\n",
       "498    0.1383\n",
       "499    0.1141\n",
       "Name: 1714, Length: 500, dtype: float64"
      ]
     },
     "metadata": {},
     "output_type": "display_data"
    },
    {
     "data": {
      "text/plain": [
       "0      0.0000\n",
       "1      0.0000\n",
       "2      0.0000\n",
       "3      0.0033\n",
       "4      0.0000\n",
       "        ...  \n",
       "495    0.0233\n",
       "496    0.0208\n",
       "497    0.0247\n",
       "498    0.0222\n",
       "499    0.0220\n",
       "Name: 1715, Length: 500, dtype: float64"
      ]
     },
     "metadata": {},
     "output_type": "display_data"
    },
    {
     "data": {
      "text/plain": [
       "0         NaN\n",
       "1      0.0000\n",
       "2      0.0000\n",
       "3      0.0000\n",
       "4      0.0227\n",
       "        ...  \n",
       "495    0.0354\n",
       "496    0.0375\n",
       "497    0.0415\n",
       "498    0.0322\n",
       "499    0.0469\n",
       "Name: 1716, Length: 500, dtype: float64"
      ]
     },
     "metadata": {},
     "output_type": "display_data"
    },
    {
     "data": {
      "text/plain": [
       "0      0.0000\n",
       "1      0.0024\n",
       "2      0.0000\n",
       "3      0.0000\n",
       "4      0.0000\n",
       "        ...  \n",
       "495    0.0413\n",
       "496    0.0291\n",
       "497    0.0352\n",
       "498    0.0267\n",
       "499    0.0199\n",
       "Name: 1717, Length: 500, dtype: float64"
      ]
     },
     "metadata": {},
     "output_type": "display_data"
    },
    {
     "data": {
      "text/plain": [
       "0      0.0000\n",
       "1      0.0000\n",
       "2      0.0136\n",
       "3      0.0000\n",
       "4      0.0042\n",
       "        ...  \n",
       "495    0.0667\n",
       "496    0.1008\n",
       "497    0.0575\n",
       "498    0.0629\n",
       "499    0.0716\n",
       "Name: 1718, Length: 500, dtype: float64"
      ]
     },
     "metadata": {},
     "output_type": "display_data"
    },
    {
     "data": {
      "text/plain": [
       "0      0.0000\n",
       "1      0.0000\n",
       "2      0.0000\n",
       "3      0.0000\n",
       "4      0.0090\n",
       "        ...  \n",
       "495    0.0525\n",
       "496    0.0944\n",
       "497    0.0430\n",
       "498    0.0556\n",
       "499    0.0584\n",
       "Name: 1719, Length: 500, dtype: float64"
      ]
     },
     "metadata": {},
     "output_type": "display_data"
    },
    {
     "data": {
      "text/plain": [
       "0      0.0000\n",
       "1      0.0000\n",
       "2      0.0000\n",
       "3      0.0308\n",
       "4      0.0000\n",
       "        ...  \n",
       "495    0.0259\n",
       "496    0.0339\n",
       "497    0.0332\n",
       "498    0.3910\n",
       "499    0.2671\n",
       "Name: 1720, Length: 500, dtype: float64"
      ]
     },
     "metadata": {},
     "output_type": "display_data"
    },
    {
     "data": {
      "text/plain": [
       "0      0.0\n",
       "1      0.0\n",
       "2      0.0\n",
       "3      0.0\n",
       "4      NaN\n",
       "      ... \n",
       "495    NaN\n",
       "496    NaN\n",
       "497    NaN\n",
       "498    NaN\n",
       "499    NaN\n",
       "Name: 1721, Length: 500, dtype: float64"
      ]
     },
     "metadata": {},
     "output_type": "display_data"
    },
    {
     "data": {
      "text/plain": [
       "0      0.0000\n",
       "1      0.0000\n",
       "2      0.0000\n",
       "3      0.0000\n",
       "4      0.0000\n",
       "        ...  \n",
       "495    0.0191\n",
       "496    0.0264\n",
       "497    0.0208\n",
       "498    0.0225\n",
       "499    0.0208\n",
       "Name: 1722, Length: 500, dtype: float64"
      ]
     },
     "metadata": {},
     "output_type": "display_data"
    },
    {
     "data": {
      "text/plain": [
       "0      0.0000\n",
       "1      0.0000\n",
       "2      0.0000\n",
       "3      0.0000\n",
       "4      0.0164\n",
       "        ...  \n",
       "495    0.0361\n",
       "496    0.0434\n",
       "497    0.0370\n",
       "498    0.0387\n",
       "499    0.0388\n",
       "Name: 1723, Length: 500, dtype: float64"
      ]
     },
     "metadata": {},
     "output_type": "display_data"
    },
    {
     "data": {
      "text/plain": [
       "0      0.0000\n",
       "1      0.0000\n",
       "2      0.0000\n",
       "3      0.0000\n",
       "4      0.0000\n",
       "        ...  \n",
       "495    0.0267\n",
       "496    0.0290\n",
       "497    0.0286\n",
       "498    0.0335\n",
       "499    0.0372\n",
       "Name: 1724, Length: 500, dtype: float64"
      ]
     },
     "metadata": {},
     "output_type": "display_data"
    },
    {
     "data": {
      "text/plain": [
       "0      0.0000\n",
       "1      0.0000\n",
       "2      0.0000\n",
       "3      0.0049\n",
       "4      0.0049\n",
       "        ...  \n",
       "495    0.0793\n",
       "496    0.0793\n",
       "497    0.0823\n",
       "498    0.0868\n",
       "499    0.0816\n",
       "Name: 1725, Length: 500, dtype: float64"
      ]
     },
     "metadata": {},
     "output_type": "display_data"
    },
    {
     "data": {
      "text/plain": [
       "0      0.0000\n",
       "1      0.0096\n",
       "2      0.0000\n",
       "3      0.0000\n",
       "4      0.0000\n",
       "        ...  \n",
       "495    0.0719\n",
       "496    0.0478\n",
       "497    0.0591\n",
       "498    0.0751\n",
       "499    0.0670\n",
       "Name: 1726, Length: 500, dtype: float64"
      ]
     },
     "metadata": {},
     "output_type": "display_data"
    },
    {
     "data": {
      "text/plain": [
       "0      0.0217\n",
       "1      0.0135\n",
       "2      0.0000\n",
       "3      0.0000\n",
       "4      0.0000\n",
       "        ...  \n",
       "495    0.0396\n",
       "496    0.0378\n",
       "497    0.0397\n",
       "498    0.0412\n",
       "499    0.0393\n",
       "Name: 1727, Length: 500, dtype: float64"
      ]
     },
     "metadata": {},
     "output_type": "display_data"
    },
    {
     "data": {
      "text/plain": [
       "0      0.0222\n",
       "1      0.0000\n",
       "2         NaN\n",
       "3      0.0000\n",
       "4      0.0000\n",
       "        ...  \n",
       "495    0.0261\n",
       "496    0.0304\n",
       "497    0.0340\n",
       "498    0.0487\n",
       "499    0.0439\n",
       "Name: 1728, Length: 500, dtype: float64"
      ]
     },
     "metadata": {},
     "output_type": "display_data"
    },
    {
     "data": {
      "text/plain": [
       "0      0.0000\n",
       "1      0.0000\n",
       "2      0.0000\n",
       "3      0.0000\n",
       "4      0.0000\n",
       "        ...  \n",
       "495    0.0394\n",
       "496    0.0372\n",
       "497    0.0385\n",
       "498    0.0298\n",
       "499    0.0376\n",
       "Name: 1729, Length: 500, dtype: float64"
      ]
     },
     "metadata": {},
     "output_type": "display_data"
    },
    {
     "data": {
      "text/plain": [
       "0      0.9263\n",
       "1      0.8980\n",
       "2      0.9245\n",
       "3      0.8970\n",
       "4      0.8970\n",
       "        ...  \n",
       "495    0.5697\n",
       "496    0.7619\n",
       "497    0.7492\n",
       "498    0.7002\n",
       "499    0.7265\n",
       "Name: 1730, Length: 500, dtype: float64"
      ]
     },
     "metadata": {},
     "output_type": "display_data"
    },
    {
     "data": {
      "text/plain": [
       "0         NaN\n",
       "1         NaN\n",
       "2         NaN\n",
       "3      0.6170\n",
       "4         NaN\n",
       "        ...  \n",
       "495    0.4922\n",
       "496    0.2165\n",
       "497    0.6248\n",
       "498    0.7828\n",
       "499    0.5734\n",
       "Name: 1731, Length: 500, dtype: float64"
      ]
     },
     "metadata": {},
     "output_type": "display_data"
    },
    {
     "data": {
      "text/plain": [
       "0      0.0000\n",
       "1      0.0128\n",
       "2      0.0128\n",
       "3      0.0000\n",
       "4      0.0055\n",
       "        ...  \n",
       "495    0.0432\n",
       "496    0.0347\n",
       "497    0.0418\n",
       "498    0.0463\n",
       "499    0.0436\n",
       "Name: 1732, Length: 500, dtype: float64"
      ]
     },
     "metadata": {},
     "output_type": "display_data"
    },
    {
     "data": {
      "text/plain": [
       "0      0.0000\n",
       "1      0.0000\n",
       "2      0.0000\n",
       "3      0.0000\n",
       "4      0.0000\n",
       "        ...  \n",
       "495    0.0393\n",
       "496    0.0313\n",
       "497    0.0317\n",
       "498    0.0326\n",
       "499    0.0310\n",
       "Name: 1733, Length: 500, dtype: float64"
      ]
     },
     "metadata": {},
     "output_type": "display_data"
    },
    {
     "data": {
      "text/plain": [
       "0      0.1525\n",
       "1         NaN\n",
       "2      0.0968\n",
       "3      0.0847\n",
       "4         NaN\n",
       "        ...  \n",
       "495    0.0980\n",
       "496    0.0570\n",
       "497    0.1214\n",
       "498    0.2093\n",
       "499    0.0572\n",
       "Name: 1734, Length: 500, dtype: float64"
      ]
     },
     "metadata": {},
     "output_type": "display_data"
    },
    {
     "data": {
      "text/plain": [
       "0      0.0000\n",
       "1      0.0000\n",
       "2      0.0194\n",
       "3      0.0000\n",
       "4      0.0125\n",
       "        ...  \n",
       "495    0.0285\n",
       "496    0.0328\n",
       "497    0.0275\n",
       "498    0.0357\n",
       "499    0.0319\n",
       "Name: 1735, Length: 500, dtype: float64"
      ]
     },
     "metadata": {},
     "output_type": "display_data"
    },
    {
     "data": {
      "text/plain": [
       "0      0.0000\n",
       "1      0.0000\n",
       "2      0.0056\n",
       "3      0.0000\n",
       "4      0.0000\n",
       "        ...  \n",
       "495    0.1930\n",
       "496    0.1659\n",
       "497    0.1799\n",
       "498    0.1610\n",
       "499    0.1753\n",
       "Name: 1736, Length: 500, dtype: float64"
      ]
     },
     "metadata": {},
     "output_type": "display_data"
    },
    {
     "data": {
      "text/plain": [
       "0      0.0000\n",
       "1         NaN\n",
       "2      0.0000\n",
       "3      0.0000\n",
       "4      0.0000\n",
       "        ...  \n",
       "495    0.0436\n",
       "496    0.0356\n",
       "497    0.0280\n",
       "498    0.0423\n",
       "499    0.0358\n",
       "Name: 1737, Length: 500, dtype: float64"
      ]
     },
     "metadata": {},
     "output_type": "display_data"
    },
    {
     "data": {
      "text/plain": [
       "0      0.0135\n",
       "1      0.0000\n",
       "2      0.0000\n",
       "3      0.0000\n",
       "4      0.0000\n",
       "        ...  \n",
       "495    0.0245\n",
       "496    0.0236\n",
       "497    0.0228\n",
       "498    0.0248\n",
       "499    0.0239\n",
       "Name: 1738, Length: 500, dtype: float64"
      ]
     },
     "metadata": {},
     "output_type": "display_data"
    },
    {
     "data": {
      "text/plain": [
       "0      0.0116\n",
       "1      0.0000\n",
       "2         NaN\n",
       "3      0.0000\n",
       "4      0.0189\n",
       "        ...  \n",
       "495    0.0175\n",
       "496    0.0218\n",
       "497    0.0217\n",
       "498    0.0229\n",
       "499    0.0178\n",
       "Name: 1739, Length: 500, dtype: float64"
      ]
     },
     "metadata": {},
     "output_type": "display_data"
    },
    {
     "data": {
      "text/plain": [
       "0      0.0052\n",
       "1      0.0198\n",
       "2      0.0364\n",
       "3      0.0282\n",
       "4      0.0165\n",
       "        ...  \n",
       "495    0.1070\n",
       "496    0.8122\n",
       "497    0.1244\n",
       "498    0.2786\n",
       "499    0.2314\n",
       "Name: 1740, Length: 500, dtype: float64"
      ]
     },
     "metadata": {},
     "output_type": "display_data"
    },
    {
     "data": {
      "text/plain": [
       "0      0.5833\n",
       "1         NaN\n",
       "2         NaN\n",
       "3      0.5556\n",
       "4         NaN\n",
       "        ...  \n",
       "495    0.4892\n",
       "496    0.3951\n",
       "497    0.4521\n",
       "498    0.3699\n",
       "499    0.4351\n",
       "Name: 1741, Length: 500, dtype: float64"
      ]
     },
     "metadata": {},
     "output_type": "display_data"
    },
    {
     "data": {
      "text/plain": [
       "0      0.0169\n",
       "1      0.0308\n",
       "2      0.1282\n",
       "3      0.0909\n",
       "4      0.0308\n",
       "        ...  \n",
       "495    0.0309\n",
       "496    0.0309\n",
       "497    0.0287\n",
       "498    0.0251\n",
       "499    0.0252\n",
       "Name: 1742, Length: 500, dtype: float64"
      ]
     },
     "metadata": {},
     "output_type": "display_data"
    },
    {
     "data": {
      "text/plain": [
       "0      0.0120\n",
       "1      0.0000\n",
       "2      0.0177\n",
       "3      0.0000\n",
       "4      0.0000\n",
       "        ...  \n",
       "495    0.0547\n",
       "496    0.0333\n",
       "497    0.5928\n",
       "498    0.0373\n",
       "499    0.0441\n",
       "Name: 1743, Length: 500, dtype: float64"
      ]
     },
     "metadata": {},
     "output_type": "display_data"
    },
    {
     "data": {
      "text/plain": [
       "0      0.0000\n",
       "1      0.0000\n",
       "2      0.0000\n",
       "3      0.0000\n",
       "4      0.0000\n",
       "        ...  \n",
       "495    0.0513\n",
       "496    0.0606\n",
       "497    0.0816\n",
       "498    0.0482\n",
       "499    0.0449\n",
       "Name: 1744, Length: 500, dtype: float64"
      ]
     },
     "metadata": {},
     "output_type": "display_data"
    },
    {
     "data": {
      "text/plain": [
       "0      0.0074\n",
       "1      0.0000\n",
       "2      0.0000\n",
       "3      0.0000\n",
       "4      0.0000\n",
       "        ...  \n",
       "495    0.0329\n",
       "496    0.0306\n",
       "497    0.0294\n",
       "498    0.0289\n",
       "499    0.0417\n",
       "Name: 1745, Length: 500, dtype: float64"
      ]
     },
     "metadata": {},
     "output_type": "display_data"
    },
    {
     "data": {
      "text/plain": [
       "0      0.0000\n",
       "1      0.0000\n",
       "2      0.0000\n",
       "3      0.0000\n",
       "4      0.0000\n",
       "        ...  \n",
       "495    0.0350\n",
       "496    0.0392\n",
       "497    0.0381\n",
       "498    0.0323\n",
       "499    0.0383\n",
       "Name: 1746, Length: 500, dtype: float64"
      ]
     },
     "metadata": {},
     "output_type": "display_data"
    },
    {
     "data": {
      "text/plain": [
       "0      0.0000\n",
       "1      0.0000\n",
       "2      0.0000\n",
       "3      0.0000\n",
       "4      0.0000\n",
       "        ...  \n",
       "495    0.0404\n",
       "496    0.0291\n",
       "497    0.0361\n",
       "498    0.0421\n",
       "499    0.0310\n",
       "Name: 1747, Length: 500, dtype: float64"
      ]
     },
     "metadata": {},
     "output_type": "display_data"
    },
    {
     "data": {
      "text/plain": [
       "0      0.0103\n",
       "1      0.0676\n",
       "2      0.0000\n",
       "3      0.0077\n",
       "4      0.0000\n",
       "        ...  \n",
       "495    0.0372\n",
       "496    0.0410\n",
       "497    0.0298\n",
       "498    0.0370\n",
       "499    0.0384\n",
       "Name: 1748, Length: 500, dtype: float64"
      ]
     },
     "metadata": {},
     "output_type": "display_data"
    },
    {
     "data": {
      "text/plain": [
       "0      0.2027\n",
       "1      0.1972\n",
       "2      0.2273\n",
       "3      0.1495\n",
       "4      0.1919\n",
       "        ...  \n",
       "495    0.2461\n",
       "496    0.3085\n",
       "497    0.2825\n",
       "498    0.1866\n",
       "499    0.2363\n",
       "Name: 1749, Length: 500, dtype: float64"
      ]
     },
     "metadata": {},
     "output_type": "display_data"
    },
    {
     "data": {
      "text/plain": [
       "0      0.9661\n",
       "1      0.9459\n",
       "2      0.8523\n",
       "3      0.8841\n",
       "4      0.8523\n",
       "        ...  \n",
       "495    0.7566\n",
       "496    0.8108\n",
       "497    0.7585\n",
       "498    0.7139\n",
       "499    0.8140\n",
       "Name: 1750, Length: 500, dtype: float64"
      ]
     },
     "metadata": {},
     "output_type": "display_data"
    },
    {
     "data": {
      "text/plain": [
       "0      0.5733\n",
       "1      0.5614\n",
       "2      0.5283\n",
       "3      0.5091\n",
       "4      0.5405\n",
       "        ...  \n",
       "495    0.6405\n",
       "496    0.5018\n",
       "497    0.5614\n",
       "498    0.4588\n",
       "499    0.5578\n",
       "Name: 1751, Length: 500, dtype: float64"
      ]
     },
     "metadata": {},
     "output_type": "display_data"
    },
    {
     "data": {
      "text/plain": [
       "0      0.0755\n",
       "1      0.2034\n",
       "2      0.1401\n",
       "3      0.2034\n",
       "4      0.1438\n",
       "        ...  \n",
       "495    0.1160\n",
       "496    0.2171\n",
       "497    0.5976\n",
       "498    0.4492\n",
       "499    0.3830\n",
       "Name: 1752, Length: 500, dtype: float64"
      ]
     },
     "metadata": {},
     "output_type": "display_data"
    },
    {
     "data": {
      "text/plain": [
       "0      0.0357\n",
       "1      0.0256\n",
       "2      0.0519\n",
       "3      0.0099\n",
       "4      0.0364\n",
       "        ...  \n",
       "495    0.1958\n",
       "496    0.1965\n",
       "497    0.1260\n",
       "498    0.2104\n",
       "499    0.1408\n",
       "Name: 1753, Length: 500, dtype: float64"
      ]
     },
     "metadata": {},
     "output_type": "display_data"
    },
    {
     "data": {
      "text/plain": [
       "0      0.0758\n",
       "1      0.0758\n",
       "2      0.1087\n",
       "3      0.0880\n",
       "4      0.0758\n",
       "        ...  \n",
       "495    0.6730\n",
       "496    0.5433\n",
       "497    0.6145\n",
       "498    0.5171\n",
       "499    0.3618\n",
       "Name: 1754, Length: 500, dtype: float64"
      ]
     },
     "metadata": {},
     "output_type": "display_data"
    },
    {
     "data": {
      "text/plain": [
       "0      0.0469\n",
       "1      0.0338\n",
       "2      0.0992\n",
       "3      0.0804\n",
       "4      0.0593\n",
       "        ...  \n",
       "495    0.1212\n",
       "496    0.1303\n",
       "497    0.0694\n",
       "498    0.0896\n",
       "499    0.1515\n",
       "Name: 1755, Length: 500, dtype: float64"
      ]
     },
     "metadata": {},
     "output_type": "display_data"
    },
    {
     "data": {
      "text/plain": [
       "0      0.1081\n",
       "1      0.0261\n",
       "2      0.1356\n",
       "3      0.0507\n",
       "4      0.0261\n",
       "        ...  \n",
       "495    0.5899\n",
       "496    0.5008\n",
       "497    0.2375\n",
       "498    0.4523\n",
       "499    0.5193\n",
       "Name: 1756, Length: 500, dtype: float64"
      ]
     },
     "metadata": {},
     "output_type": "display_data"
    },
    {
     "data": {
      "text/plain": [
       "0         NaN\n",
       "1      0.0317\n",
       "2      0.0794\n",
       "3      0.1500\n",
       "4      0.0800\n",
       "        ...  \n",
       "495    0.4301\n",
       "496    0.3863\n",
       "497    0.2517\n",
       "498    0.4482\n",
       "499    0.2924\n",
       "Name: 1757, Length: 500, dtype: float64"
      ]
     },
     "metadata": {},
     "output_type": "display_data"
    },
    {
     "data": {
      "text/plain": [
       "0      0.7939\n",
       "1      0.7627\n",
       "2      0.7736\n",
       "3      0.8000\n",
       "4      0.6500\n",
       "        ...  \n",
       "495    0.8625\n",
       "496    0.8789\n",
       "497    0.7846\n",
       "498    0.7428\n",
       "499    0.4416\n",
       "Name: 1758, Length: 500, dtype: float64"
      ]
     },
     "metadata": {},
     "output_type": "display_data"
    },
    {
     "data": {
      "text/plain": [
       "0      0.9298\n",
       "1      0.9778\n",
       "2      0.9200\n",
       "3      0.9091\n",
       "4      0.8627\n",
       "        ...  \n",
       "495    0.7516\n",
       "496    0.7924\n",
       "497    0.7410\n",
       "498    0.7406\n",
       "499    0.7643\n",
       "Name: 1759, Length: 500, dtype: float64"
      ]
     },
     "metadata": {},
     "output_type": "display_data"
    },
    {
     "data": {
      "text/plain": [
       "0      0.0222\n",
       "1      0.0000\n",
       "2      0.0000\n",
       "3         NaN\n",
       "4      0.0000\n",
       "        ...  \n",
       "495    0.0355\n",
       "496    0.0470\n",
       "497    0.0297\n",
       "498    0.0348\n",
       "499    0.0467\n",
       "Name: 1760, Length: 500, dtype: float64"
      ]
     },
     "metadata": {},
     "output_type": "display_data"
    },
    {
     "data": {
      "text/plain": [
       "0      0.9615\n",
       "1      0.9444\n",
       "2      0.9725\n",
       "3      0.9455\n",
       "4      0.9828\n",
       "        ...  \n",
       "495    0.9690\n",
       "496    0.9851\n",
       "497    0.9592\n",
       "498    0.9584\n",
       "499    0.8877\n",
       "Name: 1761, Length: 500, dtype: float64"
      ]
     },
     "metadata": {},
     "output_type": "display_data"
    },
    {
     "data": {
      "text/plain": [
       "0      0.0046\n",
       "1      0.0000\n",
       "2      0.0000\n",
       "3      0.0000\n",
       "4      0.0000\n",
       "        ...  \n",
       "495    0.0484\n",
       "496    0.0751\n",
       "497    0.0523\n",
       "498    0.0480\n",
       "499    0.0760\n",
       "Name: 1762, Length: 500, dtype: float64"
      ]
     },
     "metadata": {},
     "output_type": "display_data"
    },
    {
     "data": {
      "text/plain": [
       "0      0.0000\n",
       "1         NaN\n",
       "2      0.0000\n",
       "3         NaN\n",
       "4         NaN\n",
       "        ...  \n",
       "495    0.0774\n",
       "496    0.0587\n",
       "497    0.1002\n",
       "498    0.0550\n",
       "499    0.0550\n",
       "Name: 1763, Length: 500, dtype: float64"
      ]
     },
     "metadata": {},
     "output_type": "display_data"
    },
    {
     "data": {
      "text/plain": [
       "0      0.0000\n",
       "1      0.0000\n",
       "2      0.0000\n",
       "3      0.0000\n",
       "4      0.0000\n",
       "        ...  \n",
       "495    0.0490\n",
       "496    0.0503\n",
       "497    0.0459\n",
       "498    0.0485\n",
       "499    0.0484\n",
       "Name: 1764, Length: 500, dtype: float64"
      ]
     },
     "metadata": {},
     "output_type": "display_data"
    },
    {
     "data": {
      "text/plain": [
       "0      0.0755\n",
       "1      0.0413\n",
       "2      0.0678\n",
       "3      0.1226\n",
       "4      0.0500\n",
       "        ...  \n",
       "495    0.1499\n",
       "496    0.1066\n",
       "497    0.1378\n",
       "498    0.1276\n",
       "499    0.1016\n",
       "Name: 1765, Length: 500, dtype: float64"
      ]
     },
     "metadata": {},
     "output_type": "display_data"
    },
    {
     "data": {
      "text/plain": [
       "0      0.0000\n",
       "1      0.0000\n",
       "2      0.0000\n",
       "3      0.0076\n",
       "4      0.0000\n",
       "        ...  \n",
       "495    0.0257\n",
       "496    0.0314\n",
       "497    0.0243\n",
       "498    0.0303\n",
       "499    0.0239\n",
       "Name: 1766, Length: 500, dtype: float64"
      ]
     },
     "metadata": {},
     "output_type": "display_data"
    },
    {
     "data": {
      "text/plain": [
       "0         NaN\n",
       "1         NaN\n",
       "2         NaN\n",
       "3         NaN\n",
       "4         NaN\n",
       "        ...  \n",
       "495    0.6335\n",
       "496    0.6676\n",
       "497    0.6725\n",
       "498    0.3828\n",
       "499    0.6181\n",
       "Name: 1767, Length: 500, dtype: float64"
      ]
     },
     "metadata": {},
     "output_type": "display_data"
    },
    {
     "data": {
      "text/plain": [
       "0      0.0719\n",
       "1      0.0541\n",
       "2      0.0132\n",
       "3      0.0556\n",
       "4      0.0541\n",
       "        ...  \n",
       "495    0.1554\n",
       "496    0.1171\n",
       "497    0.0739\n",
       "498    0.0910\n",
       "499    0.1253\n",
       "Name: 1768, Length: 500, dtype: float64"
      ]
     },
     "metadata": {},
     "output_type": "display_data"
    },
    {
     "data": {
      "text/plain": [
       "0      0.4400\n",
       "1      0.6393\n",
       "2      0.4400\n",
       "3      0.4419\n",
       "4      0.4000\n",
       "        ...  \n",
       "495    0.2380\n",
       "496    0.2052\n",
       "497    0.1212\n",
       "498    0.1382\n",
       "499    0.1547\n",
       "Name: 1769, Length: 500, dtype: float64"
      ]
     },
     "metadata": {},
     "output_type": "display_data"
    },
    {
     "data": {
      "text/plain": [
       "0      0.0496\n",
       "1      0.0393\n",
       "2      0.0198\n",
       "3      0.0133\n",
       "4      0.0151\n",
       "        ...  \n",
       "495    0.1728\n",
       "496    0.1205\n",
       "497    0.1360\n",
       "498    0.0606\n",
       "499    0.1315\n",
       "Name: 1770, Length: 500, dtype: float64"
      ]
     },
     "metadata": {},
     "output_type": "display_data"
    },
    {
     "data": {
      "text/plain": [
       "0      0.0000\n",
       "1      0.0806\n",
       "2      0.0833\n",
       "3      0.0000\n",
       "4      0.0175\n",
       "        ...  \n",
       "495    0.1551\n",
       "496    0.2681\n",
       "497    0.4178\n",
       "498    0.4985\n",
       "499    0.2835\n",
       "Name: 1771, Length: 500, dtype: float64"
      ]
     },
     "metadata": {},
     "output_type": "display_data"
    },
    {
     "data": {
      "text/plain": [
       "0      0.0109\n",
       "1      0.0435\n",
       "2      0.0530\n",
       "3      0.0160\n",
       "4      0.0109\n",
       "        ...  \n",
       "495    0.4126\n",
       "496    0.5496\n",
       "497    0.5076\n",
       "498    0.5556\n",
       "499    0.4835\n",
       "Name: 1772, Length: 500, dtype: float64"
      ]
     },
     "metadata": {},
     "output_type": "display_data"
    },
    {
     "data": {
      "text/plain": [
       "0      0.0000\n",
       "1      0.0000\n",
       "2      0.0000\n",
       "3      0.0000\n",
       "4         NaN\n",
       "        ...  \n",
       "495    0.4766\n",
       "496    0.2253\n",
       "497    0.0941\n",
       "498    0.1124\n",
       "499    0.1385\n",
       "Name: 1773, Length: 500, dtype: float64"
      ]
     },
     "metadata": {},
     "output_type": "display_data"
    },
    {
     "data": {
      "text/plain": [
       "0      0.0259\n",
       "1      0.0315\n",
       "2      0.0172\n",
       "3      0.0000\n",
       "4      0.0000\n",
       "        ...  \n",
       "495    0.3119\n",
       "496    0.1926\n",
       "497    0.3582\n",
       "498    0.0544\n",
       "499    0.2488\n",
       "Name: 1774, Length: 500, dtype: float64"
      ]
     },
     "metadata": {},
     "output_type": "display_data"
    },
    {
     "data": {
      "text/plain": [
       "0      0.0000\n",
       "1      0.0000\n",
       "2      0.0065\n",
       "3      0.0000\n",
       "4      0.0065\n",
       "        ...  \n",
       "495    0.0340\n",
       "496    0.0281\n",
       "497    0.0224\n",
       "498    0.0284\n",
       "499    0.0268\n",
       "Name: 1775, Length: 500, dtype: float64"
      ]
     },
     "metadata": {},
     "output_type": "display_data"
    },
    {
     "data": {
      "text/plain": [
       "0      0.0000\n",
       "1      0.0408\n",
       "2      0.0625\n",
       "3      0.0494\n",
       "4      0.0408\n",
       "        ...  \n",
       "495       NaN\n",
       "496       NaN\n",
       "497       NaN\n",
       "498       NaN\n",
       "499       NaN\n",
       "Name: 1776, Length: 500, dtype: float64"
      ]
     },
     "metadata": {},
     "output_type": "display_data"
    },
    {
     "data": {
      "text/plain": [
       "0      0.0000\n",
       "1      0.0000\n",
       "2      0.0000\n",
       "3      0.0000\n",
       "4      0.0000\n",
       "        ...  \n",
       "495    0.0216\n",
       "496    0.0245\n",
       "497    0.0242\n",
       "498    0.0400\n",
       "499    0.0245\n",
       "Name: 1777, Length: 500, dtype: float64"
      ]
     },
     "metadata": {},
     "output_type": "display_data"
    },
    {
     "data": {
      "text/plain": [
       "0      0.0574\n",
       "1      0.0236\n",
       "2      0.0231\n",
       "3      0.0365\n",
       "4      0.0000\n",
       "        ...  \n",
       "495    0.0242\n",
       "496    0.0143\n",
       "497    0.4745\n",
       "498    0.5153\n",
       "499    0.4311\n",
       "Name: 1778, Length: 500, dtype: float64"
      ]
     },
     "metadata": {},
     "output_type": "display_data"
    },
    {
     "data": {
      "text/plain": [
       "0      0.1135\n",
       "1      0.1164\n",
       "2      0.0979\n",
       "3      0.1164\n",
       "4      0.0885\n",
       "        ...  \n",
       "495    0.3008\n",
       "496    0.5280\n",
       "497    0.5091\n",
       "498    0.5324\n",
       "499    0.3737\n",
       "Name: 1779, Length: 500, dtype: float64"
      ]
     },
     "metadata": {},
     "output_type": "display_data"
    },
    {
     "data": {
      "text/plain": [
       "0      0.0423\n",
       "1      0.0510\n",
       "2      0.1739\n",
       "3      0.0000\n",
       "4      0.0510\n",
       "        ...  \n",
       "495    0.3992\n",
       "496    0.1680\n",
       "497    0.4788\n",
       "498    0.1634\n",
       "499    0.2175\n",
       "Name: 1780, Length: 500, dtype: float64"
      ]
     },
     "metadata": {},
     "output_type": "display_data"
    },
    {
     "data": {
      "text/plain": [
       "0      0.0972\n",
       "1      0.0182\n",
       "2      0.0609\n",
       "3      0.0182\n",
       "4      0.1077\n",
       "        ...  \n",
       "495    0.5787\n",
       "496    0.5873\n",
       "497    0.5710\n",
       "498    0.5014\n",
       "499    0.7862\n",
       "Name: 1781, Length: 500, dtype: float64"
      ]
     },
     "metadata": {},
     "output_type": "display_data"
    },
    {
     "data": {
      "text/plain": [
       "0         NaN\n",
       "1         NaN\n",
       "2         NaN\n",
       "3         NaN\n",
       "4         NaN\n",
       "        ...  \n",
       "495    0.4611\n",
       "496    0.8856\n",
       "497    0.8882\n",
       "498    0.7569\n",
       "499    0.4611\n",
       "Name: 1782, Length: 500, dtype: float64"
      ]
     },
     "metadata": {},
     "output_type": "display_data"
    },
    {
     "data": {
      "text/plain": [
       "0      0.0000\n",
       "1      0.0339\n",
       "2      0.0617\n",
       "3      0.0792\n",
       "4      0.0648\n",
       "        ...  \n",
       "495       NaN\n",
       "496       NaN\n",
       "497       NaN\n",
       "498       NaN\n",
       "499       NaN\n",
       "Name: 1783, Length: 500, dtype: float64"
      ]
     },
     "metadata": {},
     "output_type": "display_data"
    },
    {
     "data": {
      "text/plain": [
       "0      0.0000\n",
       "1      0.0000\n",
       "2      0.0000\n",
       "3      0.0000\n",
       "4      0.0000\n",
       "        ...  \n",
       "495    0.0712\n",
       "496    0.0892\n",
       "497    0.0729\n",
       "498    0.1180\n",
       "499    0.0684\n",
       "Name: 1784, Length: 500, dtype: float64"
      ]
     },
     "metadata": {},
     "output_type": "display_data"
    },
    {
     "data": {
      "text/plain": [
       "0      0.1071\n",
       "1      0.0938\n",
       "2      0.0417\n",
       "3      0.0630\n",
       "4      0.0743\n",
       "        ...  \n",
       "495    0.2826\n",
       "496    0.4374\n",
       "497    0.3030\n",
       "498    0.4433\n",
       "499    0.4762\n",
       "Name: 1785, Length: 500, dtype: float64"
      ]
     },
     "metadata": {},
     "output_type": "display_data"
    },
    {
     "data": {
      "text/plain": [
       "0      0.0095\n",
       "1      0.0308\n",
       "2      0.0484\n",
       "3      0.0405\n",
       "4      0.1115\n",
       "        ...  \n",
       "495    0.5057\n",
       "496    0.6887\n",
       "497    0.4584\n",
       "498    0.4184\n",
       "499    0.1252\n",
       "Name: 1786, Length: 500, dtype: float64"
      ]
     },
     "metadata": {},
     "output_type": "display_data"
    },
    {
     "data": {
      "text/plain": [
       "0         NaN\n",
       "1         NaN\n",
       "2         NaN\n",
       "3         NaN\n",
       "4         NaN\n",
       "        ...  \n",
       "495    0.3781\n",
       "496    0.0387\n",
       "497    0.2313\n",
       "498    0.2245\n",
       "499    0.2184\n",
       "Name: 1787, Length: 500, dtype: float64"
      ]
     },
     "metadata": {},
     "output_type": "display_data"
    },
    {
     "data": {
      "text/plain": [
       "0      0.1429\n",
       "1      0.0916\n",
       "2      0.1058\n",
       "3      0.0294\n",
       "4      0.0533\n",
       "        ...  \n",
       "495    0.5184\n",
       "496    0.3283\n",
       "497    0.1056\n",
       "498    0.0435\n",
       "499    0.0996\n",
       "Name: 1788, Length: 500, dtype: float64"
      ]
     },
     "metadata": {},
     "output_type": "display_data"
    },
    {
     "data": {
      "text/plain": [
       "0      0.0558\n",
       "1      0.0231\n",
       "2      0.0399\n",
       "3      0.0558\n",
       "4      0.0415\n",
       "        ...  \n",
       "495    0.0855\n",
       "496    0.0938\n",
       "497    0.0881\n",
       "498    0.0661\n",
       "499    0.0689\n",
       "Name: 1789, Length: 500, dtype: float64"
      ]
     },
     "metadata": {},
     "output_type": "display_data"
    },
    {
     "data": {
      "text/plain": [
       "0      0.0000\n",
       "1      0.0101\n",
       "2      0.0000\n",
       "3      0.0075\n",
       "4      0.0087\n",
       "        ...  \n",
       "495    0.0229\n",
       "496    0.0236\n",
       "497    0.0312\n",
       "498    0.0250\n",
       "499    0.0300\n",
       "Name: 1790, Length: 500, dtype: float64"
      ]
     },
     "metadata": {},
     "output_type": "display_data"
    },
    {
     "data": {
      "text/plain": [
       "0      0.0000\n",
       "1      0.0000\n",
       "2      0.0429\n",
       "3      0.0000\n",
       "4      0.0519\n",
       "        ...  \n",
       "495    0.0714\n",
       "496    0.0569\n",
       "497    0.0445\n",
       "498    0.1583\n",
       "499    0.0761\n",
       "Name: 1791, Length: 500, dtype: float64"
      ]
     },
     "metadata": {},
     "output_type": "display_data"
    },
    {
     "data": {
      "text/plain": [
       "0      0.0440\n",
       "1      0.0432\n",
       "2      0.0154\n",
       "3      0.0330\n",
       "4      0.0415\n",
       "        ...  \n",
       "495    0.1216\n",
       "496    0.1902\n",
       "497    0.1713\n",
       "498    0.0593\n",
       "499    0.2891\n",
       "Name: 1792, Length: 500, dtype: float64"
      ]
     },
     "metadata": {},
     "output_type": "display_data"
    },
    {
     "data": {
      "text/plain": [
       "0      0.0044\n",
       "1      0.0118\n",
       "2      0.0064\n",
       "3      0.0064\n",
       "4      0.0000\n",
       "        ...  \n",
       "495    0.0862\n",
       "496    0.0595\n",
       "497    0.0498\n",
       "498    0.0542\n",
       "499    0.0522\n",
       "Name: 1793, Length: 500, dtype: float64"
      ]
     },
     "metadata": {},
     "output_type": "display_data"
    },
    {
     "data": {
      "text/plain": [
       "0      0.0385\n",
       "1      0.0321\n",
       "2      0.0179\n",
       "3      0.0169\n",
       "4      0.0369\n",
       "        ...  \n",
       "495    0.2868\n",
       "496    0.4370\n",
       "497    0.4886\n",
       "498    0.0515\n",
       "499    0.1136\n",
       "Name: 1794, Length: 500, dtype: float64"
      ]
     },
     "metadata": {},
     "output_type": "display_data"
    },
    {
     "data": {
      "text/plain": [
       "0      0.1088\n",
       "1      0.0746\n",
       "2      0.1304\n",
       "3      0.1088\n",
       "4      0.0746\n",
       "        ...  \n",
       "495    0.4342\n",
       "496    0.6921\n",
       "497    0.2299\n",
       "498    0.2501\n",
       "499    0.5559\n",
       "Name: 1795, Length: 500, dtype: float64"
      ]
     },
     "metadata": {},
     "output_type": "display_data"
    },
    {
     "data": {
      "text/plain": [
       "0      0.8757\n",
       "1      0.8504\n",
       "2      0.9044\n",
       "3      0.8757\n",
       "4      0.8889\n",
       "        ...  \n",
       "495    0.6962\n",
       "496    0.7343\n",
       "497    0.7835\n",
       "498    0.5692\n",
       "499    0.4584\n",
       "Name: 1796, Length: 500, dtype: float64"
      ]
     },
     "metadata": {},
     "output_type": "display_data"
    },
    {
     "data": {
      "text/plain": [
       "0      0.0\n",
       "1      NaN\n",
       "2      0.0\n",
       "3      0.0\n",
       "4      0.0\n",
       "      ... \n",
       "495    NaN\n",
       "496    NaN\n",
       "497    NaN\n",
       "498    NaN\n",
       "499    NaN\n",
       "Name: 1797, Length: 500, dtype: float64"
      ]
     },
     "metadata": {},
     "output_type": "display_data"
    },
    {
     "data": {
      "text/plain": [
       "0         NaN\n",
       "1         NaN\n",
       "2         NaN\n",
       "3         NaN\n",
       "4         NaN\n",
       "        ...  \n",
       "495    0.8590\n",
       "496    0.8349\n",
       "497    0.5090\n",
       "498    0.8918\n",
       "499    0.8878\n",
       "Name: 1798, Length: 500, dtype: float64"
      ]
     },
     "metadata": {},
     "output_type": "display_data"
    },
    {
     "data": {
      "text/plain": [
       "0      0.0357\n",
       "1      0.0515\n",
       "2      0.0588\n",
       "3      0.0000\n",
       "4      0.0500\n",
       "        ...  \n",
       "495    0.0942\n",
       "496    0.0926\n",
       "497    0.2004\n",
       "498    0.1361\n",
       "499    0.2068\n",
       "Name: 1799, Length: 500, dtype: float64"
      ]
     },
     "metadata": {},
     "output_type": "display_data"
    },
    {
     "data": {
      "text/plain": [
       "0      0.0811\n",
       "1      0.0811\n",
       "2      0.0811\n",
       "3      0.0053\n",
       "4      0.0429\n",
       "        ...  \n",
       "495    0.1270\n",
       "496    0.0768\n",
       "497    0.1192\n",
       "498    0.1363\n",
       "499    0.1451\n",
       "Name: 1800, Length: 500, dtype: float64"
      ]
     },
     "metadata": {},
     "output_type": "display_data"
    },
    {
     "data": {
      "text/plain": [
       "0      0.9206\n",
       "1      0.9643\n",
       "2      0.9643\n",
       "3      0.9365\n",
       "4      0.9348\n",
       "        ...  \n",
       "495    0.6978\n",
       "496    0.9010\n",
       "497    0.8960\n",
       "498    0.9157\n",
       "499    0.8786\n",
       "Name: 1801, Length: 500, dtype: float64"
      ]
     },
     "metadata": {},
     "output_type": "display_data"
    },
    {
     "data": {
      "text/plain": [
       "0      0.0000\n",
       "1      0.0000\n",
       "2      0.0301\n",
       "3      0.0254\n",
       "4      0.0000\n",
       "        ...  \n",
       "495    0.0231\n",
       "496    0.0257\n",
       "497    0.0315\n",
       "498    0.0463\n",
       "499    0.0266\n",
       "Name: 1802, Length: 500, dtype: float64"
      ]
     },
     "metadata": {},
     "output_type": "display_data"
    },
    {
     "data": {
      "text/plain": [
       "0      0.7056\n",
       "1      0.8063\n",
       "2      0.9010\n",
       "3      0.8721\n",
       "4      0.8153\n",
       "        ...  \n",
       "495    0.6993\n",
       "496    0.7155\n",
       "497    0.7550\n",
       "498    0.7172\n",
       "499    0.7235\n",
       "Name: 1803, Length: 500, dtype: float64"
      ]
     },
     "metadata": {},
     "output_type": "display_data"
    },
    {
     "data": {
      "text/plain": [
       "0      0.0970\n",
       "1      0.1875\n",
       "2      0.1356\n",
       "3      0.0891\n",
       "4      0.1871\n",
       "        ...  \n",
       "495    0.0615\n",
       "496    0.0739\n",
       "497    0.1316\n",
       "498    0.1083\n",
       "499    0.1718\n",
       "Name: 1804, Length: 500, dtype: float64"
      ]
     },
     "metadata": {},
     "output_type": "display_data"
    },
    {
     "data": {
      "text/plain": [
       "0      0.0934\n",
       "1      0.0819\n",
       "2      0.0909\n",
       "3      0.1370\n",
       "4      0.0909\n",
       "        ...  \n",
       "495    0.4891\n",
       "496    0.5046\n",
       "497    0.3394\n",
       "498    0.1976\n",
       "499    0.6436\n",
       "Name: 1805, Length: 500, dtype: float64"
      ]
     },
     "metadata": {},
     "output_type": "display_data"
    },
    {
     "data": {
      "text/plain": [
       "0      0.9167\n",
       "1      0.8636\n",
       "2      0.8636\n",
       "3         NaN\n",
       "4      0.8542\n",
       "        ...  \n",
       "495    0.6352\n",
       "496    0.7927\n",
       "497    0.7641\n",
       "498    0.6419\n",
       "499    0.8694\n",
       "Name: 1806, Length: 500, dtype: float64"
      ]
     },
     "metadata": {},
     "output_type": "display_data"
    },
    {
     "data": {
      "text/plain": [
       "0         NaN\n",
       "1         NaN\n",
       "2      0.0938\n",
       "3         NaN\n",
       "4         NaN\n",
       "        ...  \n",
       "495    0.2344\n",
       "496    0.4963\n",
       "497    0.5123\n",
       "498    0.7426\n",
       "499    0.8477\n",
       "Name: 1807, Length: 500, dtype: float64"
      ]
     },
     "metadata": {},
     "output_type": "display_data"
    },
    {
     "data": {
      "text/plain": [
       "0      0.9600\n",
       "1      0.8966\n",
       "2      0.9524\n",
       "3      0.8889\n",
       "4      0.9195\n",
       "        ...  \n",
       "495    0.6881\n",
       "496    0.6632\n",
       "497    0.6523\n",
       "498    0.6233\n",
       "499    0.4949\n",
       "Name: 1808, Length: 500, dtype: float64"
      ]
     },
     "metadata": {},
     "output_type": "display_data"
    },
    {
     "data": {
      "text/plain": [
       "0      0.0571\n",
       "1      0.0152\n",
       "2      0.0373\n",
       "3      0.0120\n",
       "4      0.0000\n",
       "        ...  \n",
       "495    0.0537\n",
       "496    0.5070\n",
       "497    0.0362\n",
       "498    0.0436\n",
       "499    0.0440\n",
       "Name: 1809, Length: 500, dtype: float64"
      ]
     },
     "metadata": {},
     "output_type": "display_data"
    },
    {
     "data": {
      "text/plain": [
       "0      0.1739\n",
       "1      0.0513\n",
       "2      0.1282\n",
       "3      0.1061\n",
       "4      0.0630\n",
       "        ...  \n",
       "495    0.1640\n",
       "496    0.2593\n",
       "497    0.1592\n",
       "498    0.1441\n",
       "499    0.1548\n",
       "Name: 1810, Length: 500, dtype: float64"
      ]
     },
     "metadata": {},
     "output_type": "display_data"
    },
    {
     "data": {
      "text/plain": [
       "0      0.0122\n",
       "1      0.0241\n",
       "2      0.0365\n",
       "3      0.0561\n",
       "4      0.0000\n",
       "        ...  \n",
       "495    0.3097\n",
       "496    0.6700\n",
       "497    0.0936\n",
       "498    0.5410\n",
       "499    0.1255\n",
       "Name: 1811, Length: 500, dtype: float64"
      ]
     },
     "metadata": {},
     "output_type": "display_data"
    },
    {
     "data": {
      "text/plain": [
       "0      0.0187\n",
       "1      0.0075\n",
       "2      0.0289\n",
       "3      0.0192\n",
       "4      0.0109\n",
       "        ...  \n",
       "495    0.5486\n",
       "496    0.5531\n",
       "497    0.5011\n",
       "498    0.5699\n",
       "499    0.5128\n",
       "Name: 1812, Length: 500, dtype: float64"
      ]
     },
     "metadata": {},
     "output_type": "display_data"
    },
    {
     "data": {
      "text/plain": [
       "0      0.0672\n",
       "1      0.0597\n",
       "2      0.0610\n",
       "3      0.0933\n",
       "4      0.0993\n",
       "        ...  \n",
       "495    0.0930\n",
       "496    0.0265\n",
       "497    0.0686\n",
       "498    0.0924\n",
       "499    0.2349\n",
       "Name: 1813, Length: 500, dtype: float64"
      ]
     },
     "metadata": {},
     "output_type": "display_data"
    },
    {
     "data": {
      "text/plain": [
       "0      0.0145\n",
       "1      0.0248\n",
       "2      0.0423\n",
       "3      0.0185\n",
       "4      0.0242\n",
       "        ...  \n",
       "495    0.4573\n",
       "496    0.4341\n",
       "497    0.6381\n",
       "498    0.0477\n",
       "499    0.0575\n",
       "Name: 1814, Length: 500, dtype: float64"
      ]
     },
     "metadata": {},
     "output_type": "display_data"
    },
    {
     "data": {
      "text/plain": [
       "0      0.0615\n",
       "1      0.0598\n",
       "2      0.0619\n",
       "3      0.1022\n",
       "4      0.1000\n",
       "        ...  \n",
       "495    0.5537\n",
       "496    0.6092\n",
       "497    0.5075\n",
       "498    0.8253\n",
       "499    0.6166\n",
       "Name: 1815, Length: 500, dtype: float64"
      ]
     },
     "metadata": {},
     "output_type": "display_data"
    },
    {
     "data": {
      "text/plain": [
       "0      0.0490\n",
       "1      0.0000\n",
       "2      0.0301\n",
       "3      0.0267\n",
       "4      0.0301\n",
       "        ...  \n",
       "495    0.4867\n",
       "496    0.2723\n",
       "497    0.5088\n",
       "498    0.3464\n",
       "499    0.2300\n",
       "Name: 1816, Length: 500, dtype: float64"
      ]
     },
     "metadata": {},
     "output_type": "display_data"
    },
    {
     "data": {
      "text/plain": [
       "0      0.0410\n",
       "1      0.0301\n",
       "2      0.0388\n",
       "3      0.0943\n",
       "4      0.0122\n",
       "        ...  \n",
       "495    0.3407\n",
       "496    0.3747\n",
       "497    0.1829\n",
       "498    0.5449\n",
       "499    0.1680\n",
       "Name: 1817, Length: 500, dtype: float64"
      ]
     },
     "metadata": {},
     "output_type": "display_data"
    },
    {
     "data": {
      "text/plain": [
       "0      0.0000\n",
       "1      0.0569\n",
       "2      0.0417\n",
       "3      0.0634\n",
       "4      0.0522\n",
       "        ...  \n",
       "495    0.5548\n",
       "496    0.7497\n",
       "497    0.7497\n",
       "498    0.6060\n",
       "499    0.3065\n",
       "Name: 1818, Length: 500, dtype: float64"
      ]
     },
     "metadata": {},
     "output_type": "display_data"
    },
    {
     "data": {
      "text/plain": [
       "0      0.0469\n",
       "1      0.0469\n",
       "2      0.0962\n",
       "3      0.0962\n",
       "4      0.0989\n",
       "        ...  \n",
       "495    0.0396\n",
       "496    0.2037\n",
       "497    0.0507\n",
       "498    0.1792\n",
       "499    0.3476\n",
       "Name: 1819, Length: 500, dtype: float64"
      ]
     },
     "metadata": {},
     "output_type": "display_data"
    },
    {
     "data": {
      "text/plain": [
       "0      0.0000\n",
       "1      0.0000\n",
       "2      0.0000\n",
       "3      0.0000\n",
       "4      0.0000\n",
       "        ...  \n",
       "495    0.0344\n",
       "496    0.0353\n",
       "497    0.0381\n",
       "498    0.0307\n",
       "499    0.0308\n",
       "Name: 1820, Length: 500, dtype: float64"
      ]
     },
     "metadata": {},
     "output_type": "display_data"
    },
    {
     "data": {
      "text/plain": [
       "0      0.0000\n",
       "1      0.0000\n",
       "2      0.0000\n",
       "3      0.0000\n",
       "4      0.0000\n",
       "        ...  \n",
       "495    0.0184\n",
       "496    0.0201\n",
       "497    0.0194\n",
       "498    0.0205\n",
       "499    0.0215\n",
       "Name: 1821, Length: 500, dtype: float64"
      ]
     },
     "metadata": {},
     "output_type": "display_data"
    },
    {
     "data": {
      "text/plain": [
       "0      0.0000\n",
       "1      0.0000\n",
       "2      0.0000\n",
       "3      0.0000\n",
       "4      0.0000\n",
       "        ...  \n",
       "495    0.0371\n",
       "496    0.0355\n",
       "497    0.0348\n",
       "498    0.0387\n",
       "499    0.0379\n",
       "Name: 1822, Length: 500, dtype: float64"
      ]
     },
     "metadata": {},
     "output_type": "display_data"
    },
    {
     "data": {
      "text/plain": [
       "0      0.0000\n",
       "1      0.0055\n",
       "2      0.0000\n",
       "3      0.0000\n",
       "4      0.0000\n",
       "        ...  \n",
       "495    0.0535\n",
       "496    0.0312\n",
       "497    0.0485\n",
       "498    0.0355\n",
       "499    0.0314\n",
       "Name: 1823, Length: 500, dtype: float64"
      ]
     },
     "metadata": {},
     "output_type": "display_data"
    },
    {
     "data": {
      "text/plain": [
       "0      0.0244\n",
       "1      0.0000\n",
       "2      0.0000\n",
       "3      0.0000\n",
       "4      0.0213\n",
       "        ...  \n",
       "495    0.0522\n",
       "496    0.4792\n",
       "497    0.0549\n",
       "498    0.2229\n",
       "499    0.0748\n",
       "Name: 1824, Length: 500, dtype: float64"
      ]
     },
     "metadata": {},
     "output_type": "display_data"
    },
    {
     "data": {
      "text/plain": [
       "0      0.0139\n",
       "1      0.0000\n",
       "2      0.0000\n",
       "3      0.0000\n",
       "4      0.0026\n",
       "        ...  \n",
       "495    0.0418\n",
       "496    0.0606\n",
       "497    0.0406\n",
       "498    0.0494\n",
       "499    0.0379\n",
       "Name: 1825, Length: 500, dtype: float64"
      ]
     },
     "metadata": {},
     "output_type": "display_data"
    },
    {
     "data": {
      "text/plain": [
       "0         NaN\n",
       "1      0.0000\n",
       "2      0.0000\n",
       "3      0.0104\n",
       "4      0.0000\n",
       "        ...  \n",
       "495    0.0353\n",
       "496    0.0143\n",
       "497    0.0282\n",
       "498    0.0193\n",
       "499    0.0180\n",
       "Name: 1826, Length: 500, dtype: float64"
      ]
     },
     "metadata": {},
     "output_type": "display_data"
    },
    {
     "data": {
      "text/plain": [
       "0      0.0000\n",
       "1      0.0000\n",
       "2      0.0000\n",
       "3      0.0196\n",
       "4      0.0000\n",
       "        ...  \n",
       "495    0.0687\n",
       "496    0.0764\n",
       "497    0.0719\n",
       "498    0.0684\n",
       "499    0.0668\n",
       "Name: 1827, Length: 500, dtype: float64"
      ]
     },
     "metadata": {},
     "output_type": "display_data"
    },
    {
     "data": {
      "text/plain": [
       "0         NaN\n",
       "1      0.0000\n",
       "2         NaN\n",
       "3      0.0000\n",
       "4      0.0000\n",
       "        ...  \n",
       "495    0.0191\n",
       "496    0.0190\n",
       "497    0.0186\n",
       "498    0.0175\n",
       "499    0.0151\n",
       "Name: 1828, Length: 500, dtype: float64"
      ]
     },
     "metadata": {},
     "output_type": "display_data"
    },
    {
     "data": {
      "text/plain": [
       "0      0.0208\n",
       "1      0.0721\n",
       "2      0.0721\n",
       "3      0.0366\n",
       "4      0.0225\n",
       "        ...  \n",
       "495    0.0453\n",
       "496    0.0478\n",
       "497    0.0438\n",
       "498    0.0511\n",
       "499    0.0446\n",
       "Name: 1829, Length: 500, dtype: float64"
      ]
     },
     "metadata": {},
     "output_type": "display_data"
    },
    {
     "data": {
      "text/plain": [
       "0      0.1221\n",
       "1      0.2076\n",
       "2      0.1970\n",
       "3      0.1411\n",
       "4      0.1646\n",
       "        ...  \n",
       "495    0.1469\n",
       "496    0.1099\n",
       "497    0.1017\n",
       "498    0.1611\n",
       "499    0.1028\n",
       "Name: 1830, Length: 500, dtype: float64"
      ]
     },
     "metadata": {},
     "output_type": "display_data"
    },
    {
     "data": {
      "text/plain": [
       "0      0.0000\n",
       "1         NaN\n",
       "2      0.0000\n",
       "3      0.0000\n",
       "4      0.0000\n",
       "        ...  \n",
       "495    0.0444\n",
       "496    0.0362\n",
       "497    0.0482\n",
       "498    0.0479\n",
       "499    0.0327\n",
       "Name: 1831, Length: 500, dtype: float64"
      ]
     },
     "metadata": {},
     "output_type": "display_data"
    },
    {
     "data": {
      "text/plain": [
       "0      0.0000\n",
       "1      0.0000\n",
       "2      0.0735\n",
       "3      0.0000\n",
       "4      0.0000\n",
       "        ...  \n",
       "495    0.0347\n",
       "496    0.0285\n",
       "497    0.0416\n",
       "498    0.0451\n",
       "499    0.0365\n",
       "Name: 1832, Length: 500, dtype: float64"
      ]
     },
     "metadata": {},
     "output_type": "display_data"
    },
    {
     "data": {
      "text/plain": [
       "0      0.9740\n",
       "1      0.9423\n",
       "2      0.9571\n",
       "3      0.8600\n",
       "4      0.8507\n",
       "        ...  \n",
       "495    0.9100\n",
       "496    0.8743\n",
       "497    0.9353\n",
       "498    0.8998\n",
       "499    0.8930\n",
       "Name: 1833, Length: 500, dtype: float64"
      ]
     },
     "metadata": {},
     "output_type": "display_data"
    },
    {
     "data": {
      "text/plain": [
       "0      0.0000\n",
       "1      0.0000\n",
       "2      0.0000\n",
       "3      0.0139\n",
       "4      0.0000\n",
       "        ...  \n",
       "495    0.0438\n",
       "496    0.0397\n",
       "497    0.0277\n",
       "498    0.0322\n",
       "499    0.0281\n",
       "Name: 1834, Length: 500, dtype: float64"
      ]
     },
     "metadata": {},
     "output_type": "display_data"
    },
    {
     "data": {
      "text/plain": [
       "0      0.0000\n",
       "1      0.0000\n",
       "2      0.0000\n",
       "3      0.0000\n",
       "4      0.0000\n",
       "        ...  \n",
       "495    0.0424\n",
       "496    0.0312\n",
       "497    0.0405\n",
       "498    0.0369\n",
       "499    0.0397\n",
       "Name: 1835, Length: 500, dtype: float64"
      ]
     },
     "metadata": {},
     "output_type": "display_data"
    },
    {
     "data": {
      "text/plain": [
       "0      0.0000\n",
       "1      0.0000\n",
       "2      0.0000\n",
       "3      0.0000\n",
       "4      0.0000\n",
       "        ...  \n",
       "495    0.0444\n",
       "496    0.0428\n",
       "497    0.0489\n",
       "498    0.0373\n",
       "499    0.0348\n",
       "Name: 1836, Length: 500, dtype: float64"
      ]
     },
     "metadata": {},
     "output_type": "display_data"
    },
    {
     "data": {
      "text/plain": [
       "0      0.0314\n",
       "1      0.0193\n",
       "2      0.0080\n",
       "3      0.0863\n",
       "4      0.0192\n",
       "        ...  \n",
       "495    0.1155\n",
       "496    0.1543\n",
       "497    0.1109\n",
       "498    0.0819\n",
       "499    0.1292\n",
       "Name: 1837, Length: 500, dtype: float64"
      ]
     },
     "metadata": {},
     "output_type": "display_data"
    },
    {
     "data": {
      "text/plain": [
       "0      0.0492\n",
       "1      0.0510\n",
       "2      0.0296\n",
       "3      0.0547\n",
       "4      0.0350\n",
       "        ...  \n",
       "495    0.0590\n",
       "496    0.0545\n",
       "497    0.0605\n",
       "498    0.0519\n",
       "499    0.0516\n",
       "Name: 1838, Length: 500, dtype: float64"
      ]
     },
     "metadata": {},
     "output_type": "display_data"
    },
    {
     "data": {
      "text/plain": [
       "0      0.1818\n",
       "1         NaN\n",
       "2      0.0444\n",
       "3      0.0444\n",
       "4      0.0333\n",
       "        ...  \n",
       "495    0.3366\n",
       "496    0.3268\n",
       "497    0.2097\n",
       "498    0.3000\n",
       "499    0.3411\n",
       "Name: 1839, Length: 500, dtype: float64"
      ]
     },
     "metadata": {},
     "output_type": "display_data"
    },
    {
     "data": {
      "text/plain": [
       "0      0.0000\n",
       "1      0.0000\n",
       "2      0.0000\n",
       "3      0.0000\n",
       "4      0.0000\n",
       "        ...  \n",
       "495    0.0493\n",
       "496    0.0368\n",
       "497    0.0307\n",
       "498    0.0346\n",
       "499    0.0381\n",
       "Name: 1840, Length: 500, dtype: float64"
      ]
     },
     "metadata": {},
     "output_type": "display_data"
    },
    {
     "data": {
      "text/plain": [
       "0      0.0000\n",
       "1      0.0000\n",
       "2      0.0000\n",
       "3      0.0000\n",
       "4      0.0000\n",
       "        ...  \n",
       "495    0.0309\n",
       "496    0.0320\n",
       "497    0.0311\n",
       "498    0.0309\n",
       "499    0.0342\n",
       "Name: 1841, Length: 500, dtype: float64"
      ]
     },
     "metadata": {},
     "output_type": "display_data"
    },
    {
     "data": {
      "text/plain": [
       "0      0.0000\n",
       "1      0.0000\n",
       "2      0.0000\n",
       "3      0.0000\n",
       "4      0.0000\n",
       "        ...  \n",
       "495    0.0271\n",
       "496    0.0305\n",
       "497    0.0259\n",
       "498    0.0234\n",
       "499    0.0239\n",
       "Name: 1842, Length: 500, dtype: float64"
      ]
     },
     "metadata": {},
     "output_type": "display_data"
    },
    {
     "data": {
      "text/plain": [
       "0      0.0000\n",
       "1      0.0000\n",
       "2      0.0000\n",
       "3      0.0000\n",
       "4      0.0000\n",
       "        ...  \n",
       "495    0.0400\n",
       "496    0.0395\n",
       "497    0.0307\n",
       "498    0.0389\n",
       "499    0.0451\n",
       "Name: 1843, Length: 500, dtype: float64"
      ]
     },
     "metadata": {},
     "output_type": "display_data"
    },
    {
     "data": {
      "text/plain": [
       "0      0.0000\n",
       "1      0.0000\n",
       "2      0.0000\n",
       "3      0.0000\n",
       "4      0.0000\n",
       "        ...  \n",
       "495    0.0678\n",
       "496    0.0963\n",
       "497    0.0688\n",
       "498    0.0610\n",
       "499    0.0798\n",
       "Name: 1844, Length: 500, dtype: float64"
      ]
     },
     "metadata": {},
     "output_type": "display_data"
    },
    {
     "data": {
      "text/plain": [
       "0      0.0231\n",
       "1      0.0702\n",
       "2      0.0379\n",
       "3      0.0227\n",
       "4      0.0092\n",
       "        ...  \n",
       "495    0.0510\n",
       "496    0.0393\n",
       "497    0.0362\n",
       "498    0.0364\n",
       "499    0.0375\n",
       "Name: 1845, Length: 500, dtype: float64"
      ]
     },
     "metadata": {},
     "output_type": "display_data"
    },
    {
     "data": {
      "text/plain": [
       "0      0.0119\n",
       "1      0.0208\n",
       "2      0.0128\n",
       "3      0.0096\n",
       "4      0.0080\n",
       "        ...  \n",
       "495    0.0508\n",
       "496    0.0448\n",
       "497    0.0439\n",
       "498    0.0395\n",
       "499    0.0614\n",
       "Name: 1846, Length: 500, dtype: float64"
      ]
     },
     "metadata": {},
     "output_type": "display_data"
    },
    {
     "data": {
      "text/plain": [
       "0      0.0000\n",
       "1      0.0000\n",
       "2      0.0058\n",
       "3      0.0053\n",
       "4      0.0000\n",
       "        ...  \n",
       "495    0.0578\n",
       "496    0.0508\n",
       "497    0.0442\n",
       "498    0.0496\n",
       "499    0.0619\n",
       "Name: 1847, Length: 500, dtype: float64"
      ]
     },
     "metadata": {},
     "output_type": "display_data"
    },
    {
     "data": {
      "text/plain": [
       "0      0.0833\n",
       "1      0.0915\n",
       "2      0.0750\n",
       "3      0.0957\n",
       "4      0.1167\n",
       "        ...  \n",
       "495    0.1283\n",
       "496    0.1006\n",
       "497    0.1790\n",
       "498    0.3428\n",
       "499    0.2427\n",
       "Name: 1848, Length: 500, dtype: float64"
      ]
     },
     "metadata": {},
     "output_type": "display_data"
    },
    {
     "data": {
      "text/plain": [
       "0      0.0168\n",
       "1      0.0194\n",
       "2      0.0044\n",
       "3      0.0142\n",
       "4      0.0044\n",
       "        ...  \n",
       "495    0.0958\n",
       "496    0.3509\n",
       "497    0.5325\n",
       "498    0.1290\n",
       "499    0.1655\n",
       "Name: 1849, Length: 500, dtype: float64"
      ]
     },
     "metadata": {},
     "output_type": "display_data"
    },
    {
     "data": {
      "text/plain": [
       "0      0.0146\n",
       "1      0.0302\n",
       "2      0.0407\n",
       "3      0.0407\n",
       "4      0.0215\n",
       "        ...  \n",
       "495    0.0308\n",
       "496    0.0330\n",
       "497    0.0367\n",
       "498    0.0274\n",
       "499    0.0328\n",
       "Name: 1850, Length: 500, dtype: float64"
      ]
     },
     "metadata": {},
     "output_type": "display_data"
    },
    {
     "data": {
      "text/plain": [
       "0      0.0000\n",
       "1         NaN\n",
       "2      0.0000\n",
       "3      0.0000\n",
       "4      0.0000\n",
       "        ...  \n",
       "495    0.0507\n",
       "496    0.0910\n",
       "497    0.0530\n",
       "498    0.0517\n",
       "499    0.0344\n",
       "Name: 1851, Length: 500, dtype: float64"
      ]
     },
     "metadata": {},
     "output_type": "display_data"
    },
    {
     "data": {
      "text/plain": [
       "0     NaN\n",
       "1     NaN\n",
       "2     NaN\n",
       "3     NaN\n",
       "4     NaN\n",
       "       ..\n",
       "495   NaN\n",
       "496   NaN\n",
       "497   NaN\n",
       "498   NaN\n",
       "499   NaN\n",
       "Name: 1852, Length: 500, dtype: float64"
      ]
     },
     "metadata": {},
     "output_type": "display_data"
    },
    {
     "data": {
      "text/plain": [
       "0      0.0723\n",
       "1      0.0622\n",
       "2      0.0855\n",
       "3      0.0275\n",
       "4      0.0656\n",
       "        ...  \n",
       "495    0.1277\n",
       "496    0.2429\n",
       "497    0.2629\n",
       "498    0.4523\n",
       "499    0.2101\n",
       "Name: 1853, Length: 500, dtype: float64"
      ]
     },
     "metadata": {},
     "output_type": "display_data"
    },
    {
     "data": {
      "text/plain": [
       "0      0.0776\n",
       "1      0.0577\n",
       "2      0.0884\n",
       "3      0.0189\n",
       "4      0.2051\n",
       "        ...  \n",
       "495    0.1658\n",
       "496    0.1334\n",
       "497    0.2223\n",
       "498    0.1601\n",
       "499    0.2469\n",
       "Name: 1854, Length: 500, dtype: float64"
      ]
     },
     "metadata": {},
     "output_type": "display_data"
    },
    {
     "data": {
      "text/plain": [
       "0      0.2174\n",
       "1      0.2537\n",
       "2      0.3010\n",
       "3      0.1398\n",
       "4      0.1920\n",
       "        ...  \n",
       "495    0.1641\n",
       "496    0.2071\n",
       "497    0.0918\n",
       "498    0.1721\n",
       "499    0.1539\n",
       "Name: 1855, Length: 500, dtype: float64"
      ]
     },
     "metadata": {},
     "output_type": "display_data"
    },
    {
     "data": {
      "text/plain": [
       "0      0.0091\n",
       "1      0.0000\n",
       "2      0.0072\n",
       "3      0.0054\n",
       "4      0.0000\n",
       "        ...  \n",
       "495    0.0292\n",
       "496    0.0385\n",
       "497    0.0310\n",
       "498    0.0305\n",
       "499    0.0576\n",
       "Name: 1856, Length: 500, dtype: float64"
      ]
     },
     "metadata": {},
     "output_type": "display_data"
    },
    {
     "data": {
      "text/plain": [
       "0      0.0000\n",
       "1      0.0000\n",
       "2         NaN\n",
       "3      0.0216\n",
       "4      0.0331\n",
       "        ...  \n",
       "495    0.3476\n",
       "496    0.2064\n",
       "497    0.1588\n",
       "498    0.0864\n",
       "499    0.1100\n",
       "Name: 1857, Length: 500, dtype: float64"
      ]
     },
     "metadata": {},
     "output_type": "display_data"
    },
    {
     "data": {
      "text/plain": [
       "0      0.9583\n",
       "1      0.9843\n",
       "2      0.9710\n",
       "3      0.9916\n",
       "4      0.9253\n",
       "        ...  \n",
       "495    0.8921\n",
       "496    0.9180\n",
       "497    0.9232\n",
       "498    0.9225\n",
       "499    0.9271\n",
       "Name: 1858, Length: 500, dtype: float64"
      ]
     },
     "metadata": {},
     "output_type": "display_data"
    },
    {
     "data": {
      "text/plain": [
       "0      0.7826\n",
       "1      0.8395\n",
       "2      0.8203\n",
       "3      0.8031\n",
       "4      0.8802\n",
       "        ...  \n",
       "495    0.7416\n",
       "496    0.8441\n",
       "497    0.8045\n",
       "498    0.8845\n",
       "499    0.8739\n",
       "Name: 1859, Length: 500, dtype: float64"
      ]
     },
     "metadata": {},
     "output_type": "display_data"
    },
    {
     "data": {
      "text/plain": [
       "0         NaN\n",
       "1      0.8293\n",
       "2      0.8605\n",
       "3         NaN\n",
       "4         NaN\n",
       "        ...  \n",
       "495       NaN\n",
       "496       NaN\n",
       "497       NaN\n",
       "498       NaN\n",
       "499       NaN\n",
       "Name: 1860, Length: 500, dtype: float64"
      ]
     },
     "metadata": {},
     "output_type": "display_data"
    },
    {
     "data": {
      "text/plain": [
       "0      0.9286\n",
       "1      0.9264\n",
       "2      0.9174\n",
       "3      0.9589\n",
       "4      0.9264\n",
       "        ...  \n",
       "495    0.6902\n",
       "496    0.7722\n",
       "497    0.7046\n",
       "498    0.6596\n",
       "499    0.7099\n",
       "Name: 1861, Length: 500, dtype: float64"
      ]
     },
     "metadata": {},
     "output_type": "display_data"
    },
    {
     "data": {
      "text/plain": [
       "0      0.0000\n",
       "1      0.0000\n",
       "2      0.0000\n",
       "3      0.0000\n",
       "4      0.0000\n",
       "        ...  \n",
       "495    0.0375\n",
       "496    0.0390\n",
       "497    0.0344\n",
       "498    0.0314\n",
       "499    0.0411\n",
       "Name: 1862, Length: 500, dtype: float64"
      ]
     },
     "metadata": {},
     "output_type": "display_data"
    },
    {
     "data": {
      "text/plain": [
       "0      0.0000\n",
       "1      0.0000\n",
       "2      0.0000\n",
       "3      0.0000\n",
       "4      0.0000\n",
       "        ...  \n",
       "495    0.0496\n",
       "496    0.0473\n",
       "497    0.0405\n",
       "498    0.0492\n",
       "499    0.0408\n",
       "Name: 1863, Length: 500, dtype: float64"
      ]
     },
     "metadata": {},
     "output_type": "display_data"
    },
    {
     "data": {
      "text/plain": [
       "0         NaN\n",
       "1         NaN\n",
       "2      0.0000\n",
       "3      0.0000\n",
       "4      0.0127\n",
       "        ...  \n",
       "495    0.0635\n",
       "496    0.0427\n",
       "497    0.0443\n",
       "498    0.0424\n",
       "499    0.0507\n",
       "Name: 1864, Length: 500, dtype: float64"
      ]
     },
     "metadata": {},
     "output_type": "display_data"
    },
    {
     "data": {
      "text/plain": [
       "0      0.0323\n",
       "1      0.0529\n",
       "2      0.0882\n",
       "3      0.0652\n",
       "4      0.0323\n",
       "        ...  \n",
       "495    0.0537\n",
       "496    0.0903\n",
       "497    0.0866\n",
       "498    0.0930\n",
       "499    0.0613\n",
       "Name: 1865, Length: 500, dtype: float64"
      ]
     },
     "metadata": {},
     "output_type": "display_data"
    },
    {
     "data": {
      "text/plain": [
       "0      0.9237\n",
       "1      0.9726\n",
       "2      0.9726\n",
       "3      0.9634\n",
       "4      0.9091\n",
       "        ...  \n",
       "495    0.8031\n",
       "496    0.8334\n",
       "497    0.8137\n",
       "498    0.9000\n",
       "499    0.8137\n",
       "Name: 1866, Length: 500, dtype: float64"
      ]
     },
     "metadata": {},
     "output_type": "display_data"
    },
    {
     "data": {
      "text/plain": [
       "0      0.3171\n",
       "1      0.3167\n",
       "2      0.2759\n",
       "3      0.5918\n",
       "4      0.2500\n",
       "        ...  \n",
       "495    0.6746\n",
       "496    0.5951\n",
       "497    0.7129\n",
       "498    0.7146\n",
       "499    0.2806\n",
       "Name: 1867, Length: 500, dtype: float64"
      ]
     },
     "metadata": {},
     "output_type": "display_data"
    },
    {
     "data": {
      "text/plain": [
       "0      0.9197\n",
       "1      0.9326\n",
       "2      0.9326\n",
       "3      0.9470\n",
       "4      0.9688\n",
       "        ...  \n",
       "495    0.6719\n",
       "496    0.8137\n",
       "497    0.7678\n",
       "498    0.9224\n",
       "499    0.8570\n",
       "Name: 1868, Length: 500, dtype: float64"
      ]
     },
     "metadata": {},
     "output_type": "display_data"
    },
    {
     "data": {
      "text/plain": [
       "0      0.9355\n",
       "1      0.9279\n",
       "2      1.0000\n",
       "3      0.9351\n",
       "4      0.9487\n",
       "        ...  \n",
       "495    0.9446\n",
       "496    0.9509\n",
       "497    0.9231\n",
       "498    0.9609\n",
       "499    0.9501\n",
       "Name: 1869, Length: 500, dtype: float64"
      ]
     },
     "metadata": {},
     "output_type": "display_data"
    },
    {
     "data": {
      "text/plain": [
       "0      0.9792\n",
       "1      0.9873\n",
       "2      0.9506\n",
       "3      0.9765\n",
       "4      0.9765\n",
       "        ...  \n",
       "495    0.8844\n",
       "496    0.8763\n",
       "497    0.8819\n",
       "498    0.8581\n",
       "499    0.5864\n",
       "Name: 1870, Length: 500, dtype: float64"
      ]
     },
     "metadata": {},
     "output_type": "display_data"
    },
    {
     "data": {
      "text/plain": [
       "0      NaN\n",
       "1      NaN\n",
       "2      1.0\n",
       "3      NaN\n",
       "4      1.0\n",
       "      ... \n",
       "495    NaN\n",
       "496    NaN\n",
       "497    NaN\n",
       "498    NaN\n",
       "499    NaN\n",
       "Name: 1871, Length: 500, dtype: float64"
      ]
     },
     "metadata": {},
     "output_type": "display_data"
    },
    {
     "data": {
      "text/plain": [
       "0      0.9359\n",
       "1      0.8889\n",
       "2      0.9474\n",
       "3      0.9448\n",
       "4      0.8874\n",
       "        ...  \n",
       "495    0.8532\n",
       "496    0.9160\n",
       "497    0.9150\n",
       "498    0.9169\n",
       "499    0.4866\n",
       "Name: 1872, Length: 500, dtype: float64"
      ]
     },
     "metadata": {},
     "output_type": "display_data"
    },
    {
     "data": {
      "text/plain": [
       "0      0.9912\n",
       "1      0.9375\n",
       "2      0.9276\n",
       "3      0.9358\n",
       "4      0.9787\n",
       "        ...  \n",
       "495    0.7301\n",
       "496    0.8120\n",
       "497    0.7764\n",
       "498    0.7636\n",
       "499    0.7119\n",
       "Name: 1873, Length: 500, dtype: float64"
      ]
     },
     "metadata": {},
     "output_type": "display_data"
    },
    {
     "data": {
      "text/plain": [
       "0      0.6400\n",
       "1      0.6667\n",
       "2      0.7091\n",
       "3      0.7654\n",
       "4      0.6667\n",
       "        ...  \n",
       "495    0.8605\n",
       "496    0.8765\n",
       "497    0.7898\n",
       "498    0.9515\n",
       "499    0.8773\n",
       "Name: 1874, Length: 500, dtype: float64"
      ]
     },
     "metadata": {},
     "output_type": "display_data"
    },
    {
     "data": {
      "text/plain": [
       "0      0.9474\n",
       "1      0.9206\n",
       "2         NaN\n",
       "3      0.9206\n",
       "4      0.9417\n",
       "        ...  \n",
       "495    0.9001\n",
       "496    0.6128\n",
       "497    0.8886\n",
       "498    0.9070\n",
       "499    0.8227\n",
       "Name: 1875, Length: 500, dtype: float64"
      ]
     },
     "metadata": {},
     "output_type": "display_data"
    },
    {
     "data": {
      "text/plain": [
       "0         NaN\n",
       "1         NaN\n",
       "2      0.9358\n",
       "3         NaN\n",
       "4      0.9565\n",
       "        ...  \n",
       "495    0.8475\n",
       "496    0.8100\n",
       "497    0.5784\n",
       "498    0.8832\n",
       "499    0.6731\n",
       "Name: 1876, Length: 500, dtype: float64"
      ]
     },
     "metadata": {},
     "output_type": "display_data"
    },
    {
     "data": {
      "text/plain": [
       "0      0.0084\n",
       "1      0.0057\n",
       "2      0.0197\n",
       "3      0.0177\n",
       "4      0.0040\n",
       "        ...  \n",
       "495    0.1107\n",
       "496    0.1327\n",
       "497    0.0576\n",
       "498    0.4640\n",
       "499    0.1229\n",
       "Name: 1877, Length: 500, dtype: float64"
      ]
     },
     "metadata": {},
     "output_type": "display_data"
    },
    {
     "data": {
      "text/plain": [
       "0      0.0169\n",
       "1      0.0147\n",
       "2      0.0222\n",
       "3      0.0167\n",
       "4      0.0213\n",
       "        ...  \n",
       "495    0.1567\n",
       "496    0.2751\n",
       "497    0.0588\n",
       "498    0.1002\n",
       "499    0.1679\n",
       "Name: 1878, Length: 500, dtype: float64"
      ]
     },
     "metadata": {},
     "output_type": "display_data"
    },
    {
     "data": {
      "text/plain": [
       "0      0.0000\n",
       "1      0.0000\n",
       "2      0.0000\n",
       "3      0.0000\n",
       "4      0.0000\n",
       "        ...  \n",
       "495    0.0257\n",
       "496    0.0306\n",
       "497    0.0308\n",
       "498    0.0188\n",
       "499    0.0397\n",
       "Name: 1879, Length: 500, dtype: float64"
      ]
     },
     "metadata": {},
     "output_type": "display_data"
    },
    {
     "data": {
      "text/plain": [
       "0      0.0083\n",
       "1      0.0067\n",
       "2      0.0000\n",
       "3      0.0000\n",
       "4      0.0083\n",
       "        ...  \n",
       "495    0.0388\n",
       "496    0.0433\n",
       "497    0.0290\n",
       "498    0.0294\n",
       "499    0.0336\n",
       "Name: 1880, Length: 500, dtype: float64"
      ]
     },
     "metadata": {},
     "output_type": "display_data"
    },
    {
     "data": {
      "text/plain": [
       "0      0.0000\n",
       "1      0.0000\n",
       "2      0.0000\n",
       "3      0.0000\n",
       "4         NaN\n",
       "        ...  \n",
       "495    0.0383\n",
       "496    0.0468\n",
       "497    0.0521\n",
       "498    0.0436\n",
       "499    0.0483\n",
       "Name: 1881, Length: 500, dtype: float64"
      ]
     },
     "metadata": {},
     "output_type": "display_data"
    },
    {
     "data": {
      "text/plain": [
       "0      0.0000\n",
       "1      0.0000\n",
       "2      0.0000\n",
       "3      0.0000\n",
       "4      0.0000\n",
       "        ...  \n",
       "495    0.0356\n",
       "496    0.0318\n",
       "497    0.0325\n",
       "498    0.0363\n",
       "499    0.0316\n",
       "Name: 1882, Length: 500, dtype: float64"
      ]
     },
     "metadata": {},
     "output_type": "display_data"
    },
    {
     "data": {
      "text/plain": [
       "0      0.8559\n",
       "1      0.9015\n",
       "2      0.9787\n",
       "3      0.9111\n",
       "4      0.9221\n",
       "        ...  \n",
       "495       NaN\n",
       "496       NaN\n",
       "497       NaN\n",
       "498       NaN\n",
       "499       NaN\n",
       "Name: 1883, Length: 500, dtype: float64"
      ]
     },
     "metadata": {},
     "output_type": "display_data"
    },
    {
     "data": {
      "text/plain": [
       "0         NaN\n",
       "1      0.8537\n",
       "2         NaN\n",
       "3      0.7333\n",
       "4         NaN\n",
       "        ...  \n",
       "495    0.4191\n",
       "496    0.6247\n",
       "497    0.6641\n",
       "498    0.5729\n",
       "499    0.6188\n",
       "Name: 1884, Length: 500, dtype: float64"
      ]
     },
     "metadata": {},
     "output_type": "display_data"
    },
    {
     "data": {
      "text/plain": [
       "0      0.0000\n",
       "1      0.0000\n",
       "2      0.0000\n",
       "3      0.0000\n",
       "4      0.0000\n",
       "        ...  \n",
       "495    0.0592\n",
       "496    0.0696\n",
       "497    0.0504\n",
       "498    0.0598\n",
       "499    0.0605\n",
       "Name: 1885, Length: 500, dtype: float64"
      ]
     },
     "metadata": {},
     "output_type": "display_data"
    },
    {
     "data": {
      "text/plain": [
       "0      0.3636\n",
       "1      0.2745\n",
       "2      0.2258\n",
       "3      0.3333\n",
       "4      0.1538\n",
       "        ...  \n",
       "495    0.6592\n",
       "496    0.6763\n",
       "497    0.6165\n",
       "498    0.7053\n",
       "499    0.7657\n",
       "Name: 1886, Length: 500, dtype: float64"
      ]
     },
     "metadata": {},
     "output_type": "display_data"
    },
    {
     "data": {
      "text/plain": [
       "0      0.0108\n",
       "1      0.0763\n",
       "2      0.0455\n",
       "3      0.0108\n",
       "4      0.0455\n",
       "        ...  \n",
       "495    0.1152\n",
       "496    0.1124\n",
       "497    0.1257\n",
       "498    0.0682\n",
       "499    0.1241\n",
       "Name: 1887, Length: 500, dtype: float64"
      ]
     },
     "metadata": {},
     "output_type": "display_data"
    },
    {
     "data": {
      "text/plain": [
       "0      0.6279\n",
       "1         NaN\n",
       "2      0.7255\n",
       "3      0.6477\n",
       "4      0.6667\n",
       "        ...  \n",
       "495       NaN\n",
       "496       NaN\n",
       "497       NaN\n",
       "498       NaN\n",
       "499       NaN\n",
       "Name: 1888, Length: 500, dtype: float64"
      ]
     },
     "metadata": {},
     "output_type": "display_data"
    },
    {
     "data": {
      "text/plain": [
       "0      0.0024\n",
       "1      0.0132\n",
       "2      0.0151\n",
       "3      0.0201\n",
       "4      0.0201\n",
       "        ...  \n",
       "495    0.0531\n",
       "496    0.0588\n",
       "497    0.0569\n",
       "498    0.0618\n",
       "499    0.0574\n",
       "Name: 1889, Length: 500, dtype: float64"
      ]
     },
     "metadata": {},
     "output_type": "display_data"
    },
    {
     "data": {
      "text/plain": [
       "0      0.9661\n",
       "1      1.0000\n",
       "2      0.9167\n",
       "3      0.9677\n",
       "4      0.9271\n",
       "        ...  \n",
       "495    0.9129\n",
       "496    0.9559\n",
       "497    0.9289\n",
       "498    0.9344\n",
       "499    0.9179\n",
       "Name: 1890, Length: 500, dtype: float64"
      ]
     },
     "metadata": {},
     "output_type": "display_data"
    },
    {
     "data": {
      "text/plain": [
       "0      0.9010\n",
       "1      0.9565\n",
       "2      0.9634\n",
       "3      0.9714\n",
       "4      0.9167\n",
       "        ...  \n",
       "495    0.7604\n",
       "496    0.8506\n",
       "497    0.8475\n",
       "498    0.8500\n",
       "499    0.8935\n",
       "Name: 1891, Length: 500, dtype: float64"
      ]
     },
     "metadata": {},
     "output_type": "display_data"
    },
    {
     "data": {
      "text/plain": [
       "0      0.1030\n",
       "1      0.1228\n",
       "2      0.1429\n",
       "3      0.0163\n",
       "4      0.1897\n",
       "        ...  \n",
       "495    0.3125\n",
       "496    0.4685\n",
       "497    0.5323\n",
       "498    0.6611\n",
       "499    0.6059\n",
       "Name: 1892, Length: 500, dtype: float64"
      ]
     },
     "metadata": {},
     "output_type": "display_data"
    },
    {
     "data": {
      "text/plain": [
       "0      0.0000\n",
       "1      0.0159\n",
       "2      0.0159\n",
       "3      0.0000\n",
       "4      0.0032\n",
       "        ...  \n",
       "495    0.1387\n",
       "496    0.1076\n",
       "497    0.1427\n",
       "498    0.1105\n",
       "499    0.0689\n",
       "Name: 1893, Length: 500, dtype: float64"
      ]
     },
     "metadata": {},
     "output_type": "display_data"
    },
    {
     "data": {
      "text/plain": [
       "0      0.0000\n",
       "1      0.0000\n",
       "2      0.0000\n",
       "3         NaN\n",
       "4         NaN\n",
       "        ...  \n",
       "495    0.0326\n",
       "496    0.0240\n",
       "497    0.0355\n",
       "498    0.0291\n",
       "499    0.0310\n",
       "Name: 1894, Length: 500, dtype: float64"
      ]
     },
     "metadata": {},
     "output_type": "display_data"
    },
    {
     "data": {
      "text/plain": [
       "0      0.0325\n",
       "1      0.0217\n",
       "2      0.0301\n",
       "3      0.0152\n",
       "4      0.0198\n",
       "        ...  \n",
       "495    0.1691\n",
       "496    0.5478\n",
       "497    0.4179\n",
       "498    0.7181\n",
       "499    0.1846\n",
       "Name: 1895, Length: 500, dtype: float64"
      ]
     },
     "metadata": {},
     "output_type": "display_data"
    },
    {
     "data": {
      "text/plain": [
       "0      0.1263\n",
       "1         NaN\n",
       "2      0.1739\n",
       "3      0.1064\n",
       "4         NaN\n",
       "        ...  \n",
       "495    0.4263\n",
       "496    0.2184\n",
       "497    0.5509\n",
       "498    0.2067\n",
       "499    0.4056\n",
       "Name: 1896, Length: 500, dtype: float64"
      ]
     },
     "metadata": {},
     "output_type": "display_data"
    },
    {
     "data": {
      "text/plain": [
       "0      0.0000\n",
       "1      0.0000\n",
       "2      0.0000\n",
       "3      0.0000\n",
       "4      0.0000\n",
       "        ...  \n",
       "495    0.0772\n",
       "496    0.0636\n",
       "497    0.0689\n",
       "498    0.0746\n",
       "499    0.0658\n",
       "Name: 1897, Length: 500, dtype: float64"
      ]
     },
     "metadata": {},
     "output_type": "display_data"
    },
    {
     "data": {
      "text/plain": [
       "0      0.0282\n",
       "1      0.0189\n",
       "2      0.0093\n",
       "3      0.0283\n",
       "4      0.0282\n",
       "        ...  \n",
       "495    0.0602\n",
       "496    0.0486\n",
       "497    0.0710\n",
       "498    0.0504\n",
       "499    0.0495\n",
       "Name: 1898, Length: 500, dtype: float64"
      ]
     },
     "metadata": {},
     "output_type": "display_data"
    },
    {
     "data": {
      "text/plain": [
       "0      0.0000\n",
       "1      0.0147\n",
       "2      0.0180\n",
       "3      0.0483\n",
       "4      0.0331\n",
       "        ...  \n",
       "495    0.0281\n",
       "496    0.0261\n",
       "497    0.0371\n",
       "498    0.0332\n",
       "499    0.0344\n",
       "Name: 1899, Length: 500, dtype: float64"
      ]
     },
     "metadata": {},
     "output_type": "display_data"
    },
    {
     "data": {
      "text/plain": [
       "0      0.0000\n",
       "1         NaN\n",
       "2         NaN\n",
       "3         NaN\n",
       "4      0.0000\n",
       "        ...  \n",
       "495    0.3839\n",
       "496    0.4707\n",
       "497    0.3411\n",
       "498    0.3668\n",
       "499    0.3610\n",
       "Name: 1900, Length: 500, dtype: float64"
      ]
     },
     "metadata": {},
     "output_type": "display_data"
    },
    {
     "data": {
      "text/plain": [
       "0      0.7907\n",
       "1      0.9186\n",
       "2      0.8280\n",
       "3      0.8684\n",
       "4      0.8571\n",
       "        ...  \n",
       "495    0.7591\n",
       "496    0.3796\n",
       "497    0.5608\n",
       "498    0.7796\n",
       "499    0.7829\n",
       "Name: 1901, Length: 500, dtype: float64"
      ]
     },
     "metadata": {},
     "output_type": "display_data"
    },
    {
     "data": {
      "text/plain": [
       "0      0.9459\n",
       "1      0.9070\n",
       "2      0.9333\n",
       "3         NaN\n",
       "4         NaN\n",
       "        ...  \n",
       "495    0.8413\n",
       "496    0.7390\n",
       "497    0.7716\n",
       "498    0.8532\n",
       "499    0.7472\n",
       "Name: 1902, Length: 500, dtype: float64"
      ]
     },
     "metadata": {},
     "output_type": "display_data"
    },
    {
     "data": {
      "text/plain": [
       "0         NaN\n",
       "1         NaN\n",
       "2         NaN\n",
       "3         NaN\n",
       "4         NaN\n",
       "        ...  \n",
       "495    0.8495\n",
       "496    0.8880\n",
       "497    0.7822\n",
       "498    0.8716\n",
       "499    0.8556\n",
       "Name: 1903, Length: 500, dtype: float64"
      ]
     },
     "metadata": {},
     "output_type": "display_data"
    },
    {
     "data": {
      "text/plain": [
       "0      0.0280\n",
       "1      0.0071\n",
       "2      0.0000\n",
       "3      0.0000\n",
       "4      0.0000\n",
       "        ...  \n",
       "495    0.0397\n",
       "496    0.0452\n",
       "497    0.0356\n",
       "498    0.0433\n",
       "499    0.0457\n",
       "Name: 1904, Length: 500, dtype: float64"
      ]
     },
     "metadata": {},
     "output_type": "display_data"
    },
    {
     "data": {
      "text/plain": [
       "0      0.0000\n",
       "1      0.0000\n",
       "2         NaN\n",
       "3      0.0000\n",
       "4      0.0000\n",
       "        ...  \n",
       "495    0.0298\n",
       "496    0.0298\n",
       "497    0.0232\n",
       "498    0.0375\n",
       "499    0.0237\n",
       "Name: 1905, Length: 500, dtype: float64"
      ]
     },
     "metadata": {},
     "output_type": "display_data"
    },
    {
     "data": {
      "text/plain": [
       "0      0.0148\n",
       "1      0.0069\n",
       "2      0.0116\n",
       "3      0.0000\n",
       "4      0.0143\n",
       "        ...  \n",
       "495    0.0496\n",
       "496    0.0692\n",
       "497    0.0481\n",
       "498    0.0419\n",
       "499    0.0424\n",
       "Name: 1906, Length: 500, dtype: float64"
      ]
     },
     "metadata": {},
     "output_type": "display_data"
    },
    {
     "data": {
      "text/plain": [
       "0      0.6931\n",
       "1      0.7654\n",
       "2      0.6593\n",
       "3      0.6859\n",
       "4      0.6441\n",
       "        ...  \n",
       "495    0.6303\n",
       "496    0.6113\n",
       "497    0.7183\n",
       "498    0.6066\n",
       "499    0.5971\n",
       "Name: 1907, Length: 500, dtype: float64"
      ]
     },
     "metadata": {},
     "output_type": "display_data"
    },
    {
     "data": {
      "text/plain": [
       "0      0.0041\n",
       "1      0.0121\n",
       "2      0.0098\n",
       "3      0.0187\n",
       "4      0.0286\n",
       "        ...  \n",
       "495    0.0611\n",
       "496    0.0485\n",
       "497    0.0749\n",
       "498    0.0723\n",
       "499    0.0588\n",
       "Name: 1908, Length: 500, dtype: float64"
      ]
     },
     "metadata": {},
     "output_type": "display_data"
    },
    {
     "data": {
      "text/plain": [
       "0      0.9429\n",
       "1      0.9634\n",
       "2      0.9783\n",
       "3      0.9434\n",
       "4      0.9219\n",
       "        ...  \n",
       "495    0.9143\n",
       "496    0.8603\n",
       "497    0.9141\n",
       "498    0.8607\n",
       "499    0.7669\n",
       "Name: 1909, Length: 500, dtype: float64"
      ]
     },
     "metadata": {},
     "output_type": "display_data"
    },
    {
     "data": {
      "text/plain": [
       "0      0.9459\n",
       "1      0.9649\n",
       "2      1.0000\n",
       "3      0.9468\n",
       "4         NaN\n",
       "        ...  \n",
       "495    0.8864\n",
       "496    0.8474\n",
       "497    0.8167\n",
       "498    0.8688\n",
       "499    0.8363\n",
       "Name: 1910, Length: 500, dtype: float64"
      ]
     },
     "metadata": {},
     "output_type": "display_data"
    },
    {
     "data": {
      "text/plain": [
       "0      0.0000\n",
       "1      0.0000\n",
       "2      0.0000\n",
       "3      0.0000\n",
       "4      0.0000\n",
       "        ...  \n",
       "495    0.0289\n",
       "496    0.0253\n",
       "497    0.0249\n",
       "498    0.0203\n",
       "499    0.0215\n",
       "Name: 1911, Length: 500, dtype: float64"
      ]
     },
     "metadata": {},
     "output_type": "display_data"
    },
    {
     "data": {
      "text/plain": [
       "0      0.0052\n",
       "1      0.0075\n",
       "2      0.0000\n",
       "3      0.0047\n",
       "4      0.0047\n",
       "        ...  \n",
       "495    0.0837\n",
       "496    0.0440\n",
       "497    0.0772\n",
       "498    0.0496\n",
       "499    0.0420\n",
       "Name: 1912, Length: 500, dtype: float64"
      ]
     },
     "metadata": {},
     "output_type": "display_data"
    },
    {
     "data": {
      "text/plain": [
       "0      0.1534\n",
       "1      0.1174\n",
       "2      0.1502\n",
       "3      0.1210\n",
       "4      0.1020\n",
       "        ...  \n",
       "495    0.3707\n",
       "496    0.3628\n",
       "497    0.3410\n",
       "498    0.2170\n",
       "499    0.2450\n",
       "Name: 1913, Length: 500, dtype: float64"
      ]
     },
     "metadata": {},
     "output_type": "display_data"
    },
    {
     "data": {
      "text/plain": [
       "0      0.0175\n",
       "1      0.0214\n",
       "2      0.0163\n",
       "3      0.0000\n",
       "4      0.0217\n",
       "        ...  \n",
       "495    0.0690\n",
       "496    0.0396\n",
       "497    0.0824\n",
       "498    0.0608\n",
       "499    0.0760\n",
       "Name: 1914, Length: 500, dtype: float64"
      ]
     },
     "metadata": {},
     "output_type": "display_data"
    },
    {
     "data": {
      "text/plain": [
       "0      0.0294\n",
       "1      0.0519\n",
       "2      0.0286\n",
       "3      0.0286\n",
       "4      0.0000\n",
       "        ...  \n",
       "495    0.0669\n",
       "496    0.2753\n",
       "497    0.1414\n",
       "498    0.4568\n",
       "499    0.1049\n",
       "Name: 1915, Length: 500, dtype: float64"
      ]
     },
     "metadata": {},
     "output_type": "display_data"
    },
    {
     "data": {
      "text/plain": [
       "0      0.8444\n",
       "1         NaN\n",
       "2      0.8846\n",
       "3         NaN\n",
       "4      0.8444\n",
       "        ...  \n",
       "495       NaN\n",
       "496       NaN\n",
       "497       NaN\n",
       "498       NaN\n",
       "499       NaN\n",
       "Name: 1916, Length: 500, dtype: float64"
      ]
     },
     "metadata": {},
     "output_type": "display_data"
    },
    {
     "data": {
      "text/plain": [
       "0      0.8678\n",
       "1      0.8313\n",
       "2      0.8110\n",
       "3      0.8235\n",
       "4      0.8830\n",
       "        ...  \n",
       "495    0.7524\n",
       "496    0.7235\n",
       "497    0.4392\n",
       "498    0.4392\n",
       "499    0.7202\n",
       "Name: 1917, Length: 500, dtype: float64"
      ]
     },
     "metadata": {},
     "output_type": "display_data"
    },
    {
     "data": {
      "text/plain": [
       "0      0.0875\n",
       "1      0.0533\n",
       "2      0.0833\n",
       "3      0.0961\n",
       "4      0.0533\n",
       "        ...  \n",
       "495    0.2372\n",
       "496    0.3226\n",
       "497    0.2050\n",
       "498    0.1507\n",
       "499    0.2160\n",
       "Name: 1918, Length: 500, dtype: float64"
      ]
     },
     "metadata": {},
     "output_type": "display_data"
    },
    {
     "data": {
      "text/plain": [
       "0      0.0000\n",
       "1      0.0068\n",
       "2      0.0000\n",
       "3      0.0000\n",
       "4      0.0000\n",
       "        ...  \n",
       "495    0.0735\n",
       "496    0.0621\n",
       "497    0.0512\n",
       "498    0.0668\n",
       "499    0.0677\n",
       "Name: 1919, Length: 500, dtype: float64"
      ]
     },
     "metadata": {},
     "output_type": "display_data"
    },
    {
     "data": {
      "text/plain": [
       "0      0.0000\n",
       "1      0.0000\n",
       "2      0.0050\n",
       "3      0.0000\n",
       "4      0.0039\n",
       "        ...  \n",
       "495    0.0337\n",
       "496    0.0389\n",
       "497    0.0448\n",
       "498    0.0338\n",
       "499    0.0278\n",
       "Name: 1920, Length: 500, dtype: float64"
      ]
     },
     "metadata": {},
     "output_type": "display_data"
    },
    {
     "data": {
      "text/plain": [
       "0      0.0000\n",
       "1      0.0052\n",
       "2      0.0037\n",
       "3      0.0000\n",
       "4      0.0037\n",
       "        ...  \n",
       "495    0.0931\n",
       "496    0.0818\n",
       "497    0.0794\n",
       "498    0.1376\n",
       "499    0.1254\n",
       "Name: 1921, Length: 500, dtype: float64"
      ]
     },
     "metadata": {},
     "output_type": "display_data"
    },
    {
     "data": {
      "text/plain": [
       "0      0.0195\n",
       "1      0.0192\n",
       "2      0.0153\n",
       "3      0.0239\n",
       "4      0.0277\n",
       "        ...  \n",
       "495    0.0478\n",
       "496    0.0255\n",
       "497    0.0722\n",
       "498    0.0740\n",
       "499    0.0485\n",
       "Name: 1922, Length: 500, dtype: float64"
      ]
     },
     "metadata": {},
     "output_type": "display_data"
    },
    {
     "data": {
      "text/plain": [
       "0      0.7812\n",
       "1         NaN\n",
       "2      0.7812\n",
       "3      0.8537\n",
       "4      0.7500\n",
       "        ...  \n",
       "495    0.5891\n",
       "496    0.5563\n",
       "497    0.5972\n",
       "498    0.2344\n",
       "499    0.6123\n",
       "Name: 1923, Length: 500, dtype: float64"
      ]
     },
     "metadata": {},
     "output_type": "display_data"
    },
    {
     "data": {
      "text/plain": [
       "0         NaN\n",
       "1         NaN\n",
       "2      0.9697\n",
       "3         NaN\n",
       "4         NaN\n",
       "        ...  \n",
       "495    0.8258\n",
       "496    0.8248\n",
       "497    0.9005\n",
       "498    0.8445\n",
       "499    0.4859\n",
       "Name: 1924, Length: 500, dtype: float64"
      ]
     },
     "metadata": {},
     "output_type": "display_data"
    },
    {
     "data": {
      "text/plain": [
       "0      0.0164\n",
       "1      0.0490\n",
       "2      0.0095\n",
       "3      0.0130\n",
       "4      0.0291\n",
       "        ...  \n",
       "495    0.0725\n",
       "496    0.1216\n",
       "497    0.0740\n",
       "498    0.0663\n",
       "499    0.0862\n",
       "Name: 1925, Length: 500, dtype: float64"
      ]
     },
     "metadata": {},
     "output_type": "display_data"
    },
    {
     "data": {
      "text/plain": [
       "0      0.0000\n",
       "1      0.0129\n",
       "2      0.0029\n",
       "3      0.0000\n",
       "4      0.0129\n",
       "        ...  \n",
       "495    0.0641\n",
       "496    0.0300\n",
       "497    0.0456\n",
       "498    0.0298\n",
       "499    0.0579\n",
       "Name: 1926, Length: 500, dtype: float64"
      ]
     },
     "metadata": {},
     "output_type": "display_data"
    },
    {
     "data": {
      "text/plain": [
       "0      0.0000\n",
       "1      0.0118\n",
       "2      0.0213\n",
       "3      0.0638\n",
       "4      0.0000\n",
       "        ...  \n",
       "495    0.0498\n",
       "496    0.3505\n",
       "497    0.0493\n",
       "498    0.0705\n",
       "499    0.0553\n",
       "Name: 1927, Length: 500, dtype: float64"
      ]
     },
     "metadata": {},
     "output_type": "display_data"
    },
    {
     "data": {
      "text/plain": [
       "0      0.0056\n",
       "1      0.0063\n",
       "2      0.0000\n",
       "3      0.0028\n",
       "4      0.0000\n",
       "        ...  \n",
       "495    0.0483\n",
       "496    0.0345\n",
       "497    0.0334\n",
       "498    0.0312\n",
       "499    0.1008\n",
       "Name: 1928, Length: 500, dtype: float64"
      ]
     },
     "metadata": {},
     "output_type": "display_data"
    },
    {
     "data": {
      "text/plain": [
       "0      0.2333\n",
       "1      0.1373\n",
       "2      0.1304\n",
       "3      0.2222\n",
       "4      0.1304\n",
       "        ...  \n",
       "495    0.2048\n",
       "496    0.2486\n",
       "497    0.2622\n",
       "498    0.3315\n",
       "499    0.2609\n",
       "Name: 1929, Length: 500, dtype: float64"
      ]
     },
     "metadata": {},
     "output_type": "display_data"
    },
    {
     "data": {
      "text/plain": [
       "0      0.0000\n",
       "1      0.0000\n",
       "2      0.0141\n",
       "3      0.0610\n",
       "4      0.0000\n",
       "        ...  \n",
       "495    0.0948\n",
       "496    0.1057\n",
       "497    0.0849\n",
       "498    0.0578\n",
       "499    0.0944\n",
       "Name: 1930, Length: 500, dtype: float64"
      ]
     },
     "metadata": {},
     "output_type": "display_data"
    },
    {
     "data": {
      "text/plain": [
       "0      0.0750\n",
       "1      0.0488\n",
       "2      0.0685\n",
       "3      0.0242\n",
       "4      0.0634\n",
       "        ...  \n",
       "495    0.0955\n",
       "496    0.1876\n",
       "497    0.1471\n",
       "498    0.2494\n",
       "499    0.1201\n",
       "Name: 1931, Length: 500, dtype: float64"
      ]
     },
     "metadata": {},
     "output_type": "display_data"
    },
    {
     "data": {
      "text/plain": [
       "0      0.1753\n",
       "1      0.1498\n",
       "2      0.1279\n",
       "3      0.1825\n",
       "4      0.1825\n",
       "        ...  \n",
       "495    0.2295\n",
       "496    0.2128\n",
       "497    0.2171\n",
       "498    0.1282\n",
       "499    0.1091\n",
       "Name: 1932, Length: 500, dtype: float64"
      ]
     },
     "metadata": {},
     "output_type": "display_data"
    },
    {
     "data": {
      "text/plain": [
       "0      0.0078\n",
       "1      0.0042\n",
       "2      0.0042\n",
       "3      0.0000\n",
       "4      0.0000\n",
       "        ...  \n",
       "495    0.0394\n",
       "496    0.0443\n",
       "497    0.0399\n",
       "498    0.0423\n",
       "499    0.0376\n",
       "Name: 1933, Length: 500, dtype: float64"
      ]
     },
     "metadata": {},
     "output_type": "display_data"
    },
    {
     "data": {
      "text/plain": [
       "0      0.1609\n",
       "1      0.0833\n",
       "2      0.2787\n",
       "3      0.2267\n",
       "4      0.1613\n",
       "        ...  \n",
       "495    0.3773\n",
       "496    0.4119\n",
       "497    0.4092\n",
       "498    0.3614\n",
       "499    0.3300\n",
       "Name: 1934, Length: 500, dtype: float64"
      ]
     },
     "metadata": {},
     "output_type": "display_data"
    },
    {
     "data": {
      "text/plain": [
       "0      0.0065\n",
       "1      0.0000\n",
       "2      0.0000\n",
       "3      0.0047\n",
       "4      0.0000\n",
       "        ...  \n",
       "495    0.0331\n",
       "496    0.0287\n",
       "497    0.0287\n",
       "498    0.0419\n",
       "499    0.0386\n",
       "Name: 1935, Length: 500, dtype: float64"
      ]
     },
     "metadata": {},
     "output_type": "display_data"
    },
    {
     "data": {
      "text/plain": [
       "0      0.0000\n",
       "1      0.0088\n",
       "2      0.0000\n",
       "3      0.0000\n",
       "4      0.0181\n",
       "        ...  \n",
       "495    0.0402\n",
       "496    0.0382\n",
       "497    0.0381\n",
       "498    0.0269\n",
       "499    0.0371\n",
       "Name: 1936, Length: 500, dtype: float64"
      ]
     },
     "metadata": {},
     "output_type": "display_data"
    },
    {
     "data": {
      "text/plain": [
       "0      0.0000\n",
       "1      0.0000\n",
       "2      0.0000\n",
       "3      0.0000\n",
       "4      0.0000\n",
       "        ...  \n",
       "495    0.0490\n",
       "496    0.0428\n",
       "497    0.0491\n",
       "498    0.0623\n",
       "499    0.0477\n",
       "Name: 1937, Length: 500, dtype: float64"
      ]
     },
     "metadata": {},
     "output_type": "display_data"
    },
    {
     "data": {
      "text/plain": [
       "0      0.0109\n",
       "1      0.0000\n",
       "2      0.0109\n",
       "3      0.0000\n",
       "4      0.0000\n",
       "        ...  \n",
       "495    0.0314\n",
       "496    0.0491\n",
       "497    0.0421\n",
       "498    0.0392\n",
       "499    0.0290\n",
       "Name: 1938, Length: 500, dtype: float64"
      ]
     },
     "metadata": {},
     "output_type": "display_data"
    },
    {
     "data": {
      "text/plain": [
       "0      0.7658\n",
       "1      0.7009\n",
       "2      0.9239\n",
       "3      0.7658\n",
       "4      0.6627\n",
       "        ...  \n",
       "495    0.5813\n",
       "496    0.3115\n",
       "497    0.7053\n",
       "498    0.4753\n",
       "499    0.3450\n",
       "Name: 1939, Length: 500, dtype: float64"
      ]
     },
     "metadata": {},
     "output_type": "display_data"
    },
    {
     "data": {
      "text/plain": [
       "0      0.0652\n",
       "1      0.2222\n",
       "2      0.0286\n",
       "3      0.0909\n",
       "4      0.0755\n",
       "        ...  \n",
       "495    0.0419\n",
       "496    0.0567\n",
       "497    0.0747\n",
       "498    0.0689\n",
       "499    0.1058\n",
       "Name: 1940, Length: 500, dtype: float64"
      ]
     },
     "metadata": {},
     "output_type": "display_data"
    },
    {
     "data": {
      "text/plain": [
       "0      0.0080\n",
       "1      0.0000\n",
       "2      0.0000\n",
       "3      0.0080\n",
       "4      0.0000\n",
       "        ...  \n",
       "495    0.0201\n",
       "496    0.0216\n",
       "497    0.0235\n",
       "498    0.0242\n",
       "499    0.0214\n",
       "Name: 1941, Length: 500, dtype: float64"
      ]
     },
     "metadata": {},
     "output_type": "display_data"
    },
    {
     "data": {
      "text/plain": [
       "0      0.0000\n",
       "1      0.0056\n",
       "2      0.0000\n",
       "3      0.0000\n",
       "4      0.0000\n",
       "        ...  \n",
       "495    0.0323\n",
       "496    0.0912\n",
       "497    0.0384\n",
       "498    0.0666\n",
       "499    0.0447\n",
       "Name: 1942, Length: 500, dtype: float64"
      ]
     },
     "metadata": {},
     "output_type": "display_data"
    },
    {
     "data": {
      "text/plain": [
       "0      0.0000\n",
       "1      0.0000\n",
       "2      0.0000\n",
       "3      0.0137\n",
       "4      0.0000\n",
       "        ...  \n",
       "495    0.0390\n",
       "496    0.0385\n",
       "497    0.0494\n",
       "498    0.0462\n",
       "499    0.0441\n",
       "Name: 1943, Length: 500, dtype: float64"
      ]
     },
     "metadata": {},
     "output_type": "display_data"
    },
    {
     "data": {
      "text/plain": [
       "0      0.0000\n",
       "1      0.0000\n",
       "2      0.0000\n",
       "3      0.0256\n",
       "4      0.0000\n",
       "        ...  \n",
       "495    0.0330\n",
       "496    0.0519\n",
       "497    0.0312\n",
       "498    0.0233\n",
       "499    0.0356\n",
       "Name: 1944, Length: 500, dtype: float64"
      ]
     },
     "metadata": {},
     "output_type": "display_data"
    },
    {
     "data": {
      "text/plain": [
       "0      0.0000\n",
       "1      0.0000\n",
       "2      0.0175\n",
       "3      0.0000\n",
       "4      0.0175\n",
       "        ...  \n",
       "495    0.0451\n",
       "496    0.0408\n",
       "497    0.0391\n",
       "498    0.0472\n",
       "499    0.0464\n",
       "Name: 1945, Length: 500, dtype: float64"
      ]
     },
     "metadata": {},
     "output_type": "display_data"
    },
    {
     "data": {
      "text/plain": [
       "0      0.0161\n",
       "1         NaN\n",
       "2      0.0612\n",
       "3      0.0909\n",
       "4      0.0286\n",
       "        ...  \n",
       "495    0.1410\n",
       "496    0.1294\n",
       "497    0.0739\n",
       "498    0.0541\n",
       "499    0.0657\n",
       "Name: 1946, Length: 500, dtype: float64"
      ]
     },
     "metadata": {},
     "output_type": "display_data"
    },
    {
     "data": {
      "text/plain": [
       "0      0.0000\n",
       "1      0.0000\n",
       "2      0.0282\n",
       "3      0.0000\n",
       "4      0.0426\n",
       "        ...  \n",
       "495    0.0451\n",
       "496    0.0576\n",
       "497    0.0443\n",
       "498    0.0526\n",
       "499    0.0543\n",
       "Name: 1947, Length: 500, dtype: float64"
      ]
     },
     "metadata": {},
     "output_type": "display_data"
    },
    {
     "data": {
      "text/plain": [
       "0      0.0097\n",
       "1      0.0063\n",
       "2      0.0242\n",
       "3      0.0099\n",
       "4      0.0185\n",
       "        ...  \n",
       "495    0.1518\n",
       "496    0.0880\n",
       "497    0.0915\n",
       "498    0.0826\n",
       "499    0.0800\n",
       "Name: 1948, Length: 500, dtype: float64"
      ]
     },
     "metadata": {},
     "output_type": "display_data"
    },
    {
     "data": {
      "text/plain": [
       "0      0.0282\n",
       "1      0.0282\n",
       "2      0.0043\n",
       "3      0.0046\n",
       "4      0.0000\n",
       "        ...  \n",
       "495    0.0417\n",
       "496    0.0449\n",
       "497    0.0726\n",
       "498    0.0390\n",
       "499    0.0498\n",
       "Name: 1949, Length: 500, dtype: float64"
      ]
     },
     "metadata": {},
     "output_type": "display_data"
    },
    {
     "data": {
      "text/plain": [
       "0      0.1515\n",
       "1      0.1097\n",
       "2      0.1515\n",
       "3      0.1515\n",
       "4      0.1250\n",
       "        ...  \n",
       "495    0.2969\n",
       "496    0.2936\n",
       "497    0.0971\n",
       "498    0.2936\n",
       "499    0.4015\n",
       "Name: 1950, Length: 500, dtype: float64"
      ]
     },
     "metadata": {},
     "output_type": "display_data"
    },
    {
     "data": {
      "text/plain": [
       "0      0.0128\n",
       "1      0.0000\n",
       "2      0.0000\n",
       "3      0.0065\n",
       "4      0.0000\n",
       "        ...  \n",
       "495    0.0456\n",
       "496    0.0856\n",
       "497    0.0456\n",
       "498    0.0430\n",
       "499    0.0344\n",
       "Name: 1951, Length: 500, dtype: float64"
      ]
     },
     "metadata": {},
     "output_type": "display_data"
    },
    {
     "data": {
      "text/plain": [
       "0      0.0000\n",
       "1      0.0000\n",
       "2      0.0000\n",
       "3      0.0000\n",
       "4      0.0000\n",
       "        ...  \n",
       "495    0.5724\n",
       "496    0.1530\n",
       "497    0.0590\n",
       "498    0.4797\n",
       "499    0.1562\n",
       "Name: 1952, Length: 500, dtype: float64"
      ]
     },
     "metadata": {},
     "output_type": "display_data"
    },
    {
     "data": {
      "text/plain": [
       "0      0.0000\n",
       "1      0.0000\n",
       "2      0.0000\n",
       "3      0.0000\n",
       "4      0.0000\n",
       "        ...  \n",
       "495    0.0519\n",
       "496    0.0393\n",
       "497    0.0431\n",
       "498    0.0403\n",
       "499    0.0364\n",
       "Name: 1953, Length: 500, dtype: float64"
      ]
     },
     "metadata": {},
     "output_type": "display_data"
    },
    {
     "data": {
      "text/plain": [
       "0      0.0156\n",
       "1      0.0156\n",
       "2      0.0000\n",
       "3      0.0064\n",
       "4      0.0000\n",
       "        ...  \n",
       "495    0.0241\n",
       "496    0.0349\n",
       "497    0.0340\n",
       "498    0.0469\n",
       "499    0.0325\n",
       "Name: 1954, Length: 500, dtype: float64"
      ]
     },
     "metadata": {},
     "output_type": "display_data"
    },
    {
     "data": {
      "text/plain": [
       "0      0.0000\n",
       "1      0.0000\n",
       "2      0.0000\n",
       "3         NaN\n",
       "4      0.0000\n",
       "        ...  \n",
       "495    0.0468\n",
       "496    0.0432\n",
       "497    0.0410\n",
       "498    0.0445\n",
       "499    0.0612\n",
       "Name: 1955, Length: 500, dtype: float64"
      ]
     },
     "metadata": {},
     "output_type": "display_data"
    },
    {
     "data": {
      "text/plain": [
       "0      0.0111\n",
       "1      0.0000\n",
       "2      0.0066\n",
       "3      0.0000\n",
       "4      0.0000\n",
       "        ...  \n",
       "495    0.0729\n",
       "496    0.1162\n",
       "497    0.1144\n",
       "498    0.0710\n",
       "499    0.1145\n",
       "Name: 1956, Length: 500, dtype: float64"
      ]
     },
     "metadata": {},
     "output_type": "display_data"
    },
    {
     "data": {
      "text/plain": [
       "0      0.0000\n",
       "1      0.0000\n",
       "2      0.0444\n",
       "3      0.0000\n",
       "4      0.0000\n",
       "        ...  \n",
       "495    0.7375\n",
       "496    0.6439\n",
       "497    0.0670\n",
       "498    0.2197\n",
       "499    0.0589\n",
       "Name: 1957, Length: 500, dtype: float64"
      ]
     },
     "metadata": {},
     "output_type": "display_data"
    },
    {
     "data": {
      "text/plain": [
       "0      0.9341\n",
       "1      0.9697\n",
       "2      0.9621\n",
       "3      0.9608\n",
       "4      0.8750\n",
       "        ...  \n",
       "495    0.8438\n",
       "496    0.9196\n",
       "497    0.8782\n",
       "498    0.8061\n",
       "499    0.9147\n",
       "Name: 1958, Length: 500, dtype: float64"
      ]
     },
     "metadata": {},
     "output_type": "display_data"
    },
    {
     "data": {
      "text/plain": [
       "0      0.0000\n",
       "1      0.0000\n",
       "2      0.0000\n",
       "3      0.0000\n",
       "4      0.0000\n",
       "        ...  \n",
       "495    0.0307\n",
       "496    0.0293\n",
       "497    0.0412\n",
       "498    0.0294\n",
       "499    0.0377\n",
       "Name: 1959, Length: 500, dtype: float64"
      ]
     },
     "metadata": {},
     "output_type": "display_data"
    },
    {
     "data": {
      "text/plain": [
       "0      0.8800\n",
       "1      0.8667\n",
       "2      0.8286\n",
       "3      0.9200\n",
       "4      0.8667\n",
       "        ...  \n",
       "495    0.9397\n",
       "496    0.9145\n",
       "497    0.9216\n",
       "498    0.9235\n",
       "499    0.9356\n",
       "Name: 1960, Length: 500, dtype: float64"
      ]
     },
     "metadata": {},
     "output_type": "display_data"
    },
    {
     "data": {
      "text/plain": [
       "0      0.1230\n",
       "1      0.1603\n",
       "2      0.1494\n",
       "3      0.1250\n",
       "4      0.1689\n",
       "        ...  \n",
       "495    0.5782\n",
       "496    0.3118\n",
       "497    0.4151\n",
       "498    0.5598\n",
       "499    0.6939\n",
       "Name: 1961, Length: 500, dtype: float64"
      ]
     },
     "metadata": {},
     "output_type": "display_data"
    },
    {
     "data": {
      "text/plain": [
       "0         NaN\n",
       "1         NaN\n",
       "2         NaN\n",
       "3         NaN\n",
       "4         NaN\n",
       "        ...  \n",
       "495    0.8308\n",
       "496    0.9221\n",
       "497    0.9250\n",
       "498    0.8364\n",
       "499    0.8008\n",
       "Name: 1962, Length: 500, dtype: float64"
      ]
     },
     "metadata": {},
     "output_type": "display_data"
    },
    {
     "data": {
      "text/plain": [
       "0      0.0078\n",
       "1      0.0063\n",
       "2      0.0000\n",
       "3      0.0000\n",
       "4      0.0435\n",
       "        ...  \n",
       "495    0.0761\n",
       "496    0.0357\n",
       "497    0.1573\n",
       "498    0.3998\n",
       "499    0.0522\n",
       "Name: 1963, Length: 500, dtype: float64"
      ]
     },
     "metadata": {},
     "output_type": "display_data"
    },
    {
     "data": {
      "text/plain": [
       "0      0.9706\n",
       "1         NaN\n",
       "2      0.9677\n",
       "3      0.9529\n",
       "4      0.9429\n",
       "        ...  \n",
       "495    0.7616\n",
       "496    0.8566\n",
       "497    0.6812\n",
       "498    0.8161\n",
       "499    0.6714\n",
       "Name: 1964, Length: 500, dtype: float64"
      ]
     },
     "metadata": {},
     "output_type": "display_data"
    },
    {
     "data": {
      "text/plain": [
       "0      0.0000\n",
       "1      0.0000\n",
       "2      0.0000\n",
       "3      0.0000\n",
       "4      0.0000\n",
       "        ...  \n",
       "495    0.0197\n",
       "496    0.0278\n",
       "497    0.0272\n",
       "498    0.0256\n",
       "499    0.0252\n",
       "Name: 1965, Length: 500, dtype: float64"
      ]
     },
     "metadata": {},
     "output_type": "display_data"
    },
    {
     "data": {
      "text/plain": [
       "0      0.0000\n",
       "1      0.0000\n",
       "2      0.0000\n",
       "3      0.0000\n",
       "4      0.0000\n",
       "        ...  \n",
       "495    0.0424\n",
       "496    0.0341\n",
       "497    0.0372\n",
       "498    0.0522\n",
       "499    0.0579\n",
       "Name: 1966, Length: 500, dtype: float64"
      ]
     },
     "metadata": {},
     "output_type": "display_data"
    },
    {
     "data": {
      "text/plain": [
       "0      0.0000\n",
       "1      0.0000\n",
       "2      0.0041\n",
       "3      0.0000\n",
       "4      0.0000\n",
       "        ...  \n",
       "495    0.0312\n",
       "496    0.0293\n",
       "497    0.0258\n",
       "498    0.0228\n",
       "499    0.0261\n",
       "Name: 1967, Length: 500, dtype: float64"
      ]
     },
     "metadata": {},
     "output_type": "display_data"
    },
    {
     "data": {
      "text/plain": [
       "0      0.0132\n",
       "1      0.0000\n",
       "2      0.0000\n",
       "3      0.0000\n",
       "4      0.0000\n",
       "        ...  \n",
       "495    0.0627\n",
       "496    0.0710\n",
       "497    0.0472\n",
       "498    0.0655\n",
       "499    0.0551\n",
       "Name: 1968, Length: 500, dtype: float64"
      ]
     },
     "metadata": {},
     "output_type": "display_data"
    },
    {
     "data": {
      "text/plain": [
       "0         NaN\n",
       "1         NaN\n",
       "2      0.1220\n",
       "3      0.2051\n",
       "4      0.2273\n",
       "        ...  \n",
       "495    0.1304\n",
       "496    0.1246\n",
       "497    0.1465\n",
       "498    0.1769\n",
       "499    0.1005\n",
       "Name: 1969, Length: 500, dtype: float64"
      ]
     },
     "metadata": {},
     "output_type": "display_data"
    },
    {
     "data": {
      "text/plain": [
       "0      0.0000\n",
       "1      0.0116\n",
       "2      0.0000\n",
       "3      0.0000\n",
       "4      0.0000\n",
       "        ...  \n",
       "495    0.0487\n",
       "496    0.0625\n",
       "497    0.0565\n",
       "498    0.0348\n",
       "499    0.0366\n",
       "Name: 1970, Length: 500, dtype: float64"
      ]
     },
     "metadata": {},
     "output_type": "display_data"
    },
    {
     "data": {
      "text/plain": [
       "0      0.0204\n",
       "1      0.0224\n",
       "2      0.0075\n",
       "3      0.0243\n",
       "4      0.0381\n",
       "        ...  \n",
       "495    0.2988\n",
       "496    0.0434\n",
       "497    0.0964\n",
       "498    0.2264\n",
       "499    0.0648\n",
       "Name: 1971, Length: 500, dtype: float64"
      ]
     },
     "metadata": {},
     "output_type": "display_data"
    },
    {
     "data": {
      "text/plain": [
       "0      0.0115\n",
       "1      0.0116\n",
       "2      0.0196\n",
       "3      0.0050\n",
       "4      0.0116\n",
       "        ...  \n",
       "495    0.0205\n",
       "496    0.0296\n",
       "497    0.0213\n",
       "498    0.0193\n",
       "499    0.0182\n",
       "Name: 1972, Length: 500, dtype: float64"
      ]
     },
     "metadata": {},
     "output_type": "display_data"
    },
    {
     "data": {
      "text/plain": [
       "0      0.0440\n",
       "1      0.0423\n",
       "2      0.0625\n",
       "3      0.0423\n",
       "4      0.0698\n",
       "        ...  \n",
       "495    0.0880\n",
       "496    0.0640\n",
       "497    0.0670\n",
       "498    0.0755\n",
       "499    0.0657\n",
       "Name: 1973, Length: 500, dtype: float64"
      ]
     },
     "metadata": {},
     "output_type": "display_data"
    },
    {
     "data": {
      "text/plain": [
       "0      0.0223\n",
       "1      0.0852\n",
       "2      0.0515\n",
       "3      0.0433\n",
       "4      0.0350\n",
       "        ...  \n",
       "495    0.1958\n",
       "496    0.4618\n",
       "497    0.5811\n",
       "498    0.5916\n",
       "499    0.4483\n",
       "Name: 1974, Length: 500, dtype: float64"
      ]
     },
     "metadata": {},
     "output_type": "display_data"
    },
    {
     "data": {
      "text/plain": [
       "0      0.0050\n",
       "1      0.0092\n",
       "2      0.0128\n",
       "3      0.0092\n",
       "4      0.0079\n",
       "        ...  \n",
       "495    0.0406\n",
       "496    0.0653\n",
       "497    0.0868\n",
       "498    0.0396\n",
       "499    0.0715\n",
       "Name: 1975, Length: 500, dtype: float64"
      ]
     },
     "metadata": {},
     "output_type": "display_data"
    },
    {
     "data": {
      "text/plain": [
       "0      0.0336\n",
       "1      0.1111\n",
       "2      0.1579\n",
       "3      0.0963\n",
       "4      0.0828\n",
       "        ...  \n",
       "495    0.7639\n",
       "496    0.5089\n",
       "497    0.3559\n",
       "498    0.3729\n",
       "499    0.4092\n",
       "Name: 1976, Length: 500, dtype: float64"
      ]
     },
     "metadata": {},
     "output_type": "display_data"
    },
    {
     "data": {
      "text/plain": [
       "0      0.0732\n",
       "1      0.0235\n",
       "2      0.0490\n",
       "3      0.0650\n",
       "4      0.0238\n",
       "        ...  \n",
       "495    0.4855\n",
       "496    0.1989\n",
       "497    0.2616\n",
       "498    0.4109\n",
       "499    0.6117\n",
       "Name: 1977, Length: 500, dtype: float64"
      ]
     },
     "metadata": {},
     "output_type": "display_data"
    },
    {
     "data": {
      "text/plain": [
       "0      0.0000\n",
       "1      0.0056\n",
       "2      0.0000\n",
       "3      0.0000\n",
       "4      0.0052\n",
       "        ...  \n",
       "495    0.0414\n",
       "496    0.0382\n",
       "497    0.0363\n",
       "498    0.0368\n",
       "499    0.0305\n",
       "Name: 1978, Length: 500, dtype: float64"
      ]
     },
     "metadata": {},
     "output_type": "display_data"
    },
    {
     "data": {
      "text/plain": [
       "0         NaN\n",
       "1      0.0000\n",
       "2      0.0000\n",
       "3         NaN\n",
       "4      0.0000\n",
       "        ...  \n",
       "495    0.0547\n",
       "496    0.0426\n",
       "497    0.0764\n",
       "498    0.0675\n",
       "499    0.0406\n",
       "Name: 1979, Length: 500, dtype: float64"
      ]
     },
     "metadata": {},
     "output_type": "display_data"
    },
    {
     "data": {
      "text/plain": [
       "0      0.0000\n",
       "1      0.0000\n",
       "2      0.0000\n",
       "3      0.0000\n",
       "4      0.0000\n",
       "        ...  \n",
       "495    0.0305\n",
       "496    0.0312\n",
       "497    0.0370\n",
       "498    0.0418\n",
       "499    0.0269\n",
       "Name: 1980, Length: 500, dtype: float64"
      ]
     },
     "metadata": {},
     "output_type": "display_data"
    },
    {
     "data": {
      "text/plain": [
       "0      0.9318\n",
       "1         NaN\n",
       "2      0.9216\n",
       "3      0.9545\n",
       "4      0.9512\n",
       "        ...  \n",
       "495    0.8927\n",
       "496    0.8927\n",
       "497    0.9457\n",
       "498    0.8124\n",
       "499    0.9080\n",
       "Name: 1981, Length: 500, dtype: float64"
      ]
     },
     "metadata": {},
     "output_type": "display_data"
    },
    {
     "data": {
      "text/plain": [
       "0         NaN\n",
       "1         NaN\n",
       "2         NaN\n",
       "3         NaN\n",
       "4         NaN\n",
       "        ...  \n",
       "495    0.2250\n",
       "496    0.4181\n",
       "497    0.2669\n",
       "498    0.3567\n",
       "499    0.0647\n",
       "Name: 1982, Length: 500, dtype: float64"
      ]
     },
     "metadata": {},
     "output_type": "display_data"
    },
    {
     "data": {
      "text/plain": [
       "0      0.0000\n",
       "1      0.0000\n",
       "2      0.0156\n",
       "3      0.0000\n",
       "4      0.0000\n",
       "        ...  \n",
       "495    0.0570\n",
       "496    0.0561\n",
       "497    0.0558\n",
       "498    0.0600\n",
       "499    0.0518\n",
       "Name: 1983, Length: 500, dtype: float64"
      ]
     },
     "metadata": {},
     "output_type": "display_data"
    },
    {
     "data": {
      "text/plain": [
       "0      0.0000\n",
       "1      0.0221\n",
       "2      0.0000\n",
       "3      0.0000\n",
       "4      0.0476\n",
       "        ...  \n",
       "495    0.0279\n",
       "496    0.0233\n",
       "497    0.0323\n",
       "498    0.0320\n",
       "499    0.0293\n",
       "Name: 1984, Length: 500, dtype: float64"
      ]
     },
     "metadata": {},
     "output_type": "display_data"
    },
    {
     "data": {
      "text/plain": [
       "0      0.9559\n",
       "1      0.8958\n",
       "2      0.9059\n",
       "3      0.8547\n",
       "4      0.9298\n",
       "        ...  \n",
       "495    0.9095\n",
       "496    0.9102\n",
       "497    0.8979\n",
       "498    0.8689\n",
       "499    0.5000\n",
       "Name: 1985, Length: 500, dtype: float64"
      ]
     },
     "metadata": {},
     "output_type": "display_data"
    },
    {
     "data": {
      "text/plain": [
       "0      0.0000\n",
       "1      0.0000\n",
       "2      0.0000\n",
       "3      0.0000\n",
       "4      0.0000\n",
       "        ...  \n",
       "495    0.1211\n",
       "496    0.0527\n",
       "497    0.0703\n",
       "498    0.0393\n",
       "499    0.0444\n",
       "Name: 1986, Length: 500, dtype: float64"
      ]
     },
     "metadata": {},
     "output_type": "display_data"
    },
    {
     "data": {
      "text/plain": [
       "0         NaN\n",
       "1         NaN\n",
       "2      0.1163\n",
       "3      0.1163\n",
       "4      0.0476\n",
       "        ...  \n",
       "495    0.2658\n",
       "496    0.0992\n",
       "497    0.1777\n",
       "498    0.1588\n",
       "499    0.3385\n",
       "Name: 1987, Length: 500, dtype: float64"
      ]
     },
     "metadata": {},
     "output_type": "display_data"
    },
    {
     "data": {
      "text/plain": [
       "0         NaN\n",
       "1         NaN\n",
       "2         NaN\n",
       "3         NaN\n",
       "4         NaN\n",
       "        ...  \n",
       "495    0.8391\n",
       "496    0.8269\n",
       "497    0.7409\n",
       "498    0.6913\n",
       "499    0.8746\n",
       "Name: 1988, Length: 500, dtype: float64"
      ]
     },
     "metadata": {},
     "output_type": "display_data"
    },
    {
     "data": {
      "text/plain": [
       "0      0.0000\n",
       "1      0.0000\n",
       "2      0.0000\n",
       "3      0.0000\n",
       "4         NaN\n",
       "        ...  \n",
       "495    0.0277\n",
       "496    0.0305\n",
       "497    0.0303\n",
       "498    0.0300\n",
       "499    0.0237\n",
       "Name: 1989, Length: 500, dtype: float64"
      ]
     },
     "metadata": {},
     "output_type": "display_data"
    },
    {
     "data": {
      "text/plain": [
       "0      0.6765\n",
       "1      0.7105\n",
       "2         NaN\n",
       "3         NaN\n",
       "4      0.6765\n",
       "        ...  \n",
       "495    0.4699\n",
       "496    0.4163\n",
       "497    0.2490\n",
       "498    0.7581\n",
       "499    0.4237\n",
       "Name: 1990, Length: 500, dtype: float64"
      ]
     },
     "metadata": {},
     "output_type": "display_data"
    },
    {
     "data": {
      "text/plain": [
       "0      0.0031\n",
       "1      0.0000\n",
       "2      0.0083\n",
       "3      0.0106\n",
       "4      0.0000\n",
       "        ...  \n",
       "495    0.0353\n",
       "496    0.0341\n",
       "497    0.0310\n",
       "498    0.0352\n",
       "499    0.0366\n",
       "Name: 1991, Length: 500, dtype: float64"
      ]
     },
     "metadata": {},
     "output_type": "display_data"
    },
    {
     "data": {
      "text/plain": [
       "0         NaN\n",
       "1         NaN\n",
       "2         NaN\n",
       "3         NaN\n",
       "4         NaN\n",
       "        ...  \n",
       "495    0.8832\n",
       "496    0.6307\n",
       "497    0.8617\n",
       "498    0.8681\n",
       "499    0.8660\n",
       "Name: 1992, Length: 500, dtype: float64"
      ]
     },
     "metadata": {},
     "output_type": "display_data"
    },
    {
     "data": {
      "text/plain": [
       "0      0.0000\n",
       "1      0.0000\n",
       "2      0.0000\n",
       "3      0.0000\n",
       "4      0.0000\n",
       "        ...  \n",
       "495    0.0184\n",
       "496    0.0191\n",
       "497    0.0163\n",
       "498    0.0194\n",
       "499    0.0202\n",
       "Name: 1993, Length: 500, dtype: float64"
      ]
     },
     "metadata": {},
     "output_type": "display_data"
    },
    {
     "data": {
      "text/plain": [
       "0      0.1235\n",
       "1      0.0794\n",
       "2      0.0660\n",
       "3      0.0125\n",
       "4      0.0361\n",
       "        ...  \n",
       "495       NaN\n",
       "496       NaN\n",
       "497       NaN\n",
       "498       NaN\n",
       "499       NaN\n",
       "Name: 1994, Length: 500, dtype: float64"
      ]
     },
     "metadata": {},
     "output_type": "display_data"
    },
    {
     "data": {
      "text/plain": [
       "0      0.0000\n",
       "1         NaN\n",
       "2      0.0000\n",
       "3      0.0037\n",
       "4      0.0000\n",
       "        ...  \n",
       "495    0.0259\n",
       "496    0.0246\n",
       "497    0.0310\n",
       "498    0.0270\n",
       "499    0.0325\n",
       "Name: 1995, Length: 500, dtype: float64"
      ]
     },
     "metadata": {},
     "output_type": "display_data"
    },
    {
     "data": {
      "text/plain": [
       "0      0.0035\n",
       "1      0.0000\n",
       "2      0.0000\n",
       "3      0.0000\n",
       "4      0.0000\n",
       "        ...  \n",
       "495    0.0267\n",
       "496    0.0204\n",
       "497    0.0209\n",
       "498    0.0237\n",
       "499    0.0228\n",
       "Name: 1996, Length: 500, dtype: float64"
      ]
     },
     "metadata": {},
     "output_type": "display_data"
    },
    {
     "data": {
      "text/plain": [
       "0      0.0156\n",
       "1      0.0156\n",
       "2         NaN\n",
       "3      0.0000\n",
       "4      0.0000\n",
       "        ...  \n",
       "495    0.0563\n",
       "496    0.0518\n",
       "497    0.0759\n",
       "498    0.0529\n",
       "499    0.0519\n",
       "Name: 1997, Length: 500, dtype: float64"
      ]
     },
     "metadata": {},
     "output_type": "display_data"
    },
    {
     "data": {
      "text/plain": [
       "0      0.0506\n",
       "1      0.0192\n",
       "2      0.0758\n",
       "3      0.0000\n",
       "4      0.1000\n",
       "        ...  \n",
       "495    0.1139\n",
       "496    0.0831\n",
       "497    0.4379\n",
       "498    0.1009\n",
       "499    0.1475\n",
       "Name: 1998, Length: 500, dtype: float64"
      ]
     },
     "metadata": {},
     "output_type": "display_data"
    },
    {
     "data": {
      "text/plain": [
       "0      0.0000\n",
       "1      0.0167\n",
       "2      0.0167\n",
       "3      0.3019\n",
       "4      0.0705\n",
       "        ...  \n",
       "495    0.2436\n",
       "496    0.4135\n",
       "497    0.3301\n",
       "498    0.1630\n",
       "499    0.3057\n",
       "Name: 1999, Length: 500, dtype: float64"
      ]
     },
     "metadata": {},
     "output_type": "display_data"
    },
    {
     "data": {
      "text/plain": [
       "0      0.0064\n",
       "1      0.0110\n",
       "2      0.0110\n",
       "3      0.0376\n",
       "4      0.0238\n",
       "        ...  \n",
       "495    0.1224\n",
       "496    0.1236\n",
       "497    0.0883\n",
       "498    0.0797\n",
       "499    0.1438\n",
       "Name: 2000, Length: 500, dtype: float64"
      ]
     },
     "metadata": {},
     "output_type": "display_data"
    },
    {
     "data": {
      "text/plain": [
       "<__main__.MethyModel at 0x1c1705af580>"
      ]
     },
     "execution_count": 66,
     "metadata": {},
     "output_type": "execute_result"
    }
   ],
   "source": [
    "MethyModel(train1)"
   ]
  }
 ],
 "metadata": {
  "kernelspec": {
   "display_name": "Python 3",
   "language": "python",
   "name": "python3"
  },
  "language_info": {
   "codemirror_mode": {
    "name": "ipython",
    "version": 3
   },
   "file_extension": ".py",
   "mimetype": "text/x-python",
   "name": "python",
   "nbconvert_exporter": "python",
   "pygments_lexer": "ipython3",
   "version": "3.9.13"
  }
 },
 "nbformat": 4,
 "nbformat_minor": 2
}

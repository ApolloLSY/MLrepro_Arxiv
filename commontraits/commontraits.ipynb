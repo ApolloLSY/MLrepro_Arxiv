{
 "cells": [
  {
   "cell_type": "markdown",
   "metadata": {},
   "source": [
    "load data"
   ]
  },
  {
   "cell_type": "code",
   "execution_count": null,
   "metadata": {},
   "outputs": [],
   "source": [
    "from sklearn.linear_model import LassoCV, ElasticNetCV,LogisticRegression,KFold\n",
    "from sklearn.model_selection import cross_val_predict,train_test_split\n",
    "from sklearn.metrics import roc_auc_score, roc_curve, auc\n",
    "import matplotlib.pyplot as plt\n",
    "from sklearn.preprocessing import StandardScalel\n",
    "import numpy as np\n",
    "import pandas as pd\n",
    "from statsmodels.stats.outliers_influence import variance_inflation_factor\n",
    "from statsmodels.api import OrdinalModel, family\n",
    "\n",
    "\n",
    "\n",
    "mdata=pd.read_table(\"D:/000Archive/ResearchProjects/DNAm_predictor/EWASdata/commontraitsmethy.txt\", header=0, delimiter=' ')\n",
    "profile=pd.read_table(\"D:/000Archive/ResearchProjects/DNAm_predictor/EWASdata/commontraitsprofile.txt\", header=0, delimiter=' ')\n"
   ]
  },
  {
   "cell_type": "markdown",
   "metadata": {},
   "source": [
    "Initial Data Cleaning:\n",
    "\n",
    "Outlier Identification: Visual inspection of a plot of log median intensity of methylated versus unmethylated signal was performed to identify outliers, which were then excluded from the analysis.\n",
    "Sample Exclusions: Samples were excluded based on predicted sex mismatch, as determined by DNA methylation data compared to the sex recorded in the database. Additionally, samples were excluded if ≥1% of CpGs had a detection p-value exceeding 0.05.\n",
    "CpG Filtering: Further filtering removed sites with missing values, non-autosomal sites, non-CpG sites, and CpG sites not present on the Illumina 450k array.\n",
    "Background Correction: After background correction, probes were removed if poorly detected (P>0.01) in >5% of samples or of low quality (via manual inspection)(We dont need this step).\n",
    "Sample Removal: Samples were removed if they had a low call rate (P<0.01 for <95% of probes), a poor match between genotype and SNP control probes, or incorrect DNAm-predicted sex.(We dont need this step)"
   ]
  },
  {
   "cell_type": "code",
   "execution_count": null,
   "metadata": {},
   "outputs": [],
   "source": [
    "cpg_columns = mdata.columns[1:]\n",
    "\n",
    "# Create subplots for each CpG column\n",
    "fig, axes = plt.subplots(nrows=len(cpg_columns), ncols=1, figsize=(8, 2 * len(cpg_columns)))\n",
    "\n",
    "# Plot log median intensity for each CpG column\n",
    "for i, cpg_column in enumerate(cpg_columns):\n",
    "    axes[i].boxplot(mdata[cpg_column], vert=False)\n",
    "    axes[i].set_title(cpg_column)\n",
    "\n",
    "plt.tight_layout()\n",
    "plt.show()\n",
    "\n",
    "# Excluding outliers from the analysis based on visual inspection\n",
    "outlier_threshold1 = 10\n",
    "mdata = mdata[mdata[cpg_columns].apply(lambda x: (x <= outlier_threshold1).all(), axis=1)]\n",
    "\n",
    "# Sample Exclusions: Samples excluded if ≥1% of CpGs had a detection p-value exceeding 0.05\n",
    "outlier_threshold2 = mdata[cpg_columns].mean() + 1.96 * mdata[cpg_columns].std() / np.sqrt(len(mdata))\n",
    "columns_to_retain = []\n",
    "for cpg_column in cpg_columns:\n",
    "    num_outliers = (mdata[cpg_column] > outlier_threshold2[cpg_column]).sum()\n",
    "    if num_outliers <= 0.01 * len(mdata):\n",
    "        columns_to_retain.append(cpg_column)\n",
    "mdata = mdata[columns_to_retain]\n",
    "\n",
    "# Remove CpGs with missing values\n",
    "df_cleaned = mdata.dropna(axis=1)\n",
    "\n"
   ]
  },
  {
   "cell_type": "markdown",
   "metadata": {},
   "source": [
    " Tenfold cross-validation was applied and the mixing parameter (alpha) was set to 1 to apply a LASSO penalty"
   ]
  },
  {
   "cell_type": "code",
   "execution_count": null,
   "metadata": {},
   "outputs": [],
   "source": [
    "\n",
    "# dummies and normalization\n",
    "df_cleaned = pd.get_dummies(profile, columns=profile[:,1:], drop_first=True)\n",
    "scaler= StandardScaler()\n",
    "df_cleaned=scaler.fit_transform(df_cleaned[:,1:])\n",
    "\n",
    "\n",
    "num_columns = profile.shape[1]\n",
    "# They processed all the labels into binary categories\n",
    "for i in range(1, num_columns):\n",
    "    X_train = df_cleaned[:,1:]  \n",
    "    y_train = profile[:,i] \n",
    "    X_train, X_test, y_train, y_test = train_test_split(X_train, y_train, test_size=0.2, random_state=100)\n",
    "\n",
    "    model = LassoCV(alphas=[1], cv=10, random_state=42, max_iter=10000)\n",
    "    model.fit(X_train, y_train)\n",
    "\n",
    "\n",
    "    best_lambda_index = np.argmin(model.lambda_path_['val_mean_score'])\n",
    "    best_model_coefs = model.coef_[:, best_lambda_index]\n",
    "\n",
    "\n",
    "    predictions = model.predict(X_test, lamb=model.lambda_path_['lambda_max'])\n",
    "\n",
    "    print(\"Best Model Coefficients:\", best_model_coefs)\n",
    "    print(\"Predictions on Test Set:\", predictions)\n",
    "\n",
    "    auc = roc_auc_score(y_test, predictions )\n",
    "    print(f'AUC: {auc}')\n",
    "    \n",
    "    fpr, tpr, _ = roc_curve(y_test, predictions)\n",
    "    roc_auc = auc(fpr, tpr)\n",
    "    print(f\"ROC AUC: {roc_auc}\")\n",
    "\n",
    "\n",
    "\n",
    "\n",
    "\n",
    "\n",
    "\n",
    "\n"
   ]
  }
 ],
 "metadata": {
  "kernelspec": {
   "display_name": "Python 3",
   "language": "python",
   "name": "python3"
  },
  "language_info": {
   "codemirror_mode": {
    "name": "ipython",
    "version": 3
   },
   "file_extension": ".py",
   "mimetype": "text/x-python",
   "name": "python",
   "nbconvert_exporter": "python",
   "pygments_lexer": "ipython3",
   "version": "3.9.13"
  }
 },
 "nbformat": 4,
 "nbformat_minor": 2
}

{
 "cells": [
  {
   "cell_type": "code",
   "execution_count": 2,
   "metadata": {},
   "outputs": [],
   "source": [
    "\n",
    "import pandas as pd\n",
    "\n",
    "\n",
    "\n",
    "# read matrix\n",
    "with open(\n",
    "    \"/data/LSY/z_preparing_and_parts/commontrait_Erythematosus/GSE59250_series_matrix.txt\", \"r\"\n",
    ") as file:\n",
    "    lines = file.readlines()\n",
    "\n",
    "# find metadata\n",
    "first_empty_line_index = lines.index(\"\\n\")\n",
    "table_begin_index = next(\n",
    "(\n",
    "        i\n",
    "        for i, line in enumerate(lines)\n",
    "        if line.startswith(\"!series_matrix_table_begin\")\n",
    "    ),\n",
    "    None,\n",
    ")\n",
    "end_index = table_begin_index if table_begin_index is not None else len(lines)\n",
    "content_before_table = lines[first_empty_line_index:end_index]\n",
    "\n",
    "\n",
    "# read metadata\n",
    "metadata_lines = [\n",
    "    line.strip()[1:].split(\"\\t\")\n",
    "    for line in content_before_table\n",
    "    if line.startswith(\"!\")\n",
    "]\n",
    "metadata_df = pd.DataFrame(metadata_lines).T\n",
    "\n",
    "\n",
    "metadata_df.columns = metadata_df.iloc[0]\n",
    "metadata_df = metadata_df.drop(0, axis=0)\n",
    "\n",
    "metadata_df.dropna(inplace=True)\n"
   ]
  },
  {
   "cell_type": "code",
   "execution_count": 41,
   "metadata": {},
   "outputs": [],
   "source": [
    "# mask = metadata_df.iloc[:, 7] == '\"Peripheral blood\"'\n",
    "\n",
    "# metadata_df = metadata_df[mask]\n",
    "\n"
   ]
  },
  {
   "cell_type": "code",
   "execution_count": 6,
   "metadata": {},
   "outputs": [
    {
     "name": "stdout",
     "output_type": "stream",
     "text": [
      "['\"disease state: control\"'\n",
      " '\"disease state: Systemic Lupus Erythematosus\"']\n"
     ]
    }
   ],
   "source": [
    "print(metadata_df.iloc[:,10].unique())"
   ]
  },
  {
   "cell_type": "code",
   "execution_count": 7,
   "metadata": {},
   "outputs": [],
   "source": [
    "\n",
    "# find status\n",
    "metadata_df[\"status\"] = metadata_df.iloc[:, 10].apply(\n",
    "    lambda x: 1 if \"Erythematosus\" in x else 0 if \"control\" in x else None\n",
    ")\n",
    "metadata_df = metadata_df.set_index(\"Sample_geo_accession\")"
   ]
  },
  {
   "cell_type": "code",
   "execution_count": 8,
   "metadata": {},
   "outputs": [],
   "source": [
    "\n",
    "metadata_df = metadata_df[\"status\"].apply(pd.to_numeric, errors=\"coerce\")"
   ]
  },
  {
   "cell_type": "code",
   "execution_count": 9,
   "metadata": {},
   "outputs": [
    {
     "name": "stdout",
     "output_type": "stream",
     "text": [
      "Sample_geo_accession\n",
      "\"GSM1431412\"    0\n",
      "\"GSM1431413\"    1\n",
      "\"GSM1431414\"    1\n",
      "\"GSM1431415\"    1\n",
      "\"GSM1431416\"    1\n",
      "               ..\n",
      "\"GSM1431865\"    1\n",
      "\"GSM1431866\"    1\n",
      "\"GSM1431867\"    0\n",
      "\"GSM1431868\"    0\n",
      "\"GSM1431869\"    1\n",
      "Name: status, Length: 434, dtype: int64\n"
     ]
    }
   ],
   "source": [
    "print(metadata_df)"
   ]
  },
  {
   "cell_type": "code",
   "execution_count": 10,
   "metadata": {},
   "outputs": [],
   "source": [
    "\n",
    "\n",
    "# read data\n",
    "data_lines = [line.strip().split() for line in lines if not line.startswith(\"!\")]\n",
    "data_df = pd.DataFrame(data_lines).T\n",
    "\n",
    "data_df.columns = data_df.iloc[0]\n",
    "data_df = data_df.drop(0, axis=0)\n",
    "\n",
    "data_df = data_df.set_index('\"ID_REF\"')\n",
    "data_df = data_df.iloc[:, 1:]\n",
    "data_df.columns = [col.strip('\"') for col in data_df.columns]\n",
    "\n",
    "data_df = data_df.apply(pd.to_numeric, errors=\"coerce\")\n",
    "\n",
    "\n",
    "\n"
   ]
  },
  {
   "cell_type": "code",
   "execution_count": 11,
   "metadata": {},
   "outputs": [
    {
     "name": "stdout",
     "output_type": "stream",
     "text": [
      "              cg00000029  cg00000108  cg00000109  cg00000165  cg00000236  \\\n",
      "\"ID_REF\"                                                                   \n",
      "\"GSM1431412\"    0.497578    0.963640    0.914327    0.249481    0.746413   \n",
      "\"GSM1431413\"    0.571429    0.955141    0.891096    0.210200    0.725640   \n",
      "\"GSM1431414\"    0.503639    0.965829    0.909776    0.229172    0.716118   \n",
      "\"GSM1431415\"    0.451789    0.953644    0.914833    0.254187    0.765189   \n",
      "\"GSM1431416\"    0.489838    0.956569    0.940952    0.231415    0.730905   \n",
      "...                  ...         ...         ...         ...         ...   \n",
      "\"GSM1431865\"    0.721787    0.944998    0.893127    0.286073    0.880319   \n",
      "\"GSM1431866\"    0.761533    0.959776    0.881931    0.284751    0.905025   \n",
      "\"GSM1431867\"    0.728761    0.935058    0.896056    0.353870    0.863559   \n",
      "\"GSM1431868\"    0.717342    0.921975    0.793701    0.279716    0.838519   \n",
      "\"GSM1431869\"    0.832698    0.955981    0.899794    0.386179    0.911444   \n",
      "\n",
      "              cg00000289  cg00000292  cg00000321  cg00000363  cg00000622  ...  \\\n",
      "\"ID_REF\"                                                                  ...   \n",
      "\"GSM1431412\"    0.624958    0.849378    0.298447    0.411014    0.018801  ...   \n",
      "\"GSM1431413\"    0.680726    0.853880    0.396272    0.500385    0.008571  ...   \n",
      "\"GSM1431414\"    0.650066    0.872527    0.450469    0.434186    0.013985  ...   \n",
      "\"GSM1431415\"    0.689928    0.896167    0.322350    0.478696    0.022168  ...   \n",
      "\"GSM1431416\"    0.720793    0.866551    0.349781    0.454774    0.018513  ...   \n",
      "...                  ...         ...         ...         ...         ...  ...   \n",
      "\"GSM1431865\"    0.706721    0.923890    0.432669    0.511012    0.013765  ...   \n",
      "\"GSM1431866\"    0.741034    0.896071    0.408103    0.534077    0.016507  ...   \n",
      "\"GSM1431867\"    0.666477    0.901325    0.492507    0.564482    0.012322  ...   \n",
      "\"GSM1431868\"    0.542744    0.915042    0.454478    0.657284    0.010387  ...   \n",
      "\"GSM1431869\"    0.758869    0.950978    0.489819    0.741314    0.019474  ...   \n",
      "\n",
      "              rs7746156  rs798149  rs845016  rs877309  rs9292570  rs9363764  \\\n",
      "\"ID_REF\"                                                                      \n",
      "\"GSM1431412\"        NaN       NaN       NaN       NaN        NaN        NaN   \n",
      "\"GSM1431413\"        NaN       NaN       NaN       NaN        NaN        NaN   \n",
      "\"GSM1431414\"        NaN       NaN       NaN       NaN        NaN        NaN   \n",
      "\"GSM1431415\"        NaN       NaN       NaN       NaN        NaN        NaN   \n",
      "\"GSM1431416\"        NaN       NaN       NaN       NaN        NaN        NaN   \n",
      "...                 ...       ...       ...       ...        ...        ...   \n",
      "\"GSM1431865\"        NaN       NaN       NaN       NaN        NaN        NaN   \n",
      "\"GSM1431866\"        NaN       NaN       NaN       NaN        NaN        NaN   \n",
      "\"GSM1431867\"        NaN       NaN       NaN       NaN        NaN        NaN   \n",
      "\"GSM1431868\"        NaN       NaN       NaN       NaN        NaN        NaN   \n",
      "\"GSM1431869\"        NaN       NaN       NaN       NaN        NaN        NaN   \n",
      "\n",
      "              rs939290  rs951295  rs966367  rs9839873  \n",
      "\"ID_REF\"                                               \n",
      "\"GSM1431412\"       NaN       NaN       NaN        NaN  \n",
      "\"GSM1431413\"       NaN       NaN       NaN        NaN  \n",
      "\"GSM1431414\"       NaN       NaN       NaN        NaN  \n",
      "\"GSM1431415\"       NaN       NaN       NaN        NaN  \n",
      "\"GSM1431416\"       NaN       NaN       NaN        NaN  \n",
      "...                ...       ...       ...        ...  \n",
      "\"GSM1431865\"       NaN       NaN       NaN        NaN  \n",
      "\"GSM1431866\"       NaN       NaN       NaN        NaN  \n",
      "\"GSM1431867\"       NaN       NaN       NaN        NaN  \n",
      "\"GSM1431868\"       NaN       NaN       NaN        NaN  \n",
      "\"GSM1431869\"       NaN       NaN       NaN        NaN  \n",
      "\n",
      "[434 rows x 485577 columns]\n"
     ]
    }
   ],
   "source": [
    "print(data_df)"
   ]
  },
  {
   "cell_type": "code",
   "execution_count": 9,
   "metadata": {},
   "outputs": [],
   "source": [
    "\n",
    "def m_to_beta(M):\n",
    "    return 1 / (1 + 2 ** (-M))\n"
   ]
  },
  {
   "cell_type": "code",
   "execution_count": 10,
   "metadata": {},
   "outputs": [],
   "source": [
    "# data_df = data_df.apply(m_to_beta)"
   ]
  },
  {
   "cell_type": "code",
   "execution_count": 12,
   "metadata": {},
   "outputs": [],
   "source": [
    "\n",
    "# merge metadata and data\n",
    "data_df[\"status\"] = metadata_df\n",
    "# drop other disease sample\n",
    "data_df.dropna(subset=[\"status\"], inplace=True)"
   ]
  },
  {
   "cell_type": "code",
   "execution_count": 13,
   "metadata": {},
   "outputs": [],
   "source": [
    "from sklearn.model_selection import train_test_split\n",
    "train_data, test_data = train_test_split(data_df, test_size=0.2, random_state=42)\n",
    "\n",
    "\n",
    "# save data\n",
    "train_data.to_csv(\n",
    "    \"/data/LSY/z_preparing_and_parts/commontrait_Erythematosus/data_train.txt\",\n",
    "    index=True,\n",
    "    header=True,\n",
    "    sep=\"\\t\",\n",
    ")\n",
    "\n",
    "\n",
    "# save data\n",
    "test_data.to_csv(\n",
    "    \"/data/LSY/z_preparing_and_parts/commontrait_Erythematosus/data_test.txt\",\n",
    "    index=True,\n",
    "    header=True,\n",
    "    sep=\"\\t\",\n",
    ")\n"
   ]
  }
 ],
 "metadata": {
  "kernelspec": {
   "display_name": "base",
   "language": "python",
   "name": "python3"
  },
  "language_info": {
   "codemirror_mode": {
    "name": "ipython",
    "version": 3
   },
   "file_extension": ".py",
   "mimetype": "text/x-python",
   "name": "python",
   "nbconvert_exporter": "python",
   "pygments_lexer": "ipython3",
   "version": "3.10.12"
  }
 },
 "nbformat": 4,
 "nbformat_minor": 2
}

{
 "cells": [
  {
   "cell_type": "code",
   "execution_count": 1,
   "metadata": {},
   "outputs": [],
   "source": [
    "#Siyuan Li\n",
    "#last update: 2024/2/1\n",
    "\n",
    "\n",
    "import pandas as pd\n",
    "import os"
   ]
  },
  {
   "cell_type": "code",
   "execution_count": 2,
   "metadata": {},
   "outputs": [
    {
     "name": "stderr",
     "output_type": "stream",
     "text": [
      "/tmp/ipykernel_47992/4173742459.py:1: DtypeWarning: Columns (4,5,7,12,25,26,30,33,35,39,40,49,51,55,74,86,94,100) have mixed types. Specify dtype option on import or set low_memory=False.\n",
      "  df = pd.read_csv(\"/data/Clockbase/Methylation/sample_disease.txt\",sep=\" \", header=0)\n"
     ]
    },
    {
     "data": {
      "text/html": [
       "<div>\n",
       "<style scoped>\n",
       "    .dataframe tbody tr th:only-of-type {\n",
       "        vertical-align: middle;\n",
       "    }\n",
       "\n",
       "    .dataframe tbody tr th {\n",
       "        vertical-align: top;\n",
       "    }\n",
       "\n",
       "    .dataframe thead th {\n",
       "        text-align: right;\n",
       "    }\n",
       "</style>\n",
       "<table border=\"1\" class=\"dataframe\">\n",
       "  <thead>\n",
       "    <tr style=\"text-align: right;\">\n",
       "      <th></th>\n",
       "      <th>sample_id</th>\n",
       "      <th>age</th>\n",
       "      <th>braak_stage</th>\n",
       "      <th>disease</th>\n",
       "      <th>project_id</th>\n",
       "      <th>sex</th>\n",
       "      <th>tissue</th>\n",
       "      <th>sample_type</th>\n",
       "      <th>platform</th>\n",
       "    </tr>\n",
       "  </thead>\n",
       "  <tbody>\n",
       "    <tr>\n",
       "      <th>GSM1068826</th>\n",
       "      <td>GSM1068826</td>\n",
       "      <td>88.0</td>\n",
       "      <td>6.0</td>\n",
       "      <td>Alzheimer's disease</td>\n",
       "      <td>GSE43414</td>\n",
       "      <td>F</td>\n",
       "      <td>brain - cerebellum</td>\n",
       "      <td>disease tissue</td>\n",
       "      <td>450K</td>\n",
       "    </tr>\n",
       "    <tr>\n",
       "      <th>GSM1068827</th>\n",
       "      <td>GSM1068827</td>\n",
       "      <td>92.0</td>\n",
       "      <td>3.0</td>\n",
       "      <td>Alzheimer's disease</td>\n",
       "      <td>GSE43414</td>\n",
       "      <td>F</td>\n",
       "      <td>brain - cerebellum</td>\n",
       "      <td>disease tissue</td>\n",
       "      <td>450K</td>\n",
       "    </tr>\n",
       "    <tr>\n",
       "      <th>GSM1068829</th>\n",
       "      <td>GSM1068829</td>\n",
       "      <td>93.0</td>\n",
       "      <td>6.0</td>\n",
       "      <td>Alzheimer's disease</td>\n",
       "      <td>GSE43414</td>\n",
       "      <td>F</td>\n",
       "      <td>brain - cerebellum</td>\n",
       "      <td>disease tissue</td>\n",
       "      <td>450K</td>\n",
       "    </tr>\n",
       "    <tr>\n",
       "      <th>GSM1068832</th>\n",
       "      <td>GSM1068832</td>\n",
       "      <td>96.0</td>\n",
       "      <td>5.0</td>\n",
       "      <td>Alzheimer's disease</td>\n",
       "      <td>GSE43414</td>\n",
       "      <td>F</td>\n",
       "      <td>brain - cerebellum</td>\n",
       "      <td>disease tissue</td>\n",
       "      <td>450K</td>\n",
       "    </tr>\n",
       "    <tr>\n",
       "      <th>GSM1068833</th>\n",
       "      <td>GSM1068833</td>\n",
       "      <td>86.0</td>\n",
       "      <td>6.0</td>\n",
       "      <td>Alzheimer's disease</td>\n",
       "      <td>GSE43414</td>\n",
       "      <td>M</td>\n",
       "      <td>brain - cerebellum</td>\n",
       "      <td>disease tissue</td>\n",
       "      <td>450K</td>\n",
       "    </tr>\n",
       "  </tbody>\n",
       "</table>\n",
       "</div>"
      ],
      "text/plain": [
       "             sample_id   age  braak_stage              disease project_id sex  \\\n",
       "GSM1068826  GSM1068826  88.0          6.0  Alzheimer's disease   GSE43414   F   \n",
       "GSM1068827  GSM1068827  92.0          3.0  Alzheimer's disease   GSE43414   F   \n",
       "GSM1068829  GSM1068829  93.0          6.0  Alzheimer's disease   GSE43414   F   \n",
       "GSM1068832  GSM1068832  96.0          5.0  Alzheimer's disease   GSE43414   F   \n",
       "GSM1068833  GSM1068833  86.0          6.0  Alzheimer's disease   GSE43414   M   \n",
       "\n",
       "                        tissue     sample_type platform  \n",
       "GSM1068826  brain - cerebellum  disease tissue     450K  \n",
       "GSM1068827  brain - cerebellum  disease tissue     450K  \n",
       "GSM1068829  brain - cerebellum  disease tissue     450K  \n",
       "GSM1068832  brain - cerebellum  disease tissue     450K  \n",
       "GSM1068833  brain - cerebellum  disease tissue     450K  "
      ]
     },
     "execution_count": 2,
     "metadata": {},
     "output_type": "execute_result"
    }
   ],
   "source": [
    "df_sample = pd.read_csv(\"/data/Clockbase/Methylation/sample_disease.txt\",sep=\" \", header=0)  \n",
    "result_df = pd.DataFrame()\n",
    "#filter samples with disease label\n",
    "selected_columns = df_sample.columns[df_sample.iloc[0].notna()]\n",
    "result_df = pd.concat([result_df, df_sample[selected_columns]], axis=1)\n",
    "\n",
    "result_df.head()\n"
   ]
  },
  {
   "cell_type": "code",
   "execution_count": 3,
   "metadata": {},
   "outputs": [
    {
     "name": "stdout",
     "output_type": "stream",
     "text": [
      "[\"Alzheimer's disease\" nan 'asthma' 'autism spectrum disorder'\n",
      " 'childhood asthma' \"Crohn's disease\" \"crohn's disease\" 'Down syndrome'\n",
      " \"Graves' disease\" \"Huntington's disease\"\n",
      " 'intellectual disability and congenital anomalies' 'Kabuki syndrome'\n",
      " 'multiple sclerosis' 'nephrogenic rest' 'panic disorder'\n",
      " \"Parkinson's disease\" 'preeclampsia' 'psoriasis' 'respiratory allergy'\n",
      " 'rheumatoid arthritis' 'schizophrenia' 'Silver Russell syndrome'\n",
      " \"Sjogren's syndrome\" 'spina bifida' 'stroke'\n",
      " 'systemic insulin resistance' 'systemic lupus erythematosus'\n",
      " 'systemic sclerosis' 'type 2 diabetes' 'Ulcerative colitis'\n",
      " 'ulcerative colitis']\n",
      "['450K']\n"
     ]
    }
   ],
   "source": [
    "print(result_df['disease'].unique())\n",
    "print(result_df['platform'].unique())"
   ]
  },
  {
   "cell_type": "code",
   "execution_count": 4,
   "metadata": {},
   "outputs": [
    {
     "name": "stdout",
     "output_type": "stream",
     "text": [
      "数据框有 14501 行。\n"
     ]
    }
   ],
   "source": [
    "num_rows = result_df.shape[0]\n",
    "print(\"数据框有\", num_rows, \"行。\")\n"
   ]
  },
  {
   "cell_type": "code",
   "execution_count": 5,
   "metadata": {},
   "outputs": [
    {
     "name": "stdout",
     "output_type": "stream",
     "text": [
      " 'disease' 列中有 9188 行的值是 NaN。\n"
     ]
    }
   ],
   "source": [
    "nan_rows = result_df[result_df['disease'].isna()]\n",
    "num_nan_rows = nan_rows.shape[0]\n",
    "print(\" 'disease' 列中有\", num_nan_rows, \"行的值是 NaN。\")\n"
   ]
  },
  {
   "cell_type": "code",
   "execution_count": 6,
   "metadata": {},
   "outputs": [
    {
     "data": {
      "text/plain": [
       "'\\nresult_df = result_df.dropna(subset=[\\'disease\\'])\\nprint(result_df[\\'disease\\'].unique())\\nnum_rows = result_df.shape[0]\\nprint(\"数据框有\", num_rows, \"行。\")\\n'"
      ]
     },
     "execution_count": 6,
     "metadata": {},
     "output_type": "execute_result"
    }
   ],
   "source": [
    "'''\n",
    "result_df = result_df.dropna(subset=['disease'])\n",
    "print(result_df['disease'].unique())\n",
    "num_rows = result_df.shape[0]\n",
    "print(\"数据框有\", num_rows, \"行。\")\n",
    "'''"
   ]
  },
  {
   "cell_type": "code",
   "execution_count": 7,
   "metadata": {},
   "outputs": [
    {
     "data": {
      "text/html": [
       "<div>\n",
       "<style scoped>\n",
       "    .dataframe tbody tr th:only-of-type {\n",
       "        vertical-align: middle;\n",
       "    }\n",
       "\n",
       "    .dataframe tbody tr th {\n",
       "        vertical-align: top;\n",
       "    }\n",
       "\n",
       "    .dataframe thead th {\n",
       "        text-align: right;\n",
       "    }\n",
       "</style>\n",
       "<table border=\"1\" class=\"dataframe\">\n",
       "  <thead>\n",
       "    <tr style=\"text-align: right;\">\n",
       "      <th></th>\n",
       "      <th>sample_id</th>\n",
       "      <th>age</th>\n",
       "      <th>braak_stage</th>\n",
       "      <th>disease</th>\n",
       "      <th>project_id</th>\n",
       "      <th>sex</th>\n",
       "      <th>tissue</th>\n",
       "      <th>sample_type</th>\n",
       "      <th>platform</th>\n",
       "    </tr>\n",
       "  </thead>\n",
       "  <tbody>\n",
       "    <tr>\n",
       "      <th>GSM1068826</th>\n",
       "      <td>GSM1068826</td>\n",
       "      <td>88.0</td>\n",
       "      <td>6.0</td>\n",
       "      <td>Alzheimer's disease</td>\n",
       "      <td>GSE43414</td>\n",
       "      <td>F</td>\n",
       "      <td>brain - cerebellum</td>\n",
       "      <td>disease tissue</td>\n",
       "      <td>450K</td>\n",
       "    </tr>\n",
       "    <tr>\n",
       "      <th>GSM1068827</th>\n",
       "      <td>GSM1068827</td>\n",
       "      <td>92.0</td>\n",
       "      <td>3.0</td>\n",
       "      <td>Alzheimer's disease</td>\n",
       "      <td>GSE43414</td>\n",
       "      <td>F</td>\n",
       "      <td>brain - cerebellum</td>\n",
       "      <td>disease tissue</td>\n",
       "      <td>450K</td>\n",
       "    </tr>\n",
       "    <tr>\n",
       "      <th>GSM1068829</th>\n",
       "      <td>GSM1068829</td>\n",
       "      <td>93.0</td>\n",
       "      <td>6.0</td>\n",
       "      <td>Alzheimer's disease</td>\n",
       "      <td>GSE43414</td>\n",
       "      <td>F</td>\n",
       "      <td>brain - cerebellum</td>\n",
       "      <td>disease tissue</td>\n",
       "      <td>450K</td>\n",
       "    </tr>\n",
       "    <tr>\n",
       "      <th>GSM1068832</th>\n",
       "      <td>GSM1068832</td>\n",
       "      <td>96.0</td>\n",
       "      <td>5.0</td>\n",
       "      <td>Alzheimer's disease</td>\n",
       "      <td>GSE43414</td>\n",
       "      <td>F</td>\n",
       "      <td>brain - cerebellum</td>\n",
       "      <td>disease tissue</td>\n",
       "      <td>450K</td>\n",
       "    </tr>\n",
       "    <tr>\n",
       "      <th>GSM1068833</th>\n",
       "      <td>GSM1068833</td>\n",
       "      <td>86.0</td>\n",
       "      <td>6.0</td>\n",
       "      <td>Alzheimer's disease</td>\n",
       "      <td>GSE43414</td>\n",
       "      <td>M</td>\n",
       "      <td>brain - cerebellum</td>\n",
       "      <td>disease tissue</td>\n",
       "      <td>450K</td>\n",
       "    </tr>\n",
       "  </tbody>\n",
       "</table>\n",
       "</div>"
      ],
      "text/plain": [
       "             sample_id   age  braak_stage              disease project_id sex  \\\n",
       "GSM1068826  GSM1068826  88.0          6.0  Alzheimer's disease   GSE43414   F   \n",
       "GSM1068827  GSM1068827  92.0          3.0  Alzheimer's disease   GSE43414   F   \n",
       "GSM1068829  GSM1068829  93.0          6.0  Alzheimer's disease   GSE43414   F   \n",
       "GSM1068832  GSM1068832  96.0          5.0  Alzheimer's disease   GSE43414   F   \n",
       "GSM1068833  GSM1068833  86.0          6.0  Alzheimer's disease   GSE43414   M   \n",
       "\n",
       "                        tissue     sample_type platform  \n",
       "GSM1068826  brain - cerebellum  disease tissue     450K  \n",
       "GSM1068827  brain - cerebellum  disease tissue     450K  \n",
       "GSM1068829  brain - cerebellum  disease tissue     450K  \n",
       "GSM1068832  brain - cerebellum  disease tissue     450K  \n",
       "GSM1068833  brain - cerebellum  disease tissue     450K  "
      ]
     },
     "execution_count": 7,
     "metadata": {},
     "output_type": "execute_result"
    }
   ],
   "source": [
    "result_df.head()"
   ]
  },
  {
   "cell_type": "code",
   "execution_count": 8,
   "metadata": {},
   "outputs": [],
   "source": [
    "#df2 = pd.read_csv(\"/data/Clockbase/Methylation/disease/GSE43414.csv.gz\",compression='gzip')  \n",
    "#df2.head()\n"
   ]
  },
  {
   "cell_type": "code",
   "execution_count": 9,
   "metadata": {},
   "outputs": [],
   "source": [
    "#df2t=df2.transpose()\n",
    "#df2t.head()"
   ]
  },
  {
   "cell_type": "code",
   "execution_count": 10,
   "metadata": {},
   "outputs": [],
   "source": [
    "#print(df2t.index)"
   ]
  },
  {
   "cell_type": "code",
   "execution_count": null,
   "metadata": {},
   "outputs": [],
   "source": []
  },
  {
   "cell_type": "code",
   "execution_count": 11,
   "metadata": {},
   "outputs": [],
   "source": [
    "pd.set_option('display.max_rows', 100)\n",
    "pd.set_option('display.max_columns', 100)"
   ]
  },
  {
   "cell_type": "code",
   "execution_count": 12,
   "metadata": {},
   "outputs": [
    {
     "name": "stdout",
     "output_type": "stream",
     "text": [
      "[\"Alzheimer's disease\" nan 'asthma' 'autism spectrum disorder'\n",
      " 'childhood asthma' \"Crohn's disease\" \"crohn's disease\" 'Down syndrome'\n",
      " \"Graves' disease\" \"Huntington's disease\"\n",
      " 'intellectual disability and congenital anomalies' 'Kabuki syndrome'\n",
      " 'multiple sclerosis' 'nephrogenic rest' 'panic disorder'\n",
      " \"Parkinson's disease\" 'preeclampsia' 'psoriasis' 'respiratory allergy'\n",
      " 'rheumatoid arthritis' 'schizophrenia' 'Silver Russell syndrome'\n",
      " \"Sjogren's syndrome\" 'spina bifida' 'stroke'\n",
      " 'systemic insulin resistance' 'systemic lupus erythematosus'\n",
      " 'systemic sclerosis' 'type 2 diabetes' 'Ulcerative colitis'\n",
      " 'ulcerative colitis']\n"
     ]
    }
   ],
   "source": [
    "unique_disease = result_df['disease'].unique()\n",
    "print(unique_disease)"
   ]
  },
  {
   "cell_type": "code",
   "execution_count": 13,
   "metadata": {},
   "outputs": [
    {
     "name": "stdout",
     "output_type": "stream",
     "text": [
      "在 'disease' 是 'Alzheimer's disease' 的行中，'roject_id' 列有 7 种不同的值：\n",
      "['GSE43414' 'GSE59685' 'GSE72778' 'GSE66351' 'GSE80970' 'GSE79144'\n",
      " 'GSE53740']\n",
      "在 'disease' 是 'asthma' 的行中，'roject_id' 列有 4 种不同的值：\n",
      "['GSE85566' 'GSE104471' 'GSE52074' 'GSE56553']\n",
      "在 'disease' 是 'autism spectrum disorder' 的行中，'roject_id' 列有 1 种不同的值：\n",
      "['GSE50759']\n",
      "在 'disease' 是 'childhood asthma' 的行中，'roject_id' 列有 4 种不同的值：\n",
      "['GSE65163' 'GSE104087' 'GSE109446' 'GSE40576']\n",
      "在 'disease' 是 'Crohn's disease' 的行中，'roject_id' 列有 2 种不同的值：\n",
      "['GSE87640' 'GSE87648']\n",
      "在 'disease' 是 'crohn's disease' 的行中，'roject_id' 列有 1 种不同的值：\n",
      "['GSE32148']\n",
      "在 'disease' 是 'Down syndrome' 的行中，'roject_id' 列有 4 种不同的值：\n",
      "['GSE63347' 'GSE73747' 'GSE52588' 'GSE64495']\n",
      "在 'disease' 是 'Graves' disease' 的行中，'roject_id' 列有 1 种不同的值：\n",
      "['GSE71955']\n",
      "在 'disease' 是 'Huntington's disease' 的行中，'roject_id' 列有 1 种不同的值：\n",
      "['GSE72778']\n",
      "在 'disease' 是 'intellectual disability and congenital anomalies' 的行中，'roject_id' 列有 1 种不同的值：\n",
      "['GSE89353']\n",
      "在 'disease' 是 'Kabuki syndrome' 的行中，'roject_id' 列有 2 种不同的值：\n",
      "['GSE97362' 'GSE116300']\n",
      "在 'disease' 是 'multiple sclerosis' 的行中，'roject_id' 列有 4 种不同的值：\n",
      "['GSE40360' 'GSE106648' 'GSE88824' 'GSE43976']\n",
      "在 'disease' 是 'nephrogenic rest' 的行中，'roject_id' 列有 1 种不同的值：\n",
      "['GSE59157']\n",
      "在 'disease' 是 'panic disorder' 的行中，'roject_id' 列有 1 种不同的值：\n",
      "['GSE102468']\n",
      "在 'disease' 是 'Parkinson's disease' 的行中，'roject_id' 列有 5 种不同的值：\n",
      "['GSE57360' 'GSE111223' 'GSE111629' 'GSE72774' 'GSE72776']\n",
      "在 'disease' 是 'preeclampsia' 的行中，'roject_id' 列有 6 种不同的值：\n",
      "['GSE44667' 'GSE100197' 'GSE103253' 'GSE57767' 'GSE73375' 'GSE75196']\n",
      "在 'disease' 是 'psoriasis' 的行中，'roject_id' 列有 3 种不同的值：\n",
      "['GSE63315' 'GSE73894' 'GSE115797']\n",
      "在 'disease' 是 'respiratory allergy' 的行中，'roject_id' 列有 2 种不同的值：\n",
      "['GSE110128' 'GSE73745']\n",
      "在 'disease' 是 'rheumatoid arthritis' 的行中，'roject_id' 列有 2 种不同的值：\n",
      "['GSE111942' 'GSE42861']\n",
      "在 'disease' 是 'schizophrenia' 的行中，'roject_id' 列有 10 种不同的值：\n",
      "['GSE61431' 'GSE89702' 'GSE74193' 'GSE61107' 'GSE61380' 'GSE89705'\n",
      " 'GSE89706' 'GSE84727' 'GSE116378' 'GSE116379']\n",
      "在 'disease' 是 'Silver Russell syndrome' 的行中，'roject_id' 列有 2 种不同的值：\n",
      "['GSE55491' 'GSE104451']\n",
      "在 'disease' 是 'Sjogren's syndrome' 的行中，'roject_id' 列有 1 种不同的值：\n",
      "['GSE75679']\n",
      "在 'disease' 是 'spina bifida' 的行中，'roject_id' 列有 1 种不同的值：\n",
      "['GSE69502']\n",
      "在 'disease' 是 'stroke' 的行中，'roject_id' 列有 2 种不同的值：\n",
      "['GSE66500' 'GSE69138']\n",
      "在 'disease' 是 'systemic insulin resistance' 的行中，'roject_id' 列有 3 种不同的值：\n",
      "['GSE76394' 'GSE76285' 'GSE76398']\n",
      "在 'disease' 是 'systemic lupus erythematosus' 的行中，'roject_id' 列有 3 种不同的值：\n",
      "['GSE59250' 'GSE110607' 'GSE80553']\n",
      "在 'disease' 是 'systemic sclerosis' 的行中，'roject_id' 列有 1 种不同的值：\n",
      "['GSE117929']\n",
      "在 'disease' 是 'type 2 diabetes' 的行中，'roject_id' 列有 2 种不同的值：\n",
      "['GSE58280' 'GSE62003']\n",
      "在 'disease' 是 'Ulcerative colitis' 的行中，'roject_id' 列有 2 种不同的值：\n",
      "['GSE87640' 'GSE87648']\n",
      "在 'disease' 是 'ulcerative colitis' 的行中，'roject_id' 列有 2 种不同的值：\n",
      "['GSE87648' 'GSE32148']\n"
     ]
    },
    {
     "data": {
      "text/plain": [
       "{\"Alzheimer's disease\": ['GSE43414',\n",
       "  'GSE59685',\n",
       "  'GSE72778',\n",
       "  'GSE66351',\n",
       "  'GSE80970',\n",
       "  'GSE79144',\n",
       "  'GSE53740'],\n",
       " 'asthma': ['GSE85566', 'GSE104471', 'GSE52074', 'GSE56553'],\n",
       " 'autism spectrum disorder': ['GSE50759'],\n",
       " 'childhood asthma': ['GSE65163', 'GSE104087', 'GSE109446', 'GSE40576'],\n",
       " \"Crohn's disease\": ['GSE87640', 'GSE87648'],\n",
       " \"crohn's disease\": ['GSE32148'],\n",
       " 'Down syndrome': ['GSE63347', 'GSE73747', 'GSE52588', 'GSE64495'],\n",
       " \"Graves' disease\": ['GSE71955'],\n",
       " \"Huntington's disease\": ['GSE72778'],\n",
       " 'intellectual disability and congenital anomalies': ['GSE89353'],\n",
       " 'Kabuki syndrome': ['GSE97362', 'GSE116300'],\n",
       " 'multiple sclerosis': ['GSE40360', 'GSE106648', 'GSE88824', 'GSE43976'],\n",
       " 'nephrogenic rest': ['GSE59157'],\n",
       " 'panic disorder': ['GSE102468'],\n",
       " \"Parkinson's disease\": ['GSE57360',\n",
       "  'GSE111223',\n",
       "  'GSE111629',\n",
       "  'GSE72774',\n",
       "  'GSE72776'],\n",
       " 'preeclampsia': ['GSE44667',\n",
       "  'GSE100197',\n",
       "  'GSE103253',\n",
       "  'GSE57767',\n",
       "  'GSE73375',\n",
       "  'GSE75196'],\n",
       " 'psoriasis': ['GSE63315', 'GSE73894', 'GSE115797'],\n",
       " 'respiratory allergy': ['GSE110128', 'GSE73745'],\n",
       " 'rheumatoid arthritis': ['GSE111942', 'GSE42861'],\n",
       " 'schizophrenia': ['GSE61431',\n",
       "  'GSE89702',\n",
       "  'GSE74193',\n",
       "  'GSE61107',\n",
       "  'GSE61380',\n",
       "  'GSE89705',\n",
       "  'GSE89706',\n",
       "  'GSE84727',\n",
       "  'GSE116378',\n",
       "  'GSE116379'],\n",
       " 'Silver Russell syndrome': ['GSE55491', 'GSE104451'],\n",
       " \"Sjogren's syndrome\": ['GSE75679'],\n",
       " 'spina bifida': ['GSE69502'],\n",
       " 'stroke': ['GSE66500', 'GSE69138'],\n",
       " 'systemic insulin resistance': ['GSE76394', 'GSE76285', 'GSE76398'],\n",
       " 'systemic lupus erythematosus': ['GSE59250', 'GSE110607', 'GSE80553'],\n",
       " 'systemic sclerosis': ['GSE117929'],\n",
       " 'type 2 diabetes': ['GSE58280', 'GSE62003'],\n",
       " 'Ulcerative colitis': ['GSE87640', 'GSE87648'],\n",
       " 'ulcerative colitis': ['GSE87648', 'GSE32148']}"
      ]
     },
     "metadata": {},
     "output_type": "display_data"
    }
   ],
   "source": [
    "# find path\n",
    "folder_path = \"/data/Clockbase/Methylation/disease/\"\n",
    "file_names = os.listdir(folder_path)\n",
    "# output_path\n",
    "output_path=\"/data/Clockbase/Methylation/disease_predictor/\"\n",
    "\n",
    "unique_disease = result_df['disease'].unique()\n",
    "disease_gse_dict = {}\n",
    "train_ratio = 0.7\n",
    "# 遍历每个不同的 'project_id'\n",
    "for disease in unique_disease:\n",
    "    \n",
    "    if pd.isna(disease):\n",
    "        continue\n",
    "    \n",
    "    selected_rows1 = result_df.loc[result_df['disease'] == disease]\n",
    "    unique_project_ids = selected_rows1['project_id'].unique()\n",
    "    print(f\"在 'disease' 是 '{disease}' 的行中，'roject_id' 列有 {len(unique_project_ids)} 种不同的值：\")\n",
    "    print(unique_project_ids)\n",
    "    \n",
    "    disease_gse_dict[disease] = list(unique_project_ids)\n",
    "display(disease_gse_dict)\n"
   ]
  },
  {
   "cell_type": "code",
   "execution_count": null,
   "metadata": {},
   "outputs": [],
   "source": [
    "for disease in unique_disease:\n",
    "  \n",
    "    gse_list = disease_gse_dict[disease]\n",
    "      \n",
    "    if len(gse_list) == 1:\n",
    "        train_set = gse_list\n",
    "        test_set = gse_list #Set it same for now\n",
    "    else:\n",
    "        # Calculate the number of training and testing sets\n",
    "        num_train = max(1, int(len(gse_list) * train_ratio))\n",
    "        num_test = len(gse_list) - num_train\n",
    "        \n",
    "        # Randomly select training and testing sets from all GSE files of the disease\n",
    "        np.random.shuffle(gse_list)\n",
    "        train_set = gse_list[:num_train]\n",
    "        test_set = gse_list[num_train:]\n",
    "\n",
    "    data1 = pd.DataFrame()\n",
    "    # Load training set data\n",
    "    for gse_file in train_set:\n",
    "        file_path = folder_path + gse_file + \".csv.gz\"  \n",
    "        dt = pd.read_csv(file_path,compression='gzip')\n",
    "        dt_trans=dt.transpose()\n",
    "        train_data=pd.concat([data1, dt_trans], axis=0)\n",
    "    train_data_matched = train_data.merge(df_sample, left_index=True, right_on=['disease', 'project_id'])\n",
    "\n",
    "    data2 = pd.DataFrame()\n",
    "    # Load testing set data\n",
    "    for gse_file in test_set:\n",
    "        file_path = folder_path + gse_file + \".csv\"  \n",
    "        dt = pd.read_csv(file_path,compression='gzip')\n",
    "        dt_trans=dt.transpose()\n",
    "        test_data=pd.concat([data2, dt_trans], axis=0)\n",
    "    test_data_matched = test_data.merge(df_sample, left_index=True, right_on=['disease', 'project_id'])"
   ]
  },
  {
   "cell_type": "code",
   "execution_count": 15,
   "metadata": {},
   "outputs": [
    {
     "ename": "",
     "evalue": "",
     "output_type": "error",
     "traceback": [
      "\u001b[1;31mThe Kernel crashed while executing code in the the current cell or a previous cell. Please review the code in the cell(s) to identify a possible cause of the failure. Click <a href='https://aka.ms/vscodeJupyterKernelCrash'>here</a> for more info. View Jupyter <a href='command:jupyter.viewOutput'>log</a> for further details."
     ]
    }
   ],
   "source": [
    "'''\n",
    "    data = pd.DataFrame()\n",
    "    # find GSE files\n",
    "    for unique_project_id in unique_project_ids:\n",
    "\n",
    "        file_path = os.path.join(folder_path, unique_project_id+\".csv.gz\")\n",
    "        # load CpGs data\n",
    "        dfCpGs = pd.read_csv(file_path,compression='gzip')   \n",
    "        dfCpGs_trans=dfCpGs.transpose()\n",
    "        # map CpGs to profile\n",
    "        data = pd.concat([data, dfCpGs_trans], axis=0)\n",
    "\n",
    "    disease_name = disease.replace(\" \", \"_\") + \".csv\"\n",
    "    if not os.path.exists(output_path):\n",
    "        os.makedirs(output_path)\n",
    "    data.to_csv(os.path.join(output_path, disease_name),header=0, float_format='%.4f', index=True)\n",
    "'''"
   ]
  },
  {
   "cell_type": "code",
   "execution_count": null,
   "metadata": {},
   "outputs": [],
   "source": [
    "\n"
   ]
  }
 ],
 "metadata": {
  "kernelspec": {
   "display_name": "myenv",
   "language": "python",
   "name": "python3"
  },
  "language_info": {
   "codemirror_mode": {
    "name": "ipython",
    "version": 3
   },
   "file_extension": ".py",
   "mimetype": "text/x-python",
   "name": "python",
   "nbconvert_exporter": "python",
   "pygments_lexer": "ipython3",
   "version": "3.11.5"
  }
 },
 "nbformat": 4,
 "nbformat_minor": 2
}

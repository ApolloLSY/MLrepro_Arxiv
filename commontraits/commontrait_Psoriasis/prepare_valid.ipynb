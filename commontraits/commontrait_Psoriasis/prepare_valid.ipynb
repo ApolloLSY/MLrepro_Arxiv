{
 "cells": [
  {
   "cell_type": "code",
   "execution_count": 59,
   "metadata": {},
   "outputs": [
    {
     "name": "stdout",
     "output_type": "stream",
     "text": [
      "file unzipped and save at /data/LSY/z_preparing_and_parts/commontrait_Parkinson/GSE72776_series_matrix.txt\n"
     ]
    }
   ],
   "source": [
    "import gzip\n",
    "\n",
    "\n",
    "def unzip(input, output):\n",
    "\n",
    "    input_file = input\n",
    "    output_file = output\n",
    "\n",
    "    with gzip.open(input_file, \"rb\") as f_in:\n",
    "        with open(output_file, \"wb\") as f_out:\n",
    "\n",
    "            f_out.write(f_in.read())\n",
    "\n",
    "    print(\"file unzipped and save at\", output_file)\n",
    "\n",
    "unzip(\"/data/LSY/z_preparing_and_parts/commontrait_Parkinson/GSE72776_datBetaNormalized.csv.gz\",\n",
    "      \"/data/LSY/z_preparing_and_parts/commontrait_Parkinson/GSE72776_series_matrix.txt\")"
   ]
  },
  {
   "cell_type": "code",
   "execution_count": 1,
   "metadata": {},
   "outputs": [],
   "source": [
    "\n",
    "import pandas as pd\n",
    "\n",
    "\n",
    "\n",
    "# read matrix\n",
    "with open(\n",
    "    \"/data/LSY/z_preparing_and_parts/commontrait_Psoriasis/GSE115797_series_matrix.txt\", \"r\"\n",
    ") as file:\n",
    "    lines = file.readlines()\n",
    "\n",
    "# find metadata\n",
    "first_empty_line_index = lines.index(\"\\n\")\n",
    "table_begin_index = next(\n",
    "(\n",
    "        i\n",
    "        for i, line in enumerate(lines)\n",
    "        if line.startswith(\"!series_matrix_table_begin\")\n",
    "    ),\n",
    "    None,\n",
    ")\n",
    "end_index = table_begin_index if table_begin_index is not None else len(lines)\n",
    "content_before_table = lines[first_empty_line_index:end_index]\n",
    "\n",
    "\n",
    "# read metadata\n",
    "metadata_lines = [\n",
    "    line.strip()[1:].split(\"\\t\")\n",
    "    for line in content_before_table\n",
    "    if line.startswith(\"!\")\n",
    "]\n",
    "metadata_df = pd.DataFrame(metadata_lines).T\n",
    "\n",
    "\n",
    "metadata_df.columns = metadata_df.iloc[0]\n",
    "metadata_df = metadata_df.drop(0, axis=0)\n",
    "\n",
    "metadata_df.dropna(inplace=True)\n"
   ]
  },
  {
   "cell_type": "code",
   "execution_count": 41,
   "metadata": {},
   "outputs": [],
   "source": [
    "# mask = metadata_df.iloc[:, 7] == '\"Peripheral blood\"'\n",
    "\n",
    "# metadata_df = metadata_df[mask]\n",
    "\n"
   ]
  },
  {
   "cell_type": "code",
   "execution_count": 2,
   "metadata": {},
   "outputs": [
    {
     "name": "stdout",
     "output_type": "stream",
     "text": [
      "['\"sample type: Adjacent Normal\"' '\"sample type: Psoriasis lesion\"']\n"
     ]
    }
   ],
   "source": [
    "print(metadata_df.iloc[:,13].unique())"
   ]
  },
  {
   "cell_type": "code",
   "execution_count": 3,
   "metadata": {},
   "outputs": [],
   "source": [
    "\n",
    "# find status\n",
    "metadata_df[\"status\"] = metadata_df.iloc[:, 13].apply(\n",
    "    lambda x: 1 if \"Psoriasis\" in x else 0 if \"Normal\" in x else None\n",
    ")\n",
    "metadata_df = metadata_df.set_index(\"Sample_geo_accession\")"
   ]
  },
  {
   "cell_type": "code",
   "execution_count": 4,
   "metadata": {},
   "outputs": [],
   "source": [
    "\n",
    "metadata_df = metadata_df[\"status\"].apply(pd.to_numeric, errors=\"coerce\")"
   ]
  },
  {
   "cell_type": "code",
   "execution_count": 20,
   "metadata": {},
   "outputs": [
    {
     "name": "stdout",
     "output_type": "stream",
     "text": [
      "Sample_geo_accession\n",
      "\"GSM2844230\"    1\n",
      "\"GSM2844231\"    1\n",
      "\"GSM2844232\"    1\n",
      "\"GSM2844233\"    1\n",
      "\"GSM2844234\"    1\n",
      "               ..\n",
      "\"GSM2844550\"    0\n",
      "\"GSM2844551\"    1\n",
      "\"GSM2844552\"    1\n",
      "\"GSM2844553\"    0\n",
      "\"GSM2844554\"    0\n",
      "Name: status, Length: 279, dtype: int64\n"
     ]
    }
   ],
   "source": [
    "print(metadata_df)"
   ]
  },
  {
   "cell_type": "code",
   "execution_count": 5,
   "metadata": {},
   "outputs": [],
   "source": [
    "\n",
    "\n",
    "# read data\n",
    "data_lines = [line.strip().split() for line in lines if not line.startswith(\"!\")]\n",
    "data_df = pd.DataFrame(data_lines).T\n",
    "\n",
    "data_df.columns = data_df.iloc[0]\n",
    "data_df = data_df.drop(0, axis=0)\n",
    "\n",
    "data_df = data_df.set_index('\"ID_REF\"')\n",
    "data_df = data_df.iloc[:, 1:]\n",
    "data_df.columns = [col.strip('\"') for col in data_df.columns]\n",
    "\n",
    "data_df = data_df.apply(pd.to_numeric, errors=\"coerce\")\n",
    "\n",
    "\n",
    "\n"
   ]
  },
  {
   "cell_type": "code",
   "execution_count": 53,
   "metadata": {},
   "outputs": [
    {
     "name": "stdout",
     "output_type": "stream",
     "text": [
      "              cg00000029  cg00000108  cg00000109  cg00000165  cg00000236  \\\n",
      "\"ID_REF\"                                                                   \n",
      "\"GSM1075838\"    0.397935    0.988118    0.927119    0.189417    0.808465   \n",
      "\"GSM1075839\"    0.580355    0.982527    0.965207    0.180387    0.818062   \n",
      "\"GSM1075840\"    0.465099    0.990774    0.915788    0.131453    0.789416   \n",
      "\"GSM1075841\"    0.427220    0.988653    0.916545    0.184444    0.612363   \n",
      "\"GSM1075842\"    0.421505    0.987646    0.976045    0.170827    0.722557   \n",
      "...                  ...         ...         ...         ...         ...   \n",
      "\"GSM1075928\"    0.472226    0.987939    0.884916    0.201347    0.860997   \n",
      "\"GSM1075929\"    0.689183    0.985456    0.811946    0.236332    0.835378   \n",
      "\"GSM1075930\"    0.601118    0.988807    0.965625    0.198946    0.784270   \n",
      "\"GSM1075931\"    0.486073    0.983242    0.959287    0.137911    0.614809   \n",
      "\"GSM1075932\"    0.401654    0.978852    0.912453    0.172783    0.709579   \n",
      "\n",
      "              cg00000289  cg00000292  cg00000321  cg00000363  cg00000622  ...  \\\n",
      "\"ID_REF\"                                                                  ...   \n",
      "\"GSM1075838\"    0.646065    0.929902    0.236871    0.306646    0.017722  ...   \n",
      "\"GSM1075839\"    0.683822    0.918500    0.230108    0.275637    0.015624  ...   \n",
      "\"GSM1075840\"    0.670713    0.919404    0.338281    0.332486    0.015914  ...   \n",
      "\"GSM1075841\"    0.741941    0.865063    0.266767    0.352165    0.016159  ...   \n",
      "\"GSM1075842\"    0.791034    0.854330    0.211419    0.331489    0.021628  ...   \n",
      "...                  ...         ...         ...         ...         ...  ...   \n",
      "\"GSM1075928\"    0.728204    0.919214    0.312205    0.320003    0.016017  ...   \n",
      "\"GSM1075929\"    0.598592    0.962120    0.188674    0.253752    0.020166  ...   \n",
      "\"GSM1075930\"    0.713642    0.886202    0.198515    0.316342    0.021442  ...   \n",
      "\"GSM1075931\"    0.710770    0.826800    0.240975    0.330838    0.013008  ...   \n",
      "\"GSM1075932\"    0.729658    0.870401    0.338794    0.318408    0.015861  ...   \n",
      "\n",
      "              ch.9.945770F  ch.9.96055087R  ch.9.97139671F  ch.9.98463211R  \\\n",
      "\"ID_REF\"                                                                     \n",
      "\"GSM1075838\"      0.020210        0.068881        0.022878        0.004735   \n",
      "\"GSM1075839\"      0.007200        0.104393        0.012464        0.004976   \n",
      "\"GSM1075840\"      0.012624        0.067048        0.016222        0.005436   \n",
      "\"GSM1075841\"      0.008738        0.071147        0.019877        0.004264   \n",
      "\"GSM1075842\"      0.007041        0.072264        0.013056        0.006581   \n",
      "...                    ...             ...             ...             ...   \n",
      "\"GSM1075928\"      0.008231        0.104741        0.018278        0.009393   \n",
      "\"GSM1075929\"      0.011215        0.202078        0.021788        0.009277   \n",
      "\"GSM1075930\"      0.005490        0.030550        0.018506        0.005595   \n",
      "\"GSM1075931\"      0.000258        0.125271        0.013578        0.007716   \n",
      "\"GSM1075932\"      0.007120        0.067893        0.015096        0.007156   \n",
      "\n",
      "              ch.9.98936572R  ch.9.98937537R  ch.9.98957343R  ch.9.98959675F  \\\n",
      "\"ID_REF\"                                                                       \n",
      "\"GSM1075838\"        0.081014        0.008617        0.011755        0.124537   \n",
      "\"GSM1075839\"        0.077362        0.012100        0.017153        0.054062   \n",
      "\"GSM1075840\"        0.052838        0.018239        0.021380        0.097417   \n",
      "\"GSM1075841\"        0.081465        0.016414        0.024438        0.125285   \n",
      "\"GSM1075842\"        0.065917        0.009078        0.011413        0.045042   \n",
      "...                      ...             ...             ...             ...   \n",
      "\"GSM1075928\"        0.069847        0.010076        0.012866        0.087569   \n",
      "\"GSM1075929\"        0.102259        0.010680        0.009628        0.152893   \n",
      "\"GSM1075930\"        0.079328        0.012132        0.011099        0.069406   \n",
      "\"GSM1075931\"        0.082854        0.007559        0.019239        0.037907   \n",
      "\"GSM1075932\"        0.093114        0.012938        0.009316        0.087142   \n",
      "\n",
      "              ch.9.98989607R  ch.9.991104F  \n",
      "\"ID_REF\"                                    \n",
      "\"GSM1075838\"        0.002035      0.062118  \n",
      "\"GSM1075839\"        0.003760      0.103238  \n",
      "\"GSM1075840\"        0.002995      0.054955  \n",
      "\"GSM1075841\"        0.003222      0.051901  \n",
      "\"GSM1075842\"        0.001623      0.029775  \n",
      "...                      ...           ...  \n",
      "\"GSM1075928\"        0.001494      0.083054  \n",
      "\"GSM1075929\"        0.002654      0.156254  \n",
      "\"GSM1075930\"        0.003731      0.056014  \n",
      "\"GSM1075931\"        0.005094      0.029026  \n",
      "\"GSM1075932\"        0.003302      0.056176  \n",
      "\n",
      "[95 rows x 473097 columns]\n"
     ]
    }
   ],
   "source": [
    "print(data_df)"
   ]
  },
  {
   "cell_type": "code",
   "execution_count": 9,
   "metadata": {},
   "outputs": [],
   "source": [
    "\n",
    "def m_to_beta(M):\n",
    "    return 1 / (1 + 2 ** (-M))\n"
   ]
  },
  {
   "cell_type": "code",
   "execution_count": 10,
   "metadata": {},
   "outputs": [],
   "source": [
    "# data_df = data_df.apply(m_to_beta)"
   ]
  },
  {
   "cell_type": "code",
   "execution_count": 6,
   "metadata": {},
   "outputs": [],
   "source": [
    "\n",
    "# merge metadata and data\n",
    "data_df[\"status\"] = metadata_df\n",
    "# drop other disease sample\n",
    "data_df.dropna(subset=[\"status\"], inplace=True)"
   ]
  },
  {
   "cell_type": "code",
   "execution_count": 24,
   "metadata": {},
   "outputs": [],
   "source": [
    "from sklearn.model_selection import train_test_split\n",
    "train_data, test_data = train_test_split(data_df, test_size=0.2, random_state=42)\n",
    "\n",
    "\n",
    "# save data\n",
    "train_data.to_csv(\n",
    "    \"/data/LSY/z_preparing_and_parts/commontrait_Multisclerosis/data_train.txt\",\n",
    "    index=True,\n",
    "    header=True,\n",
    "    sep=\"\\t\",\n",
    ")\n",
    "\n",
    "\n",
    "# save data\n",
    "test_data.to_csv(\n",
    "    \"/data/LSY/z_preparing_and_parts/commontrait_Multisclerosis/data_test.txt\",\n",
    "    index=True,\n",
    "    header=True,\n",
    "    sep=\"\\t\",\n",
    ")\n"
   ]
  },
  {
   "cell_type": "code",
   "execution_count": 7,
   "metadata": {},
   "outputs": [],
   "source": [
    "\n",
    "# save data\n",
    "data_df.to_csv(\n",
    "    \"/data/LSY/z_preparing_and_parts/commontrait_Psoriasis/data_valid.txt\",\n",
    "    index=True,\n",
    "    header=True,\n",
    "    sep=\"\\t\",\n",
    ")\n"
   ]
  }
 ],
 "metadata": {
  "kernelspec": {
   "display_name": "base",
   "language": "python",
   "name": "python3"
  },
  "language_info": {
   "codemirror_mode": {
    "name": "ipython",
    "version": 3
   },
   "file_extension": ".py",
   "mimetype": "text/x-python",
   "name": "python",
   "nbconvert_exporter": "python",
   "pygments_lexer": "ipython3",
   "version": "3.10.12"
  }
 },
 "nbformat": 4,
 "nbformat_minor": 2
}
